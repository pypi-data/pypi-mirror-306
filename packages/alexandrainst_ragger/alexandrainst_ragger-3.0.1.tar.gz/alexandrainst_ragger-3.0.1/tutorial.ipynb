{
 "cells": [
  {
   "cell_type": "code",
   "execution_count": null,
   "id": "0",
   "metadata": {
    "jupyter": {
     "source_hidden": true
    }
   },
   "outputs": [],
   "source": [
    "# Disable logging\n",
    "\n",
    "import logging\n",
    "\n",
    "for logger_name in [\"ragger\", \"sentence_transformers\", \"httpx\"]:\n",
    "    logging.getLogger(logger_name).setLevel(\"CRITICAL\")"
   ]
  },
  {
   "cell_type": "code",
   "execution_count": null,
   "id": "1",
   "metadata": {
    "jupyter": {
     "source_hidden": true
    }
   },
   "outputs": [],
   "source": [
    "# Load environment variables\n",
    "\n",
    "from dotenv import load_dotenv\n",
    "\n",
    "_ = load_dotenv()"
   ]
  },
  {
   "cell_type": "code",
   "execution_count": null,
   "id": "2",
   "metadata": {
    "jupyter": {
     "source_hidden": true
    }
   },
   "outputs": [],
   "source": [
    "# Reset stores\n",
    "\n",
    "from pathlib import Path\n",
    "\n",
    "from ragger.document_store import JsonlDocumentStore, PostgresDocumentStore\n",
    "from ragger.embedding_store import NumpyEmbeddingStore, PostgresEmbeddingStore\n",
    "\n",
    "Path(\"feedback.db\").unlink(missing_ok=True)\n",
    "\n",
    "JsonlDocumentStore().remove()\n",
    "NumpyEmbeddingStore().remove()\n",
    "with PostgresDocumentStore()._connect() as conn:\n",
    "    cursor = conn.cursor()\n",
    "    cursor.execute(\"DROP TABLE IF EXISTS documents\")\n",
    "with PostgresEmbeddingStore()._connect() as conn:\n",
    "    cursor = conn.cursor()\n",
    "    cursor.execute(\"DROP TABLE IF EXISTS embeddings\")"
   ]
  },
  {
   "cell_type": "markdown",
   "id": "3",
   "metadata": {},
   "source": [
    "# Ragger Demo"
   ]
  },
  {
   "cell_type": "markdown",
   "id": "4",
   "metadata": {},
   "source": [
    "## Installation"
   ]
  },
  {
   "cell_type": "markdown",
   "id": "5",
   "metadata": {},
   "source": [
    "Installation with `pip`:"
   ]
  },
  {
   "cell_type": "code",
   "execution_count": null,
   "id": "6",
   "metadata": {},
   "outputs": [],
   "source": [
    "# !pip install \"ragger[postgres]@git+ssh://git@github.com/alexandrainst/ragger.git\""
   ]
  },
  {
   "cell_type": "markdown",
   "id": "7",
   "metadata": {},
   "source": [
    "Installation with `uv`:"
   ]
  },
  {
   "cell_type": "code",
   "execution_count": null,
   "id": "8",
   "metadata": {},
   "outputs": [],
   "source": [
    "# !uv add git+ssh://git@github.com/alexandrainst/ragger.git --extra postgres"
   ]
  },
  {
   "cell_type": "markdown",
   "id": "9",
   "metadata": {},
   "source": [
    "You can replace the `all` extra with any combination of the following, to install only\n",
    "the components you need:\n",
    "\n",
    "- `onprem_cpu`\n",
    "- `onprem_gpu`\n",
    "- `keyword_search`\n",
    "- `postgres`\n",
    "- `demo`\n",
    "\n",
    "For `pip`, this is done by comma-separating the extras (e.g., `ragger[onprem_cpu,demo]`), \n",
    "while for `uv`, you add multiple `--extra` flags (e.g., `--extra onprem_cpu --extra demo`)."
   ]
  },
  {
   "cell_type": "markdown",
   "id": "10",
   "metadata": {},
   "source": [
    "## Quick Start"
   ]
  },
  {
   "cell_type": "markdown",
   "id": "11",
   "metadata": {},
   "source": [
    "Initialise a RAG system with default settings as follows:"
   ]
  },
  {
   "cell_type": "code",
   "execution_count": null,
   "id": "12",
   "metadata": {},
   "outputs": [],
   "source": [
    "from ragger import RagSystem\n",
    "\n",
    "rag_system = RagSystem()\n",
    "rag_system"
   ]
  },
  {
   "cell_type": "markdown",
   "id": "13",
   "metadata": {},
   "source": [
    "Normally we would have an existing document store that we hook up our RAG system to. You can also create your own.\n",
    "\n",
    "For now, we'll just manually add some documents with the `add_documents` method, which also adds the embeddings to the embedding store:"
   ]
  },
  {
   "cell_type": "code",
   "execution_count": null,
   "id": "14",
   "metadata": {},
   "outputs": [],
   "source": [
    "# Can also be a list of dictionaries or a list of `ragger.data_models.Document` objects\n",
    "documents = [\n",
    "    \"København er hovedstaden i Danmark.\",\n",
    "    \"Danmark har 5,8 millioner indbyggere.\",\n",
    "    \"Danmark er medlem af Den Europæiske Union.\",\n",
    "]"
   ]
  },
  {
   "cell_type": "code",
   "execution_count": null,
   "id": "15",
   "metadata": {},
   "outputs": [],
   "source": [
    "rag_system.add_documents(documents)\n",
    "rag_system"
   ]
  },
  {
   "cell_type": "markdown",
   "id": "16",
   "metadata": {},
   "source": [
    "To answer a query we use the `answer` method:"
   ]
  },
  {
   "cell_type": "code",
   "execution_count": null,
   "id": "17",
   "metadata": {},
   "outputs": [],
   "source": [
    "answer, supporting_documents = rag_system.answer(\"Hvor mange bor der i Danmark?\")\n",
    "print(f\"Answer: {answer!r}\")\n",
    "print(f\"Sources: {supporting_documents}\")"
   ]
  },
  {
   "cell_type": "markdown",
   "id": "18",
   "metadata": {},
   "source": [
    "We can also use the convenience method `answer_formatted` to get a HTML-formatted answer with both the answer and sources:"
   ]
  },
  {
   "cell_type": "code",
   "execution_count": null,
   "id": "19",
   "metadata": {},
   "outputs": [],
   "source": [
    "from IPython.display import HTML\n",
    "\n",
    "while True:\n",
    "    query = input(\"Question ('q' to exit): \").lower()\n",
    "    if query == \"q\":\n",
    "        break\n",
    "    answer = rag_system.answer_formatted(query)\n",
    "    display(HTML(answer))"
   ]
  },
  {
   "cell_type": "markdown",
   "id": "20",
   "metadata": {},
   "source": [
    "A working demo can be run using the `Demo` class:"
   ]
  },
  {
   "cell_type": "code",
   "execution_count": null,
   "id": "21",
   "metadata": {},
   "outputs": [],
   "source": [
    "from ragger import Demo\n",
    "\n",
    "demo = Demo(rag_system=rag_system)\n",
    "demo.launch()"
   ]
  },
  {
   "cell_type": "markdown",
   "id": "22",
   "metadata": {},
   "source": [
    "This demo collects thumbs up/down feedback and stores it to a local SQLite database. Furthermore, the demo can be persisted on the Hugging Face Hub by setting the `persistent_sharing_config` in the `Demo` initialisation."
   ]
  },
  {
   "cell_type": "markdown",
   "id": "23",
   "metadata": {},
   "source": [
    "## Batteries Included"
   ]
  },
  {
   "cell_type": "markdown",
   "id": "24",
   "metadata": {},
   "source": [
    "Ragger supports the following components:"
   ]
  },
  {
   "cell_type": "markdown",
   "id": "25",
   "metadata": {},
   "source": [
    "### Document Stores"
   ]
  },
  {
   "cell_type": "markdown",
   "id": "26",
   "metadata": {},
   "source": [
    "These are the databases carrying all the documents. Documents are represented as objects\n",
    "of the `Document` data class, which has an `id` and a `text` field. These can all be\n",
    "imported from `ragger.document_store`.\n",
    "\n",
    "- `JsonlDocumentStore`: A document store that reads from a JSONL file. (default)\n",
    "- `SqliteDocumentStore`: A document store that uses a SQLite database to store documents.\n",
    "- `PostgresDocumentStore`: A document store that uses a PostgreSQL database to store\n",
    "  documents. This assumes that the PostgreSQL server is already running.\n",
    "- `TxtDocumentStore`: A document store that reads documents from a single text file,\n",
    "  separated by newlines."
   ]
  },
  {
   "cell_type": "markdown",
   "id": "27",
   "metadata": {},
   "source": [
    "### Retrievers"
   ]
  },
  {
   "cell_type": "markdown",
   "id": "28",
   "metadata": {},
   "source": [
    "Retrievers are used to retrieve documents from the document store that are relevant to a given query. These can all be imported from `ragger.retriever`.\n",
    "\n",
    "- `EmbeddingRetriever`: A retriever that embeds documents and retrieves them through k-nearest neighbours.\n",
    "\n",
    "  You can choose between the following embedders, via the `embedder` argument:\n",
    "\n",
    "  - `OpenAIEmbedder`: An embedder that uses the OpenAI Embeddings API. (default)\n",
    "  - `E5Embedder`: An embedder that uses an E5 model.\n",
    "\n",
    "  You can choose between the following embedding stores, via the `embedding_store` argument:\n",
    "\n",
    "  - `NumpyEmbeddingStore`: An embedding store that stores embeddings in a NumPy array.\n",
    "  (default)\n",
    "  - `PostgresEmbeddingStore`: An embedding store that uses a PostgreSQL database to store\n",
    "    embeddings, using the `pgvector` extension. This assumes that the PostgreSQL server is\n",
    "    already running, and that the `pgvector` extension is installed. See\n",
    "    [here](https://github.com/pgvector/pgvector?tab=readme-ov-file#installation) for more\n",
    "    information on how to install the extension.\n",
    "\n",
    "- `BM25Retriever`: A retriever that uses the keyword-based BM25 algorithm.\n",
    "- `HybridRetriever`: A retriever that combines several retrievers."
   ]
  },
  {
   "cell_type": "markdown",
   "id": "29",
   "metadata": {},
   "source": [
    "### Generators"
   ]
  },
  {
   "cell_type": "markdown",
   "id": "30",
   "metadata": {},
   "source": [
    "Generators are used to generate answers from the retrieved documents and the question.\n",
    "These can all be imported from `ragger.generator`.\n",
    "\n",
    "- `OpenAIGenerator`: A generator that uses the OpenAI API. (default)\n",
    "- `VllmGenerator`: A generator that uses vLLM to wrap almost any model from the Hugging\n",
    "  Face Hub."
   ]
  },
  {
   "cell_type": "markdown",
   "id": "31",
   "metadata": {},
   "source": [
    "### Using non-default components"
   ]
  },
  {
   "cell_type": "markdown",
   "id": "32",
   "metadata": {},
   "source": [
    "Here is an example where we're using a Postgres server for both the document store and embedding store:"
   ]
  },
  {
   "cell_type": "code",
   "execution_count": null,
   "id": "33",
   "metadata": {},
   "outputs": [],
   "source": [
    "from ragger.document_store import PostgresDocumentStore\n",
    "from ragger.retriever import EmbeddingRetriever\n",
    "from ragger.embedding_store import PostgresEmbeddingStore"
   ]
  },
  {
   "cell_type": "code",
   "execution_count": null,
   "id": "34",
   "metadata": {},
   "outputs": [],
   "source": [
    "postgres_rag_system = RagSystem(\n",
    "    document_store=PostgresDocumentStore(), \n",
    "    retriever=EmbeddingRetriever(\n",
    "        embedding_store=PostgresEmbeddingStore()\n",
    "    ),\n",
    ")\n",
    "postgres_rag_system.add_documents(documents)"
   ]
  },
  {
   "cell_type": "code",
   "execution_count": null,
   "id": "35",
   "metadata": {},
   "outputs": [],
   "source": [
    "answer, supporting_documents = postgres_rag_system.answer(\n",
    "    \"Hvad er hovedstaden i Danmark?\"\n",
    ")\n",
    "print(f\"Answer: {answer!r}\")\n",
    "print(f\"Sources: {supporting_documents}\")"
   ]
  },
  {
   "cell_type": "markdown",
   "id": "36",
   "metadata": {},
   "source": [
    "## Hackable"
   ]
  },
  {
   "cell_type": "markdown",
   "id": "37",
   "metadata": {},
   "source": [
    "You can also create custom components by subclassing the following classes:\n",
    "\n",
    "- `DocumentStore`\n",
    "- `Retriever` (and by extension, also `Embedder` and `EmbeddingStore`)\n",
    "- `Generator`\n",
    "\n",
    "These can then simply be added to a `RagSystem`. Here is a minimal example:"
   ]
  },
  {
   "cell_type": "code",
   "execution_count": null,
   "id": "38",
   "metadata": {},
   "outputs": [],
   "source": [
    "import typing\n",
    "\n",
    "from ragger import Document, DocumentStore, Index\n",
    "\n",
    "\n",
    "class InMemoryDocumentStore(DocumentStore):\n",
    "    \"\"\"A document store that just keeps all documents in memory.\"\"\"\n",
    "\n",
    "    def __init__(self, documents: list[str]):\n",
    "        self.documents = [\n",
    "            Document(id=str(i), text=text) for i, text in enumerate(documents)\n",
    "        ]\n",
    "\n",
    "    def add_documents(self, documents: typing.Iterable[Document]):\n",
    "        self.documents.extend(documents)\n",
    "\n",
    "    def remove(self):\n",
    "        self.documents = []\n",
    "\n",
    "    def __getitem__(self, index: Index) -> str:\n",
    "        return self.documents[int(index)]\n",
    "\n",
    "    def __contains__(self, index: Index) -> bool:\n",
    "        return index in {doc.id for doc in self.documents}\n",
    "\n",
    "    def __iter__(self) -> typing.Generator[Document, None, None]:\n",
    "        yield from self.documents\n",
    "\n",
    "    def __len__(self) -> int:\n",
    "        return len(self.documents)\n",
    "\n",
    "\n",
    "document_store = InMemoryDocumentStore(documents=documents)\n",
    "document_store"
   ]
  },
  {
   "cell_type": "code",
   "execution_count": null,
   "id": "39",
   "metadata": {},
   "outputs": [],
   "source": [
    "in_memory_rag_system = RagSystem(document_store=document_store)\n",
    "in_memory_rag_system"
   ]
  },
  {
   "cell_type": "code",
   "execution_count": null,
   "id": "40",
   "metadata": {},
   "outputs": [],
   "source": [
    "answer, supporting_documents = in_memory_rag_system.answer(\"Hvad er hovedstaden i Danmark?\")\n",
    "print(f\"Answer: {answer!r}\")\n",
    "print(f\"Sources: {supporting_documents}\")"
   ]
  }
 ],
 "metadata": {
  "kernelspec": {
   "display_name": "Python 3 (ipykernel)",
   "language": "python",
   "name": "python3"
  },
  "language_info": {
   "codemirror_mode": {
    "name": "ipython",
    "version": 3
   },
   "file_extension": ".py",
   "mimetype": "text/x-python",
   "name": "python",
   "nbconvert_exporter": "python",
   "pygments_lexer": "ipython3",
   "version": "3.11.9"
  }
 },
 "nbformat": 4,
 "nbformat_minor": 5
}
