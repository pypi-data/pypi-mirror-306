{
 "cells": [
  {
   "cell_type": "markdown",
   "metadata": {},
   "source": [
    "# pyslammer demo: batch simulations\n",
    "This notebook shows an example use case of pyslammer for running batch simulations.\n",
    "## Setup\n",
    "\n",
    "Assumes pyslammer is installed in the current python environment. \n",
    "*Documentation on installation pending*, but for now, you can install it using pip:\n",
    "\n",
    "```bash\n",
    "pip install pyslammer\n",
    "```\n",
    "\n",
    "Import pyslammer using:\n",
    "\n",
    "```python\n",
    "import pyslammer as slam\n",
    "```\n",
    "\n",
    "Additional Python libraries, such as `matplotlib` may also be useful."
   ]
  },
  {
   "cell_type": "code",
   "metadata": {},
   "source": "%matplotlib widget",
   "outputs": [],
   "execution_count": null
  },
  {
   "cell_type": "code",
   "metadata": {},
   "source": [
    "import pyslammer as slam\n",
    "import numpy as np\n",
    "import pandas as pd\n",
    "import matplotlib.pyplot as plt"
   ],
   "outputs": [],
   "execution_count": null
  },
  {
   "cell_type": "code",
   "metadata": {},
   "source": [
    "kys = np.linspace(0.1,0.7,100)\n",
    "histories = slam.sample_ground_motions()\n",
    "output = {}"
   ],
   "outputs": [],
   "execution_count": null
  },
  {
   "cell_type": "markdown",
   "metadata": {},
   "source": [
    "# Single simulation\n",
    "All the sample ground motions that come with pyslammer have now been loaded into `histories` as a dictionary of name:time_history pairs.\n",
    "The cells below print the list of available ground motions and then run a single simulation on one example (`Chi-Chi_1999_TCU068-090`)."
   ]
  },
  {
   "cell_type": "code",
   "metadata": {},
   "source": [
    "motion_options = [print(history) for history in histories.keys()]"
   ],
   "outputs": [],
   "execution_count": null
  },
  {
   "cell_type": "code",
   "metadata": {},
   "source": [
    "# single simulation\n",
    "ky = 0.2\n",
    "motion = \"Imperial_Valley_1979_BCR-230\"\n",
    "\n",
    "single_result = slam.RigidAnalysis(histories[motion].accel, histories[motion].dt, ky)\n",
    "\n",
    "plt.close('all')\n",
    "fig, axs = single_result.sliding_block_plot()\n",
    "plt.show()"
   ],
   "outputs": [],
   "execution_count": null
  },
  {
   "cell_type": "markdown",
   "metadata": {},
   "source": [
    "# Batch Simulations\n",
    "The code below evaluates all combinations of $k_y$ contained in `kys` and every motion in `histories`.\n",
    "Some key features (motion, ky, max displacement, and displacement time histories) are stored in a dictionary, which \n",
    "is then converted to a pandas dataframe."
   ]
  },
  {
   "cell_type": "code",
   "metadata": {},
   "source": [
    "run = 0\n",
    "for ky in kys:\n",
    "    for motion, hist in histories.items():\n",
    "        result = slam.RigidAnalysis(histories[motion].accel, histories[motion].dt, ky)\n",
    "        output[run] = {\"motion\":motion, \"ky\":ky, \"d_max\": result.max_sliding_disp, \"dt\":result.dt, \"disp\": result\n",
    "        .sliding_disp}\n",
    "        run += 1"
   ],
   "outputs": [],
   "execution_count": null
  },
  {
   "metadata": {},
   "cell_type": "markdown",
   "source": ""
  },
  {
   "cell_type": "code",
   "metadata": {},
   "source": [
    "# convert the output to a pandas dataframe\n",
    "df = pd.DataFrame.from_dict(output,orient='index')"
   ],
   "outputs": [],
   "execution_count": null
  },
  {
   "cell_type": "markdown",
   "metadata": {},
   "source": [
    "## Comparing multiple motions\n",
    "The results of the analyses can be plotted to show trends in total accumulated displacement with $k_y$ for each ground motion in the sample ground motion suite."
   ]
  },
  {
   "cell_type": "code",
   "metadata": {},
   "source": [
    "plt.close('all')\n",
    "fig, ax = plt.subplots()\n",
    "fig.set_size_inches(10,6)   \n",
    "for key, grp in df.groupby(['motion']):\n",
    "    ax.scatter(grp[\"ky\"], grp[\"d_max\"], label=key[0], alpha=0.5)\n",
    "ax.legend(loc='upper left', bbox_to_anchor=(1, 1))\n",
    "ax.set_yscale('log')\n",
    "ax.set_ylim(1e-3,1e1)\n",
    "ax.set_xlabel('Yield Acceleration (g)')\n",
    "ax.set_ylabel('Maximum Displacement (m)')\n",
    "ax.set_title('Maximum Displacement vs. Yield Acceleration')\n",
    "\n",
    "plt.tight_layout()\n",
    "plt.show()"
   ],
   "outputs": [],
   "execution_count": null
  },
  {
   "cell_type": "markdown",
   "metadata": {},
   "source": [
    "## Variation in a single motion's time history  \n",
    "Alternatively, for any given motion, the displacement time histories for different values of $k_y$. The data for all the other motions could get plotted, too, but there's not really much to compare at that point because the plots get too messy.\n"
   ]
  },
  {
   "metadata": {},
   "cell_type": "code",
   "source": "df",
   "outputs": [],
   "execution_count": null
  },
  {
   "cell_type": "code",
   "metadata": {},
   "source": [
    "import matplotlib.cm as cm\n",
    "from matplotlib.colors import LogNorm\n",
    "\n",
    "motion = \"Imperial_Valley_1979_BCR-230\"\n",
    "\n",
    "plt.close('all')\n",
    "\n",
    "# Create a figure and axes\n",
    "fig, ax = plt.subplots(figsize=(6, 4))\n",
    "\n",
    "# Create a color map\n",
    "cmap = plt.colormaps['Spectral']#cm.get_cmap('viridis')\n",
    "norm = LogNorm(df['ky'].min(), df['ky'].max())\n",
    "\n",
    "dt = df[df[\"motion\"]==motion].iloc[0]['dt']\n",
    "npts = df[df[\"motion\"]==motion].iloc[0]['disp'].shape[0]\n",
    "time = np.linspace(0, dt*npts, npts)\n",
    "\n",
    "for index, row in df[df[\"motion\"]==motion].iterrows():\n",
    "    color = cmap(norm(row['ky']))\n",
    "    ax.plot(time, row['disp'], color=color)\n",
    "\n",
    "# Add a color bar\n",
    "sm = cm.ScalarMappable(cmap=cmap, norm=norm)\n",
    "sm.set_array([])\n",
    "cbar = fig.colorbar(sm, ax=ax, label='ky')\n",
    "\n",
    "# Set the colorbar ticks and labels\n",
    "ticks = [0.1, 0.2, 0.3, 0.4, 0.5, 0.6, 0.7]\n",
    "cbar.set_ticks(ticks)\n",
    "cbar.set_ticklabels([f'{tick:.2f}' for tick in ticks]) \n",
    "\n",
    "# Set the x-axis and y-axis labels\n",
    "ax.set_xlabel('Time')\n",
    "ax.set_ylabel('Displacement')\n",
    "ax.set_title(motion)\n",
    "plt.show()"
   ],
   "outputs": [],
   "execution_count": null
  },
  {
   "cell_type": "code",
   "metadata": {},
   "source": [],
   "outputs": [],
   "execution_count": null
  }
 ],
 "metadata": {
  "kernelspec": {
   "display_name": ".venv",
   "language": "python",
   "name": "python3"
  },
  "language_info": {
   "codemirror_mode": {
    "name": "ipython",
    "version": 3
   },
   "file_extension": ".py",
   "mimetype": "text/x-python",
   "name": "python",
   "nbconvert_exporter": "python",
   "pygments_lexer": "ipython3",
   "version": "3.12.4"
  }
 },
 "nbformat": 4,
 "nbformat_minor": 2
}
