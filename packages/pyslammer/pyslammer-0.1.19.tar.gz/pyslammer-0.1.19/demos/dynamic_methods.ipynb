{
 "cells": [
  {
   "metadata": {},
   "cell_type": "markdown",
   "source": [
    "# pyslammer demo: batch simulations\n",
    "This notebook shows an example use case of pyslammer for running rigid, decoupled, and coupled sliding block analyses.\n",
    "\n",
    "## Setup\n",
    "\n",
    "Assumes pyslammer is installed in the current python environment. \n",
    "*Documentation on installation pending*, but for now, you can install it using pip:\n",
    "\n",
    "```bash\n",
    "pip install pyslammer\n",
    "```\n",
    "\n",
    "Import pyslammer using:\n",
    "\n",
    "```python\n",
    "import pyslammer as slam\n",
    "```\n",
    "\n",
    "Additional Python libraries, such as `matplotlib` may also be useful.\n",
    "\n"
   ],
   "id": "f3a5b530e05002c"
  },
  {
   "cell_type": "code",
   "id": "initial_id",
   "metadata": {
    "collapsed": true
   },
   "source": "%matplotlib widget",
   "outputs": [],
   "execution_count": null
  },
  {
   "metadata": {},
   "cell_type": "code",
   "source": [
    "import pyslammer as slam\n",
    "import numpy as np\n",
    "import pandas as pd\n",
    "import matplotlib.pyplot as plt"
   ],
   "id": "92ca49d845d595a0",
   "outputs": [],
   "execution_count": null
  },
  {
   "metadata": {},
   "cell_type": "code",
   "source": [
    "# load in sample ground motions\n",
    "histories = slam.sample_ground_motions()\n",
    "motion_options = [print(history) for history in histories.keys()]"
   ],
   "id": "bdf214ff48723e77",
   "outputs": [],
   "execution_count": null
  },
  {
   "metadata": {},
   "cell_type": "code",
   "source": [
    "ky = 0.2\n",
    "motion = \"Kobe_1995_TAK-090\"\n",
    "accel = histories[motion].accel\n",
    "dt = histories[motion].dt\n",
    "\n",
    "# create dictionary of input parameters for rigid block analysis\n",
    "rigid_inputs = {\n",
    "    \"a_in\": accel,\n",
    "    \"dt\": dt,\n",
    "    \"ky\": ky\n",
    "}\n",
    "\n",
    "# additional terms needed for dynamic analysis:\n",
    "height = 50.0\n",
    "vs_slope = 600.0\n",
    "vs_base = 600.0\n",
    "damp_ratio = 0.05\n",
    "ref_strain = 0.0005\n",
    "scale_factor = 1.0\n",
    "soil_model = \"equivalent_linear\"\n",
    "\n",
    "# create dictionary of input parameters for dynamic (coupled and decoupled) sliding block analysis\n",
    "dynamic_inputs = {\n",
    "    \"height\": height,\n",
    "    \"vs_slope\": vs_slope,\n",
    "    \"vs_base\": vs_base,\n",
    "    \"damp_ratio\": damp_ratio,\n",
    "    \"ref_strain\": ref_strain,\n",
    "    \"scale_factor\": scale_factor,\n",
    "    \"soil_model\": soil_model\n",
    "}"
   ],
   "id": "7525ba60f0256a12",
   "outputs": [],
   "execution_count": null
  },
  {
   "metadata": {},
   "cell_type": "markdown",
   "source": "## Rigid block analysis",
   "id": "7d2f2b2cb0f59a86"
  },
  {
   "metadata": {},
   "cell_type": "code",
   "source": [
    "rigid_result = slam.RigidAnalysis(**rigid_inputs)\n",
    "# plt.close('all')\n",
    "fig, axs = rigid_result.sliding_block_plot()\n",
    "plt.show()"
   ],
   "id": "8f50cf5a31900af4",
   "outputs": [],
   "execution_count": null
  },
  {
   "metadata": {},
   "cell_type": "markdown",
   "source": [
    "## Decoupled sliding block analysis\n",
    "Some refactoring is needed to send the correct decoupled analysis attributes to the `sliding_block_plot` method, but \n",
    "the block displacement is calculated as expected."
   ],
   "id": "9b3374ec06b13c5a"
  },
  {
   "metadata": {},
   "cell_type": "code",
   "source": [
    "decoupled_result = slam.Decoupled(**rigid_inputs,**dynamic_inputs)\n",
    "# plt.close('all')\n",
    "fig, axs = decoupled_result.sliding_block_plot()\n",
    "plt.show()"
   ],
   "id": "b2a9962ad10aafad",
   "outputs": [],
   "execution_count": null
  },
  {
   "metadata": {},
   "cell_type": "markdown",
   "source": [
    "## Coupled sliding block analysis\n",
    "Some refactoring is needed to send the correct coupled analysis attributes to the `sliding_block_plot` method, but \n",
    "the block displacement is calculated as expected."
   ],
   "id": "61d95335e2dcd54a"
  },
  {
   "metadata": {},
   "cell_type": "code",
   "source": [
    "coupled_result = slam.Coupled(**rigid_inputs,**dynamic_inputs)\n",
    "# plt.close('all')\n",
    "fig, axs = coupled_result.sliding_block_plot()\n",
    "plt.show()"
   ],
   "id": "92a48b56285e21ea",
   "outputs": [],
   "execution_count": null
  },
  {
   "metadata": {},
   "cell_type": "markdown",
   "source": "## Comparison of analysis methods",
   "id": "19f1c27e0444c41f"
  },
  {
   "metadata": {},
   "cell_type": "code",
   "source": [
    "plt.figure(figsize=(10, 6))\n",
    "\n",
    "time = np.arange(0, len(accel) * dt, dt)\n",
    "\n",
    "# Plot block displacement vs time for each analysis method\n",
    "plt.plot(time, rigid_result.sliding_disp, label='Rigid Analysis')\n",
    "plt.plot(time, decoupled_result.sliding_disp, label='Decoupled Analysis')\n",
    "plt.plot(time, coupled_result.sliding_disp, label='Coupled Analysis')\n",
    "\n",
    "# Add labels and legend\n",
    "plt.xlabel('Time (s)')\n",
    "plt.ylabel('Block Displacement (m)')\n",
    "plt.title('Rigid, Decoupled, Coupled Sliding Block Displacement')\n",
    "plt.legend()\n",
    "plt.grid(True)\n",
    "\n",
    "# Show the plot\n",
    "plt.show()"
   ],
   "id": "f2cb5d7d396bf048",
   "outputs": [],
   "execution_count": null
  }
 ],
 "metadata": {
  "kernelspec": {
   "display_name": "Python 3",
   "language": "python",
   "name": "python3"
  },
  "language_info": {
   "codemirror_mode": {
    "name": "ipython",
    "version": 2
   },
   "file_extension": ".py",
   "mimetype": "text/x-python",
   "name": "python",
   "nbconvert_exporter": "python",
   "pygments_lexer": "ipython2",
   "version": "2.7.6"
  }
 },
 "nbformat": 4,
 "nbformat_minor": 5
}
