{
 "cells": [
  {
   "cell_type": "markdown",
   "metadata": {},
   "source": [
    " # Compare model output data with reference data\n",
    "\n",
    "\n",
    "\n",
    " This example shows how to use the `iam-validation` subpackages `.criteria` and\n",
    "\n",
    " `.targets` to compare model output data with timeseries reference data,\n",
    "\n",
    " including detailed comparison for each data point (model, scenario, region,\n",
    "\n",
    " variable and year) that is present in both the model output and in the\n",
    "\n",
    " reference data.\n",
    "\n",
    "\n",
    "\n",
    " At the bottom there is an extension example that shows how to produce\n",
    "\n",
    " formatted output, in the form of styled pandas DataFrames and formatted Excel\n",
    "\n",
    " files."
   ]
  },
  {
   "cell_type": "markdown",
   "metadata": {},
   "source": [
    " Import the required packages"
   ]
  },
  {
   "cell_type": "code",
   "execution_count": null,
   "metadata": {},
   "outputs": [],
   "source": [
    "# %%\n",
    "from iam_validation.criteria import TimeseriesRefCriterion\n",
    "from iam_validation.targets import CriterionTargetRange\n",
    "\n",
    "from pathlib import Path\n",
    "\n",
    "import pandas as pd\n",
    "import pyam\n",
    "\n"
   ]
  },
  {
   "cell_type": "markdown",
   "metadata": {},
   "source": [
    " Load your reference timeseries data for one or more variables (e.g, data to be\n",
    "\n",
    " used for harmonization), which needs to be prepared in IAMC format and\n",
    "\n",
    " loadable with `pyam`. Replace `referenc_file` below with the path to your\n",
    "\n",
    " reference timeseries data, as a string or `pathlib.Path` object."
   ]
  },
  {
   "cell_type": "code",
   "execution_count": null,
   "metadata": {},
   "outputs": [],
   "source": [
    "# %%\n",
    "reference_file: Path|str = Path('.') / 'my_reference_data.xlsx'\n",
    "ref_data = pyam.IamDataFrame(reference_file)\n",
    "\n"
   ]
  },
  {
   "cell_type": "markdown",
   "metadata": {},
   "source": [
    " Create a timeseries reference object that compares model results to the\n",
    "\n",
    " reference data by taking the ratio, and define an allowed target range of\n",
    "\n",
    " +/- 5%. The `criterion_name` can be any string, bu should be recognizable (can\n",
    "\n",
    " be used by output functions later). Comparisons are here made for each\n",
    "\n",
    " variable, region and year that are present in both the model output and the\n",
    "\n",
    " reference data."
   ]
  },
  {
   "cell_type": "code",
   "execution_count": null,
   "metadata": {},
   "outputs": [],
   "source": [
    "# %%\n",
    "timeseries_ref = TimeseriesRefCriterion(\n",
    "    criterion_name='Reference data ratio comparison',\n",
    "    reference=ref_data,\n",
    "    comparison_function='ratio',\n",
    "    broadcast_dims=('model', 'scenario'),\n",
    ")\n",
    "target_range = CriterionTargetRange(\n",
    "    criterion=timeseries_ref,\n",
    "    target=1.0,\n",
    "    range=(0.95, 1.05),\n",
    ")\n",
    "\n"
   ]
  },
  {
   "cell_type": "markdown",
   "metadata": {},
   "source": [
    " Load the model data that you want to compare to the reference data, from an\n",
    "\n",
    " IAMC-formatted Excel or CSV file."
   ]
  },
  {
   "cell_type": "code",
   "execution_count": null,
   "metadata": {},
   "outputs": [],
   "source": [
    "# %%\n",
    "model_file: Path|str = Path('.') / 'my_model_output.xlsx'\n",
    "model_df = pyam.IamDataFrame(model_file)\n",
    "\n"
   ]
  },
  {
   "cell_type": "markdown",
   "metadata": {},
   "source": [
    " Get a pandas.Series with the ratios of model data relative reference data"
   ]
  },
  {
   "cell_type": "code",
   "execution_count": null,
   "metadata": {},
   "outputs": [],
   "source": [
    "# %%\n",
    "comparison_ratios: pd.Series = timeseries_ref.get_values(model_df)\n",
    "\n"
   ]
  },
  {
   "cell_type": "markdown",
   "metadata": {},
   "source": [
    " Get a pandas.Series with True/False for what data points are inside the\n",
    "\n",
    " allowed target range."
   ]
  },
  {
   "cell_type": "code",
   "execution_count": null,
   "metadata": {},
   "outputs": [],
   "source": [
    "# %%\n",
    "in_range_statuses: pd.Series = target_range.get_in_range(model_df)\n",
    "\n"
   ]
  },
  {
   "cell_type": "markdown",
   "metadata": {},
   "source": [
    " # Create formatted output from criterion target comparisons\n",
    "\n",
    "\n",
    "\n",
    " This example shows how to use the `iam_validation.output` subpackage to create\n",
    "\n",
    " formatted output from the comparisons above."
   ]
  },
  {
   "cell_type": "markdown",
   "metadata": {},
   "source": [
    " Imports for outputting"
   ]
  },
  {
   "cell_type": "code",
   "execution_count": null,
   "metadata": {},
   "outputs": [],
   "source": [
    "# %%\n",
    "from iam_validation.output import TimeseriesRefTargetOutput\n",
    "\n",
    "from pandas.io.formats.style import Styler\n",
    "\n"
   ]
  },
  {
   "cell_type": "markdown",
   "metadata": {},
   "source": [
    " Create an outputter object that can produce styled output, and use it to get\n",
    "\n",
    " formatted DataFrames. The returned DataFrames will have colored highlights for\n",
    "\n",
    " the ratios that fall outside the allowed range.\n",
    "\n",
    "\n",
    "\n",
    " The `.prepare_styled_output` method of `TimeseriesRefTargetOutput` gives us a\n",
    "\n",
    " dict with two elements:\n",
    "\n",
    " - `\"summary\"`: A pandas DataFrame with the maximum deviation per variable,\n",
    "\n",
    "   model, scenario and region.\n",
    "\n",
    " - `\"full_comparison\"`: A wide DataFrame with the ratios for each variable,\n",
    "\n",
    "   model, scenario, region, and *year*."
   ]
  },
  {
   "cell_type": "code",
   "execution_count": null,
   "metadata": {},
   "outputs": [],
   "source": [
    "# %%\n",
    "ratios_outputter = TimeseriesRefTargetOutput(target_range)\n",
    "ratios_styled_dfs: dict[str, Styler] \\\n",
    "    = ratios_outputter.prepare_styled_output(model_df)\n",
    "\n"
   ]
  },
  {
   "cell_type": "markdown",
   "metadata": {},
   "source": [
    " Write the output to an Excel file, which will have colored cells for\n",
    "\n",
    " deviations outside the range. The file will have two worksheets, one with\n",
    "\n",
    " summary and one with full comparison (mirroring the dict produced in the\n",
    "\n",
    " previous step)."
   ]
  },
  {
   "cell_type": "code",
   "execution_count": null,
   "metadata": {},
   "outputs": [],
   "source": [
    "# %%\n",
    "ratios_outputter.to_excel('comparison.xlsx', results=ratios_styled_dfs)\n"
   ]
  }
 ],
 "metadata": {
  "language_info": {
   "codemirror_mode": {
    "name": "ipython",
    "version": 3
   },
   "file_extension": ".py",
   "mimetype": "text/x-python",
   "name": "python",
   "nbconvert_exporter": "python",
   "pygments_lexer": "ipython3",
   "version": 3
  }
 },
 "nbformat": 4,
 "nbformat_minor": 2
}
