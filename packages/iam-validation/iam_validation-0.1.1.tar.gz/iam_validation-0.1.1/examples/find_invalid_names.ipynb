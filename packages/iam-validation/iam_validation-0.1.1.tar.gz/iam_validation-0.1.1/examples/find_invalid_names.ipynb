{
 "cells": [
  {
   "cell_type": "markdown",
   "metadata": {},
   "source": [
    " # Find invalid names and variable/unit combinations\n",
    "\n",
    "\n",
    "\n",
    " This example shows how to use the `iam_validation.nomenclature` package to\n",
    "\n",
    " detect invalid names and variable/unit combinations in your IAM output.\n",
    "\n",
    "\n",
    "\n",
    " The model output must be in a file that can be read into a `pyam.IamDataFrame`\n",
    "\n",
    " object by the `pyam` package, i.e., an Excel or CSV file in IAMC format.\n",
    "\n",
    "\n",
    "\n",
    " NB! At the time of writing, this example is not fully functional (as of\n",
    "\n",
    " 2024-10-20). A few things in the `.nomenclature` subpackage still need to be\n",
    "\n",
    " refactored."
   ]
  },
  {
   "cell_type": "markdown",
   "metadata": {},
   "source": [
    " Import required classes from the `iam_validation.nomenclature` package,\n",
    "\n",
    " and required modules/classes from `pandas` and `pyam`."
   ]
  },
  {
   "cell_type": "code",
   "execution_count": null,
   "metadata": {},
   "outputs": [],
   "source": [
    "# %%\n",
    "from iam_validation.nomenclature import (\n",
    "    NomenclatureDefs,\n",
    "    MergedDefs,\n",
    "    COMMON_DEFINITIONS_URL,\n",
    ")\n",
    "\n",
    "from collections.abc import Mapping\n",
    "from pathlib import Path\n",
    "\n",
    "import pandas as pd\n",
    "import pyam\n",
    "\n"
   ]
  },
  {
   "cell_type": "markdown",
   "metadata": {},
   "source": [
    " Get variable and region names from `common_definitions`, but *not* region\n",
    "\n",
    " aggregation mappings from model-native to common regions. We will use mappings\n",
    "\n",
    " from our own project definitions instead."
   ]
  },
  {
   "cell_type": "code",
   "execution_count": null,
   "metadata": {},
   "outputs": [],
   "source": [
    "# %%\n",
    "common_defs = NomenclatureDefs.from_url(COMMON_DEFINITIONS_URL,\n",
    "                                        dimensions=['variable', 'region'],\n",
    "                                        region_mappings=False)\n"
   ]
  },
  {
   "cell_type": "markdown",
   "metadata": {},
   "source": [
    " Get project-specific names for all dimensions, and region-mappings from custom\n",
    "\n",
    " project definitions"
   ]
  },
  {
   "cell_type": "code",
   "execution_count": null,
   "metadata": {},
   "outputs": [],
   "source": [
    "# %%\n",
    "repo_url: str \\\n",
    "    = 'https://github.com/ciceroOslo/iamcompact-nomenclature-definitions.git'\n",
    "project_defs = NomenclatureDefs.from_url(\n",
    "    repo_url,\n",
    "    dimensions=['model', 'scenario', 'region', 'variable'],\n",
    ")\n"
   ]
  },
  {
   "cell_type": "markdown",
   "metadata": {},
   "source": [
    " Merge the definitions. Let project-specific definitions override\n",
    "\n",
    " `common-definitions` where they overlap."
   ]
  },
  {
   "cell_type": "code",
   "execution_count": null,
   "metadata": {},
   "outputs": [],
   "source": [
    "# %%\n",
    "merged_defs: MergedDefs = common_defs.update(project_defs)\n",
    "\n"
   ]
  },
  {
   "cell_type": "markdown",
   "metadata": {},
   "source": [
    " Now load a file with model results. Set `results_file` below to a path to your\n",
    "\n",
    " model results, as an IAMC-formatted Excel or CSV file. Can be either a string\n",
    "\n",
    " or a `pathlib.Path` object."
   ]
  },
  {
   "cell_type": "code",
   "execution_count": null,
   "metadata": {},
   "outputs": [],
   "source": [
    "# %%\n",
    "model_file: Path|str = Path('.') / 'my_model_output.xlsx'\n",
    "model_df = pyam.IamDataFrame(model_file)\n",
    "\n"
   ]
  },
  {
   "cell_type": "markdown",
   "metadata": {},
   "source": [
    " Get invalid names, including recognized model-native ones. Returns a dict with\n",
    "\n",
    " dimension names as keys, and invalid names for each dimension as a list, or\n",
    "\n",
    " as a dict of invalid model/region-name pairs when recognizing unammped\n",
    "\n",
    " model-native region names."
   ]
  },
  {
   "cell_type": "code",
   "execution_count": null,
   "metadata": {},
   "outputs": [],
   "source": [
    "# %%\n",
    "invalid_names: Mapping[str, list[str]|dict[str, list[str]]] = \\\n",
    "    merged_defs.get_invalid_names(model_df, raw_model_regions=True)\n",
    "\n"
   ]
  },
  {
   "cell_type": "markdown",
   "metadata": {},
   "source": [
    " Get invalid unit/variable combos. Returns a DataFrame, where the index is\n",
    "\n",
    " known variables that have unrecognized units, with one column with lists of\n",
    "\n",
    " the unrecognized units for each variable, and one column with lists of the\n",
    "\n",
    " valid unit names for that variable."
   ]
  },
  {
   "cell_type": "code",
   "execution_count": null,
   "metadata": {},
   "outputs": [],
   "source": [
    "# %%\n",
    "invalid_units: pd.DataFrame|None = merged_defs.get_invalid_variable_units(model_df)\n"
   ]
  }
 ],
 "metadata": {
  "language_info": {
   "codemirror_mode": {
    "name": "ipython",
    "version": 3
   },
   "file_extension": ".py",
   "mimetype": "text/x-python",
   "name": "python",
   "nbconvert_exporter": "python",
   "pygments_lexer": "ipython3",
   "version": 3
  }
 },
 "nbformat": 4,
 "nbformat_minor": 2
}
