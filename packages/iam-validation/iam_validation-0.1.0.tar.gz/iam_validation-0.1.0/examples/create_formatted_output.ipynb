{
 "cells": [
  {
   "cell_type": "markdown",
   "metadata": {},
   "source": [
    " # Create formatted output from criterion target comparisons\n",
    "\n",
    "\n",
    "\n",
    " This example shows how to use the `iam_validation.targets` package to create\n",
    "\n",
    " formatted output from target comparisons made with the `.criteria` and\n",
    "\n",
    " `.targets` subpackages."
   ]
  },
  {
   "cell_type": "markdown",
   "metadata": {},
   "source": [
    " Imports"
   ]
  },
  {
   "cell_type": "code",
   "execution_count": null,
   "metadata": {},
   "outputs": [],
   "source": [
    "# %%\n",
    "from iam_validation.output import TimeseriesRefTargetOutput\n",
    "from compare_timeseries_ref_data import target_range, model_df\n",
    "\n",
    "import pandas as pd\n",
    "from pandas.io.formats.style import Styler\n",
    "\n"
   ]
  },
  {
   "cell_type": "markdown",
   "metadata": {},
   "source": [
    " Create an outputter object that can produce styled output, and use it to get\n",
    "\n",
    " formatted DataFrames. The returned DataFrames will have colored highlights for\n",
    "\n",
    " the ratios that fall outside the allowed range.\n",
    "\n",
    "\n",
    "\n",
    " The `.prepare_styled_output` method of `TimeseriesRefTargetOutput` gives us a\n",
    "\n",
    " dict with two elements:\n",
    "\n",
    " - `\"summary\"`: A pandas DataFrame with the maximum deviation per variable,\n",
    "\n",
    "   model, scenario and region.\n",
    "\n",
    " - `\"full_comparison\"`: A wide DataFrame with the ratios for each variable,\n",
    "\n",
    "   model, scenario, region, and *year*."
   ]
  },
  {
   "cell_type": "code",
   "execution_count": null,
   "metadata": {},
   "outputs": [],
   "source": [
    "# %%\n",
    "ratios_outputter = TimeseriesRefTargetOutput(target_range)\n",
    "ratios_styled_dfs: dict[str, Styler] \\\n",
    "    = ratios_outputter.prepare_styled_output(model_df)\n",
    "\n"
   ]
  },
  {
   "cell_type": "markdown",
   "metadata": {},
   "source": [
    " Write the output to an Excel file, which will have colored cells for\n",
    "\n",
    " deviations outside the range. The file will have two worksheets, one with\n",
    "\n",
    " summary and one with full comparison (mirroring the dict produced in the\n",
    "\n",
    " previous step)."
   ]
  },
  {
   "cell_type": "code",
   "execution_count": null,
   "metadata": {},
   "outputs": [],
   "source": [
    "# %%\n",
    "ratios_outputter.to_excel('comparison.xlsx', results=ratios_styled_dfs)\n"
   ]
  }
 ],
 "metadata": {
  "language_info": {
   "codemirror_mode": {
    "name": "ipython",
    "version": 3
   },
   "file_extension": ".py",
   "mimetype": "text/x-python",
   "name": "python",
   "nbconvert_exporter": "python",
   "pygments_lexer": "ipython3",
   "version": 3
  }
 },
 "nbformat": 4,
 "nbformat_minor": 2
}
