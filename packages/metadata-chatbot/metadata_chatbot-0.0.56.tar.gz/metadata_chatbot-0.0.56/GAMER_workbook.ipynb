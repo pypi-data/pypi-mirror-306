{
 "cells": [
  {
   "cell_type": "markdown",
   "metadata": {},
   "source": [
    "# GAMER: Generative Analysis of Metadata Retrieval"
   ]
  },
  {
   "cell_type": "markdown",
   "metadata": {},
   "source": [
    "This model uses a multi agent framework on Langraph to retrieve and summarize metadata information based on a user's natural language query. \n",
    "\n",
    "This workflow consists of 6 agents, or nodes, where a decision is made and there is new context provided to either the model or the user. Here are some decisions incorporated into the framework:\n",
    "1. To best answer the query, does the entire database need to be queried, or the vector index?\n",
    "- Input: `x (query)`\n",
    "- Decides best data to query against\n",
    "- Output: `entire_database, vector_embeddings`\n",
    "2. If querying against the vector embeddings, does the index need to be filtered further with metdata tags, to improve optimization of retrieval?\n",
    "- Input: `x (query)`\n",
    "- Decides whether database can be further filtered by applying a MongoDB query\n",
    "- Output: `MongoDB query, None`\n",
    "3. Are the documents retrieved during retrieval relevant to the question?\n",
    "- Input: `x (query)`\n",
    "- Decides whether document should be kept or tossed during summarization\n",
    "- Output: `yes, no`\n"
   ]
  },
  {
   "cell_type": "markdown",
   "metadata": {},
   "source": [
    "![Graph workflow](C:\\Users\\sreya.kumar\\Documents\\GitHub\\metadata-chatbot\\graph_workflow.png)"
   ]
  },
  {
   "cell_type": "markdown",
   "metadata": {},
   "source": [
    "## Calling the model"
   ]
  },
  {
   "cell_type": "markdown",
   "metadata": {},
   "source": [
    "### Synchronous calling"
   ]
  },
  {
   "cell_type": "code",
   "execution_count": 1,
   "metadata": {},
   "outputs": [
    {
     "name": "stdout",
     "output_type": "stream",
     "text": [
      "Requirement already satisfied: metadata-chatbot in c:\\users\\sreya.kumar\\documents\\github\\metadata-chatbot\\venv\\lib\\site-packages (0.0.20)\n",
      "Requirement already satisfied: aind-data-access-api>=0.15.0 in c:\\users\\sreya.kumar\\documents\\github\\metadata-chatbot\\venv\\lib\\site-packages (from aind-data-access-api[full]>=0.15.0->metadata-chatbot) (0.15.0)\n",
      "Requirement already satisfied: boto3 in c:\\users\\sreya.kumar\\documents\\github\\metadata-chatbot\\venv\\lib\\site-packages (from metadata-chatbot) (1.35.42)\n",
      "Requirement already satisfied: langchain-aws in c:\\users\\sreya.kumar\\documents\\github\\metadata-chatbot\\venv\\lib\\site-packages (from metadata-chatbot) (0.2.2)\n",
      "Requirement already satisfied: langchain-community in c:\\users\\sreya.kumar\\documents\\github\\metadata-chatbot\\venv\\lib\\site-packages (from metadata-chatbot) (0.3.2)\n",
      "Requirement already satisfied: langchain-core in c:\\users\\sreya.kumar\\documents\\github\\metadata-chatbot\\venv\\lib\\site-packages (from metadata-chatbot) (0.3.11)\n",
      "Requirement already satisfied: langchain in c:\\users\\sreya.kumar\\documents\\github\\metadata-chatbot\\venv\\lib\\site-packages (from metadata-chatbot) (0.3.3)\n",
      "Requirement already satisfied: langgraph in c:\\users\\sreya.kumar\\documents\\github\\metadata-chatbot\\venv\\lib\\site-packages (from metadata-chatbot) (0.2.38)\n",
      "Requirement already satisfied: motor in c:\\users\\sreya.kumar\\documents\\github\\metadata-chatbot\\venv\\lib\\site-packages (from metadata-chatbot) (3.1.2)\n",
      "Requirement already satisfied: nest-asyncio in c:\\users\\sreya.kumar\\documents\\github\\metadata-chatbot\\venv\\lib\\site-packages (from metadata-chatbot) (1.6.0)\n",
      "Requirement already satisfied: pymongo in c:\\users\\sreya.kumar\\documents\\github\\metadata-chatbot\\venv\\lib\\site-packages (from metadata-chatbot) (4.3.3)\n",
      "Requirement already satisfied: fastapi in c:\\users\\sreya.kumar\\documents\\github\\metadata-chatbot\\venv\\lib\\site-packages (from metadata-chatbot) (0.115.2)\n",
      "Requirement already satisfied: uvicorn in c:\\users\\sreya.kumar\\documents\\github\\metadata-chatbot\\venv\\lib\\site-packages (from metadata-chatbot) (0.32.0)\n",
      "Requirement already satisfied: logging in c:\\users\\sreya.kumar\\documents\\github\\metadata-chatbot\\venv\\lib\\site-packages (from metadata-chatbot) (0.4.9.6)\n",
      "Requirement already satisfied: sshtunnel in c:\\users\\sreya.kumar\\documents\\github\\metadata-chatbot\\venv\\lib\\site-packages (from metadata-chatbot) (0.4.0)\n",
      "Requirement already satisfied: typing in c:\\users\\sreya.kumar\\documents\\github\\metadata-chatbot\\venv\\lib\\site-packages (from metadata-chatbot) (3.7.4.3)\n",
      "Requirement already satisfied: requests in c:\\users\\sreya.kumar\\documents\\github\\metadata-chatbot\\venv\\lib\\site-packages (from aind-data-access-api>=0.15.0->aind-data-access-api[full]>=0.15.0->metadata-chatbot) (2.32.3)\n",
      "Requirement already satisfied: aind-codeocean-api>=0.4.0 in c:\\users\\sreya.kumar\\documents\\github\\metadata-chatbot\\venv\\lib\\site-packages (from aind-data-access-api>=0.15.0->aind-data-access-api[full]>=0.15.0->metadata-chatbot) (0.5.0)\n",
      "Requirement already satisfied: pydantic>=2.0 in c:\\users\\sreya.kumar\\documents\\github\\metadata-chatbot\\venv\\lib\\site-packages (from aind-data-access-api>=0.15.0->aind-data-access-api[full]>=0.15.0->metadata-chatbot) (2.9.2)\n",
      "Requirement already satisfied: pydantic-settings>=2.0 in c:\\users\\sreya.kumar\\documents\\github\\metadata-chatbot\\venv\\lib\\site-packages (from aind-data-access-api>=0.15.0->aind-data-access-api[full]>=0.15.0->metadata-chatbot) (2.5.2)\n",
      "Requirement already satisfied: botocore<1.36.0,>=1.35.42 in c:\\users\\sreya.kumar\\documents\\github\\metadata-chatbot\\venv\\lib\\site-packages (from boto3->metadata-chatbot) (1.35.42)\n",
      "Requirement already satisfied: jmespath<2.0.0,>=0.7.1 in c:\\users\\sreya.kumar\\documents\\github\\metadata-chatbot\\venv\\lib\\site-packages (from boto3->metadata-chatbot) (1.0.1)\n",
      "Requirement already satisfied: s3transfer<0.11.0,>=0.10.0 in c:\\users\\sreya.kumar\\documents\\github\\metadata-chatbot\\venv\\lib\\site-packages (from boto3->metadata-chatbot) (0.10.3)\n",
      "Requirement already satisfied: starlette<0.41.0,>=0.37.2 in c:\\users\\sreya.kumar\\documents\\github\\metadata-chatbot\\venv\\lib\\site-packages (from fastapi->metadata-chatbot) (0.40.0)\n",
      "Requirement already satisfied: typing-extensions>=4.8.0 in c:\\users\\sreya.kumar\\documents\\github\\metadata-chatbot\\venv\\lib\\site-packages (from fastapi->metadata-chatbot) (4.12.2)\n",
      "Requirement already satisfied: PyYAML>=5.3 in c:\\users\\sreya.kumar\\documents\\github\\metadata-chatbot\\venv\\lib\\site-packages (from langchain->metadata-chatbot) (6.0.2)\n",
      "Requirement already satisfied: SQLAlchemy<3,>=1.4 in c:\\users\\sreya.kumar\\documents\\github\\metadata-chatbot\\venv\\lib\\site-packages (from langchain->metadata-chatbot) (1.4.49)\n",
      "Requirement already satisfied: aiohttp<4.0.0,>=3.8.3 in c:\\users\\sreya.kumar\\documents\\github\\metadata-chatbot\\venv\\lib\\site-packages (from langchain->metadata-chatbot) (3.10.10)\n",
      "Requirement already satisfied: langchain-text-splitters<0.4.0,>=0.3.0 in c:\\users\\sreya.kumar\\documents\\github\\metadata-chatbot\\venv\\lib\\site-packages (from langchain->metadata-chatbot) (0.3.0)\n",
      "Requirement already satisfied: langsmith<0.2.0,>=0.1.17 in c:\\users\\sreya.kumar\\documents\\github\\metadata-chatbot\\venv\\lib\\site-packages (from langchain->metadata-chatbot) (0.1.135)\n",
      "Requirement already satisfied: numpy<2,>=1 in c:\\users\\sreya.kumar\\documents\\github\\metadata-chatbot\\venv\\lib\\site-packages (from langchain->metadata-chatbot) (1.26.4)\n",
      "Requirement already satisfied: tenacity!=8.4.0,<9.0.0,>=8.1.0 in c:\\users\\sreya.kumar\\documents\\github\\metadata-chatbot\\venv\\lib\\site-packages (from langchain->metadata-chatbot) (8.5.0)\n",
      "Requirement already satisfied: jsonpatch<2.0,>=1.33 in c:\\users\\sreya.kumar\\documents\\github\\metadata-chatbot\\venv\\lib\\site-packages (from langchain-core->metadata-chatbot) (1.33)\n",
      "Requirement already satisfied: packaging<25,>=23.2 in c:\\users\\sreya.kumar\\documents\\github\\metadata-chatbot\\venv\\lib\\site-packages (from langchain-core->metadata-chatbot) (24.1)\n",
      "Requirement already satisfied: dataclasses-json<0.7,>=0.5.7 in c:\\users\\sreya.kumar\\documents\\github\\metadata-chatbot\\venv\\lib\\site-packages (from langchain-community->metadata-chatbot) (0.6.7)\n",
      "Requirement already satisfied: langgraph-checkpoint<3.0.0,>=2.0.0 in c:\\users\\sreya.kumar\\documents\\github\\metadata-chatbot\\venv\\lib\\site-packages (from langgraph->metadata-chatbot) (2.0.1)\n",
      "Requirement already satisfied: langgraph-sdk<0.2.0,>=0.1.32 in c:\\users\\sreya.kumar\\documents\\github\\metadata-chatbot\\venv\\lib\\site-packages (from langgraph->metadata-chatbot) (0.1.33)\n",
      "Requirement already satisfied: dnspython<3.0.0,>=1.16.0 in c:\\users\\sreya.kumar\\documents\\github\\metadata-chatbot\\venv\\lib\\site-packages (from pymongo->metadata-chatbot) (2.7.0)\n",
      "Requirement already satisfied: paramiko>=2.7.2 in c:\\users\\sreya.kumar\\documents\\github\\metadata-chatbot\\venv\\lib\\site-packages (from sshtunnel->metadata-chatbot) (3.5.0)\n",
      "Requirement already satisfied: click>=7.0 in c:\\users\\sreya.kumar\\documents\\github\\metadata-chatbot\\venv\\lib\\site-packages (from uvicorn->metadata-chatbot) (8.1.7)\n",
      "Requirement already satisfied: h11>=0.8 in c:\\users\\sreya.kumar\\documents\\github\\metadata-chatbot\\venv\\lib\\site-packages (from uvicorn->metadata-chatbot) (0.14.0)\n",
      "Requirement already satisfied: aiohappyeyeballs>=2.3.0 in c:\\users\\sreya.kumar\\documents\\github\\metadata-chatbot\\venv\\lib\\site-packages (from aiohttp<4.0.0,>=3.8.3->langchain->metadata-chatbot) (2.4.3)\n",
      "Requirement already satisfied: aiosignal>=1.1.2 in c:\\users\\sreya.kumar\\documents\\github\\metadata-chatbot\\venv\\lib\\site-packages (from aiohttp<4.0.0,>=3.8.3->langchain->metadata-chatbot) (1.3.1)\n",
      "Requirement already satisfied: attrs>=17.3.0 in c:\\users\\sreya.kumar\\documents\\github\\metadata-chatbot\\venv\\lib\\site-packages (from aiohttp<4.0.0,>=3.8.3->langchain->metadata-chatbot) (24.2.0)\n",
      "Requirement already satisfied: frozenlist>=1.1.1 in c:\\users\\sreya.kumar\\documents\\github\\metadata-chatbot\\venv\\lib\\site-packages (from aiohttp<4.0.0,>=3.8.3->langchain->metadata-chatbot) (1.4.1)\n",
      "Requirement already satisfied: multidict<7.0,>=4.5 in c:\\users\\sreya.kumar\\documents\\github\\metadata-chatbot\\venv\\lib\\site-packages (from aiohttp<4.0.0,>=3.8.3->langchain->metadata-chatbot) (6.1.0)\n",
      "Requirement already satisfied: yarl<2.0,>=1.12.0 in c:\\users\\sreya.kumar\\documents\\github\\metadata-chatbot\\venv\\lib\\site-packages (from aiohttp<4.0.0,>=3.8.3->langchain->metadata-chatbot) (1.15.4)\n",
      "Requirement already satisfied: python-dateutil<3.0.0,>=2.1 in c:\\users\\sreya.kumar\\documents\\github\\metadata-chatbot\\venv\\lib\\site-packages (from botocore<1.36.0,>=1.35.42->boto3->metadata-chatbot) (2.9.0.post0)\n",
      "Requirement already satisfied: urllib3!=2.2.0,<3,>=1.25.4 in c:\\users\\sreya.kumar\\documents\\github\\metadata-chatbot\\venv\\lib\\site-packages (from botocore<1.36.0,>=1.35.42->boto3->metadata-chatbot) (2.2.3)\n",
      "Requirement already satisfied: colorama in c:\\users\\sreya.kumar\\documents\\github\\metadata-chatbot\\venv\\lib\\site-packages (from click>=7.0->uvicorn->metadata-chatbot) (0.4.6)\n",
      "Requirement already satisfied: marshmallow<4.0.0,>=3.18.0 in c:\\users\\sreya.kumar\\documents\\github\\metadata-chatbot\\venv\\lib\\site-packages (from dataclasses-json<0.7,>=0.5.7->langchain-community->metadata-chatbot) (3.22.0)\n",
      "Requirement already satisfied: typing-inspect<1,>=0.4.0 in c:\\users\\sreya.kumar\\documents\\github\\metadata-chatbot\\venv\\lib\\site-packages (from dataclasses-json<0.7,>=0.5.7->langchain-community->metadata-chatbot) (0.9.0)\n",
      "Requirement already satisfied: jsonpointer>=1.9 in c:\\users\\sreya.kumar\\documents\\github\\metadata-chatbot\\venv\\lib\\site-packages (from jsonpatch<2.0,>=1.33->langchain-core->metadata-chatbot) (3.0.0)\n",
      "Requirement already satisfied: msgpack<2.0.0,>=1.1.0 in c:\\users\\sreya.kumar\\documents\\github\\metadata-chatbot\\venv\\lib\\site-packages (from langgraph-checkpoint<3.0.0,>=2.0.0->langgraph->metadata-chatbot) (1.1.0)\n",
      "Requirement already satisfied: httpx>=0.25.2 in c:\\users\\sreya.kumar\\documents\\github\\metadata-chatbot\\venv\\lib\\site-packages (from langgraph-sdk<0.2.0,>=0.1.32->langgraph->metadata-chatbot) (0.27.2)\n",
      "Requirement already satisfied: httpx-sse>=0.4.0 in c:\\users\\sreya.kumar\\documents\\github\\metadata-chatbot\\venv\\lib\\site-packages (from langgraph-sdk<0.2.0,>=0.1.32->langgraph->metadata-chatbot) (0.4.0)\n",
      "Requirement already satisfied: orjson>=3.10.1 in c:\\users\\sreya.kumar\\documents\\github\\metadata-chatbot\\venv\\lib\\site-packages (from langgraph-sdk<0.2.0,>=0.1.32->langgraph->metadata-chatbot) (3.10.7)\n",
      "Requirement already satisfied: requests-toolbelt<2.0.0,>=1.0.0 in c:\\users\\sreya.kumar\\documents\\github\\metadata-chatbot\\venv\\lib\\site-packages (from langsmith<0.2.0,>=0.1.17->langchain->metadata-chatbot) (1.0.0)\n",
      "Requirement already satisfied: bcrypt>=3.2 in c:\\users\\sreya.kumar\\documents\\github\\metadata-chatbot\\venv\\lib\\site-packages (from paramiko>=2.7.2->sshtunnel->metadata-chatbot) (4.2.0)\n",
      "Requirement already satisfied: cryptography>=3.3 in c:\\users\\sreya.kumar\\documents\\github\\metadata-chatbot\\venv\\lib\\site-packages (from paramiko>=2.7.2->sshtunnel->metadata-chatbot) (43.0.1)\n",
      "Requirement already satisfied: pynacl>=1.5 in c:\\users\\sreya.kumar\\documents\\github\\metadata-chatbot\\venv\\lib\\site-packages (from paramiko>=2.7.2->sshtunnel->metadata-chatbot) (1.5.0)\n",
      "Requirement already satisfied: annotated-types>=0.6.0 in c:\\users\\sreya.kumar\\documents\\github\\metadata-chatbot\\venv\\lib\\site-packages (from pydantic>=2.0->aind-data-access-api>=0.15.0->aind-data-access-api[full]>=0.15.0->metadata-chatbot) (0.7.0)\n",
      "Requirement already satisfied: pydantic-core==2.23.4 in c:\\users\\sreya.kumar\\documents\\github\\metadata-chatbot\\venv\\lib\\site-packages (from pydantic>=2.0->aind-data-access-api>=0.15.0->aind-data-access-api[full]>=0.15.0->metadata-chatbot) (2.23.4)\n",
      "Requirement already satisfied: python-dotenv>=0.21.0 in c:\\users\\sreya.kumar\\documents\\github\\metadata-chatbot\\venv\\lib\\site-packages (from pydantic-settings>=2.0->aind-data-access-api>=0.15.0->aind-data-access-api[full]>=0.15.0->metadata-chatbot) (1.0.1)\n",
      "Requirement already satisfied: charset-normalizer<4,>=2 in c:\\users\\sreya.kumar\\documents\\github\\metadata-chatbot\\venv\\lib\\site-packages (from requests->aind-data-access-api>=0.15.0->aind-data-access-api[full]>=0.15.0->metadata-chatbot) (3.4.0)\n",
      "Requirement already satisfied: idna<4,>=2.5 in c:\\users\\sreya.kumar\\documents\\github\\metadata-chatbot\\venv\\lib\\site-packages (from requests->aind-data-access-api>=0.15.0->aind-data-access-api[full]>=0.15.0->metadata-chatbot) (3.10)\n",
      "Requirement already satisfied: certifi>=2017.4.17 in c:\\users\\sreya.kumar\\documents\\github\\metadata-chatbot\\venv\\lib\\site-packages (from requests->aind-data-access-api>=0.15.0->aind-data-access-api[full]>=0.15.0->metadata-chatbot) (2024.8.30)\n",
      "Requirement already satisfied: greenlet!=0.4.17 in c:\\users\\sreya.kumar\\documents\\github\\metadata-chatbot\\venv\\lib\\site-packages (from SQLAlchemy<3,>=1.4->langchain->metadata-chatbot) (3.1.1)\n",
      "Requirement already satisfied: anyio<5,>=3.4.0 in c:\\users\\sreya.kumar\\documents\\github\\metadata-chatbot\\venv\\lib\\site-packages (from starlette<0.41.0,>=0.37.2->fastapi->metadata-chatbot) (4.6.2.post1)\n",
      "Requirement already satisfied: psycopg2-binary==2.9.5 in c:\\users\\sreya.kumar\\documents\\github\\metadata-chatbot\\venv\\lib\\site-packages (from aind-data-access-api>=0.15.0->aind-data-access-api[full]>=0.15.0->metadata-chatbot) (2.9.5)\n",
      "Requirement already satisfied: pandas<2.2.0,>=2.0.0 in c:\\users\\sreya.kumar\\documents\\github\\metadata-chatbot\\venv\\lib\\site-packages (from aind-data-access-api>=0.15.0->aind-data-access-api[full]>=0.15.0->metadata-chatbot) (2.1.4)\n",
      "Requirement already satisfied: sniffio>=1.1 in c:\\users\\sreya.kumar\\documents\\github\\metadata-chatbot\\venv\\lib\\site-packages (from anyio<5,>=3.4.0->starlette<0.41.0,>=0.37.2->fastapi->metadata-chatbot) (1.3.1)\n",
      "Requirement already satisfied: cffi>=1.12 in c:\\users\\sreya.kumar\\documents\\github\\metadata-chatbot\\venv\\lib\\site-packages (from cryptography>=3.3->paramiko>=2.7.2->sshtunnel->metadata-chatbot) (1.17.1)\n",
      "Requirement already satisfied: httpcore==1.* in c:\\users\\sreya.kumar\\documents\\github\\metadata-chatbot\\venv\\lib\\site-packages (from httpx>=0.25.2->langgraph-sdk<0.2.0,>=0.1.32->langgraph->metadata-chatbot) (1.0.6)\n",
      "Requirement already satisfied: pytz>=2020.1 in c:\\users\\sreya.kumar\\documents\\github\\metadata-chatbot\\venv\\lib\\site-packages (from pandas<2.2.0,>=2.0.0->aind-data-access-api>=0.15.0->aind-data-access-api[full]>=0.15.0->metadata-chatbot) (2024.2)\n",
      "Requirement already satisfied: tzdata>=2022.1 in c:\\users\\sreya.kumar\\documents\\github\\metadata-chatbot\\venv\\lib\\site-packages (from pandas<2.2.0,>=2.0.0->aind-data-access-api>=0.15.0->aind-data-access-api[full]>=0.15.0->metadata-chatbot) (2024.2)\n",
      "Requirement already satisfied: six>=1.5 in c:\\users\\sreya.kumar\\documents\\github\\metadata-chatbot\\venv\\lib\\site-packages (from python-dateutil<3.0.0,>=2.1->botocore<1.36.0,>=1.35.42->boto3->metadata-chatbot) (1.16.0)\n",
      "Requirement already satisfied: mypy-extensions>=0.3.0 in c:\\users\\sreya.kumar\\documents\\github\\metadata-chatbot\\venv\\lib\\site-packages (from typing-inspect<1,>=0.4.0->dataclasses-json<0.7,>=0.5.7->langchain-community->metadata-chatbot) (1.0.0)\n",
      "Requirement already satisfied: propcache>=0.2.0 in c:\\users\\sreya.kumar\\documents\\github\\metadata-chatbot\\venv\\lib\\site-packages (from yarl<2.0,>=1.12.0->aiohttp<4.0.0,>=3.8.3->langchain->metadata-chatbot) (0.2.0)\n",
      "Requirement already satisfied: pycparser in c:\\users\\sreya.kumar\\documents\\github\\metadata-chatbot\\venv\\lib\\site-packages (from cffi>=1.12->cryptography>=3.3->paramiko>=2.7.2->sshtunnel->metadata-chatbot) (2.22)\n"
     ]
    }
   ],
   "source": [
    "!pip install metadata-chatbot"
   ]
  },
  {
   "cell_type": "code",
   "execution_count": 1,
   "metadata": {},
   "outputs": [
    {
     "name": "stdout",
     "output_type": "stream",
     "text": [
      "Name: metadata-chatbot\n",
      "Version: 0.0.54\n",
      "Summary: Generated from aind-library-template\n",
      "Home-page: \n",
      "Author: Allen Institute for Neural Dynamics\n",
      "Author-email: \n",
      "License: MIT\n",
      "Location: C:\\Users\\sreya.kumar\\Documents\\GitHub\\metadata-chatbot\\venv\\Lib\\site-packages\n",
      "Requires: aind-data-access-api, boto3, fastapi, langchain, langchain-aws, langchain-community, langchain-core, langgraph, motor, nest-asyncio, pymongo, pytest, sshtunnel, uvicorn\n",
      "Required-by: \n"
     ]
    }
   ],
   "source": [
    "!pip show metadata_chatbot"
   ]
  },
  {
   "cell_type": "code",
   "execution_count": 2,
   "metadata": {},
   "outputs": [
    {
     "name": "stdout",
     "output_type": "stream",
     "text": [
      "The refractive index of the chamber immersion medium used in the experiment SmartSPIM_675387_2023-05-23_23-05-56 was 1.5207 (Cargille Oil 1.5200).\n"
     ]
    }
   ],
   "source": [
    "from metadata_chatbot.agents.GAMER import GAMER\n",
    "query = \"What was the refractive index of the chamber immersion medium used in this experiment SmartSPIM_675387_2023-05-23_23-05-56\"\n",
    "\n",
    "model = GAMER()\n",
    "result = model.invoke(query)\n",
    "\n",
    "print(result)"
   ]
  },
  {
   "cell_type": "code",
   "execution_count": null,
   "metadata": {},
   "outputs": [],
   "source": []
  },
  {
   "cell_type": "markdown",
   "metadata": {},
   "source": [
    "### Asynchronous calling"
   ]
  },
  {
   "cell_type": "code",
   "execution_count": 1,
   "metadata": {},
   "outputs": [
    {
     "name": "stderr",
     "output_type": "stream",
     "text": [
      "c:\\Users\\sreya.kumar\\Documents\\GitHub\\metadata-chatbot\\venv\\Lib\\site-packages\\metadata_chatbot\\agents\\async_workflow.py:112: LangChainDeprecationWarning: The method `BaseRetriever.aget_relevant_documents` was deprecated in langchain-core 0.1.46 and will be removed in 1.0. Use :meth:`~ainvoke` instead.\n",
      "  documents = await retriever.aget_relevant_documents(query = query, query_filter = filter)\n"
     ]
    },
    {
     "name": "stdout",
     "output_type": "stream",
     "text": [
      "Based on the provided context, I could not find any information about the age of the subject at the time of imaging for the specific session SmartSPIM_662616_2023-03-06_17-47-13. The context contains conflicting information about the subject's date of birth and does not explicitly state the age for that particular session. I am unable to provide a definitive answer to the question.\n"
     ]
    }
   ],
   "source": [
    "from metadata_chatbot.agents.GAMER import GAMER\n",
    "llm = GAMER()\n",
    "query = \"What was the age of the subject at the time of imaging in SmartSPIM_662616_2023-03-06_17-47-13\"\n",
    "\n",
    "result = await llm.ainvoke(query)\n",
    "print(result)"
   ]
  }
 ],
 "metadata": {
  "kernelspec": {
   "display_name": "venv",
   "language": "python",
   "name": "python3"
  },
  "language_info": {
   "codemirror_mode": {
    "name": "ipython",
    "version": 3
   },
   "file_extension": ".py",
   "mimetype": "text/x-python",
   "name": "python",
   "nbconvert_exporter": "python",
   "pygments_lexer": "ipython3",
   "version": "3.11.0"
  }
 },
 "nbformat": 4,
 "nbformat_minor": 2
}
