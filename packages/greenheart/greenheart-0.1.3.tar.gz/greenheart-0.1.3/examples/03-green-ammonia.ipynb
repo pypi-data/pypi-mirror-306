{
 "cells": [
  {
   "cell_type": "markdown",
   "metadata": {},
   "source": [
    "# Hybrid Plant with Wind, Solar, Battery, Hydrogen and Ammonia Example\n",
    "---\n",
    "In this example we will simulate a hybrid plant using the GreenHEART software. This software allows for the co-design and simulation of an integrated renewable energy and ammonia production plant. \n",
    "\n",
    "This simulation starts with renewable energy generation using wind and solar PV technologies, which then can be stored in a battery or directly supplied to a PEM electrolyzer for hydrogen production. The produced hydrogen is then used as a feedstock in the ammonia model."
   ]
  },
  {
   "cell_type": "markdown",
   "metadata": {},
   "source": [
    "### Import Required Modules\n",
    "---\n",
    "Begin by importing the necessary modules for the GreenHEART simulation."
   ]
  },
  {
   "cell_type": "code",
   "execution_count": 1,
   "metadata": {},
   "outputs": [
    {
     "name": "stdout",
     "output_type": "stream",
     "text": [
      "/Users/kbrunik/github/GreenHEART/examples/log/hybrid_systems_2024-10-18T16.27.04.775533.log\n"
     ]
    }
   ],
   "source": [
    "from greenheart.simulation.greenheart_simulation import GreenHeartSimulationConfig\n",
    "from greenheart.tools.optimization.gc_run_greenheart import run_greenheart"
   ]
  },
  {
   "cell_type": "markdown",
   "metadata": {},
   "source": [
    "### Load Simulation Input Files\n",
    "---\n",
    "Input files are in a YAML file format. Four YAML files are required for land-based analysis:\n",
    "1. HOPP Configuration YAML\n",
    "2. GreenHEART Configuration YAML\n",
    "3. Wind Turbine Configuration YAML\n",
    "4. FLORIS Configuration YAML"
   ]
  },
  {
   "cell_type": "markdown",
   "metadata": {},
   "source": [
    "#### HOPP YAML Overview\n",
    "\n",
    "The HOPP YAML file includes information required for simulating the renewable energy generation at the plant. Such as:\n",
    "\n",
    "- **Analysis Location**: Specifies latitude, longitude, site boundaries, and resource files.\n",
    "- **Generation Technologies**: Encompasses details on wind, solar PV, and battery storage systems.\n",
    "- **General Generation Configuration Options**: Encompasses simulation options, battery dispatch strategies, and cost information."
   ]
  },
  {
   "cell_type": "code",
   "execution_count": 2,
   "metadata": {},
   "outputs": [],
   "source": [
    "filename_hopp_config = \"./inputs/plant/hopp_config.yaml\""
   ]
  },
  {
   "cell_type": "markdown",
   "metadata": {},
   "source": [
    "#### GreenHEART YAML Overview\n",
    "\n",
    "The GreenHEART YAML file includes information required for simulating the renewable energy generation through the end product production (hydrogen, steel, ammonia). Such as:\n",
    "\n",
    "- **Plant Design Scenarios**: Specifies location and connection of individual components of plant.\n",
    "- **Financial Parameters**: General financial parameters needed for calculating the levelized cost of product and other financial metrics.\n",
    "- **Hydrogen Equipment Information**: Including electrolyzer specifications, compressor, pipeline, and H<sub>2</sub> storage information.\n",
    "- **Policy Options**: Describes options to include [IRA](https://www.whitehouse.gov/wp-content/uploads/2022/12/Inflation-Reduction-Act-Guidebook.pdf) tax incentives policy in GreenHEART simulation."
   ]
  },
  {
   "cell_type": "code",
   "execution_count": 8,
   "metadata": {},
   "outputs": [],
   "source": [
    "filename_greenheart_config = \"./inputs/plant/greenheart_config_onshore-ammonia.yaml\""
   ]
  },
  {
   "cell_type": "markdown",
   "metadata": {},
   "source": [
    "#### Wind Turbine and FLORIS YAML Overview\n",
    "\n",
    "The GreenHEART simulation runs a steady-state wake modeling tool ([FLORIS](https://www.nrel.gov/wind/floris.html)) to assess the wind farm's energy production. For accurate modeling within FLORIS, two configuration YAML files are required:\n",
    "\n",
    "- The **Wind Turbine YAML** file includes the description of the turbine including turbine rating rotor diameter, hub hight, and the power curve.\n",
    "- The **FLORIS YAML** file includes atmospheric conditions and wake models used in simulation."
   ]
  },
  {
   "cell_type": "code",
   "execution_count": 4,
   "metadata": {},
   "outputs": [],
   "source": [
    "turbine_model = \"lbw_6MW\"\n",
    "filename_turbine_config = \"./inputs/turbines/\"+turbine_model+\".yaml\"\n",
    "filename_floris_config = \"./inputs/floris/floris_input_\"+turbine_model+\".yaml\""
   ]
  },
  {
   "cell_type": "markdown",
   "metadata": {},
   "source": [
    "### Create Full Configuration to Run GreenHEART Simulation\n",
    "---\n",
    "The class `GreenHeartSimulationConfig` reads in all the required YAML files described above, allows user to set additional settings while running the GreenHEART simulation, these include:\n",
    "- **verbose**: If set to `True` additional information about the simulation will be printed as it runs.\n",
    "- **show_plots**: If set to `True` the plots will pop up during the simulation.\n",
    "- **save_plots**: If set to `True` the plots will be saved in a figures folder.\n",
    "- **use_profast**: [ProFAST](https://github.com/NREL/ProFAST) is a financial analysis software that provides a quick and convenient in-depth financial analysis for production systems and services based on Generally Accepted Accounting Principles (GAAP) methodology.\n",
    "- **incentive_options**: Can select IRA incentives options which are located in the `GreenHEART YAML`.\n",
    "- **plant_design_scenario**: Can select the plant design scenario from options which are located in the `GreenHEART YAML`.\n",
    "- **output_level**: Determines what information is returned from the simulation."
   ]
  },
  {
   "cell_type": "code",
   "execution_count": 9,
   "metadata": {},
   "outputs": [
    {
     "name": "stdout",
     "output_type": "stream",
     "text": [
      "\n",
      "Turbine configuration:\n",
      "turbine_type :  lbw_6MW\n",
      "turbine_rating :  6.0\n",
      "hub_height :  115.0\n",
      "rotor_diameter :  196.0\n",
      "TSR :  9.0\n",
      "operation_model :  cosine-loss\n",
      "power_thrust_table :  {'ref_air_density': 1.225, 'ref_tilt': 6.0, 'cosine_loss_exponent_yaw': 1.88, 'cosine_loss_exponent_tilt': 1.88, 'wind_speed': [0.0, 0.5, 1.0, 1.5, 2.0, 2.5, 3.0, 3.5, 4.0, 4.5, 5.0, 5.5, 6.0, 6.5, 7.0, 7.5, 8.0, 8.5, 9.0, 9.5, 10.0, 10.5, 11.0, 11.5, 12.0, 12.5, 13.0, 13.5, 14.0, 14.5, 15.0, 15.5, 16.0, 16.5, 17.0, 17.5, 18.0, 18.5, 19.0, 19.5, 20.0, 20.5, 21.0, 21.5, 22.0, 22.5, 23.0, 23.5, 24.0, 24.5, 25.0, 25.5, 50.0], 'power': [0.0, 0.0, 0.0, 0.0, 0.0, 0.0, 96.24651230523119, 259.8655834676017, 466.7955856533571, 719.4426800803637, 1020.2130323647901, 1383.5436169472148, 1804.622107344728, 2297.8854847039333, 2868.1460733155195, 3491.3422371404968, 4143.412363766887, 4766.60853153047, 5283.933537682093, 5644.857957214306, 5866.224936675051, 6000.970054119055, 6015.407027531671, 6015.407039825664, 6015.407045771687, 6015.407046797342, 6015.407030784196, 6015.4070299294835, 6015.407031726689, 6015.40703252596, 6015.407050262391, 6015.4070090467885, 6015.407054050846, 6015.406990635828, 6015.407017459927, 6015.40700637177, 6015.407073713843, 6015.407017596219, 6015.407023687774, 6015.406980032777, 6015.407089532948, 6015.4070933745315, 6015.407114130176, 6015.4070674790655, 6015.407052128898, 2887.395408450592, 2887.395433080161, 2887.395444013546, 2887.3953462044515, 2887.3953052175407, 2887.3953593623974, 0.0, 0.0], 'thrust_coefficient': [0.0, 0.0, 0.0, 0.0, 0.0, 0.0, 0.2701938462552998, 0.49876088677031816, 0.6410583756749411, 0.7304171026328261, 0.7820140738475616, 0.8219695127339289, 0.8352112145765765, 0.8400940247937402, 0.8379537129170351, 0.8101778683666324, 0.7672683998396476, 0.7083562153936742, 0.6350905785639259, 0.5551074611981718, 0.4788235519553873, 0.41244475217617255, 0.35190962095427364, 0.3029658154904963, 0.2632886841215642, 0.23060389109382756, 0.20333704601408872, 0.18035220902161636, 0.16080492837083768, 0.14405295244038488, 0.12959884155843146, 0.11705148949914825, 0.10609947180098464, 0.09649207076054334, 0.08802550386379156, 0.080532705961645, 0.07387566569120284, 0.0679395700022922, 0.0626283035300828, 0.05786092523660555, 0.05356890955590444, 0.04969394382759819, 0.04618618064324506, 0.04300281785004922, 0.040106954468623494, 0.017894348350362906, 0.016747646863604262, 0.015697057336370227, 0.014732694286609812, 0.013845872021549986, 0.013028935873409437, 0.0, 0.0]}\n",
      "Total hybrid plant rating calculated: 1396.0 MW\n"
     ]
    }
   ],
   "source": [
    "config = GreenHeartSimulationConfig(\n",
    "    filename_hopp_config,\n",
    "    filename_greenheart_config,\n",
    "    filename_turbine_config,\n",
    "    filename_floris_config,\n",
    "    verbose=True,\n",
    "    show_plots=False,\n",
    "    save_plots=False,\n",
    "    use_profast=True,\n",
    "    post_processing=False,\n",
    "    incentive_option=1,\n",
    "    plant_design_scenario=9,\n",
    "    output_level=7,\n",
    ")"
   ]
  },
  {
   "cell_type": "markdown",
   "metadata": {},
   "source": [
    "### Run the GreenHEART Simulation\n",
    "---\n",
    "The simulation runs a techno-economic analysis of a given plant configuration. Data and figures are output to a seperate folder."
   ]
  },
  {
   "cell_type": "code",
   "execution_count": 10,
   "metadata": {},
   "outputs": [
    {
     "name": "stderr",
     "output_type": "stream",
     "text": [
      "/Users/kbrunik/anaconda3/envs/greenheart-oct18/lib/python3.9/site-packages/openmdao/core/driver.py:769: OpenMDAOWarning:Driver: No matches for pattern '*_df' in recording_options['excludes'].\n"
     ]
    },
    {
     "name": "stdout",
     "output_type": "stream",
     "text": [
      "FLORIS is the system model...\n",
      "Simulating wind farm output in FLORIS...\n",
      "\n",
      "HOPP Results\n",
      "Hybrid Annual Energy:  {\"pv\": 145439345.21446475, \"wind\": 3919162140.8383026, \"battery\": 6749.688966750966, \"hybrid\": 4064608235.741742}\n",
      "Capacity factors:  {\"pv\": 21.58346447246623, \"wind\": 34.52106006573002, \"battery\": 0, \"hybrid\": 31.501738360458347}\n",
      "Real LCOE from HOPP:  {\"pv\": null, \"wind\": 0, \"battery\": null, \"hybrid\": null}\n",
      "Took 0.556 sec to run the create clusters\n",
      "Took 0.018 sec to run even_split_power function\n",
      "Took 0.403 sec to run the RUN function\n",
      "\n",
      "Electrolyzer Physics:\n",
      "H2 Produced Annually (tonnes):  72335.69907143162\n",
      "Max H2 hourly (tonnes):  21.228194940440048\n",
      "Max H2 daily (tonnes):  501.71701070591985\n",
      "Energy to electrolyzer (kWh):  4064493687.804799\n",
      "Energy per kg (kWh/kg):  53.26162591421412\n",
      "Max hourly based on est kg/kWh (kg):  22149.03797711039\n",
      "Max daily rough est (tonnes):  509.81546774911857\n",
      "Electrolyzer Life Average Capacity Factor:  0.38874092612205186\n",
      "\n",
      "Hydrogen Cost Results:\n",
      "Electrolyzer Total CAPEX $/kW:  1159.097536119984\n",
      "Electrolyzer O&M $/kW:  28.384469868872497\n",
      "Electrolyzer O&M $/kg:  0.455183062727819\n",
      "\n",
      "\n",
      "Desal Results\n",
      "Average feed_water_flowrat_m3perhr   0.0\n",
      "Average desal_capex_usd   0.0\n",
      "Average desal_opex_usd_per_year   0.0\n",
      "Average power_for_desal_kw   0.0\n",
      "Average fresh_water_capacity_m3_per_hour   0.0\n",
      "Average equipment_mass_kg   0.0\n",
      "Average equipment_footprint_m2   0.0\n",
      "\n",
      "\n",
      "\n",
      "Compressor Results:\n",
      "Total H2 Flowrate (kg/hr):  0.0\n",
      "Compressor_power (kW):  0.0\n",
      "Compressor capex [USD]:  0.0\n",
      "Compressor opex [USD/yr]:  0.0\n",
      "\n",
      "H2 Storage Results:\n",
      "H2 storage capex: $192,027,693\n",
      "H2 storage annual opex: $6,372,598/yr\n",
      "H2 storage capacity (tonnes):  4492.377616482982\n",
      "H2 storage cost $/kg of H2:  42.74522530463368\n",
      "\n",
      "Energy/Power Results:\n",
      "Supply (MWh):  4064608235.7417345\n",
      "Desal (kW):  0\n",
      "Transport compressor (kW):  0.0\n",
      "Storage compression, refrigeration, etc (kW):  0.0\n",
      "\n",
      "Platform Results\n",
      "topmass_kg 0.00\n",
      "toparea_m2 0.00\n",
      "platform_mass_tonnes 0.00\n",
      "capex 0.00\n",
      "opex 0.00\n",
      "\n",
      "CAPEX Breakdown\n",
      "wind 1423.01  M\n",
      "wave 0.00  M\n",
      "solar 99.10  M\n",
      "battery 37.00  M\n",
      "platform 0.00  M\n",
      "electrical_export_system 0.00  M\n",
      "desal 0.00  M\n",
      "electrolyzer 1344.55  M\n",
      "h2_pipe_array 0.00  M\n",
      "h2_transport_compressor 0.00  M\n",
      "h2_transport_pipeline 0.00  M\n",
      "h2_storage 201.75  M\n",
      "\n",
      "Total system CAPEX:  $3.11  B\n",
      "\n",
      "Annual OPEX Breakdown\n",
      "wind_and_electrical 41.28  M\n",
      "platform 0.00  M\n",
      "wave 0.00  M\n",
      "solar 2.01  M\n",
      "battery 0.93  M\n",
      "desal 0.00  M\n",
      "electrolyzer 32.93  M\n",
      "h2_pipe_array 0.00  M\n",
      "h2_transport_compressor 0.00  M\n",
      "h2_transport_pipeline 0.00  M\n",
      "h2_storage 6.70  M\n",
      "\n",
      "Total Annual OPEX:  $83.83  M\n",
      "{'wind_and_electrical': 41275125.281676605, 'platform': 0.0, 'wave': 0.0, 'solar': 2010879.6904289294, 'battery': 925014.4993779334, 'desal': 0.0, 'electrolyzer': 32925985.047892097, 'h2_pipe_array': 0.0, 'h2_transport_compressor': 0.0, 'h2_transport_pipeline': 0.0, 'h2_storage': 6695210.848824192}\n",
      "hybrid plant capacity factor:  0.31015800397267407\n",
      "\n",
      "ProFAST LCOE:  70.73 $/MWh\n",
      "\n",
      "LCOH grid only:  7.40 $/kg\n",
      "ProFAST grid only NPV:  -0.00\n",
      "ProFAST grid only IRR:  0.09480\n",
      "ProFAST grid only LCO:  7.40 $/kg\n",
      "ProFAST grid only Profit Index:  2.70\n",
      "ProFAST grid only payback period:  10\n",
      "\n",
      "ProFAST LCOH:  6.02 $/kg\n",
      "ProFAST NPV:  -0.00\n",
      "ProFAST IRR:  0.09480\n",
      "ProFAST LCO:  6.02 $/kg\n",
      "ProFAST Profit Index:  2.28\n",
      "ProFAST payback period:  9\n",
      "Investor NPV:  1464.96 M USD\n",
      "Investor MIRR:  0.08767 \n",
      "Investor ROI:  0.46129 \n",
      "Running ammonia\n",
      "\n"
     ]
    }
   ],
   "source": [
    "# for analysis\n",
    "prob, config = run_greenheart(config, run_only=True)\n",
    "\n",
    "# for optimization\n",
    "# prob, config = run_greenheart(config, run_only=False)"
   ]
  },
  {
   "cell_type": "markdown",
   "metadata": {},
   "source": [
    "### Key Output Values"
   ]
  },
  {
   "cell_type": "code",
   "execution_count": 11,
   "metadata": {},
   "outputs": [
    {
     "name": "stdout",
     "output_type": "stream",
     "text": [
      "LCOE:  [70.73009202] [$/MWh]\n",
      "LCOH:  [6.02493445] [$/kg]\n",
      "LCOA:  [1.28047728] [$/kg]\n"
     ]
    }
   ],
   "source": [
    "lcoe = prob.get_val(\"lcoe\", units=\"USD/(MW*h)\")\n",
    "lcoh = prob.get_val(\"lcoh\", units=\"USD/kg\")\n",
    "lcoa = prob.get_val(\"lcoa\", units=\"USD/kg\")\n",
    "\n",
    "print(\"LCOE: \", lcoe, \"[$/MWh]\")\n",
    "print(\"LCOH: \", lcoh, \"[$/kg]\")\n",
    "print(\"LCOA: \", lcoa, \"[$/kg]\")"
   ]
  }
 ],
 "metadata": {
  "kernelspec": {
   "display_name": "gh",
   "language": "python",
   "name": "python3"
  },
  "language_info": {
   "codemirror_mode": {
    "name": "ipython",
    "version": 3
   },
   "file_extension": ".py",
   "mimetype": "text/x-python",
   "name": "python",
   "nbconvert_exporter": "python",
   "pygments_lexer": "ipython3",
   "version": "3.9.20"
  }
 },
 "nbformat": 4,
 "nbformat_minor": 2
}
