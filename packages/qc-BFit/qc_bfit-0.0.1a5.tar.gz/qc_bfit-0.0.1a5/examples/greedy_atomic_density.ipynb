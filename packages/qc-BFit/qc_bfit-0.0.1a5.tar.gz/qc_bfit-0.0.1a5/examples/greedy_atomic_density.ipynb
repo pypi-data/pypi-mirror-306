{
 "cells": [
  {
   "cell_type": "markdown",
   "metadata": {
    "collapsed": true,
    "pycharm": {
     "is_executing": false
    }
   },
   "source": [
    "# Greedy Method For Fitting Beryllium's Atomic Density\n",
    "\n",
    "\n",
    "This file will showcase how to use the greedy method for optimizing the Kullback-Leibler divergence functions\n",
    "that iteratively selects the next best $(n + 1)$ basis functions from the previous $n$ basis functions.\n",
    "\n",
    "There are three different choices of picking the next set of basis-functions, the one we're going to use\n",
    "in this example is the `pick_one`. This generetes the next set of initial guesses by taking the average between\n",
    "each consequent exponent, and multiplies the smallest and largest exponent by a constant $C$.  For example,\n",
    "for three exponents $\\{\\alpha_1, \\alpha_2, \\alpha_3\\}$, the three next initial guesses are\n",
    "\n",
    "$$\\mathcal{C} = \\bigg\\{ \\{C\\alpha_1, \\alpha_2, \\alpha_3 \\}, \\big\\{\\alpha_1, \\frac{\\alpha_1 + \\alpha_2}{2}, \\alpha_3 \\big\\}, \\big\\{ \\alpha_1, \\alpha_2, \\frac{\\alpha_2 + \\alpha_3}{2}, \\alpha_3 \\big\\}, \\big\\{\\alpha_1, \\alpha_2, C \\alpha_3\\big\\} \\bigg\\}. $$\n",
    "\n",
    "The greedy algorithm would optimize each initial guess in $\\mathcal{C}$ and picks the best \"local\" answer found and further\n",
    "optimizes it.  Then, this optimal answer is then used for the next `5` basis-functions."
   ]
  },
  {
   "cell_type": "markdown",
   "metadata": {},
   "source": [
    "## 1. Specify a radial grid."
   ]
  },
  {
   "cell_type": "markdown",
   "metadata": {},
   "source": [
    "The first step is to specify a one-dimensional (radial) grid.\n",
    "\n",
    "The ClenshawCurtis grid is chosen here and is recommended for radial grids since it centers the points where the electron density is thought to be high.\n",
    "However, just to make sure let's add additional points [25, 50, 75]. "
   ]
  },
  {
   "cell_type": "code",
   "execution_count": 1,
   "metadata": {},
   "outputs": [],
   "source": [
    "import numpy as np\n",
    "from bfit.grid import ClenshawRadialGrid\n",
    "\n",
    "atomic_numb = 4\n",
    "grid = ClenshawRadialGrid(atomic_numb, num_core_pts=400, num_diffuse_pts=500, \n",
    "                          extra_pts=[25, 50, 75])"
   ]
  },
  {
   "cell_type": "markdown",
   "metadata": {},
   "source": [
    "## 2. Get Slater density."
   ]
  },
  {
   "cell_type": "markdown",
   "metadata": {},
   "source": [
    "The next step is to get the atomic density of Beryllium.\n",
    "\n",
    "Additionally, let's integrate it spherically to make sure the integral of the atomic density is indeed close to the atomic number $4$ and let's plot it."
   ]
  },
  {
   "cell_type": "code",
   "execution_count": 2,
   "metadata": {},
   "outputs": [
    {
     "name": "stdout",
     "output_type": "stream",
     "text": [
      "The integral of potassium is:  3.9999910287814453894\n"
     ]
    },
    {
     "data": {
      "text/plain": "<Figure size 432x288 with 1 Axes>",
      "image/png": "[encoded data removed]"
     },
     "metadata": {
      "needs_background": "light"
     },
     "output_type": "display_data"
    }
   ],
   "source": [
    "%matplotlib inline\n",
    "from bfit.density import SlaterAtoms\n",
    "\n",
    "# Grab information about potassium.\n",
    "be = SlaterAtoms(\"be\")\n",
    "\n",
    "# Get the total electronic density.\n",
    "density = be.atomic_density(grid.points, mode=\"total\")\n",
    "\n",
    "print(\"The integral of potassium is: \", grid.integrate(density * 4.0 * np.pi * grid.points**2.0))\n",
    "\n",
    "# Plot only the first 500 points.\n",
    "import matplotlib.pyplot as plt\n",
    "plt.plot(grid.points[:500], density[:500], \"ro-\")\n",
    "plt.xlabel(\"Radial Points\")\n",
    "plt.ylabel(\"Atomic Density\")\n",
    "plt.title(\"Atomic Density of Beryllium.\")\n",
    "plt.show()"
   ]
  },
  {
   "cell_type": "markdown",
   "metadata": {},
   "source": []
  },
  {
   "cell_type": "markdown",
   "metadata": {},
   "source": [
    "## 3. Construct Greedy-KL Object."
   ]
  },
  {
   "cell_type": "markdown",
   "metadata": {},
   "source": [
    "All the pieces are in place to provide to the \"KLDivergenceFPI\" class. Here, want to make sure that `spherical=True` since we're dealing with radial atomic densities. The `pick-one` attribute specifies how the next set of basis-functions are chosen and finally the `l_maxiter` and `g_maxiter` specifies the number of iterations needed for the local choice and global choice.  We specify a large number for the global choice so that it optimizes and refines the best found local choice."
   ]
  },
  {
   "cell_type": "code",
   "execution_count": 3,
   "metadata": {},
   "outputs": [],
   "source": [
    "from bfit.greedy import GreedyKLFPI\n",
    "\n",
    "greedy = GreedyKLFPI(grid, density, \"pick-one\", l_maxiter=2500, g_maxiter=5000, spherical=True)"
   ]
  },
  {
   "cell_type": "markdown",
   "metadata": {},
   "source": []
  },
  {
   "cell_type": "code",
   "execution_count": 4,
   "metadata": {},
   "outputs": [
    {
     "name": "stdout",
     "output_type": "stream",
     "text": [
      "------------------------------------------------------------------------------------------------------------------------------------------------\n",
      "|# of Functions | # of S-type | # of P-type |  Integration  |      L1       |   L Infinity   | Least-squares |Kullback-Leibler|Change Objective|\n",
      "------------------------------------------------------------------------------------------------------------------------------------------------\n",
      "|       1       |      1      |      0      |   3.999983    | 3.758501e+00  |  3.524177e+01  | 7.943230e+00  |  4.733178e+00  |      nan       |\n",
      "|       2       |      2      |      0      |   3.999907    | 7.253813e-01  |  2.631367e+01  | 1.031142e+00  |  1.394058e-01  |  4.575385e+00  |\n",
      "|       3       |      3      |      0      |   3.999924    | 3.799149e-01  |  1.722084e+01  | 1.043090e-01  |  4.636776e-02  |  9.294167e-02  |\n",
      "|       4       |      4      |      0      |   3.999953    | 1.323686e-01  |  1.620842e+01  | 7.630855e-02  |  4.721414e-03  |  4.135387e-02  |\n",
      "------------------------------------------------------------------------------------------------------------------------------------------------\n",
      "Successful?: True\n",
      "Number of s-type: 4\n",
      "Number of p-type: 0\n",
      "Termination Information: Max number of functions reached,  4\n",
      "Objective Function: 0.004717692886119254\n",
      "Coefficients [0.56955324 1.56881298 1.2997459  0.56187837]\n",
      "Exponents [ 0.10919557  0.256764    6.49534329 28.40436813]\n",
      "[0.56955324 1.56881298 1.2997459  0.56187837]\n"
     ]
    },
    {
     "data": {
      "text/plain": "<Figure size 432x288 with 1 Axes>",
      "image/png": "[encoded data removed]"
     },
     "metadata": {
      "needs_background": "light"
     },
     "output_type": "display_data"
    }
   ],
   "source": [
    "max_numb_functions = 4\n",
    "factor = 50.0\n",
    "result = greedy.run(factor, max_numb_funcs=max_numb_functions, disp=True)\n",
    "\n",
    "from bfit.model import AtomicGaussianDensity\n",
    "model = AtomicGaussianDensity(grid.points, num_s = result[\"num_s\"], normalize=True)\n",
    "print(result[\"coeffs\"])\n",
    "model0 = model.evaluate(result[\"coeffs\"], result[\"exps\"])\n",
    "\n",
    "numb_pts = 500\n",
    "plt.plot(grid.points[:numb_pts], model0[:numb_pts], \"bo-\", label=\"Initial Model\")\n",
    "plt.plot(grid.points[:numb_pts], density[:numb_pts], \"ro-\", label=\"True Density\")\n",
    "plt.xlabel(\"Radial Points\")\n",
    "plt.ylabel(\"Atomic Density\")\n",
    "plt.title(\"Fitted vs True Atomic Density\")\n",
    "plt.legend()\n",
    "plt.show()"
   ]
  },
  {
   "cell_type": "markdown",
   "metadata": {
    "pycharm": {
     "name": "#%% md\n"
    }
   },
   "source": [
    "It becomes apparent that more basis-functions are needed in order to capture the cusp better. Free-free to re-run and modify the calculation as needed."
   ]
  }
 ],
 "metadata": {
  "kernelspec": {
   "name": "python3",
   "language": "python",
   "display_name": "Python 3"
  },
  "language_info": {
   "codemirror_mode": {
    "name": "ipython",
    "version": 2
   },
   "file_extension": ".py",
   "mimetype": "text/x-python",
   "name": "python",
   "nbconvert_exporter": "python",
   "pygments_lexer": "ipython2",
   "version": "2.7.17"
  }
 },
 "nbformat": 4,
 "nbformat_minor": 1
}