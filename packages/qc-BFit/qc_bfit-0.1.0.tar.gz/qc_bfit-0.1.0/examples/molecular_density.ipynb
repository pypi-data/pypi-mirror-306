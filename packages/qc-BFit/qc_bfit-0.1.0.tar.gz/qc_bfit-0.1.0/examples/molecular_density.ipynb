{
 "cells": [
  {
   "cell_type": "markdown",
   "metadata": {
    "collapsed": true,
    "pycharm": {
     "is_executing": false
    }
   },
   "source": [
    "# Fitting of Molecular Electron Densities. "
   ]
  },
  {
   "cell_type": "markdown",
   "metadata": {},
   "source": [
    "This example will showcase how to fit a linear combination of Gaussian functions (e.g. $e^{-\\alpha (x^2 + y^2 + z^2) }$ or $(x^2 + y^2 + z^2) e^{-\\alpha (x^2 + y^2 + z^2) }$) to a three-dimensional probability distribution $\\rho(x, y, z) : \\mathbb{R}^3 \\rightarrow \\mathbb{R}.$\n",
    "\n",
    "In particular, $\\rho$ will be the electron density function of water ($H_2O$) obtained from using the python package chemtools on a Gaussian format checkpoint (fchk) file.\n",
    "\n",
    "This algorithm will optimize the Kullback-Leibler formula $K(\\rho, \\tilde{\\rho})$ to find the best Gaussian density model $\\tilde{\\rho}(x, y, z)$ that approximates $\\rho$.\n",
    "In other words,\n",
    "\n",
    "$$\\arg\\min_{\\tilde{\\rho}}  K(\\tilde{\\rho}, \\rho) = \\arg\\min_{\\tilde{\\rho}}  \\int_{-\\infty}^{\\infty} \\int_{-\\infty}^{\\infty} \\int_{-\\infty}^{\\infty} \\rho(x, y, z) \\log\\bigg(\\frac{\\rho(x, y, z)}{\\tilde{\\rho}(x, y, z)} \\bigg) dx dy dz $$\n",
    "\n",
    "### Model\n",
    "The Gaussian density model of $N$ atoms is built from linear combination of S-type and P-type orbitals centered at each \n",
    "nucleus $(x_i, y_i, z_i)$ of that atom. In other words,\n",
    "\n",
    "$$\\tilde{\\rho}(r) = \\sum_{j=1}^{N} \\sum_i c_{ij} \\bigg(\\frac{\\alpha_{ij}}{\\pi}\\bigg)^{\\frac{3}{2}} e^{-\\alpha_{ij} r_i^2} + \\sum_{j=1}^N \\sum_k d_{ik} \\bigg(\\frac{3\\pi^{1.5}}{2 \\beta_{ik}^{2.5}}\\bigg)r_i^2 e^{-\\beta_{ik} r_i^2},$$\n",
    "\n",
    "where $r_i$ is the radius from the point to the nucleus/atomic center (ie $r_i = \\sqrt{(x - x_i)^2 + (y - y_i)^2 + (z - z_i)^2}$) and the coefficients\n",
    "sum to the number of electrons $N_{elec}$. In other words, $ \\sum c_i + \\sum d_i = N_{elec}$. "
   ]
  },
  {
   "cell_type": "markdown",
   "metadata": {},
   "source": [
    "## 1. Specify the Grid."
   ]
  },
  {
   "cell_type": "markdown",
   "metadata": {},
   "source": [
    "The first step is to specify a grid on which the probability distribution $\\rho$ will be defined on. Here, a Becke-Levedev grid is constructed from the Python package [Grid](https://github.com/theochem/grid) that is specfic to the molecule. This information about the molecule is inside a format checkpoint file which is parsed and loaded by the Python package [IOData](https://github.com/theochem/iodata)."
   ]
  },
  {
   "cell_type": "code",
   "execution_count": 1,
   "metadata": {},
   "outputs": [],
   "source": [
    "import numpy as np\n",
    "from iodata import load_one\n",
    "\n",
    "from grid.becke import BeckeWeights\n",
    "from grid.molgrid import MolGrid\n",
    "from grid.onedgrid import GaussChebyshevType2\n",
    "from grid.rtransform import BeckeTF\n",
    "\n",
    "# Use IOData to load the molecule and its information\n",
    "mol = load_one(r\"../bfit/data/neutral/h2o_ub3lyp_6311g.fchk\")\n",
    "\n",
    "# Construct a Becke-Levedev grid with 100 radial points.\n",
    "becke = BeckeWeights(order=3)\n",
    "oned = GaussChebyshevType2(100)  # Number radial points\n",
    "rgrid = BeckeTF(1e-4, 5).transform_1d_grid(oned)  # BeckeTF(rmin, rmax)\n",
    "grid = MolGrid.from_size(mol.atnums, mol.atcoords, rgrid, 500, becke, rotate=False)  # Number of angular points"
   ]
  },
  {
   "cell_type": "markdown",
   "metadata": {},
   "source": [
    "## 2. Obtain the Molecular Density."
   ]
  },
  {
   "cell_type": "markdown",
   "metadata": {},
   "source": [
    "We will now need to evaluate values of the electron density $\\rho(x, y, z)$ of water on the Becke-Levedev grid defined above.\n",
    "\n",
    "This will be done using [Gbasis](https://github.com/theochem/gbasis). The format checkpoint file \"h20_ub3lyp_6311g.fchk\" of water is located \"./bfit/data/neutral/\". Using the grid, we will integrate the density to make sure it matches the sum of atomic numbers of each element in water."
   ]
  },
  {
   "cell_type": "code",
   "execution_count": 2,
   "metadata": {},
   "outputs": [
    {
     "name": "stdout",
     "output_type": "stream",
     "text": [
      "The integration of electron density is:  9.999999881352602\n"
     ]
    }
   ],
   "source": [
    "from gbasis.wrappers import from_iodata\n",
    "from gbasis.evals.density import evaluate_density\n",
    "\n",
    "# Load Contraction Shells and evaluate electron density.\n",
    "basis, coord_types = from_iodata(mol)\n",
    "density = evaluate_density(mol.one_rdms[\"scf\"], basis, grid.points, coord_type=coord_types)\n",
    "\n",
    "# The integration of electron density of water should match the sum of atomic numbers.\n",
    "print(\"The integration of electron density is: \", grid.integrate(density))"
   ]
  },
  {
   "cell_type": "markdown",
   "metadata": {
    "pycharm": {
     "is_executing": false
    }
   },
   "source": [
    "## 3. Define the Model."
   ]
  },
  {
   "cell_type": "markdown",
   "metadata": {},
   "source": [
    "The next step is to define what kind of Gaussian model to place onto each atom in the molecule.\n",
    "\n",
    "For example, we place a model on the atom $A$ centered at $R_A$ to be composed of 7 $s$-type normalized Gaussians and 3 $p$-type normalized Gaussians : $$\\rho_A(x, y, z) = \\sum_{i=1}^7 c_i \\bigg(\\frac{\\alpha_i}{\\pi} \\bigg)^{3/2} e^{-\\alpha_i ||(x, y, z) - R_A||^2} + \\sum_{j=1}^{3} d_i \\bigg(\\frac{2\\beta_i^{\\frac{5}{2}}}{3 \\pi^{\\frac{3}{2}}} \\bigg)  ||(x, y, z)||^2 e^{-\\beta_i ||(x, y, z) - R_A||^2}$$\n",
    "\n",
    "Since oxygen has a higher atomic number, we will assign more basis-functions to it.\n",
    "In this example, we will place 7 $s$-Type and 3 $p$-Type Gaussian functions to Oxygen and 3 $s$-type Gaussian functions to each Hydrogen."
   ]
  },
  {
   "cell_type": "code",
   "execution_count": 3,
   "metadata": {},
   "outputs": [],
   "source": [
    "from bfit.model import MolecularGaussianDensity\n",
    "\n",
    "# Here, we will defined how many [S-type, P-type] basis functions\n",
    "# we want for oxygen, hydrogen and other hydrogen.\n",
    "numb_basis = np.array([[7, 3], [3, 0], [3, 0]])\n",
    "\n",
    "model = MolecularGaussianDensity(grid.points, mol.atcoords, numb_basis, normalize=True)"
   ]
  },
  {
   "cell_type": "markdown",
   "metadata": {},
   "source": [
    "## 4. Run the Kullback-Leibler SCF method. "
   ]
  },
  {
   "cell_type": "markdown",
   "metadata": {},
   "source": [
    "The final step is to optimize the Kullback-Leibler using the SCF method.\n",
    "\n",
    "In order to do so, we will first need to define initial guesses for both coefficients $\\{c_i\\}, \\{d_i\\}$ and exponents $\\{\\alpha_i\\}, \\{\\beta_i\\}$ of our Gaussian model above.\n",
    "\n",
    "The recommendation for initial guess are:\n",
    "    - Initial coefficients does not matter.\n",
    "    - Exponents even-tempered and spread out.\n",
    "    \n",
    "This example will run only 15 iterations for simplicity and will display the output and errors.\n",
    "\n",
    "The four performance measures are: the integration value over the grid $\\int \\tilde{\\rho}(x, y, z) dx dy dz$, the $L_1(\\tilde{\\rho}, \\rho)$ distance, the $L_\\infty(\\tilde{\\rho}, \\rho)$ distance and the Kullback-Leibler $K(\\tilde{\\rho}, \\rho)$. The $L_1$ and $L_\\infty$ distance are defined as:\n",
    "\n",
    "$$L_1(\\tilde{\\rho}, \\rho) = \\int |\\rho(x, y, z) - \\tilde{\\rho}(x, y, z)|dx dy dz$$\n",
    "\n",
    "$$ L_\\infty(\\tilde{\\rho}, \\rho) = \\max_{(x, y, z)} |\\rho(x, y, z) - \\tilde{\\rho}(x, y, z)|$$"
   ]
  },
  {
   "cell_type": "code",
   "execution_count": 4,
   "metadata": {},
   "outputs": [
    {
     "name": "stdout",
     "output_type": "stream",
     "text": [
      "-------------------------------------------------------------------------------------------------------------------------------------------\n",
      "|Iteration |Integration |      L1       |  L Infinity   | Least-squares |Kullback-Leibler| Change Coeffs |  Change Exps  |Change Objective|\n",
      "-------------------------------------------------------------------------------------------------------------------------------------------\n",
      "|    1     | 10.000000  | 3.404213e+00  |  308.718174   | 1.068795e+01  |  8.660143e-01  | 9.983781e-01  | 9.219706e+02  |      inf      |\n",
      "|    2     | 10.000000  | 2.154237e+00  |   92.918469   | 1.955089e+00  |  3.892675e-01  | 4.493435e-01  | 1.651891e+02  | 4.767468e-01  |\n",
      "|    3     | 10.000000  | 1.569733e+00  |   41.615902   | 6.344140e-01  |  2.317056e-01  | 2.077806e-01  | 6.959799e+01  | 1.575619e-01  |\n",
      "|    4     | 10.000000  | 1.300878e+00  |   20.796842   | 2.837115e-01  |  1.663654e-01  | 1.021564e-01  | 3.639257e+01  | 6.534014e-02  |\n",
      "|    5     | 10.000000  | 1.157578e+00  |   25.404957   | 1.895408e-01  |  1.341653e-01  | 5.858109e-02  | 2.191266e+01  | 3.220017e-02  |\n",
      "|    6     | 10.000000  | 1.072300e+00  |   32.109356   | 1.705859e-01  |  1.156827e-01  | 5.186315e-02  | 1.540191e+01  | 1.848253e-02  |\n",
      "|    7     | 10.000000  | 1.011468e+00  |   35.294453   | 1.706867e-01  |  1.036521e-01  | 4.693775e-02  | 1.270371e+01  | 1.203065e-02  |\n",
      "|    8     | 10.000000  | 9.646915e-01  |   36.735795   | 1.731892e-01  |  9.508342e-02  | 4.312146e-02  | 1.181794e+01  | 8.568677e-03  |\n",
      "|    9     | 10.000000  | 9.273101e-01  |   37.407953   | 1.740943e-01  |  8.861299e-02  | 3.995343e-02  | 1.170334e+01  | 6.470427e-03  |\n",
      "|    10    | 10.000000  | 8.968653e-01  |   37.826367   | 1.730396e-01  |  8.354251e-02  | 3.716047e-02  | 1.182395e+01  | 5.070479e-03  |\n",
      "|    11    | 10.000000  | 8.712380e-01  |   38.240470   | 1.704721e-01  |  7.947174e-02  | 3.459638e-02  | 1.192586e+01  | 4.070775e-03  |\n",
      "|    12    | 10.000000  | 8.493091e-01  |   38.751413   | 1.668845e-01  |  7.614857e-02  | 3.219141e-02  | 1.190983e+01  | 3.323162e-03  |\n",
      "|    13    | 10.000000  | 8.303112e-01  |   39.383376   | 1.626640e-01  |  7.340247e-02  | 2.991764e-02  | 1.175581e+01  | 2.746105e-03  |\n",
      "|    14    | 10.000000  | 8.138057e-01  |   40.124875   | 1.580926e-01  |  7.111181e-02  | 2.776744e-02  | 1.147949e+01  | 2.290660e-03  |\n",
      "|    15    | 10.000000  | 7.993589e-01  |   40.951213   | 1.533713e-01  |  6.918647e-02  | 2.574134e-02  | 1.110888e+01  | 1.925343e-03  |\n",
      "-------------------------------------------------------------------------------------------------------------------------------------------\n",
      "Successful?: False\n",
      "Time: 10.69 seconds\n",
      "Coefficients [2.49788974e-03 1.29538376e+00 2.52735918e+00 7.66518290e-01\n",
      " 1.16306188e+00 9.08795109e-02 1.82475171e-02 5.72787554e-03\n",
      " 2.09605227e+00 9.52415724e-01 1.80309330e-01 1.80309330e-01\n",
      " 1.80309330e-01 1.80309330e-01 1.80309330e-01 1.80309330e-01]\n",
      "Exponents [1.19470215e-01 2.62652589e-01 1.20012861e+00 1.49240944e+01\n",
      " 5.65171835e+01 3.35844919e+02 6.63306339e+02 1.00502442e-01\n",
      " 1.22559152e+00 4.68947350e+00 1.38017175e+00 1.38017175e+00\n",
      " 1.38017175e+00 1.38017175e+00 1.38017175e+00 1.38017175e+00]\n"
     ]
    }
   ],
   "source": [
    "from bfit.fit import KLDivergenceFPI\n",
    "\n",
    "# Create the fit object.\n",
    "fit = KLDivergenceFPI(grid, density, model)\n",
    "\n",
    "# Define coefficients to be all ones for oxygen, hydrogen and hydrogen.\n",
    "c_o, c_h1, c_h2 = [1.] * 10, [1.] * 3,[1.] * 3\n",
    "e_o = [0.001, 0.1, 1., 10., 100., 1000., 2000., 0.01, 1., 10.]\n",
    "e_h1, e_h2 = [0.01, 10., 100.], [0.01, 10., 100.]\n",
    "\n",
    "# Place all coefficients and exponents in a one-dimensional array\n",
    "# with the same ordering.\n",
    "coeffs_h2o = np.array(c_o + c_h1  + c_h2)\n",
    "exps_h2o = np.array(e_o + c_h1 + c_h2)\n",
    "\n",
    "# Run the algorithm.\n",
    "results = fit.run(coeffs_h2o, exps_h2o, maxiter=15, c_threshold=1e-3,\n",
    "                  e_threshold=1e-4, d_threshold=1e-6, disp=True)\n"
   ]
  },
  {
   "cell_type": "markdown",
   "metadata": {},
   "source": [
    "### Plotting The Error Measures"
   ]
  },
  {
   "cell_type": "code",
   "execution_count": 7,
   "metadata": {},
   "outputs": [
    {
     "data": {
      "text/plain": "<Figure size 720x720 with 4 Axes>",
      "image/png": "[encoded data removed]"
     },
     "metadata": {
      "needs_background": "light"
     },
     "output_type": "display_data"
    }
   ],
   "source": [
    "# Plot the error measures.\n",
    "import matplotlib.pyplot as plt\n",
    "\n",
    "fig, axs = plt.subplots(2, 2, figsize=(10,10))\n",
    "axs[0, 0].plot(results[\"performance\"][:, 0])\n",
    "axs[0, 0].set_title(\"Integration value\")\n",
    "axs[0, 1].plot(results[\"performance\"][:, 1])\n",
    "axs[0, 1].set_title(\"L_1 distance\")\n",
    "axs[1, 0].plot(results[\"performance\"][:, 2])\n",
    "axs[1, 0].set_title(\"L infinity distance\")\n",
    "axs[1, 1].plot(results[\"performance\"][:, 3])\n",
    "axs[1, 1].set_title(\"Kullback-Leibler value\")\n",
    "for ax in fig.get_axes()[2:]:\n",
    "    ax.set(xlabel='Iterations')\n",
    "plt.tight_layout()\n",
    "plt.show()"
   ]
  },
  {
   "cell_type": "code",
   "execution_count": 5,
   "metadata": {},
   "outputs": [],
   "source": []
  }
 ],
 "metadata": {
  "kernelspec": {
   "name": "python3",
   "language": "python",
   "display_name": "Python 3"
  },
  "language_info": {
   "codemirror_mode": {
    "name": "ipython",
    "version": 2
   },
   "file_extension": ".py",
   "mimetype": "text/x-python",
   "name": "python",
   "nbconvert_exporter": "python",
   "pygments_lexer": "ipython2",
   "version": "2.7.17"
  }
 },
 "nbformat": 4,
 "nbformat_minor": 1
}