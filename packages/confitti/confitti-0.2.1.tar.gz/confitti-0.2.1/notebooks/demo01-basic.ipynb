{
 "cells": [
  {
   "cell_type": "markdown",
   "id": "466157e1-110e-46a3-9a4b-f8c62395759e",
   "metadata": {},
   "source": [
    "# Demonstrate basic functionality of confit"
   ]
  },
  {
   "cell_type": "markdown",
   "id": "f49f8cc0-efec-4c5a-81b8-4638a88385f6",
   "metadata": {},
   "source": [
    "## Imports\n",
    "\n",
    "We need to explictly add the path to the library since we haven't installed it yet."
   ]
  },
  {
   "cell_type": "code",
   "execution_count": 1,
   "id": "ab5605ba-2b7b-448d-8402-c8e173ada869",
   "metadata": {
    "execution": {
     "iopub.execute_input": "2024-10-17T01:12:49.914310Z",
     "iopub.status.busy": "2024-10-17T01:12:49.913980Z",
     "iopub.status.idle": "2024-10-17T01:12:49.919851Z",
     "shell.execute_reply": "2024-10-17T01:12:49.918651Z"
    }
   },
   "outputs": [],
   "source": [
    "import time"
   ]
  },
  {
   "cell_type": "code",
   "execution_count": 2,
   "id": "00065388",
   "metadata": {
    "execution": {
     "iopub.execute_input": "2024-10-17T01:12:49.924512Z",
     "iopub.status.busy": "2024-10-17T01:12:49.924143Z",
     "iopub.status.idle": "2024-10-17T01:13:02.238795Z",
     "shell.execute_reply": "2024-10-17T01:13:02.238122Z"
    }
   },
   "outputs": [],
   "source": [
    "start_time = time.time()\n",
    "from pathlib import Path\n",
    "import confitti\n",
    "import numpy as np\n",
    "import lmfit\n",
    "from matplotlib import pyplot as plt\n",
    "import seaborn as sns"
   ]
  },
  {
   "cell_type": "markdown",
   "id": "0f0265fb-e620-4895-b9f6-540db2932eda",
   "metadata": {},
   "source": [
    "Check that we have the right module"
   ]
  },
  {
   "cell_type": "code",
   "execution_count": 3,
   "id": "cc5dab78-78d2-4e1f-81d4-e192a1d6d113",
   "metadata": {
    "execution": {
     "iopub.execute_input": "2024-10-17T01:13:02.242078Z",
     "iopub.status.busy": "2024-10-17T01:13:02.241701Z",
     "iopub.status.idle": "2024-10-17T01:13:02.246124Z",
     "shell.execute_reply": "2024-10-17T01:13:02.245254Z"
    }
   },
   "outputs": [],
   "source": [
    "confitti?"
   ]
  },
  {
   "cell_type": "markdown",
   "id": "547ffbae-e97c-46aa-b058-84234b7db907",
   "metadata": {},
   "source": [
    "## Where to save the figures"
   ]
  },
  {
   "cell_type": "code",
   "execution_count": 4,
   "id": "3d5eeda2-8196-4d24-b0c8-45c6a9e910ee",
   "metadata": {
    "execution": {
     "iopub.execute_input": "2024-10-17T01:13:02.250229Z",
     "iopub.status.busy": "2024-10-17T01:13:02.249457Z",
     "iopub.status.idle": "2024-10-17T01:13:02.254317Z",
     "shell.execute_reply": "2024-10-17T01:13:02.253512Z"
    }
   },
   "outputs": [],
   "source": [
    "figpath = Path.cwd().parent / \"figs\"\n",
    "saveprefix = \"demo01\""
   ]
  },
  {
   "cell_type": "markdown",
   "id": "1ba71acd-9a39-4c3e-97e7-42b2b1b9fe28",
   "metadata": {},
   "source": [
    "## Test data\n",
    "\n",
    "Symmetric arrangement of 7 points, which I then stretch and distort to make it more interesting.  Using fewer than 7 points is not recommended, although it is possible to ge spectacularly small residuals that way!"
   ]
  },
  {
   "cell_type": "code",
   "execution_count": 5,
   "id": "377e218c-c0a9-4845-9e94-d889b38b37ab",
   "metadata": {
    "execution": {
     "iopub.execute_input": "2024-10-17T01:13:02.257477Z",
     "iopub.status.busy": "2024-10-17T01:13:02.257176Z",
     "iopub.status.idle": "2024-10-17T01:13:02.260894Z",
     "shell.execute_reply": "2024-10-17T01:13:02.260091Z"
    }
   },
   "outputs": [],
   "source": [
    "xpts, ypts = np.array([1, 2, 3, 4, 5, 6, 7]), np.array([0, 4, 6, 7, 6, 4, 0])\n",
    "ypts += xpts\n",
    "xpts *= 3"
   ]
  },
  {
   "cell_type": "markdown",
   "id": "ecc96711-9114-419b-b951-a0db7cc2b411",
   "metadata": {},
   "source": [
    "Plot the points"
   ]
  },
  {
   "cell_type": "code",
   "execution_count": 6,
   "id": "15b15d03-3941-427e-aa99-287ab2fed6ca",
   "metadata": {
    "execution": {
     "iopub.execute_input": "2024-10-17T01:13:02.264505Z",
     "iopub.status.busy": "2024-10-17T01:13:02.264013Z",
     "iopub.status.idle": "2024-10-17T01:13:02.501900Z",
     "shell.execute_reply": "2024-10-17T01:13:02.499709Z"
    }
   },
   "outputs": [
    {
     "data": {
      "image/png": "[encoded data removed]",
      "text/plain": [
       "<Figure size 640x480 with 1 Axes>"
      ]
     },
     "metadata": {},
     "output_type": "display_data"
    }
   ],
   "source": [
    "fig, ax = plt.subplots()\n",
    "ax.scatter(xpts, ypts)\n",
    "ax.set_aspect(\"equal\")\n",
    "...;"
   ]
  },
  {
   "cell_type": "code",
   "execution_count": 7,
   "id": "facdf6cb-f3a2-459d-b81f-1e18db8d7750",
   "metadata": {
    "execution": {
     "iopub.execute_input": "2024-10-17T01:13:02.506205Z",
     "iopub.status.busy": "2024-10-17T01:13:02.505602Z",
     "iopub.status.idle": "2024-10-17T01:13:02.916012Z",
     "shell.execute_reply": "2024-10-17T01:13:02.915149Z"
    }
   },
   "outputs": [],
   "source": [
    "fig.savefig(figpath / f\"{saveprefix}-points.pdf\", bbox_inches=\"tight\")"
   ]
  },
  {
   "cell_type": "markdown",
   "id": "18def3ca-2d24-48d7-943b-1cf38ace94ae",
   "metadata": {},
   "source": [
    "## Initial guess at conic parameters\n",
    "\n",
    "This is done automatically inside the fitting function, but we will do it explicitly so we can see what it is doing"
   ]
  },
  {
   "cell_type": "code",
   "execution_count": 8,
   "id": "1d236a45-d7fc-4ee9-a531-448672bb703c",
   "metadata": {
    "execution": {
     "iopub.execute_input": "2024-10-17T01:13:02.920073Z",
     "iopub.status.busy": "2024-10-17T01:13:02.919782Z",
     "iopub.status.idle": "2024-10-17T01:13:02.925165Z",
     "shell.execute_reply": "2024-10-17T01:13:02.924324Z"
    }
   },
   "outputs": [
    {
     "data": {
      "text/plain": [
       "{'x0': 12.0,\n",
       " 'y0': 7.857142857142857,\n",
       " 'r0': 4.670003423475774,\n",
       " 'theta0': 96.9268304461369,\n",
       " 'eccentricity': 1.0}"
      ]
     },
     "execution_count": 8,
     "metadata": {},
     "output_type": "execute_result"
    }
   ],
   "source": [
    "initial_conic = confitti.init_conic_from_xy(xpts, ypts)\n",
    "initial_conic"
   ]
  },
  {
   "cell_type": "markdown",
   "id": "21728ae1-5224-426f-a217-0eb6e91364a3",
   "metadata": {},
   "source": [
    "Look at the residuals for this initial guess, which is\n",
    "$$\n",
    "r - e d\n",
    "$$\n",
    "where $r$ is the radius of each point from the focus and $d$ is the distance of each point from the directrix.\n",
    "\n",
    "We turn on DEBUG so that the residual function will print out the individual vectors, $r$, $d$, and $e \\times d$."
   ]
  },
  {
   "cell_type": "code",
   "execution_count": 9,
   "id": "9b70c5c1-82ee-4b52-9d4e-83b8d5e0ff8b",
   "metadata": {
    "execution": {
     "iopub.execute_input": "2024-10-17T01:13:02.928431Z",
     "iopub.status.busy": "2024-10-17T01:13:02.928118Z",
     "iopub.status.idle": "2024-10-17T01:13:02.935215Z",
     "shell.execute_reply": "2024-10-17T01:13:02.934236Z"
    }
   },
   "outputs": [
    {
     "data": {
      "text/plain": [
       "array([-3.74707344, -4.17914182, -4.6333713 , -3.07723235, -2.23706426,\n",
       "       -1.56522843, -2.23558463])"
      ]
     },
     "execution_count": 9,
     "metadata": {},
     "output_type": "execute_result"
    }
   ],
   "source": [
    "initial_params = lmfit.create_params(**initial_conic)\n",
    "confitti.DEBUG = True\n",
    "confitti.residual(initial_params, xpts, ypts)"
   ]
  },
  {
   "cell_type": "markdown",
   "id": "6ce36d5e-db97-4249-a741-b7a420ca8a7b",
   "metadata": {},
   "source": [
    "The residuals are all negative, meaning points are inside the conic. This suggests that `r0` is overestimated."
   ]
  },
  {
   "cell_type": "markdown",
   "id": "613e56da-5058-4f18-adee-9e91fb8dd856",
   "metadata": {},
   "source": [
    "Turn the `DEBUG` flag back off."
   ]
  },
  {
   "cell_type": "code",
   "execution_count": 10,
   "id": "7fa730ef-2ce8-4ba1-8db0-039c5758e4ed",
   "metadata": {
    "execution": {
     "iopub.execute_input": "2024-10-17T01:13:02.938266Z",
     "iopub.status.busy": "2024-10-17T01:13:02.938012Z",
     "iopub.status.idle": "2024-10-17T01:13:02.941190Z",
     "shell.execute_reply": "2024-10-17T01:13:02.940564Z"
    }
   },
   "outputs": [],
   "source": [
    "confitti.DEBUG = False"
   ]
  },
  {
   "cell_type": "markdown",
   "id": "d3f76099-0381-4d63-b49e-a8624d0ad214",
   "metadata": {},
   "source": [
    "## Do the fitting\n",
    "\n",
    "We first fit a parabola ($e = 1$) by setting `only_parabola=True`, which is not strictly necessary since it is the default. And then another fit of a general conic with `only_parabola=False` so that the eccentricity is allowed to vary."
   ]
  },
  {
   "cell_type": "code",
   "execution_count": 11,
   "id": "3eb48520-4c73-4e8b-8d03-404e321fae8b",
   "metadata": {
    "execution": {
     "iopub.execute_input": "2024-10-17T01:13:02.944354Z",
     "iopub.status.busy": "2024-10-17T01:13:02.944095Z",
     "iopub.status.idle": "2024-10-17T01:13:02.961216Z",
     "shell.execute_reply": "2024-10-17T01:13:02.960519Z"
    }
   },
   "outputs": [],
   "source": [
    "result_p = confitti.fit_conic_to_xy(xpts, ypts, only_parabola=True)\n",
    "result_e = confitti.fit_conic_to_xy(xpts, ypts, only_parabola=False)"
   ]
  },
  {
   "cell_type": "markdown",
   "id": "0b828615-1551-4bcb-939d-8749478952df",
   "metadata": {},
   "source": [
    "Compare the two results"
   ]
  },
  {
   "cell_type": "code",
   "execution_count": 12,
   "id": "26377515-5b11-428d-8688-d6b98f92a7d2",
   "metadata": {
    "execution": {
     "iopub.execute_input": "2024-10-17T01:13:02.964405Z",
     "iopub.status.busy": "2024-10-17T01:13:02.964136Z",
     "iopub.status.idle": "2024-10-17T01:13:02.969800Z",
     "shell.execute_reply": "2024-10-17T01:13:02.969055Z"
    }
   },
   "outputs": [
    {
     "data": {
      "text/html": [
       "<h2>Fit Result</h2> <table class=\"jp-toc-ignore\"><caption class=\"jp-toc-ignore\">Fit Statistics</caption><tr><td style='text-align:left'>fitting method</td><td style='text-align:right'>leastsq</td></tr><tr><td style='text-align:left'># function evals</td><td style='text-align:right'>26</td></tr><tr><td style='text-align:left'># data points</td><td style='text-align:right'>7</td></tr><tr><td style='text-align:left'># variables</td><td style='text-align:right'>4</td></tr><tr><td style='text-align:left'>chi-square</td><td style='text-align:right'> 0.18117524</td></tr><tr><td style='text-align:left'>reduced chi-square</td><td style='text-align:right'> 0.06039175</td></tr><tr><td style='text-align:left'>Akaike info crit.</td><td style='text-align:right'>-17.5794048</td></tr><tr><td style='text-align:left'>Bayesian info crit.</td><td style='text-align:right'>-17.7957642</td></tr></table><table class=\"jp-toc-ignore\"><caption>Parameters</caption><tr><th style='text-align:left'>name</th><th style='text-align:left'>value</th><th style='text-align:left'>standard error</th><th style='text-align:left'>relative error</th><th style='text-align:left'>initial value</th><th style='text-align:left'>min</th><th style='text-align:left'>max</th><th style='text-align:right'>vary</th></tr><tr><td style='text-align:left'>x0</td><td style='text-align:left'> 13.9604323</td><td style='text-align:left'> 0.31535735</td><td style='text-align:left'>(2.26%)</td><td style='text-align:left'>12.0</td><td style='text-align:left'>       -inf</td><td style='text-align:left'>        inf</td><td style='text-align:right'>True</td></tr><tr><td style='text-align:left'>y0</td><td style='text-align:left'> 8.23028642</td><td style='text-align:left'> 0.21719230</td><td style='text-align:left'>(2.64%)</td><td style='text-align:left'>7.857142857142857</td><td style='text-align:left'>       -inf</td><td style='text-align:left'>        inf</td><td style='text-align:right'>True</td></tr><tr><td style='text-align:left'>r0</td><td style='text-align:left'> 2.98270877</td><td style='text-align:left'> 0.15103868</td><td style='text-align:left'>(5.06%)</td><td style='text-align:left'>4.670003423475774</td><td style='text-align:left'> 0.00000000</td><td style='text-align:left'>        inf</td><td style='text-align:right'>True</td></tr><tr><td style='text-align:left'>theta0</td><td style='text-align:left'> 90.1860041</td><td style='text-align:left'> 2.64713517</td><td style='text-align:left'>(2.94%)</td><td style='text-align:left'>96.9268304461369</td><td style='text-align:left'>-90.0000000</td><td style='text-align:left'> 360.000000</td><td style='text-align:right'>True</td></tr><tr><td style='text-align:left'>eccentricity</td><td style='text-align:left'> 1.00000000</td><td style='text-align:left'> 0.00000000</td><td style='text-align:left'>(0.00%)</td><td style='text-align:left'>1.0</td><td style='text-align:left'> 0.00000000</td><td style='text-align:left'>        inf</td><td style='text-align:right'>False</td></tr></table><table class=\"jp-toc-ignore\"><caption>Correlations (unreported values are < 0.100)</caption><tr><th style='text-align:left'>Parameter1</th><th style='text-align:left'>Parameter 2</th><th style='text-align:right'>Correlation</th></tr><tr><td style='text-align:left'>y0</td><td style='text-align:left'>r0</td><td style='text-align:right'>-0.9428</td></tr><tr><td style='text-align:left'>x0</td><td style='text-align:left'>theta0</td><td style='text-align:right'>-0.9271</td></tr><tr><td style='text-align:left'>r0</td><td style='text-align:left'>theta0</td><td style='text-align:right'>+0.5817</td></tr><tr><td style='text-align:left'>y0</td><td style='text-align:left'>theta0</td><td style='text-align:right'>-0.5134</td></tr><tr><td style='text-align:left'>x0</td><td style='text-align:left'>r0</td><td style='text-align:right'>-0.4388</td></tr><tr><td style='text-align:left'>x0</td><td style='text-align:left'>y0</td><td style='text-align:right'>+0.3861</td></tr></table>"
      ],
      "text/plain": [
       "<lmfit.minimizer.MinimizerResult at 0x13d273980>"
      ]
     },
     "execution_count": 12,
     "metadata": {},
     "output_type": "execute_result"
    }
   ],
   "source": [
    "result_p"
   ]
  },
  {
   "cell_type": "code",
   "execution_count": 13,
   "id": "edf841fb-d9bd-4324-93a5-07beff9d4c75",
   "metadata": {
    "execution": {
     "iopub.execute_input": "2024-10-17T01:13:02.972855Z",
     "iopub.status.busy": "2024-10-17T01:13:02.972638Z",
     "iopub.status.idle": "2024-10-17T01:13:02.977342Z",
     "shell.execute_reply": "2024-10-17T01:13:02.976675Z"
    }
   },
   "outputs": [
    {
     "data": {
      "text/html": [
       "<h2>Fit Result</h2> <table class=\"jp-toc-ignore\"><caption class=\"jp-toc-ignore\">Fit Statistics</caption><tr><td style='text-align:left'>fitting method</td><td style='text-align:right'>leastsq</td></tr><tr><td style='text-align:left'># function evals</td><td style='text-align:right'>49</td></tr><tr><td style='text-align:left'># data points</td><td style='text-align:right'>7</td></tr><tr><td style='text-align:left'># variables</td><td style='text-align:right'>5</td></tr><tr><td style='text-align:left'>chi-square</td><td style='text-align:right'> 0.16724879</td></tr><tr><td style='text-align:left'>reduced chi-square</td><td style='text-align:right'> 0.08362439</td></tr><tr><td style='text-align:left'>Akaike info crit.</td><td style='text-align:right'>-16.1392808</td></tr><tr><td style='text-align:left'>Bayesian info crit.</td><td style='text-align:right'>-16.4097301</td></tr></table><table class=\"jp-toc-ignore\"><caption>Parameters</caption><tr><th style='text-align:left'>name</th><th style='text-align:left'>value</th><th style='text-align:left'>standard error</th><th style='text-align:left'>relative error</th><th style='text-align:left'>initial value</th><th style='text-align:left'>min</th><th style='text-align:left'>max</th><th style='text-align:right'>vary</th></tr><tr><td style='text-align:left'>x0</td><td style='text-align:left'> 14.1836937</td><td style='text-align:left'> 0.62239153</td><td style='text-align:left'>(4.39%)</td><td style='text-align:left'>12.0</td><td style='text-align:left'>       -inf</td><td style='text-align:left'>        inf</td><td style='text-align:right'>True</td></tr><tr><td style='text-align:left'>y0</td><td style='text-align:left'> 7.94428397</td><td style='text-align:left'> 0.70230734</td><td style='text-align:left'>(8.84%)</td><td style='text-align:left'>7.857142857142857</td><td style='text-align:left'>       -inf</td><td style='text-align:left'>        inf</td><td style='text-align:right'>True</td></tr><tr><td style='text-align:left'>r0</td><td style='text-align:left'> 3.24220033</td><td style='text-align:left'> 0.61614852</td><td style='text-align:left'>(19.00%)</td><td style='text-align:left'>4.670003423475774</td><td style='text-align:left'> 0.00000000</td><td style='text-align:left'>        inf</td><td style='text-align:right'>True</td></tr><tr><td style='text-align:left'>theta0</td><td style='text-align:left'> 87.8025893</td><td style='text-align:left'> 6.56714230</td><td style='text-align:left'>(7.48%)</td><td style='text-align:left'>96.9268304461369</td><td style='text-align:left'>-90.0000000</td><td style='text-align:left'> 360.000000</td><td style='text-align:right'>True</td></tr><tr><td style='text-align:left'>eccentricity</td><td style='text-align:left'> 0.93362537</td><td style='text-align:left'> 0.14810864</td><td style='text-align:left'>(15.86%)</td><td style='text-align:left'>1.0</td><td style='text-align:left'> 0.00000000</td><td style='text-align:left'>        inf</td><td style='text-align:right'>True</td></tr></table><table class=\"jp-toc-ignore\"><caption>Correlations (unreported values are < 0.100)</caption><tr><th style='text-align:left'>Parameter1</th><th style='text-align:left'>Parameter 2</th><th style='text-align:right'>Correlation</th></tr><tr><td style='text-align:left'>y0</td><td style='text-align:left'>r0</td><td style='text-align:right'>-0.9909</td></tr><tr><td style='text-align:left'>x0</td><td style='text-align:left'>theta0</td><td style='text-align:right'>-0.9701</td></tr><tr><td style='text-align:left'>r0</td><td style='text-align:left'>eccentricity</td><td style='text-align:right'>-0.9506</td></tr><tr><td style='text-align:left'>y0</td><td style='text-align:left'>eccentricity</td><td style='text-align:right'>+0.9280</td></tr><tr><td style='text-align:left'>theta0</td><td style='text-align:left'>eccentricity</td><td style='text-align:right'>+0.8304</td></tr><tr><td style='text-align:left'>x0</td><td style='text-align:left'>eccentricity</td><td style='text-align:right'>-0.7571</td></tr><tr><td style='text-align:left'>r0</td><td style='text-align:left'>theta0</td><td style='text-align:right'>-0.6780</td></tr><tr><td style='text-align:left'>y0</td><td style='text-align:left'>theta0</td><td style='text-align:right'>+0.6587</td></tr><tr><td style='text-align:left'>x0</td><td style='text-align:left'>r0</td><td style='text-align:right'>+0.6146</td></tr><tr><td style='text-align:left'>x0</td><td style='text-align:left'>y0</td><td style='text-align:right'>-0.5995</td></tr></table>"
      ],
      "text/plain": [
       "<lmfit.minimizer.MinimizerResult at 0x13cc1f740>"
      ]
     },
     "execution_count": 13,
     "metadata": {},
     "output_type": "execute_result"
    }
   ],
   "source": [
    "result_e"
   ]
  },
  {
   "cell_type": "markdown",
   "id": "8813c013-a0ee-4d0d-9ff5-bab4d4134311",
   "metadata": {},
   "source": [
    "So the best general conic fit is an ellipse with quite a high eccentricity. The scale `r0` (the distance from the focus to the apex) is quite similar to the initial guess, and so is the orientation `theta`. The position of the focus `x0, y0` has changed a bit though.\n",
    "\n",
    "There is very little difference between the parameters of the parabola fit and the general conic fit. The chi-square is slightly lower for the general fit. But the number of degrees of freedom is lower bbecause of the ectra parameter, so the reduced chi-square is larger. This means that there is little justification for using the general conic in this case.\n",
    "\n",
    "On the other hand, the uncertainty on the angle and radius are significantly higher for the general fit, which might be more realistic. These uncertainties are calculated from the Hessian matrix and are not necessarily accurate, since we are not using any real errors in the data points. We will get better estimate of parameter uncertainties from MCMC later.\n",
    "\n",
    "There are some significant correlations between parameters, whic is also better studied via MCMC.\n",
    "\n",
    "Look at the residuals:"
   ]
  },
  {
   "cell_type": "code",
   "execution_count": 14,
   "id": "e4f18117-c418-4b13-9d66-944d2e345437",
   "metadata": {
    "execution": {
     "iopub.execute_input": "2024-10-17T01:13:02.980430Z",
     "iopub.status.busy": "2024-10-17T01:13:02.980111Z",
     "iopub.status.idle": "2024-10-17T01:13:02.985493Z",
     "shell.execute_reply": "2024-10-17T01:13:02.984372Z"
    }
   },
   "outputs": [
    {
     "data": {
      "text/plain": [
       "array([-0.029657  ,  0.09711228, -0.15980904,  0.20396388, -0.24071303,\n",
       "        0.20138744, -0.07228452])"
      ]
     },
     "execution_count": 14,
     "metadata": {},
     "output_type": "execute_result"
    }
   ],
   "source": [
    "result_p.residual"
   ]
  },
  {
   "cell_type": "code",
   "execution_count": 15,
   "id": "9a4d30e9-53a9-4294-8a31-1e8e9a686b67",
   "metadata": {
    "execution": {
     "iopub.execute_input": "2024-10-17T01:13:02.989477Z",
     "iopub.status.busy": "2024-10-17T01:13:02.989116Z",
     "iopub.status.idle": "2024-10-17T01:13:02.994319Z",
     "shell.execute_reply": "2024-10-17T01:13:02.993444Z"
    }
   },
   "outputs": [
    {
     "data": {
      "text/plain": [
       "array([ 0.01612997,  0.03542924, -0.17974089,  0.2592089 , -0.22631126,\n",
       "        0.12003342, -0.02474937])"
      ]
     },
     "execution_count": 15,
     "metadata": {},
     "output_type": "execute_result"
    }
   ],
   "source": [
    "result_e.residual"
   ]
  },
  {
   "cell_type": "code",
   "execution_count": 16,
   "id": "30e2ce68-02b0-45c9-b222-e9c94eba5327",
   "metadata": {
    "execution": {
     "iopub.execute_input": "2024-10-17T01:13:02.997843Z",
     "iopub.status.busy": "2024-10-17T01:13:02.997528Z",
     "iopub.status.idle": "2024-10-17T01:13:03.309221Z",
     "shell.execute_reply": "2024-10-17T01:13:03.308695Z"
    }
   },
   "outputs": [
    {
     "data": {
      "image/png": "[encoded data removed]",
      "text/plain": [
       "<Figure size 400x300 with 1 Axes>"
      ]
     },
     "metadata": {},
     "output_type": "display_data"
    }
   ],
   "source": [
    "fig, ax = plt.subplots(figsize=(4, 3))\n",
    "ax.plot(result_p.residual, \"-o\")\n",
    "ax.plot(result_e.residual, \"-o\")\n",
    "ax.axhline(0, color=\"k\", lw=0.5)\n",
    "ax.set(\n",
    "    xlabel=\"data point #\",\n",
    "    ylabel=r\"residual: $r - e \\times d$\",\n",
    ")\n",
    "...;"
   ]
  },
  {
   "cell_type": "code",
   "execution_count": 17,
   "id": "c8a77e5d-7a36-4b42-b50b-fe4a207a3f2c",
   "metadata": {
    "execution": {
     "iopub.execute_input": "2024-10-17T01:13:03.311749Z",
     "iopub.status.busy": "2024-10-17T01:13:03.311520Z",
     "iopub.status.idle": "2024-10-17T01:13:03.441992Z",
     "shell.execute_reply": "2024-10-17T01:13:03.441363Z"
    }
   },
   "outputs": [],
   "source": [
    "fig.savefig(figpath / f\"{saveprefix}-residuals.pdf\", bbox_inches=\"tight\")"
   ]
  },
  {
   "cell_type": "markdown",
   "id": "d0727417-7587-42d9-a6db-520e3ff2c556",
   "metadata": {},
   "source": [
    "This shows that the general conic (orange) fits slightly better in the wings (data points 1, 2, 5, 6) but the residuals are much larger around the apex, and no smooth curve could do anything to improve that.\n",
    "\n",
    "Now look at the distances that go into the residuals."
   ]
  },
  {
   "cell_type": "code",
   "execution_count": 18,
   "id": "371f0a41-7a88-40c4-a26c-8e19c82425a4",
   "metadata": {
    "execution": {
     "iopub.execute_input": "2024-10-17T01:13:03.445791Z",
     "iopub.status.busy": "2024-10-17T01:13:03.445113Z",
     "iopub.status.idle": "2024-10-17T01:13:03.449215Z",
     "shell.execute_reply": "2024-10-17T01:13:03.448453Z"
    }
   },
   "outputs": [],
   "source": [
    "confitti.DEBUG = True\n",
    "confitti.residual(result_p.params, xpts, ypts)\n",
    "confitti.DEBUG = False"
   ]
  },
  {
   "cell_type": "code",
   "execution_count": 19,
   "id": "58b87036-b0fa-4fce-8c0b-75d9c6e4e082",
   "metadata": {
    "execution": {
     "iopub.execute_input": "2024-10-17T01:13:03.453453Z",
     "iopub.status.busy": "2024-10-17T01:13:03.453190Z",
     "iopub.status.idle": "2024-10-17T01:13:03.456595Z",
     "shell.execute_reply": "2024-10-17T01:13:03.455894Z"
    }
   },
   "outputs": [],
   "source": [
    "confitti.DEBUG = True\n",
    "confitti.residual(result_e.params, xpts, ypts)\n",
    "confitti.DEBUG = False"
   ]
  },
  {
   "cell_type": "markdown",
   "id": "e514145e-d85a-4946-970c-4f765be93848",
   "metadata": {},
   "source": [
    "This was more informative for an earlier version of this demo."
   ]
  },
  {
   "cell_type": "markdown",
   "id": "2a8d9276-20f3-449f-9f1c-bfcd0e1f514d",
   "metadata": {},
   "source": [
    "## Plotting the best fit onto the data"
   ]
  },
  {
   "cell_type": "code",
   "execution_count": 20,
   "id": "84833dba-9ad3-4d73-b3ed-f28d13b0a942",
   "metadata": {
    "execution": {
     "iopub.execute_input": "2024-10-17T01:13:03.459221Z",
     "iopub.status.busy": "2024-10-17T01:13:03.459005Z",
     "iopub.status.idle": "2024-10-17T01:13:03.463518Z",
     "shell.execute_reply": "2024-10-17T01:13:03.462757Z"
    }
   },
   "outputs": [
    {
     "name": "stdout",
     "output_type": "stream",
     "text": [
      "Conic section curve with focus at (13.960432263320762, 8.230286421708369), scale factor 2.9827087717320344, angle 90.18600410981117, and eccentricity 1.0.\n"
     ]
    },
    {
     "name": "stderr",
     "output_type": "stream",
     "text": [
      "/Users/will/Dropbox/confitti/src/confitti/confitti.py:143: RuntimeWarning: divide by zero encountered in divide\n",
      "  self.r0\n"
     ]
    }
   ],
   "source": [
    "bestp_xy = confitti.XYconic(**result_p.params.valuesdict())\n",
    "print(bestp_xy)"
   ]
  },
  {
   "cell_type": "code",
   "execution_count": 21,
   "id": "09b29f24-855a-43e8-9cd8-43fce5343d36",
   "metadata": {
    "execution": {
     "iopub.execute_input": "2024-10-17T01:13:03.466881Z",
     "iopub.status.busy": "2024-10-17T01:13:03.466562Z",
     "iopub.status.idle": "2024-10-17T01:13:03.471147Z",
     "shell.execute_reply": "2024-10-17T01:13:03.470462Z"
    }
   },
   "outputs": [
    {
     "name": "stdout",
     "output_type": "stream",
     "text": [
      "Conic section curve with focus at (14.183693736314082, 7.944283966677202), scale factor 3.2422003252615683, angle 87.8025893458632, and eccentricity 0.9336253665583254.\n"
     ]
    }
   ],
   "source": [
    "beste_xy = confitti.XYconic(**result_e.params.valuesdict())\n",
    "print(beste_xy)"
   ]
  },
  {
   "cell_type": "code",
   "execution_count": 22,
   "id": "af4acd4e-8958-4e11-a192-188a1fe50bc2",
   "metadata": {
    "execution": {
     "iopub.execute_input": "2024-10-17T01:13:03.474152Z",
     "iopub.status.busy": "2024-10-17T01:13:03.473859Z",
     "iopub.status.idle": "2024-10-17T01:13:03.477670Z",
     "shell.execute_reply": "2024-10-17T01:13:03.476912Z"
    }
   },
   "outputs": [
    {
     "name": "stdout",
     "output_type": "stream",
     "text": [
      "Conic section curve with focus at (12.0, 7.857142857142857), scale factor 4.670003423475774, angle 96.9268304461369, and eccentricity 1.0.\n"
     ]
    }
   ],
   "source": [
    "init_xy = confitti.XYconic(**initial_conic)\n",
    "print(init_xy)"
   ]
  },
  {
   "cell_type": "code",
   "execution_count": 23,
   "id": "fa428713-eed7-41ed-bcfd-0824668f1a0f",
   "metadata": {
    "execution": {
     "iopub.execute_input": "2024-10-17T01:13:03.481371Z",
     "iopub.status.busy": "2024-10-17T01:13:03.481126Z",
     "iopub.status.idle": "2024-10-17T01:13:03.664158Z",
     "shell.execute_reply": "2024-10-17T01:13:03.663486Z"
    },
    "lines_to_next_cell": 0
   },
   "outputs": [
    {
     "data": {
      "image/png": "[encoded data removed]",
      "text/plain": [
       "<Figure size 640x480 with 1 Axes>"
      ]
     },
     "metadata": {},
     "output_type": "display_data"
    }
   ],
   "source": [
    "fig, ax = plt.subplots()\n",
    "ax.scatter(xpts, ypts, color=\"k\")\n",
    "\n",
    "c = \"C0\"\n",
    "ax.plot(bestp_xy.x_pts, bestp_xy.y_pts, color=c)\n",
    "ax.scatter(bestp_xy.x0, bestp_xy.y0, marker=\"+\", color=c)\n",
    "ax.plot([bestp_xy.x0, bestp_xy.x_mirror], [bestp_xy.y0, bestp_xy.y_mirror], color=c)\n",
    "\n",
    "c = \"C1\"\n",
    "ax.plot(beste_xy.x_pts, beste_xy.y_pts, color=c)\n",
    "ax.scatter(beste_xy.x0, beste_xy.y0, marker=\"+\", color=c)\n",
    "ax.plot([beste_xy.x0, beste_xy.x_mirror], [beste_xy.y0, beste_xy.y_mirror], color=c)\n",
    "\n",
    "c = \"0.8\"\n",
    "ax.plot(init_xy.x_pts, init_xy.y_pts, color=c)\n",
    "ax.scatter(init_xy.x0, init_xy.y0, marker=\"+\", color=c)\n",
    "ax.plot([init_xy.x0, init_xy.x_mirror], [init_xy.y0, init_xy.y_mirror], color=c)\n",
    "\n",
    "ax.set_aspect(\"equal\")\n",
    "margin = 8\n",
    "ax.set(\n",
    "    xlim=[xpts.min() - margin, xpts.max() + margin],\n",
    "    ylim=[ypts.min() - margin, ypts.max() + margin],\n",
    ")\n",
    "...;"
   ]
  },
  {
   "cell_type": "code",
   "execution_count": 24,
   "id": "f42a5a65-0129-4099-bf01-49b6c2a1d3d1",
   "metadata": {
    "execution": {
     "iopub.execute_input": "2024-10-17T01:13:03.669014Z",
     "iopub.status.busy": "2024-10-17T01:13:03.668450Z",
     "iopub.status.idle": "2024-10-17T01:13:03.778063Z",
     "shell.execute_reply": "2024-10-17T01:13:03.777362Z"
    }
   },
   "outputs": [],
   "source": [
    "fig.savefig(figpath / f\"{saveprefix}-best-fits.pdf\", bbox_inches=\"tight\")"
   ]
  },
  {
   "cell_type": "markdown",
   "id": "08a39131-d322-4bfa-8bbf-5d0547e2ae68",
   "metadata": {},
   "source": [
    "## Execution time for notebook"
   ]
  },
  {
   "cell_type": "code",
   "execution_count": 25,
   "id": "7d3ce2bb-f419-43a1-95b2-810660dc01eb",
   "metadata": {
    "execution": {
     "iopub.execute_input": "2024-10-17T01:13:03.781789Z",
     "iopub.status.busy": "2024-10-17T01:13:03.781455Z",
     "iopub.status.idle": "2024-10-17T01:13:03.786022Z",
     "shell.execute_reply": "2024-10-17T01:13:03.785051Z"
    }
   },
   "outputs": [
    {
     "name": "stdout",
     "output_type": "stream",
     "text": [
      "--- 13.85698390007019 seconds ---\n"
     ]
    }
   ],
   "source": [
    "print(f\"--- {time.time() - start_time} seconds ---\")"
   ]
  }
 ],
 "metadata": {
  "jupytext": {
   "formats": "ipynb,py:light"
  },
  "kernelspec": {
   "display_name": "Python 3 (ipykernel)",
   "language": "python",
   "name": "python3"
  },
  "language_info": {
   "codemirror_mode": {
    "name": "ipython",
    "version": 3
   },
   "file_extension": ".py",
   "mimetype": "text/x-python",
   "name": "python",
   "nbconvert_exporter": "python",
   "pygments_lexer": "ipython3",
   "version": "3.12.1"
  }
 },
 "nbformat": 4,
 "nbformat_minor": 5
}
