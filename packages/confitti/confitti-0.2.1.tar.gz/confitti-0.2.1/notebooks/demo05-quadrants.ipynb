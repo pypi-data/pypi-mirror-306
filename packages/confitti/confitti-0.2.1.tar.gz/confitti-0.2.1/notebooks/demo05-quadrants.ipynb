{
 "cells": [
  {
   "cell_type": "markdown",
   "id": "f7838ab0",
   "metadata": {},
   "source": [
    "# Check that fits work in all four quadrants\n",
    "We had a bug report from Vanessa that it did not work in the third and fourth quadrants"
   ]
  },
  {
   "cell_type": "markdown",
   "id": "3380d68e",
   "metadata": {},
   "source": [
    "## Imports\n",
    "\n",
    "We need to explictly add the path to the library since we haven't installed it yet."
   ]
  },
  {
   "cell_type": "code",
   "execution_count": 1,
   "id": "b8c03987",
   "metadata": {
    "execution": {
     "iopub.execute_input": "2024-10-17T01:12:49.912722Z",
     "iopub.status.busy": "2024-10-17T01:12:49.912409Z",
     "iopub.status.idle": "2024-10-17T01:12:49.918081Z",
     "shell.execute_reply": "2024-10-17T01:12:49.916975Z"
    }
   },
   "outputs": [],
   "source": [
    "import time"
   ]
  },
  {
   "cell_type": "code",
   "execution_count": 2,
   "id": "d3f80792",
   "metadata": {
    "execution": {
     "iopub.execute_input": "2024-10-17T01:12:49.923433Z",
     "iopub.status.busy": "2024-10-17T01:12:49.923095Z",
     "iopub.status.idle": "2024-10-17T01:12:49.927058Z",
     "shell.execute_reply": "2024-10-17T01:12:49.926255Z"
    }
   },
   "outputs": [],
   "source": [
    "start_time = time.time()\n",
    "from pathlib import Path"
   ]
  },
  {
   "cell_type": "code",
   "execution_count": 3,
   "id": "7fd5613a",
   "metadata": {
    "execution": {
     "iopub.execute_input": "2024-10-17T01:12:49.930478Z",
     "iopub.status.busy": "2024-10-17T01:12:49.930049Z",
     "iopub.status.idle": "2024-10-17T01:13:02.238800Z",
     "shell.execute_reply": "2024-10-17T01:13:02.238021Z"
    }
   },
   "outputs": [],
   "source": [
    "import confitti\n",
    "import numpy as np\n",
    "import lmfit\n",
    "from matplotlib import pyplot as plt\n",
    "import seaborn as sns"
   ]
  },
  {
   "cell_type": "markdown",
   "id": "ee0411d6",
   "metadata": {},
   "source": [
    "Check that we have the right module"
   ]
  },
  {
   "cell_type": "code",
   "execution_count": 4,
   "id": "dbb6b61f",
   "metadata": {
    "execution": {
     "iopub.execute_input": "2024-10-17T01:13:02.242417Z",
     "iopub.status.busy": "2024-10-17T01:13:02.242102Z",
     "iopub.status.idle": "2024-10-17T01:13:02.246603Z",
     "shell.execute_reply": "2024-10-17T01:13:02.245708Z"
    }
   },
   "outputs": [],
   "source": [
    "confitti?"
   ]
  },
  {
   "cell_type": "markdown",
   "id": "7098e9bf",
   "metadata": {},
   "source": [
    "## Where to save the figures"
   ]
  },
  {
   "cell_type": "code",
   "execution_count": 5,
   "id": "922064f2",
   "metadata": {
    "execution": {
     "iopub.execute_input": "2024-10-17T01:13:02.250350Z",
     "iopub.status.busy": "2024-10-17T01:13:02.249943Z",
     "iopub.status.idle": "2024-10-17T01:13:02.254194Z",
     "shell.execute_reply": "2024-10-17T01:13:02.253425Z"
    }
   },
   "outputs": [],
   "source": [
    "figpath = Path.cwd().parent / \"figs\"\n",
    "saveprefix = \"demo05\""
   ]
  },
  {
   "cell_type": "markdown",
   "id": "61b7788f",
   "metadata": {},
   "source": [
    "## Test data\n",
    "\n",
    "I use the same pattern of 7 points as the basis, but we are going to rotate it through different angles to make sure that the fits still work"
   ]
  },
  {
   "cell_type": "code",
   "execution_count": 6,
   "id": "3df0d459",
   "metadata": {
    "execution": {
     "iopub.execute_input": "2024-10-17T01:13:02.257548Z",
     "iopub.status.busy": "2024-10-17T01:13:02.256979Z",
     "iopub.status.idle": "2024-10-17T01:13:02.260859Z",
     "shell.execute_reply": "2024-10-17T01:13:02.260067Z"
    },
    "lines_to_next_cell": 2
   },
   "outputs": [],
   "source": [
    "xpts0, ypts0 = np.array([1, 2, 3, 4, 5, 6, 7]), np.array([0, 4, 6, 7, 6, 4, 0])\n",
    "ypts0 += xpts0\n",
    "xpts0 *= 3"
   ]
  },
  {
   "cell_type": "markdown",
   "id": "ab34fafe-ec77-4d69-abcc-bca57a0c441a",
   "metadata": {
    "lines_to_next_cell": 2
   },
   "source": [
    "## Function to rotate the points\n",
    "\n",
    "Rotate anticlockwise through an angle theta in degrees"
   ]
  },
  {
   "cell_type": "code",
   "execution_count": 7,
   "id": "83dceea8-262d-4282-8d23-2ce3f7236320",
   "metadata": {
    "execution": {
     "iopub.execute_input": "2024-10-17T01:13:02.264265Z",
     "iopub.status.busy": "2024-10-17T01:13:02.263984Z",
     "iopub.status.idle": "2024-10-17T01:13:02.268979Z",
     "shell.execute_reply": "2024-10-17T01:13:02.268019Z"
    }
   },
   "outputs": [],
   "source": [
    "def rotate(x, y, theta):\n",
    "    c = np.cos(np.deg2rad(theta))\n",
    "    s = np.sin(np.deg2rad(theta))\n",
    "    xx = x * c - y * s\n",
    "    yy = x * s + y * c\n",
    "    return xx, yy"
   ]
  },
  {
   "cell_type": "code",
   "execution_count": 8,
   "id": "b45ee975-ee68-4095-a13d-c1f9dbf2a52f",
   "metadata": {
    "execution": {
     "iopub.execute_input": "2024-10-17T01:13:02.271910Z",
     "iopub.status.busy": "2024-10-17T01:13:02.271670Z",
     "iopub.status.idle": "2024-10-17T01:13:02.278726Z",
     "shell.execute_reply": "2024-10-17T01:13:02.277920Z"
    }
   },
   "outputs": [
    {
     "data": {
      "text/plain": [
       "(1.0, -0.9999999999999999)"
      ]
     },
     "execution_count": 8,
     "metadata": {},
     "output_type": "execute_result"
    }
   ],
   "source": [
    "rotate(1, 1, -90)"
   ]
  },
  {
   "cell_type": "markdown",
   "id": "f99d3b8a",
   "metadata": {},
   "source": [
    "Plot the points for 6 different orientations"
   ]
  },
  {
   "cell_type": "code",
   "execution_count": 9,
   "id": "31edf380",
   "metadata": {
    "execution": {
     "iopub.execute_input": "2024-10-17T01:13:02.282388Z",
     "iopub.status.busy": "2024-10-17T01:13:02.282003Z",
     "iopub.status.idle": "2024-10-17T01:13:02.529588Z",
     "shell.execute_reply": "2024-10-17T01:13:02.528707Z"
    }
   },
   "outputs": [
    {
     "data": {
      "image/png": "[encoded data removed]",
      "text/plain": [
       "<Figure size 640x480 with 1 Axes>"
      ]
     },
     "metadata": {},
     "output_type": "display_data"
    }
   ],
   "source": [
    "fig, ax = plt.subplots()\n",
    "for theta in np.arange(6) * 60:\n",
    "    xpts, ypts = rotate(xpts0, ypts0, theta)\n",
    "    ax.scatter(xpts, ypts)\n",
    "ax.set_aspect(\"equal\")\n",
    "...;"
   ]
  },
  {
   "cell_type": "code",
   "execution_count": 10,
   "id": "b8d2d21e",
   "metadata": {
    "execution": {
     "iopub.execute_input": "2024-10-17T01:13:02.533003Z",
     "iopub.status.busy": "2024-10-17T01:13:02.532607Z",
     "iopub.status.idle": "2024-10-17T01:13:02.952928Z",
     "shell.execute_reply": "2024-10-17T01:13:02.951872Z"
    }
   },
   "outputs": [],
   "source": [
    "fig.savefig(figpath / f\"{saveprefix}-points.pdf\", bbox_inches=\"tight\")"
   ]
  },
  {
   "cell_type": "markdown",
   "id": "2200ec40",
   "metadata": {},
   "source": [
    "## Initial guess at conic parameters\n",
    "\n",
    "This is done automatically inside the fitting function, but we will do it explicitly so we can see what it is doing"
   ]
  },
  {
   "cell_type": "markdown",
   "id": "aaeb1a4c-f4a4-4f7e-aadd-46d2220698b8",
   "metadata": {},
   "source": [
    "I have added some debug print statements inside of `init_conic_from_xy()` so we can see what is going on. This led to the realization that the problem was with the use of the median for finding the initia focus position. I have switched it to the mean, which seems to have solved the problem."
   ]
  },
  {
   "cell_type": "code",
   "execution_count": 11,
   "id": "ac7d04dd",
   "metadata": {
    "execution": {
     "iopub.execute_input": "2024-10-17T01:13:02.956045Z",
     "iopub.status.busy": "2024-10-17T01:13:02.955793Z",
     "iopub.status.idle": "2024-10-17T01:13:02.961166Z",
     "shell.execute_reply": "2024-10-17T01:13:02.960345Z"
    }
   },
   "outputs": [
    {
     "data": {
      "text/plain": [
       "{'x0': -6.4637334168418334,\n",
       " 'y0': -12.804485315449162,\n",
       " 'r0': 4.670003423475774,\n",
       " 'theta0': 306.9268304461369,\n",
       " 'eccentricity': 1.0}"
      ]
     },
     "execution_count": 11,
     "metadata": {},
     "output_type": "execute_result"
    }
   ],
   "source": [
    "theta = 210\n",
    "xpts, ypts = rotate(xpts0, ypts0, theta)\n",
    "confitti.DEBUG = True\n",
    "initial_conic = confitti.init_conic_from_xy(xpts, ypts)\n",
    "initial_conic"
   ]
  },
  {
   "cell_type": "markdown",
   "id": "673298e7",
   "metadata": {},
   "source": [
    "Look at the residuals for this initial guess, which is\n",
    "$$\n",
    "r - e d\n",
    "$$\n",
    "where $r$ is the radius of each point from the focus and $d$ is the distance of each point from the directrix.\n",
    "\n",
    "We turn on DEBUG so that the residual function will print out the individual vectors, $r$, $d$, and $e \\times d$."
   ]
  },
  {
   "cell_type": "code",
   "execution_count": 12,
   "id": "771a04f0",
   "metadata": {
    "execution": {
     "iopub.execute_input": "2024-10-17T01:13:02.964362Z",
     "iopub.status.busy": "2024-10-17T01:13:02.964125Z",
     "iopub.status.idle": "2024-10-17T01:13:02.970960Z",
     "shell.execute_reply": "2024-10-17T01:13:02.970109Z"
    }
   },
   "outputs": [
    {
     "data": {
      "text/plain": [
       "array([-3.74707344, -4.17914182, -4.6333713 , -3.07723235, -2.23706426,\n",
       "       -1.56522843, -2.23558463])"
      ]
     },
     "execution_count": 12,
     "metadata": {},
     "output_type": "execute_result"
    }
   ],
   "source": [
    "initial_params = lmfit.create_params(**initial_conic)\n",
    "confitti.residual(initial_params, xpts, ypts)"
   ]
  },
  {
   "cell_type": "markdown",
   "id": "10d09123",
   "metadata": {},
   "source": [
    "The residuals are all negative, meaning points are inside the conic. This suggests that `r0` is overestimated."
   ]
  },
  {
   "cell_type": "markdown",
   "id": "078dcc0e",
   "metadata": {},
   "source": [
    "Turn the `DEBUG` flag back off."
   ]
  },
  {
   "cell_type": "code",
   "execution_count": 13,
   "id": "5c25fb72",
   "metadata": {
    "execution": {
     "iopub.execute_input": "2024-10-17T01:13:02.973928Z",
     "iopub.status.busy": "2024-10-17T01:13:02.973489Z",
     "iopub.status.idle": "2024-10-17T01:13:02.977099Z",
     "shell.execute_reply": "2024-10-17T01:13:02.976232Z"
    }
   },
   "outputs": [],
   "source": [
    "confitti.DEBUG = False"
   ]
  },
  {
   "cell_type": "code",
   "execution_count": 14,
   "id": "44c73176-6b7d-4cb6-a651-757897c23d4f",
   "metadata": {
    "execution": {
     "iopub.execute_input": "2024-10-17T01:13:02.980174Z",
     "iopub.status.busy": "2024-10-17T01:13:02.979913Z",
     "iopub.status.idle": "2024-10-17T01:13:02.985544Z",
     "shell.execute_reply": "2024-10-17T01:13:02.984322Z"
    }
   },
   "outputs": [
    {
     "name": "stdout",
     "output_type": "stream",
     "text": [
      "Conic section curve with focus at (-6.4637334168418334, -12.804485315449162), scale factor 4.670003423475774, angle 306.9268304461369, and eccentricity 1.0.\n"
     ]
    },
    {
     "name": "stderr",
     "output_type": "stream",
     "text": [
      "/Users/will/Dropbox/confitti/src/confitti/confitti.py:143: RuntimeWarning: divide by zero encountered in divide\n",
      "  self.r0\n"
     ]
    }
   ],
   "source": [
    "init_xy = confitti.XYconic(**initial_conic)\n",
    "print(init_xy)"
   ]
  },
  {
   "cell_type": "code",
   "execution_count": 15,
   "id": "1b0875db-a1ef-499b-bb43-05fd8fc03f5c",
   "metadata": {
    "execution": {
     "iopub.execute_input": "2024-10-17T01:13:02.989733Z",
     "iopub.status.busy": "2024-10-17T01:13:02.989433Z",
     "iopub.status.idle": "2024-10-17T01:13:03.151921Z",
     "shell.execute_reply": "2024-10-17T01:13:03.151118Z"
    },
    "lines_to_next_cell": 0
   },
   "outputs": [
    {
     "data": {
      "image/png": "[encoded data removed]",
      "text/plain": [
       "<Figure size 640x480 with 1 Axes>"
      ]
     },
     "metadata": {},
     "output_type": "display_data"
    }
   ],
   "source": [
    "fig, ax = plt.subplots()\n",
    "ax.scatter(xpts, ypts, color=\"k\")\n",
    "\n",
    "c = \"C0\"\n",
    "ax.plot(init_xy.x_pts, init_xy.y_pts, color=c)\n",
    "ax.scatter(init_xy.x0, init_xy.y0, marker=\"+\", color=c)\n",
    "ax.plot([init_xy.x0, init_xy.x_mirror], [init_xy.y0, init_xy.y_mirror], color=c)\n",
    "\n",
    "ax.set_aspect(\"equal\")\n",
    "margin = 8\n",
    "ax.set(\n",
    "    xlim=[xpts.min() - margin, xpts.max() + margin],\n",
    "    ylim=[ypts.min() - margin, ypts.max() + margin],\n",
    ")\n",
    "...;"
   ]
  },
  {
   "cell_type": "markdown",
   "id": "dc91de05",
   "metadata": {},
   "source": [
    "## Do the fitting for a range of rotations of the origina data\n",
    "\n",
    "We make a dictionary with keys of the rotation angles that holds the data points and the two fits (parabola and general conic)"
   ]
  },
  {
   "cell_type": "code",
   "execution_count": 16,
   "id": "1016ee0e",
   "metadata": {
    "execution": {
     "iopub.execute_input": "2024-10-17T01:13:03.157469Z",
     "iopub.status.busy": "2024-10-17T01:13:03.156723Z",
     "iopub.status.idle": "2024-10-17T01:13:03.295028Z",
     "shell.execute_reply": "2024-10-17T01:13:03.294418Z"
    }
   },
   "outputs": [],
   "source": [
    "results = {}\n",
    "for theta in (-3.0 + np.arange(12) * 30):\n",
    "    xpts, ypts = rotate(xpts0, ypts0, theta)\n",
    "    result_p = confitti.fit_conic_to_xy(xpts, ypts, allow_negative_theta=True, only_parabola=True)\n",
    "    result_e = confitti.fit_conic_to_xy(xpts, ypts, allow_negative_theta=True, only_parabola=False)\n",
    "    results[theta] = {\n",
    "        \"x\": xpts,\n",
    "        \"y\": ypts,\n",
    "        \"pfit\": result_p,\n",
    "        \"efit\": result_e,\n",
    "    }"
   ]
  },
  {
   "cell_type": "markdown",
   "id": "d64fd64c-3fe0-41ec-9568-f6c335ed5578",
   "metadata": {},
   "source": [
    "Note that the argument `allow_negative_theta` is true by default. It is recommended that this option should always be left turned on. It is just included here for testing purposes. If it is set to false, then one of the fits fails because the angle gets trapped at 0.0. "
   ]
  },
  {
   "cell_type": "markdown",
   "id": "83a14e55",
   "metadata": {},
   "source": [
    "\n",
    "Look at the residuals:"
   ]
  },
  {
   "cell_type": "code",
   "execution_count": 17,
   "id": "fc2ccdfb",
   "metadata": {
    "execution": {
     "iopub.execute_input": "2024-10-17T01:13:03.298239Z",
     "iopub.status.busy": "2024-10-17T01:13:03.297817Z",
     "iopub.status.idle": "2024-10-17T01:13:03.304179Z",
     "shell.execute_reply": "2024-10-17T01:13:03.303655Z"
    }
   },
   "outputs": [
    {
     "data": {
      "text/plain": [
       "[array([ 0.01612976,  0.03542973, -0.17974087,  0.25920834, -0.22631144,\n",
       "         0.12003414, -0.02474966]),\n",
       " array([ 0.01613172,  0.03542652, -0.17974225,  0.25921107, -0.22630917,\n",
       "         0.12003125, -0.02474913]),\n",
       " array([ 0.01613019,  0.03543041, -0.17974226,  0.2592065 , -0.22631043,\n",
       "         0.12003725, -0.02475166]),\n",
       " array([ 0.01612941,  0.03543037, -0.17974067,  0.25920775, -0.22631182,\n",
       "         0.12003482, -0.02474985]),\n",
       " array([ 0.01612895,  0.03543025, -0.17973967,  0.25920863, -0.22631267,\n",
       "         0.12003316, -0.02474865]),\n",
       " array([ 0.01612905,  0.03543068, -0.1797402 ,  0.25920773, -0.22631235,\n",
       "         0.12003461, -0.02474952]),\n",
       " array([ 0.01612924,  0.03543187, -0.17974153,  0.25920534, -0.22631156,\n",
       "         0.12003841, -0.02475178]),\n",
       " array([ 0.01612728,  0.03543509, -0.17974015,  0.25920261, -0.22631382,\n",
       "         0.1200413 , -0.02475231]),\n",
       " array([ 0.01612882,  0.03543119, -0.17974014,  0.25920718, -0.22631256,\n",
       "         0.1200353 , -0.02474978]),\n",
       " array([ 0.01612959,  0.03543123, -0.17974173,  0.25920594, -0.22631117,\n",
       "         0.12003773, -0.02475159]),\n",
       " array([ 0.01613005,  0.03543135, -0.17974274,  0.25920505, -0.22631032,\n",
       "         0.12003939, -0.02475279]),\n",
       " array([ 0.01612996,  0.03543092, -0.17974221,  0.25920596, -0.22631065,\n",
       "         0.12003794, -0.02475192])]"
      ]
     },
     "execution_count": 17,
     "metadata": {},
     "output_type": "execute_result"
    }
   ],
   "source": [
    "[result[\"efit\"].residual for result in results.values()]"
   ]
  },
  {
   "cell_type": "markdown",
   "id": "35341eed-b408-4cea-80cb-2d9c85521d27",
   "metadata": {},
   "source": [
    "Those all look the same, which is good.\n",
    "\n",
    "Extract all the parameters as a dataframe"
   ]
  },
  {
   "cell_type": "code",
   "execution_count": 18,
   "id": "33148c22-fa9b-4763-9679-d0a1b59b2e30",
   "metadata": {
    "execution": {
     "iopub.execute_input": "2024-10-17T01:13:03.306665Z",
     "iopub.status.busy": "2024-10-17T01:13:03.306438Z",
     "iopub.status.idle": "2024-10-17T01:13:03.309090Z",
     "shell.execute_reply": "2024-10-17T01:13:03.308566Z"
    }
   },
   "outputs": [],
   "source": [
    "import pandas as pd"
   ]
  },
  {
   "cell_type": "code",
   "execution_count": 19,
   "id": "a0b8bb2b-44b8-4bc5-ad7d-ffb5aa615b5a",
   "metadata": {
    "execution": {
     "iopub.execute_input": "2024-10-17T01:13:03.311609Z",
     "iopub.status.busy": "2024-10-17T01:13:03.311388Z",
     "iopub.status.idle": "2024-10-17T01:13:03.392137Z",
     "shell.execute_reply": "2024-10-17T01:13:03.391332Z"
    }
   },
   "outputs": [
    {
     "data": {
      "text/html": [
       "<style type=\"text/css\">\n",
       "</style>\n",
       "<table id=\"T_bd4f1\">\n",
       "  <thead>\n",
       "    <tr>\n",
       "      <th class=\"blank level0\" >&nbsp;</th>\n",
       "      <th id=\"T_bd4f1_level0_col0\" class=\"col_heading level0 col0\" >angle</th>\n",
       "      <th id=\"T_bd4f1_level0_col1\" class=\"col_heading level0 col1\" >x0</th>\n",
       "      <th id=\"T_bd4f1_level0_col2\" class=\"col_heading level0 col2\" >y0</th>\n",
       "      <th id=\"T_bd4f1_level0_col3\" class=\"col_heading level0 col3\" >r0</th>\n",
       "      <th id=\"T_bd4f1_level0_col4\" class=\"col_heading level0 col4\" >theta0</th>\n",
       "      <th id=\"T_bd4f1_level0_col5\" class=\"col_heading level0 col5\" >eccentricity</th>\n",
       "    </tr>\n",
       "  </thead>\n",
       "  <tbody>\n",
       "    <tr>\n",
       "      <th id=\"T_bd4f1_level0_row0\" class=\"row_heading level0 row0\" >0</th>\n",
       "      <td id=\"T_bd4f1_row0_col0\" class=\"data row0 col0\" >-3.000</td>\n",
       "      <td id=\"T_bd4f1_row0_col1\" class=\"data row0 col1\" >14.580</td>\n",
       "      <td id=\"T_bd4f1_row0_col2\" class=\"data row0 col2\" >7.191</td>\n",
       "      <td id=\"T_bd4f1_row0_col3\" class=\"data row0 col3\" >3.242</td>\n",
       "      <td id=\"T_bd4f1_row0_col4\" class=\"data row0 col4\" >84.803</td>\n",
       "      <td id=\"T_bd4f1_row0_col5\" class=\"data row0 col5\" >0.934</td>\n",
       "    </tr>\n",
       "    <tr>\n",
       "      <th id=\"T_bd4f1_level0_row1\" class=\"row_heading level0 row1\" >1</th>\n",
       "      <td id=\"T_bd4f1_row1_col0\" class=\"data row1 col0\" >27.000</td>\n",
       "      <td id=\"T_bd4f1_row1_col1\" class=\"data row1 col1\" >9.031</td>\n",
       "      <td id=\"T_bd4f1_row1_col2\" class=\"data row1 col2\" >13.518</td>\n",
       "      <td id=\"T_bd4f1_row1_col3\" class=\"data row1 col3\" >3.242</td>\n",
       "      <td id=\"T_bd4f1_row1_col4\" class=\"data row1 col4\" >114.803</td>\n",
       "      <td id=\"T_bd4f1_row1_col5\" class=\"data row1 col5\" >0.934</td>\n",
       "    </tr>\n",
       "    <tr>\n",
       "      <th id=\"T_bd4f1_level0_row2\" class=\"row_heading level0 row2\" >2</th>\n",
       "      <td id=\"T_bd4f1_row2_col0\" class=\"data row2 col0\" >57.000</td>\n",
       "      <td id=\"T_bd4f1_row2_col1\" class=\"data row2 col1\" >1.062</td>\n",
       "      <td id=\"T_bd4f1_row2_col2\" class=\"data row2 col2\" >16.222</td>\n",
       "      <td id=\"T_bd4f1_row2_col3\" class=\"data row2 col3\" >3.242</td>\n",
       "      <td id=\"T_bd4f1_row2_col4\" class=\"data row2 col4\" >144.803</td>\n",
       "      <td id=\"T_bd4f1_row2_col5\" class=\"data row2 col5\" >0.934</td>\n",
       "    </tr>\n",
       "    <tr>\n",
       "      <th id=\"T_bd4f1_level0_row3\" class=\"row_heading level0 row3\" >3</th>\n",
       "      <td id=\"T_bd4f1_row3_col0\" class=\"data row3 col0\" >87.000</td>\n",
       "      <td id=\"T_bd4f1_row3_col1\" class=\"data row3 col1\" >-7.191</td>\n",
       "      <td id=\"T_bd4f1_row3_col2\" class=\"data row3 col2\" >14.580</td>\n",
       "      <td id=\"T_bd4f1_row3_col3\" class=\"data row3 col3\" >3.242</td>\n",
       "      <td id=\"T_bd4f1_row3_col4\" class=\"data row3 col4\" >174.803</td>\n",
       "      <td id=\"T_bd4f1_row3_col5\" class=\"data row3 col5\" >0.934</td>\n",
       "    </tr>\n",
       "    <tr>\n",
       "      <th id=\"T_bd4f1_level0_row4\" class=\"row_heading level0 row4\" >4</th>\n",
       "      <td id=\"T_bd4f1_row4_col0\" class=\"data row4 col0\" >117.000</td>\n",
       "      <td id=\"T_bd4f1_row4_col1\" class=\"data row4 col1\" >-13.518</td>\n",
       "      <td id=\"T_bd4f1_row4_col2\" class=\"data row4 col2\" >9.031</td>\n",
       "      <td id=\"T_bd4f1_row4_col3\" class=\"data row4 col3\" >3.242</td>\n",
       "      <td id=\"T_bd4f1_row4_col4\" class=\"data row4 col4\" >204.803</td>\n",
       "      <td id=\"T_bd4f1_row4_col5\" class=\"data row4 col5\" >0.934</td>\n",
       "    </tr>\n",
       "    <tr>\n",
       "      <th id=\"T_bd4f1_level0_row5\" class=\"row_heading level0 row5\" >5</th>\n",
       "      <td id=\"T_bd4f1_row5_col0\" class=\"data row5 col0\" >147.000</td>\n",
       "      <td id=\"T_bd4f1_row5_col1\" class=\"data row5 col1\" >-16.222</td>\n",
       "      <td id=\"T_bd4f1_row5_col2\" class=\"data row5 col2\" >1.062</td>\n",
       "      <td id=\"T_bd4f1_row5_col3\" class=\"data row5 col3\" >3.242</td>\n",
       "      <td id=\"T_bd4f1_row5_col4\" class=\"data row5 col4\" >234.803</td>\n",
       "      <td id=\"T_bd4f1_row5_col5\" class=\"data row5 col5\" >0.934</td>\n",
       "    </tr>\n",
       "    <tr>\n",
       "      <th id=\"T_bd4f1_level0_row6\" class=\"row_heading level0 row6\" >6</th>\n",
       "      <td id=\"T_bd4f1_row6_col0\" class=\"data row6 col0\" >177.000</td>\n",
       "      <td id=\"T_bd4f1_row6_col1\" class=\"data row6 col1\" >-14.580</td>\n",
       "      <td id=\"T_bd4f1_row6_col2\" class=\"data row6 col2\" >-7.191</td>\n",
       "      <td id=\"T_bd4f1_row6_col3\" class=\"data row6 col3\" >3.242</td>\n",
       "      <td id=\"T_bd4f1_row6_col4\" class=\"data row6 col4\" >264.803</td>\n",
       "      <td id=\"T_bd4f1_row6_col5\" class=\"data row6 col5\" >0.934</td>\n",
       "    </tr>\n",
       "    <tr>\n",
       "      <th id=\"T_bd4f1_level0_row7\" class=\"row_heading level0 row7\" >7</th>\n",
       "      <td id=\"T_bd4f1_row7_col0\" class=\"data row7 col0\" >207.000</td>\n",
       "      <td id=\"T_bd4f1_row7_col1\" class=\"data row7 col1\" >-9.031</td>\n",
       "      <td id=\"T_bd4f1_row7_col2\" class=\"data row7 col2\" >-13.518</td>\n",
       "      <td id=\"T_bd4f1_row7_col3\" class=\"data row7 col3\" >3.242</td>\n",
       "      <td id=\"T_bd4f1_row7_col4\" class=\"data row7 col4\" >294.803</td>\n",
       "      <td id=\"T_bd4f1_row7_col5\" class=\"data row7 col5\" >0.934</td>\n",
       "    </tr>\n",
       "    <tr>\n",
       "      <th id=\"T_bd4f1_level0_row8\" class=\"row_heading level0 row8\" >8</th>\n",
       "      <td id=\"T_bd4f1_row8_col0\" class=\"data row8 col0\" >237.000</td>\n",
       "      <td id=\"T_bd4f1_row8_col1\" class=\"data row8 col1\" >-1.062</td>\n",
       "      <td id=\"T_bd4f1_row8_col2\" class=\"data row8 col2\" >-16.222</td>\n",
       "      <td id=\"T_bd4f1_row8_col3\" class=\"data row8 col3\" >3.242</td>\n",
       "      <td id=\"T_bd4f1_row8_col4\" class=\"data row8 col4\" >324.803</td>\n",
       "      <td id=\"T_bd4f1_row8_col5\" class=\"data row8 col5\" >0.934</td>\n",
       "    </tr>\n",
       "    <tr>\n",
       "      <th id=\"T_bd4f1_level0_row9\" class=\"row_heading level0 row9\" >9</th>\n",
       "      <td id=\"T_bd4f1_row9_col0\" class=\"data row9 col0\" >267.000</td>\n",
       "      <td id=\"T_bd4f1_row9_col1\" class=\"data row9 col1\" >7.191</td>\n",
       "      <td id=\"T_bd4f1_row9_col2\" class=\"data row9 col2\" >-14.580</td>\n",
       "      <td id=\"T_bd4f1_row9_col3\" class=\"data row9 col3\" >3.242</td>\n",
       "      <td id=\"T_bd4f1_row9_col4\" class=\"data row9 col4\" >-5.197</td>\n",
       "      <td id=\"T_bd4f1_row9_col5\" class=\"data row9 col5\" >0.934</td>\n",
       "    </tr>\n",
       "    <tr>\n",
       "      <th id=\"T_bd4f1_level0_row10\" class=\"row_heading level0 row10\" >10</th>\n",
       "      <td id=\"T_bd4f1_row10_col0\" class=\"data row10 col0\" >297.000</td>\n",
       "      <td id=\"T_bd4f1_row10_col1\" class=\"data row10 col1\" >13.518</td>\n",
       "      <td id=\"T_bd4f1_row10_col2\" class=\"data row10 col2\" >-9.031</td>\n",
       "      <td id=\"T_bd4f1_row10_col3\" class=\"data row10 col3\" >3.242</td>\n",
       "      <td id=\"T_bd4f1_row10_col4\" class=\"data row10 col4\" >24.803</td>\n",
       "      <td id=\"T_bd4f1_row10_col5\" class=\"data row10 col5\" >0.934</td>\n",
       "    </tr>\n",
       "    <tr>\n",
       "      <th id=\"T_bd4f1_level0_row11\" class=\"row_heading level0 row11\" >11</th>\n",
       "      <td id=\"T_bd4f1_row11_col0\" class=\"data row11 col0\" >327.000</td>\n",
       "      <td id=\"T_bd4f1_row11_col1\" class=\"data row11 col1\" >16.222</td>\n",
       "      <td id=\"T_bd4f1_row11_col2\" class=\"data row11 col2\" >-1.062</td>\n",
       "      <td id=\"T_bd4f1_row11_col3\" class=\"data row11 col3\" >3.242</td>\n",
       "      <td id=\"T_bd4f1_row11_col4\" class=\"data row11 col4\" >54.803</td>\n",
       "      <td id=\"T_bd4f1_row11_col5\" class=\"data row11 col5\" >0.934</td>\n",
       "    </tr>\n",
       "  </tbody>\n",
       "</table>\n"
      ],
      "text/plain": [
       "<pandas.io.formats.style.Styler at 0x136048470>"
      ]
     },
     "execution_count": 19,
     "metadata": {},
     "output_type": "execute_result"
    }
   ],
   "source": [
    "df = pd.DataFrame(\n",
    "    {\"angle\": angle, **result[\"efit\"].params.valuesdict()}\n",
    "    for angle, result in results.items()\n",
    ")\n",
    "df.style.format(precision=3)"
   ]
  },
  {
   "cell_type": "markdown",
   "id": "947e2261-d44e-45f6-8781-c72c9aedc644",
   "metadata": {},
   "source": [
    "Now look at the fitted angle minus the data rotation angle"
   ]
  },
  {
   "cell_type": "code",
   "execution_count": 20,
   "id": "021da38f",
   "metadata": {
    "execution": {
     "iopub.execute_input": "2024-10-17T01:13:03.396098Z",
     "iopub.status.busy": "2024-10-17T01:13:03.395375Z",
     "iopub.status.idle": "2024-10-17T01:13:03.579955Z",
     "shell.execute_reply": "2024-10-17T01:13:03.579120Z"
    }
   },
   "outputs": [
    {
     "data": {
      "text/plain": [
       "[(0.0, 180.0)]"
      ]
     },
     "execution_count": 20,
     "metadata": {},
     "output_type": "execute_result"
    },
    {
     "data": {
      "image/png": "[encoded data removed]",
      "text/plain": [
       "<Figure size 640x480 with 1 Axes>"
      ]
     },
     "metadata": {},
     "output_type": "display_data"
    }
   ],
   "source": [
    "fig, ax = plt.subplots()\n",
    "ax.scatter(df[\"angle\"], (df[\"theta0\"] - df[\"angle\"]) % 360)\n",
    "ax.set(ylim=[0, 180])"
   ]
  },
  {
   "cell_type": "markdown",
   "id": "a4475a4c-fc62-4179-ab9e-680416f92a98",
   "metadata": {},
   "source": [
    "This is constant, which is what we hoped. This show that the fit is the same for all the different data rotation angle."
   ]
  },
  {
   "cell_type": "markdown",
   "id": "3c4f052d",
   "metadata": {},
   "source": [
    "## Plotting the best fit onto the data"
   ]
  },
  {
   "cell_type": "code",
   "execution_count": 21,
   "id": "8996cea9",
   "metadata": {
    "execution": {
     "iopub.execute_input": "2024-10-17T01:13:03.583069Z",
     "iopub.status.busy": "2024-10-17T01:13:03.582708Z",
     "iopub.status.idle": "2024-10-17T01:13:03.588312Z",
     "shell.execute_reply": "2024-10-17T01:13:03.587540Z"
    }
   },
   "outputs": [
    {
     "name": "stdout",
     "output_type": "stream",
     "text": [
      "Conic section curve with focus at (16.190734319538716, -0.7008957053525796), scale factor 2.9827096730961924, angle 57.1860409266414, and eccentricity 1.0.\n"
     ]
    },
    {
     "name": "stderr",
     "output_type": "stream",
     "text": [
      "/Users/will/Dropbox/confitti/src/confitti/confitti.py:143: RuntimeWarning: divide by zero encountered in divide\n",
      "  self.r0\n"
     ]
    }
   ],
   "source": [
    "bestp_xy = confitti.XYconic(**result_p.params.valuesdict())\n",
    "print(bestp_xy)"
   ]
  },
  {
   "cell_type": "code",
   "execution_count": 22,
   "id": "f4b138c9",
   "metadata": {
    "execution": {
     "iopub.execute_input": "2024-10-17T01:13:03.591847Z",
     "iopub.status.busy": "2024-10-17T01:13:03.591373Z",
     "iopub.status.idle": "2024-10-17T01:13:03.595172Z",
     "shell.execute_reply": "2024-10-17T01:13:03.594534Z"
    }
   },
   "outputs": [
    {
     "name": "stdout",
     "output_type": "stream",
     "text": [
      "Conic section curve with focus at (16.222207097352538, -1.0623410493666496), scale factor 3.2421921478688223, angle 54.80272929721136, and eccentricity 0.9336278052207372.\n"
     ]
    }
   ],
   "source": [
    "beste_xy = confitti.XYconic(**result_e.params.valuesdict())\n",
    "print(beste_xy)"
   ]
  },
  {
   "cell_type": "code",
   "execution_count": 23,
   "id": "23cfca48",
   "metadata": {
    "execution": {
     "iopub.execute_input": "2024-10-17T01:13:03.598108Z",
     "iopub.status.busy": "2024-10-17T01:13:03.597856Z",
     "iopub.status.idle": "2024-10-17T01:13:03.602946Z",
     "shell.execute_reply": "2024-10-17T01:13:03.602063Z"
    }
   },
   "outputs": [
    {
     "name": "stdout",
     "output_type": "stream",
     "text": [
      "Conic section curve with focus at (-6.4637334168418334, -12.804485315449162), scale factor 4.670003423475774, angle 306.9268304461369, and eccentricity 1.0.\n"
     ]
    }
   ],
   "source": [
    "init_xy = confitti.XYconic(**initial_conic)\n",
    "print(init_xy)"
   ]
  },
  {
   "cell_type": "code",
   "execution_count": 24,
   "id": "0557e8c8",
   "metadata": {
    "execution": {
     "iopub.execute_input": "2024-10-17T01:13:03.606032Z",
     "iopub.status.busy": "2024-10-17T01:13:03.605803Z",
     "iopub.status.idle": "2024-10-17T01:13:03.944594Z",
     "shell.execute_reply": "2024-10-17T01:13:03.943865Z"
    }
   },
   "outputs": [
    {
     "data": {
      "image/png": "[encoded data removed]",
      "text/plain": [
       "<Figure size 640x480 with 1 Axes>"
      ]
     },
     "metadata": {},
     "output_type": "display_data"
    }
   ],
   "source": [
    "fig, ax = plt.subplots()\n",
    "for theta, result in results.items():\n",
    "    beste_xy = confitti.XYconic(**result[\"efit\"].params.valuesdict())\n",
    "    ax.plot(beste_xy.x_pts, beste_xy.y_pts)\n",
    "    ax.scatter(result[\"x\"], result[\"y\"], marker=\".\", color=\"k\")\n",
    "ax.set_aspect(\"equal\")\n",
    "_limit = 100\n",
    "ax.set(xlim=[-_limit, _limit], ylim=[-_limit, _limit])\n",
    "...;"
   ]
  },
  {
   "cell_type": "code",
   "execution_count": 25,
   "id": "3c482bf4",
   "metadata": {
    "execution": {
     "iopub.execute_input": "2024-10-17T01:13:03.948202Z",
     "iopub.status.busy": "2024-10-17T01:13:03.947850Z",
     "iopub.status.idle": "2024-10-17T01:13:04.262497Z",
     "shell.execute_reply": "2024-10-17T01:13:04.261745Z"
    }
   },
   "outputs": [],
   "source": [
    "fig.savefig(figpath / f\"{saveprefix}-best-fits.pdf\", bbox_inches=\"tight\")"
   ]
  },
  {
   "cell_type": "markdown",
   "id": "da560794",
   "metadata": {},
   "source": [
    "## Execution time for notebook"
   ]
  },
  {
   "cell_type": "code",
   "execution_count": 26,
   "id": "fafd8d48",
   "metadata": {
    "execution": {
     "iopub.execute_input": "2024-10-17T01:13:04.266226Z",
     "iopub.status.busy": "2024-10-17T01:13:04.265940Z",
     "iopub.status.idle": "2024-10-17T01:13:04.269989Z",
     "shell.execute_reply": "2024-10-17T01:13:04.269185Z"
    }
   },
   "outputs": [
    {
     "name": "stdout",
     "output_type": "stream",
     "text": [
      "--- 14.342547178268433 seconds ---\n"
     ]
    }
   ],
   "source": [
    "print(f\"--- {time.time() - start_time} seconds ---\")"
   ]
  }
 ],
 "metadata": {
  "jupytext": {
   "formats": "ipynb,py:light"
  },
  "kernelspec": {
   "display_name": "Python 3 (ipykernel)",
   "language": "python",
   "name": "python3"
  },
  "language_info": {
   "codemirror_mode": {
    "name": "ipython",
    "version": 3
   },
   "file_extension": ".py",
   "mimetype": "text/x-python",
   "name": "python",
   "nbconvert_exporter": "python",
   "pygments_lexer": "ipython3",
   "version": "3.12.1"
  }
 },
 "nbformat": 4,
 "nbformat_minor": 5
}
