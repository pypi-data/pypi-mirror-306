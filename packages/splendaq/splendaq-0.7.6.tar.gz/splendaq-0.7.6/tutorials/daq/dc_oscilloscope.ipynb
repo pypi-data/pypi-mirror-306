{
 "cells": [
  {
   "cell_type": "markdown",
   "id": "2bd7c566-3451-473b-b32c-0934efbdb02b",
   "metadata": {},
   "source": [
    "# Using the DC Oscilloscope\n",
    "-----\n",
    "\n",
    "In this example notebook, we will show how to use the` Oscilloscope` class to extract time-domain data directly from the Moku at a low digitization frequency."
   ]
  },
  {
   "cell_type": "code",
   "execution_count": null,
   "id": "0b74e6e1-d83b-4392-a27f-b2a38dc30650",
   "metadata": {},
   "outputs": [],
   "source": [
    "from splendaq.daq import Oscilloscope\n",
    "\n",
    "moku_ip = \"your_ip_address\""
   ]
  },
  {
   "cell_type": "markdown",
   "id": "7862e240-54dd-4e02-b2da-e8cc75866029",
   "metadata": {
    "tags": []
   },
   "source": [
    "## Data Taking for Short Durations\n",
    "\n",
    "### The `Oscilloscope` Context Manager\n",
    "\n",
    "As with the `LogData` class, the `Oscilloscope` class should be interacted with as a context manager, as it properly closes the connection to the Moku once complete. When entering the context manager, the user can set various global settings for the Moku, e.g. the IP address, whether to force connect to the Moku, and the acquisition mode. Below, we show the docstring of the class for the user's benefit. Note: the `force_connect` argument should be set to True as a last resort, otherwise you might be kicking another user off of the Moku!"
   ]
  },
  {
   "cell_type": "code",
   "execution_count": null,
   "id": "c3cbce30-9075-4659-ad4f-cb9feb2d201e",
   "metadata": {},
   "outputs": [],
   "source": [
    "?Oscilloscope"
   ]
  },
  {
   "cell_type": "markdown",
   "id": "ab1eab88-3212-47e1-a012-f984f1194632",
   "metadata": {},
   "source": [
    "### Setting DC Values and Taking Data\n",
    "\n",
    "For a simple example, we show below how to take data from Input 1, where we are supplying a some DC voltage from Output 1. We'll take 0.5 seconds of data, where we are saving the data being read out by both Input 1 and Output 1."
   ]
  },
  {
   "cell_type": "code",
   "execution_count": null,
   "id": "cb7b2b82-b0d3-4bee-b4fe-40731faaed6c",
   "metadata": {
    "tags": []
   },
   "outputs": [],
   "source": [
    "with Oscilloscope(moku_ip, force_connect=True) as Scope:\n",
    "    Scope.set_input_channels(1)\n",
    "    Scope.set_output_channels(1, dc_level=1)\n",
    "    data_out = Scope.get_data(['Input1', 'Output1'], 0.5)"
   ]
  },
  {
   "cell_type": "markdown",
   "id": "430c487f-cf17-4a8f-b691-d9be96403f89",
   "metadata": {},
   "source": [
    "If we look at the `data_out`, we see that it's a dictionary containing the keys `'time'`, `'ch1'`, and `'ch2'`. The `'time'` field is in units of seconds, and `'ch1'` and `'ch2'` correspond to `'Input1'` and `'Output1'`, respectively. Note that this order matches what is passed to `get_data` method."
   ]
  },
  {
   "cell_type": "code",
   "execution_count": null,
   "id": "b4babaca-f0d3-4e3d-9f36-c29bb703fe44",
   "metadata": {},
   "outputs": [],
   "source": [
    "data_out.keys()"
   ]
  },
  {
   "cell_type": "markdown",
   "id": "45dcab0f-e7b3-49c6-8d15-d83dbccd1a9a",
   "metadata": {},
   "source": [
    "Looking at the length of the data that was returned, we see that it is always 1024 bins long, such that the digitization rate is directly dependent on the duration of data that is desired."
   ]
  },
  {
   "cell_type": "code",
   "execution_count": null,
   "id": "05a123c1-1d54-42c0-8aab-018fd3d1c144",
   "metadata": {},
   "outputs": [],
   "source": [
    "len(data_out['ch1'])"
   ]
  },
  {
   "cell_type": "markdown",
   "id": "edb4713c-48e4-4585-b04e-70e8a0c299e2",
   "metadata": {},
   "source": [
    "Lastly, let's plot the outputted data, just to make sure it's what we expect."
   ]
  },
  {
   "cell_type": "code",
   "execution_count": null,
   "id": "0960dc78-787f-4b8c-9b2f-0120ec09be7f",
   "metadata": {},
   "outputs": [],
   "source": [
    "import matplotlib.pyplot as plt\n",
    "import numpy as np\n",
    "\n",
    "\n",
    "plt.plot(data_out['time'], data_out['ch1'])\n",
    "plt.plot(data_out['time'], data_out['ch2'])\n",
    "plt.xlabel('Time [s]')\n",
    "plt.ylabel('Voltage [V]')"
   ]
  },
  {
   "cell_type": "markdown",
   "id": "c75dfb4a-30fb-4d98-a714-c599245a6054",
   "metadata": {},
   "source": [
    "We see that there is a small offset when comparing the input and the output, meaning that this should be taken into account in analyses."
   ]
  },
  {
   "cell_type": "markdown",
   "id": "d752f9e5-dfcc-46c5-a8cd-fba4abc7ec3f",
   "metadata": {},
   "source": [
    "## More Outputs and Inputs\n",
    "\n",
    "The Oscilloscope can become more complex, as for example, if we were to read out the first two inputs and set DC values on the first two outputs, such as below."
   ]
  },
  {
   "cell_type": "code",
   "execution_count": null,
   "id": "9ac58ec4-5d26-463b-ad86-220fd2f99567",
   "metadata": {},
   "outputs": [],
   "source": [
    "with Oscilloscope(moku_ip, force_connect=True) as Scope:\n",
    "    Scope.set_input_channels([1, 2])\n",
    "    Scope.set_output_channels([1, 2], dc_level=[1, 2])\n",
    "    data_out = Scope.get_data(['Input1', 'Input2'], 0.5)"
   ]
  },
  {
   "cell_type": "markdown",
   "id": "cf0dc2a9-bec7-4b33-8d38-2fe4c2384766",
   "metadata": {},
   "source": [
    "Plotting the outputs, we'll see that the two channels being plotted are Input1 and Input2, which have values around 1 V and 2 V, as expected from our settings."
   ]
  },
  {
   "cell_type": "code",
   "execution_count": null,
   "id": "cfccb9f5-5892-42f1-92d3-5866d739dad8",
   "metadata": {},
   "outputs": [],
   "source": [
    "plt.plot(data_out['time'], data_out['ch1'])\n",
    "plt.plot(data_out['time'], data_out['ch2'])\n",
    "plt.xlabel('Time [s]')\n",
    "plt.ylabel('Voltage [V]')"
   ]
  },
  {
   "cell_type": "markdown",
   "id": "0b73b2f8-f1f4-46d6-a0b3-4637ab9e954c",
   "metadata": {},
   "source": [
    "From these outputted data, it is possible to do analyses such as reponses of detectors to changes in bias voltage or noise analysis. One can also use the `Sequencer` class in `splendaq` to automate, e.g., the measurement of the response of some device to various bias voltages."
   ]
  },
  {
   "cell_type": "code",
   "execution_count": null,
   "id": "f1df10c9-8cd7-4004-a723-d1fb52c4d48e",
   "metadata": {},
   "outputs": [],
   "source": []
  }
 ],
 "metadata": {
  "kernelspec": {
   "display_name": "Python 3 (ipykernel)",
   "language": "python",
   "name": "python3"
  },
  "language_info": {
   "codemirror_mode": {
    "name": "ipython",
    "version": 3
   },
   "file_extension": ".py",
   "mimetype": "text/x-python",
   "name": "python",
   "nbconvert_exporter": "python",
   "pygments_lexer": "ipython3",
   "version": "3.10.4"
  }
 },
 "nbformat": 4,
 "nbformat_minor": 5
}
