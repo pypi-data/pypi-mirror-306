{
 "cells": [
  {
   "cell_type": "markdown",
   "id": "e9279295-a37a-439d-9abc-cd6976047b33",
   "metadata": {},
   "source": [
    "# Writing files with `splendaq`\n",
    "----\n",
    "In this notebook, we show how to write `splendaq` HDF5 files from generated data, useful for creating simulated data and analyzing it as if it were data from a DAQ system (in our case, a Moku)."
   ]
  },
  {
   "cell_type": "code",
   "execution_count": null,
   "id": "dd81374b-bb0b-4b27-9ca8-109692d3fddf",
   "metadata": {},
   "outputs": [],
   "source": [
    "import numpy as np\n",
    "from splendaq.io import Writer, Reader\n",
    "import matplotlib.pyplot as plt\n",
    "from datetime import datetime"
   ]
  },
  {
   "cell_type": "markdown",
   "id": "bf0fe321-8541-4964-8443-5aeddf4afba0",
   "metadata": {},
   "source": [
    "Let's define the timescale that we will use for our simulated data. We'll use a digitization rate of 1.25e6 Hz, create a simulated trace of length 30 seconds, and add square pulses of with width of 0.8 ms."
   ]
  },
  {
   "cell_type": "code",
   "execution_count": null,
   "id": "6027f8de-3ddd-4951-af98-c1bf99aa6372",
   "metadata": {},
   "outputs": [],
   "source": [
    "fs = 1.25e6 # [Hz]\n",
    "tracelength = int(30 * fs) # 30 seconds [bins]\n",
    "\n",
    "template = np.zeros(tracelength)\n",
    "template[len(template)//2:len(template)//2 + 1000] = 1\n",
    "\n",
    "fig, ax = plt.subplots(figsize=(12, 4))\n",
    "\n",
    "ax.plot(np.arange(tracelength) / fs, template, color='k', linestyle='dashed', label=\"Square Pulse Template\")\n",
    "ax.set_ylabel(\"Amplitude [Arb.]\")\n",
    "ax.set_xlabel(\"Time [s]\")\n",
    "ax.legend(loc='upper right', edgecolor='k', framealpha=1)\n",
    "ax.set_xlim(0, 30)\n",
    "ax.tick_params(which='both', direction='in', right=True, top=True)\n",
    "fig.tight_layout()"
   ]
  },
  {
   "cell_type": "markdown",
   "id": "c1c6fd92-4b1e-4f3d-af09-0c6a3f5af8df",
   "metadata": {},
   "source": [
    "Now, let's create some white noise and add 10 pulses that are randomly placed throughout the trace."
   ]
  },
  {
   "cell_type": "code",
   "execution_count": null,
   "id": "f3d109e2-7743-441b-914c-6bcfffabce8b",
   "metadata": {},
   "outputs": [],
   "source": [
    "simulated_data = np.random.normal(scale=0.001, size=tracelength)\n",
    "\n",
    "inds = np.random.choice(np.arange(tracelength) - tracelength//2, 10)\n",
    "for val in inds:\n",
    "    simulated_data += np.roll(template, val)"
   ]
  },
  {
   "cell_type": "markdown",
   "id": "2d7a6a1b-127a-4fb5-aac5-1c10e77253e1",
   "metadata": {},
   "source": [
    "Plotting the subsequent simulated continuous data, we see that there are indeed about 10 pulses. Next, we'll convert this to a `splendaq` HDF5 file, which could then, e.g., be passed through the event building algorithms (see the event building tutorial)."
   ]
  },
  {
   "cell_type": "code",
   "execution_count": null,
   "id": "05c69641-bd1f-4ea6-9699-37875bdce4c0",
   "metadata": {},
   "outputs": [],
   "source": [
    "fig, ax = plt.subplots(figsize=(12, 4))\n",
    "ax.plot(np.arange(tracelength) / fs, simulated_data, color='k', label=\"Simulated Data\")\n",
    "ax.set_ylabel(\"Amplitude [Arb.]\")\n",
    "ax.set_xlabel(\"Time [s]\")\n",
    "ax.legend(loc='upper right', edgecolor='k', framealpha=1)\n",
    "ax.set_ylim(-0.025, 1.15)\n",
    "ax.set_xlim(0, 30)\n",
    "ax.tick_params(which='both', direction='in', right=True, top=True)\n",
    "fig.tight_layout()"
   ]
  },
  {
   "cell_type": "markdown",
   "id": "9147b904-6f99-46b1-a86e-815b939387fb",
   "metadata": {},
   "source": [
    "Now, we will create the HDF5 file and supply all of the needed metadata for the file that is needed for eventbuilding.\n",
    "\n",
    "Each metadata entry needed is detailed as:\n",
    " - **`data`**: the simulated data in shape (number of traces, number of channels, length of traces in bins)\n",
    " - **`channels`**: the names of each channel as a string\n",
    " - **`comment`**: some comment to pass to the data as a short description\n",
    " - **`fs`**: the digitization rate of the data in Hz\n",
    " - **`datashape`**: the shape of the data ndarray\n",
    " - **`eventindex`**: the index at which the event starts (this is continuous data, so it starts at zero)\n",
    " - **`eventnumber`**: the number of the event in increasing value (this is just zero, since there is just one event)\n",
    " - **`eventtime`**: the time of the beginning of the event in epoch time\n",
    " - **`seriesnumber`**: the seriesnumber of the event (format is YYYYMMDDhhmmss)\n",
    " - **`dumpnumber`**: if the data has been split into multiple files to reduce size, then this is which number of file\n",
    " - **`triggertime`**: the time of the trigger (since this is continuous, this is just the epoch time of the beginning of the trace)\n",
    " - **`triggertype`**: the type of trigger (0: randoms, 1: threshold trigger) continuous is treated as a long randomly triggered trace\n",
    " - **`parentseriesnumber`**: if the file was generated off of an existing file, the seriesnumber of that file. Set to `seriesnumber` if this is the original file\n",
    " - **`parenteventnumber`**: if the event was generated off of an existing event, the eventnumber of that event in the original file. Set to `eventnumber` if this is the original file.\n",
    "\n",
    "We use the `splendaq.io.Writer` class to write the data, which has the single method `write_data`. Below, we show how to create this simulated continuous data and save it to a `splendaq` HDF5 file."
   ]
  },
  {
   "cell_type": "code",
   "execution_count": null,
   "id": "5db640b5-d180-46c8-bb6e-d9baf61a80b9",
   "metadata": {},
   "outputs": [],
   "source": [
    "start = datetime.now()\n",
    "\n",
    "savename = \"continuous_\" + start.strftime(\"%Y%m%d_%H%M%S\")\n",
    "seriesnumber = int(start.strftime(\"%y%m%d%H%M%S\"))\n",
    "epochtime = start.timestamp()\n",
    "comment = 'simulated_data, 10 pulses with amplitude 1'\n",
    "\n",
    "data = simulated_data[None, None]\n",
    "datashape = data.shape\n",
    "\n",
    "FW = Writer(filename=f'./{savename}.h5')\n",
    "\n",
    "FW.write_data(\n",
    "    data=data,\n",
    "    channels=[f'{ii}' for ii in range(datashape[1])],\n",
    "    comment=comment,\n",
    "    fs=fs,\n",
    "    datashape=datashape,\n",
    "    eventindex=[0] * datashape[0],\n",
    "    eventnumber=np.arange(datashape[0]),\n",
    "    eventtime=[epochtime] * datashape[0],\n",
    "    seriesnumber=[seriesnumber] * datashape[0],\n",
    "    dumpnumber=[1] * datashape[0],\n",
    "    triggertime=[epochtime] * datashape[0],\n",
    "    triggertype=[0] * datashape[0],\n",
    "    parentseriesnumber=[seriesnumber] * datashape[0],\n",
    "    parenteventnumber=np.arange(datashape[0]),\n",
    ")"
   ]
  },
  {
   "cell_type": "markdown",
   "id": "24192f56-90f5-4d8c-9e41-01a923949547",
   "metadata": {},
   "source": [
    "We have now written the file, let's read it with `splendaq.io.Reader` and plot the data to ensure it looks as expected."
   ]
  },
  {
   "cell_type": "code",
   "execution_count": null,
   "id": "ec19a260-edba-45fd-a336-39de8278515f",
   "metadata": {},
   "outputs": [],
   "source": [
    "FR = Reader(f'./{savename}.h5')\n",
    "\n",
    "contdata, contmetadata = FR.get_data(include_metadata=True)"
   ]
  },
  {
   "cell_type": "code",
   "execution_count": null,
   "id": "46f0c3e8-42f7-431f-8b16-4c05ec404d28",
   "metadata": {},
   "outputs": [],
   "source": [
    "fig, ax = plt.subplots(figsize=(12, 4))\n",
    "ax.plot(np.arange(tracelength) / fs, contdata[0, 0], color='k', label=\"Simulated Data\")\n",
    "ax.set_ylabel(\"Amplitude [Arb.]\")\n",
    "ax.set_xlabel(\"Time [s]\")\n",
    "ax.legend(loc='upper right', edgecolor='k', framealpha=1)\n",
    "ax.set_ylim(-0.025, 1.15)\n",
    "ax.set_xlim(0, 30)\n",
    "ax.tick_params(which='both', direction='in', right=True, top=True)\n",
    "fig.tight_layout()"
   ]
  },
  {
   "cell_type": "markdown",
   "id": "48d2d2b3-7051-4e44-8c2c-917eccd332b0",
   "metadata": {},
   "source": [
    "And it looks identical to what we thought we saved!"
   ]
  },
  {
   "cell_type": "code",
   "execution_count": null,
   "id": "329255e2-4a1f-403d-b1bb-8435188afef6",
   "metadata": {},
   "outputs": [],
   "source": []
  }
 ],
 "metadata": {
  "kernelspec": {
   "display_name": "Python 3 (ipykernel)",
   "language": "python",
   "name": "python3"
  },
  "language_info": {
   "codemirror_mode": {
    "name": "ipython",
    "version": 3
   },
   "file_extension": ".py",
   "mimetype": "text/x-python",
   "name": "python",
   "nbconvert_exporter": "python",
   "pygments_lexer": "ipython3",
   "version": "3.10.4"
  }
 },
 "nbformat": 4,
 "nbformat_minor": 5
}
