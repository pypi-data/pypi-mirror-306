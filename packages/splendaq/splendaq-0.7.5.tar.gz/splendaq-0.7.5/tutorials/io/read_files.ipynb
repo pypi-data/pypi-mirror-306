{
 "cells": [
  {
   "cell_type": "markdown",
   "id": "a7220103-1484-4c5b-877d-1b5107766ae6",
   "metadata": {},
   "source": [
    "# Converting LI Files and Reading `splendaq` HDF5 Files\n",
    "-----\n",
    "In this tutorial, we will show how to convert an LI binary file to a `splendaq` HDF5 file, and how to read the subsequent file with `splendaq`'s I/O functionality.\n",
    "\n",
    "Let's start by creating our own example file on the Moku, using `LogData`. See the DAQ tutorials for more."
   ]
  },
  {
   "cell_type": "code",
   "execution_count": null,
   "id": "52aacddb-e08d-41b4-aed1-2e4d23f9f210",
   "metadata": {},
   "outputs": [],
   "source": [
    "from splendaq.daq import LogData"
   ]
  },
  {
   "cell_type": "code",
   "execution_count": null,
   "id": "b7918d48-2e4e-48fb-87fb-7a1e31497171",
   "metadata": {},
   "outputs": [],
   "source": [
    "moku_ip = 'your_ip_address'\n",
    "\n",
    "with LogData(moku_ip) as LOG:\n",
    "    LOG.set_input_channels(1)\n",
    "    dc_settings = LOG.dc_settings(\n",
    "        dc_level=0.1,\n",
    "    )\n",
    "    LOG.set_output_channel(1, 'DC', **dc_settings)\n",
    "    LOG.log_data(10)"
   ]
  },
  {
   "cell_type": "markdown",
   "id": "1fddcd2c-bab2-4c67-ae22-f4b4b408aa21",
   "metadata": {},
   "source": [
    "This creates a file with the `.li` extension (the Liquid Instruments binary format). To convert to a file format that is easy to handle, we use `splendaq.io.convert_li_to_h5` to convert the file to a custom `splendaq` HDF5 file.\n",
    "\n",
    "Note, this currently is a wrapper of Liquid Instruments' compiled converter to a MAT file, which we then convert to an H5 file. Thus, it is not the most efficient way of doing the conversion, but the best we can do at the moment without the source code the converter in C."
   ]
  },
  {
   "cell_type": "code",
   "execution_count": null,
   "id": "4389a862-8ee9-4644-b711-0a6f96b688cf",
   "metadata": {},
   "outputs": [],
   "source": [
    "from splendaq.io import convert_li_to_h5"
   ]
  },
  {
   "cell_type": "code",
   "execution_count": null,
   "id": "bef49bff-1b15-43a0-96ad-39deb830c2c0",
   "metadata": {},
   "outputs": [],
   "source": [
    "convert_li_to_h5('logged_file.li', my_os='mac')"
   ]
  },
  {
   "cell_type": "markdown",
   "id": "81cd8568-2378-43ae-a7f7-6496716b2380",
   "metadata": {},
   "source": [
    "The OS must be specified in the conversion, as there are different executables for the conversion for different OSs. The supported OSs are macOS, Linux, and Windows, which can be specified with `'mac'`, `'linux'`, and `'windows'`, respectively.\n",
    "\n",
    "We now have a `splendaq` HDF5 file, which we can read via `splendaq.io.Reader`"
   ]
  },
  {
   "cell_type": "code",
   "execution_count": null,
   "id": "3c847378-a157-4726-92bd-a9aecc81fb50",
   "metadata": {},
   "outputs": [],
   "source": [
    "from splendaq.io import Reader\n",
    "\n",
    "FR = Reader('logged_file.h5')"
   ]
  },
  {
   "cell_type": "markdown",
   "id": "0ee7a89c-b60a-41b7-903e-fac2851f2956",
   "metadata": {},
   "source": [
    "The `Reader` class has two methods: `get_data` and `get_metadata`. If the user wants to load just the data or both the data and the metadata simultanetously, then `get_data` should be used."
   ]
  },
  {
   "cell_type": "code",
   "execution_count": null,
   "id": "60c39d63-3f3f-49ef-876d-74ca7b11050c",
   "metadata": {},
   "outputs": [],
   "source": [
    "data = FR.get_data()\n",
    "data, metadata = FR.get_data(include_metadata=True)"
   ]
  },
  {
   "cell_type": "markdown",
   "id": "79f799ae-5d7c-4dd9-b912-15cd741262ba",
   "metadata": {},
   "source": [
    "If the user only needs the metadata, then `get_metadata` should be used, as it does not load all of the data into memory, just the metadata."
   ]
  },
  {
   "cell_type": "code",
   "execution_count": null,
   "id": "28edae97-c2d2-4e1f-9f46-7ee73658b9e6",
   "metadata": {},
   "outputs": [],
   "source": [
    "metadata = FR.get_metadata()"
   ]
  },
  {
   "cell_type": "markdown",
   "id": "5a23c7b3-64f8-475a-8f39-a17a502ba376",
   "metadata": {},
   "source": [
    "For the data itself, the shape is always (number of traces, number of channels, length of traces in bins). Thus, to plot just the first trace from the first channel, one would use the below code."
   ]
  },
  {
   "cell_type": "code",
   "execution_count": null,
   "id": "f6b7da91-84af-45db-9ce5-5f29b89613c9",
   "metadata": {},
   "outputs": [],
   "source": [
    "import matplotlib.pyplot as plt\n",
    "\n",
    "plt.plot(data[0, 0])"
   ]
  },
  {
   "cell_type": "markdown",
   "id": "19c020d0-75ec-4124-8ba7-49ab5bbc62c0",
   "metadata": {},
   "source": [
    "Note that the active file can be changed without reinitalizing the class, such as below if we wanted the data from a separate file. Any subsequent calls to the class will now be to this new file."
   ]
  },
  {
   "cell_type": "code",
   "execution_count": null,
   "id": "3f009259-1c97-4874-8ada-059b20a14d25",
   "metadata": {},
   "outputs": [],
   "source": [
    "different_data = FR.get_data('different_dataset.h5')"
   ]
  },
  {
   "cell_type": "code",
   "execution_count": null,
   "id": "385152cf-338d-4ace-9ced-9952e04db87f",
   "metadata": {},
   "outputs": [],
   "source": []
  }
 ],
 "metadata": {
  "kernelspec": {
   "display_name": "Python 3 (ipykernel)",
   "language": "python",
   "name": "python3"
  },
  "language_info": {
   "codemirror_mode": {
    "name": "ipython",
    "version": 3
   },
   "file_extension": ".py",
   "mimetype": "text/x-python",
   "name": "python",
   "nbconvert_exporter": "python",
   "pygments_lexer": "ipython3",
   "version": "3.10.4"
  }
 },
 "nbformat": 4,
 "nbformat_minor": 5
}
