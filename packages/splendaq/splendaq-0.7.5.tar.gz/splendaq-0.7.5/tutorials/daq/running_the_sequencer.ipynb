{
 "cells": [
  {
   "cell_type": "markdown",
   "id": "bf794a7f-9677-49be-ae3a-5de268c591d3",
   "metadata": {},
   "source": [
    "# Running the DC Sequencer\n",
    "----\n",
    "In this notebook, we will show how to run the `Sequencer` class, which has been designed for automated running of a sequencer with changing DC values. The class requires a YAML file to define the various settings, for which we will provide an example. We will show how to run the sequencer in a notebook, as well as via the `splendaq` command line interface (CLI).\n",
    "\n",
    "We assume that the user is using this functionality with a Moku:Pro in this tutorial."
   ]
  },
  {
   "cell_type": "code",
   "execution_count": null,
   "id": "2849825f-c720-4921-a149-9f5ffb9bfc17",
   "metadata": {},
   "outputs": [],
   "source": [
    "from splendaq.daq import Sequencer"
   ]
  },
  {
   "cell_type": "markdown",
   "id": "f63bfcee-c6e7-4515-ad5c-43785c80bf31",
   "metadata": {},
   "source": [
    "Below, we show an example YAML file, where we have added a placeholder value for the Moku IP address.\n",
    "\n",
    "```yaml\n",
    "moku:\n",
    "    ip: \"your_moku_ip_address\"\n",
    "    sequencer_mode: \"full\"\n",
    "    fs: 1.25e+6 # only used by full mode\n",
    "    duration_per_point: 1\n",
    "    time_between_points: 1\n",
    "    acquisition_mode: \"Precision\"\n",
    "    force_connect: False\n",
    "    savepath: \"./\"\n",
    "input1:\n",
    "    log: True\n",
    "    vrange: \"4Vpp\"\n",
    "    impedance: \"1MOhm\"\n",
    "input2:\n",
    "    log: False\n",
    "    vrange: \"4Vpp\"\n",
    "    impedance: \"1MOhm\"\n",
    "input3:\n",
    "    log: False\n",
    "    vrange: \"4Vpp\"\n",
    "    impedance: \"1MOhm\"\n",
    "input4:\n",
    "    log: False\n",
    "    vrange: \"4Vpp\"\n",
    "    impedance: \"1MOhm\"\n",
    "output1:\n",
    "    apply: True\n",
    "    vstart: 0\n",
    "    vend: 1\n",
    "    nstep: 2\n",
    "output2:\n",
    "    apply: True\n",
    "    vstart: 0\n",
    "    vend: 1\n",
    "    nstep: 2\n",
    "output3:\n",
    "    apply: False\n",
    "    vstart: 0\n",
    "    vend: 1\n",
    "    nstep: 10\n",
    "output4:\n",
    "    apply: False\n",
    "    vstart: 0\n",
    "    vend: 1\n",
    "    nstep: 10\n",
    "```\n",
    "\n",
    "In this settings file, we have a few global settings that we can set: the ip address of the moku, the mode of the sequencer (`\"quick\"` or `\"full\"`), the digitization rate of the data `fs`, the duration per bias point in number of seconds, the time to wait in between measurements, the decimation strategy, whether or not to force the connection (that is, boot off any possible users), and the path to save the file(s) to. We then have the various inputs and outputs of the Moku:Pro, of which there are four of each. We define which inputs to log, and which outputs to apply DC voltages with (as well as defining the beginning and end values, and number of total steps).\n",
    "\n",
    "For the IP address, ensure it is passed as a string by keeping the `\"\"` around it. If connecting via USB-C, this will be an IPv6 address, which should be enclosed with square brackets, e.g. `[your_moku_ipv6_address]`.\n",
    "\n",
    "Note that, if multiple outputs are being applied, the sequencer will log data at every possible combination of voltages natively. For example, in this case, we will log data at the voltage pairs: (0, 0), (0, 1), (1, 0), (1, 1)."
   ]
  },
  {
   "cell_type": "markdown",
   "id": "09525a68-f30c-479d-842e-12c86a9106cb",
   "metadata": {},
   "source": [
    "## Running the `Sequencer` class (`\"full\"` mode)\n",
    "\n",
    "To run the `Sequencer` class directly, we first need to have a YAML file. We have saved the above example file to `sequencer_settings.yaml`, which we will now call (assuming the user has updated the IP address to their device).\n",
    "\n",
    "We are running the sequencer in `\"full\"` mode, which corresponds to saving the time-domain data from each bias point to a LI file for further post-processing"
   ]
  },
  {
   "cell_type": "code",
   "execution_count": null,
   "id": "c1d61778-746f-4d58-9503-4e6fdff225f3",
   "metadata": {},
   "outputs": [],
   "source": [
    "SEQ = Sequencer('./sequencer_settings.yaml')\n",
    "SEQ.run(verbose=True) # verbose is true by default"
   ]
  },
  {
   "cell_type": "markdown",
   "id": "e8445d94-9bc3-4ec9-9d9d-d753cd2f8195",
   "metadata": {},
   "source": [
    "And it's that simple! Through the `splendaq` CLI, we can run the sequencer directly in the command line. Try it out with the below command."
   ]
  },
  {
   "cell_type": "code",
   "execution_count": null,
   "id": "e66c1a07-4f5c-481c-b714-b2c694b31856",
   "metadata": {},
   "outputs": [],
   "source": [
    "!splendaq sequencer sequencer_settings.yaml"
   ]
  },
  {
   "cell_type": "markdown",
   "id": "6a2e7522-e463-4d48-9b25-4556a4ad783f",
   "metadata": {},
   "source": [
    "## Running the `Sequencer` class (`\"quick\"` mode)\n",
    "\n",
    "To run the `Sequencer` class in `\"quick\"`, we will slightly modify the YAML file. Let's change the setting for `sequencer_mode` from `\"full\"` to `\"quick\"`, such that the YAML file Moku settings now look like the below.\n",
    "\n",
    "```yaml\n",
    "moku:\n",
    "    ip: \"your_moku_ip_address\"\n",
    "    sequencer_mode: \"quick\"\n",
    "    fs: 1.25e+6 # only used by full mode\n",
    "    duration_per_point: 1\n",
    "    time_between_points: 1\n",
    "    acquisition_mode: \"Precision\"\n",
    "    force_connect: False\n",
    "    savepath: \"./\"\n",
    "    # the rest of the file will remain the same\n",
    "```\n",
    "\n",
    "In `\"quick\"` mode, the sequencer will use the Oscilloscope classe to save only the DC values for each bias point to a single comma-separated text file. The call is the same, given that we have properly changed the YAML file, as specified above. Note that `fs` is ignored in this mode, as the Moku Oscilloscope has a predetermined digitization rate for the data being taken, defined as $ f_s =  1024 / $ `duration_per_point`."
   ]
  },
  {
   "cell_type": "code",
   "execution_count": null,
   "id": "d6bbc046-809e-470c-8245-0739a10b8cf6",
   "metadata": {},
   "outputs": [],
   "source": [
    "SEQ = Sequencer('./sequencer_settings.yaml')\n",
    "SEQ.run(verbose=True) # verbose is true by default"
   ]
  },
  {
   "cell_type": "code",
   "execution_count": null,
   "id": "50a6e043-3d80-4b0e-8f88-93927c1f37d7",
   "metadata": {},
   "outputs": [],
   "source": []
  }
 ],
 "metadata": {
  "kernelspec": {
   "display_name": "Python 3 (ipykernel)",
   "language": "python",
   "name": "python3"
  },
  "language_info": {
   "codemirror_mode": {
    "name": "ipython",
    "version": 3
   },
   "file_extension": ".py",
   "mimetype": "text/x-python",
   "name": "python",
   "nbconvert_exporter": "python",
   "pygments_lexer": "ipython3",
   "version": "3.10.4"
  }
 },
 "nbformat": 4,
 "nbformat_minor": 5
}
