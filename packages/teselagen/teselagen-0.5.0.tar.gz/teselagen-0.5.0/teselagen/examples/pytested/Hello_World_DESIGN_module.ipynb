{
 "cells": [
  {
   "cell_type": "markdown",
   "id": "north-universe",
   "metadata": {},
   "source": [
    "<div align=left style=\"width: 200; height: 80px; overflow: hidden\">\n",
    "    <img src=http://static1.squarespace.com/static/571446ff60b5e92c3a2b4249/57d8a40b9de4bb459f731cf3/58cb2f229de4bb4a049d38c2/1505340359463/teselaGenlogo.jpg align=right width=200>\n",
    "</div>"
   ]
  },
  {
   "cell_type": "markdown",
   "id": "major-armor",
   "metadata": {},
   "source": [
    "# Hello World! DESIGN Module\n",
    "\n",
    "This notebook shows how to use the TeselaGen's Python API Client to interact with the DESIGN module."
   ]
  },
  {
   "cell_type": "markdown",
   "id": "colored-booth",
   "metadata": {},
   "source": [
    "We start by making some imports"
   ]
  },
  {
   "cell_type": "code",
   "execution_count": 1,
   "id": "working-major",
   "metadata": {},
   "outputs": [
    {
     "data": {
      "application/vnd.jupyter.widget-view+json": {
       "model_id": "c7973425d1814c36a141a5d4f50d42e9",
       "version_major": 2,
       "version_minor": 0
      },
      "text/plain": []
     },
     "metadata": {},
     "output_type": "display_data"
    },
    {
     "name": "stdout",
     "output_type": "stream",
     "text": [
      "python version     : 3.11.6\n",
      "pandas version     : 2.2.3\n"
     ]
    }
   ],
   "source": [
    "from pathlib import Path\n",
    "import platform\n",
    "\n",
    "from IPython.display import display\n",
    "from IPython.core.display import HTML\n",
    "import nglview\n",
    "import pandas as pd\n",
    "\n",
    "from teselagen.api import TeselaGenClient\n",
    "from teselagen.utils.plot_tools import plot_plasmid_features\n",
    "from teselagen.utils.plot_tools import RenderJSON\n",
    "\n",
    "print(f\"python version     : {platform.python_version()}\")\n",
    "print(f\"pandas version     : {pd.__version__}\")"
   ]
  },
  {
   "cell_type": "markdown",
   "id": "marked-consequence",
   "metadata": {},
   "source": [
    "And then login into the platform. You should get \"*Connection Accepted*\" printed below. "
   ]
  },
  {
   "cell_type": "code",
   "execution_count": 2,
   "id": "peripheral-brake",
   "metadata": {},
   "outputs": [
    {
     "name": "stdout",
     "output_type": "stream",
     "text": [
      "Client ready. Please login\n",
      "Connection Accepted at http://host.docker.internal:3000\n",
      "Selected Lab: The Test Lab\n"
     ]
    }
   ],
   "source": [
    "# Connect to your teselagen instance by passing it as the 'host_url' argument of TeselaGenClient(host_url=host_url)\n",
    "# client = TeselaGenClient(host_url=\"https://your-instance-name.teselagen.com\")\n",
    "client = TeselaGenClient()\n",
    "client.login()\n",
    "client.select_laboratory(lab_name=\"The Test Lab\")"
   ]
  },
  {
   "cell_type": "code",
   "execution_count": 3,
   "id": "packed-cause",
   "metadata": {},
   "outputs": [
    {
     "name": "stdout",
     "output_type": "stream",
     "text": [
      "http://host.docker.internal:3000\n"
     ]
    }
   ],
   "source": [
    "print(client.host_url)"
   ]
  },
  {
   "cell_type": "markdown",
   "id": "capital-invention",
   "metadata": {},
   "source": [
    "## Downloading DNA sequences"
   ]
  },
  {
   "cell_type": "markdown",
   "id": "graphic-search",
   "metadata": {},
   "source": [
    "In this section we are going to download and explore a sample sequence from the DESIGN module. This sequences is named `GFP_UV`. In the next cell we are going to download this sequence. You can use the cell's output to explore the contents of this object:"
   ]
  },
  {
   "cell_type": "code",
   "execution_count": 4,
   "id": "acute-welding",
   "metadata": {},
   "outputs": [
    {
     "data": {
      "text/html": [
       "\n",
       "            <div id=\"feda58bd-2e7f-464a-ab8b-b50ba09a983e\" style=\"height: max-content; width:100%;background-color: #f2f3ff\";></div>\n",
       "            "
      ]
     },
     "metadata": {},
     "output_type": "display_data"
    },
    {
     "data": {
      "application/javascript": "\n            require([\"https://rawgit.com/caldwell/renderjson/master/renderjson.js\"], function() {\n            document.getElementById('feda58bd-2e7f-464a-ab8b-b50ba09a983e').appendChild(renderjson({\"id\": \"d8feb0a4-0dd4-474d-a6d4-02f061825de3\", \"name\": \"Construct 8\", \"circular\": true, \"description\": \"pS8c-vector_backbone,ccmN_nterm_sig_pep,short_gly_ser_linker,GFPuv,ssrA_tag_enhanced_5prime,ssrA_tag_3prime\", \"size\": 0, \"hash\": \"NCD1aa771622858e194cd93d80d819ad09a4cebc1be81f9f3a50b44fada39888f48\", \"sequenceTypeCode\": \"CIRCULAR_DNA\", \"sequenceType\": {\"code\": \"CIRCULAR_DNA\", \"name\": \"Circular DNA\", \"__typename\": \"sequenceType\"}, \"polynucleotideMaterialId\": \"8188443a-3ef9-4239-a925-9d22bddfcc91\", \"polynucleotideMaterial\": {\"id\": \"8188443a-3ef9-4239-a925-9d22bddfcc91\", \"name\": \"Material for Construct 8\", \"samples\": [], \"__typename\": \"material\"}, \"__typename\": \"sequence\", \"isJ5Sequence\": false, \"parts\": [{\"id\": \"b3321d9e-9387-48f9-acc5-8002f99df1dd\", \"name\": \"short_gly_ser_linker\", \"type\": \"misc_feature\", \"start\": 0, \"end\": 0, \"strand\": -1, \"notes\": {\"tag\": []}, \"annotationTypePlural\": \"parts\", \"forward\": false, \"color\": \"#006FEF\"}], \"sequenceFeatures\": [{\"id\": \"c1f69f91-a91a-41e9-be30-9fece45a0073\", \"start\": 6, \"end\": 885, \"type\": \"CDS\", \"name\": \"araC\", \"strand\": -1, \"__typename\": \"sequenceFeature\"}, {\"id\": \"e746be40-4c3d-45ec-9c6f-c17d199ca67d\", \"start\": 913, \"end\": 931, \"type\": \"protein_bind\", \"name\": \"operator O2\", \"strand\": 1, \"__typename\": \"sequenceFeature\"}, {\"id\": \"d0197504-4052-45f3-a01c-e27c8711cca3\", \"start\": 1035, \"end\": 1064, \"type\": \"promoter\", \"name\": \"araC promoter\", \"strand\": -1, \"__typename\": \"sequenceFeature\"}, {\"id\": \"ab056d21-3841-49e1-8914-1fad6d077df3\", \"start\": 1071, \"end\": 1093, \"type\": \"protein_bind\", \"name\": \"operator O1\", \"strand\": 1, \"__typename\": \"sequenceFeature\"}, {\"id\": \"10ae4404-63ed-47f5-a5c8-ad2257ce7ce6\", \"start\": 1114, \"end\": 1128, \"type\": \"misc_binding\", \"name\": \"CAP site\", \"strand\": 1, \"__typename\": \"sequenceFeature\"}, {\"id\": \"6bb56a69-038a-4b21-a04e-69e5eee9ee1b\", \"start\": 1123, \"end\": 1162, \"type\": \"protein_bind\", \"name\": \"Operator I2 and I1\", \"strand\": 1, \"__typename\": \"sequenceFeature\"}, {\"id\": \"59dfcd63-bde7-4b90-9a55-cc006d96ab07\", \"start\": 1160, \"end\": 1188, \"type\": \"promoter\", \"name\": \"pBAD promoter\", \"strand\": 1, \"__typename\": \"sequenceFeature\"}, {\"id\": \"ef4338c3-2cc0-424e-a4cd-40be976fcb79\", \"start\": 1206, \"end\": 1299, \"type\": \"primer_bind\", \"name\": \"Oligo 2 (pS8c-vector_backbone) (ccmN_nterm_sig_pep) Reverse\", \"strand\": -1, \"__typename\": \"sequenceFeature\"}, {\"id\": \"2a36f9f5-e8e8-45e6-9c92-19b95c4c4ee7\", \"start\": 1215, \"end\": 1235, \"type\": \"RBS\", \"name\": \"RBS\", \"strand\": 1, \"__typename\": \"sequenceFeature\"}, {\"id\": \"d81d6164-7597-41bc-b913-205f558837e1\", \"start\": 1235, \"end\": 2072, \"type\": \"CDS\", \"name\": \"GFPuv\", \"strand\": 1, \"__typename\": \"sequenceFeature\"}, {\"id\": \"8677b3ef-13b7-429e-b4b5-02955f97d05f\", \"start\": 1238, \"end\": 1295, \"type\": \"misc_feature\", \"name\": \"ccmN_sig_pep\", \"strand\": 1, \"__typename\": \"sequenceFeature\"}, {\"id\": \"37f4ec35-1785-4fc4-a1dd-382d0ee35747\", \"start\": 1295, \"end\": 1319, \"type\": \"misc_feature\", \"name\": \"gly_ser_linker\", \"strand\": 1, \"__typename\": \"sequenceFeature\"}, {\"id\": \"ec3102c5-a65f-4151-bcd7-7e903116cdab\", \"start\": 1295, \"end\": 1351, \"type\": \"primer_bind\", \"name\": \"Oligo 3 (short_gly_ser_linker) (GFPuv) Forward\", \"strand\": 1, \"__typename\": \"sequenceFeature\"}, {\"id\": \"6e7a018c-d679-48e0-837c-2aadb1ac5cd7\", \"start\": 1738, \"end\": 1739, \"type\": \"misc_feature\", \"name\": \"XhoI_silent_mutation\", \"strand\": 1, \"__typename\": \"sequenceFeature\"}, {\"id\": \"5cd8882d-6028-427b-89e9-4d2b4996d828\", \"start\": 1837, \"end\": 1838, \"type\": \"misc_feature\", \"name\": \"BamHI_silent_mutation\", \"strand\": 1, \"__typename\": \"sequenceFeature\"}, {\"id\": \"a8d54ed5-5f8f-4141-b68d-fdd1e22f782f\", \"start\": 2012, \"end\": 2055, \"type\": \"primer_bind\", \"name\": \"Oligo 4 (GFPuv) (ssrA_tag_enhanced_5prime) Reverse\", \"strand\": -1, \"__typename\": \"sequenceFeature\"}, {\"id\": \"a7bec6ef-74a0-4e92-bbde-1a99525b4a93\", \"start\": 2030, \"end\": 2051, \"type\": \"misc_feature\", \"name\": \"ssrA tag enhanced\", \"strand\": 1, \"__typename\": \"sequenceFeature\"}, {\"id\": \"d7cf5657-219f-4a00-b7aa-cd820daba37b\", \"start\": 2051, \"end\": 2069, \"type\": \"misc_feature\", \"name\": \"ssrA tag\", \"strand\": 1, \"__typename\": \"sequenceFeature\"}, {\"id\": \"0f7c766d-b921-4772-889e-5af28fa6106c\", \"start\": 2051, \"end\": 2094, \"type\": \"primer_bind\", \"name\": \"Oligo 1 (ssrA_tag_3prime) (pS8c-vector_backbone) Forward\", \"strand\": 1, \"__typename\": \"sequenceFeature\"}, {\"id\": \"ecbe6477-0eec-4ad1-af5f-e55f1b2df867\", \"start\": 2087, \"end\": 2216, \"type\": \"terminator\", \"name\": \"dbl term\", \"strand\": 1, \"__typename\": \"sequenceFeature\"}, {\"id\": \"f5301a24-0f05-482a-b834-20c04e97c57b\", \"start\": 2217, \"end\": 4446, \"type\": \"rep_origin\", \"name\": \"pSC101**\", \"strand\": -1, \"__typename\": \"sequenceFeature\"}, {\"id\": \"e019bc68-653b-4713-9f03-d960e9325ec9\", \"start\": 4446, \"end\": 4552, \"type\": \"terminator\", \"name\": \"T0\", \"strand\": 1, \"__typename\": \"sequenceFeature\"}, {\"id\": \"b57f6279-cc81-42fc-8532-b9a91da9ffa9\", \"start\": 4567, \"end\": 5227, \"type\": \"misc_marker\", \"name\": \"CmR\", \"strand\": -1, \"__typename\": \"sequenceFeature\"}], \"type\": \"DNA\", \"isOligo\": false, \"isRna\": false, \"proteinSequence\": \"\", \"sequence\": \"\", \"proteinSize\": 0, \"primers\": [{\"id\": \"ef4338c3-2cc0-424e-a4cd-40be976fcb79\", \"start\": 0, \"end\": 0, \"type\": \"primer_bind\", \"name\": \"Oligo 2 (pS8c-vector_backbone) (ccmN_nterm_sig_pep) Reverse\", \"strand\": -1, \"__typename\": \"sequenceFeature\", \"useLinkedOligo\": false, \"annotationTypePlural\": \"primers\", \"forward\": false, \"color\": \"#53d969\"}, {\"id\": \"ec3102c5-a65f-4151-bcd7-7e903116cdab\", \"start\": 0, \"end\": 0, \"type\": \"primer_bind\", \"name\": \"Oligo 3 (short_gly_ser_linker) (GFPuv) Forward\", \"strand\": 1, \"__typename\": \"sequenceFeature\", \"useLinkedOligo\": false, \"annotationTypePlural\": \"primers\", \"forward\": true, \"color\": \"#53d969\"}, {\"id\": \"a8d54ed5-5f8f-4141-b68d-fdd1e22f782f\", \"start\": 0, \"end\": 0, \"type\": \"primer_bind\", \"name\": \"Oligo 4 (GFPuv) (ssrA_tag_enhanced_5prime) Reverse\", \"strand\": -1, \"__typename\": \"sequenceFeature\", \"useLinkedOligo\": false, \"annotationTypePlural\": \"primers\", \"forward\": false, \"color\": \"#53d969\"}, {\"id\": \"0f7c766d-b921-4772-889e-5af28fa6106c\", \"start\": 0, \"end\": 0, \"type\": \"primer_bind\", \"name\": \"Oligo 1 (ssrA_tag_3prime) (pS8c-vector_backbone) Forward\", \"strand\": 1, \"__typename\": \"sequenceFeature\", \"useLinkedOligo\": false, \"annotationTypePlural\": \"primers\", \"forward\": true, \"color\": \"#53d969\"}], \"features\": [{\"notes\": {}, \"id\": \"c1f69f91-a91a-41e9-be30-9fece45a0073\", \"start\": 0, \"end\": 0, \"type\": \"CDS\", \"name\": \"araC\", \"strand\": -1, \"__typename\": \"sequenceFeature\", \"annotationTypePlural\": \"features\", \"forward\": false, \"color\": \"#EF6500\"}, {\"notes\": {}, \"id\": \"e746be40-4c3d-45ec-9c6f-c17d199ca67d\", \"start\": 0, \"end\": 0, \"type\": \"protein_bind\", \"name\": \"operator O2\", \"strand\": 1, \"__typename\": \"sequenceFeature\", \"annotationTypePlural\": \"features\", \"forward\": true, \"color\": \"#2E2E2E\"}, {\"notes\": {}, \"id\": \"d0197504-4052-45f3-a01c-e27c8711cca3\", \"start\": 0, \"end\": 0, \"type\": \"promoter\", \"name\": \"araC promoter\", \"strand\": -1, \"__typename\": \"sequenceFeature\", \"annotationTypePlural\": \"features\", \"forward\": false, \"color\": \"#31B440\"}, {\"notes\": {}, \"id\": \"ab056d21-3841-49e1-8914-1fad6d077df3\", \"start\": 0, \"end\": 0, \"type\": \"protein_bind\", \"name\": \"operator O1\", \"strand\": 1, \"__typename\": \"sequenceFeature\", \"annotationTypePlural\": \"features\", \"forward\": true, \"color\": \"#2E2E2E\"}, {\"notes\": {}, \"id\": \"10ae4404-63ed-47f5-a5c8-ad2257ce7ce6\", \"start\": 0, \"end\": 0, \"type\": \"misc_binding\", \"name\": \"CAP site\", \"strand\": 1, \"__typename\": \"sequenceFeature\", \"annotationTypePlural\": \"features\", \"forward\": true, \"color\": \"#006FEF\"}, {\"notes\": {}, \"id\": \"6bb56a69-038a-4b21-a04e-69e5eee9ee1b\", \"start\": 0, \"end\": 0, \"type\": \"protein_bind\", \"name\": \"Operator I2 and I1\", \"strand\": 1, \"__typename\": \"sequenceFeature\", \"annotationTypePlural\": \"features\", \"forward\": true, \"color\": \"#2E2E2E\"}, {\"notes\": {}, \"id\": \"59dfcd63-bde7-4b90-9a55-cc006d96ab07\", \"start\": 0, \"end\": 0, \"type\": \"promoter\", \"name\": \"pBAD promoter\", \"strand\": 1, \"__typename\": \"sequenceFeature\", \"annotationTypePlural\": \"features\", \"forward\": true, \"color\": \"#31B440\"}, {\"notes\": {}, \"id\": \"2a36f9f5-e8e8-45e6-9c92-19b95c4c4ee7\", \"start\": 0, \"end\": 0, \"type\": \"RBS\", \"name\": \"RBS\", \"strand\": 1, \"__typename\": \"sequenceFeature\", \"annotationTypePlural\": \"features\", \"forward\": true, \"color\": \"#BDFFCB\"}, {\"notes\": {}, \"id\": \"d81d6164-7597-41bc-b913-205f558837e1\", \"start\": 0, \"end\": 0, \"type\": \"CDS\", \"name\": \"GFPuv\", \"strand\": 1, \"__typename\": \"sequenceFeature\", \"annotationTypePlural\": \"features\", \"forward\": true, \"color\": \"#EF6500\"}, {\"notes\": {}, \"id\": \"8677b3ef-13b7-429e-b4b5-02955f97d05f\", \"start\": 0, \"end\": 0, \"type\": \"misc_feature\", \"name\": \"ccmN_sig_pep\", \"strand\": 1, \"__typename\": \"sequenceFeature\", \"annotationTypePlural\": \"features\", \"forward\": true, \"color\": \"#006FEF\"}, {\"notes\": {}, \"id\": \"37f4ec35-1785-4fc4-a1dd-382d0ee35747\", \"start\": 0, \"end\": 0, \"type\": \"misc_feature\", \"name\": \"gly_ser_linker\", \"strand\": 1, \"__typename\": \"sequenceFeature\", \"annotationTypePlural\": \"features\", \"forward\": true, \"color\": \"#006FEF\"}, {\"notes\": {}, \"id\": \"6e7a018c-d679-48e0-837c-2aadb1ac5cd7\", \"start\": 0, \"end\": 0, \"type\": \"misc_feature\", \"name\": \"XhoI_silent_mutation\", \"strand\": 1, \"__typename\": \"sequenceFeature\", \"annotationTypePlural\": \"features\", \"forward\": true, \"color\": \"#006FEF\"}, {\"notes\": {}, \"id\": \"5cd8882d-6028-427b-89e9-4d2b4996d828\", \"start\": 0, \"end\": 0, \"type\": \"misc_feature\", \"name\": \"BamHI_silent_mutation\", \"strand\": 1, \"__typename\": \"sequenceFeature\", \"annotationTypePlural\": \"features\", \"forward\": true, \"color\": \"#006FEF\"}, {\"notes\": {}, \"id\": \"a7bec6ef-74a0-4e92-bbde-1a99525b4a93\", \"start\": 0, \"end\": 0, \"type\": \"misc_feature\", \"name\": \"ssrA tag enhanced\", \"strand\": 1, \"__typename\": \"sequenceFeature\", \"annotationTypePlural\": \"features\", \"forward\": true, \"color\": \"#006FEF\"}, {\"notes\": {}, \"id\": \"d7cf5657-219f-4a00-b7aa-cd820daba37b\", \"start\": 0, \"end\": 0, \"type\": \"misc_feature\", \"name\": \"ssrA tag\", \"strand\": 1, \"__typename\": \"sequenceFeature\", \"annotationTypePlural\": \"features\", \"forward\": true, \"color\": \"#006FEF\"}, {\"notes\": {}, \"id\": \"ecbe6477-0eec-4ad1-af5f-e55f1b2df867\", \"start\": 0, \"end\": 0, \"type\": \"terminator\", \"name\": \"dbl term\", \"strand\": 1, \"__typename\": \"sequenceFeature\", \"annotationTypePlural\": \"features\", \"forward\": true, \"color\": \"#F51600\"}, {\"notes\": {}, \"id\": \"f5301a24-0f05-482a-b834-20c04e97c57b\", \"start\": 0, \"end\": 0, \"type\": \"rep_origin\", \"name\": \"pSC101**\", \"strand\": -1, \"__typename\": \"sequenceFeature\", \"annotationTypePlural\": \"features\", \"forward\": false, \"color\": \"#878787\"}, {\"notes\": {}, \"id\": \"e019bc68-653b-4713-9f03-d960e9325ec9\", \"start\": 0, \"end\": 0, \"type\": \"terminator\", \"name\": \"T0\", \"strand\": 1, \"__typename\": \"sequenceFeature\", \"annotationTypePlural\": \"features\", \"forward\": true, \"color\": \"#F51600\"}, {\"notes\": {}, \"id\": \"b57f6279-cc81-42fc-8532-b9a91da9ffa9\", \"start\": 0, \"end\": 0, \"type\": \"misc_marker\", \"name\": \"CmR\", \"strand\": -1, \"__typename\": \"sequenceFeature\", \"annotationTypePlural\": \"features\", \"forward\": false, \"color\": \"#8DCEB1\"}], \"lineageAnnotations\": [], \"assemblyPieces\": [], \"warnings\": [], \"cutsites\": [], \"orfs\": [], \"translations\": [], \"guides\": [], \"extendedProperties\": [], \"tags\": []}))\n            });\n            "
     },
     "metadata": {},
     "output_type": "display_data"
    }
   ],
   "source": [
    "sequence = client.design.get_dna_sequences(name='GFP_UV')[0]\n",
    "RenderJSON(sequence)"
   ]
  },
  {
   "cell_type": "markdown",
   "id": "impossible-coverage",
   "metadata": {},
   "source": [
    "The output contained  a list of all sequences named `'GFP_UV'`. We just got the first one and now we check the   features it contains"
   ]
  },
  {
   "cell_type": "code",
   "execution_count": 5,
   "id": "narrative-liver",
   "metadata": {},
   "outputs": [
    {
     "name": "stdout",
     "output_type": "stream",
     "text": [
      "araC\n",
      "operator O2\n",
      "araC promoter\n",
      "operator O1\n",
      "CAP site\n",
      "Operator I2 and I1\n",
      "pBAD promoter\n",
      "RBS\n",
      "GFPuv\n",
      "ccmN_sig_pep\n",
      "gly_ser_linker\n",
      "XhoI_silent_mutation\n",
      "BamHI_silent_mutation\n",
      "ssrA tag enhanced\n",
      "ssrA tag\n",
      "dbl term\n",
      "pSC101**\n",
      "T0\n",
      "CmR\n"
     ]
    }
   ],
   "source": [
    "features = sequence['features']\n",
    "for feat in features:\n",
    "    print(feat['name'])"
   ]
  },
  {
   "cell_type": "code",
   "execution_count": 6,
   "id": "13dcfd31",
   "metadata": {},
   "outputs": [
    {
     "data": {
      "text/plain": [
       "[{'notes': {},\n",
       "  'id': 'c1f69f91-a91a-41e9-be30-9fece45a0073',\n",
       "  'start': 0,\n",
       "  'end': 0,\n",
       "  'type': 'CDS',\n",
       "  'name': 'araC',\n",
       "  'strand': -1,\n",
       "  '__typename': 'sequenceFeature',\n",
       "  'annotationTypePlural': 'features',\n",
       "  'forward': False,\n",
       "  'color': '#EF6500'},\n",
       " {'notes': {},\n",
       "  'id': 'e746be40-4c3d-45ec-9c6f-c17d199ca67d',\n",
       "  'start': 0,\n",
       "  'end': 0,\n",
       "  'type': 'protein_bind',\n",
       "  'name': 'operator O2',\n",
       "  'strand': 1,\n",
       "  '__typename': 'sequenceFeature',\n",
       "  'annotationTypePlural': 'features',\n",
       "  'forward': True,\n",
       "  'color': '#2E2E2E'},\n",
       " {'notes': {},\n",
       "  'id': 'd0197504-4052-45f3-a01c-e27c8711cca3',\n",
       "  'start': 0,\n",
       "  'end': 0,\n",
       "  'type': 'promoter',\n",
       "  'name': 'araC promoter',\n",
       "  'strand': -1,\n",
       "  '__typename': 'sequenceFeature',\n",
       "  'annotationTypePlural': 'features',\n",
       "  'forward': False,\n",
       "  'color': '#31B440'},\n",
       " {'notes': {},\n",
       "  'id': 'ab056d21-3841-49e1-8914-1fad6d077df3',\n",
       "  'start': 0,\n",
       "  'end': 0,\n",
       "  'type': 'protein_bind',\n",
       "  'name': 'operator O1',\n",
       "  'strand': 1,\n",
       "  '__typename': 'sequenceFeature',\n",
       "  'annotationTypePlural': 'features',\n",
       "  'forward': True,\n",
       "  'color': '#2E2E2E'},\n",
       " {'notes': {},\n",
       "  'id': '10ae4404-63ed-47f5-a5c8-ad2257ce7ce6',\n",
       "  'start': 0,\n",
       "  'end': 0,\n",
       "  'type': 'misc_binding',\n",
       "  'name': 'CAP site',\n",
       "  'strand': 1,\n",
       "  '__typename': 'sequenceFeature',\n",
       "  'annotationTypePlural': 'features',\n",
       "  'forward': True,\n",
       "  'color': '#006FEF'},\n",
       " {'notes': {},\n",
       "  'id': '6bb56a69-038a-4b21-a04e-69e5eee9ee1b',\n",
       "  'start': 0,\n",
       "  'end': 0,\n",
       "  'type': 'protein_bind',\n",
       "  'name': 'Operator I2 and I1',\n",
       "  'strand': 1,\n",
       "  '__typename': 'sequenceFeature',\n",
       "  'annotationTypePlural': 'features',\n",
       "  'forward': True,\n",
       "  'color': '#2E2E2E'},\n",
       " {'notes': {},\n",
       "  'id': '59dfcd63-bde7-4b90-9a55-cc006d96ab07',\n",
       "  'start': 0,\n",
       "  'end': 0,\n",
       "  'type': 'promoter',\n",
       "  'name': 'pBAD promoter',\n",
       "  'strand': 1,\n",
       "  '__typename': 'sequenceFeature',\n",
       "  'annotationTypePlural': 'features',\n",
       "  'forward': True,\n",
       "  'color': '#31B440'},\n",
       " {'notes': {},\n",
       "  'id': '2a36f9f5-e8e8-45e6-9c92-19b95c4c4ee7',\n",
       "  'start': 0,\n",
       "  'end': 0,\n",
       "  'type': 'RBS',\n",
       "  'name': 'RBS',\n",
       "  'strand': 1,\n",
       "  '__typename': 'sequenceFeature',\n",
       "  'annotationTypePlural': 'features',\n",
       "  'forward': True,\n",
       "  'color': '#BDFFCB'},\n",
       " {'notes': {},\n",
       "  'id': 'd81d6164-7597-41bc-b913-205f558837e1',\n",
       "  'start': 0,\n",
       "  'end': 0,\n",
       "  'type': 'CDS',\n",
       "  'name': 'GFPuv',\n",
       "  'strand': 1,\n",
       "  '__typename': 'sequenceFeature',\n",
       "  'annotationTypePlural': 'features',\n",
       "  'forward': True,\n",
       "  'color': '#EF6500'},\n",
       " {'notes': {},\n",
       "  'id': '8677b3ef-13b7-429e-b4b5-02955f97d05f',\n",
       "  'start': 0,\n",
       "  'end': 0,\n",
       "  'type': 'misc_feature',\n",
       "  'name': 'ccmN_sig_pep',\n",
       "  'strand': 1,\n",
       "  '__typename': 'sequenceFeature',\n",
       "  'annotationTypePlural': 'features',\n",
       "  'forward': True,\n",
       "  'color': '#006FEF'},\n",
       " {'notes': {},\n",
       "  'id': '37f4ec35-1785-4fc4-a1dd-382d0ee35747',\n",
       "  'start': 0,\n",
       "  'end': 0,\n",
       "  'type': 'misc_feature',\n",
       "  'name': 'gly_ser_linker',\n",
       "  'strand': 1,\n",
       "  '__typename': 'sequenceFeature',\n",
       "  'annotationTypePlural': 'features',\n",
       "  'forward': True,\n",
       "  'color': '#006FEF'},\n",
       " {'notes': {},\n",
       "  'id': '6e7a018c-d679-48e0-837c-2aadb1ac5cd7',\n",
       "  'start': 0,\n",
       "  'end': 0,\n",
       "  'type': 'misc_feature',\n",
       "  'name': 'XhoI_silent_mutation',\n",
       "  'strand': 1,\n",
       "  '__typename': 'sequenceFeature',\n",
       "  'annotationTypePlural': 'features',\n",
       "  'forward': True,\n",
       "  'color': '#006FEF'},\n",
       " {'notes': {},\n",
       "  'id': '5cd8882d-6028-427b-89e9-4d2b4996d828',\n",
       "  'start': 0,\n",
       "  'end': 0,\n",
       "  'type': 'misc_feature',\n",
       "  'name': 'BamHI_silent_mutation',\n",
       "  'strand': 1,\n",
       "  '__typename': 'sequenceFeature',\n",
       "  'annotationTypePlural': 'features',\n",
       "  'forward': True,\n",
       "  'color': '#006FEF'},\n",
       " {'notes': {},\n",
       "  'id': 'a7bec6ef-74a0-4e92-bbde-1a99525b4a93',\n",
       "  'start': 0,\n",
       "  'end': 0,\n",
       "  'type': 'misc_feature',\n",
       "  'name': 'ssrA tag enhanced',\n",
       "  'strand': 1,\n",
       "  '__typename': 'sequenceFeature',\n",
       "  'annotationTypePlural': 'features',\n",
       "  'forward': True,\n",
       "  'color': '#006FEF'},\n",
       " {'notes': {},\n",
       "  'id': 'd7cf5657-219f-4a00-b7aa-cd820daba37b',\n",
       "  'start': 0,\n",
       "  'end': 0,\n",
       "  'type': 'misc_feature',\n",
       "  'name': 'ssrA tag',\n",
       "  'strand': 1,\n",
       "  '__typename': 'sequenceFeature',\n",
       "  'annotationTypePlural': 'features',\n",
       "  'forward': True,\n",
       "  'color': '#006FEF'},\n",
       " {'notes': {},\n",
       "  'id': 'ecbe6477-0eec-4ad1-af5f-e55f1b2df867',\n",
       "  'start': 0,\n",
       "  'end': 0,\n",
       "  'type': 'terminator',\n",
       "  'name': 'dbl term',\n",
       "  'strand': 1,\n",
       "  '__typename': 'sequenceFeature',\n",
       "  'annotationTypePlural': 'features',\n",
       "  'forward': True,\n",
       "  'color': '#F51600'},\n",
       " {'notes': {},\n",
       "  'id': 'f5301a24-0f05-482a-b834-20c04e97c57b',\n",
       "  'start': 0,\n",
       "  'end': 0,\n",
       "  'type': 'rep_origin',\n",
       "  'name': 'pSC101**',\n",
       "  'strand': -1,\n",
       "  '__typename': 'sequenceFeature',\n",
       "  'annotationTypePlural': 'features',\n",
       "  'forward': False,\n",
       "  'color': '#878787'},\n",
       " {'notes': {},\n",
       "  'id': 'e019bc68-653b-4713-9f03-d960e9325ec9',\n",
       "  'start': 0,\n",
       "  'end': 0,\n",
       "  'type': 'terminator',\n",
       "  'name': 'T0',\n",
       "  'strand': 1,\n",
       "  '__typename': 'sequenceFeature',\n",
       "  'annotationTypePlural': 'features',\n",
       "  'forward': True,\n",
       "  'color': '#F51600'},\n",
       " {'notes': {},\n",
       "  'id': 'b57f6279-cc81-42fc-8532-b9a91da9ffa9',\n",
       "  'start': 0,\n",
       "  'end': 0,\n",
       "  'type': 'misc_marker',\n",
       "  'name': 'CmR',\n",
       "  'strand': -1,\n",
       "  '__typename': 'sequenceFeature',\n",
       "  'annotationTypePlural': 'features',\n",
       "  'forward': False,\n",
       "  'color': '#8DCEB1'}]"
      ]
     },
     "execution_count": 6,
     "metadata": {},
     "output_type": "execute_result"
    }
   ],
   "source": [
    "features"
   ]
  },
  {
   "cell_type": "markdown",
   "id": "thick-parker",
   "metadata": {},
   "source": [
    "Each element contains all the information about that particular feature. In the following cell we show the contents of the `GFPuv` feature (only if available):"
   ]
  },
  {
   "cell_type": "code",
   "execution_count": 7,
   "id": "nuclear-cliff",
   "metadata": {},
   "outputs": [
    {
     "data": {
      "text/plain": [
       "{'notes': {},\n",
       " 'id': 'd81d6164-7597-41bc-b913-205f558837e1',\n",
       " 'start': 0,\n",
       " 'end': 0,\n",
       " 'type': 'CDS',\n",
       " 'name': 'GFPuv',\n",
       " 'strand': 1,\n",
       " '__typename': 'sequenceFeature',\n",
       " 'annotationTypePlural': 'features',\n",
       " 'forward': True,\n",
       " 'color': '#EF6500'}"
      ]
     },
     "metadata": {},
     "output_type": "display_data"
    }
   ],
   "source": [
    "gfp_uv_feature = [feat for feat in features if feat['name'] == \"GFPuv\"]\n",
    "if gfp_uv_feature:\n",
    "    display(gfp_uv_feature[0])"
   ]
  },
  {
   "cell_type": "markdown",
   "id": "alien-horizon",
   "metadata": {},
   "source": [
    "We can use the above object to get the precise nucleotide sequence for that feature:"
   ]
  },
  {
   "cell_type": "code",
   "execution_count": 8,
   "id": "regular-filename",
   "metadata": {},
   "outputs": [
    {
     "data": {
      "text/plain": [
       "''"
      ]
     },
     "metadata": {},
     "output_type": "display_data"
    }
   ],
   "source": [
    "if gfp_uv_feature:\n",
    "    display(sequence['sequence'][int(gfp_uv_feature[0]['start']):int(gfp_uv_feature[0]['end']) + 1])"
   ]
  },
  {
   "cell_type": "markdown",
   "id": "olympic-variance",
   "metadata": {},
   "source": [
    "We can also make a plot of all features by using [dna_features_viewer library](https://github.com/Edinburgh-Genome-Foundry/DnaFeaturesViewer) (see plot_plasmid_features implementation for details). As there are many features we will just focus on the biggest ones (> 100 base pairs)"
   ]
  },
  {
   "cell_type": "code",
   "execution_count": 9,
   "id": "6c1ea267",
   "metadata": {},
   "outputs": [
    {
     "data": {
      "text/plain": [
       "[]"
      ]
     },
     "execution_count": 9,
     "metadata": {},
     "output_type": "execute_result"
    }
   ],
   "source": [
    "features=[feat for feat in features if feat['end'] - feat['start'] > 100]\n",
    "features"
   ]
  },
  {
   "cell_type": "code",
   "execution_count": 10,
   "id": "artistic-liverpool",
   "metadata": {
    "scrolled": false
   },
   "outputs": [
    {
     "name": "stdout",
     "output_type": "stream",
     "text": [
      "No features found\n"
     ]
    }
   ],
   "source": [
    "filtered_features = [feat for feat in features if feat['end'] - feat['start'] > 100]\n",
    "if filtered_features:\n",
    "    _ = plot_plasmid_features(plasmid_length=len(sequence['sequence']),\n",
    "                            features=filtered_features)\n",
    "    # This line just centers the image\n",
    "    HTML(\"\"\"<style> .output_png {display: table-cell;text-align: center;vertical-align: middle;}</style>\"\"\")\n",
    "else:\n",
    "    print(\"No features found\")"
   ]
  },
  {
   "cell_type": "markdown",
   "id": "plastic-hierarchy",
   "metadata": {},
   "source": [
    "## Downloading designs\n",
    "\n",
    "Now we'll download a design from the platform"
   ]
  },
  {
   "cell_type": "code",
   "execution_count": 11,
   "id": "special-landscape",
   "metadata": {},
   "outputs": [
    {
     "name": "stdout",
     "output_type": "stream",
     "text": [
      "Design not found, please change design_name with an existent design name\n"
     ]
    }
   ],
   "source": [
    "# We first obtain designs id by its name\n",
    "design_name = \"CGG Design demo notebook\"\n",
    "design_info = client.design.get_designs(name=design_name)\n",
    "if not design_info:\n",
    "    print(\"Design not found, please change design_name with an existent design name\")\n",
    "else:\n",
    "    print(\"Downloaded design\", design_info)"
   ]
  },
  {
   "cell_type": "markdown",
   "id": "compatible-script",
   "metadata": {},
   "source": [
    "Click the following link to see the design in the platform"
   ]
  },
  {
   "cell_type": "code",
   "execution_count": 12,
   "id": "serial-promise",
   "metadata": {},
   "outputs": [],
   "source": [
    "if design_info:\n",
    "    design_url = f\"{client.host_url}/design/client/designs/{design_info['id']}\"\n",
    "    display(HTML(f\"\"\"<a href=\"{design_url}\" target=\"_blank\" rel=\"noopener noreferrer\">{design_url}</a>\"\"\"))"
   ]
  },
  {
   "cell_type": "code",
   "execution_count": 13,
   "id": "loving-africa",
   "metadata": {},
   "outputs": [],
   "source": [
    "# Then download design:\n",
    "design = None\n",
    "if design_info:\n",
    "    design = client.design.get_design(design_info['id'])\n"
   ]
  },
  {
   "cell_type": "markdown",
   "id": "least-fisher",
   "metadata": {},
   "source": [
    "You can use the output of the next cell to explore the design object"
   ]
  },
  {
   "cell_type": "code",
   "execution_count": 14,
   "id": "worth-marketplace",
   "metadata": {},
   "outputs": [],
   "source": [
    "if design:\n",
    "    RenderJSON(design)"
   ]
  },
  {
   "cell_type": "markdown",
   "id": "valuable-exhibition",
   "metadata": {},
   "source": [
    "For design upload, please refer to the *Closing-the-DBTL-Cycle.ipynb* jupyter notebook."
   ]
  },
  {
   "cell_type": "markdown",
   "id": "vanilla-sector",
   "metadata": {},
   "source": [
    "## Working with amino acid sequences\n",
    "\n",
    "Below we will explore how to upload and download amino acid secuences with an Antimicrobial Peptide (AMP). \n",
    " "
   ]
  },
  {
   "cell_type": "markdown",
   "id": "plastic-blair",
   "metadata": {},
   "source": [
    "The [2KNJ](https://www.rcsb.org/structure/2KNJ) peptide has AMP properties. Its sequence is: ```HHQELCTKGDDALVTELECIRLRISPETNAAFDNAVQQLNCLNRACAYRKMCATNNLEQAMSVYFTNEQIKEIHDAATACDPEAHHEHDH```\n",
    "\n",
    "The next cell shows its 3D structure:\n",
    "\n",
    "(Note: For displaying the molecule, the [nglview](https://github.com/nglviewer/nglview) library is being used. If the figure is not showing, try running the following command from your environment terminal and reload: `jupyter-nbextension enable nglview --py --sys-prefix`. If still doesn't work you may want to explore their [FAQ](https://github.com/nglviewer/nglview/blob/master/docs/FAQ.md#widget-not-shown))"
   ]
  },
  {
   "cell_type": "code",
   "execution_count": 17,
   "id": "excellent-broad",
   "metadata": {
    "scrolled": true
   },
   "outputs": [],
   "source": [
    "# Uncomment the following lines to show the 3D structure\n",
    "# view = nglview.show_pdbid(\"2KNJ\")  # load \"2KNJ\" from RCSB PDB and display viewer widget\n",
    "# view"
   ]
  },
  {
   "cell_type": "markdown",
   "id": "verified-jason",
   "metadata": {},
   "source": [
    "In the next cell we are going to upload this amino acid sequence into the DESIGN module.\n",
    "\n",
    "If upload works ok, the endpoint will return something like:\n",
    "\n",
    "```\n",
    "{'createdAminoAcidSequences': [{'id': '17', 'name': '2KNJ2'}]}\n",
    "```\n",
    "\n",
    "However, the current example is already loaded in the default server so, in this case, the endpoint will return a non-empty `existingAminoAcidSequences` field, as occurs when some of the uploaded sequences matches a sequence from the the dataset. "
   ]
  },
  {
   "cell_type": "code",
   "execution_count": 18,
   "id": "invisible-commerce",
   "metadata": {},
   "outputs": [
    {
     "data": {
      "text/plain": [
       "{'createdAminoAcidSequences': [{'id': '266ad981-3b0e-4d49-8fcf-823b860173ff',\n",
       "   'name': '2KNJ2'}]}"
      ]
     },
     "execution_count": 18,
     "metadata": {},
     "output_type": "execute_result"
    }
   ],
   "source": [
    "result = client.design.import_aa_sequences([{\n",
    "    'AA_NAME': \"2KNJ2\",\n",
    "    'AA_SEQUENCE': 'HHQELCTKGDDALVTELECIRLRISPETNAAFDNAVQQLNCLNRACAYRKMCATNNLEQAMSVYFTNEQIKEIHDAATACDPEAHHEHDH'\n",
    "}])\n",
    "result"
   ]
  },
  {
   "cell_type": "code",
   "execution_count": 19,
   "id": "bafd06c3",
   "metadata": {},
   "outputs": [
    {
     "data": {
      "text/plain": [
       "{'createdAminoAcidSequences': [{'id': '266ad981-3b0e-4d49-8fcf-823b860173ff',\n",
       "   'name': '2KNJ2'}]}"
      ]
     },
     "execution_count": 19,
     "metadata": {},
     "output_type": "execute_result"
    }
   ],
   "source": [
    "result"
   ]
  },
  {
   "cell_type": "markdown",
   "id": "mental-placement",
   "metadata": {},
   "source": [
    "Now we'll download the sequence. Amino acid sequence `id` is needed for this:"
   ]
  },
  {
   "cell_type": "code",
   "execution_count": 20,
   "id": "pretty-console",
   "metadata": {},
   "outputs": [],
   "source": [
    "# The following list contains a list with the uploaded sequence id\n",
    "if \"existingAminoAcidSequences\" in result:\n",
    "    ids_list = [result['existingAminoAcidSequences'][0]['id']]\n",
    "elif \"createdAminoAcidSequences\" in result:\n",
    "    ids_list = [result['createdAminoAcidSequences'][0]['id']]\n",
    "else:\n",
    "    raise AssertionError(f\"Received malformed result: {result}\")\n",
    "result = client.design.export_aa_sequences(ids_list)"
   ]
  },
  {
   "cell_type": "markdown",
   "id": "disciplinary-sewing",
   "metadata": {},
   "source": [
    "## Finally, the downloaded object can be seen below"
   ]
  },
  {
   "cell_type": "code",
   "execution_count": 21,
   "id": "strong-person",
   "metadata": {},
   "outputs": [
    {
     "data": {
      "text/html": [
       "\n",
       "            <div id=\"cbcc8683-1634-4ef7-a9b6-216c050f1b6e\" style=\"height: max-content; width:100%;background-color: #f2f3ff\";></div>\n",
       "            "
      ]
     },
     "metadata": {},
     "output_type": "display_data"
    },
    {
     "data": {
      "application/javascript": "\n            require([\"https://rawgit.com/caldwell/renderjson/master/renderjson.js\"], function() {\n            document.getElementById('cbcc8683-1634-4ef7-a9b6-216c050f1b6e').appendChild(renderjson([{\"id\": \"266ad981-3b0e-4d49-8fcf-823b860173ff\", \"name\": \"2KNJ2\", \"isoPoint\": null, \"uniprotId\": null, \"size\": 270, \"molecularWeight\": 10208.4559, \"extinctionCoefficient\": 2980, \"proteinSequence\": \"HHQELCTKGDDALVTELECIRLRISPETNAAFDNAVQQLNCLNRACAYRKMCATNNLEQAMSVYFTNEQIKEIHDAATACDPEAHHEHDH\", \"regionAnnotations\": [], \"tags\": [], \"createdAt\": \"2024-10-11T21:20:09.134Z\", \"updatedAt\": \"2024-10-11T21:20:09.134Z\"}]))\n            });\n            "
     },
     "metadata": {},
     "output_type": "display_data"
    }
   ],
   "source": [
    "RenderJSON(result)"
   ]
  },
  {
   "cell_type": "code",
   "execution_count": null,
   "id": "continuing-cause",
   "metadata": {},
   "outputs": [],
   "source": []
  }
 ],
 "metadata": {
  "kernelspec": {
   "display_name": "teselagen-mXBWz8ru-py3.11",
   "language": "python",
   "name": "python3"
  },
  "language_info": {
   "codemirror_mode": {
    "name": "ipython",
    "version": 3
   },
   "file_extension": ".py",
   "mimetype": "text/x-python",
   "name": "python",
   "nbconvert_exporter": "python",
   "pygments_lexer": "ipython3",
   "version": "3.11.6"
  }
 },
 "nbformat": 4,
 "nbformat_minor": 5
}
