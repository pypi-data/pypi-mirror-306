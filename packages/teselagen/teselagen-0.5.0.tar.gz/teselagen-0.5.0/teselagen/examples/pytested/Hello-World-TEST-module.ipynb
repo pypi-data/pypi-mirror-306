{
 "cells": [
  {
   "cell_type": "markdown",
   "metadata": {},
   "source": [
    "<div align=left style=\"width: 200; height: 80px; overflow: hidden\">\n",
    "    <img src=http://static1.squarespace.com/static/571446ff60b5e92c3a2b4249/57d8a40b9de4bb459f731cf3/58cb2f229de4bb4a049d38c2/1505340359463/teselaGenlogo.jpg align=right width=200>\n",
    "</div>"
   ]
  },
  {
   "cell_type": "markdown",
   "metadata": {},
   "source": [
    "# Hello World! (TEST module)"
   ]
  },
  {
   "cell_type": "markdown",
   "metadata": {},
   "source": [
    "This notebook is intended to show how to use the Teselagen Python's client to access the TEST module. "
   ]
  },
  {
   "cell_type": "code",
   "execution_count": 2,
   "metadata": {},
   "outputs": [
    {
     "name": "stdout",
     "output_type": "stream",
     "text": [
      "python version     : 3.11.6\n",
      "json version       : 2.0.9\n",
      "pandas version     : 2.2.3\n",
      "matplotlib version : 3.9.2\n"
     ]
    }
   ],
   "source": [
    "import json\n",
    "from pathlib import Path\n",
    "import platform\n",
    "\n",
    "import matplotlib\n",
    "import matplotlib.pyplot as plt\n",
    "import pandas as pd\n",
    "\n",
    "from teselagen.api import TeselaGenClient\n",
    "from teselagen.utils.utils import get_project_root\n",
    "\n",
    "plt.style.use('seaborn-v0_8-colorblind')\n",
    "\n",
    "print(f\"python version     : {platform.python_version()}\")\n",
    "print(f\"json version       : {json.__version__}\")\n",
    "print(f\"pandas version     : {pd.__version__}\")\n",
    "print(f\"matplotlib version : {matplotlib.__version__}\")"
   ]
  },
  {
   "cell_type": "markdown",
   "metadata": {},
   "source": [
    "## Connect and Login"
   ]
  },
  {
   "cell_type": "code",
   "execution_count": 3,
   "metadata": {},
   "outputs": [
    {
     "name": "stdout",
     "output_type": "stream",
     "text": [
      "Client ready. Please login\n",
      "Connection Accepted at http://host.docker.internal:3000\n"
     ]
    }
   ],
   "source": [
    "# Connect to your teselagen instance by passing it as the 'host_url' argument of TESTCLient(host_url=host_url)\n",
    "#host_url = \"https://your.teselagen.instance.com\"\n",
    "#client = TESTClient(host_url = host_url)\n",
    "client = TeselaGenClient()\n",
    "# The following command will prompt you to type username (email) and password\n",
    "client.login()\n",
    "# Alternatively you can add credential information in the arguments\n",
    "#client.login(username=\"your@email\", password=\"ZZZ\")"
   ]
  },
  {
   "cell_type": "markdown",
   "metadata": {},
   "source": [
    "## Laboratories\n",
    "\n",
    "Laboratories are used to separate data access into groups of users. When you add an experiment into a lab it will only be seen by users that have access to that Lab. "
   ]
  },
  {
   "cell_type": "markdown",
   "metadata": {},
   "source": [
    "Now we list all available laboratories"
   ]
  },
  {
   "cell_type": "code",
   "execution_count": 4,
   "metadata": {},
   "outputs": [
    {
     "data": {
      "text/plain": [
       "[{'id': '89984f4b-d57e-491b-a184-ef5ecce80bb8', 'name': 'The Test Lab'}]"
      ]
     },
     "metadata": {},
     "output_type": "display_data"
    }
   ],
   "source": [
    "labs = client.get_laboratories()\n",
    "display(labs)"
   ]
  },
  {
   "cell_type": "markdown",
   "metadata": {},
   "source": [
    "At the next cell a lab is selected. The remaining actions of this notebook will be done inside that lab."
   ]
  },
  {
   "cell_type": "code",
   "execution_count": 5,
   "metadata": {},
   "outputs": [
    {
     "name": "stdout",
     "output_type": "stream",
     "text": [
      "Selected Lab: The Test Lab\n"
     ]
    }
   ],
   "source": [
    "# Select a Laboratory\n",
    "client.select_laboratory(lab_name=\"The Test Lab\")"
   ]
  },
  {
   "cell_type": "markdown",
   "metadata": {},
   "source": [
    "## Assays\n",
    "\n",
    "The assay object allows you to group data obtained from the same *protocol*.\n",
    "\n",
    "Likewise other getters, the get_assays output can be easily parsed into a pandas dataframe. Here we show you how:"
   ]
  },
  {
   "cell_type": "code",
   "execution_count": 7,
   "metadata": {},
   "outputs": [
    {
     "data": {
      "text/html": [
       "<div>\n",
       "<style scoped>\n",
       "    .dataframe tbody tr th:only-of-type {\n",
       "        vertical-align: middle;\n",
       "    }\n",
       "\n",
       "    .dataframe tbody tr th {\n",
       "        vertical-align: top;\n",
       "    }\n",
       "\n",
       "    .dataframe thead th {\n",
       "        text-align: right;\n",
       "    }\n",
       "</style>\n",
       "<table border=\"1\" class=\"dataframe\">\n",
       "  <thead>\n",
       "    <tr style=\"text-align: right;\">\n",
       "      <th></th>\n",
       "      <th>id</th>\n",
       "      <th>name</th>\n",
       "      <th>__typename</th>\n",
       "    </tr>\n",
       "  </thead>\n",
       "  <tbody>\n",
       "    <tr>\n",
       "      <th>0</th>\n",
       "      <td>e396a9e9-4b56-4a96-87cc-53ce5fc64e1e</td>\n",
       "      <td>Example Assay</td>\n",
       "      <td>assay</td>\n",
       "    </tr>\n",
       "    <tr>\n",
       "      <th>1</th>\n",
       "      <td>213d8180-fa1b-43d0-ae10-df035e98e341</td>\n",
       "      <td>Python Test Client Assay</td>\n",
       "      <td>assay</td>\n",
       "    </tr>\n",
       "    <tr>\n",
       "      <th>2</th>\n",
       "      <td>65844ae5-d241-4bc5-9c48-acee6ac652e5</td>\n",
       "      <td>Python Test Client Assay</td>\n",
       "      <td>assay</td>\n",
       "    </tr>\n",
       "    <tr>\n",
       "      <th>3</th>\n",
       "      <td>6d7234b9-04a3-47c4-b3d7-545b4b6dd956</td>\n",
       "      <td>Python Test Client Assay</td>\n",
       "      <td>assay</td>\n",
       "    </tr>\n",
       "    <tr>\n",
       "      <th>4</th>\n",
       "      <td>2f74b3b2-4b4d-4291-a783-8fdca0c260f2</td>\n",
       "      <td>Python Test Client Assay</td>\n",
       "      <td>assay</td>\n",
       "    </tr>\n",
       "    <tr>\n",
       "      <th>5</th>\n",
       "      <td>173f88a2-7e84-45ff-a7bf-fbb19c2cb2bc</td>\n",
       "      <td>Python Test Client Assay</td>\n",
       "      <td>assay</td>\n",
       "    </tr>\n",
       "    <tr>\n",
       "      <th>6</th>\n",
       "      <td>17fd2928-f182-4bcc-aeac-537001e09f6e</td>\n",
       "      <td>Python Test Client Assay</td>\n",
       "      <td>assay</td>\n",
       "    </tr>\n",
       "    <tr>\n",
       "      <th>7</th>\n",
       "      <td>fe0d8951-6969-4cf2-b8ef-146463a4a8b7</td>\n",
       "      <td>Python Test Client Assay</td>\n",
       "      <td>assay</td>\n",
       "    </tr>\n",
       "    <tr>\n",
       "      <th>8</th>\n",
       "      <td>6ba245e1-3cfe-40d5-8faa-7e833724832c</td>\n",
       "      <td>Python Test Client Assay</td>\n",
       "      <td>assay</td>\n",
       "    </tr>\n",
       "    <tr>\n",
       "      <th>9</th>\n",
       "      <td>08947bc5-7841-41dc-a1bd-2bd63ed05eeb</td>\n",
       "      <td>Python Test Client Assay</td>\n",
       "      <td>assay</td>\n",
       "    </tr>\n",
       "    <tr>\n",
       "      <th>10</th>\n",
       "      <td>77680452-df5e-4439-b664-dd3e8ed0f9e6</td>\n",
       "      <td>Python Test Client Assay</td>\n",
       "      <td>assay</td>\n",
       "    </tr>\n",
       "    <tr>\n",
       "      <th>11</th>\n",
       "      <td>88e01d9b-619e-472a-8df7-d3171800693a</td>\n",
       "      <td>Python Test Client Assay</td>\n",
       "      <td>assay</td>\n",
       "    </tr>\n",
       "    <tr>\n",
       "      <th>12</th>\n",
       "      <td>fe1dca2a-bd50-4909-8594-48d31b6f4719</td>\n",
       "      <td>Python Test Client Assay</td>\n",
       "      <td>assay</td>\n",
       "    </tr>\n",
       "    <tr>\n",
       "      <th>13</th>\n",
       "      <td>eb7a6701-802a-4dcb-862c-f480a83d2f9a</td>\n",
       "      <td>Python Test Client Assay</td>\n",
       "      <td>assay</td>\n",
       "    </tr>\n",
       "    <tr>\n",
       "      <th>14</th>\n",
       "      <td>77ce63f4-6737-4751-857f-b926756eff50</td>\n",
       "      <td>Python Test Client Assay</td>\n",
       "      <td>assay</td>\n",
       "    </tr>\n",
       "    <tr>\n",
       "      <th>15</th>\n",
       "      <td>054b624d-dec8-4249-ba0c-9b45b475ba02</td>\n",
       "      <td>Python Test Client Assay</td>\n",
       "      <td>assay</td>\n",
       "    </tr>\n",
       "  </tbody>\n",
       "</table>\n",
       "</div>"
      ],
      "text/plain": [
       "                                      id                      name __typename\n",
       "0   e396a9e9-4b56-4a96-87cc-53ce5fc64e1e             Example Assay      assay\n",
       "1   213d8180-fa1b-43d0-ae10-df035e98e341  Python Test Client Assay      assay\n",
       "2   65844ae5-d241-4bc5-9c48-acee6ac652e5  Python Test Client Assay      assay\n",
       "3   6d7234b9-04a3-47c4-b3d7-545b4b6dd956  Python Test Client Assay      assay\n",
       "4   2f74b3b2-4b4d-4291-a783-8fdca0c260f2  Python Test Client Assay      assay\n",
       "5   173f88a2-7e84-45ff-a7bf-fbb19c2cb2bc  Python Test Client Assay      assay\n",
       "6   17fd2928-f182-4bcc-aeac-537001e09f6e  Python Test Client Assay      assay\n",
       "7   fe0d8951-6969-4cf2-b8ef-146463a4a8b7  Python Test Client Assay      assay\n",
       "8   6ba245e1-3cfe-40d5-8faa-7e833724832c  Python Test Client Assay      assay\n",
       "9   08947bc5-7841-41dc-a1bd-2bd63ed05eeb  Python Test Client Assay      assay\n",
       "10  77680452-df5e-4439-b664-dd3e8ed0f9e6  Python Test Client Assay      assay\n",
       "11  88e01d9b-619e-472a-8df7-d3171800693a  Python Test Client Assay      assay\n",
       "12  fe1dca2a-bd50-4909-8594-48d31b6f4719  Python Test Client Assay      assay\n",
       "13  eb7a6701-802a-4dcb-862c-f480a83d2f9a  Python Test Client Assay      assay\n",
       "14  77ce63f4-6737-4751-857f-b926756eff50  Python Test Client Assay      assay\n",
       "15  054b624d-dec8-4249-ba0c-9b45b475ba02  Python Test Client Assay      assay"
      ]
     },
     "metadata": {},
     "output_type": "display_data"
    }
   ],
   "source": [
    "# Get All Assays From all experiments in the selected Laboratory\n",
    "assays_dataframe = pd.DataFrame(client.test.get_assays())\n",
    "# Or, alternatively, if you want to use id as index in the dataframe\n",
    "#assays_dataframe = pd.DataFrame.from_records(client.get_assays(), index='id')\n",
    "display(assays_dataframe)"
   ]
  },
  {
   "cell_type": "markdown",
   "metadata": {},
   "source": [
    "You can also create assays using the client"
   ]
  },
  {
   "cell_type": "code",
   "execution_count": 9,
   "metadata": {},
   "outputs": [
    {
     "name": "stdout",
     "output_type": "stream",
     "text": [
      "{'id': '72a979f4-234c-427d-ab21-6e0310af18df'}\n"
     ]
    }
   ],
   "source": [
    "# Create a new Assay within a new experiment\n",
    "new_assay = client.test.create_assay(assay_name='Jupyter Assay')\n",
    "print(new_assay)"
   ]
  },
  {
   "cell_type": "markdown",
   "metadata": {},
   "source": [
    "And you can list all assays from an experiment"
   ]
  },
  {
   "cell_type": "code",
   "execution_count": 10,
   "metadata": {},
   "outputs": [
    {
     "data": {
      "text/html": [
       "<div>\n",
       "<style scoped>\n",
       "    .dataframe tbody tr th:only-of-type {\n",
       "        vertical-align: middle;\n",
       "    }\n",
       "\n",
       "    .dataframe tbody tr th {\n",
       "        vertical-align: top;\n",
       "    }\n",
       "\n",
       "    .dataframe thead th {\n",
       "        text-align: right;\n",
       "    }\n",
       "</style>\n",
       "<table border=\"1\" class=\"dataframe\">\n",
       "  <thead>\n",
       "    <tr style=\"text-align: right;\">\n",
       "      <th></th>\n",
       "      <th>id</th>\n",
       "      <th>name</th>\n",
       "      <th>__typename</th>\n",
       "    </tr>\n",
       "  </thead>\n",
       "  <tbody>\n",
       "    <tr>\n",
       "      <th>0</th>\n",
       "      <td>e396a9e9-4b56-4a96-87cc-53ce5fc64e1e</td>\n",
       "      <td>Example Assay</td>\n",
       "      <td>assay</td>\n",
       "    </tr>\n",
       "    <tr>\n",
       "      <th>1</th>\n",
       "      <td>213d8180-fa1b-43d0-ae10-df035e98e341</td>\n",
       "      <td>Python Test Client Assay</td>\n",
       "      <td>assay</td>\n",
       "    </tr>\n",
       "    <tr>\n",
       "      <th>2</th>\n",
       "      <td>65844ae5-d241-4bc5-9c48-acee6ac652e5</td>\n",
       "      <td>Python Test Client Assay</td>\n",
       "      <td>assay</td>\n",
       "    </tr>\n",
       "    <tr>\n",
       "      <th>3</th>\n",
       "      <td>6d7234b9-04a3-47c4-b3d7-545b4b6dd956</td>\n",
       "      <td>Python Test Client Assay</td>\n",
       "      <td>assay</td>\n",
       "    </tr>\n",
       "    <tr>\n",
       "      <th>4</th>\n",
       "      <td>2f74b3b2-4b4d-4291-a783-8fdca0c260f2</td>\n",
       "      <td>Python Test Client Assay</td>\n",
       "      <td>assay</td>\n",
       "    </tr>\n",
       "    <tr>\n",
       "      <th>5</th>\n",
       "      <td>173f88a2-7e84-45ff-a7bf-fbb19c2cb2bc</td>\n",
       "      <td>Python Test Client Assay</td>\n",
       "      <td>assay</td>\n",
       "    </tr>\n",
       "    <tr>\n",
       "      <th>6</th>\n",
       "      <td>17fd2928-f182-4bcc-aeac-537001e09f6e</td>\n",
       "      <td>Python Test Client Assay</td>\n",
       "      <td>assay</td>\n",
       "    </tr>\n",
       "    <tr>\n",
       "      <th>7</th>\n",
       "      <td>fe0d8951-6969-4cf2-b8ef-146463a4a8b7</td>\n",
       "      <td>Python Test Client Assay</td>\n",
       "      <td>assay</td>\n",
       "    </tr>\n",
       "    <tr>\n",
       "      <th>8</th>\n",
       "      <td>6ba245e1-3cfe-40d5-8faa-7e833724832c</td>\n",
       "      <td>Python Test Client Assay</td>\n",
       "      <td>assay</td>\n",
       "    </tr>\n",
       "    <tr>\n",
       "      <th>9</th>\n",
       "      <td>08947bc5-7841-41dc-a1bd-2bd63ed05eeb</td>\n",
       "      <td>Python Test Client Assay</td>\n",
       "      <td>assay</td>\n",
       "    </tr>\n",
       "    <tr>\n",
       "      <th>10</th>\n",
       "      <td>77680452-df5e-4439-b664-dd3e8ed0f9e6</td>\n",
       "      <td>Python Test Client Assay</td>\n",
       "      <td>assay</td>\n",
       "    </tr>\n",
       "    <tr>\n",
       "      <th>11</th>\n",
       "      <td>88e01d9b-619e-472a-8df7-d3171800693a</td>\n",
       "      <td>Python Test Client Assay</td>\n",
       "      <td>assay</td>\n",
       "    </tr>\n",
       "    <tr>\n",
       "      <th>12</th>\n",
       "      <td>fe1dca2a-bd50-4909-8594-48d31b6f4719</td>\n",
       "      <td>Python Test Client Assay</td>\n",
       "      <td>assay</td>\n",
       "    </tr>\n",
       "    <tr>\n",
       "      <th>13</th>\n",
       "      <td>eb7a6701-802a-4dcb-862c-f480a83d2f9a</td>\n",
       "      <td>Python Test Client Assay</td>\n",
       "      <td>assay</td>\n",
       "    </tr>\n",
       "    <tr>\n",
       "      <th>14</th>\n",
       "      <td>77ce63f4-6737-4751-857f-b926756eff50</td>\n",
       "      <td>Python Test Client Assay</td>\n",
       "      <td>assay</td>\n",
       "    </tr>\n",
       "    <tr>\n",
       "      <th>15</th>\n",
       "      <td>054b624d-dec8-4249-ba0c-9b45b475ba02</td>\n",
       "      <td>Python Test Client Assay</td>\n",
       "      <td>assay</td>\n",
       "    </tr>\n",
       "    <tr>\n",
       "      <th>16</th>\n",
       "      <td>72a979f4-234c-427d-ab21-6e0310af18df</td>\n",
       "      <td>Jupyter Assay</td>\n",
       "      <td>assay</td>\n",
       "    </tr>\n",
       "  </tbody>\n",
       "</table>\n",
       "</div>"
      ],
      "text/plain": [
       "                                      id                      name __typename\n",
       "0   e396a9e9-4b56-4a96-87cc-53ce5fc64e1e             Example Assay      assay\n",
       "1   213d8180-fa1b-43d0-ae10-df035e98e341  Python Test Client Assay      assay\n",
       "2   65844ae5-d241-4bc5-9c48-acee6ac652e5  Python Test Client Assay      assay\n",
       "3   6d7234b9-04a3-47c4-b3d7-545b4b6dd956  Python Test Client Assay      assay\n",
       "4   2f74b3b2-4b4d-4291-a783-8fdca0c260f2  Python Test Client Assay      assay\n",
       "5   173f88a2-7e84-45ff-a7bf-fbb19c2cb2bc  Python Test Client Assay      assay\n",
       "6   17fd2928-f182-4bcc-aeac-537001e09f6e  Python Test Client Assay      assay\n",
       "7   fe0d8951-6969-4cf2-b8ef-146463a4a8b7  Python Test Client Assay      assay\n",
       "8   6ba245e1-3cfe-40d5-8faa-7e833724832c  Python Test Client Assay      assay\n",
       "9   08947bc5-7841-41dc-a1bd-2bd63ed05eeb  Python Test Client Assay      assay\n",
       "10  77680452-df5e-4439-b664-dd3e8ed0f9e6  Python Test Client Assay      assay\n",
       "11  88e01d9b-619e-472a-8df7-d3171800693a  Python Test Client Assay      assay\n",
       "12  fe1dca2a-bd50-4909-8594-48d31b6f4719  Python Test Client Assay      assay\n",
       "13  eb7a6701-802a-4dcb-862c-f480a83d2f9a  Python Test Client Assay      assay\n",
       "14  77ce63f4-6737-4751-857f-b926756eff50  Python Test Client Assay      assay\n",
       "15  054b624d-dec8-4249-ba0c-9b45b475ba02  Python Test Client Assay      assay\n",
       "16  72a979f4-234c-427d-ab21-6e0310af18df             Jupyter Assay      assay"
      ]
     },
     "metadata": {},
     "output_type": "display_data"
    }
   ],
   "source": [
    "# Get All Assays From Experiment with ID=\"experiment_id\"\n",
    "assays = pd.DataFrame(client.test.get_assays())\n",
    "display(assays)"
   ]
  },
  {
   "cell_type": "markdown",
   "metadata": {},
   "source": [
    "## Files\n",
    "\n",
    "The TEST module can also store files. Files are shared between users of the same lab and can be associated to specific assays."
   ]
  },
  {
   "cell_type": "code",
   "execution_count": 11,
   "metadata": {},
   "outputs": [
    {
     "data": {
      "text/html": [
       "<div>\n",
       "<style scoped>\n",
       "    .dataframe tbody tr th:only-of-type {\n",
       "        vertical-align: middle;\n",
       "    }\n",
       "\n",
       "    .dataframe tbody tr th {\n",
       "        vertical-align: top;\n",
       "    }\n",
       "\n",
       "    .dataframe thead th {\n",
       "        text-align: right;\n",
       "    }\n",
       "</style>\n",
       "<table border=\"1\" class=\"dataframe\">\n",
       "  <thead>\n",
       "    <tr style=\"text-align: right;\">\n",
       "      <th></th>\n",
       "      <th>id</th>\n",
       "      <th>name</th>\n",
       "      <th>importStatus</th>\n",
       "      <th>assay</th>\n",
       "    </tr>\n",
       "  </thead>\n",
       "  <tbody>\n",
       "    <tr>\n",
       "      <th>0</th>\n",
       "      <td>f58b6635-7dce-45d9-a457-583d432f318c</td>\n",
       "      <td>ExampleData.csv</td>\n",
       "      <td>FINISHED</td>\n",
       "      <td>{'id': 'e396a9e9-4b56-4a96-87cc-53ce5fc64e1e',...</td>\n",
       "    </tr>\n",
       "    <tr>\n",
       "      <th>1</th>\n",
       "      <td>223272af-4978-41b7-8ead-59bb628e9281</td>\n",
       "      <td>example_file.csv</td>\n",
       "      <td>INPROGRESS</td>\n",
       "      <td>None</td>\n",
       "    </tr>\n",
       "    <tr>\n",
       "      <th>2</th>\n",
       "      <td>7054b379-ef40-45db-8618-dfeb998279be</td>\n",
       "      <td>example_file.csv</td>\n",
       "      <td>INPROGRESS</td>\n",
       "      <td>None</td>\n",
       "    </tr>\n",
       "    <tr>\n",
       "      <th>3</th>\n",
       "      <td>f62726c0-6292-4d98-88df-d47608d18980</td>\n",
       "      <td>example_file.csv</td>\n",
       "      <td>INPROGRESS</td>\n",
       "      <td>None</td>\n",
       "    </tr>\n",
       "    <tr>\n",
       "      <th>4</th>\n",
       "      <td>b953e69e-0092-4e81-9c64-6e896e4e065c</td>\n",
       "      <td>example_file.csv</td>\n",
       "      <td>INPROGRESS</td>\n",
       "      <td>None</td>\n",
       "    </tr>\n",
       "  </tbody>\n",
       "</table>\n",
       "</div>"
      ],
      "text/plain": [
       "                                     id              name importStatus  \\\n",
       "0  f58b6635-7dce-45d9-a457-583d432f318c   ExampleData.csv     FINISHED   \n",
       "1  223272af-4978-41b7-8ead-59bb628e9281  example_file.csv   INPROGRESS   \n",
       "2  7054b379-ef40-45db-8618-dfeb998279be  example_file.csv   INPROGRESS   \n",
       "3  f62726c0-6292-4d98-88df-d47608d18980  example_file.csv   INPROGRESS   \n",
       "4  b953e69e-0092-4e81-9c64-6e896e4e065c  example_file.csv   INPROGRESS   \n",
       "\n",
       "                                               assay  \n",
       "0  {'id': 'e396a9e9-4b56-4a96-87cc-53ce5fc64e1e',...  \n",
       "1                                               None  \n",
       "2                                               None  \n",
       "3                                               None  \n",
       "4                                               None  "
      ]
     },
     "execution_count": 11,
     "metadata": {},
     "output_type": "execute_result"
    }
   ],
   "source": [
    "# Get All Files info from the selected Laboratory\n",
    "pd.DataFrame(client.test.get_files_info()).head()\n",
    "# You can fetch info from a specific assay using the assay_id argument\n",
    "# display(pd.DataFrame(client.get_files(assay_id=new_assay['id'])))"
   ]
  },
  {
   "cell_type": "code",
   "execution_count": 12,
   "metadata": {},
   "outputs": [
    {
     "name": "stdout",
     "output_type": "stream",
     "text": [
      "{'id': 'e020ae0d-d91e-4449-83ba-151153b33915', 'name': 'example_file.csv', 'importStatus': 'INPROGRESS', 'assay': {'id': '72a979f4-234c-427d-ab21-6e0310af18df', 'name': 'Jupyter Assay'}}\n"
     ]
    }
   ],
   "source": [
    "# Upload a File with an Assay.\n",
    "filepath = str(get_project_root() / \"teselagen/api/tests/example_file.csv\")\n",
    "new_file_info = client.test.upload_file(filepath=filepath, assay_id=new_assay['id'])\n",
    "# Upload a File without an Assay.\n",
    "#new_file_info = client.upload_file(filepath=\"./test_module_example.csv\")\n",
    "print(new_file_info)"
   ]
  },
  {
   "cell_type": "code",
   "execution_count": 13,
   "metadata": {},
   "outputs": [
    {
     "data": {
      "text/html": [
       "<div>\n",
       "<style scoped>\n",
       "    .dataframe tbody tr th:only-of-type {\n",
       "        vertical-align: middle;\n",
       "    }\n",
       "\n",
       "    .dataframe tbody tr th {\n",
       "        vertical-align: top;\n",
       "    }\n",
       "\n",
       "    .dataframe thead th {\n",
       "        text-align: right;\n",
       "    }\n",
       "</style>\n",
       "<table border=\"1\" class=\"dataframe\">\n",
       "  <thead>\n",
       "    <tr style=\"text-align: right;\">\n",
       "      <th></th>\n",
       "      <th>Line</th>\n",
       "      <th>Teselagen Example Descriptor 1</th>\n",
       "      <th>Teselagen Example Descriptor 2</th>\n",
       "      <th>Teselagen Example Target</th>\n",
       "      <th>Teselagen Example Target Metric</th>\n",
       "    </tr>\n",
       "  </thead>\n",
       "  <tbody>\n",
       "    <tr>\n",
       "      <th>0</th>\n",
       "      <td>1</td>\n",
       "      <td>A0</td>\n",
       "      <td>B1</td>\n",
       "      <td>1</td>\n",
       "      <td>ug/mL</td>\n",
       "    </tr>\n",
       "    <tr>\n",
       "      <th>1</th>\n",
       "      <td>2</td>\n",
       "      <td>A0</td>\n",
       "      <td>B2</td>\n",
       "      <td>2</td>\n",
       "      <td>ug/mL</td>\n",
       "    </tr>\n",
       "    <tr>\n",
       "      <th>2</th>\n",
       "      <td>3</td>\n",
       "      <td>A0</td>\n",
       "      <td>B3</td>\n",
       "      <td>3</td>\n",
       "      <td>ug/mL</td>\n",
       "    </tr>\n",
       "    <tr>\n",
       "      <th>3</th>\n",
       "      <td>4</td>\n",
       "      <td>A0</td>\n",
       "      <td>B5</td>\n",
       "      <td>5</td>\n",
       "      <td>ug/mL</td>\n",
       "    </tr>\n",
       "    <tr>\n",
       "      <th>4</th>\n",
       "      <td>5</td>\n",
       "      <td>A0</td>\n",
       "      <td>B6</td>\n",
       "      <td>6</td>\n",
       "      <td>ug/mL</td>\n",
       "    </tr>\n",
       "  </tbody>\n",
       "</table>\n",
       "</div>"
      ],
      "text/plain": [
       "   Line Teselagen Example Descriptor 1 Teselagen Example Descriptor 2  \\\n",
       "0     1                             A0                             B1   \n",
       "1     2                             A0                             B2   \n",
       "2     3                             A0                             B3   \n",
       "3     4                             A0                             B5   \n",
       "4     5                             A0                             B6   \n",
       "\n",
       "   Teselagen Example Target Teselagen Example Target Metric  \n",
       "0                         1                           ug/mL  \n",
       "1                         2                           ug/mL  \n",
       "2                         3                           ug/mL  \n",
       "3                         5                           ug/mL  \n",
       "4                         6                           ug/mL  "
      ]
     },
     "execution_count": 13,
     "metadata": {},
     "output_type": "execute_result"
    }
   ],
   "source": [
    "# Gets File data contens\n",
    "binarydata = client.test.download_file(file_id=new_file_info['id'])\n",
    "df_file = pd.read_csv(binarydata, sep=\",\")\n",
    "df_file.head()"
   ]
  },
  {
   "cell_type": "markdown",
   "metadata": {},
   "source": [
    "## Delete elements\n",
    "\n",
    "You can delete an experiment to remove all its assays. Files work differently and you need to explicitly delete them. In the next cells we will download each object specifically:"
   ]
  },
  {
   "cell_type": "code",
   "execution_count": 14,
   "metadata": {},
   "outputs": [
    {
     "data": {
      "text/plain": [
       "{'id': 'e020ae0d-d91e-4449-83ba-151153b33915'}"
      ]
     },
     "execution_count": 14,
     "metadata": {},
     "output_type": "execute_result"
    }
   ],
   "source": [
    "# Deletes a File\n",
    "client.test.delete_file(file_id=new_file_info['id'])"
   ]
  },
  {
   "cell_type": "code",
   "execution_count": 15,
   "metadata": {},
   "outputs": [
    {
     "data": {
      "text/plain": [
       "{'id': '72a979f4-234c-427d-ab21-6e0310af18df'}"
      ]
     },
     "execution_count": 15,
     "metadata": {},
     "output_type": "execute_result"
    }
   ],
   "source": [
    "# Delete an Assay\n",
    "client.test.delete_assay(assay_id=new_assay['id'])"
   ]
  }
 ],
 "metadata": {
  "kernelspec": {
   "display_name": "teselagen-mXBWz8ru-py3.11",
   "language": "python",
   "name": "python3"
  },
  "language_info": {
   "codemirror_mode": {
    "name": "ipython",
    "version": 3
   },
   "file_extension": ".py",
   "mimetype": "text/x-python",
   "name": "python",
   "nbconvert_exporter": "python",
   "pygments_lexer": "ipython3",
   "version": "3.11.6"
  }
 },
 "nbformat": 4,
 "nbformat_minor": 4
}
