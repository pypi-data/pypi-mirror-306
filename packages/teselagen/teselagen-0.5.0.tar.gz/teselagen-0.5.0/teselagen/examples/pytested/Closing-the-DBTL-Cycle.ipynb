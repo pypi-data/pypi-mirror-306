{
 "cells": [
  {
   "cell_type": "markdown",
   "metadata": {},
   "source": [
    "<div align=left style=\"width: 200; height: 80px; overflow: hidden\">\n",
    "    <img src=http://static1.squarespace.com/static/571446ff60b5e92c3a2b4249/57d8a40b9de4bb459f731cf3/58cb2f229de4bb4a049d38c2/1505340359463/teselaGenlogo.jpg align=right width=200>\n",
    "</div>"
   ]
  },
  {
   "cell_type": "markdown",
   "metadata": {},
   "source": [
    "# Closing the DBTL loop with TeselaGen\n",
    "\n",
    "With TeselaGen's platform you can close the Design-Build-Test-Learn (DBTL) cycle  using machine learning algorithms that automatically learn from your data. The DISCOVER  module is capable of suggesting new candidates that can optimize your results given your previous experimental rounds. This document shows how to enable those candidates as new designs at the DESIGN module to perform the next DBTL cycle.\n",
    "\n",
    "**Inputs**: Evolutions algorithm's result at an DISCOVER module instance\n",
    "\n",
    "**Outputs**: New designs created at DESIGN module\n",
    "\n",
    "#### Requirements: \n",
    "\n",
    "* Access permissions to the lab where the evolutions results are stored\n",
    "* Have Python3 installed in your local computer with Pandas and TG's *api-client*"
   ]
  },
  {
   "cell_type": "markdown",
   "metadata": {},
   "source": [
    "First, we start making all required imports"
   ]
  },
  {
   "cell_type": "code",
   "execution_count": 1,
   "metadata": {},
   "outputs": [
    {
     "name": "stdout",
     "output_type": "stream",
     "text": [
      "python version     : 3.11.6\n",
      "pandas version     : 2.2.3\n"
     ]
    }
   ],
   "source": [
    "import platform\n",
    "\n",
    "from IPython.display import display\n",
    "from IPython.core.display import HTML\n",
    "import pandas as pd\n",
    "\n",
    "from teselagen.api import TeselaGenClient\n",
    "from teselagen.utils.candidates_to_design import build_design_from_candidates\n",
    "\n",
    "print(f\"python version     : {platform.python_version()}\")\n",
    "print(f\"pandas version     : {pd.__version__}\")"
   ]
  },
  {
   "cell_type": "markdown",
   "metadata": {},
   "source": [
    "## Look for your Evolution results\n",
    "\n",
    "Here, the concept of *closing the DBTL loop* refers to the ability to generate designs out of what was learned from previous experiments. Those designs can be used to conduct new experimental rounds. This notebook assumes you've already trained an *Evolution* model.\n",
    "\n",
    "The results of an *Evolution* model contain a set of ranked candidates that may outperform your current measurements. Each of the proposed candidates is a combination of the parts (and possibly other variables) you have already tested within the designs in your experiments. These new combinations were evaluated and ranked by a machine learning algorithm and we will generate proper designs with them. \n",
    "\n",
    "This guide starts at the output of the Evolutions tool at DISCOVER. The next cell connects the notebook with DISCOVER and selects the empty lab (`Common`) which holds our sample experiment:"
   ]
  },
  {
   "cell_type": "code",
   "execution_count": 2,
   "metadata": {},
   "outputs": [
    {
     "name": "stdout",
     "output_type": "stream",
     "text": [
      "Client ready. Please login\n",
      "Connection Accepted at http://host.docker.internal:3000\n",
      "Selected Lab: The Test Lab\n"
     ]
    }
   ],
   "source": [
    "# Connect to your teselagen instance by passing it as the 'host_url' argument of EVOLVECLient(host_url=host_url)\n",
    "# client = EVOLVEClient(host_url=\"https://your-instance-name.teselagen.com\")\n",
    "client = TeselaGenClient()\n",
    "client.login()\n",
    "client.select_laboratory(lab_name=\"The Test Lab\")"
   ]
  },
  {
   "cell_type": "markdown",
   "metadata": {},
   "source": [
    "Next, we find the `evolutive` model with name `Teselagen Example Evolutive Model`:"
   ]
  },
  {
   "cell_type": "code",
   "execution_count": 4,
   "metadata": {},
   "outputs": [
    {
     "name": "stdout",
     "output_type": "stream",
     "text": [
      "Model id 1c045df0-5c98-4a34-be5c-858c6338dda0, name: TeselaGen Example Evolutive Model\n"
     ]
    }
   ],
   "source": [
    "search_for_name = \"TeselaGen Example Evolutive Model\"\n",
    "evolution_models_info = client.discover.get_models_by_type('evolutive')\n",
    "model_id = -1\n",
    "\n",
    "for info in evolution_models_info:\n",
    "    if info['name'] == search_for_name:\n",
    "        model_id = info['id']\n",
    "        print(f\"Model id {info['id']}, name: {info['name']}\")\n",
    "\n",
    "if model_id == -1:\n",
    "    raise OSError(\"Didn't found model\")"
   ]
  },
  {
   "cell_type": "markdown",
   "metadata": {},
   "source": [
    "And get the models' results. The results objects contain predictions for several untested combinations. We will focus on the rows with valid priority values, which are the better candidates suggested by the algorithm:"
   ]
  },
  {
   "cell_type": "code",
   "execution_count": 5,
   "metadata": {},
   "outputs": [
    {
     "data": {
      "text/html": [
       "<div>\n",
       "<style scoped>\n",
       "    .dataframe tbody tr th:only-of-type {\n",
       "        vertical-align: middle;\n",
       "    }\n",
       "\n",
       "    .dataframe tbody tr th {\n",
       "        vertical-align: top;\n",
       "    }\n",
       "\n",
       "    .dataframe thead th {\n",
       "        text-align: right;\n",
       "    }\n",
       "</style>\n",
       "<table border=\"1\" class=\"dataframe\">\n",
       "  <thead>\n",
       "    <tr style=\"text-align: right;\">\n",
       "      <th></th>\n",
       "      <th>Enzyme A</th>\n",
       "      <th>Enzyme B</th>\n",
       "      <th>Production[concentration]</th>\n",
       "      <th>prediction</th>\n",
       "      <th>sigma</th>\n",
       "      <th>acq</th>\n",
       "      <th>in_batch</th>\n",
       "      <th>priority</th>\n",
       "    </tr>\n",
       "  </thead>\n",
       "  <tbody>\n",
       "    <tr>\n",
       "      <th>0</th>\n",
       "      <td>Variant A0</td>\n",
       "      <td>Variant B5</td>\n",
       "      <td>NaN</td>\n",
       "      <td>5.857349</td>\n",
       "      <td>3.551383</td>\n",
       "      <td>2.257864e-01</td>\n",
       "      <td>True</td>\n",
       "      <td>0.0</td>\n",
       "    </tr>\n",
       "    <tr>\n",
       "      <th>1</th>\n",
       "      <td>Variant A1</td>\n",
       "      <td>Variant B5</td>\n",
       "      <td>NaN</td>\n",
       "      <td>6.110863</td>\n",
       "      <td>3.082977</td>\n",
       "      <td>1.629062e-01</td>\n",
       "      <td>True</td>\n",
       "      <td>1.0</td>\n",
       "    </tr>\n",
       "    <tr>\n",
       "      <th>2</th>\n",
       "      <td>Variant A5</td>\n",
       "      <td>Variant B0</td>\n",
       "      <td>NaN</td>\n",
       "      <td>6.376794</td>\n",
       "      <td>2.555047</td>\n",
       "      <td>9.812427e-02</td>\n",
       "      <td>True</td>\n",
       "      <td>2.0</td>\n",
       "    </tr>\n",
       "    <tr>\n",
       "      <th>3</th>\n",
       "      <td>Variant A0</td>\n",
       "      <td>Variant B4</td>\n",
       "      <td>NaN</td>\n",
       "      <td>3.959335</td>\n",
       "      <td>2.732824</td>\n",
       "      <td>1.438397e-02</td>\n",
       "      <td>True</td>\n",
       "      <td>3.0</td>\n",
       "    </tr>\n",
       "    <tr>\n",
       "      <th>4</th>\n",
       "      <td>Variant A4</td>\n",
       "      <td>Variant B3</td>\n",
       "      <td>NaN</td>\n",
       "      <td>5.813882</td>\n",
       "      <td>1.128252</td>\n",
       "      <td>4.040040e-05</td>\n",
       "      <td>True</td>\n",
       "      <td>4.0</td>\n",
       "    </tr>\n",
       "    <tr>\n",
       "      <th>5</th>\n",
       "      <td>Variant A0</td>\n",
       "      <td>Variant B3</td>\n",
       "      <td>NaN</td>\n",
       "      <td>2.699689</td>\n",
       "      <td>1.992503</td>\n",
       "      <td>7.369750e-05</td>\n",
       "      <td>True</td>\n",
       "      <td>5.0</td>\n",
       "    </tr>\n",
       "    <tr>\n",
       "      <th>6</th>\n",
       "      <td>Variant A2</td>\n",
       "      <td>Variant B1</td>\n",
       "      <td>NaN</td>\n",
       "      <td>4.126216</td>\n",
       "      <td>1.259064</td>\n",
       "      <td>5.724000e-07</td>\n",
       "      <td>True</td>\n",
       "      <td>6.0</td>\n",
       "    </tr>\n",
       "    <tr>\n",
       "      <th>7</th>\n",
       "      <td>Variant A2</td>\n",
       "      <td>Variant B0</td>\n",
       "      <td>NaN</td>\n",
       "      <td>3.407090</td>\n",
       "      <td>1.268080</td>\n",
       "      <td>3.530000e-08</td>\n",
       "      <td>True</td>\n",
       "      <td>7.0</td>\n",
       "    </tr>\n",
       "    <tr>\n",
       "      <th>8</th>\n",
       "      <td>Variant A0</td>\n",
       "      <td>Variant B0</td>\n",
       "      <td>NaN</td>\n",
       "      <td>1.986438</td>\n",
       "      <td>1.226591</td>\n",
       "      <td>0.000000e+00</td>\n",
       "      <td>True</td>\n",
       "      <td>8.0</td>\n",
       "    </tr>\n",
       "  </tbody>\n",
       "</table>\n",
       "</div>"
      ],
      "text/plain": [
       "     Enzyme A    Enzyme B  Production[concentration]  prediction     sigma  \\\n",
       "0  Variant A0  Variant B5                        NaN    5.857349  3.551383   \n",
       "1  Variant A1  Variant B5                        NaN    6.110863  3.082977   \n",
       "2  Variant A5  Variant B0                        NaN    6.376794  2.555047   \n",
       "3  Variant A0  Variant B4                        NaN    3.959335  2.732824   \n",
       "4  Variant A4  Variant B3                        NaN    5.813882  1.128252   \n",
       "5  Variant A0  Variant B3                        NaN    2.699689  1.992503   \n",
       "6  Variant A2  Variant B1                        NaN    4.126216  1.259064   \n",
       "7  Variant A2  Variant B0                        NaN    3.407090  1.268080   \n",
       "8  Variant A0  Variant B0                        NaN    1.986438  1.226591   \n",
       "\n",
       "            acq in_batch  priority  \n",
       "0  2.257864e-01     True       0.0  \n",
       "1  1.629062e-01     True       1.0  \n",
       "2  9.812427e-02     True       2.0  \n",
       "3  1.438397e-02     True       3.0  \n",
       "4  4.040040e-05     True       4.0  \n",
       "5  7.369750e-05     True       5.0  \n",
       "6  5.724000e-07     True       6.0  \n",
       "7  3.530000e-08     True       7.0  \n",
       "8  0.000000e+00     True       8.0  "
      ]
     },
     "metadata": {},
     "output_type": "display_data"
    }
   ],
   "source": [
    "results = client.discover.get_model_datapoints(\n",
    "    model_id=model_id,\n",
    "    datapoint_type=\"output\",\n",
    "    batch_size=400,\n",
    "    batch_number=1,\n",
    ")\n",
    "\n",
    "data = pd.DataFrame([el for el in results['data']])\n",
    "data = data.dropna(subset=['priority']).reset_index(drop=True)\n",
    "display(data)"
   ]
  },
  {
   "cell_type": "markdown",
   "metadata": {},
   "source": [
    "Note the algorithm doesn't suggest candidates you've already tested. That's why the `Production` column, the *unknown* variable for untested combinations in this example, contains only `NaN` values."
   ]
  },
  {
   "cell_type": "markdown",
   "metadata": {},
   "source": [
    "## Build the designs json\n",
    "\n",
    "Now we need to generate a json file with the candidates in order to be imported from DESIGN. We've added an utility for this at the api-client library that is called `build_design_from_candidates`. This utility receives a list of dictionaries as input and it requires to explicitly declare the columns that should be interpreted as bins. Following with the example:"
   ]
  },
  {
   "cell_type": "code",
   "execution_count": 7,
   "metadata": {},
   "outputs": [
    {
     "name": "stdout",
     "output_type": "stream",
     "text": [
      "Generating design using 9 candidates\n"
     ]
    }
   ],
   "source": [
    "design = build_design_from_candidates(\n",
    "    candidates_data=data.to_dict(orient=\"records\"),\n",
    "    bin_cols=['Enzyme A', 'Enzyme B'],\n",
    "    name=\"Closing DBTL Example\",\n",
    "    priority_col='priority',\n",
    ")"
   ]
  },
  {
   "cell_type": "markdown",
   "metadata": {},
   "source": [
    "The `design` variable contains a dictionary representation of the design. This representation can be easily stored as a json file and then uploaded into DESIGN. To do this, we need to create a `DESIGNClient` instance:"
   ]
  },
  {
   "cell_type": "markdown",
   "metadata": {},
   "source": [
    "And upload the design. The method `post_design` returns the id of the generated DESIGN in case of success:"
   ]
  },
  {
   "cell_type": "code",
   "execution_count": 8,
   "metadata": {},
   "outputs": [
    {
     "data": {
      "text/plain": [
       "{'id': '0c31702a-299e-4c72-9c72-ee2b1ac615f7'}"
      ]
     },
     "metadata": {},
     "output_type": "display_data"
    }
   ],
   "source": [
    "response = client.design.post_design(design=design)\n",
    "display(response)"
   ]
  },
  {
   "cell_type": "markdown",
   "metadata": {},
   "source": [
    "The new design should be created and look like this:"
   ]
  },
  {
   "cell_type": "markdown",
   "metadata": {},
   "source": [
    "<div align=left style=\"\">\n",
    "    <img src=https://downloads.intercomcdn.com/i/o/236560355/5b4d66d19c53bc8b31dc202e/image.png>\n",
    "</div>\n"
   ]
  },
  {
   "cell_type": "markdown",
   "metadata": {},
   "source": [
    "Uncomment and run the following cell to get the design link:"
   ]
  },
  {
   "cell_type": "code",
   "execution_count": 9,
   "metadata": {},
   "outputs": [],
   "source": [
    "# design_url = f\"{design_client.host_url}/design/client/designs/{response['id']}\"\n",
    "# display(HTML(f\"\"\"<a href=\"{design_url}\">{design_url}</a>\"\"\"))"
   ]
  }
 ],
 "metadata": {
  "kernelspec": {
   "display_name": "teselagen-mXBWz8ru-py3.11",
   "language": "python",
   "name": "python3"
  },
  "language_info": {
   "codemirror_mode": {
    "name": "ipython",
    "version": 3
   },
   "file_extension": ".py",
   "mimetype": "text/x-python",
   "name": "python",
   "nbconvert_exporter": "python",
   "pygments_lexer": "ipython3",
   "version": "3.11.6"
  }
 },
 "nbformat": 4,
 "nbformat_minor": 4
}
