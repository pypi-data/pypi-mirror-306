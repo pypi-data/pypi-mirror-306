{
 "cells": [
  {
   "cell_type": "markdown",
   "metadata": {},
   "source": [
    "<div align=left style=\"width: 200; height: 80px; overflow: hidden\">\n",
    "    <img src=http://static1.squarespace.com/static/571446ff60b5e92c3a2b4249/57d8a40b9de4bb459f731cf3/58cb2f229de4bb4a049d38c2/1505340359463/teselaGenlogo.jpg align=right width=200>\n",
    "</div>"
   ]
  },
  {
   "cell_type": "markdown",
   "metadata": {
    "id": "-fhZC4RysMGi"
   },
   "source": [
    "# Preparing the Notebook Environment\n",
    "This just involves installing TeselaGen Python Client package."
   ]
  },
  {
   "cell_type": "code",
   "execution_count": 1,
   "metadata": {
    "id": "0KDkFSPIuGs6",
    "scrolled": true
   },
   "outputs": [],
   "source": [
    "# This installs the 'teselagen' client python package.\n",
    "#!pip3 install teselagen==0.3.2"
   ]
  },
  {
   "cell_type": "markdown",
   "metadata": {
    "id": "GiXiVUEkob0L"
   },
   "source": [
    "# Multiomics Notebook\n",
    "This notebooks shows how to use TeselaGen's Python TEST Client in order to connect to TeselaGen TEST Module through its REST API.\n",
    "\n",
    "The data used throughout this Notebook is publicly available at [ABF Multiomics Paper Github Repo](https://github.com/AgileBioFoundry/multiomicspaper)"
   ]
  },
  {
   "cell_type": "code",
   "execution_count": 2,
   "metadata": {
    "id": "Wo9Qfiezob0M"
   },
   "outputs": [
    {
     "name": "stdout",
     "output_type": "stream",
     "text": [
      "python version     : 3.9.6\n",
      "pandas version     : 1.3.1\n",
      "teselagen version     : 0.3.3\n"
     ]
    }
   ],
   "source": [
    "import io\n",
    "import platform\n",
    "from pprint import pprint\n",
    "\n",
    "import pandas as pd\n",
    "import requests\n",
    "\n",
    "import teselagen\n",
    "from teselagen.api import TeselaGenClient\n",
    "\n",
    "print(f\"python version     : {platform.python_version()}\")\n",
    "print(f\"pandas version     : {pd.__version__}\")\n",
    "print(f\"teselagen version     : {teselagen.__version__}\")"
   ]
  },
  {
   "cell_type": "markdown",
   "metadata": {
    "id": "0w2QAgAVob0M"
   },
   "source": [
    "## Connect and Login to TEST"
   ]
  },
  {
   "cell_type": "code",
   "execution_count": 3,
   "metadata": {
    "id": "HN5HlEh2ob0M"
   },
   "outputs": [
    {
     "name": "stdout",
     "output_type": "stream",
     "text": [
      "Connection Accepted\n"
     ]
    }
   ],
   "source": [
    "# Connect to your teselagen instance by passing it as the 'host_url' argument of TeselaGenClient(host_url=host_url)\n",
    "client = TeselaGenClient(host_url=\"https://platform.teselagen.com\")\n",
    "# The following command will prompt you to type username (email) and password\n",
    "client.login()"
   ]
  },
  {
   "cell_type": "markdown",
   "metadata": {
    "id": "ThlgsriPob0M"
   },
   "source": [
    "## Select Laboratory/Project\n",
    "Select a Laboratory within which we'll be working. **Creating** a new Laboratory is done through the UI and requires an **admin** account."
   ]
  },
  {
   "cell_type": "code",
   "execution_count": 4,
   "metadata": {
    "id": "6_z__qqoob0M"
   },
   "outputs": [
    {
     "data": {
      "text/plain": [
       "[{'id': '70', 'name': 'Example Lab'},\n",
       " {'id': '55', 'name': 'Data Science Team'},\n",
       " {'id': '72', 'name': 'The Test Lab'}]"
      ]
     },
     "metadata": {},
     "output_type": "display_data"
    },
    {
     "name": "stdout",
     "output_type": "stream",
     "text": [
      "Selected Lab: The Test Lab\n"
     ]
    }
   ],
   "source": [
    "# Fetch My Laboratories\n",
    "labs = client.get_laboratories()\n",
    "display(labs)\n",
    "lab_id = labs[0]['id']\n",
    "# Select a Laboratory\n",
    "client.select_laboratory(lab_name=\"The Test Lab\")\n",
    "# client.unselect_laboratory()"
   ]
  },
  {
   "cell_type": "markdown",
   "metadata": {
    "id": "w6Q9rjPnob0M"
   },
   "source": [
    "# Prepare Laboratory Environment\n",
    "### Before importing data, we first prepare our new Laboratory environment.\n",
    "1) Create an experiment, this will be the scope of our files and assay measurements.\n",
    "\n",
    "2) Create TEST metadata according to the multiomics files. These are used to map the different data file headers.\n",
    "   The metadata records we are going to create are of type/class:\n",
    "   \n",
    "      a. Descriptor Type\n",
    "      b. Measurement Target\n",
    "      c. Assay Subject Class  \n",
    "      d. Reference Dimension\n",
    "      e. Unit"
   ]
  },
  {
   "cell_type": "markdown",
   "metadata": {
    "id": "7GDJXja5ob0M"
   },
   "source": [
    "## 1. Create Experiment (study)\n",
    "Experiments are part of TEST organziational hierarchy. These belong to Laboratories and can be used to store many **Assays** measurements for different **Assay Subjects**.\n",
    "For the multiomics data, we are going to create an Experiment where we're going to store all of the Multiomics files, and data corresponding to the Wild Type and other Strain Subjects."
   ]
  },
  {
   "cell_type": "code",
   "execution_count": 5,
   "metadata": {
    "id": "MuFgcjF-ob0M"
   },
   "outputs": [
    {
     "name": "stdout",
     "output_type": "stream",
     "text": [
      "{'id': '375', 'name': 'Multiomics data for WT Strain'}\n"
     ]
    }
   ],
   "source": [
    "# This will create a new Experiment. The output will give as the Experiment ID that we'll be using later.\n",
    "experiment_name = \"Multiomics data for WT Strain\"\n",
    "experiment = client.test.create_experiment(experiment_name=experiment_name)\n",
    "print(experiment)\n",
    "wt_experiment_id = experiment['id']"
   ]
  },
  {
   "cell_type": "code",
   "execution_count": 6,
   "metadata": {
    "id": "DDBhLVcNob0M"
   },
   "outputs": [
    {
     "name": "stdout",
     "output_type": "stream",
     "text": [
      "{'id': '376', 'name': 'Multiomics BE strains data'}\n"
     ]
    }
   ],
   "source": [
    "# This will create a new Experiment. The output will give as the Experiment ID that we'll be using later.\n",
    "experiment_name = \"Multiomics BE strains data\"\n",
    "experiment = client.test.create_experiment(experiment_name=experiment_name)\n",
    "print(experiment)\n",
    "be_experiment_id = experiment['id']"
   ]
  },
  {
   "cell_type": "markdown",
   "metadata": {
    "id": "KVyLnK0Uob0M"
   },
   "source": [
    "## 2. Creating Metadata\n",
    "Here we are going to create all the necessary metadata records needed according to the Multiomics Files Headers.\n",
    "In TEST, metadata records are strictly related to the mapping of tabular data. There are different **classes** or **types** of metadata (refer to [Metadata Documentation](https://docs.teselagen.com/en/articles/4508837-test-data-mapping)).\n",
    "\n",
    "One way of understanding TEST metadata records is that these are used to **map** (i.e., give meaning) to columns in tabular data, much like tabular headers do but in a more structured manner.\n",
    "\n",
    "The following Notebook cells show how to create these metadata records. For each record created, an ID will be returned. These IDs will be particularly important when creating the different **mappers** (array of structured headers) used to import the tabular data in the multiomics files."
   ]
  },
  {
   "cell_type": "markdown",
   "metadata": {
    "id": "fFbvIq7Xob0M"
   },
   "source": [
    "### a. Descriptor Types\n",
    "Descriptor types are one of TEST metadata **classes/types**, specifically used to identify data columns corresponding to assay subject descriptors, features or characteristics.\n",
    "\n",
    "For the Multiomics paper, the \"experiment description files\" describes each Strain with a set of characteristics, and these would correspond to TEST **descriptor types**."
   ]
  },
  {
   "cell_type": "code",
   "execution_count": 7,
   "metadata": {
    "id": "iehUWksYob0M"
   },
   "outputs": [
    {
     "data": {
      "text/html": [
       "<div>\n",
       "<style scoped>\n",
       "    .dataframe tbody tr th:only-of-type {\n",
       "        vertical-align: middle;\n",
       "    }\n",
       "\n",
       "    .dataframe tbody tr th {\n",
       "        vertical-align: top;\n",
       "    }\n",
       "\n",
       "    .dataframe thead th {\n",
       "        text-align: right;\n",
       "    }\n",
       "</style>\n",
       "<table border=\"1\" class=\"dataframe\">\n",
       "  <thead>\n",
       "    <tr style=\"text-align: right;\">\n",
       "      <th></th>\n",
       "      <th>Line Name</th>\n",
       "      <th>Line Description</th>\n",
       "      <th>Part ID</th>\n",
       "      <th>Media</th>\n",
       "      <th>Shaking Speed</th>\n",
       "      <th>Starting OD</th>\n",
       "      <th>Culture Volume</th>\n",
       "      <th>Flask Volume</th>\n",
       "      <th>Growth Temperature</th>\n",
       "      <th>Replicate Count</th>\n",
       "    </tr>\n",
       "  </thead>\n",
       "  <tbody>\n",
       "    <tr>\n",
       "      <th>0</th>\n",
       "      <td>WT</td>\n",
       "      <td>Wild type E. coli</td>\n",
       "      <td>ABFPUB_000310</td>\n",
       "      <td>M9</td>\n",
       "      <td>1</td>\n",
       "      <td>0.1</td>\n",
       "      <td>50</td>\n",
       "      <td>200</td>\n",
       "      <td>30</td>\n",
       "      <td>1</td>\n",
       "    </tr>\n",
       "  </tbody>\n",
       "</table>\n",
       "</div>"
      ],
      "text/plain": [
       "  Line Name    Line Description         Part ID  Media   Shaking Speed  \\\n",
       "0        WT   Wild type E. coli   ABFPUB_000310     M9               1   \n",
       "\n",
       "    Starting OD   Culture Volume   Flask Volume   Growth Temperature  \\\n",
       "0           0.1               50            200                   30   \n",
       "\n",
       "    Replicate Count  \n",
       "0                 1  "
      ]
     },
     "execution_count": 7,
     "metadata": {},
     "output_type": "execute_result"
    }
   ],
   "source": [
    "experiment_description_fileurl = \"https://raw.githubusercontent.com/AgileBioFoundry/multiomicspaper/master/data/omg_output/edd/EDD_experiment_description_file_WT.csv\"\n",
    "experiment_description_df = pd.read_csv(experiment_description_fileurl)\n",
    "experiment_description_df.head()"
   ]
  },
  {
   "cell_type": "code",
   "execution_count": 8,
   "metadata": {
    "id": "BqiulWnTob0M"
   },
   "outputs": [],
   "source": [
    "# Here we are going to create the necessary Descriptor Types\n",
    "# that are going to be used to map the different Strains' characteristics described in\n",
    "# the experiment description files.\n",
    "\n",
    "# The first column name is omitted, since it's the 'Line Name' which is not a descriptor but the Strain itself.\n",
    "descriptorTypeNames = experiment_description_df.columns.values.tolist()[1:]\n",
    "\n",
    "# Here we construct the 'descriptorTypes' metadata records.\n",
    "# Also, we strip any leading or trailing spaces in the file header names.\n",
    "descriptorTypes = [{\"name\": descriptorTypeName.strip()} for descriptorTypeName in descriptorTypeNames]\n",
    "result = client.test.create_metadata(metadataType=\"descriptorType\", metadataRecord=descriptorTypes)"
   ]
  },
  {
   "cell_type": "code",
   "execution_count": 9,
   "metadata": {
    "id": "IK4DyuhZob0M"
   },
   "outputs": [
    {
     "data": {
      "text/plain": [
       "{'Line Description': '134',\n",
       " 'Part ID': '130',\n",
       " 'Media': '136',\n",
       " 'Shaking Speed': '137',\n",
       " 'Starting OD': '133',\n",
       " 'Culture Volume': '135',\n",
       " 'Flask Volume': '132',\n",
       " 'Growth Temperature': '131',\n",
       " 'Replicate Count': '129'}"
      ]
     },
     "metadata": {},
     "output_type": "display_data"
    }
   ],
   "source": [
    "# After creating the descriptor types, we are going to construct a mapper dictionary: 'descriptorTypeNamesToIds'\n",
    "# that we will use to know the metadata descriptorType record IDs from their names.\n",
    "descriptorTypeNamesToIds = {x['name']: x['id'] for x in result}\n",
    "display(descriptorTypeNamesToIds)"
   ]
  },
  {
   "cell_type": "markdown",
   "metadata": {
    "id": "QBUDumxNob0M"
   },
   "source": [
    "### b. Measurement Target\n",
    "Measurement targets are another of TEST metadata **classes/types**. These are used to identify different types of measurements in assay results.\n",
    "\n",
    "For the multiomics paper, we need to create the optical density measurement target metadata record before importing optical density data."
   ]
  },
  {
   "cell_type": "code",
   "execution_count": 10,
   "metadata": {
    "id": "cztvSFulob0M"
   },
   "outputs": [
    {
     "data": {
      "text/plain": [
       "{'Optical Density': '150'}"
      ]
     },
     "execution_count": 10,
     "metadata": {},
     "output_type": "execute_result"
    }
   ],
   "source": [
    "# To create an assay subject class, we simply construct a JSON with the 'name' key as below.\n",
    "measurementTarget = {\"name\": \"Optical Density\"}\n",
    "result = client.test.create_metadata(metadataType=\"measurementTarget\", metadataRecord=measurementTarget)\n",
    "\n",
    "# Again, we here construct this auxiliary mapper dictionary: 'measurementTargetNametoIds',\n",
    "# that we will use to know the metadata measurementTarget record ID from its name.\n",
    "measurementTargetNametoIds = {result[0]['name']: result[0]['id']}\n",
    "measurementTargetNametoIds"
   ]
  },
  {
   "cell_type": "markdown",
   "metadata": {
    "id": "N6nibqW0ob0M"
   },
   "source": [
    "### c. Assay Subject Class\n",
    "Assay Subject Classes is another TEST metadata **class/type**. In TEST each Assay Subject (or simply subject), is mapped to a subject class or category.\n",
    "\n",
    "In this particular case, the **Subjects** are the **Strains**, so we're going to classify them by the \"Strain\" **assaySubjectClass** that we'll create."
   ]
  },
  {
   "cell_type": "code",
   "execution_count": 11,
   "metadata": {
    "id": "jVDO9p_Uob0N"
   },
   "outputs": [
    {
     "data": {
      "text/plain": [
       "{'Strain': '40'}"
      ]
     },
     "metadata": {},
     "output_type": "display_data"
    }
   ],
   "source": [
    "# To create an assay subject class, we simply construct a JSON with the 'name' key as below.\n",
    "assaySubjectClass = {\"name\": \"Strain\"}\n",
    "result = client.test.create_metadata(metadataType=\"assaySubjectClass\", metadataRecord=assaySubjectClass)\n",
    "\n",
    "# Again, we here construct this auxiliary mapper dictionary: 'assaySubjectClassNameToId',\n",
    "# that we will use to know the metadata assaySubjectClass record ID from its name.\n",
    "assaySubjectClassNameToId = {result[0]['name']: result[0]['id']}\n",
    "display(assaySubjectClassNameToId)"
   ]
  },
  {
   "cell_type": "markdown",
   "metadata": {
    "id": "nnFafJmxob0N"
   },
   "source": [
    "### d. Reference Dimension\n",
    "Reference dimensions is again another TEST metadata **class/type**. In TEST, when importing assay subject measurements, these may be associated with what in TEST is known as a **Reference Dimension**. Simply put, a reference dimension is understood as a the independent variables of a measurement, in other words, it would represent the X-Axis dimension in a 2D Plot.\n",
    "\n",
    "In the multiomics paper, the only reference dimension that is used is **Time**.\n",
    "\n",
    "Usually, a reference dimension is measured in units of a particular **unit dimension**. Here time, is measured in **hours** (**unit dimension** are also a TEST metadata **class**)."
   ]
  },
  {
   "cell_type": "code",
   "execution_count": 12,
   "metadata": {
    "id": "9Drxsfe4ob0N"
   },
   "outputs": [
    {
     "name": "stdout",
     "output_type": "stream",
     "text": [
      "[{'id': '1', 'name': 'Elapsed Time'}, {'id': '2', 'name': 'Pressure'}]\n"
     ]
    },
    {
     "data": {
      "text/plain": [
       "{'Elapsed Time': '1'}"
      ]
     },
     "execution_count": 12,
     "metadata": {},
     "output_type": "execute_result"
    }
   ],
   "source": [
    "# Here we list all the currently available reference dimensions in TEST\n",
    "# And see there's already a reference dimension called 'Elapsed Time', which we'll use later on.\n",
    "pprint(client.test.get_metadata(metadataType=\"referenceDimension\"))\n",
    "# We are going to store this 'Elapsed Time' ID into a variable to use later.\n",
    "referenceDimensionNameToId = {'Elapsed Time': '1'}\n",
    "referenceDimensionNameToId"
   ]
  },
  {
   "cell_type": "markdown",
   "metadata": {
    "id": "mvqlyXHHob0N"
   },
   "source": [
    "### e. Units\n",
    "Units are yet another TEST metadata **class/type**. These are used to map **referenceDimensions** and **measurementTargets** values to a particular unit. Currently, this is mandatory for every such records.\n",
    "\n",
    "Within the Units scope, there are actually three TEST metadata classes/types: **unit dimension**, **unit scale** and **unit**.\n",
    "\n",
    "- **Unit Dimensions**: these correspond to metadata objects representing physical dimensions (e.g., Time, Volume, Concentration, etc.)\n",
    "\n",
    "- **Unit Scales**: these correspond to metadata objects used to group several units together into a **scale** or **group**. This is used to convert from one unit to another. However a 'dummy' scale can be constructed in case this functionality is not needed.\n",
    "- **Unit**: these correspond to metadata representing the unit itself (hours, minutes, g/L, ug/mL, etc.)\n",
    "\n",
    "Finally, to fully understand TEST unit metadata classes, we need to understand that each **unit** is part of a **unit scale**, and each **unit scale** has a **unit dimension**. **unit** --> **unit scale** --> **unit dimension**.\n",
    "\n",
    "In the multiomics paper, there are several units used for its different data measurements. Here, we are going to created them in order to proceed with the importing process. We are also going to create a dummy dimensionles **unit scale**, **unit dimesion** and **unit** for the Optical Density Measurement, which use no units (again, this may seem unnecessary but currently all measurement need to be associated a units)."
   ]
  },
  {
   "cell_type": "code",
   "execution_count": 13,
   "metadata": {
    "id": "FjUrAloNob0N"
   },
   "outputs": [
    {
     "name": "stdout",
     "output_type": "stream",
     "text": [
      "[{'id': '1', 'name': 'hrs'},\n",
      " {'id': '2', 'name': 'm'},\n",
      " {'id': '3', 'name': 'cm'},\n",
      " {'id': '4', 'name': 's'},\n",
      " {'id': '5', 'name': 'L'},\n",
      " {'id': '6', 'name': 'oz'},\n",
      " {'id': '7', 'name': 'ug/mL'},\n",
      " {'id': '8', 'name': 'g/L'},\n",
      " {'id': '34', 'name': 'g/L/OD600'},\n",
      " {'id': '35', 'name': 'a.u.'},\n",
      " {'id': '36', 'name': 'ug/L'},\n",
      " {'id': '37', 'name': 'mM'},\n",
      " {'id': '38', 'name': 'hours'},\n",
      " {'id': '39', 'name': 'FPKM'},\n",
      " {'id': '40', 'name': 'proteins/cell'},\n",
      " {'id': '41', 'name': 'n/a'},\n",
      " {'id': '42', 'name': 'pIC50'},\n",
      " {'id': '43', 'name': 'C'},\n",
      " {'id': '44', 'name': 'mL'},\n",
      " {'id': '45', 'name': 'rpm'},\n",
      " {'id': '46', 'name': 'dimensionless'},\n",
      " {'id': '47', 'name': 'lpm'}]\n"
     ]
    }
   ],
   "source": [
    "# Here we list all the currently available units in TEST\n",
    "pprint(client.test.get_metadata(metadataType=\"unit\"))"
   ]
  },
  {
   "cell_type": "code",
   "execution_count": 14,
   "metadata": {
    "id": "pB6oyW9Job0N"
   },
   "outputs": [
    {
     "name": "stdout",
     "output_type": "stream",
     "text": [
      "[{'id': '1', 'name': 'Elapsed Time Standard'},\n",
      " {'id': '2', 'name': 'Metric Volume'},\n",
      " {'id': '3', 'name': 'Imperial Volume'},\n",
      " {'id': '4', 'name': 'Metric Density'},\n",
      " {'id': '5', 'name': 'Metric Concentration'},\n",
      " {'id': '34', 'name': 'Metric Production Rate'},\n",
      " {'id': '36', 'name': 'Arbitrary scale'},\n",
      " {'id': '37', 'name': 'dimensionless'},\n",
      " {'id': '38', 'name': 'Concentration'},\n",
      " {'id': '39', 'name': 'Rotational Speed scale'},\n",
      " {'id': '40', 'name': 'Elapsed time scale'},\n",
      " {'id': '41', 'name': 'Dimensionless scale'},\n",
      " {'id': '42', 'name': 'Volumetric flow rate scale'},\n",
      " {'id': '43', 'name': 'Temperature scale'},\n",
      " {'id': '44', 'name': 'Volume scale'}]\n"
     ]
    }
   ],
   "source": [
    "# Here we list all the currently available unit scales in TEST\n",
    "unitScales = client.test.get_metadata(metadataType=\"unitScale\")\n",
    "pprint(unitScales)"
   ]
  },
  {
   "cell_type": "code",
   "execution_count": 15,
   "metadata": {
    "id": "ZFeOTPuWob0N"
   },
   "outputs": [
    {
     "name": "stdout",
     "output_type": "stream",
     "text": [
      "{'Arbitrary scale': '36',\n",
      " 'Concentration': '38',\n",
      " 'Dimensionless scale': '41',\n",
      " 'Elapsed Time Standard': '1',\n",
      " 'Elapsed time scale': '40',\n",
      " 'Imperial Volume': '3',\n",
      " 'Metric Concentration': '5',\n",
      " 'Metric Density': '4',\n",
      " 'Metric Production Rate': '34',\n",
      " 'Metric Volume': '2',\n",
      " 'Rotational Speed scale': '39',\n",
      " 'Temperature scale': '43',\n",
      " 'Volume scale': '44',\n",
      " 'Volumetric flow rate scale': '42',\n",
      " 'dimensionless': '37'}\n"
     ]
    }
   ],
   "source": [
    "# First we are going to create this 'dummy' dimensionless unitDimension metadata record.\n",
    "result = client.test.create_metadata(metadataType=\"unitDimension\", metadataRecord={\"name\": \"dimensionless\"})\n",
    "unitDimensionId = result[0]['id']\n",
    "\n",
    "# Then we are going to create this 'dummy' dimensionless unitScale metadata record.\n",
    "result = client.test.create_metadata(\n",
    "    metadataType=\"unitScale\",\n",
    "    metadataRecord={\n",
    "        \"name\": \"dimensionless\",\n",
    "        \"unitDimensionId\": unitDimensionId,\n",
    "    },\n",
    ")\n",
    "unitScales = client.test.get_metadata(metadataType=\"unitScale\")\n",
    "\n",
    "# Here we just construct an auxiliary mapper dictionary that that we will use\n",
    "# to know the metadata unitScale record ID from its name.\n",
    "unitScalesNameToId = {unitScale['name']: unitScale['id'] for unitScale in unitScales}\n",
    "pprint(unitScalesNameToId)"
   ]
  },
  {
   "cell_type": "code",
   "execution_count": 16,
   "metadata": {
    "id": "3AADjyHYob0N"
   },
   "outputs": [
    {
     "data": {
      "text/plain": [
       "[{'type': 'unit', 'id': '37', 'name': 'mM', 'status': 'updated'},\n",
       " {'type': 'unit', 'id': '39', 'name': 'FPKM', 'status': 'updated'},\n",
       " {'type': 'unit', 'id': '40', 'name': 'proteins/cell', 'status': 'updated'},\n",
       " {'type': 'unit', 'id': '41', 'name': 'n/a', 'status': 'updated'}]"
      ]
     },
     "execution_count": 16,
     "metadata": {},
     "output_type": "execute_result"
    }
   ],
   "source": [
    "# The next units are used by the metabolomics, transcriptomics and proteomics dataset.\n",
    "# And these three units are of type Concentration, so we'll add the to the 'Metric Concentration' unit scale.\n",
    "# The fourth and last unit called 'n/a', will be used to import the Optical Density data.\n",
    "client.test.create_metadata(\n",
    "    metadataType=\"unit\",\n",
    "    metadataRecord=[\n",
    "        {\n",
    "            \"name\": \"mM\",\n",
    "            \"unitScaleId\": unitScalesNameToId['Metric Concentration'],\n",
    "        },\n",
    "        {\n",
    "            \"name\": \"FPKM\",\n",
    "            \"unitScaleId\": unitScalesNameToId['Metric Concentration'],\n",
    "        },\n",
    "        {\n",
    "            \"name\": \"proteins/cell\",\n",
    "            \"unitScaleId\": unitScalesNameToId['Metric Concentration'],\n",
    "        },\n",
    "        # we create here the 'n/a' unit with dimensionless (or dummy) scale.\n",
    "        {\n",
    "            \"name\": \"n/a\",\n",
    "            \"unitScaleId\": unitScalesNameToId['dimensionless'],\n",
    "        },\n",
    "    ],\n",
    ")"
   ]
  },
  {
   "cell_type": "markdown",
   "metadata": {
    "id": "ec5E8NPEob0N"
   },
   "source": [
    "# TEST Data Import\n",
    "Now that the Laboratory has been prepared, we are ok to begin the data import process.\n",
    "\n",
    "1) Import the strains (i.e., subjects) experiment description data stored in the \"EDD_experiment_description_file_WT.csv\" \"EDD_experiment_description_file_BE_designs.csv\" and files.\n",
    "\n",
    "2) Import the WT strain (subject) Optical Density data stored in the \"EDD_OD_WT.csv\" file.\n",
    "\n",
    "3) Import the WT strain external metabolites data storesd in the \"EDD_external_metabolites_WT.csv\" file.\n",
    "\n",
    "4) Import the WT strain transcriptomics data stored in the \"EDD_transcriptomics_WTSM.csv\" file.\n",
    "\n",
    "5) Import the strain proteomics data store in the \"EDD_proteomics_WTSM.csv\" file.\n",
    "\n",
    "6) Import the strain metabolomics data store in the \"EDD_metabolomics_WTSM.csv\" file.\n",
    "\n",
    "7) Import the strain Isoprenol Production data store in the \"EDD_isoprenol_production.csv\" file."
   ]
  },
  {
   "cell_type": "markdown",
   "metadata": {
    "id": "6tX4pv1Fob0N"
   },
   "source": [
    "### 1. Import: Strain description (experiment description files)\n",
    "In order to import data from a tabular file into the TEST module, we need to create a **mapper** JSON.\n",
    "\n",
    "Here are going to use the **descriptorType** IDs obtained above to construct this **mapper**.\n",
    "\n",
    "In the multiomics papers, there are two experiment description files: one for the Wild Type and another one\n",
    "for the rest of the BE Strain designs.\n",
    "\n",
    "We are going to benefit from the fact that both files share a very similar structure and just construct one single \n",
    "**mapper** for both of them."
   ]
  },
  {
   "cell_type": "code",
   "execution_count": 17,
   "metadata": {
    "id": "CiEDPJqaob0N"
   },
   "outputs": [
    {
     "data": {
      "text/html": [
       "<div>\n",
       "<style scoped>\n",
       "    .dataframe tbody tr th:only-of-type {\n",
       "        vertical-align: middle;\n",
       "    }\n",
       "\n",
       "    .dataframe tbody tr th {\n",
       "        vertical-align: top;\n",
       "    }\n",
       "\n",
       "    .dataframe thead th {\n",
       "        text-align: right;\n",
       "    }\n",
       "</style>\n",
       "<table border=\"1\" class=\"dataframe\">\n",
       "  <thead>\n",
       "    <tr style=\"text-align: right;\">\n",
       "      <th></th>\n",
       "      <th>Line Name</th>\n",
       "      <th>Line Description</th>\n",
       "      <th>Part ID</th>\n",
       "      <th>Media</th>\n",
       "      <th>Shaking Speed</th>\n",
       "      <th>Starting OD</th>\n",
       "      <th>Culture Volume</th>\n",
       "      <th>Flask Volume</th>\n",
       "      <th>Growth Temperature</th>\n",
       "      <th>Replicate Count</th>\n",
       "    </tr>\n",
       "  </thead>\n",
       "  <tbody>\n",
       "    <tr>\n",
       "      <th>0</th>\n",
       "      <td>WT</td>\n",
       "      <td>Wild type E. coli</td>\n",
       "      <td>ABFPUB_000310</td>\n",
       "      <td>M9</td>\n",
       "      <td>1</td>\n",
       "      <td>0.1</td>\n",
       "      <td>50</td>\n",
       "      <td>200</td>\n",
       "      <td>30</td>\n",
       "      <td>1</td>\n",
       "    </tr>\n",
       "  </tbody>\n",
       "</table>\n",
       "</div>"
      ],
      "text/plain": [
       "  Line Name    Line Description         Part ID  Media   Shaking Speed  \\\n",
       "0        WT   Wild type E. coli   ABFPUB_000310     M9               1   \n",
       "\n",
       "    Starting OD   Culture Volume   Flask Volume   Growth Temperature  \\\n",
       "0           0.1               50            200                   30   \n",
       "\n",
       "    Replicate Count  \n",
       "0                 1  "
      ]
     },
     "execution_count": 17,
     "metadata": {},
     "output_type": "execute_result"
    }
   ],
   "source": [
    "# Here we read and transform the Experiment Description File for the Wild Type Strain.\n",
    "wt_experiment_description_fileurl = \"https://raw.githubusercontent.com/AgileBioFoundry/multiomicspaper/master/data/omg_output/edd/EDD_experiment_description_file_WT.csv\"\n",
    "wt_experiment_description_df = pd.read_csv(wt_experiment_description_fileurl)\n",
    "wt_experiment_description_filepath = \"./TEST_experiment_description_file_WT.csv\"\n",
    "wt_experiment_description_df.to_csv(wt_experiment_description_filepath, index=False)\n",
    "wt_experiment_description_df.head()"
   ]
  },
  {
   "cell_type": "code",
   "execution_count": 18,
   "metadata": {
    "id": "q_fHEgY3ob0N"
   },
   "outputs": [
    {
     "data": {
      "text/html": [
       "<div>\n",
       "<style scoped>\n",
       "    .dataframe tbody tr th:only-of-type {\n",
       "        vertical-align: middle;\n",
       "    }\n",
       "\n",
       "    .dataframe tbody tr th {\n",
       "        vertical-align: top;\n",
       "    }\n",
       "\n",
       "    .dataframe thead th {\n",
       "        text-align: right;\n",
       "    }\n",
       "</style>\n",
       "<table border=\"1\" class=\"dataframe\">\n",
       "  <thead>\n",
       "    <tr style=\"text-align: right;\">\n",
       "      <th></th>\n",
       "      <th>Line Name</th>\n",
       "      <th>Line Description</th>\n",
       "      <th>Part ID</th>\n",
       "      <th>Media</th>\n",
       "      <th>Shaking Speed</th>\n",
       "      <th>Starting OD</th>\n",
       "      <th>Culture Volume</th>\n",
       "      <th>Flask Volume</th>\n",
       "      <th>Growth Temperature</th>\n",
       "      <th>Replicate Count</th>\n",
       "    </tr>\n",
       "  </thead>\n",
       "  <tbody>\n",
       "    <tr>\n",
       "      <th>0</th>\n",
       "      <td>Strain 1</td>\n",
       "      <td>ACCOAC_1.0_MDH_1.0_PTAr_2.0_...</td>\n",
       "      <td>ABFPUB_000215</td>\n",
       "      <td>M9</td>\n",
       "      <td>1</td>\n",
       "      <td>0.1</td>\n",
       "      <td>50</td>\n",
       "      <td>200</td>\n",
       "      <td>30</td>\n",
       "      <td>1</td>\n",
       "    </tr>\n",
       "    <tr>\n",
       "      <th>1</th>\n",
       "      <td>Strain 2</td>\n",
       "      <td>ACCOAC_1.0_MDH_2.0_PTAr_2.0_...</td>\n",
       "      <td>ABFPUB_000216</td>\n",
       "      <td>M9</td>\n",
       "      <td>1</td>\n",
       "      <td>0.1</td>\n",
       "      <td>50</td>\n",
       "      <td>200</td>\n",
       "      <td>30</td>\n",
       "      <td>1</td>\n",
       "    </tr>\n",
       "    <tr>\n",
       "      <th>2</th>\n",
       "      <td>Strain 3</td>\n",
       "      <td>ACCOAC_1.0_MDH_0.0_PTAr_0.0_...</td>\n",
       "      <td>ABFPUB_000217</td>\n",
       "      <td>M9</td>\n",
       "      <td>1</td>\n",
       "      <td>0.1</td>\n",
       "      <td>50</td>\n",
       "      <td>200</td>\n",
       "      <td>30</td>\n",
       "      <td>1</td>\n",
       "    </tr>\n",
       "    <tr>\n",
       "      <th>3</th>\n",
       "      <td>Strain 4</td>\n",
       "      <td>ACCOAC_1.0_MDH_1.0_PTAr_1.0_...</td>\n",
       "      <td>ABFPUB_000218</td>\n",
       "      <td>M9</td>\n",
       "      <td>1</td>\n",
       "      <td>0.1</td>\n",
       "      <td>50</td>\n",
       "      <td>200</td>\n",
       "      <td>30</td>\n",
       "      <td>1</td>\n",
       "    </tr>\n",
       "    <tr>\n",
       "      <th>4</th>\n",
       "      <td>Strain 5</td>\n",
       "      <td>ACCOAC_2.0_MDH_0.0_PTAr_2.0_...</td>\n",
       "      <td>ABFPUB_000219</td>\n",
       "      <td>M9</td>\n",
       "      <td>1</td>\n",
       "      <td>0.1</td>\n",
       "      <td>50</td>\n",
       "      <td>200</td>\n",
       "      <td>30</td>\n",
       "      <td>1</td>\n",
       "    </tr>\n",
       "  </tbody>\n",
       "</table>\n",
       "</div>"
      ],
      "text/plain": [
       "                    Line Name  \\\n",
       "0                    Strain 1   \n",
       "1                    Strain 2   \n",
       "2                    Strain 3   \n",
       "3                    Strain 4   \n",
       "4                    Strain 5   \n",
       "\n",
       "                                    Line Description        Part ID  \\\n",
       "0                    ACCOAC_1.0_MDH_1.0_PTAr_2.0_...  ABFPUB_000215   \n",
       "1                    ACCOAC_1.0_MDH_2.0_PTAr_2.0_...  ABFPUB_000216   \n",
       "2                    ACCOAC_1.0_MDH_0.0_PTAr_0.0_...  ABFPUB_000217   \n",
       "3                    ACCOAC_1.0_MDH_1.0_PTAr_1.0_...  ABFPUB_000218   \n",
       "4                    ACCOAC_2.0_MDH_0.0_PTAr_2.0_...  ABFPUB_000219   \n",
       "\n",
       "                  Media   Shaking Speed   Starting OD   Culture Volume  \\\n",
       "0                    M9               1           0.1               50   \n",
       "1                    M9               1           0.1               50   \n",
       "2                    M9               1           0.1               50   \n",
       "3                    M9               1           0.1               50   \n",
       "4                    M9               1           0.1               50   \n",
       "\n",
       "    Flask Volume   Growth Temperature   Replicate Count  \n",
       "0            200                   30                 1  \n",
       "1            200                   30                 1  \n",
       "2            200                   30                 1  \n",
       "3            200                   30                 1  \n",
       "4            200                   30                 1  "
      ]
     },
     "execution_count": 18,
     "metadata": {},
     "output_type": "execute_result"
    }
   ],
   "source": [
    "# Here we read and transform the Experiment Description File for the BE Strains designs.\n",
    "be_experiment_description_fileurl = \"https://raw.githubusercontent.com/AgileBioFoundry/multiomicspaper/master/data/omg_output/edd/EDD_experiment_description_file_BE_designs.csv\"\n",
    "be_experiment_description_df = pd.read_csv(be_experiment_description_fileurl)\n",
    "# We reorder some columns so it matches the format of the Wild Type Experiment Description file.\n",
    "be_experiment_description_df.insert(0, \"Line Description\", be_experiment_description_df.pop(\" Line Description\"))\n",
    "be_experiment_description_df.insert(0, \"Line Name\", be_experiment_description_df.pop(\" Line Name\"))\n",
    "be_experiment_description_filepath = \"./TEST_experiment_description_file_BE_designs.csv\"\n",
    "be_experiment_description_df.to_csv(be_experiment_description_filepath, index=False)\n",
    "\n",
    "be_experiment_description_df.head()"
   ]
  },
  {
   "cell_type": "code",
   "execution_count": 19,
   "metadata": {
    "id": "CzEB6YSOob0N"
   },
   "outputs": [
    {
     "name": "stdout",
     "output_type": "stream",
     "text": [
      "[ {'class': 'assaySubjectClass', 'name': 'Line Name', 'subClassId': '40'},\n",
      "  {'class': 'descriptorType', 'name': 'Line Description', 'subClassId': '134'},\n",
      "  {'class': 'descriptorType', 'name': 'Part ID', 'subClassId': '130'},\n",
      "  {'class': 'descriptorType', 'name': 'Media', 'subClassId': '136'},\n",
      "  {'class': 'descriptorType', 'name': 'Shaking Speed', 'subClassId': '137'},\n",
      "  {'class': 'descriptorType', 'name': 'Starting OD', 'subClassId': '133'},\n",
      "  {'class': 'descriptorType', 'name': 'Culture Volume', 'subClassId': '135'},\n",
      "  {'class': 'descriptorType', 'name': 'Flask Volume', 'subClassId': '132'},\n",
      "  { 'class': 'descriptorType',\n",
      "    'name': 'Growth Temperature',\n",
      "    'subClassId': '131'},\n",
      "  {'class': 'descriptorType', 'name': 'Replicate Count', 'subClassId': '129'}]\n"
     ]
    }
   ],
   "source": [
    "# This will be our mapper JSON that we are going to construct in a way that we map the file columns accordingly.\n",
    "# The mapper JSON is an array of objects. These objects are \"structured\" header JSON objects.\n",
    "# These structured headers include the column's 'name', plus 2 other properties: \"class\" and \"subClass\" information.\n",
    "# The 'class' property indicates which is the column's metadata class/type, while the \"subClass\" or \"subClassId\"\n",
    "# indicates the metadata record ID of such \"class\".\n",
    "\n",
    "experiment_description_mapper = list()\n",
    "for column_name in experiment_description_df.columns.values.tolist():\n",
    "    if (column_name == \"Line Name\"):\n",
    "        structured_header = {\n",
    "            \"name\": column_name.strip(),\n",
    "            \"class\": \"assaySubjectClass\",\n",
    "            \"subClassId\": assaySubjectClassNameToId['Strain'],\n",
    "        }\n",
    "    else:\n",
    "        structured_header = {\n",
    "            \"name\": column_name.strip(),\n",
    "            \"class\": \"descriptorType\",\n",
    "            \"subClassId\": descriptorTypeNamesToIds[column_name.strip()],\n",
    "        }\n",
    "    experiment_description_mapper.append(structured_header)\n",
    "\n",
    "# We now have our mapper JSON that describes/maps each column in the file.\n",
    "\n",
    "pprint(experiment_description_mapper, indent=2)"
   ]
  },
  {
   "cell_type": "code",
   "execution_count": 20,
   "metadata": {
    "id": "0DpZ0GQmob0N"
   },
   "outputs": [
    {
     "data": {
      "text/plain": [
       "{'message': 'Assay Subject descriptor import process started.',\n",
       " 'importId': '408'}"
      ]
     },
     "execution_count": 20,
     "metadata": {},
     "output_type": "execute_result"
    }
   ],
   "source": [
    "# Now that we have the Mapper JSON constructed we can go ahead and import our data.\n",
    "response = client.test.import_assay_subject_descriptors(\n",
    "    filepath=wt_experiment_description_filepath,\n",
    "    mapper=experiment_description_mapper,\n",
    ")\n",
    "# The response will show the import status and id\n",
    "response"
   ]
  },
  {
   "cell_type": "code",
   "execution_count": 30,
   "metadata": {},
   "outputs": [
    {
     "data": {
      "text/plain": [
       "{'status': True,\n",
       " 'content': {'importId': '408',\n",
       "  'assayId': None,\n",
       "  'status': {'code': 'FINISHED', 'description': 'Importer job finished'},\n",
       "  'message': None}}"
      ]
     },
     "execution_count": 30,
     "metadata": {},
     "output_type": "execute_result"
    }
   ],
   "source": [
    "# Check status again\n",
    "result = client.test.get_assay_subjects_descriptor_import_status(408)  # importId=response['importId'])\n",
    "result"
   ]
  },
  {
   "cell_type": "code",
   "execution_count": 22,
   "metadata": {
    "id": "HEY4dFaFob0N"
   },
   "outputs": [
    {
     "name": "stdout",
     "output_type": "stream",
     "text": [
      "{'importId': '409',\n",
      " 'message': 'Assay Subject descriptor import process started.'}\n"
     ]
    }
   ],
   "source": [
    "# Now that we have the Mapper JSON constructed we can go ahead and import our data.\n",
    "response = client.test.import_assay_subject_descriptors(\n",
    "    filepath=be_experiment_description_filepath,\n",
    "    mapper=experiment_description_mapper,\n",
    ")\n",
    "# The response will show the import status and id\n",
    "pprint(response)"
   ]
  },
  {
   "cell_type": "code",
   "execution_count": 23,
   "metadata": {},
   "outputs": [
    {
     "data": {
      "text/plain": [
       "{'status': True,\n",
       " 'content': {'importId': '409',\n",
       "  'assayId': None,\n",
       "  'status': {'code': 'REFORMATTING',\n",
       "   'description': 'Applying reformat actions'},\n",
       "  'message': None}}"
      ]
     },
     "execution_count": 23,
     "metadata": {},
     "output_type": "execute_result"
    }
   ],
   "source": [
    "result = client.test.get_assay_subjects_descriptor_import_status(importId=response['importId'])\n",
    "result"
   ]
  },
  {
   "cell_type": "markdown",
   "metadata": {
    "id": "rCscTMt8ob0N"
   },
   "source": [
    "### 2. Import: Optical Density Assay\n",
    "Just as it was done for the experiment description data, TEST is going to need metadata records used to create the structured header objects for the file's mapper."
   ]
  },
  {
   "cell_type": "code",
   "execution_count": 24,
   "metadata": {
    "id": "RFdHc1Ufob0N"
   },
   "outputs": [
    {
     "data": {
      "text/html": [
       "<div>\n",
       "<style scoped>\n",
       "    .dataframe tbody tr th:only-of-type {\n",
       "        vertical-align: middle;\n",
       "    }\n",
       "\n",
       "    .dataframe tbody tr th {\n",
       "        vertical-align: top;\n",
       "    }\n",
       "\n",
       "    .dataframe thead th {\n",
       "        text-align: right;\n",
       "    }\n",
       "</style>\n",
       "<table border=\"1\" class=\"dataframe\">\n",
       "  <thead>\n",
       "    <tr style=\"text-align: right;\">\n",
       "      <th></th>\n",
       "      <th>Line Name</th>\n",
       "      <th>Time</th>\n",
       "      <th>Value</th>\n",
       "      <th>Units</th>\n",
       "      <th>time units</th>\n",
       "    </tr>\n",
       "  </thead>\n",
       "  <tbody>\n",
       "    <tr>\n",
       "      <th>0</th>\n",
       "      <td>WT</td>\n",
       "      <td>0.0</td>\n",
       "      <td>0.010000</td>\n",
       "      <td>n/a</td>\n",
       "      <td>hrs</td>\n",
       "    </tr>\n",
       "    <tr>\n",
       "      <th>1</th>\n",
       "      <td>WT</td>\n",
       "      <td>1.0</td>\n",
       "      <td>0.017098</td>\n",
       "      <td>n/a</td>\n",
       "      <td>hrs</td>\n",
       "    </tr>\n",
       "    <tr>\n",
       "      <th>2</th>\n",
       "      <td>WT</td>\n",
       "      <td>2.0</td>\n",
       "      <td>0.029233</td>\n",
       "      <td>n/a</td>\n",
       "      <td>hrs</td>\n",
       "    </tr>\n",
       "    <tr>\n",
       "      <th>3</th>\n",
       "      <td>WT</td>\n",
       "      <td>3.0</td>\n",
       "      <td>0.049982</td>\n",
       "      <td>n/a</td>\n",
       "      <td>hrs</td>\n",
       "    </tr>\n",
       "    <tr>\n",
       "      <th>4</th>\n",
       "      <td>WT</td>\n",
       "      <td>4.0</td>\n",
       "      <td>0.085458</td>\n",
       "      <td>n/a</td>\n",
       "      <td>hrs</td>\n",
       "    </tr>\n",
       "  </tbody>\n",
       "</table>\n",
       "</div>"
      ],
      "text/plain": [
       "  Line Name  Time     Value Units time units\n",
       "0        WT   0.0  0.010000   n/a        hrs\n",
       "1        WT   1.0  0.017098   n/a        hrs\n",
       "2        WT   2.0  0.029233   n/a        hrs\n",
       "3        WT   3.0  0.049982   n/a        hrs\n",
       "4        WT   4.0  0.085458   n/a        hrs"
      ]
     },
     "execution_count": 24,
     "metadata": {},
     "output_type": "execute_result"
    }
   ],
   "source": [
    "wt_od_fileurl = \"https://raw.githubusercontent.com/AgileBioFoundry/multiomicspaper/master/data/omg_output/edd/EDD_OD_WT.csv\"\n",
    "wt_od_df = pd.read_csv(wt_od_fileurl)\n",
    "\n",
    "# Adds a \"unit\" column for Time\n",
    "client.test.get_metadata(metadataType=\"unit\")\n",
    "wt_od_df[\"time units\"] = \"hrs\"\n",
    "# Updates the 'Units' column to have the dummy 'n/a' unit created above.\n",
    "wt_od_df[\"Units\"] = \"n/a\"\n",
    "# Drops the 'Measurement Type' Columns as it provides no useful information.\n",
    "wt_od_df.drop([\"Measurement Type\"], axis=1, inplace=True)\n",
    "\n",
    "# Now we are ready to save this updated dataframe into a new CSV file and upload it into TEST experiment scope.\n",
    "new_od_filepath = \"./TEST_OD_WT.csv\"\n",
    "wt_od_df.to_csv(new_od_filepath, index=False)\n",
    "wt_od_df.head()"
   ]
  },
  {
   "cell_type": "code",
   "execution_count": 25,
   "metadata": {
    "id": "mTcu7TFBob0N"
   },
   "outputs": [
    {
     "name": "stdout",
     "output_type": "stream",
     "text": [
      "[ {'class': 'assaySubjectClass', 'name': 'Line Name', 'subClass': '40'},\n",
      "  {'class': 'referenceDimension', 'name': 'Time', 'subClass': '1'},\n",
      "  {'class': 'measurementTarget', 'name': 'Value', 'subClass': '150'},\n",
      "  {'class': 'unit', 'name': 'Units', 'subClass': '150'},\n",
      "  {'class': 'd-unit', 'name': 'time units', 'subClass': '1'}]\n"
     ]
    }
   ],
   "source": [
    "# Now we need to construct the file's structured headers for its mapper JSON object.\n",
    "wt_od_mapper = [\n",
    "    {\n",
    "        \"name\": \"Line Name\",\n",
    "        \"class\": \"assaySubjectClass\",\n",
    "        \"subClass\": assaySubjectClassNameToId[\"Strain\"],\n",
    "    },\n",
    "    {\n",
    "        \"name\": \"Time\",\n",
    "        \"class\": \"referenceDimension\",\n",
    "        # ID of the referenceDimension metadata record.\n",
    "        \"subClass\": referenceDimensionNameToId['Elapsed Time'],\n",
    "    },\n",
    "    {\n",
    "        \"name\": \"Value\",\n",
    "        \"class\": \"measurementTarget\",\n",
    "        # ID of the measurementTarget metadata record.\n",
    "        \"subClass\": measurementTargetNametoIds[\"Optical Density\"],\n",
    "    },\n",
    "    {\n",
    "        \"name\": \"Units\",\n",
    "        \"class\": \"unit\",\n",
    "        # ID of the measurementTarget metadata record.\n",
    "        # This is in order to assign this \"Unit\" column to the Value column measurements.\n",
    "        \"subClass\": measurementTargetNametoIds[\"Optical Density\"],\n",
    "    },\n",
    "    {\n",
    "        \"name\": \"time units\",\n",
    "        \"class\": \"d-unit\",\n",
    "        # ID of the referenceDimension metadata record.\n",
    "        # This is in order to assign this \"Unit\" column to the Time column measurements.\n",
    "        \"subClass\": referenceDimensionNameToId['Elapsed Time'],\n",
    "    },\n",
    "]\n",
    "pprint(wt_od_mapper, indent=2)"
   ]
  },
  {
   "cell_type": "code",
   "execution_count": 26,
   "metadata": {
    "id": "QRdzHjOJob0N"
   },
   "outputs": [
    {
     "name": "stdout",
     "output_type": "stream",
     "text": [
      "Error: Bad Request: Data is already imported. Please try importing data from a new file or into another assay.\n"
     ]
    }
   ],
   "source": [
    "# Now we choose to put the assay results into an assay identified by the assay_name variable.\n",
    "assay_name = \"Wild Type Optical Density\"\n",
    "response = client.test.import_assay_results(\n",
    "    filepath=new_od_filepath,\n",
    "    assay_name=assay_name,\n",
    "    experiment_id=wt_experiment_id,\n",
    "    mapper=wt_od_mapper,\n",
    ")"
   ]
  },
  {
   "cell_type": "code",
   "execution_count": 27,
   "metadata": {},
   "outputs": [
    {
     "name": "stdout",
     "output_type": "stream",
     "text": [
      "None\n"
     ]
    }
   ],
   "source": [
    "print(response)"
   ]
  },
  {
   "cell_type": "code",
   "execution_count": 28,
   "metadata": {
    "id": "NaU0EySnob0N"
   },
   "outputs": [
    {
     "ename": "TypeError",
     "evalue": "'NoneType' object is not subscriptable",
     "output_type": "error",
     "traceback": [
      "\u001b[0;31m---------------------------------------------------------------------------\u001b[0m",
      "\u001b[0;31mTypeError\u001b[0m                                 Traceback (most recent call last)",
      "\u001b[0;32m/tmp/ipykernel_69352/3885304364.py\u001b[0m in \u001b[0;36m<module>\u001b[0;34m\u001b[0m\n\u001b[1;32m      1\u001b[0m \u001b[0;31m# We see that the function returns a 'success' boolean status and the number of results inserted\u001b[0m\u001b[0;34m\u001b[0m\u001b[0;34m\u001b[0m\u001b[0;34m\u001b[0m\u001b[0m\n\u001b[1;32m      2\u001b[0m \u001b[0;31m# The number of results correspond to the 10 optical density measurements done on the Wild Type Strain.\u001b[0m\u001b[0;34m\u001b[0m\u001b[0;34m\u001b[0m\u001b[0;34m\u001b[0m\u001b[0m\n\u001b[0;32m----> 3\u001b[0;31m \u001b[0mresult\u001b[0m \u001b[0;34m=\u001b[0m \u001b[0mclient\u001b[0m\u001b[0;34m.\u001b[0m\u001b[0mtest\u001b[0m\u001b[0;34m.\u001b[0m\u001b[0mget_assay_results_import_status\u001b[0m\u001b[0;34m(\u001b[0m\u001b[0mimportId\u001b[0m\u001b[0;34m=\u001b[0m\u001b[0mresponse\u001b[0m\u001b[0;34m[\u001b[0m\u001b[0;34m'importId'\u001b[0m\u001b[0;34m]\u001b[0m\u001b[0;34m)\u001b[0m\u001b[0;34m\u001b[0m\u001b[0;34m\u001b[0m\u001b[0m\n\u001b[0m\u001b[1;32m      4\u001b[0m \u001b[0mresult\u001b[0m\u001b[0;34m\u001b[0m\u001b[0;34m\u001b[0m\u001b[0m\n",
      "\u001b[0;31mTypeError\u001b[0m: 'NoneType' object is not subscriptable"
     ]
    }
   ],
   "source": [
    "# We see that the function returns a 'success' boolean status and the number of results inserted\n",
    "# The number of results correspond to the 10 optical density measurements done on the Wild Type Strain.\n",
    "result = client.test.get_assay_results_import_status(importId=response['importId'])\n",
    "result"
   ]
  },
  {
   "cell_type": "markdown",
   "metadata": {
    "id": "KPrToKu4ob0N"
   },
   "source": [
    "## Multiomics Data\n",
    "Let's stop here for a second. The next 4 files are the Wild Type's multiomics data.\n",
    "These four files have an important characteristic in common, that is they all share their tabular format.\n",
    "\n",
    "This is useful because it allows us to use the same **mapper** to import all of them. So let's first create such mapper object, then we'll se how we use it for the four upcoming import processes!"
   ]
  },
  {
   "cell_type": "markdown",
   "metadata": {
    "id": "2Hg75QFnob0N"
   },
   "source": [
    "#### Multiomics Mapper"
   ]
  },
  {
   "cell_type": "code",
   "execution_count": null,
   "metadata": {
    "id": "oqeSY6cRob0N"
   },
   "outputs": [],
   "source": [
    "# We need to construct the multiomic files' structured headers for the mapper JSON object.\n",
    "# Here, since the measurement targets are going to be created from the files' \"Measurement Type\" column values,\n",
    "# ee do not specify a subClassId in the structured header of class=measurementTarget.\n",
    "wt_multiomics_mapper = [\n",
    "    # This first element of the array corresponds to the structured header of the files's \"Line Name\" column.\n",
    "    # The four multiomic files have this column and corresponds to the assay subject column of class \"Strain\".\n",
    "    {\n",
    "        \"name\": \"Line Name\",\n",
    "        \"class\": \"assaySubjectClass\",\n",
    "        \"subClass\": assaySubjectClassNameToId[\"Strain\"],\n",
    "    },\n",
    "    # All four multiomic files have a \"Measurement Type\" column. Which contains the measurement target values for\n",
    "    # the 'measurementTarget' metadata class.\n",
    "    {\n",
    "        \"name\": \"Measurement Type\",\n",
    "        \"class\": \"measurementTarget\",\n",
    "    },\n",
    "    # All four multiomic files have a \"Time\" column. Which represents the reference dimension class.\n",
    "    {\n",
    "        \"name\": \"Time\",\n",
    "        \"class\": \"referenceDimension\",\n",
    "        # ID of the referenceDimension metadata record.\n",
    "        \"subClass\": referenceDimensionNameToId[\"Elapsed Time\"],\n",
    "    },\n",
    "    # All four multiomic files have a \"Value\" column. Which contains the measurement values for each\n",
    "    # measurementTarget metadata record.\n",
    "    {\n",
    "        \"name\": \"Value\",\n",
    "        \"class\": \"measurementValue\",\n",
    "    },\n",
    "    # All four multiomic files have a \"Units\" column. Which contains the unit for the measurement values for each\n",
    "    # measurementTarget metadata record.\n",
    "    {\n",
    "        \"name\": \"Units\",\n",
    "        \"class\": \"unit\",\n",
    "    },\n",
    "    # All four multiomic files have a \"time units\" column. Which contains the unit for the Time reference dimension.\n",
    "    {\n",
    "        \"name\": \"time units\",\n",
    "        \"class\": \"d-unit\",\n",
    "        # ID of the referenceDimension metadata record.\n",
    "        # This is in order to assign this \"Unit\" column to the Time column measurements.\n",
    "        \"subClass\": referenceDimensionNameToId[\"Elapsed Time\"],\n",
    "    }\n",
    "]\n",
    "pprint(wt_multiomics_mapper, indent=2)"
   ]
  },
  {
   "cell_type": "markdown",
   "metadata": {
    "id": "O6DS3c9fob0N"
   },
   "source": [
    "### 3. Import: External Metabolites Assay"
   ]
  },
  {
   "cell_type": "code",
   "execution_count": null,
   "metadata": {
    "id": "-Spn6Na7ob0N"
   },
   "outputs": [],
   "source": [
    "wt_ext_metabolites_fileurl = \"https://raw.githubusercontent.com/AgileBioFoundry/multiomicspaper/master/data/omg_output/edd/EDD_external_metabolites_WT.csv\"\n",
    "wt_ext_metabolites_df = pd.read_csv(wt_ext_metabolites_fileurl)\n",
    "# Adds a \"unit\" column for Time\n",
    "client.test.get_metadata(metadataType=\"unit\")\n",
    "wt_ext_metabolites_df[\"time units\"] = \"hrs\"\n",
    "# Now we are ready to save this updated dataframe into a new CSV file and upload it into TEST experiment scope.\n",
    "new_wt_ext_metabolites_filepath = \"./TEST_external_metabolites_WT.csv\"\n",
    "wt_ext_metabolites_df.to_csv(new_wt_ext_metabolites_filepath, index=False)\n",
    "wt_ext_metabolites_df.head()"
   ]
  },
  {
   "cell_type": "code",
   "execution_count": null,
   "metadata": {
    "id": "op79s0zZob0N"
   },
   "outputs": [],
   "source": [
    "# Now we choose to put the assay results into an assay identified by the assay_name variable.\n",
    "assay_name = \"Wild Type External Metabolites\"\n",
    "response = client.test.import_assay_results(\n",
    "    filepath=new_wt_ext_metabolites_filepath,\n",
    "    # assay_id=assay_id,\n",
    "    assay_name=assay_name,\n",
    "    experiment_id=wt_experiment_id,\n",
    "    mapper=wt_multiomics_mapper,\n",
    ")\n",
    "\n",
    "# We see a response status with an import id value\n",
    "print(response)"
   ]
  },
  {
   "cell_type": "code",
   "execution_count": null,
   "metadata": {
    "id": "M_00wbRiob0N"
   },
   "outputs": [],
   "source": [
    "# Lets look at the results from import process\n",
    "result = client.test.get_assay_results_import_status(importId=response['importId'])\n",
    "result"
   ]
  },
  {
   "cell_type": "markdown",
   "metadata": {
    "id": "avAxq36bob0N"
   },
   "source": [
    "### 4. Import: WT Transcriptomics"
   ]
  },
  {
   "cell_type": "code",
   "execution_count": null,
   "metadata": {
    "id": "-wwMJOokob0N"
   },
   "outputs": [],
   "source": [
    "wt_transcriptomics_fileurl = \"https://raw.githubusercontent.com/AgileBioFoundry/multiomicspaper/master/data/omg_output/edd/EDD_transcriptomics_WTSM.csv\"\n",
    "wt_transcriptomics_df = pd.read_csv(wt_transcriptomics_fileurl)\n",
    "\n",
    "wt_transcriptomics_df.head()"
   ]
  },
  {
   "cell_type": "code",
   "execution_count": null,
   "metadata": {
    "id": "xatS8C-Sob0N"
   },
   "outputs": [],
   "source": [
    "# Now we choose to put the assay results into an assay identified by the assay_name variable.\n",
    "assay_name = \"Wild Type Transcriptomics\"\n",
    "response = client.test.import_assay_results(\n",
    "    filepath=new_wt_transcriptomics_filepath,\n",
    "    assay_name=assay_name,\n",
    "    experiment_id=wt_experiment_id,\n",
    "    mapper=wt_multiomics_mapper,\n",
    ")\n",
    "# We see a response status with an import id value\n",
    "response"
   ]
  },
  {
   "cell_type": "code",
   "execution_count": null,
   "metadata": {
    "id": "pAu4ShcIob0N"
   },
   "outputs": [],
   "source": [
    "# Lets look at the results from import process\n",
    "result = client.test.get_assay_results_import_status(importId=response['importId'])\n",
    "result"
   ]
  },
  {
   "cell_type": "markdown",
   "metadata": {
    "id": "TJD-RJ-6ob0N"
   },
   "source": [
    "### 5. Import: Wild Type Proteomics"
   ]
  },
  {
   "cell_type": "code",
   "execution_count": null,
   "metadata": {
    "id": "ajSlhAy6ob0N"
   },
   "outputs": [],
   "source": [
    "# Read Wild Type Proteomics Assay\n",
    "wt_proteomics_fileurl = \"https://raw.githubusercontent.com/AgileBioFoundry/multiomicspaper/master/data/omg_output/edd/EDD_proteomics_WTSM.csv\"\n",
    "wt_proteomics_df = pd.read_csv(wt_proteomics_fileurl)\n",
    "# Adds a \"unit\" column for Time\n",
    "wt_proteomics_df[\"time units\"] = \"hrs\"\n",
    "# Now we are ready to save this updated dataframe into a new CSV file and upload it into TEST experiment scope.\n",
    "new_wt_proteomics_filepath = \"./TEST_proteomics_WTSM.csv\"\n",
    "wt_proteomics_df.to_csv(new_wt_proteomics_filepath, index=False)\n",
    "wt_proteomics_df.head()"
   ]
  },
  {
   "cell_type": "code",
   "execution_count": null,
   "metadata": {
    "id": "1bnWuecOob0N"
   },
   "outputs": [],
   "source": [
    "# Now we choose to put the assay results into an assay identified by the assay_name variable.\n",
    "assay_name = \"Wild Type Proteomics\"\n",
    "response = client.test.import_assay_results(\n",
    "    filepath=new_wt_proteomics_filepath,\n",
    "    assay_name=assay_name,\n",
    "    experiment_id=wt_experiment_id,\n",
    "    mapper=wt_multiomics_mapper,\n",
    ")\n",
    "# We see a response status with an import id value\n",
    "response"
   ]
  },
  {
   "cell_type": "code",
   "execution_count": null,
   "metadata": {
    "id": "vaVRH8RMob0N"
   },
   "outputs": [],
   "source": [
    "# Lets look at the results from import process\n",
    "result = client.test.get_assay_results_import_status(importId=response['importId'])\n",
    "result"
   ]
  },
  {
   "cell_type": "markdown",
   "metadata": {
    "id": "EvtYUq9uob0N"
   },
   "source": [
    "### 6. Import: Wild Type Metabolomics"
   ]
  },
  {
   "cell_type": "code",
   "execution_count": null,
   "metadata": {
    "id": "inne_qwCob0N"
   },
   "outputs": [],
   "source": [
    "# Read Wild Type Metabolomics Assay\n",
    "wt_metabolomics_fileurl = \"https://raw.githubusercontent.com/AgileBioFoundry/multiomicspaper/master/data/omg_output/edd/EDD_metabolomics_WTSM.csv\"\n",
    "wt_metabolomics_df = pd.read_csv(wt_metabolomics_fileurl)\n",
    "# Adds a \"unit\" column for Time\n",
    "wt_metabolomics_df[\"time units\"] = \"hrs\"\n",
    "# Now we are ready to save this updated dataframe into a new CSV file and upload it into TEST experiment scope.\n",
    "new_wt_metabolomics_filepath = \"./TEST_metabolomics_WTSM.csv\"\n",
    "wt_metabolomics_df.to_csv(new_wt_metabolomics_filepath, index=False)\n",
    "wt_metabolomics_df.head()"
   ]
  },
  {
   "cell_type": "code",
   "execution_count": null,
   "metadata": {
    "id": "nTBCWjh6ob0N"
   },
   "outputs": [],
   "source": [
    "# Now we choose to put the assay results into an assay identified by the assay_name variable.\n",
    "assay_name = \"Wild Type Metabolomics\"\n",
    "response = client.test.import_assay_results(\n",
    "    filepath=new_wt_metabolomics_filepath,\n",
    "    assay_name=assay_name,\n",
    "    experiment_id=wt_experiment_id,\n",
    "    mapper=wt_multiomics_mapper,\n",
    ")\n",
    "# We see a response status with an import id value\n",
    "response"
   ]
  },
  {
   "cell_type": "code",
   "execution_count": null,
   "metadata": {
    "id": "UEU2y9Jwob0N"
   },
   "outputs": [],
   "source": [
    "# Lets look at the results from import process\n",
    "result = client.test.get_assay_results_import_status(importId=response['importId'])\n",
    "result"
   ]
  },
  {
   "cell_type": "markdown",
   "metadata": {
    "id": "M3fiWHrZob0N"
   },
   "source": [
    "### 7. Import: Strains Isoprenol Production"
   ]
  },
  {
   "cell_type": "code",
   "execution_count": null,
   "metadata": {
    "id": "UdGoTCzYob0N"
   },
   "outputs": [],
   "source": [
    "# Read Isoprenol Assay Results\n",
    "isoprenol_fileurl = \"https://raw.githubusercontent.com/AgileBioFoundry/multiomicspaper/master/data/omg_output/edd/EDD_isoprenol_production.csv\"\n",
    "isoprenol_df = pd.read_csv(isoprenol_fileurl)\n",
    "# Adds a \"unit\" column for Time\n",
    "isoprenol_df[\"time units\"] = \"hrs\"\n",
    "\n",
    "# Here we move the 'Time' column to the same position as the multiomics data files seen above.\n",
    "# This is not necessary if we choose to use another mapper object than matches this file. But it's easier to just\n",
    "# maintain the same order and recycle the multiomics mapper constructed above.\n",
    "isoprenol_df.insert(2, \"Time\", isoprenol_df.pop(\"Time\"))\n",
    "\n",
    "# Now we are ready to save this updated dataframe into a new CSV file and upload it into TEST experiment scope.\n",
    "new_isoprenol_filepath = \"./TEST_isoprenol_production.csv\"\n",
    "isoprenol_df.to_csv(new_isoprenol_filepath, index=False)\n",
    "isoprenol_df.head()"
   ]
  },
  {
   "cell_type": "code",
   "execution_count": null,
   "metadata": {
    "id": "VOjG498iob0N"
   },
   "outputs": [],
   "source": [
    "# Now we choose to put the assay results into an assay identified by the assay_name variable.\n",
    "assay_name = \"Isoprenol Production\"\n",
    "response = client.test.import_assay_results(\n",
    "    filepath=new_isoprenol_filepath,\n",
    "    assay_name=assay_name,\n",
    "    experiment_id=be_experiment_id,\n",
    "    mapper=wt_multiomics_mapper,\n",
    ")\n",
    "# We see a response status with an import id value\n",
    "response"
   ]
  },
  {
   "cell_type": "code",
   "execution_count": null,
   "metadata": {
    "id": "qG5Nmj8lob0N"
   },
   "outputs": [],
   "source": [
    "# Lets look at the results from import process\n",
    "result = client.test.get_assay_results_import_status(importId=response['importId'])\n",
    "result"
   ]
  },
  {
   "cell_type": "markdown",
   "metadata": {
    "id": "9_A4DZmZob0N"
   },
   "source": [
    "## Data Exporting\n",
    "Here we are going to export the Isoprenol Production Assay, with all of the 96 Strains (95 + WT).\n",
    "We are going to demonstrate 2 ways of exporting the data:\n",
    "1. Only with the Isoprenol Production information\n",
    "2. With both the Isoprenol Production Information + the strains descriptors."
   ]
  },
  {
   "cell_type": "code",
   "execution_count": null,
   "metadata": {
    "id": "Ezu6CH5Fob0N"
   },
   "outputs": [],
   "source": [
    "assay_name = \"Isoprenol Production\"\n",
    "assay = client.test.get_assays()\n",
    "assay = list(filter(lambda x: x['name'] == assay_name, assay))\n",
    "assay_id = assay[0]['id']\n",
    "print(assay)"
   ]
  },
  {
   "cell_type": "code",
   "execution_count": null,
   "metadata": {
    "id": "RruAysARob0N"
   },
   "outputs": [],
   "source": [
    "# This will return the 'CID:12988' (Isoprenol) concentration in miliMolars (mM) for every Strain.\n",
    "# NOTE: Strains are identified by their Strain ID, which is auto-generated when the strain subjects were inserted.\n",
    "# If more information about the Strain is needed, set the\n",
    "# 'with_subject_data' flag to be True (as shown in the next cell).\n",
    "results_wo_subject_data = client.test.get_assay_results(\n",
    "    assay_id=assay_id,\n",
    "    as_dataframe=True,\n",
    "    with_subject_data=False,\n",
    ")\n",
    "results_wo_subject_data.head()"
   ]
  },
  {
   "cell_type": "code",
   "execution_count": null,
   "metadata": {
    "id": "_0yOjsqiob0N"
   },
   "outputs": [],
   "source": [
    "results_with_subject_data = client.test.get_assay_results(\n",
    "    assay_id=assay_id,\n",
    "    as_dataframe=True,\n",
    "    with_subject_data=True,\n",
    ")\n",
    "results_with_subject_data.head()"
   ]
  },
  {
   "cell_type": "code",
   "execution_count": null,
   "metadata": {
    "id": "gHI1Zo0yob0N"
   },
   "outputs": [],
   "source": []
  },
  {
   "cell_type": "markdown",
   "metadata": {
    "id": "gcc-aiDIpGV_"
   },
   "source": [
    "# Miscellaneous"
   ]
  },
  {
   "cell_type": "code",
   "execution_count": null,
   "metadata": {
    "id": "K-ctHwouETep"
   },
   "outputs": [],
   "source": [
    "# Download the Isoprenol Production File data from TEST Module.\n",
    "file_name = 'TEST_isoprenol_production.csv'\n",
    "# This function will return all the files uploaded in the current Laboratory.\n",
    "files = client.test.get_files_info()\n",
    "file = list(filter(lambda x: x['name'] == file_name, files))\n",
    "file_id = file[0]['id']\n",
    "# client.download_file function takes in a 'file_id' which can be obtain by inspecting the result of the client.get_files_info() function.\n",
    "# and downloads its content.\n",
    "pd.read_csv(client.test.download_file(file_id=file_id)).head()"
   ]
  },
  {
   "cell_type": "code",
   "execution_count": null,
   "metadata": {
    "id": "NWYBd2JvEQkd"
   },
   "outputs": [],
   "source": [
    "# client.test.get_assays() function return all assays available in the current laboratory.\n",
    "assays = client.test.get_assays()\n",
    "display(assays[0:2])"
   ]
  },
  {
   "cell_type": "code",
   "execution_count": null,
   "metadata": {
    "id": "wmx40cO_YSPd"
   },
   "outputs": [],
   "source": [
    "# client.test.get_experiments() function returns all experiments available in the current laboratory.\n",
    "experiments = client.test.get_experiments()\n",
    "pd.DataFrame(experiments)"
   ]
  },
  {
   "cell_type": "code",
   "execution_count": null,
   "metadata": {
    "id": "Q_9sK10EYc2q"
   },
   "outputs": [],
   "source": []
  }
 ],
 "metadata": {
  "colab": {
   "collapsed_sections": [
    "GiXiVUEkob0L",
    "w6Q9rjPnob0M",
    "ec5E8NPEob0N",
    "gcc-aiDIpGV_"
   ],
   "name": "Multiomics.ipynb",
   "provenance": [],
   "toc_visible": true
  },
  "kernelspec": {
   "display_name": "Python 3 (ipykernel)",
   "language": "python",
   "name": "python3"
  },
  "language_info": {
   "codemirror_mode": {
    "name": "ipython",
    "version": 3
   },
   "file_extension": ".py",
   "mimetype": "text/x-python",
   "name": "python",
   "nbconvert_exporter": "python",
   "pygments_lexer": "ipython3",
   "version": "3.9.9"
  }
 },
 "nbformat": 4,
 "nbformat_minor": 1
}
