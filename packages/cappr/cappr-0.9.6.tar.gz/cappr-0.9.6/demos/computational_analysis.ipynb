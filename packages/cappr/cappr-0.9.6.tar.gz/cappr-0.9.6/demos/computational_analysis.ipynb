{
  "cells": [
    {
      "cell_type": "markdown",
      "metadata": {
        "id": "ZSgkQv3vmzKK"
      },
      "source": [
        "This notebook should be run on a GPU machine. A T4 is sufficient. It's free in [Google\n",
        "Colab](https://drive.google.com/file/d/1ehO5YfLDGawtajEe2E3QnWPQjXe7cOZs/view?usp=sharing).\n",
        "\n",
        "**Description**: computational comparison between CAPPr and text generation.\n",
        "\n",
        "**Estimated run time**: ~15 min.\n",
        "\n",
        "**Environment**: dev\n",
        "\n",
        "**Other**: run this notebook in Google Colab on a GPU.\n",
        "\n",
        "**TODO**: add more explanation, evaluate memory requirements after fixing batching"
      ]
    },
    {
      "cell_type": "markdown",
      "metadata": {
        "id": "0WwmjtdImzKL"
      },
      "source": [
        "[Motivation](#motivation)\n",
        "\n",
        "[Setup](#setup)\n",
        "\n",
        "[Load data and model](#load-data-and-model)\n",
        "\n",
        "[Write prompt](#write-prompt)\n",
        "\n",
        "[Repeat completions](#repeat-completions)\n",
        "\n",
        "[Utilities](#utilities)\n",
        "\n",
        "[Run CAPPr](#run-cappr)\n",
        "\n",
        "[Run text generation](#run-text-generation)\n",
        "\n",
        "[Plot](#plot)"
      ]
    },
    {
      "cell_type": "markdown",
      "metadata": {
        "id": "A3h_4ikYmzKL"
      },
      "source": [
        "# Motivation"
      ]
    },
    {
      "cell_type": "markdown",
      "metadata": {
        "id": "Ep9Qf-EsmzKM"
      },
      "source": [
        "What's the computational performance of CAPPr?"
      ]
    },
    {
      "cell_type": "markdown",
      "metadata": {
        "id": "Sfh7DuhomzKN"
      },
      "source": [
        "Prompt-completion classification requires as many `model()` calls as there are classes. But we can exploit the auto-regressive nature of GPT to remove repeated computation for the prompts. I'll add more on how this is done at a high-level. The low-level implementation is in [`cappr.huggingface.classify`](https://github.com/kddubey/cappr/blob/main/src/cappr/huggingface/classify.py).\n",
        "\n",
        "There are three factors which determine runtime:\n",
        "  1. The number of classes in the classification problem\n",
        "  2. The number of tokens in the prompt\n",
        "  3. The number of tokens in each completion/class.\n",
        "\n",
        "The motivating idea is that sampling can't parallelized over the third factor, which\n",
        "might be relatively costly depending on the task."
      ]
    },
    {
      "cell_type": "markdown",
      "metadata": {
        "id": "6dsZqiZtmzKO"
      },
      "source": [
        "# Setup"
      ]
    },
    {
      "cell_type": "markdown",
      "metadata": {
        "id": "u_roakSbmzKP"
      },
      "source": [
        "If you're in Google Colab, you should uncomment and run this cell:"
      ]
    },
    {
      "cell_type": "code",
      "execution_count": null,
      "metadata": {
        "id": "bRWUuowFK59z"
      },
      "outputs": [],
      "source": [
        "!pip install \"cappr[demos] @ git+https://github.com/kddubey/cappr.git\""
      ]
    },
    {
      "cell_type": "code",
      "execution_count": 2,
      "metadata": {
        "id": "pT3XyMrayB6D"
      },
      "outputs": [],
      "source": [
        "from __future__ import annotations\n",
        "from time import time\n",
        "from typing import Literal\n",
        "\n",
        "import datasets as nlp_datasets\n",
        "import numpy as np\n",
        "import pandas as pd\n",
        "from tqdm.auto import tqdm\n",
        "\n",
        "import torch\n",
        "from torch.utils.data import Dataset\n",
        "\n",
        "from transformers import AutoModelForCausalLM, AutoTokenizer\n",
        "from transformers import pipeline\n",
        "\n",
        "from cappr import Example\n",
        "from cappr.huggingface import classify as do_cache\n",
        "from cappr.huggingface import classify_no_cache as no_cache"
      ]
    },
    {
      "cell_type": "code",
      "execution_count": 3,
      "metadata": {
        "id": "snV8AsTN25ML"
      },
      "outputs": [],
      "source": [
        "assert torch.cuda.is_available(), \"This experiment should be run on a GPU\""
      ]
    },
    {
      "cell_type": "code",
      "execution_count": 4,
      "metadata": {
        "id": "UGlmjHJQ8xZM"
      },
      "outputs": [],
      "source": [
        "DEVICE = torch.device(\"cuda:0\" if torch.cuda.is_available() else \"cpu\")"
      ]
    },
    {
      "cell_type": "markdown",
      "metadata": {
        "id": "HwR3JcZKmzKU"
      },
      "source": [
        "# Load data and model"
      ]
    },
    {
      "cell_type": "code",
      "execution_count": 5,
      "metadata": {
        "id": "dEtUuErJyB6M"
      },
      "outputs": [],
      "source": [
        "def load_super_glue(task_id: str, split: str):\n",
        "    return pd.DataFrame(nlp_datasets.load_dataset(\"super_glue\", task_id, split=split))\n",
        "\n",
        "\n",
        "# takes about 12 seconds\n",
        "df = pd.concat(\n",
        "    (load_super_glue(\"copa\", \"train\"), load_super_glue(\"copa\", \"validation\"))\n",
        ").reset_index(\n",
        "    drop=True\n",
        ")  # idx column is only unique w/in splits! fuhgetaboutit"
      ]
    },
    {
      "cell_type": "code",
      "execution_count": 6,
      "metadata": {
        "id": "Jsw5KbiymzKV"
      },
      "outputs": [],
      "source": [
        "gpt2_name = \"gpt2\"  # smallest in the GPT-2 line\n",
        "gpt2 = AutoModelForCausalLM.from_pretrained(gpt2_name).to(DEVICE)\n",
        "\n",
        "tokenizer = AutoTokenizer.from_pretrained(gpt2_name)\n",
        "tokenizer.pad_token_id = tokenizer.eos_token_id  # allow padding -> allow batching"
      ]
    },
    {
      "cell_type": "markdown",
      "metadata": {
        "id": "EDRW5Ln3mzKW"
      },
      "source": [
        "# Write prompt"
      ]
    },
    {
      "cell_type": "code",
      "execution_count": 7,
      "metadata": {
        "id": "zDTCHS-NyB6O"
      },
      "outputs": [],
      "source": [
        "def _conjunction(question: Literal[\"cause\", \"effect\"]):\n",
        "    if question == \"cause\":\n",
        "        return \" because\"\n",
        "    elif question == \"effect\":\n",
        "        return \", so\"\n",
        "    else:\n",
        "        raise ValueError(\"question must be 'cause' or 'effect'. Got \" f\"{question}.\")\n",
        "\n",
        "\n",
        "def prompt(premise: str, question: Literal[\"cause\", \"effect\"]):\n",
        "    conjunction = _conjunction(question)\n",
        "    return f'{premise.strip(\". \")}{conjunction}'"
      ]
    },
    {
      "cell_type": "code",
      "execution_count": 8,
      "metadata": {
        "id": "6cXQqt3G12Cp"
      },
      "outputs": [],
      "source": [
        "def mc(*choices: str) -> str:\n",
        "    choice_idxs = range(len(choices))\n",
        "    choices_str = \"\\n\".join(\n",
        "        [f\"{idx}. {choice}\" for idx, choice in zip(choice_idxs, choices)]\n",
        "    )\n",
        "    return choices_str + \"\\n\" + \"Pick one from above.\""
      ]
    },
    {
      "cell_type": "code",
      "execution_count": 9,
      "metadata": {
        "colab": {
          "base_uri": "https://localhost:8080/"
        },
        "id": "-OLaADMl24ER",
        "outputId": "23350430-ba36-40bf-e75f-f8f1be3e49be"
      },
      "outputs": [
        {
          "name": "stdout",
          "output_type": "stream",
          "text": [
            "0. Green eggs\n",
            "1. Ham\n",
            "2. Scooby Dooby\n",
            "Pick one from above.\n"
          ]
        }
      ],
      "source": [
        "print(mc(\"Green eggs\", \"Ham\", \"Scooby Dooby\"))"
      ]
    },
    {
      "cell_type": "code",
      "execution_count": 10,
      "metadata": {
        "id": "p70rIR2syB6P"
      },
      "outputs": [],
      "source": [
        "def prompt_mc(premise: str, question: Literal[\"cause\", \"effect\"], *choices):\n",
        "    return f\"{prompt(premise, question)}\\n\" f\"{mc(*choices)}\""
      ]
    },
    {
      "cell_type": "code",
      "execution_count": 11,
      "metadata": {
        "id": "m9ue51emP7b3"
      },
      "outputs": [],
      "source": [
        "df[\"prompt\"] = [\n",
        "    prompt(premise, question)\n",
        "    for premise, question in zip(df[\"premise\"], df[\"question\"])\n",
        "]"
      ]
    },
    {
      "cell_type": "markdown",
      "metadata": {
        "id": "EnVD0BE0P7b3"
      },
      "source": [
        "# Repeat completions"
      ]
    },
    {
      "cell_type": "code",
      "execution_count": 12,
      "metadata": {
        "colab": {
          "base_uri": "https://localhost:8080/"
        },
        "id": "yPmuBatJP7b4",
        "outputId": "74d26010-4806-46bf-fd27-264f9e11f010"
      },
      "outputs": [
        {
          "data": {
            "text/plain": [
              "[2, 4, 8, 12, 16, 20, 24, 28, 32]"
            ]
          },
          "execution_count": 12,
          "metadata": {},
          "output_type": "execute_result"
        }
      ],
      "source": [
        "NUM_COMPLETIONS = 4 * np.arange(1, 8 + 1)\n",
        "NUM_COMPLETIONS: list[int] = [2] + list(NUM_COMPLETIONS)\n",
        "NUM_COMPLETIONS"
      ]
    },
    {
      "cell_type": "markdown",
      "metadata": {
        "id": "NBWCTT7IP7b4"
      },
      "source": [
        "We need to create a few data structures. For each `NUM_COMPLETIONS`, we need a set of `Example`s for `cappr`, and a set of multiple-choice prompts for text generation."
      ]
    },
    {
      "cell_type": "code",
      "execution_count": 13,
      "metadata": {
        "id": "7k2rDfFzP7b5"
      },
      "outputs": [],
      "source": [
        "_condition = all(np.mod(NUM_COMPLETIONS, 2) == 0)\n",
        "_msg = \"NUM_COMPLETIONS can only contain even numbers\"\n",
        "assert _condition, _msg\n",
        "\n",
        "examples: dict[int, list[Example]] = dict()\n",
        "\n",
        "for n in NUM_COMPLETIONS:\n",
        "    # there are 2 completoins/\"choices\" in COPA\n",
        "    multiplier = int(n / 2)\n",
        "    # lstrip to ensure prompt and completion are only separated by a space, in case\n",
        "    # you wanna check that cache and no-cache pred probs are w/in 10-4 of each other\n",
        "    df[f\"_choices_{n}\"] = list(\n",
        "        zip(\n",
        "            *[\n",
        "                df[\"choice1\"].str.lower().str.lstrip(),\n",
        "                df[\"choice2\"].str.lower().str.lstrip(),\n",
        "            ]\n",
        "            * multiplier\n",
        "        )\n",
        "    )\n",
        "    examples[n] = [\n",
        "        Example(\n",
        "            prompt=record[\"prompt\"], completions=record[f\"_choices_{n}\"], prior=None\n",
        "        )\n",
        "        for record in df.to_dict(\"records\")\n",
        "    ]\n",
        "    df[f\"prompt_mc_{n}\"] = [\n",
        "        prompt_mc(record[\"premise\"], record[\"question\"], *record[f\"_choices_{n}\"])\n",
        "        for record in df.to_dict(\"records\")\n",
        "    ]"
      ]
    },
    {
      "cell_type": "code",
      "execution_count": 14,
      "metadata": {
        "colab": {
          "base_uri": "https://localhost:8080/"
        },
        "id": "u3DFPzm9P7b5",
        "outputId": "34314c1f-60fa-48f4-adad-9f6e8a103081"
      },
      "outputs": [
        {
          "data": {
            "text/plain": [
              "('the sun was rising.',\n",
              " 'the grass was cut.',\n",
              " 'the sun was rising.',\n",
              " 'the grass was cut.',\n",
              " 'the sun was rising.',\n",
              " 'the grass was cut.',\n",
              " 'the sun was rising.',\n",
              " 'the grass was cut.')"
            ]
          },
          "execution_count": 14,
          "metadata": {},
          "output_type": "execute_result"
        }
      ],
      "source": [
        "examples[8][0].completions"
      ]
    },
    {
      "cell_type": "code",
      "execution_count": 15,
      "metadata": {
        "colab": {
          "base_uri": "https://localhost:8080/"
        },
        "id": "EDXTbPPcP7b5",
        "outputId": "d9c81f33-1f19-4df5-ee3b-64b0b6f89e00"
      },
      "outputs": [
        {
          "name": "stdout",
          "output_type": "stream",
          "text": [
            "My body cast a shadow over the grass because\n",
            "0. the sun was rising.\n",
            "1. the grass was cut.\n",
            "2. the sun was rising.\n",
            "3. the grass was cut.\n",
            "4. the sun was rising.\n",
            "5. the grass was cut.\n",
            "6. the sun was rising.\n",
            "7. the grass was cut.\n",
            "Pick one from above.\n"
          ]
        }
      ],
      "source": [
        "print(df[\"prompt_mc_8\"].iloc[0])"
      ]
    },
    {
      "cell_type": "markdown",
      "metadata": {
        "id": "LHAUSCsVP7b6"
      },
      "source": [
        "# Utilities"
      ]
    },
    {
      "cell_type": "code",
      "execution_count": 16,
      "metadata": {
        "id": "QUUHXhM1P7b6"
      },
      "outputs": [],
      "source": [
        "def time_func(func, *args, num_replications: int = 10, **kwargs) -> list[float]:\n",
        "    \"\"\"\n",
        "    Returns a list, `times`, where `times[i]` is the time it took to run\n",
        "    `func(*args, **kwargs)` at replication `i` for `i in range(num_replications)`.\n",
        "    \"\"\"\n",
        "    times = []\n",
        "    for _ in range(num_replications):\n",
        "        time_start = time()\n",
        "        _ = func(*args, **kwargs)\n",
        "        time_end = time()\n",
        "        times.append(time_end - time_start)\n",
        "    return times"
      ]
    },
    {
      "cell_type": "markdown",
      "metadata": {
        "id": "ffrN70k-P7b7"
      },
      "source": [
        "I don't think we need to send the whole dataset to each function. It seems like the replication we care about is over repeated runs, not batches. So let's limit the dataset to the first 3 batches of size 16. The batch size is constant across all function calls for CAPPr and text generation. It seems to be close to the max a Colab GPU can handle."
      ]
    },
    {
      "cell_type": "code",
      "execution_count": 17,
      "metadata": {
        "id": "vkefmOVcZKs1"
      },
      "outputs": [],
      "source": [
        "dataloader_kwargs = dict(batch_size=16, shuffle=False)\n",
        "num_batches = 3\n",
        "num_replications = 5"
      ]
    },
    {
      "cell_type": "code",
      "execution_count": 18,
      "metadata": {
        "id": "5NnPCAncP7b7"
      },
      "outputs": [],
      "source": [
        "num_examples = num_batches * dataloader_kwargs[\"batch_size\"]"
      ]
    },
    {
      "cell_type": "markdown",
      "metadata": {
        "id": "FD0Mx17FP7b8"
      },
      "source": [
        "We just have to remember to slice the head off of each dataset!"
      ]
    },
    {
      "cell_type": "markdown",
      "metadata": {
        "id": "LSym92m_P7b8"
      },
      "source": [
        "We'll store the results in this dict"
      ]
    },
    {
      "cell_type": "code",
      "execution_count": 19,
      "metadata": {
        "id": "QqEYjtpdP7b8"
      },
      "outputs": [],
      "source": [
        "def nan_array(shape: tuple):\n",
        "    a = np.empty(shape)\n",
        "    a[:] = np.NaN\n",
        "    return a\n",
        "\n",
        "\n",
        "_shape = (len(NUM_COMPLETIONS), num_replications)\n",
        "\n",
        "func_to_times: dict[str, np.ndarray] = {\n",
        "    \"cappr (no cache)\": nan_array(_shape),\n",
        "    \"cappr (cache)\": nan_array(_shape),\n",
        "    \"text generation\": nan_array(_shape),\n",
        "    \"text generation\\n(1 token)\": nan_array(_shape),\n",
        "}"
      ]
    },
    {
      "cell_type": "markdown",
      "metadata": {
        "id": "Mef7RA72mzKa"
      },
      "source": [
        "# Run CAPPr"
      ]
    },
    {
      "cell_type": "code",
      "execution_count": 20,
      "metadata": {
        "id": "Pbpcbu4TP7b9"
      },
      "outputs": [],
      "source": [
        "# warm up model just in case\n",
        "_ = gpt2(input_ids=torch.tensor([[0,1]], device=DEVICE))"
      ]
    },
    {
      "cell_type": "code",
      "execution_count": 21,
      "metadata": {
        "id": "U1omHAnVP7b9"
      },
      "outputs": [],
      "source": [
        "# some common arguments\n",
        "model_and_tokenizer = (gpt2, tokenizer)\n",
        "batch_size = dataloader_kwargs['batch_size']"
      ]
    },
    {
      "cell_type": "code",
      "execution_count": null,
      "metadata": {
        "id": "reSbbkrUfnMs"
      },
      "outputs": [],
      "source": [
        "for i, num_completions in tqdm(\n",
        "    enumerate(NUM_COMPLETIONS), total=len(NUM_COMPLETIONS), desc=\"Loop # completions\"\n",
        "):\n",
        "    examples_sample = examples[num_completions][:num_examples]\n",
        "    times = time_func(\n",
        "        no_cache.predict_examples,\n",
        "        examples_sample,\n",
        "        num_replications=num_replications,\n",
        "        model_and_tokenizer=model_and_tokenizer,\n",
        "        batch_size=batch_size,\n",
        "    )\n",
        "    func_to_times[\"cappr (no cache)\"][i] = times"
      ]
    },
    {
      "cell_type": "code",
      "execution_count": 23,
      "metadata": {
        "id": "iZ9ph3ewP7b-"
      },
      "outputs": [],
      "source": [
        "assert (\n",
        "    np.sum(np.isnan(func_to_times[\"cappr (no cache)\"])) == 0\n",
        "), \"Some times are missing!\""
      ]
    },
    {
      "cell_type": "code",
      "execution_count": null,
      "metadata": {
        "id": "2ygcVMT3foNX"
      },
      "outputs": [],
      "source": [
        "for i, num_completions in tqdm(\n",
        "    enumerate(NUM_COMPLETIONS), total=len(NUM_COMPLETIONS), desc=\"Loop # completions\"\n",
        "):\n",
        "    examples_sample = examples[num_completions][:num_examples]\n",
        "    times = time_func(\n",
        "        do_cache.predict_examples,\n",
        "        examples_sample,\n",
        "        num_replications=num_replications,\n",
        "        model_and_tokenizer=model_and_tokenizer,\n",
        "        batch_size=batch_size,\n",
        "    )\n",
        "    func_to_times[\"cappr (cache)\"][i] = times"
      ]
    },
    {
      "cell_type": "code",
      "execution_count": 25,
      "metadata": {
        "id": "7QHnv5XQP7b_"
      },
      "outputs": [],
      "source": [
        "assert np.sum(np.isnan(func_to_times[\"cappr (cache)\"])) == 0, \"Some times are missing!\""
      ]
    },
    {
      "cell_type": "markdown",
      "metadata": {
        "id": "-JipjTX6ZRut"
      },
      "source": [
        "# Run text generation"
      ]
    },
    {
      "cell_type": "code",
      "execution_count": 26,
      "metadata": {
        "id": "nRcfwxcCyB6X"
      },
      "outputs": [],
      "source": [
        "max_new_tokens = len(tokenizer(\"\\n\\nAnswer A\").input_ids)\n",
        "generator = pipeline(\n",
        "    \"text-generation\", model=gpt2_name, max_new_tokens=max_new_tokens, device=DEVICE\n",
        ")\n",
        "generator.tokenizer.padding_side = \"left\"  # for sampling\n",
        "generator.tokenizer.pad_token_id = generator.model.config.eos_token_id"
      ]
    },
    {
      "cell_type": "markdown",
      "metadata": {
        "id": "q0L3mxxVP7cA"
      },
      "source": [
        "We need to provide the `generator` with a torch `Dataset`. Let's set those up for each `NUM_COMPLETIONS`"
      ]
    },
    {
      "cell_type": "code",
      "execution_count": 27,
      "metadata": {
        "id": "ukdzN77EZTk7"
      },
      "outputs": [],
      "source": [
        "class TextsDataset(Dataset):\n",
        "    def __init__(self, texts: list[str]):\n",
        "        self.texts = texts\n",
        "\n",
        "    def __len__(self):\n",
        "        return len(self.texts)\n",
        "\n",
        "    def __getitem__(self, index: int):\n",
        "        return self.texts[index]"
      ]
    },
    {
      "cell_type": "code",
      "execution_count": 28,
      "metadata": {
        "id": "bgjbr7pQP7cB"
      },
      "outputs": [],
      "source": [
        "mc_datasets = {n: TextsDataset(df[f\"prompt_mc_{n}\"].tolist()) for n in NUM_COMPLETIONS}"
      ]
    },
    {
      "cell_type": "code",
      "execution_count": 29,
      "metadata": {
        "id": "CFO8PbZdP7cB"
      },
      "outputs": [],
      "source": [
        "def classification_via_sampling(\n",
        "    generator,\n",
        "    mc_dataset: TextsDataset,\n",
        "    batch_size: int = dataloader_kwargs[\"batch_size\"],\n",
        "):\n",
        "    for _ in tqdm(\n",
        "        generator(\n",
        "            mc_dataset,\n",
        "            # suppress \"Setting pad_token_id...\" stdout\n",
        "            pad_token_id=generator.tokenizer.eos_token_id,\n",
        "            batch_size=batch_size,\n",
        "        ),\n",
        "        total=len(mc_dataset),\n",
        "        desc=\"sampling\",\n",
        "    ):\n",
        "        pass  # we don't need the output for anything"
      ]
    },
    {
      "cell_type": "code",
      "execution_count": null,
      "metadata": {
        "id": "EOxfQMP1P7cB"
      },
      "outputs": [],
      "source": [
        "for i, num_completions in tqdm(\n",
        "    enumerate(NUM_COMPLETIONS), total=len(NUM_COMPLETIONS), desc=\"Loop # completions\"\n",
        "):\n",
        "    mc_dataset_sample = mc_datasets[num_completions][:num_examples]\n",
        "    times = time_func(\n",
        "        classification_via_sampling,\n",
        "        generator,\n",
        "        mc_dataset_sample,\n",
        "        num_replications=num_replications,\n",
        "        batch_size=batch_size,\n",
        "    )\n",
        "    func_to_times[\"text generation\"][i] = times"
      ]
    },
    {
      "cell_type": "code",
      "execution_count": 31,
      "metadata": {
        "id": "3mvrTZdrSLKo"
      },
      "outputs": [],
      "source": [
        "assert np.sum(np.isnan(func_to_times[\"text generation\"])) == 0, \"Some times are missing!\""
      ]
    },
    {
      "cell_type": "code",
      "execution_count": 32,
      "metadata": {
        "id": "lfJ1ImP9ZUqF"
      },
      "outputs": [],
      "source": [
        "max_new_tokens = 1\n",
        "generator1 = pipeline(\n",
        "    \"text-generation\", model=gpt2_name, max_new_tokens=max_new_tokens, device=DEVICE\n",
        ")\n",
        "generator1.tokenizer.padding_side = \"left\"  # for sampling\n",
        "generator1.tokenizer.pad_token_id = generator1.model.config.eos_token_id"
      ]
    },
    {
      "cell_type": "markdown",
      "metadata": {
        "id": "qMiST7_LZxby"
      },
      "source": [
        "Only one model call is made, but it's on a longer sequence length. Plain attention has quadratic complexity, so this could still take a while."
      ]
    },
    {
      "cell_type": "code",
      "execution_count": null,
      "metadata": {
        "id": "9taw_D6FZTSg"
      },
      "outputs": [],
      "source": [
        "for i, num_completions in tqdm(\n",
        "    enumerate(NUM_COMPLETIONS), total=len(NUM_COMPLETIONS), desc=\"Loop # completions\"\n",
        "):\n",
        "    mc_dataset_sample = mc_datasets[num_completions][:num_examples]\n",
        "    times = time_func(\n",
        "        classification_via_sampling,\n",
        "        generator1,\n",
        "        mc_dataset_sample,\n",
        "        num_replications=num_replications,\n",
        "        batch_size=batch_size,\n",
        "    )\n",
        "    func_to_times[\"text generation\\n(1 token)\"][i] = times"
      ]
    },
    {
      "cell_type": "code",
      "execution_count": 34,
      "metadata": {
        "id": "CpxNWltjZXMQ"
      },
      "outputs": [],
      "source": [
        "assert np.sum(np.isnan(func_to_times[\"text generation\\n(1 token)\"])) == 0, \"Some times are missing!\""
      ]
    },
    {
      "cell_type": "markdown",
      "metadata": {
        "id": "Lx7CjU-xP7cC"
      },
      "source": [
        "# Plot"
      ]
    },
    {
      "cell_type": "markdown",
      "metadata": {
        "id": "qjMmjpDVP7cC"
      },
      "source": [
        "Aggregate w/ median. TODO: show IQR or something"
      ]
    },
    {
      "cell_type": "code",
      "execution_count": 35,
      "metadata": {
        "id": "1KQwffyZP7cD"
      },
      "outputs": [],
      "source": [
        "times_df = pd.DataFrame(\n",
        "    {func: np.median(times, axis=1) for func, times in func_to_times.items()}\n",
        ")\n",
        "times_df[\"# classes\"] = NUM_COMPLETIONS\n",
        "times_df = times_df.set_index(\"# classes\")"
      ]
    },
    {
      "cell_type": "code",
      "execution_count": 36,
      "metadata": {
        "colab": {
          "base_uri": "https://localhost:8080/",
          "height": 628
        },
        "id": "LHNlvyYPP7cD",
        "outputId": "8382b61e-f0ad-4365-cebe-424ea275b6d6"
      },
      "outputs": [
        {
          "data": {
            "text/plain": [
              "[<matplotlib.axis.XTick at 0x78c4f02da5f0>,\n",
              " <matplotlib.axis.XTick at 0x78c4f02da5c0>,\n",
              " <matplotlib.axis.XTick at 0x78c4f01200d0>,\n",
              " <matplotlib.axis.XTick at 0x78c4f016d4e0>,\n",
              " <matplotlib.axis.XTick at 0x78c4f016dba0>,\n",
              " <matplotlib.axis.XTick at 0x78c4f016e650>,\n",
              " <matplotlib.axis.XTick at 0x78c4f016f100>,\n",
              " <matplotlib.axis.XTick at 0x78c4f016fbb0>,\n",
              " <matplotlib.axis.XTick at 0x78c4f0275210>]"
            ]
          },
          "execution_count": 36,
          "metadata": {},
          "output_type": "execute_result"
        },
        {
          "data": {
            "image/png": "[encoded data removed]",
            "text/plain": [
              "<Figure size 640x480 with 1 Axes>"
            ]
          },
          "metadata": {},
          "output_type": "display_data"
        }
      ],
      "source": [
        "ax = times_df.plot(\n",
        "    marker=\"o\", title=f\"Batch size {batch_size} - GPT-2 (small) - COPA\", grid=True\n",
        ")\n",
        "ax.set_ylabel(\"wallclock\\nruntime\\n(sec)\", rotation=\"horizontal\", labelpad=30)\n",
        "ax.set_xticks(NUM_COMPLETIONS)"
      ]
    },
    {
      "cell_type": "code",
      "execution_count": 37,
      "metadata": {
        "colab": {
          "base_uri": "https://localhost:8080/",
          "height": 17
        },
        "id": "dsIjAZseXCdC",
        "outputId": "2922379f-aeac-4e1e-9476-db54222f7000"
      },
      "outputs": [
        {
          "data": {
            "application/javascript": "\n    async function download(id, filename, size) {\n      if (!google.colab.kernel.accessAllowed) {\n        return;\n      }\n      const div = document.createElement('div');\n      const label = document.createElement('label');\n      label.textContent = `Downloading \"${filename}\": `;\n      div.appendChild(label);\n      const progress = document.createElement('progress');\n      progress.max = size;\n      div.appendChild(progress);\n      document.body.appendChild(div);\n\n      const buffers = [];\n      let downloaded = 0;\n\n      const channel = await google.colab.kernel.comms.open(id);\n      // Send a message to notify the kernel that we're ready.\n      channel.send({})\n\n      for await (const message of channel.messages) {\n        // Send a message to notify the kernel that we're ready.\n        channel.send({})\n        if (message.buffers) {\n          for (const buffer of message.buffers) {\n            buffers.push(buffer);\n            downloaded += buffer.byteLength;\n            progress.value = downloaded;\n          }\n        }\n      }\n      const blob = new Blob(buffers, {type: 'application/binary'});\n      const a = document.createElement('a');\n      a.href = window.URL.createObjectURL(blob);\n      a.download = filename;\n      div.appendChild(a);\n      a.click();\n      div.remove();\n    }\n  ",
            "text/plain": [
              "<IPython.core.display.Javascript object>"
            ]
          },
          "metadata": {},
          "output_type": "display_data"
        },
        {
          "data": {
            "application/javascript": "download(\"download_0bd46f70-5529-4c90-997e-f7321a3d7aea\", \"batch_size_16.png\", 58508)",
            "text/plain": [
              "<IPython.core.display.Javascript object>"
            ]
          },
          "metadata": {},
          "output_type": "display_data"
        }
      ],
      "source": [
        "from google.colab import files\n",
        "\n",
        "fig = ax.get_figure()\n",
        "fig.patch.set_facecolor(\"white\")\n",
        "filename = f\"batch_size_{batch_size}.png\"\n",
        "fig.savefig(filename, bbox_inches=\"tight\")  # don't cutoff ylabel\n",
        "files.download(filename)"
      ]
    },
    {
      "cell_type": "code",
      "execution_count": 38,
      "metadata": {
        "colab": {
          "base_uri": "https://localhost:8080/"
        },
        "id": "dDB8g8bMVLql",
        "outputId": "c6d1b8fd-44b4-497c-c12b-3fc28739e2a5"
      },
      "outputs": [
        {
          "data": {
            "text/plain": [
              "48"
            ]
          },
          "execution_count": 38,
          "metadata": {},
          "output_type": "execute_result"
        }
      ],
      "source": [
        "num_examples"
      ]
    },
    {
      "cell_type": "code",
      "execution_count": 39,
      "metadata": {
        "colab": {
          "base_uri": "https://localhost:8080/"
        },
        "id": "foAGN0BAcYtV",
        "outputId": "66709350-c5b6-4ba8-8052-ab5005b841c1"
      },
      "outputs": [
        {
          "data": {
            "text/plain": [
              "5"
            ]
          },
          "execution_count": 39,
          "metadata": {},
          "output_type": "execute_result"
        }
      ],
      "source": [
        "num_replications"
      ]
    },
    {
      "cell_type": "markdown",
      "metadata": {
        "id": "JDjcn9a6S_Cc"
      },
      "source": [
        "Caption:\n",
        "\n",
        "[COPA](https://people.ict.usc.edu/~gordon/copa.html) dataset, repeating the choices to\n",
        "simulate multi-class classification tasks. [GPT-2 (small)](https://huggingface.co/gpt2)\n",
        "was run on a T4 GPU. 48 classification inputs were processed in batches of size 16. For\n",
        "a controlled runtime comparison, GPU RAM was held (roughly) constant for each method and\n",
        "each number of classes. Each point in the graph is a median of 5 runs. For text\n",
        "generation, exactly 4 tokens were generated for each prompt, which is the number of\n",
        "tokens in ``'\\n\\nAnswer A'``. 1-token times are also shown. But for COPA (and other\n",
        "multiple-choice style prompts), that may result in lower zero-shot accuracy, as most of\n",
        "the sampled choices come after the first token."
      ]
    }
  ],
  "metadata": {
    "accelerator": "GPU",
    "colab": {
      "provenance": [],
      "toc_visible": true
    },
    "gpuClass": "standard",
    "kernelspec": {
      "display_name": "base",
      "language": "python",
      "name": "python3"
    },
    "language_info": {
      "codemirror_mode": {
        "name": "ipython",
        "version": 3
      },
      "file_extension": ".py",
      "mimetype": "text/x-python",
      "name": "python",
      "nbconvert_exporter": "python",
      "pygments_lexer": "ipython3",
      "version": "3.8.16"
    },
    "orig_nbformat": 4
  },
  "nbformat": 4,
  "nbformat_minor": 0
}
