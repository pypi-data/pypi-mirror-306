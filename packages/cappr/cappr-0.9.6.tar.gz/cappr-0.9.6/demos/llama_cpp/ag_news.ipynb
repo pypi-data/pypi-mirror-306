{
  "cells": [
    {
      "cell_type": "markdown",
      "metadata": {
        "id": "onOeCT_HbGMC"
      },
      "source": [
        "In its current form, you must run this notebook on a GPU. A T4 is sufficient. It's free\n",
        "on [Google\n",
        "Colab](https://stackoverflow.com/questions/62596466/how-can-i-run-notebooks-of-a-github-project-in-google-colab/67344477#67344477).\n",
        "You can technically run this notebook on a CPU (with minor adjustments), but then it'll\n",
        "take hours. We'll be running the model 1,500 times!\n",
        "\n",
        "**Description**: for a [4 GB 4-bit Llama 2 chat\n",
        "model](https://huggingface.co/TheBloke/Llama-2-7b-Chat-GGUF/blob/main/llama-2-7b-chat.Q4_0.gguf)\n",
        "and the [AG news](https://huggingface.co/datasets/ag_news) classification task, this\n",
        "notebook demonstrates that CAPPr gets you +4% absolute accuracy.\n",
        "\n",
        "**Contamination notice**: I don't know whether Llama 2 was trained on any AG news data. If\n",
        "it was, but there's no interaction between the method (CAPPr vs text generation) and\n",
        "training, then the difference between performances can be studied.\n",
        "\n",
        "**Estimated run time**: ~20 min."
      ]
    },
    {
      "cell_type": "markdown",
      "metadata": {
        "id": "5H2cqyOvbGMT"
      },
      "source": [
        "[Install packages](#install-packages)\n",
        "\n",
        "[Download model](#download-model)\n",
        "\n",
        "[Utils](#utils)\n",
        "\n",
        "[Load data](#load-data)\n",
        "\n",
        "[Text generation](#text-generation)\n",
        "\n",
        "[Text generation (Multiple Choice)](#text-generation-multiple-choice)\n",
        "\n",
        "[CAPPr](#cappr)"
      ]
    },
    {
      "cell_type": "markdown",
      "metadata": {
        "id": "3edTvevkoCCR"
      },
      "source": [
        "# Install packages"
      ]
    },
    {
      "cell_type": "markdown",
      "metadata": {
        "id": "3_-mtmZuccEf"
      },
      "source": [
        "For CPU, just do\n",
        "\n",
        "```\n",
        "!pip install llama-cpp-python\n",
        "```"
      ]
    },
    {
      "cell_type": "markdown",
      "metadata": {
        "id": "4Heya6HkdJyE"
      },
      "source": [
        "For GPU (ty [this comment](https://github.com/ggerganov/llama.cpp/issues/128#issuecomment-1604696753)):"
      ]
    },
    {
      "cell_type": "code",
      "execution_count": null,
      "metadata": {
        "id": "KuyxVtifKFeS"
      },
      "outputs": [],
      "source": [
        "!CMAKE_ARGS=\"-DLLAMA_CUBLAS=on\" FORCE_CMAKE=1 pip install llama-cpp-python"
      ]
    },
    {
      "cell_type": "markdown",
      "metadata": {
        "id": "6H2ukkr1cy6Z"
      },
      "source": [
        "I'm gonna install `cappr` from source b/c sometimes I use this notebook to statistically\n",
        "gut check code changes.\n",
        "\n",
        "I'll also install the `demos` extras for NLP datasets.\n",
        "\n",
        "In your local env, you'd just do:\n",
        "\n",
        "```\n",
        "pip install \"cappr[llama-cpp]\"\n",
        "```"
      ]
    },
    {
      "cell_type": "code",
      "execution_count": null,
      "metadata": {
        "id": "NicJ2-6Hcump"
      },
      "outputs": [],
      "source": [
        "!pip install \"cappr[demos] @ git+https://github.com/kddubey/cappr.git\""
      ]
    },
    {
      "cell_type": "markdown",
      "metadata": {
        "id": "A22iSuqGVtr7"
      },
      "source": [
        "# Download model"
      ]
    },
    {
      "cell_type": "markdown",
      "metadata": {
        "id": "RTx6xWlXfVWN"
      },
      "source": [
        "The model is a [4 GB 4-bit Llama 2 chat\n",
        "model](https://huggingface.co/TheBloke/Llama-2-7b-Chat-GGUF/blob/main/llama-2-7b-chat.Q4_0.gguf) with 7B parameters."
      ]
    },
    {
      "cell_type": "code",
      "execution_count": 3,
      "metadata": {
        "colab": {
          "base_uri": "https://localhost:8080/"
        },
        "id": "fkMaqHovEo_1",
        "outputId": "0dda8bd1-7d82-498e-8285-85f42a424c37"
      },
      "outputs": [
        {
          "name": "stdout",
          "output_type": "stream",
          "text": [
            "downloading https://huggingface.co/TheBloke/Llama-2-7b-Chat-GGUF/resolve/main/llama-2-7b-chat.Q4_0.gguf to /root/.cache/huggingface/hub/tmpv5po9d7a\n",
            "Downloading (…)-2-7b-chat.Q4_0.gguf: 100% 3.83G/3.83G [00:23<00:00, 163MB/s]\n",
            "Storing https://huggingface.co/TheBloke/Llama-2-7b-Chat-GGUF/resolve/main/llama-2-7b-chat.Q4_0.gguf in local_dir at ./llama-2-7b-chat.Q4_0.gguf (not cached).\n",
            "./llama-2-7b-chat.Q4_0.gguf\n"
          ]
        }
      ],
      "source": [
        "!huggingface-cli download \\\n",
        "TheBloke/Llama-2-7b-Chat-GGUF \\\n",
        "llama-2-7b-chat.Q4_0.gguf \\\n",
        "--local-dir . \\\n",
        "--local-dir-use-symlinks False"
      ]
    },
    {
      "cell_type": "code",
      "execution_count": 4,
      "metadata": {
        "id": "UC6fONZlV1XF"
      },
      "outputs": [],
      "source": [
        "model_path = \"./llama-2-7b-chat.Q4_0.gguf\""
      ]
    },
    {
      "cell_type": "code",
      "execution_count": 5,
      "metadata": {
        "colab": {
          "base_uri": "https://localhost:8080/",
          "height": 86,
          "referenced_widgets": [
            "b114ff4ae1634b59a348a416f5980a21",
            "0f4ae76a698b402eb140870f21376759",
            "2fc578aaab464940bf78d84b2b6364e8",
            "7726b7fe5cb94194a8fd693e3161336c",
            "aaee0def248d42f4b659a9c80c54faba",
            "12c9221eadab4acf888895b5e0f887a9",
            "9096eafc00204905b196fa8779d8c34f",
            "ac05ea431bb74fa693cb9665544a6783",
            "621593b24cdb4928a4d61e3f1ba77e69",
            "8fe389ad502c40dd993862c109ac66a4",
            "15559ea5a1e742569c24cf0a0e186d13"
          ]
        },
        "id": "WNW0Cz1sbGMX",
        "outputId": "99b42ab5-c36b-4099-bdb3-09d1cfc0f4e8"
      },
      "outputs": [
        {
          "name": "stderr",
          "output_type": "stream",
          "text": [
            "The cache for model files in Transformers v4.22.0 has been updated. Migrating your old cache. This is a one-time only operation. You can interrupt this and resume the migration later on by calling `transformers.utils.move_cache()`.\n"
          ]
        },
        {
          "data": {
            "application/vnd.jupyter.widget-view+json": {
              "model_id": "b114ff4ae1634b59a348a416f5980a21",
              "version_major": 2,
              "version_minor": 0
            },
            "text/plain": [
              "0it [00:00, ?it/s]"
            ]
          },
          "metadata": {},
          "output_type": "display_data"
        }
      ],
      "source": [
        "from __future__ import annotations\n",
        "from string import ascii_uppercase as alphabet\n",
        "from typing import Collection, Sequence\n",
        "\n",
        "import datasets\n",
        "import pandas as pd\n",
        "from tqdm.auto import tqdm\n",
        "\n",
        "from llama_cpp import Llama\n",
        "\n",
        "from cappr.llama_cpp import classify"
      ]
    },
    {
      "cell_type": "code",
      "execution_count": 6,
      "metadata": {
        "colab": {
          "base_uri": "https://localhost:8080/"
        },
        "id": "xegEtmskckgp",
        "outputId": "e60b2fa4-e577-49f7-9a13-e96fedffdeeb"
      },
      "outputs": [
        {
          "data": {
            "text/plain": [
              "-1"
            ]
          },
          "execution_count": 6,
          "metadata": {},
          "output_type": "execute_result"
        }
      ],
      "source": [
        "import torch\n",
        "n_gpu_layers = -1 if torch.cuda.is_available() else 0\n",
        "n_gpu_layers"
      ]
    },
    {
      "cell_type": "code",
      "execution_count": 7,
      "metadata": {
        "colab": {
          "base_uri": "https://localhost:8080/"
        },
        "id": "q-JyALQPE-c1",
        "outputId": "aca83061-09fe-4c37-b55e-608676a89b7f"
      },
      "outputs": [
        {
          "name": "stderr",
          "output_type": "stream",
          "text": [
            "AVX = 1 | AVX2 = 1 | AVX512 = 1 | AVX512_VBMI = 0 | AVX512_VNNI = 0 | FMA = 1 | NEON = 0 | ARM_FMA = 0 | F16C = 1 | FP16_VA = 0 | WASM_SIMD = 0 | BLAS = 1 | SSE3 = 1 | SSSE3 = 1 | VSX = 0 | \n"
          ]
        }
      ],
      "source": [
        "model = Llama(model_path=model_path, n_gpu_layers=n_gpu_layers)"
      ]
    },
    {
      "cell_type": "markdown",
      "metadata": {
        "id": "OcCXl84vbGMd"
      },
      "source": [
        "# Load data"
      ]
    },
    {
      "cell_type": "code",
      "execution_count": 8,
      "metadata": {
        "id": "NDauFakI6E9n"
      },
      "outputs": [],
      "source": [
        "DATASET_NAME = \"ag_news\""
      ]
    },
    {
      "cell_type": "code",
      "execution_count": null,
      "metadata": {
        "id": "0WayD0g5bGMj"
      },
      "outputs": [],
      "source": [
        "_df = pd.DataFrame(datasets.load_dataset(DATASET_NAME, split=\"train\"))"
      ]
    },
    {
      "cell_type": "code",
      "execution_count": 10,
      "metadata": {
        "colab": {
          "base_uri": "https://localhost:8080/",
          "height": 206
        },
        "id": "775AXSrh6E9o",
        "outputId": "7bb54a1b-4625-4b88-b582-18bf1b1b3b47"
      },
      "outputs": [
        {
          "data": {
            "text/html": [
              "\n",
              "  <div id=\"df-1dcb8e5f-dff9-4863-9b1b-ab72e86db02c\" class=\"colab-df-container\">\n",
              "    <div>\n",
              "<style scoped>\n",
              "    .dataframe tbody tr th:only-of-type {\n",
              "        vertical-align: middle;\n",
              "    }\n",
              "\n",
              "    .dataframe tbody tr th {\n",
              "        vertical-align: top;\n",
              "    }\n",
              "\n",
              "    .dataframe thead th {\n",
              "        text-align: right;\n",
              "    }\n",
              "</style>\n",
              "<table border=\"1\" class=\"dataframe\">\n",
              "  <thead>\n",
              "    <tr style=\"text-align: right;\">\n",
              "      <th></th>\n",
              "      <th>text</th>\n",
              "      <th>label</th>\n",
              "    </tr>\n",
              "  </thead>\n",
              "  <tbody>\n",
              "    <tr>\n",
              "      <th>0</th>\n",
              "      <td>Wall St. Bears Claw Back Into the Black (Reute...</td>\n",
              "      <td>2</td>\n",
              "    </tr>\n",
              "    <tr>\n",
              "      <th>1</th>\n",
              "      <td>Carlyle Looks Toward Commercial Aerospace (Reu...</td>\n",
              "      <td>2</td>\n",
              "    </tr>\n",
              "    <tr>\n",
              "      <th>2</th>\n",
              "      <td>Oil and Economy Cloud Stocks' Outlook (Reuters...</td>\n",
              "      <td>2</td>\n",
              "    </tr>\n",
              "    <tr>\n",
              "      <th>3</th>\n",
              "      <td>Iraq Halts Oil Exports from Main Southern Pipe...</td>\n",
              "      <td>2</td>\n",
              "    </tr>\n",
              "    <tr>\n",
              "      <th>4</th>\n",
              "      <td>Oil prices soar to all-time record, posing new...</td>\n",
              "      <td>2</td>\n",
              "    </tr>\n",
              "  </tbody>\n",
              "</table>\n",
              "</div>\n",
              "    <div class=\"colab-df-buttons\">\n",
              "\n",
              "  <div class=\"colab-df-container\">\n",
              "    <button class=\"colab-df-convert\" onclick=\"convertToInteractive('df-1dcb8e5f-dff9-4863-9b1b-ab72e86db02c')\"\n",
              "            title=\"Convert this dataframe to an interactive table.\"\n",
              "            style=\"display:none;\">\n",
              "\n",
              "  <svg xmlns=\"http://www.w3.org/2000/svg\" height=\"24px\" viewBox=\"0 -960 960 960\">\n",
              "    <path d=\"M120-120v-720h720v720H120Zm60-500h600v-160H180v160Zm220 220h160v-160H400v160Zm0 220h160v-160H400v160ZM180-400h160v-160H180v160Zm440 0h160v-160H620v160ZM180-180h160v-160H180v160Zm440 0h160v-160H620v160Z\"/>\n",
              "  </svg>\n",
              "    </button>\n",
              "\n",
              "  <style>\n",
              "    .colab-df-container {\n",
              "      display:flex;\n",
              "      gap: 12px;\n",
              "    }\n",
              "\n",
              "    .colab-df-convert {\n",
              "      background-color: #E8F0FE;\n",
              "      border: none;\n",
              "      border-radius: 50%;\n",
              "      cursor: pointer;\n",
              "      display: none;\n",
              "      fill: #1967D2;\n",
              "      height: 32px;\n",
              "      padding: 0 0 0 0;\n",
              "      width: 32px;\n",
              "    }\n",
              "\n",
              "    .colab-df-convert:hover {\n",
              "      background-color: #E2EBFA;\n",
              "      box-shadow: 0px 1px 2px rgba(60, 64, 67, 0.3), 0px 1px 3px 1px rgba(60, 64, 67, 0.15);\n",
              "      fill: #174EA6;\n",
              "    }\n",
              "\n",
              "    .colab-df-buttons div {\n",
              "      margin-bottom: 4px;\n",
              "    }\n",
              "\n",
              "    [theme=dark] .colab-df-convert {\n",
              "      background-color: #3B4455;\n",
              "      fill: #D2E3FC;\n",
              "    }\n",
              "\n",
              "    [theme=dark] .colab-df-convert:hover {\n",
              "      background-color: #434B5C;\n",
              "      box-shadow: 0px 1px 3px 1px rgba(0, 0, 0, 0.15);\n",
              "      filter: drop-shadow(0px 1px 2px rgba(0, 0, 0, 0.3));\n",
              "      fill: #FFFFFF;\n",
              "    }\n",
              "  </style>\n",
              "\n",
              "    <script>\n",
              "      const buttonEl =\n",
              "        document.querySelector('#df-1dcb8e5f-dff9-4863-9b1b-ab72e86db02c button.colab-df-convert');\n",
              "      buttonEl.style.display =\n",
              "        google.colab.kernel.accessAllowed ? 'block' : 'none';\n",
              "\n",
              "      async function convertToInteractive(key) {\n",
              "        const element = document.querySelector('#df-1dcb8e5f-dff9-4863-9b1b-ab72e86db02c');\n",
              "        const dataTable =\n",
              "          await google.colab.kernel.invokeFunction('convertToInteractive',\n",
              "                                                    [key], {});\n",
              "        if (!dataTable) return;\n",
              "\n",
              "        const docLinkHtml = 'Like what you see? Visit the ' +\n",
              "          '<a target=\"_blank\" href=https://colab.research.google.com/notebooks/data_table.ipynb>data table notebook</a>'\n",
              "          + ' to learn more about interactive tables.';\n",
              "        element.innerHTML = '';\n",
              "        dataTable['output_type'] = 'display_data';\n",
              "        await google.colab.output.renderOutput(dataTable, element);\n",
              "        const docLink = document.createElement('div');\n",
              "        docLink.innerHTML = docLinkHtml;\n",
              "        element.appendChild(docLink);\n",
              "      }\n",
              "    </script>\n",
              "  </div>\n",
              "\n",
              "\n",
              "<div id=\"df-8eb07220-02b0-4ea0-91f3-fae6995244ed\">\n",
              "  <button class=\"colab-df-quickchart\" onclick=\"quickchart('df-8eb07220-02b0-4ea0-91f3-fae6995244ed')\"\n",
              "            title=\"Suggest charts\"\n",
              "            style=\"display:none;\">\n",
              "\n",
              "<svg xmlns=\"http://www.w3.org/2000/svg\" height=\"24px\"viewBox=\"0 0 24 24\"\n",
              "     width=\"24px\">\n",
              "    <g>\n",
              "        <path d=\"M19 3H5c-1.1 0-2 .9-2 2v14c0 1.1.9 2 2 2h14c1.1 0 2-.9 2-2V5c0-1.1-.9-2-2-2zM9 17H7v-7h2v7zm4 0h-2V7h2v10zm4 0h-2v-4h2v4z\"/>\n",
              "    </g>\n",
              "</svg>\n",
              "  </button>\n",
              "\n",
              "<style>\n",
              "  .colab-df-quickchart {\n",
              "      --bg-color: #E8F0FE;\n",
              "      --fill-color: #1967D2;\n",
              "      --hover-bg-color: #E2EBFA;\n",
              "      --hover-fill-color: #174EA6;\n",
              "      --disabled-fill-color: #AAA;\n",
              "      --disabled-bg-color: #DDD;\n",
              "  }\n",
              "\n",
              "  [theme=dark] .colab-df-quickchart {\n",
              "      --bg-color: #3B4455;\n",
              "      --fill-color: #D2E3FC;\n",
              "      --hover-bg-color: #434B5C;\n",
              "      --hover-fill-color: #FFFFFF;\n",
              "      --disabled-bg-color: #3B4455;\n",
              "      --disabled-fill-color: #666;\n",
              "  }\n",
              "\n",
              "  .colab-df-quickchart {\n",
              "    background-color: var(--bg-color);\n",
              "    border: none;\n",
              "    border-radius: 50%;\n",
              "    cursor: pointer;\n",
              "    display: none;\n",
              "    fill: var(--fill-color);\n",
              "    height: 32px;\n",
              "    padding: 0;\n",
              "    width: 32px;\n",
              "  }\n",
              "\n",
              "  .colab-df-quickchart:hover {\n",
              "    background-color: var(--hover-bg-color);\n",
              "    box-shadow: 0 1px 2px rgba(60, 64, 67, 0.3), 0 1px 3px 1px rgba(60, 64, 67, 0.15);\n",
              "    fill: var(--button-hover-fill-color);\n",
              "  }\n",
              "\n",
              "  .colab-df-quickchart-complete:disabled,\n",
              "  .colab-df-quickchart-complete:disabled:hover {\n",
              "    background-color: var(--disabled-bg-color);\n",
              "    fill: var(--disabled-fill-color);\n",
              "    box-shadow: none;\n",
              "  }\n",
              "\n",
              "  .colab-df-spinner {\n",
              "    border: 2px solid var(--fill-color);\n",
              "    border-color: transparent;\n",
              "    border-bottom-color: var(--fill-color);\n",
              "    animation:\n",
              "      spin 1s steps(1) infinite;\n",
              "  }\n",
              "\n",
              "  @keyframes spin {\n",
              "    0% {\n",
              "      border-color: transparent;\n",
              "      border-bottom-color: var(--fill-color);\n",
              "      border-left-color: var(--fill-color);\n",
              "    }\n",
              "    20% {\n",
              "      border-color: transparent;\n",
              "      border-left-color: var(--fill-color);\n",
              "      border-top-color: var(--fill-color);\n",
              "    }\n",
              "    30% {\n",
              "      border-color: transparent;\n",
              "      border-left-color: var(--fill-color);\n",
              "      border-top-color: var(--fill-color);\n",
              "      border-right-color: var(--fill-color);\n",
              "    }\n",
              "    40% {\n",
              "      border-color: transparent;\n",
              "      border-right-color: var(--fill-color);\n",
              "      border-top-color: var(--fill-color);\n",
              "    }\n",
              "    60% {\n",
              "      border-color: transparent;\n",
              "      border-right-color: var(--fill-color);\n",
              "    }\n",
              "    80% {\n",
              "      border-color: transparent;\n",
              "      border-right-color: var(--fill-color);\n",
              "      border-bottom-color: var(--fill-color);\n",
              "    }\n",
              "    90% {\n",
              "      border-color: transparent;\n",
              "      border-bottom-color: var(--fill-color);\n",
              "    }\n",
              "  }\n",
              "</style>\n",
              "\n",
              "  <script>\n",
              "    async function quickchart(key) {\n",
              "      const quickchartButtonEl =\n",
              "        document.querySelector('#' + key + ' button');\n",
              "      quickchartButtonEl.disabled = true;  // To prevent multiple clicks.\n",
              "      quickchartButtonEl.classList.add('colab-df-spinner');\n",
              "      try {\n",
              "        const charts = await google.colab.kernel.invokeFunction(\n",
              "            'suggestCharts', [key], {});\n",
              "      } catch (error) {\n",
              "        console.error('Error during call to suggestCharts:', error);\n",
              "      }\n",
              "      quickchartButtonEl.classList.remove('colab-df-spinner');\n",
              "      quickchartButtonEl.classList.add('colab-df-quickchart-complete');\n",
              "    }\n",
              "    (() => {\n",
              "      let quickchartButtonEl =\n",
              "        document.querySelector('#df-8eb07220-02b0-4ea0-91f3-fae6995244ed button');\n",
              "      quickchartButtonEl.style.display =\n",
              "        google.colab.kernel.accessAllowed ? 'block' : 'none';\n",
              "    })();\n",
              "  </script>\n",
              "</div>\n",
              "    </div>\n",
              "  </div>\n"
            ],
            "text/plain": [
              "                                                text  label\n",
              "0  Wall St. Bears Claw Back Into the Black (Reute...      2\n",
              "1  Carlyle Looks Toward Commercial Aerospace (Reu...      2\n",
              "2  Oil and Economy Cloud Stocks' Outlook (Reuters...      2\n",
              "3  Iraq Halts Oil Exports from Main Southern Pipe...      2\n",
              "4  Oil prices soar to all-time record, posing new...      2"
            ]
          },
          "execution_count": 10,
          "metadata": {},
          "output_type": "execute_result"
        }
      ],
      "source": [
        "_df.head()"
      ]
    },
    {
      "cell_type": "markdown",
      "metadata": {
        "id": "NAO-IYK46E9o"
      },
      "source": [
        "Ensure your dataframe passes these checks"
      ]
    },
    {
      "cell_type": "code",
      "execution_count": 11,
      "metadata": {
        "id": "WbqzhUx_6E9o"
      },
      "outputs": [],
      "source": [
        "assert len(set(_df.index)) == len(_df)\n",
        "assert \"text\" in _df.columns\n",
        "assert \"label\" in _df.columns"
      ]
    },
    {
      "cell_type": "code",
      "execution_count": 12,
      "metadata": {
        "id": "TuF8Wpf66E9p"
      },
      "outputs": [],
      "source": [
        "_df[\"text\"] = _df[\"text\"].astype(str)\n",
        "_df[\"label\"] = _df[\"label\"].astype(int)"
      ]
    },
    {
      "cell_type": "code",
      "execution_count": 13,
      "metadata": {
        "colab": {
          "base_uri": "https://localhost:8080/"
        },
        "id": "AlOIxn66bGMm",
        "outputId": "2b9e7559-88f4-4a06-a8db-c3ecdcb31c5c"
      },
      "outputs": [
        {
          "data": {
            "text/plain": [
              "120000"
            ]
          },
          "execution_count": 13,
          "metadata": {},
          "output_type": "execute_result"
        }
      ],
      "source": [
        "len(_df)"
      ]
    },
    {
      "cell_type": "markdown",
      "metadata": {
        "id": "V7-ldgr0EJQb"
      },
      "source": [
        "We don't need that much data to compare methods. We'll (stratify) sample a couple hundred of them."
      ]
    },
    {
      "cell_type": "code",
      "execution_count": 14,
      "metadata": {
        "colab": {
          "base_uri": "https://localhost:8080/"
        },
        "id": "8UYnBCHtbGNH",
        "outputId": "699a44a2-15a8-4a82-daaf-1e79a9d1fac7"
      },
      "outputs": [
        {
          "data": {
            "text/plain": [
              "0    0.25\n",
              "1    0.25\n",
              "2    0.25\n",
              "3    0.25\n",
              "Name: label, dtype: float64"
            ]
          },
          "execution_count": 14,
          "metadata": {},
          "output_type": "execute_result"
        }
      ],
      "source": [
        "_df[\"label\"].value_counts(normalize=True).sort_index()"
      ]
    },
    {
      "cell_type": "markdown",
      "metadata": {
        "id": "d7YkpFoz6E9r"
      },
      "source": [
        "Is the default context, 512, sufficient? Let's see how many characters (not tokens)\n",
        "there are in this dataset."
      ]
    },
    {
      "cell_type": "code",
      "execution_count": 15,
      "metadata": {
        "colab": {
          "base_uri": "https://localhost:8080/"
        },
        "id": "LyMUcrlH6E9r",
        "outputId": "7ffac6ed-5504-4d0b-ef5c-c25b09291b74"
      },
      "outputs": [
        {
          "data": {
            "text/plain": [
              "count    120000.000000\n",
              "mean        236.477525\n",
              "std          66.509741\n",
              "min         100.000000\n",
              "25%         196.000000\n",
              "50%         232.000000\n",
              "75%         266.000000\n",
              "max        1012.000000\n",
              "Name: text, dtype: float64"
            ]
          },
          "execution_count": 15,
          "metadata": {},
          "output_type": "execute_result"
        }
      ],
      "source": [
        "_df[\"text\"].str.len().describe()"
      ]
    },
    {
      "cell_type": "code",
      "execution_count": 16,
      "metadata": {
        "id": "O0je-oIO6E9r"
      },
      "outputs": [],
      "source": [
        "def stratified_sample(\n",
        "    df: pd.DataFrame, sample_size: int, random_state: int = None\n",
        ") -> pd.DataFrame:\n",
        "    # let's not worry about not exactly returning a df w/ size sample_size for\n",
        "    # now. it's nbd for this experiment\n",
        "    num_labels = len(set(df[\"label\"]))\n",
        "    num_obs_per_label = int(sample_size / num_labels)\n",
        "\n",
        "    def label_sampler(df_label: pd.DataFrame) -> pd.DataFrame:\n",
        "        return df_label.sample(num_obs_per_label, random_state=random_state)\n",
        "\n",
        "    return df.groupby(\"label\", group_keys=False).apply(label_sampler)"
      ]
    },
    {
      "cell_type": "code",
      "execution_count": 17,
      "metadata": {
        "id": "7sPJENiKBQVt"
      },
      "outputs": [],
      "source": [
        "sample_size = 500\n",
        "random_state = 123"
      ]
    },
    {
      "cell_type": "code",
      "execution_count": 18,
      "metadata": {
        "id": "fE5MwarY6E9r"
      },
      "outputs": [],
      "source": [
        "df = stratified_sample(_df, sample_size=sample_size, random_state=random_state)\n",
        "df = df.reset_index(drop=True)"
      ]
    },
    {
      "cell_type": "code",
      "execution_count": 19,
      "metadata": {
        "colab": {
          "base_uri": "https://localhost:8080/"
        },
        "id": "SZAyTEO_DsYB",
        "outputId": "cf2af3ad-553a-468b-8eeb-6177a470e022"
      },
      "outputs": [
        {
          "data": {
            "text/plain": [
              "0    0.25\n",
              "1    0.25\n",
              "2    0.25\n",
              "3    0.25\n",
              "Name: label, dtype: float64"
            ]
          },
          "execution_count": 19,
          "metadata": {},
          "output_type": "execute_result"
        }
      ],
      "source": [
        "df[\"label\"].value_counts(normalize=True).sort_index()"
      ]
    },
    {
      "cell_type": "code",
      "execution_count": 20,
      "metadata": {
        "id": "jsnZuCft-XNH"
      },
      "outputs": [],
      "source": [
        "news_categories = (\"world\", \"sports\", \"business\", \"science\")"
      ]
    },
    {
      "cell_type": "code",
      "execution_count": 21,
      "metadata": {
        "id": "tPePXRDPBctp"
      },
      "outputs": [],
      "source": [
        "llama_chat_template = \"\"\"\n",
        "<s>[INST] <<SYS>>\n",
        "{system_prompt}\n",
        "<</SYS>>\n",
        "\n",
        "{user_message} [/INST]\n",
        "\"\"\".lstrip(\n",
        "    \"\\n\"\n",
        ")"
      ]
    },
    {
      "cell_type": "markdown",
      "metadata": {
        "id": "qgNUWO0ZbGNv"
      },
      "source": [
        "# Text generation"
      ]
    },
    {
      "cell_type": "markdown",
      "metadata": {
        "id": "a9TCyBTxGsZt"
      },
      "source": [
        "This prompt is the best I could do."
      ]
    },
    {
      "cell_type": "code",
      "execution_count": 22,
      "metadata": {
        "colab": {
          "base_uri": "https://localhost:8080/"
        },
        "id": "7RUrWpZNbGN1",
        "outputId": "34facc40-37d6-4055-90ba-123c66c8b39a"
      },
      "outputs": [
        {
          "name": "stdout",
          "output_type": "stream",
          "text": [
            "<s>[INST] <<SYS>>\n",
            "Identify the news topic which the text belongs to. The news topics are: world, sports, business, and science. Respond only with the correct topic.\n",
            "<</SYS>>\n",
            "\n",
            "The following text was taken from a news article:\n",
            "\"8 Slashed to Death in Chinese High School The unexplained attack is the latest and most serious in a series of such knifings that have alarmed the Chinese public and led police to reinforce security at schools and day-care centers.\"\n",
            "\n",
            "Identify the topic which the text belongs to. [/INST]\n",
            "\n"
          ]
        }
      ],
      "source": [
        "system_prompt_chat = (\n",
        "    \"Identify the news topic which the text belongs to. The news topics are: \"\n",
        "    \"world, sports, business, and science. \"\n",
        "    \"Respond only with the correct topic.\"\n",
        ")\n",
        "\n",
        "def prompt_chat(text: str):\n",
        "    return (\n",
        "        f'The following text was taken from a news article:\\n\"{text}\"\\n\\n'\n",
        "        \"Identify the topic which the text belongs to.\"\n",
        "    )\n",
        "\n",
        "df[\"prompt_chat\"] = [\n",
        "    llama_chat_template.format(\n",
        "        system_prompt=system_prompt_chat,\n",
        "        user_message=prompt_chat(text)\n",
        "    )\n",
        "    for text in df[\"text\"]\n",
        "]\n",
        "\n",
        "print(df[\"prompt_chat\"].iloc[0])"
      ]
    },
    {
      "cell_type": "markdown",
      "metadata": {
        "id": "_OaEEYAbrVf7"
      },
      "source": [
        "Generate completions"
      ]
    },
    {
      "cell_type": "code",
      "execution_count": null,
      "metadata": {
        "id": "V1J5uu1wjGsH"
      },
      "outputs": [],
      "source": [
        "model.reset()\n",
        "completions = []\n",
        "for _prompt in tqdm(df[\"prompt_chat\"], total=len(df), desc=\"Sampling\"):\n",
        "    response = model(_prompt, max_tokens=20, temperature=0)\n",
        "    completion = response[\"choices\"][0][\"text\"]\n",
        "    completions.append(completion)"
      ]
    },
    {
      "cell_type": "markdown",
      "metadata": {
        "id": "EUziWyvGISQj"
      },
      "source": [
        "Inspect completions"
      ]
    },
    {
      "cell_type": "code",
      "execution_count": 24,
      "metadata": {
        "colab": {
          "base_uri": "https://localhost:8080/"
        },
        "id": "oMtKqqdPlggb",
        "outputId": "0842cf8c-4aca-4e2d-ec82-47f4db349917"
      },
      "outputs": [
        {
          "data": {
            "text/plain": [
              "65                                                 World\n",
              "153              The text belongs to the \"sports\" topic.\n",
              "282                                             Business\n",
              "98     The text belongs to the topic of \"arts\" or \"li...\n",
              "163              The text belongs to the \"sports\" topic.\n",
              "339                                             Business\n",
              "271                                             Business\n",
              "229                                                World\n",
              "101               The text belongs to the \"world\" topic.\n",
              "165           The text belongs to the topic of \"Sports\".\n",
              "dtype: object"
            ]
          },
          "execution_count": 24,
          "metadata": {},
          "output_type": "execute_result"
        }
      ],
      "source": [
        "pd.Series(completions).sample(10)"
      ]
    },
    {
      "cell_type": "markdown",
      "metadata": {
        "id": "izyq3REq7w84"
      },
      "source": [
        "When you're doing text generation, you often have to write this sort of data-dependent and model-dependent function. For this prompt and the AG news task, it's pretty trivial."
      ]
    },
    {
      "cell_type": "code",
      "execution_count": 25,
      "metadata": {
        "id": "NR4DkFgm4KhJ"
      },
      "outputs": [],
      "source": [
        "def process_completion(\n",
        "    completion: str,\n",
        "    class_names: Sequence[str],\n",
        "    default=-1,\n",
        ") -> int:\n",
        "    for i, name in enumerate(class_names):\n",
        "        if name in completion.lower():\n",
        "            return i\n",
        "    return default"
      ]
    },
    {
      "cell_type": "code",
      "execution_count": 26,
      "metadata": {
        "id": "9UnausK74XjN"
      },
      "outputs": [],
      "source": [
        "preds_text_gen = pd.Series([\n",
        "    process_completion(completion, news_categories)\n",
        "    for completion in completions\n",
        "])"
      ]
    },
    {
      "cell_type": "markdown",
      "metadata": {
        "id": "SA-Mxvf841lv"
      },
      "source": [
        "How many of the completions could be mapped to a label?"
      ]
    },
    {
      "cell_type": "code",
      "execution_count": 27,
      "metadata": {
        "colab": {
          "base_uri": "https://localhost:8080/"
        },
        "id": "Sua4kuar4bAJ",
        "outputId": "f040b2bb-001f-4459-f864-b49e48cd3973"
      },
      "outputs": [
        {
          "data": {
            "text/plain": [
              "0.954"
            ]
          },
          "execution_count": 27,
          "metadata": {},
          "output_type": "execute_result"
        }
      ],
      "source": [
        "(preds_text_gen != -1).mean()"
      ]
    },
    {
      "cell_type": "markdown",
      "metadata": {
        "id": "N9SYb7poB1xt"
      },
      "source": [
        "What do invalid completions look like?"
      ]
    },
    {
      "cell_type": "code",
      "execution_count": 28,
      "metadata": {
        "colab": {
          "base_uri": "https://localhost:8080/"
        },
        "id": "vBST78rwB3Mj",
        "outputId": "23f1239c-6c52-4e39-d143-71ca572b64d5"
      },
      "outputs": [
        {
          "data": {
            "text/plain": [
              "['The text belongs to the \"crime\" or \"law enforcement\" topic.',\n",
              " 'The text belongs to the \"Politics\" or \"Elections\" topic.',\n",
              " 'The text belongs to the \"crime\" or \"law enforcement\" topic.',\n",
              " 'The text belongs to the topic of \"Politics\" or more specifically, \"Government',\n",
              " 'The text belongs to the topic of \"Politics\" or more specifically, \"Mexican',\n",
              " 'The text belongs to the topic of \"Politics\" or more specifically \"Government\".',\n",
              " 'The text belongs to the \"Politics\" or \"Government\" topic.',\n",
              " 'The text belongs to the topic of \"Politics\" or more specifically, \"Government',\n",
              " 'The text belongs to the \"religion\" topic.',\n",
              " 'The text belongs to the topic of \"India News\".',\n",
              " 'The text belongs to the topic of \"Politics\" or more specifically \"British Polit',\n",
              " 'The text belongs to the topic of \"Politics\" or more specifically, \"Government',\n",
              " 'The text belongs to the topic of \"Politics\" or specifically \"US Politics\".',\n",
              " 'The text belongs to the topic of \"history\".',\n",
              " 'The text belongs to the topic of \"arts\" or \"literature\", specifically the Nobel Prize for',\n",
              " 'The text belongs to the topic of \"Politics\" or more specifically \"Elections\".',\n",
              " 'The text belongs to the topic of \"Politics\".',\n",
              " 'The text belongs to the topic of \"Politics\" or more specifically \"Government\".',\n",
              " 'The text belongs to the topic of \"Entertainment\" or more specifically \"Media and Entertainment\".',\n",
              " 'The text belongs to the topic of \"Personal Tech\".',\n",
              " 'The text belongs to the topic of \"Entertainment\" or more specifically, \"Music\".',\n",
              " 'The text belongs to the topic of \"Entertainment\" or more specifically, \"Movies',\n",
              " 'The text belongs to the topic of \"Politics\".']"
            ]
          },
          "execution_count": 28,
          "metadata": {},
          "output_type": "execute_result"
        }
      ],
      "source": [
        "pd.Series(completions)[preds_text_gen == -1].tolist()"
      ]
    },
    {
      "cell_type": "markdown",
      "metadata": {
        "id": "7oJHEEg2HT-K"
      },
      "source": [
        "I don't think improving `process_completion` is the way to go—that seems too tricky. For\n",
        "a fairer comparison, assume these get always mapped to one of the choices. It's more\n",
        "fair to apply a string distance match or a similarity search from a small similarity\n",
        "model. Those solutions are kinda annoying and complicated. For now I'm just gonna map it to the\n",
        "most common class. That's more optimistic than mapping them uniformly-at-random."
      ]
    },
    {
      "cell_type": "code",
      "execution_count": 29,
      "metadata": {
        "colab": {
          "base_uri": "https://localhost:8080/"
        },
        "id": "njBpPwB3EmSI",
        "outputId": "42bfe9c8-d435-4be7-d063-bb0df69111ef"
      },
      "outputs": [
        {
          "data": {
            "text/plain": [
              "0"
            ]
          },
          "execution_count": 29,
          "metadata": {},
          "output_type": "execute_result"
        }
      ],
      "source": [
        "most_common_label = (\n",
        "    df[\"label\"].value_counts(normalize=True, ascending=False).index[0]\n",
        ")\n",
        "most_common_label"
      ]
    },
    {
      "cell_type": "code",
      "execution_count": 30,
      "metadata": {
        "id": "6-iMV_9yEjI4"
      },
      "outputs": [],
      "source": [
        "preds_text_gen_imputed = preds_text_gen.copy()\n",
        "preds_text_gen_imputed[preds_text_gen_imputed == -1] = most_common_label"
      ]
    },
    {
      "cell_type": "markdown",
      "metadata": {
        "id": "HwBK97kYAuqi"
      },
      "source": [
        "How accurate are the predictions?"
      ]
    },
    {
      "cell_type": "code",
      "execution_count": 31,
      "metadata": {
        "colab": {
          "base_uri": "https://localhost:8080/"
        },
        "id": "zsMAayo04gWC",
        "outputId": "b1b51289-f3f1-444c-d5f9-fe0daaa09d68"
      },
      "outputs": [
        {
          "data": {
            "text/plain": [
              "0.718"
            ]
          },
          "execution_count": 31,
          "metadata": {},
          "output_type": "execute_result"
        }
      ],
      "source": [
        "(preds_text_gen_imputed == df['label']).mean()"
      ]
    },
    {
      "cell_type": "markdown",
      "metadata": {
        "id": "oBi3m4QnAIG0"
      },
      "source": [
        "# Text generation (Multiple Choice)"
      ]
    },
    {
      "cell_type": "markdown",
      "metadata": {
        "id": "7hl-KVY1Hneg"
      },
      "source": [
        "This Llama 2 isn't great with multiple choice, but figured I'd try it anyway. This prompt is the best I could do."
      ]
    },
    {
      "cell_type": "code",
      "execution_count": 32,
      "metadata": {
        "colab": {
          "base_uri": "https://localhost:8080/"
        },
        "id": "y9bJ5KEeAJq6",
        "outputId": "2109639d-5b95-40c1-d9e0-d94352e0d14d"
      },
      "outputs": [
        {
          "name": "stdout",
          "output_type": "stream",
          "text": [
            "<s>[INST] <<SYS>>\n",
            "Identify the news topic which the text belongs to. The news categories are: world, sports, business, and science. Each topic is identified by a letter: A, B, C, or D, respectively.\n",
            "Respond only with the letter corresponding to the correct news topic.\n",
            "<</SYS>>\n",
            "\n",
            "The following text was taken from a news article:\n",
            "\"8 Slashed to Death in Chinese High School The unexplained attack is the latest and most serious in a series of such knifings that have alarmed the Chinese public and led police to reinforce security at schools and day-care centers.\"\n",
            "\n",
            "Identify the news topic which the text belongs to:\n",
            "A. world\n",
            "B. sports\n",
            "C. business\n",
            "D. science\n",
            "\n",
            "Answer A, B, C, or D. [/INST]\n",
            "\n"
          ]
        }
      ],
      "source": [
        "def multiple_choice(*choices) -> str:\n",
        "    if len(choices) > len(alphabet):\n",
        "        raise ValueError(\"There are more choices than letters.\")\n",
        "    letters_and_choices = [\n",
        "        f\"{letter}. {choice}\" for letter, choice in zip(alphabet, choices)\n",
        "    ]\n",
        "    return \"\\n\".join(letters_and_choices)\n",
        "\n",
        "\n",
        "def prompt_mc(text: str):\n",
        "    mc = multiple_choice(*news_categories)\n",
        "    return (\n",
        "        f'The following text was taken from a news article:\\n\"{text}\"\\n\\n'\n",
        "        \"Identify the news topic which the text belongs to:\\n\"\n",
        "        f\"{mc}\\n\\n\"\n",
        "        \"Answer A, B, C, or D.\"\n",
        "    )\n",
        "\n",
        "system_prompt_mc = (\n",
        "    \"Identify the news topic which the text belongs to. The news categories are: \"\n",
        "    \"world, sports, business, and science. Each topic is identified by a letter: \"\n",
        "    \"A, B, C, or D, respectively.\\n\"\n",
        "    \"Respond only with the letter corresponding to the correct news topic.\"\n",
        ")\n",
        "\n",
        "df[\"prompt_chat_mc\"] = [\n",
        "    llama_chat_template.format(\n",
        "        system_prompt=system_prompt_mc,\n",
        "        user_message=prompt_mc(text),\n",
        "    )\n",
        "    for text in df[\"text\"]\n",
        "]\n",
        "\n",
        "print(df[\"prompt_chat_mc\"].iloc[0])"
      ]
    },
    {
      "cell_type": "code",
      "execution_count": null,
      "metadata": {
        "id": "hhRduSRIBGLD"
      },
      "outputs": [],
      "source": [
        "model.reset()\n",
        "completions_mc = []\n",
        "for _prompt in tqdm(df[\"prompt_chat_mc\"], total=len(df), desc=\"Sampling\"):\n",
        "    response = model(_prompt, max_tokens=15, temperature=0)\n",
        "    completion_mc = response[\"choices\"][0][\"text\"]\n",
        "    completions_mc.append(completion_mc)"
      ]
    },
    {
      "cell_type": "code",
      "execution_count": 34,
      "metadata": {
        "colab": {
          "base_uri": "https://localhost:8080/"
        },
        "id": "tX_tUWpVJuah",
        "outputId": "707572f7-09ba-4e6e-e808-470bb3460feb"
      },
      "outputs": [
        {
          "data": {
            "text/plain": [
              "153    The text belongs to the news topic of \"sports\"...\n",
              "70     The news topic that the text belongs to is:\\nD...\n",
              "290    The news topic that the text belongs to is:\\nD...\n",
              "288    The news topic that the text belongs to is:\\nA...\n",
              "193    The text belongs to the news topic \"world\". Th...\n",
              "483    The text belongs to the news topic of \"busines...\n",
              "380    The text belongs to the news topic of Business...\n",
              "301    The text belongs to the news topic of \"D. scie...\n",
              "332    The text belongs to the news topic of \"busines...\n",
              "28     The text belongs to the news topic \"world\". Th...\n",
              "dtype: object"
            ]
          },
          "execution_count": 34,
          "metadata": {},
          "output_type": "execute_result"
        }
      ],
      "source": [
        "pd.Series(completions_mc).sample(10)"
      ]
    },
    {
      "cell_type": "code",
      "execution_count": 35,
      "metadata": {
        "id": "6HskBdr7A71w"
      },
      "outputs": [],
      "source": [
        "def process_completion_mc(\n",
        "    completion: str,\n",
        "    class_chars: Sequence[str],\n",
        "    class_names: Sequence[str],\n",
        "    default=-1,\n",
        ") -> int:\n",
        "    for i, name in enumerate(class_names):\n",
        "        if name in completion.lower():\n",
        "            return i\n",
        "    for i, char in enumerate(class_chars):\n",
        "        if char in completion:\n",
        "            return i\n",
        "    return default"
      ]
    },
    {
      "cell_type": "code",
      "execution_count": 36,
      "metadata": {
        "id": "ztbXvVPvCa2F"
      },
      "outputs": [],
      "source": [
        "class_chars = alphabet[:len(news_categories)]  # uppercased\n",
        "preds_text_gen_mc = [\n",
        "    process_completion_mc(\n",
        "        completion_mc,\n",
        "        class_chars=class_chars,\n",
        "        class_names=news_categories\n",
        "    )\n",
        "    for completion_mc in completions_mc\n",
        "]"
      ]
    },
    {
      "cell_type": "markdown",
      "metadata": {
        "id": "7X7UzcfsDMsG"
      },
      "source": [
        "How many of the sampled completions could be mapped to a label?"
      ]
    },
    {
      "cell_type": "code",
      "execution_count": 37,
      "metadata": {
        "colab": {
          "base_uri": "https://localhost:8080/"
        },
        "id": "2HgujpcCDNAm",
        "outputId": "7cb95def-1a57-4b51-8b3d-9bf580baed22"
      },
      "outputs": [
        {
          "data": {
            "text/plain": [
              "0.996"
            ]
          },
          "execution_count": 37,
          "metadata": {},
          "output_type": "execute_result"
        }
      ],
      "source": [
        "(pd.Series(preds_text_gen_mc) != -1).mean()"
      ]
    },
    {
      "cell_type": "markdown",
      "metadata": {
        "id": "43zUjdH5LK-y"
      },
      "source": [
        "Accuracy:"
      ]
    },
    {
      "cell_type": "code",
      "execution_count": 38,
      "metadata": {
        "colab": {
          "base_uri": "https://localhost:8080/"
        },
        "id": "JqjrTdh5C3RQ",
        "outputId": "cba5cbd6-7905-4dcb-8f1c-7c1e3c342052"
      },
      "outputs": [
        {
          "data": {
            "text/plain": [
              "0.616"
            ]
          },
          "execution_count": 38,
          "metadata": {},
          "output_type": "execute_result"
        }
      ],
      "source": [
        "(preds_text_gen_mc == df[\"label\"]).mean()"
      ]
    },
    {
      "cell_type": "markdown",
      "metadata": {
        "id": "wHgGqHrKbGNe"
      },
      "source": [
        "# CAPPr"
      ]
    },
    {
      "cell_type": "markdown",
      "metadata": {
        "id": "nmK0o8kSFhMH"
      },
      "source": [
        "We'll cache the set of instructions which are universal to all prompts."
      ]
    },
    {
      "cell_type": "code",
      "execution_count": 39,
      "metadata": {
        "id": "vtwoUC7XxRBy"
      },
      "outputs": [],
      "source": [
        "prompt_prefix = (\n",
        "    \"Every news article can be categorized as either world, sports, business, or \"\n",
        "    \"science.\\n\"\n",
        "    \"The following text was taken from a news article:\"\n",
        ")"
      ]
    },
    {
      "cell_type": "code",
      "execution_count": 40,
      "metadata": {
        "id": "yI3VoPvq6E90"
      },
      "outputs": [],
      "source": [
        "def prompt(text: str):\n",
        "    return (\n",
        "        f'\\n\"{text}\"\\n\\n'\n",
        "        \"The topic which the text belongs to is\"\n",
        "    )"
      ]
    },
    {
      "cell_type": "code",
      "execution_count": 41,
      "metadata": {
        "id": "CMDfwSnx6E90"
      },
      "outputs": [],
      "source": [
        "df[\"prompt\"] = [prompt(text) for text in df[\"text\"]]"
      ]
    },
    {
      "cell_type": "markdown",
      "metadata": {
        "id": "gUQ4g3KJFnfw"
      },
      "source": [
        "This string is what the model will see:"
      ]
    },
    {
      "cell_type": "code",
      "execution_count": 42,
      "metadata": {
        "colab": {
          "base_uri": "https://localhost:8080/"
        },
        "id": "N6wkJ0Jjxrq0",
        "outputId": "f264e269-4b2e-478a-da94-fe91a117162f"
      },
      "outputs": [
        {
          "name": "stdout",
          "output_type": "stream",
          "text": [
            "Every news article can be categorized as either world, sports, business, or science.\n",
            "The following text was taken from a news article:\n",
            "\"8 Slashed to Death in Chinese High School The unexplained attack is the latest and most serious in a series of such knifings that have alarmed the Chinese public and led police to reinforce security at schools and day-care centers.\"\n",
            "\n",
            "The topic which the text belongs to is\n"
          ]
        }
      ],
      "source": [
        "print(prompt_prefix + df[\"prompt\"].iloc[0])"
      ]
    },
    {
      "cell_type": "code",
      "execution_count": 43,
      "metadata": {
        "colab": {
          "base_uri": "https://localhost:8080/",
          "height": 49,
          "referenced_widgets": [
            "ccf993589a8041e89d20b0bd8054d2c6",
            "406b9dd03ac34e30b671608d81c48716",
            "4e4f50c07cb0408489820cd936124fe8",
            "5823c54c9a934d4cbab3e4e4201f5ca6",
            "904482868b484729806d7e78deb13dd5",
            "19f6d4bb5bfe4030895054db9e28ae73",
            "d9df5503cee7451b9986dfe03dd8178b",
            "d7d205cd64e14a65b0fffbf01d498932",
            "1f1ab865161f4b2cbf0e1b3c0a9836f0",
            "ba13dca843fb40d7b1c5b3ba1f4b8afd",
            "5c9b64065bdc40e3863a79836f8d8f73"
          ]
        },
        "id": "2mMYomd06E91",
        "outputId": "ab0f9c5c-cebd-43ed-90fc-fd28e67fe3b4"
      },
      "outputs": [
        {
          "data": {
            "application/vnd.jupyter.widget-view+json": {
              "model_id": "ccf993589a8041e89d20b0bd8054d2c6",
              "version_major": 2,
              "version_minor": 0
            },
            "text/plain": [
              "conditional log-probs:   0%|          | 0/500 [00:00<?, ?it/s]"
            ]
          },
          "metadata": {},
          "output_type": "display_data"
        }
      ],
      "source": [
        "with classify.cache(model, prompt_prefix):\n",
        "    pred_probs = classify.predict_proba(\n",
        "        prompts=df[\"prompt\"],\n",
        "        completions=news_categories,\n",
        "        model=model,\n",
        "        reset_model=False,\n",
        "    )"
      ]
    },
    {
      "cell_type": "code",
      "execution_count": 44,
      "metadata": {
        "colab": {
          "base_uri": "https://localhost:8080/"
        },
        "id": "QVxgmQkwbGNr",
        "outputId": "3a672575-8852-46ad-96d7-100fa30d20ee"
      },
      "outputs": [
        {
          "data": {
            "text/plain": [
              "0.762"
            ]
          },
          "execution_count": 44,
          "metadata": {},
          "output_type": "execute_result"
        }
      ],
      "source": [
        "(pred_probs.argmax(axis=1) == df[\"label\"]).mean()"
      ]
    }
  ],
  "metadata": {
    "accelerator": "GPU",
    "colab": {
      "gpuType": "T4",
      "provenance": [],
      "toc_visible": true
    },
    "kernelspec": {
      "display_name": "Python 3",
      "name": "python3"
    },
    "language_info": {
      "codemirror_mode": {
        "name": "ipython",
        "version": 3
      },
      "file_extension": ".py",
      "mimetype": "text/x-python",
      "name": "python",
      "nbconvert_exporter": "python",
      "pygments_lexer": "ipython3",
      "version": "3.11.5"
    },
    "orig_nbformat": 4,
    "vscode": {
      "interpreter": {
        "hash": "68daa88f78f5c448099edb3a6d3dee27486a6add8824ae1cbe4c903ef8faec70"
      }
    },
    "widgets": {
      "application/vnd.jupyter.widget-state+json": {
        "0f4ae76a698b402eb140870f21376759": {
          "model_module": "@jupyter-widgets/controls",
          "model_module_version": "1.5.0",
          "model_name": "HTMLModel",
          "state": {
            "_dom_classes": [],
            "_model_module": "@jupyter-widgets/controls",
            "_model_module_version": "1.5.0",
            "_model_name": "HTMLModel",
            "_view_count": null,
            "_view_module": "@jupyter-widgets/controls",
            "_view_module_version": "1.5.0",
            "_view_name": "HTMLView",
            "description": "",
            "description_tooltip": null,
            "layout": "IPY_MODEL_12c9221eadab4acf888895b5e0f887a9",
            "placeholder": "​",
            "style": "IPY_MODEL_9096eafc00204905b196fa8779d8c34f",
            "value": ""
          }
        },
        "12c9221eadab4acf888895b5e0f887a9": {
          "model_module": "@jupyter-widgets/base",
          "model_module_version": "1.2.0",
          "model_name": "LayoutModel",
          "state": {
            "_model_module": "@jupyter-widgets/base",
            "_model_module_version": "1.2.0",
            "_model_name": "LayoutModel",
            "_view_count": null,
            "_view_module": "@jupyter-widgets/base",
            "_view_module_version": "1.2.0",
            "_view_name": "LayoutView",
            "align_content": null,
            "align_items": null,
            "align_self": null,
            "border": null,
            "bottom": null,
            "display": null,
            "flex": null,
            "flex_flow": null,
            "grid_area": null,
            "grid_auto_columns": null,
            "grid_auto_flow": null,
            "grid_auto_rows": null,
            "grid_column": null,
            "grid_gap": null,
            "grid_row": null,
            "grid_template_areas": null,
            "grid_template_columns": null,
            "grid_template_rows": null,
            "height": null,
            "justify_content": null,
            "justify_items": null,
            "left": null,
            "margin": null,
            "max_height": null,
            "max_width": null,
            "min_height": null,
            "min_width": null,
            "object_fit": null,
            "object_position": null,
            "order": null,
            "overflow": null,
            "overflow_x": null,
            "overflow_y": null,
            "padding": null,
            "right": null,
            "top": null,
            "visibility": null,
            "width": null
          }
        },
        "15559ea5a1e742569c24cf0a0e186d13": {
          "model_module": "@jupyter-widgets/controls",
          "model_module_version": "1.5.0",
          "model_name": "DescriptionStyleModel",
          "state": {
            "_model_module": "@jupyter-widgets/controls",
            "_model_module_version": "1.5.0",
            "_model_name": "DescriptionStyleModel",
            "_view_count": null,
            "_view_module": "@jupyter-widgets/base",
            "_view_module_version": "1.2.0",
            "_view_name": "StyleView",
            "description_width": ""
          }
        },
        "19f6d4bb5bfe4030895054db9e28ae73": {
          "model_module": "@jupyter-widgets/base",
          "model_module_version": "1.2.0",
          "model_name": "LayoutModel",
          "state": {
            "_model_module": "@jupyter-widgets/base",
            "_model_module_version": "1.2.0",
            "_model_name": "LayoutModel",
            "_view_count": null,
            "_view_module": "@jupyter-widgets/base",
            "_view_module_version": "1.2.0",
            "_view_name": "LayoutView",
            "align_content": null,
            "align_items": null,
            "align_self": null,
            "border": null,
            "bottom": null,
            "display": null,
            "flex": null,
            "flex_flow": null,
            "grid_area": null,
            "grid_auto_columns": null,
            "grid_auto_flow": null,
            "grid_auto_rows": null,
            "grid_column": null,
            "grid_gap": null,
            "grid_row": null,
            "grid_template_areas": null,
            "grid_template_columns": null,
            "grid_template_rows": null,
            "height": null,
            "justify_content": null,
            "justify_items": null,
            "left": null,
            "margin": null,
            "max_height": null,
            "max_width": null,
            "min_height": null,
            "min_width": null,
            "object_fit": null,
            "object_position": null,
            "order": null,
            "overflow": null,
            "overflow_x": null,
            "overflow_y": null,
            "padding": null,
            "right": null,
            "top": null,
            "visibility": null,
            "width": null
          }
        },
        "1f1ab865161f4b2cbf0e1b3c0a9836f0": {
          "model_module": "@jupyter-widgets/controls",
          "model_module_version": "1.5.0",
          "model_name": "ProgressStyleModel",
          "state": {
            "_model_module": "@jupyter-widgets/controls",
            "_model_module_version": "1.5.0",
            "_model_name": "ProgressStyleModel",
            "_view_count": null,
            "_view_module": "@jupyter-widgets/base",
            "_view_module_version": "1.2.0",
            "_view_name": "StyleView",
            "bar_color": null,
            "description_width": ""
          }
        },
        "2fc578aaab464940bf78d84b2b6364e8": {
          "model_module": "@jupyter-widgets/controls",
          "model_module_version": "1.5.0",
          "model_name": "FloatProgressModel",
          "state": {
            "_dom_classes": [],
            "_model_module": "@jupyter-widgets/controls",
            "_model_module_version": "1.5.0",
            "_model_name": "FloatProgressModel",
            "_view_count": null,
            "_view_module": "@jupyter-widgets/controls",
            "_view_module_version": "1.5.0",
            "_view_name": "ProgressView",
            "bar_style": "success",
            "description": "",
            "description_tooltip": null,
            "layout": "IPY_MODEL_ac05ea431bb74fa693cb9665544a6783",
            "max": 1,
            "min": 0,
            "orientation": "horizontal",
            "style": "IPY_MODEL_621593b24cdb4928a4d61e3f1ba77e69",
            "value": 0
          }
        },
        "406b9dd03ac34e30b671608d81c48716": {
          "model_module": "@jupyter-widgets/controls",
          "model_module_version": "1.5.0",
          "model_name": "HTMLModel",
          "state": {
            "_dom_classes": [],
            "_model_module": "@jupyter-widgets/controls",
            "_model_module_version": "1.5.0",
            "_model_name": "HTMLModel",
            "_view_count": null,
            "_view_module": "@jupyter-widgets/controls",
            "_view_module_version": "1.5.0",
            "_view_name": "HTMLView",
            "description": "",
            "description_tooltip": null,
            "layout": "IPY_MODEL_19f6d4bb5bfe4030895054db9e28ae73",
            "placeholder": "​",
            "style": "IPY_MODEL_d9df5503cee7451b9986dfe03dd8178b",
            "value": "conditional log-probs: 100%"
          }
        },
        "4e4f50c07cb0408489820cd936124fe8": {
          "model_module": "@jupyter-widgets/controls",
          "model_module_version": "1.5.0",
          "model_name": "FloatProgressModel",
          "state": {
            "_dom_classes": [],
            "_model_module": "@jupyter-widgets/controls",
            "_model_module_version": "1.5.0",
            "_model_name": "FloatProgressModel",
            "_view_count": null,
            "_view_module": "@jupyter-widgets/controls",
            "_view_module_version": "1.5.0",
            "_view_name": "ProgressView",
            "bar_style": "success",
            "description": "",
            "description_tooltip": null,
            "layout": "IPY_MODEL_d7d205cd64e14a65b0fffbf01d498932",
            "max": 500,
            "min": 0,
            "orientation": "horizontal",
            "style": "IPY_MODEL_1f1ab865161f4b2cbf0e1b3c0a9836f0",
            "value": 500
          }
        },
        "5823c54c9a934d4cbab3e4e4201f5ca6": {
          "model_module": "@jupyter-widgets/controls",
          "model_module_version": "1.5.0",
          "model_name": "HTMLModel",
          "state": {
            "_dom_classes": [],
            "_model_module": "@jupyter-widgets/controls",
            "_model_module_version": "1.5.0",
            "_model_name": "HTMLModel",
            "_view_count": null,
            "_view_module": "@jupyter-widgets/controls",
            "_view_module_version": "1.5.0",
            "_view_name": "HTMLView",
            "description": "",
            "description_tooltip": null,
            "layout": "IPY_MODEL_ba13dca843fb40d7b1c5b3ba1f4b8afd",
            "placeholder": "​",
            "style": "IPY_MODEL_5c9b64065bdc40e3863a79836f8d8f73",
            "value": " 500/500 [04:28&lt;00:00,  1.82it/s]"
          }
        },
        "5c9b64065bdc40e3863a79836f8d8f73": {
          "model_module": "@jupyter-widgets/controls",
          "model_module_version": "1.5.0",
          "model_name": "DescriptionStyleModel",
          "state": {
            "_model_module": "@jupyter-widgets/controls",
            "_model_module_version": "1.5.0",
            "_model_name": "DescriptionStyleModel",
            "_view_count": null,
            "_view_module": "@jupyter-widgets/base",
            "_view_module_version": "1.2.0",
            "_view_name": "StyleView",
            "description_width": ""
          }
        },
        "621593b24cdb4928a4d61e3f1ba77e69": {
          "model_module": "@jupyter-widgets/controls",
          "model_module_version": "1.5.0",
          "model_name": "ProgressStyleModel",
          "state": {
            "_model_module": "@jupyter-widgets/controls",
            "_model_module_version": "1.5.0",
            "_model_name": "ProgressStyleModel",
            "_view_count": null,
            "_view_module": "@jupyter-widgets/base",
            "_view_module_version": "1.2.0",
            "_view_name": "StyleView",
            "bar_color": null,
            "description_width": ""
          }
        },
        "7726b7fe5cb94194a8fd693e3161336c": {
          "model_module": "@jupyter-widgets/controls",
          "model_module_version": "1.5.0",
          "model_name": "HTMLModel",
          "state": {
            "_dom_classes": [],
            "_model_module": "@jupyter-widgets/controls",
            "_model_module_version": "1.5.0",
            "_model_name": "HTMLModel",
            "_view_count": null,
            "_view_module": "@jupyter-widgets/controls",
            "_view_module_version": "1.5.0",
            "_view_name": "HTMLView",
            "description": "",
            "description_tooltip": null,
            "layout": "IPY_MODEL_8fe389ad502c40dd993862c109ac66a4",
            "placeholder": "​",
            "style": "IPY_MODEL_15559ea5a1e742569c24cf0a0e186d13",
            "value": " 0/0 [00:00&lt;?, ?it/s]"
          }
        },
        "8fe389ad502c40dd993862c109ac66a4": {
          "model_module": "@jupyter-widgets/base",
          "model_module_version": "1.2.0",
          "model_name": "LayoutModel",
          "state": {
            "_model_module": "@jupyter-widgets/base",
            "_model_module_version": "1.2.0",
            "_model_name": "LayoutModel",
            "_view_count": null,
            "_view_module": "@jupyter-widgets/base",
            "_view_module_version": "1.2.0",
            "_view_name": "LayoutView",
            "align_content": null,
            "align_items": null,
            "align_self": null,
            "border": null,
            "bottom": null,
            "display": null,
            "flex": null,
            "flex_flow": null,
            "grid_area": null,
            "grid_auto_columns": null,
            "grid_auto_flow": null,
            "grid_auto_rows": null,
            "grid_column": null,
            "grid_gap": null,
            "grid_row": null,
            "grid_template_areas": null,
            "grid_template_columns": null,
            "grid_template_rows": null,
            "height": null,
            "justify_content": null,
            "justify_items": null,
            "left": null,
            "margin": null,
            "max_height": null,
            "max_width": null,
            "min_height": null,
            "min_width": null,
            "object_fit": null,
            "object_position": null,
            "order": null,
            "overflow": null,
            "overflow_x": null,
            "overflow_y": null,
            "padding": null,
            "right": null,
            "top": null,
            "visibility": null,
            "width": null
          }
        },
        "904482868b484729806d7e78deb13dd5": {
          "model_module": "@jupyter-widgets/base",
          "model_module_version": "1.2.0",
          "model_name": "LayoutModel",
          "state": {
            "_model_module": "@jupyter-widgets/base",
            "_model_module_version": "1.2.0",
            "_model_name": "LayoutModel",
            "_view_count": null,
            "_view_module": "@jupyter-widgets/base",
            "_view_module_version": "1.2.0",
            "_view_name": "LayoutView",
            "align_content": null,
            "align_items": null,
            "align_self": null,
            "border": null,
            "bottom": null,
            "display": null,
            "flex": null,
            "flex_flow": null,
            "grid_area": null,
            "grid_auto_columns": null,
            "grid_auto_flow": null,
            "grid_auto_rows": null,
            "grid_column": null,
            "grid_gap": null,
            "grid_row": null,
            "grid_template_areas": null,
            "grid_template_columns": null,
            "grid_template_rows": null,
            "height": null,
            "justify_content": null,
            "justify_items": null,
            "left": null,
            "margin": null,
            "max_height": null,
            "max_width": null,
            "min_height": null,
            "min_width": null,
            "object_fit": null,
            "object_position": null,
            "order": null,
            "overflow": null,
            "overflow_x": null,
            "overflow_y": null,
            "padding": null,
            "right": null,
            "top": null,
            "visibility": null,
            "width": null
          }
        },
        "9096eafc00204905b196fa8779d8c34f": {
          "model_module": "@jupyter-widgets/controls",
          "model_module_version": "1.5.0",
          "model_name": "DescriptionStyleModel",
          "state": {
            "_model_module": "@jupyter-widgets/controls",
            "_model_module_version": "1.5.0",
            "_model_name": "DescriptionStyleModel",
            "_view_count": null,
            "_view_module": "@jupyter-widgets/base",
            "_view_module_version": "1.2.0",
            "_view_name": "StyleView",
            "description_width": ""
          }
        },
        "aaee0def248d42f4b659a9c80c54faba": {
          "model_module": "@jupyter-widgets/base",
          "model_module_version": "1.2.0",
          "model_name": "LayoutModel",
          "state": {
            "_model_module": "@jupyter-widgets/base",
            "_model_module_version": "1.2.0",
            "_model_name": "LayoutModel",
            "_view_count": null,
            "_view_module": "@jupyter-widgets/base",
            "_view_module_version": "1.2.0",
            "_view_name": "LayoutView",
            "align_content": null,
            "align_items": null,
            "align_self": null,
            "border": null,
            "bottom": null,
            "display": null,
            "flex": null,
            "flex_flow": null,
            "grid_area": null,
            "grid_auto_columns": null,
            "grid_auto_flow": null,
            "grid_auto_rows": null,
            "grid_column": null,
            "grid_gap": null,
            "grid_row": null,
            "grid_template_areas": null,
            "grid_template_columns": null,
            "grid_template_rows": null,
            "height": null,
            "justify_content": null,
            "justify_items": null,
            "left": null,
            "margin": null,
            "max_height": null,
            "max_width": null,
            "min_height": null,
            "min_width": null,
            "object_fit": null,
            "object_position": null,
            "order": null,
            "overflow": null,
            "overflow_x": null,
            "overflow_y": null,
            "padding": null,
            "right": null,
            "top": null,
            "visibility": null,
            "width": null
          }
        },
        "ac05ea431bb74fa693cb9665544a6783": {
          "model_module": "@jupyter-widgets/base",
          "model_module_version": "1.2.0",
          "model_name": "LayoutModel",
          "state": {
            "_model_module": "@jupyter-widgets/base",
            "_model_module_version": "1.2.0",
            "_model_name": "LayoutModel",
            "_view_count": null,
            "_view_module": "@jupyter-widgets/base",
            "_view_module_version": "1.2.0",
            "_view_name": "LayoutView",
            "align_content": null,
            "align_items": null,
            "align_self": null,
            "border": null,
            "bottom": null,
            "display": null,
            "flex": null,
            "flex_flow": null,
            "grid_area": null,
            "grid_auto_columns": null,
            "grid_auto_flow": null,
            "grid_auto_rows": null,
            "grid_column": null,
            "grid_gap": null,
            "grid_row": null,
            "grid_template_areas": null,
            "grid_template_columns": null,
            "grid_template_rows": null,
            "height": null,
            "justify_content": null,
            "justify_items": null,
            "left": null,
            "margin": null,
            "max_height": null,
            "max_width": null,
            "min_height": null,
            "min_width": null,
            "object_fit": null,
            "object_position": null,
            "order": null,
            "overflow": null,
            "overflow_x": null,
            "overflow_y": null,
            "padding": null,
            "right": null,
            "top": null,
            "visibility": null,
            "width": "20px"
          }
        },
        "b114ff4ae1634b59a348a416f5980a21": {
          "model_module": "@jupyter-widgets/controls",
          "model_module_version": "1.5.0",
          "model_name": "HBoxModel",
          "state": {
            "_dom_classes": [],
            "_model_module": "@jupyter-widgets/controls",
            "_model_module_version": "1.5.0",
            "_model_name": "HBoxModel",
            "_view_count": null,
            "_view_module": "@jupyter-widgets/controls",
            "_view_module_version": "1.5.0",
            "_view_name": "HBoxView",
            "box_style": "",
            "children": [
              "IPY_MODEL_0f4ae76a698b402eb140870f21376759",
              "IPY_MODEL_2fc578aaab464940bf78d84b2b6364e8",
              "IPY_MODEL_7726b7fe5cb94194a8fd693e3161336c"
            ],
            "layout": "IPY_MODEL_aaee0def248d42f4b659a9c80c54faba"
          }
        },
        "ba13dca843fb40d7b1c5b3ba1f4b8afd": {
          "model_module": "@jupyter-widgets/base",
          "model_module_version": "1.2.0",
          "model_name": "LayoutModel",
          "state": {
            "_model_module": "@jupyter-widgets/base",
            "_model_module_version": "1.2.0",
            "_model_name": "LayoutModel",
            "_view_count": null,
            "_view_module": "@jupyter-widgets/base",
            "_view_module_version": "1.2.0",
            "_view_name": "LayoutView",
            "align_content": null,
            "align_items": null,
            "align_self": null,
            "border": null,
            "bottom": null,
            "display": null,
            "flex": null,
            "flex_flow": null,
            "grid_area": null,
            "grid_auto_columns": null,
            "grid_auto_flow": null,
            "grid_auto_rows": null,
            "grid_column": null,
            "grid_gap": null,
            "grid_row": null,
            "grid_template_areas": null,
            "grid_template_columns": null,
            "grid_template_rows": null,
            "height": null,
            "justify_content": null,
            "justify_items": null,
            "left": null,
            "margin": null,
            "max_height": null,
            "max_width": null,
            "min_height": null,
            "min_width": null,
            "object_fit": null,
            "object_position": null,
            "order": null,
            "overflow": null,
            "overflow_x": null,
            "overflow_y": null,
            "padding": null,
            "right": null,
            "top": null,
            "visibility": null,
            "width": null
          }
        },
        "ccf993589a8041e89d20b0bd8054d2c6": {
          "model_module": "@jupyter-widgets/controls",
          "model_module_version": "1.5.0",
          "model_name": "HBoxModel",
          "state": {
            "_dom_classes": [],
            "_model_module": "@jupyter-widgets/controls",
            "_model_module_version": "1.5.0",
            "_model_name": "HBoxModel",
            "_view_count": null,
            "_view_module": "@jupyter-widgets/controls",
            "_view_module_version": "1.5.0",
            "_view_name": "HBoxView",
            "box_style": "",
            "children": [
              "IPY_MODEL_406b9dd03ac34e30b671608d81c48716",
              "IPY_MODEL_4e4f50c07cb0408489820cd936124fe8",
              "IPY_MODEL_5823c54c9a934d4cbab3e4e4201f5ca6"
            ],
            "layout": "IPY_MODEL_904482868b484729806d7e78deb13dd5"
          }
        },
        "d7d205cd64e14a65b0fffbf01d498932": {
          "model_module": "@jupyter-widgets/base",
          "model_module_version": "1.2.0",
          "model_name": "LayoutModel",
          "state": {
            "_model_module": "@jupyter-widgets/base",
            "_model_module_version": "1.2.0",
            "_model_name": "LayoutModel",
            "_view_count": null,
            "_view_module": "@jupyter-widgets/base",
            "_view_module_version": "1.2.0",
            "_view_name": "LayoutView",
            "align_content": null,
            "align_items": null,
            "align_self": null,
            "border": null,
            "bottom": null,
            "display": null,
            "flex": null,
            "flex_flow": null,
            "grid_area": null,
            "grid_auto_columns": null,
            "grid_auto_flow": null,
            "grid_auto_rows": null,
            "grid_column": null,
            "grid_gap": null,
            "grid_row": null,
            "grid_template_areas": null,
            "grid_template_columns": null,
            "grid_template_rows": null,
            "height": null,
            "justify_content": null,
            "justify_items": null,
            "left": null,
            "margin": null,
            "max_height": null,
            "max_width": null,
            "min_height": null,
            "min_width": null,
            "object_fit": null,
            "object_position": null,
            "order": null,
            "overflow": null,
            "overflow_x": null,
            "overflow_y": null,
            "padding": null,
            "right": null,
            "top": null,
            "visibility": null,
            "width": null
          }
        },
        "d9df5503cee7451b9986dfe03dd8178b": {
          "model_module": "@jupyter-widgets/controls",
          "model_module_version": "1.5.0",
          "model_name": "DescriptionStyleModel",
          "state": {
            "_model_module": "@jupyter-widgets/controls",
            "_model_module_version": "1.5.0",
            "_model_name": "DescriptionStyleModel",
            "_view_count": null,
            "_view_module": "@jupyter-widgets/base",
            "_view_module_version": "1.2.0",
            "_view_name": "StyleView",
            "description_width": ""
          }
        }
      }
    }
  },
  "nbformat": 4,
  "nbformat_minor": 0
}
