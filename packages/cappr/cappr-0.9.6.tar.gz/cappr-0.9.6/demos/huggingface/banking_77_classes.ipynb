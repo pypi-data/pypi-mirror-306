{
  "cells": [
    {
      "cell_type": "markdown",
      "metadata": {
        "id": "P4HstkWvR1WZ"
      },
      "source": [
        "You must run this notebook on a GPU. A T4 is sufficient. It's free on [Google\n",
        "Colab](https://stackoverflow.com/questions/62596466/how-can-i-run-notebooks-of-a-github-project-in-google-colab/67344477#67344477).\n",
        "\n",
        "**Description**: for a [GPTQd Mistral\n",
        "7B](https://huggingface.co/TheBloke/Mistral-7B-OpenOrca-GPTQ) and the [Banking\n",
        "77](https://huggingface.co/datasets/PolyAI/banking77) classification task (77 = number\n",
        "of classes/choices), this notebook demonstrates that CAPPr gets you +3% absolute\n",
        "accuracy compared to text generation and +5% compared to [guidance](https://github.com/guidance-ai/guidance). There is only a statistical benefit though.\n",
        "Computationally, CAPPr is currently much slower when there are a lot of completions\n",
        "which need to be mentioned in the context. On a bigger rig, CAPPr isn't too slow b/c we\n",
        "can process completions in parallel. See [this\n",
        "section](https://cappr.readthedocs.io/en/latest/computational_performance.html#weaknesses)\n",
        "of the documentation.\n",
        "\n",
        "**Estimated run time**: ~13 min."
      ]
    },
    {
      "cell_type": "code",
      "execution_count": null,
      "metadata": {},
      "outputs": [],
      "source": [
        "!pip install torch==2.2.1 torchaudio torchvision transformers"
      ]
    },
    {
      "cell_type": "code",
      "execution_count": null,
      "metadata": {},
      "outputs": [],
      "source": [
        "!pip install auto-gptq --no-build-isolation \\\n",
        "optimum"
      ]
    },
    {
      "cell_type": "code",
      "execution_count": null,
      "metadata": {
        "id": "7EYS12SxR1Wf"
      },
      "outputs": [],
      "source": [
        "!pip install \"cappr[demos] @ git+https://github.com/kddubey/cappr.git\" \\\n",
        "guidance"
      ]
    },
    {
      "cell_type": "code",
      "execution_count": 3,
      "metadata": {
        "id": "T289hL2jR1Wg"
      },
      "outputs": [],
      "source": [
        "from __future__ import annotations\n",
        "from typing import Sequence\n",
        "\n",
        "import datasets\n",
        "import numpy as np\n",
        "import matplotlib.pyplot as plt\n",
        "import pandas as pd\n",
        "from sklearn.calibration import calibration_curve\n",
        "from tqdm.auto import tqdm\n",
        "from transformers import AutoModelForCausalLM, AutoTokenizer, GenerationConfig, pipeline\n",
        "\n",
        "import guidance\n",
        "\n",
        "from cappr import huggingface as hf"
      ]
    },
    {
      "cell_type": "markdown",
      "metadata": {
        "id": "FXopq1ddR1Wg"
      },
      "source": [
        "# Load data"
      ]
    },
    {
      "cell_type": "code",
      "execution_count": 4,
      "metadata": {
        "id": "_vBYpGV7R1Wh"
      },
      "outputs": [],
      "source": [
        "df = pd.DataFrame(datasets.load_dataset(\"PolyAI/banking77\", split=\"train\"))"
      ]
    },
    {
      "cell_type": "code",
      "execution_count": 5,
      "metadata": {
        "id": "kITAOvCw6QYV"
      },
      "outputs": [],
      "source": [
        "original_class_names = [\"Refund_not_showing_up\", \"activate_my_card\", \"age_limit\", \"apple_pay_or_google_pay\", \"atm_support\", \"automatic_top_up\", \"balance_not_updated_after_bank_transfer\", \"balance_not_updated_after_cheque_or_cash_deposit\", \"beneficiary_not_allowed\", \"cancel_transfer\", \"card_about_to_expire\", \"card_acceptance\", \"card_arrival\", \"card_delivery_estimate\", \"card_linking\", \"card_not_working\", \"card_payment_fee_charged\", \"card_payment_not_recognised\", \"card_payment_wrong_exchange_rate\", \"card_swallowed\", \"cash_withdrawal_charge\", \"cash_withdrawal_not_recognised\", \"change_pin\", \"compromised_card\", \"contactless_not_working\", \"country_support\", \"declined_card_payment\", \"declined_cash_withdrawal\", \"declined_transfer\", \"direct_debit_payment_not_recognised\", \"disposable_card_limits\", \"edit_personal_details\", \"exchange_charge\", \"exchange_rate\", \"exchange_via_app\", \"extra_charge_on_statement\", \"failed_transfer\", \"fiat_currency_support\", \"get_disposable_virtual_card\", \"get_physical_card\", \"getting_spare_card\", \"getting_virtual_card\", \"lost_or_stolen_card\", \"lost_or_stolen_phone\", \"order_physical_card\", \"passcode_forgotten\", \"pending_card_payment\", \"pending_cash_withdrawal\", \"pending_top_up\", \"pending_transfer\", \"pin_blocked\", \"receiving_money\", \"request_refund\", \"reverted_card_payment?\", \"supported_cards_and_currencies\", \"terminate_account\", \"top_up_by_bank_transfer_charge\", \"top_up_by_card_charge\", \"top_up_by_cash_or_cheque\", \"top_up_failed\", \"top_up_limits\", \"top_up_reverted\", \"topping_up_by_card\", \"transaction_charged_twice\", \"transfer_fee_charged\", \"transfer_into_account\", \"transfer_not_received_by_recipient\", \"transfer_timing\", \"unable_to_verify_identity\", \"verify_my_identity\", \"verify_source_of_funds\", \"verify_top_up\", \"virtual_card_not_working\", \"visa_or_mastercard\", \"why_verify_identity\", \"wrong_amount_of_cash_received\", \"wrong_exchange_rate_for_cash_withdrawal\"]\n",
        "original_class_names = sorted([class_name.lower() for class_name in original_class_names])"
      ]
    },
    {
      "cell_type": "code",
      "execution_count": 6,
      "metadata": {
        "id": "Q3cIjGI26QYV"
      },
      "outputs": [],
      "source": [
        "class_names = [\n",
        "    \" \".join(class_name.split(\"_\")).capitalize() for class_name in original_class_names\n",
        "]\n",
        "class_names_str = \"\\n\".join(sorted(class_names))"
      ]
    },
    {
      "cell_type": "code",
      "execution_count": 7,
      "metadata": {
        "id": "q_ViYPE56QYW"
      },
      "outputs": [],
      "source": [
        "df[\"class_name\"] = [class_names[label_idx] for label_idx in df[\"label\"]]"
      ]
    },
    {
      "cell_type": "code",
      "execution_count": 8,
      "metadata": {
        "colab": {
          "base_uri": "https://localhost:8080/"
        },
        "id": "ShNQXdwY6QYW",
        "outputId": "e2a32f7e-bb5a-4569-8c56-0d2b69ac40fc"
      },
      "outputs": [
        {
          "data": {
            "text/plain": [
              "10003"
            ]
          },
          "execution_count": 8,
          "metadata": {},
          "output_type": "execute_result"
        }
      ],
      "source": [
        "len(df)"
      ]
    },
    {
      "cell_type": "markdown",
      "metadata": {
        "id": "tsBSZ91x6QYX"
      },
      "source": [
        "We don't need this much data. Sample down"
      ]
    },
    {
      "cell_type": "code",
      "execution_count": 9,
      "metadata": {
        "id": "AiSpzOW66QYX"
      },
      "outputs": [],
      "source": [
        "df_tr_mini = df.sample(n=200, random_state=123).reset_index(drop=True)"
      ]
    },
    {
      "cell_type": "markdown",
      "metadata": {
        "id": "2XdYRhFp6QYX"
      },
      "source": [
        "What's majority accuracy?"
      ]
    },
    {
      "cell_type": "code",
      "execution_count": 10,
      "metadata": {
        "colab": {
          "base_uri": "https://localhost:8080/"
        },
        "id": "eg1rY9916QYX",
        "outputId": "f7ffc1c2-1e1a-4f82-faa1-0d30ad577b54"
      },
      "outputs": [
        {
          "data": {
            "text/plain": [
              "0.03"
            ]
          },
          "execution_count": 10,
          "metadata": {},
          "output_type": "execute_result"
        }
      ],
      "source": [
        "df_tr_mini[\"label\"].value_counts(normalize=True).max()"
      ]
    },
    {
      "cell_type": "markdown",
      "metadata": {
        "id": "7WTjVWYb6QYX"
      },
      "source": [
        "# Load model"
      ]
    },
    {
      "cell_type": "code",
      "execution_count": null,
      "metadata": {
        "id": "ZmedJgoCR1Wk"
      },
      "outputs": [],
      "source": [
        "model_name = \"TheBloke/Mistral-7B-OpenOrca-GPTQ\"\n",
        "model = AutoModelForCausalLM.from_pretrained(\n",
        "    model_name, device_map=\"auto\", trust_remote_code=False, revision=\"main\"\n",
        ")\n",
        "tokenizer = AutoTokenizer.from_pretrained(model_name, use_fast=True)"
      ]
    },
    {
      "cell_type": "code",
      "execution_count": 12,
      "metadata": {
        "id": "pdki7Eawkn5P"
      },
      "outputs": [],
      "source": [
        "is_eos_token_not_none = tokenizer.eos_token is not None  # need this for guidance"
      ]
    },
    {
      "cell_type": "code",
      "execution_count": 13,
      "metadata": {
        "id": "euxP1iWmR1Wk"
      },
      "outputs": [],
      "source": [
        "# warm up model\n",
        "_ = model(**tokenizer([\"warm up\"], return_tensors=\"pt\").to(model.device))"
      ]
    },
    {
      "cell_type": "markdown",
      "metadata": {
        "id": "MpZMAios6QYY"
      },
      "source": [
        "# Text generation"
      ]
    },
    {
      "cell_type": "code",
      "execution_count": 14,
      "metadata": {
        "id": "CGbho14A6QYY"
      },
      "outputs": [],
      "source": [
        "chat_template = \"\"\"\n",
        "<|im_start|>system\n",
        "{system_message}<|im_end|>\n",
        "<|im_start|>user\n",
        "{prompt}<|im_end|>\n",
        "<|im_start|>assistant\n",
        "\"\"\".lstrip(\"\\n\")"
      ]
    },
    {
      "cell_type": "markdown",
      "metadata": {
        "id": "XC3T3e5CkC4E"
      },
      "source": [
        "Prompt stolen from: https://github.com/refuel-ai/autolabel/blob/main/examples/banking/config_banking.json"
      ]
    },
    {
      "cell_type": "code",
      "execution_count": 15,
      "metadata": {
        "colab": {
          "base_uri": "https://localhost:8080/"
        },
        "id": "G3QRU3Bwfy0V",
        "outputId": "91806e3c-cf29-4be6-ac01-74e2e7f9b304"
      },
      "outputs": [
        {
          "name": "stdout",
          "output_type": "stream",
          "text": [
            "<|im_start|>system\n",
            "You are an expert at understanding bank customers support complaints and queries.\n",
            "Your job is to correctly categorize an inputted customer query or complaint into one of the following categories.\n",
            "Categories:\n",
            "Activate my card\n",
            "Age limit\n",
            "Apple pay or google pay\n",
            "Atm support\n",
            "Automatic top up\n",
            "Balance not updated after bank transfer\n",
            "Balance not updated after cheque or cash deposit\n",
            "Beneficiary not allowed\n",
            "Cancel transfer\n",
            "Card about to expire\n",
            "Card acceptance\n",
            "Card arrival\n",
            "Card delivery estimate\n",
            "Card linking\n",
            "Card not working\n",
            "Card payment fee charged\n",
            "Card payment not recognised\n",
            "Card payment wrong exchange rate\n",
            "Card swallowed\n",
            "Cash withdrawal charge\n",
            "Cash withdrawal not recognised\n",
            "Change pin\n",
            "Compromised card\n",
            "Contactless not working\n",
            "Country support\n",
            "Declined card payment\n",
            "Declined cash withdrawal\n",
            "Declined transfer\n",
            "Direct debit payment not recognised\n",
            "Disposable card limits\n",
            "Edit personal details\n",
            "Exchange charge\n",
            "Exchange rate\n",
            "Exchange via app\n",
            "Extra charge on statement\n",
            "Failed transfer\n",
            "Fiat currency support\n",
            "Get disposable virtual card\n",
            "Get physical card\n",
            "Getting spare card\n",
            "Getting virtual card\n",
            "Lost or stolen card\n",
            "Lost or stolen phone\n",
            "Order physical card\n",
            "Passcode forgotten\n",
            "Pending card payment\n",
            "Pending cash withdrawal\n",
            "Pending top up\n",
            "Pending transfer\n",
            "Pin blocked\n",
            "Receiving money\n",
            "Refund not showing up\n",
            "Request refund\n",
            "Reverted card payment?\n",
            "Supported cards and currencies\n",
            "Terminate account\n",
            "Top up by bank transfer charge\n",
            "Top up by card charge\n",
            "Top up by cash or cheque\n",
            "Top up failed\n",
            "Top up limits\n",
            "Top up reverted\n",
            "Topping up by card\n",
            "Transaction charged twice\n",
            "Transfer fee charged\n",
            "Transfer into account\n",
            "Transfer not received by recipient\n",
            "Transfer timing\n",
            "Unable to verify identity\n",
            "Verify my identity\n",
            "Verify source of funds\n",
            "Verify top up\n",
            "Virtual card not working\n",
            "Visa or mastercard\n",
            "Why verify identity\n",
            "Wrong amount of cash received\n",
            "Wrong exchange rate for cash withdrawal\n",
            "\n",
            "You will answer with just the the correct category and nothing else. Do not say \"I don't know\". Make your best guess.<|im_end|>\n",
            "<|im_start|>user\n",
            "Categorize the following query: I'm worried my card might be lost in the mail? How long does it usually take to arrive?<|im_end|>\n",
            "<|im_start|>assistant\n",
            "\n"
          ]
        }
      ],
      "source": [
        "def prompt_text_gen(text: str):\n",
        "    system_prompt = (\n",
        "        \"You are an expert at understanding bank customers support complaints and \"\n",
        "        \"queries.\\n\"\n",
        "        \"Your job is to correctly categorize an inputted customer query or complaint \"\n",
        "        \"into one of the following categories.\\n\"\n",
        "        \"Categories:\\n\"\n",
        "        f\"{class_names_str}\\n\\n\"\n",
        "        \"You will answer with just the the correct category and nothing else. Do \"\n",
        "        '''not say \"I don't know\". Make your best guess.'''\n",
        "    )\n",
        "    user_message = f\"Categorize the following query: {text}\"\n",
        "    return chat_template.format(\n",
        "        system_message=system_prompt, prompt=user_message\n",
        "    )\n",
        "\n",
        "df_tr_mini[\"prompt_text_gen\"] = [prompt_text_gen(query) for query in df_tr_mini[\"text\"]]\n",
        "print(df_tr_mini[\"prompt_text_gen\"].iloc[0])"
      ]
    },
    {
      "cell_type": "code",
      "execution_count": 16,
      "metadata": {
        "id": "O_CLM-zF6QYY"
      },
      "outputs": [],
      "source": [
        "generator = pipeline(\n",
        "    \"text-generation\",\n",
        "    model=model,\n",
        "    tokenizer=tokenizer,\n",
        "    return_full_text=False,\n",
        ")\n",
        "\n",
        "generation_config = GenerationConfig(\n",
        "    max_new_tokens=20,\n",
        "    num_return_sequences=1,\n",
        "    eos_token_id=tokenizer.eos_token_id,\n",
        "    batch_size=1,\n",
        ")"
      ]
    },
    {
      "cell_type": "code",
      "execution_count": 17,
      "metadata": {
        "colab": {
          "base_uri": "https://localhost:8080/",
          "height": 104,
          "referenced_widgets": [
            "c085d8631cf44434b68eb3083f64944d",
            "1efd522684154192ab4d923c2a60e181",
            "7f5a548b6a704d62a8497440a6c27d82",
            "6fd3e658057d407c9031a352869211be",
            "b032fa669fab4cfdbf8dedad4bf75213",
            "7f1a0c659965468199b3da411121a7e4",
            "d7f8d891059b4f9984a354d42880942e",
            "99f9dd1f59c44562bafda47c6c831da3",
            "f0c3f8bb8387459c8b79ad070d6e67ab",
            "52491f900c4542a4b440c3e2f876a2ce",
            "c62e474961034ec6bd979affb99c2e7d"
          ]
        },
        "id": "D6LmDO5BiA4a",
        "outputId": "996c89ac-037b-4ec3-84d8-39356a156d87"
      },
      "outputs": [
        {
          "data": {
            "application/vnd.jupyter.widget-view+json": {
              "model_id": "c085d8631cf44434b68eb3083f64944d",
              "version_major": 2,
              "version_minor": 0
            },
            "text/plain": [
              "Sampling:   0%|          | 0/200 [00:00<?, ?it/s]"
            ]
          },
          "metadata": {},
          "output_type": "display_data"
        },
        {
          "name": "stderr",
          "output_type": "stream",
          "text": [
            "/usr/local/lib/python3.10/dist-packages/transformers/pipelines/base.py:1101: UserWarning: You seem to be using the pipelines sequentially on GPU. In order to maximize efficiency please use a dataset\n",
            "  warnings.warn(\n"
          ]
        }
      ],
      "source": [
        "completions = []\n",
        "for prompt in tqdm(df_tr_mini[\"prompt_text_gen\"], total=len(df_tr_mini), desc=\"Sampling\"):\n",
        "    sequences = generator(\n",
        "        prompt,\n",
        "        generation_config=generation_config,\n",
        "        pad_token_id=generator.tokenizer.eos_token_id,  # suppress \"Setting ...\"\n",
        "    )\n",
        "    completions.append(sequences[0][\"generated_text\"])"
      ]
    },
    {
      "cell_type": "markdown",
      "metadata": {
        "id": "bRVLYCgtlNo-"
      },
      "source": [
        "Let's see if the model generated categories like we asked."
      ]
    },
    {
      "cell_type": "code",
      "execution_count": 18,
      "metadata": {
        "colab": {
          "base_uri": "https://localhost:8080/"
        },
        "id": "ehUEDs_blETA",
        "outputId": "f4023b8e-5ca4-42ea-8777-aec9b87d36b0"
      },
      "outputs": [
        {
          "data": {
            "text/plain": [
              "[' ATM support',\n",
              " ' Get physical card',\n",
              " ' Contactless not working',\n",
              " ' Transfer timing',\n",
              " ' Verify top up',\n",
              " ' Cancel transfer',\n",
              " ' Card payment fee charged',\n",
              " ' Get physical card',\n",
              " ' Card not working',\n",
              " ' Change pin']"
            ]
          },
          "execution_count": 18,
          "metadata": {},
          "output_type": "execute_result"
        }
      ],
      "source": [
        "pd.Series(completions).sample(10).tolist()"
      ]
    },
    {
      "cell_type": "markdown",
      "metadata": {
        "id": "JY2psF4V6QYZ"
      },
      "source": [
        "They look good"
      ]
    },
    {
      "cell_type": "code",
      "execution_count": 19,
      "metadata": {
        "id": "v9LM3vq2VfuL"
      },
      "outputs": [],
      "source": [
        "def process_completion(completion: str, class_names: Sequence[str], default=-1) -> int:\n",
        "    for i, name in enumerate(class_names):\n",
        "        if name.lower() in completion.lower():\n",
        "            return i\n",
        "    return default"
      ]
    },
    {
      "cell_type": "code",
      "execution_count": 20,
      "metadata": {
        "id": "grsvakRfVi0b"
      },
      "outputs": [],
      "source": [
        "preds_text_gen = pd.Series([\n",
        "    process_completion(completion, class_names)\n",
        "    for completion in completions\n",
        "])"
      ]
    },
    {
      "cell_type": "markdown",
      "metadata": {
        "id": "tbeLm6rd7gbK"
      },
      "source": [
        "How many of the completions could be mapped to a label?"
      ]
    },
    {
      "cell_type": "code",
      "execution_count": 21,
      "metadata": {
        "colab": {
          "base_uri": "https://localhost:8080/"
        },
        "id": "-iAPL2dtVyIx",
        "outputId": "94a4e379-d38c-4678-c56d-127ba90ad4e1"
      },
      "outputs": [
        {
          "data": {
            "text/plain": [
              "0.87"
            ]
          },
          "execution_count": 21,
          "metadata": {},
          "output_type": "execute_result"
        }
      ],
      "source": [
        "(preds_text_gen != -1).mean()"
      ]
    },
    {
      "cell_type": "markdown",
      "metadata": {
        "id": "o1HdEKSz6QYa"
      },
      "source": [
        "That's bad. More than 1 in 10 are not a valid choice. What do invalid completions look like?"
      ]
    },
    {
      "cell_type": "code",
      "execution_count": 22,
      "metadata": {
        "colab": {
          "base_uri": "https://localhost:8080/"
        },
        "id": "IPPQ_mJCXEdh",
        "outputId": "8ab7b94b-db1d-4a24-bec6-7e3f3c262432"
      },
      "outputs": [
        {
          "data": {
            "text/plain": [
              "[' Top up timing',\n",
              " ' Reverted card payment',\n",
              " ' Transfer failed',\n",
              " ' Security measures',\n",
              " ' Verify identity',\n",
              " ' Top up by card',\n",
              " ' Transfer by card',\n",
              " ' Card selection',\n",
              " ' SEPA transfer',\n",
              " ' Virtual card']"
            ]
          },
          "execution_count": 22,
          "metadata": {},
          "output_type": "execute_result"
        }
      ],
      "source": [
        "pd.Series(completions)[preds_text_gen == -1].sample(10).tolist()"
      ]
    },
    {
      "cell_type": "markdown",
      "metadata": {
        "id": "kaK3m0-_6QYa"
      },
      "source": [
        "I don't think improving `process_completion` is the way to go—that seems too tricky. For\n",
        "a fairer comparison, assume these get always mapped to one of the choices. It's more\n",
        "fair to apply a string distance match or a similarity search from a small similarity\n",
        "model. Those solutions are kinda annoying and complicated. For now I'm just gonna map it\n",
        "to the most common class. That's more optimistic than mapping them uniformly-at-random."
      ]
    },
    {
      "cell_type": "code",
      "execution_count": 23,
      "metadata": {
        "colab": {
          "base_uri": "https://localhost:8080/"
        },
        "id": "_sR3f0uf8Xl5",
        "outputId": "d74b4007-7332-4019-8de6-884b04cf22bc"
      },
      "outputs": [
        {
          "data": {
            "text/plain": [
              "70"
            ]
          },
          "execution_count": 23,
          "metadata": {},
          "output_type": "execute_result"
        }
      ],
      "source": [
        "most_common_label = (\n",
        "    df_tr_mini[\"label\"].value_counts(normalize=True, ascending=False).index[0]\n",
        ")\n",
        "most_common_label"
      ]
    },
    {
      "cell_type": "code",
      "execution_count": 24,
      "metadata": {
        "id": "0n6WrEe36QYa"
      },
      "outputs": [],
      "source": [
        "preds_text_gen_imputed = preds_text_gen.copy()\n",
        "preds_text_gen_imputed[preds_text_gen_imputed == -1] = most_common_label"
      ]
    },
    {
      "cell_type": "code",
      "execution_count": 25,
      "metadata": {
        "colab": {
          "base_uri": "https://localhost:8080/"
        },
        "id": "iGXzmIEIVznh",
        "outputId": "227e8197-80ba-4e12-e779-da158df19f7d"
      },
      "outputs": [
        {
          "data": {
            "text/plain": [
              "0.545"
            ]
          },
          "execution_count": 25,
          "metadata": {},
          "output_type": "execute_result"
        }
      ],
      "source": [
        "(df_tr_mini[\"label\"] == preds_text_gen_imputed).mean()"
      ]
    },
    {
      "cell_type": "markdown",
      "metadata": {
        "id": "zBD1g8wb6QYb"
      },
      "source": [
        "I'm also curious what accuracy is given the completion is valid:"
      ]
    },
    {
      "cell_type": "code",
      "execution_count": 26,
      "metadata": {
        "colab": {
          "base_uri": "https://localhost:8080/"
        },
        "id": "YjtBaoHV6QYb",
        "outputId": "7327203c-ff01-4fd7-d940-d38795ad9ea8"
      },
      "outputs": [
        {
          "data": {
            "text/plain": [
              "0.6091954022988506"
            ]
          },
          "execution_count": 26,
          "metadata": {},
          "output_type": "execute_result"
        }
      ],
      "source": [
        "_mask_valid = preds_text_gen != -1\n",
        "(df_tr_mini.loc[_mask_valid, \"label\"] == preds_text_gen[_mask_valid]).mean()"
      ]
    },
    {
      "cell_type": "markdown",
      "metadata": {
        "id": "3QQmwHfcYYEr"
      },
      "source": [
        "# Guidance"
      ]
    },
    {
      "cell_type": "code",
      "execution_count": 27,
      "metadata": {
        "id": "ZQw5V2Jrd9qo"
      },
      "outputs": [],
      "source": [
        "# Currently have to do this b/c of a bug in guidance I think\n",
        "if is_eos_token_not_none:\n",
        "    eos_token_id_prev = tokenizer.eos_token_id\n",
        "    tokenizer.eos_token = None"
      ]
    },
    {
      "cell_type": "code",
      "execution_count": 28,
      "metadata": {
        "id": "movy80-sYm0q"
      },
      "outputs": [],
      "source": [
        "guidance_lm = guidance.models.Transformers(model=model, tokenizer=tokenizer, echo=False)"
      ]
    },
    {
      "cell_type": "markdown",
      "metadata": {
        "id": "DFnJo5-3h4W0"
      },
      "source": [
        "For SentencePiece tokenizers, you should do\n",
        "\n",
        "```python\n",
        "guidance_lm + prompt + guidance.select(class_names)\n",
        "```\n",
        "\n",
        "instead of\n",
        "\n",
        "```python\n",
        "guidance_lm + prompt + \" \" + guidance.select(class_names)\n",
        "```\n",
        "\n",
        "(I verified that the former results in +4% accuracy over the latter.)"
      ]
    },
    {
      "cell_type": "code",
      "execution_count": 29,
      "metadata": {
        "id": "wahwK6SbYx-u"
      },
      "outputs": [],
      "source": [
        "preds_guidance = []\n",
        "for prompt in df_tr_mini[\"prompt_text_gen\"].tolist():\n",
        "    result = guidance_lm + prompt + guidance.select(class_names, name=\"pred\")\n",
        "    preds_guidance.append(result[\"pred\"])"
      ]
    },
    {
      "cell_type": "code",
      "execution_count": 30,
      "metadata": {
        "id": "_qfflI-ekO4Q"
      },
      "outputs": [],
      "source": [
        "if is_eos_token_not_none:\n",
        "    tokenizer.eos_token_id = eos_token_id_prev"
      ]
    },
    {
      "cell_type": "code",
      "execution_count": 31,
      "metadata": {
        "colab": {
          "base_uri": "https://localhost:8080/"
        },
        "id": "kVJiibG0aWb-",
        "outputId": "163cc498-dc77-454d-a5a4-4dca02d7420a"
      },
      "outputs": [
        {
          "data": {
            "text/plain": [
              "0.525"
            ]
          },
          "execution_count": 31,
          "metadata": {},
          "output_type": "execute_result"
        }
      ],
      "source": [
        "(df_tr_mini[\"class_name\"] == preds_guidance).mean()"
      ]
    },
    {
      "cell_type": "markdown",
      "metadata": {
        "id": "4uXKKWBjzFjS"
      },
      "source": [
        "# CAPPr"
      ]
    },
    {
      "cell_type": "markdown",
      "metadata": {
        "id": "5KB5dOib6QYb"
      },
      "source": [
        "Important note: CAPPr is slow when the prompt is too long for completions to be\n",
        "processed in parallel, and there are many completions. We'll have to process completions\n",
        "in batches to stay under 15 GB RAM. See [this\n",
        "section](https://cappr.readthedocs.io/en/latest/computational_performance.html#weaknesses)\n",
        "of the documentation.\n",
        "\n",
        "Let's compare statistical performance, keeping the prompt the same as the one for text\n",
        "generation."
      ]
    },
    {
      "cell_type": "markdown",
      "metadata": {
        "id": "U5dUszbA8vCS"
      },
      "source": [
        "We'll cache a shared part of the whole prompt, whose format is\n",
        "`chat_template_shared_instructions`."
      ]
    },
    {
      "cell_type": "code",
      "execution_count": 32,
      "metadata": {
        "id": "x6wIZTc_zzEC"
      },
      "outputs": [],
      "source": [
        "chat_template_shared_instructions = \"\"\"\n",
        "<|im_start|>system\n",
        "{system_message}<|im_end|>\n",
        "<|im_start|>user\n",
        "{user_prompt}\n",
        "\"\"\".strip(\"\\n\")\n",
        "\n",
        "chat_template_prompt = \"\"\"\n",
        "{prompt}<|im_end|>\n",
        "<|im_start|>assistant\n",
        "\"\"\".lstrip(\"\\n\")"
      ]
    },
    {
      "cell_type": "code",
      "execution_count": 33,
      "metadata": {
        "id": "0lQhHvTWzJfs"
      },
      "outputs": [],
      "source": [
        "class_names_str = \"\\n\".join(sorted(class_names))\n",
        "system_message = (\n",
        "    \"You are an expert at understanding bank customers support complaints and \"\n",
        "    \"queries.\\n\"\n",
        "    \"Your job is to correctly categorize an inputted customer query or complaint \"\n",
        "    \"into one of the following categories.\\n\"\n",
        "    \"Categories:\\n\"\n",
        "    f\"{class_names_str}\\n\\n\"\n",
        "    \"You will answer with just the the correct category and nothing else.\"\n",
        ")\n",
        "user_prompt = \"Categorize the following query:\"\n",
        "prompt_prefix = chat_template_shared_instructions.format(\n",
        "    system_message=system_message,\n",
        "    user_prompt=user_prompt,\n",
        ")\n",
        "\n",
        "df_tr_mini[\"prompt_suffix\"] = [\n",
        "    chat_template_prompt.format(prompt=text) for text in df_tr_mini[\"text\"]\n",
        "]"
      ]
    },
    {
      "cell_type": "code",
      "execution_count": 34,
      "metadata": {
        "colab": {
          "base_uri": "https://localhost:8080/"
        },
        "id": "z4JhAjkP0lb4",
        "outputId": "b125fcca-3840-4592-90d9-c0434993012d"
      },
      "outputs": [
        {
          "name": "stdout",
          "output_type": "stream",
          "text": [
            "<|im_start|>system\n",
            "You are an expert at understanding bank customers support complaints and queries.\n",
            "Your job is to correctly categorize an inputted customer query or complaint into one of the following categories.\n",
            "Categories:\n",
            "Activate my card\n",
            "Age limit\n",
            "Apple pay or google pay\n",
            "Atm support\n",
            "Automatic top up\n",
            "Balance not updated after bank transfer\n",
            "Balance not updated after cheque or cash deposit\n",
            "Beneficiary not allowed\n",
            "Cancel transfer\n",
            "Card about to expire\n",
            "Card acceptance\n",
            "Card arrival\n",
            "Card delivery estimate\n",
            "Card linking\n",
            "Card not working\n",
            "Card payment fee charged\n",
            "Card payment not recognised\n",
            "Card payment wrong exchange rate\n",
            "Card swallowed\n",
            "Cash withdrawal charge\n",
            "Cash withdrawal not recognised\n",
            "Change pin\n",
            "Compromised card\n",
            "Contactless not working\n",
            "Country support\n",
            "Declined card payment\n",
            "Declined cash withdrawal\n",
            "Declined transfer\n",
            "Direct debit payment not recognised\n",
            "Disposable card limits\n",
            "Edit personal details\n",
            "Exchange charge\n",
            "Exchange rate\n",
            "Exchange via app\n",
            "Extra charge on statement\n",
            "Failed transfer\n",
            "Fiat currency support\n",
            "Get disposable virtual card\n",
            "Get physical card\n",
            "Getting spare card\n",
            "Getting virtual card\n",
            "Lost or stolen card\n",
            "Lost or stolen phone\n",
            "Order physical card\n",
            "Passcode forgotten\n",
            "Pending card payment\n",
            "Pending cash withdrawal\n",
            "Pending top up\n",
            "Pending transfer\n",
            "Pin blocked\n",
            "Receiving money\n",
            "Refund not showing up\n",
            "Request refund\n",
            "Reverted card payment?\n",
            "Supported cards and currencies\n",
            "Terminate account\n",
            "Top up by bank transfer charge\n",
            "Top up by card charge\n",
            "Top up by cash or cheque\n",
            "Top up failed\n",
            "Top up limits\n",
            "Top up reverted\n",
            "Topping up by card\n",
            "Transaction charged twice\n",
            "Transfer fee charged\n",
            "Transfer into account\n",
            "Transfer not received by recipient\n",
            "Transfer timing\n",
            "Unable to verify identity\n",
            "Verify my identity\n",
            "Verify source of funds\n",
            "Verify top up\n",
            "Virtual card not working\n",
            "Visa or mastercard\n",
            "Why verify identity\n",
            "Wrong amount of cash received\n",
            "Wrong exchange rate for cash withdrawal\n",
            "\n",
            "You will answer with just the the correct category and nothing else.<|im_end|>\n",
            "<|im_start|>user\n",
            "Categorize the following query: I'm worried my card might be lost in the mail? How long does it usually take to arrive?<|im_end|>\n",
            "<|im_start|>assistant\n",
            "\n"
          ]
        }
      ],
      "source": [
        "# Here's what the model will see\n",
        "print(prompt_prefix + \" \" + df_tr_mini[\"prompt_suffix\"].iloc[0])"
      ]
    },
    {
      "cell_type": "code",
      "execution_count": 35,
      "metadata": {
        "colab": {
          "base_uri": "https://localhost:8080/",
          "height": 49,
          "referenced_widgets": [
            "cd7eba5a3a244d94b9a00e5494eba3c2",
            "c2e391b30f8e4927b18d8f8bb55e48e1",
            "0fb3fb8771b34006bb6769c9b782f06e",
            "830758eccef84671b9fb23ac4c8a4acf",
            "61bc71cf844b497a9c6ef0ca91603e1d",
            "84c888e2b52a456fad40bfb4e2f49243",
            "1552e1ac330346e494cb9f4fca31ebab",
            "0211359fb4e24ea39b6aa0eaf3750daa",
            "ff002e351431407d8c4f92a65955aa7a",
            "1e4fd94a12624e6f877c8b6f55208efe",
            "b0014c9ab1d346af877797a26de8226e"
          ]
        },
        "id": "-zgvkS1c0qWg",
        "outputId": "06be9ee9-026b-4eab-b55f-2c737b8fb956"
      },
      "outputs": [
        {
          "data": {
            "application/vnd.jupyter.widget-view+json": {
              "model_id": "cd7eba5a3a244d94b9a00e5494eba3c2",
              "version_major": 2,
              "version_minor": 0
            },
            "text/plain": [
              "conditional log-probs:   0%|          | 0/200 [00:00<?, ?it/s]"
            ]
          },
          "metadata": {},
          "output_type": "display_data"
        }
      ],
      "source": [
        "with hf.classify.cache((model, tokenizer), prompt_prefix) as cached:\n",
        "    pred_probs = hf.classify.predict_proba(\n",
        "        prompts=df_tr_mini[\"prompt_suffix\"],\n",
        "        completions=class_names,\n",
        "        model_and_tokenizer=cached,\n",
        "        batch_size=1,\n",
        "        batch_size_completions=26,  # 77 / 3\n",
        "    )"
      ]
    },
    {
      "cell_type": "code",
      "execution_count": 36,
      "metadata": {
        "colab": {
          "base_uri": "https://localhost:8080/"
        },
        "id": "B9vUa_uQ4PDJ",
        "outputId": "904f24e5-8fc3-46c0-9984-f2f4c086a2e3"
      },
      "outputs": [
        {
          "data": {
            "text/plain": [
              "0.575"
            ]
          },
          "execution_count": 36,
          "metadata": {},
          "output_type": "execute_result"
        }
      ],
      "source": [
        "(df_tr_mini[\"label\"] == pred_probs.argmax(axis=1)).mean()"
      ]
    },
    {
      "cell_type": "markdown",
      "metadata": {
        "id": "hWbPLmYz6QYi"
      },
      "source": [
        "# CAPPr - small prompt"
      ]
    },
    {
      "cell_type": "markdown",
      "metadata": {
        "id": "D1JVgMlS6QYi"
      },
      "source": [
        "How well can LMs classify without having classes in their context? If they can do so just fine, we'd save model\n",
        "context and GPU memory requirements. Let's see how well a summarizaton-style prompt\n",
        "works."
      ]
    },
    {
      "cell_type": "code",
      "execution_count": 37,
      "metadata": {
        "id": "wwgSZAzgR1Wi"
      },
      "outputs": [],
      "source": [
        "def prompt(text: str) -> str:\n",
        "    system_message = (\n",
        "        \"Summarize a banking customer service query in a few words.\"\n",
        "    )\n",
        "    prompt = f'Query: {text}\\nSummary:'\n",
        "    return chat_template.format(\n",
        "        system_message=system_message, prompt=prompt\n",
        "    )"
      ]
    },
    {
      "cell_type": "code",
      "execution_count": 38,
      "metadata": {
        "colab": {
          "base_uri": "https://localhost:8080/"
        },
        "id": "PDAWvyR1R1Wj",
        "outputId": "245fbaf3-ae40-46c4-fd74-238345be709e"
      },
      "outputs": [
        {
          "name": "stdout",
          "output_type": "stream",
          "text": [
            "<|im_start|>system\n",
            "Summarize a banking customer service query in a few words.<|im_end|>\n",
            "<|im_start|>user\n",
            "Query: I'm worried my card might be lost in the mail? How long does it usually take to arrive?\n",
            "Summary:<|im_end|>\n",
            "<|im_start|>assistant\n",
            "\n"
          ]
        }
      ],
      "source": [
        "df_tr_mini[\"prompt\"] = [prompt(text) for text in df_tr_mini[\"text\"]]\n",
        "print(df_tr_mini[\"prompt\"].iloc[0])"
      ]
    },
    {
      "cell_type": "code",
      "execution_count": 39,
      "metadata": {
        "colab": {
          "base_uri": "https://localhost:8080/"
        },
        "id": "4_lvokAzR1Wk",
        "outputId": "9568438b-b876-46ef-9b38-edba90c1633e"
      },
      "outputs": [
        {
          "name": "stdout",
          "output_type": "stream",
          "text": [
            "Card delivery estimate\n"
          ]
        }
      ],
      "source": [
        "print(df_tr_mini[\"class_name\"].iloc[0])"
      ]
    },
    {
      "cell_type": "code",
      "execution_count": 40,
      "metadata": {
        "colab": {
          "base_uri": "https://localhost:8080/",
          "height": 49,
          "referenced_widgets": [
            "b4967a718a024b449e2ddb63f68bff0a",
            "0fd1c0fc568e483cb7c95639f450b503",
            "59a6b146f6e1427da3a98f9604e703b9",
            "becdd33249f846888fb1b34d0a8457b5",
            "d57518422ce34565b55b727ff36cba03",
            "1ffa6773c0a24c4298d906d512a69d55",
            "e97216c893fd4402be9fe00e4b85d3b5",
            "5e48a93a53544aca8e24d1c7d341086b",
            "94d2590ad48147e5854849d30016df0e",
            "79f61029a6044371950287d77e03e9c7",
            "e7601da3c8d548059bc3ec1f2c97f5aa"
          ]
        },
        "id": "NSrcE1AvR1Wk",
        "outputId": "8aa19d0d-44eb-47c4-ba16-e1f70509973d"
      },
      "outputs": [
        {
          "data": {
            "application/vnd.jupyter.widget-view+json": {
              "model_id": "b4967a718a024b449e2ddb63f68bff0a",
              "version_major": 2,
              "version_minor": 0
            },
            "text/plain": [
              "conditional log-probs:   0%|          | 0/200 [00:00<?, ?it/s]"
            ]
          },
          "metadata": {},
          "output_type": "display_data"
        }
      ],
      "source": [
        "pred_probs_small_prompt = hf.classify.predict_proba(\n",
        "    prompts=df_tr_mini[\"prompt\"],\n",
        "    completions=class_names,\n",
        "    model_and_tokenizer=(model, tokenizer),\n",
        "    batch_size=2,\n",
        ")"
      ]
    },
    {
      "cell_type": "code",
      "execution_count": 41,
      "metadata": {
        "colab": {
          "base_uri": "https://localhost:8080/"
        },
        "id": "2xBnltP7R1Wk",
        "outputId": "27def3f4-00fe-48f8-dcac-2aef2c48e030"
      },
      "outputs": [
        {
          "data": {
            "text/plain": [
              "0.365"
            ]
          },
          "execution_count": 41,
          "metadata": {},
          "output_type": "execute_result"
        }
      ],
      "source": [
        "(df_tr_mini[\"label\"] == pred_probs_small_prompt.argmax(axis=1)).mean()"
      ]
    },
    {
      "cell_type": "markdown",
      "metadata": {
        "id": "e7Ky6Rp8CRwc"
      },
      "source": [
        "That's a 20% drop in accuracy, yikes. We can't get away w/ this prompting style for this\n",
        "task."
      ]
    },
    {
      "cell_type": "markdown",
      "metadata": {
        "id": "5Lppbb3B6QYj"
      },
      "source": [
        "## Calibration"
      ]
    },
    {
      "cell_type": "markdown",
      "metadata": {
        "id": "lb3gnPvNfoIR"
      },
      "source": [
        "While we're here, check out calibration."
      ]
    },
    {
      "cell_type": "code",
      "execution_count": 42,
      "metadata": {
        "id": "Znoou8jbd0ic"
      },
      "outputs": [],
      "source": [
        "def plot_calibration_curve(y, pred_probs, n_bins=5, title=\"\"):\n",
        "    # gather statistics\n",
        "    prob_true, prob_pred = calibration_curve(y, pred_probs, n_bins=n_bins)\n",
        "    bins = np.linspace(0, 1, n_bins + 1)\n",
        "    bin_inds = np.digitize(pred_probs, bins) - 1\n",
        "    bin_sizes = np.bincount(bin_inds)\n",
        "    y_std_err = np.sqrt(prob_true * (1 - prob_true) / bin_sizes)\n",
        "\n",
        "    # plot curve\n",
        "    plt.errorbar(\n",
        "        prob_pred,\n",
        "        prob_true,\n",
        "        yerr=2 * y_std_err,\n",
        "        label=\"Model w/ 95% CI\",\n",
        "        capsize=5,\n",
        "        marker=\"o\",\n",
        "        linestyle=\"dashed\",\n",
        "    )\n",
        "    plt.plot([0, 1], [0, 1], label=\"Perfect calibration\")\n",
        "    plt.legend()\n",
        "    plt.ylim(0, 1)\n",
        "    plt.xlim(0, 1)\n",
        "    plt.xlabel(\"Predicted probability\")\n",
        "    plt.ylabel(\"Observed fraction correct\")\n",
        "    plt.title(title)"
      ]
    },
    {
      "cell_type": "code",
      "execution_count": 43,
      "metadata": {
        "colab": {
          "base_uri": "https://localhost:8080/",
          "height": 472
        },
        "id": "KaPrehZLelbc",
        "outputId": "6970a57f-cf95-4edb-d357-7c1b6456426d"
      },
      "outputs": [
        {
          "data": {
            "image/png": "[encoded data removed]",
            "text/plain": [
              "<Figure size 640x480 with 1 Axes>"
            ]
          },
          "metadata": {},
          "output_type": "display_data"
        }
      ],
      "source": [
        "plot_calibration_curve(\n",
        "    df_tr_mini[\"label\"] == pred_probs_small_prompt.argmax(axis=1),\n",
        "    pred_probs_small_prompt.max(axis=1),\n",
        "    n_bins=5,\n",
        "    title=\"Dataset: banking 77\",\n",
        ")"
      ]
    },
    {
      "cell_type": "markdown",
      "metadata": {
        "id": "24Y53dtg6QYk"
      },
      "source": [
        "That's pretty good considering there are 77 classes. One application of calibrated\n",
        "probabilities is that they make auto-approval systems easy to configure: you can\n",
        "immediately guess-timate a threshold for the smallest probabilty that meets some\n",
        "requirement on correctness. I'll flesh out auto-approval in a different notebook."
      ]
    },
    {
      "cell_type": "markdown",
      "metadata": {
        "id": "xjTa5GXPDO_r"
      },
      "source": [
        "Let's see how calibrated the bigger, more discriminative prompt is."
      ]
    },
    {
      "cell_type": "code",
      "execution_count": 44,
      "metadata": {
        "colab": {
          "base_uri": "https://localhost:8080/",
          "height": 472
        },
        "id": "yvIj2-yCDTqK",
        "outputId": "3f30bea7-59a5-4a1f-b632-30529fc51f98"
      },
      "outputs": [
        {
          "data": {
            "image/png": "[encoded data removed]",
            "text/plain": [
              "<Figure size 640x480 with 1 Axes>"
            ]
          },
          "metadata": {},
          "output_type": "display_data"
        }
      ],
      "source": [
        "plot_calibration_curve(\n",
        "    df_tr_mini[\"label\"] == pred_probs.argmax(axis=1),\n",
        "    pred_probs.max(axis=1),\n",
        "    n_bins=5,\n",
        "    title=\"Dataset: banking 77 (bigger prompt)\",\n",
        ")"
      ]
    },
    {
      "cell_type": "markdown",
      "metadata": {
        "id": "72cK1-4PDaMB"
      },
      "source": [
        "Weird. It's not as calibrated. It's highly underconfident; it allocates too much probability to the 76 wrong (but perhaps plausible?) classes. Maybe it's still better for auto-approval applications. I'll take a look later."
      ]
    }
  ],
  "metadata": {
    "accelerator": "GPU",
    "colab": {
      "gpuType": "T4",
      "provenance": [],
      "toc_visible": true
    },
    "kernelspec": {
      "display_name": "Python 3",
      "name": "python3"
    },
    "language_info": {
      "codemirror_mode": {
        "name": "ipython",
        "version": 3
      },
      "file_extension": ".py",
      "mimetype": "text/x-python",
      "name": "python",
      "nbconvert_exporter": "python",
      "pygments_lexer": "ipython3",
      "version": "3.11.5"
    },
    "widgets": {
      "application/vnd.jupyter.widget-state+json": {
        "0211359fb4e24ea39b6aa0eaf3750daa": {
          "model_module": "@jupyter-widgets/base",
          "model_module_version": "1.2.0",
          "model_name": "LayoutModel",
          "state": {
            "_model_module": "@jupyter-widgets/base",
            "_model_module_version": "1.2.0",
            "_model_name": "LayoutModel",
            "_view_count": null,
            "_view_module": "@jupyter-widgets/base",
            "_view_module_version": "1.2.0",
            "_view_name": "LayoutView",
            "align_content": null,
            "align_items": null,
            "align_self": null,
            "border": null,
            "bottom": null,
            "display": null,
            "flex": null,
            "flex_flow": null,
            "grid_area": null,
            "grid_auto_columns": null,
            "grid_auto_flow": null,
            "grid_auto_rows": null,
            "grid_column": null,
            "grid_gap": null,
            "grid_row": null,
            "grid_template_areas": null,
            "grid_template_columns": null,
            "grid_template_rows": null,
            "height": null,
            "justify_content": null,
            "justify_items": null,
            "left": null,
            "margin": null,
            "max_height": null,
            "max_width": null,
            "min_height": null,
            "min_width": null,
            "object_fit": null,
            "object_position": null,
            "order": null,
            "overflow": null,
            "overflow_x": null,
            "overflow_y": null,
            "padding": null,
            "right": null,
            "top": null,
            "visibility": null,
            "width": null
          }
        },
        "0fb3fb8771b34006bb6769c9b782f06e": {
          "model_module": "@jupyter-widgets/controls",
          "model_module_version": "1.5.0",
          "model_name": "FloatProgressModel",
          "state": {
            "_dom_classes": [],
            "_model_module": "@jupyter-widgets/controls",
            "_model_module_version": "1.5.0",
            "_model_name": "FloatProgressModel",
            "_view_count": null,
            "_view_module": "@jupyter-widgets/controls",
            "_view_module_version": "1.5.0",
            "_view_name": "ProgressView",
            "bar_style": "success",
            "description": "",
            "description_tooltip": null,
            "layout": "IPY_MODEL_0211359fb4e24ea39b6aa0eaf3750daa",
            "max": 200,
            "min": 0,
            "orientation": "horizontal",
            "style": "IPY_MODEL_ff002e351431407d8c4f92a65955aa7a",
            "value": 200
          }
        },
        "0fd1c0fc568e483cb7c95639f450b503": {
          "model_module": "@jupyter-widgets/controls",
          "model_module_version": "1.5.0",
          "model_name": "HTMLModel",
          "state": {
            "_dom_classes": [],
            "_model_module": "@jupyter-widgets/controls",
            "_model_module_version": "1.5.0",
            "_model_name": "HTMLModel",
            "_view_count": null,
            "_view_module": "@jupyter-widgets/controls",
            "_view_module_version": "1.5.0",
            "_view_name": "HTMLView",
            "description": "",
            "description_tooltip": null,
            "layout": "IPY_MODEL_1ffa6773c0a24c4298d906d512a69d55",
            "placeholder": "​",
            "style": "IPY_MODEL_e97216c893fd4402be9fe00e4b85d3b5",
            "value": "conditional log-probs: 100%"
          }
        },
        "1552e1ac330346e494cb9f4fca31ebab": {
          "model_module": "@jupyter-widgets/controls",
          "model_module_version": "1.5.0",
          "model_name": "DescriptionStyleModel",
          "state": {
            "_model_module": "@jupyter-widgets/controls",
            "_model_module_version": "1.5.0",
            "_model_name": "DescriptionStyleModel",
            "_view_count": null,
            "_view_module": "@jupyter-widgets/base",
            "_view_module_version": "1.2.0",
            "_view_name": "StyleView",
            "description_width": ""
          }
        },
        "1e4fd94a12624e6f877c8b6f55208efe": {
          "model_module": "@jupyter-widgets/base",
          "model_module_version": "1.2.0",
          "model_name": "LayoutModel",
          "state": {
            "_model_module": "@jupyter-widgets/base",
            "_model_module_version": "1.2.0",
            "_model_name": "LayoutModel",
            "_view_count": null,
            "_view_module": "@jupyter-widgets/base",
            "_view_module_version": "1.2.0",
            "_view_name": "LayoutView",
            "align_content": null,
            "align_items": null,
            "align_self": null,
            "border": null,
            "bottom": null,
            "display": null,
            "flex": null,
            "flex_flow": null,
            "grid_area": null,
            "grid_auto_columns": null,
            "grid_auto_flow": null,
            "grid_auto_rows": null,
            "grid_column": null,
            "grid_gap": null,
            "grid_row": null,
            "grid_template_areas": null,
            "grid_template_columns": null,
            "grid_template_rows": null,
            "height": null,
            "justify_content": null,
            "justify_items": null,
            "left": null,
            "margin": null,
            "max_height": null,
            "max_width": null,
            "min_height": null,
            "min_width": null,
            "object_fit": null,
            "object_position": null,
            "order": null,
            "overflow": null,
            "overflow_x": null,
            "overflow_y": null,
            "padding": null,
            "right": null,
            "top": null,
            "visibility": null,
            "width": null
          }
        },
        "1efd522684154192ab4d923c2a60e181": {
          "model_module": "@jupyter-widgets/controls",
          "model_module_version": "1.5.0",
          "model_name": "HTMLModel",
          "state": {
            "_dom_classes": [],
            "_model_module": "@jupyter-widgets/controls",
            "_model_module_version": "1.5.0",
            "_model_name": "HTMLModel",
            "_view_count": null,
            "_view_module": "@jupyter-widgets/controls",
            "_view_module_version": "1.5.0",
            "_view_name": "HTMLView",
            "description": "",
            "description_tooltip": null,
            "layout": "IPY_MODEL_7f1a0c659965468199b3da411121a7e4",
            "placeholder": "​",
            "style": "IPY_MODEL_d7f8d891059b4f9984a354d42880942e",
            "value": "Sampling: 100%"
          }
        },
        "1ffa6773c0a24c4298d906d512a69d55": {
          "model_module": "@jupyter-widgets/base",
          "model_module_version": "1.2.0",
          "model_name": "LayoutModel",
          "state": {
            "_model_module": "@jupyter-widgets/base",
            "_model_module_version": "1.2.0",
            "_model_name": "LayoutModel",
            "_view_count": null,
            "_view_module": "@jupyter-widgets/base",
            "_view_module_version": "1.2.0",
            "_view_name": "LayoutView",
            "align_content": null,
            "align_items": null,
            "align_self": null,
            "border": null,
            "bottom": null,
            "display": null,
            "flex": null,
            "flex_flow": null,
            "grid_area": null,
            "grid_auto_columns": null,
            "grid_auto_flow": null,
            "grid_auto_rows": null,
            "grid_column": null,
            "grid_gap": null,
            "grid_row": null,
            "grid_template_areas": null,
            "grid_template_columns": null,
            "grid_template_rows": null,
            "height": null,
            "justify_content": null,
            "justify_items": null,
            "left": null,
            "margin": null,
            "max_height": null,
            "max_width": null,
            "min_height": null,
            "min_width": null,
            "object_fit": null,
            "object_position": null,
            "order": null,
            "overflow": null,
            "overflow_x": null,
            "overflow_y": null,
            "padding": null,
            "right": null,
            "top": null,
            "visibility": null,
            "width": null
          }
        },
        "52491f900c4542a4b440c3e2f876a2ce": {
          "model_module": "@jupyter-widgets/base",
          "model_module_version": "1.2.0",
          "model_name": "LayoutModel",
          "state": {
            "_model_module": "@jupyter-widgets/base",
            "_model_module_version": "1.2.0",
            "_model_name": "LayoutModel",
            "_view_count": null,
            "_view_module": "@jupyter-widgets/base",
            "_view_module_version": "1.2.0",
            "_view_name": "LayoutView",
            "align_content": null,
            "align_items": null,
            "align_self": null,
            "border": null,
            "bottom": null,
            "display": null,
            "flex": null,
            "flex_flow": null,
            "grid_area": null,
            "grid_auto_columns": null,
            "grid_auto_flow": null,
            "grid_auto_rows": null,
            "grid_column": null,
            "grid_gap": null,
            "grid_row": null,
            "grid_template_areas": null,
            "grid_template_columns": null,
            "grid_template_rows": null,
            "height": null,
            "justify_content": null,
            "justify_items": null,
            "left": null,
            "margin": null,
            "max_height": null,
            "max_width": null,
            "min_height": null,
            "min_width": null,
            "object_fit": null,
            "object_position": null,
            "order": null,
            "overflow": null,
            "overflow_x": null,
            "overflow_y": null,
            "padding": null,
            "right": null,
            "top": null,
            "visibility": null,
            "width": null
          }
        },
        "59a6b146f6e1427da3a98f9604e703b9": {
          "model_module": "@jupyter-widgets/controls",
          "model_module_version": "1.5.0",
          "model_name": "FloatProgressModel",
          "state": {
            "_dom_classes": [],
            "_model_module": "@jupyter-widgets/controls",
            "_model_module_version": "1.5.0",
            "_model_name": "FloatProgressModel",
            "_view_count": null,
            "_view_module": "@jupyter-widgets/controls",
            "_view_module_version": "1.5.0",
            "_view_name": "ProgressView",
            "bar_style": "success",
            "description": "",
            "description_tooltip": null,
            "layout": "IPY_MODEL_5e48a93a53544aca8e24d1c7d341086b",
            "max": 200,
            "min": 0,
            "orientation": "horizontal",
            "style": "IPY_MODEL_94d2590ad48147e5854849d30016df0e",
            "value": 200
          }
        },
        "5e48a93a53544aca8e24d1c7d341086b": {
          "model_module": "@jupyter-widgets/base",
          "model_module_version": "1.2.0",
          "model_name": "LayoutModel",
          "state": {
            "_model_module": "@jupyter-widgets/base",
            "_model_module_version": "1.2.0",
            "_model_name": "LayoutModel",
            "_view_count": null,
            "_view_module": "@jupyter-widgets/base",
            "_view_module_version": "1.2.0",
            "_view_name": "LayoutView",
            "align_content": null,
            "align_items": null,
            "align_self": null,
            "border": null,
            "bottom": null,
            "display": null,
            "flex": null,
            "flex_flow": null,
            "grid_area": null,
            "grid_auto_columns": null,
            "grid_auto_flow": null,
            "grid_auto_rows": null,
            "grid_column": null,
            "grid_gap": null,
            "grid_row": null,
            "grid_template_areas": null,
            "grid_template_columns": null,
            "grid_template_rows": null,
            "height": null,
            "justify_content": null,
            "justify_items": null,
            "left": null,
            "margin": null,
            "max_height": null,
            "max_width": null,
            "min_height": null,
            "min_width": null,
            "object_fit": null,
            "object_position": null,
            "order": null,
            "overflow": null,
            "overflow_x": null,
            "overflow_y": null,
            "padding": null,
            "right": null,
            "top": null,
            "visibility": null,
            "width": null
          }
        },
        "61bc71cf844b497a9c6ef0ca91603e1d": {
          "model_module": "@jupyter-widgets/base",
          "model_module_version": "1.2.0",
          "model_name": "LayoutModel",
          "state": {
            "_model_module": "@jupyter-widgets/base",
            "_model_module_version": "1.2.0",
            "_model_name": "LayoutModel",
            "_view_count": null,
            "_view_module": "@jupyter-widgets/base",
            "_view_module_version": "1.2.0",
            "_view_name": "LayoutView",
            "align_content": null,
            "align_items": null,
            "align_self": null,
            "border": null,
            "bottom": null,
            "display": null,
            "flex": null,
            "flex_flow": null,
            "grid_area": null,
            "grid_auto_columns": null,
            "grid_auto_flow": null,
            "grid_auto_rows": null,
            "grid_column": null,
            "grid_gap": null,
            "grid_row": null,
            "grid_template_areas": null,
            "grid_template_columns": null,
            "grid_template_rows": null,
            "height": null,
            "justify_content": null,
            "justify_items": null,
            "left": null,
            "margin": null,
            "max_height": null,
            "max_width": null,
            "min_height": null,
            "min_width": null,
            "object_fit": null,
            "object_position": null,
            "order": null,
            "overflow": null,
            "overflow_x": null,
            "overflow_y": null,
            "padding": null,
            "right": null,
            "top": null,
            "visibility": null,
            "width": null
          }
        },
        "6fd3e658057d407c9031a352869211be": {
          "model_module": "@jupyter-widgets/controls",
          "model_module_version": "1.5.0",
          "model_name": "HTMLModel",
          "state": {
            "_dom_classes": [],
            "_model_module": "@jupyter-widgets/controls",
            "_model_module_version": "1.5.0",
            "_model_name": "HTMLModel",
            "_view_count": null,
            "_view_module": "@jupyter-widgets/controls",
            "_view_module_version": "1.5.0",
            "_view_name": "HTMLView",
            "description": "",
            "description_tooltip": null,
            "layout": "IPY_MODEL_52491f900c4542a4b440c3e2f876a2ce",
            "placeholder": "​",
            "style": "IPY_MODEL_c62e474961034ec6bd979affb99c2e7d",
            "value": " 200/200 [02:19&lt;00:00,  1.54it/s]"
          }
        },
        "79f61029a6044371950287d77e03e9c7": {
          "model_module": "@jupyter-widgets/base",
          "model_module_version": "1.2.0",
          "model_name": "LayoutModel",
          "state": {
            "_model_module": "@jupyter-widgets/base",
            "_model_module_version": "1.2.0",
            "_model_name": "LayoutModel",
            "_view_count": null,
            "_view_module": "@jupyter-widgets/base",
            "_view_module_version": "1.2.0",
            "_view_name": "LayoutView",
            "align_content": null,
            "align_items": null,
            "align_self": null,
            "border": null,
            "bottom": null,
            "display": null,
            "flex": null,
            "flex_flow": null,
            "grid_area": null,
            "grid_auto_columns": null,
            "grid_auto_flow": null,
            "grid_auto_rows": null,
            "grid_column": null,
            "grid_gap": null,
            "grid_row": null,
            "grid_template_areas": null,
            "grid_template_columns": null,
            "grid_template_rows": null,
            "height": null,
            "justify_content": null,
            "justify_items": null,
            "left": null,
            "margin": null,
            "max_height": null,
            "max_width": null,
            "min_height": null,
            "min_width": null,
            "object_fit": null,
            "object_position": null,
            "order": null,
            "overflow": null,
            "overflow_x": null,
            "overflow_y": null,
            "padding": null,
            "right": null,
            "top": null,
            "visibility": null,
            "width": null
          }
        },
        "7f1a0c659965468199b3da411121a7e4": {
          "model_module": "@jupyter-widgets/base",
          "model_module_version": "1.2.0",
          "model_name": "LayoutModel",
          "state": {
            "_model_module": "@jupyter-widgets/base",
            "_model_module_version": "1.2.0",
            "_model_name": "LayoutModel",
            "_view_count": null,
            "_view_module": "@jupyter-widgets/base",
            "_view_module_version": "1.2.0",
            "_view_name": "LayoutView",
            "align_content": null,
            "align_items": null,
            "align_self": null,
            "border": null,
            "bottom": null,
            "display": null,
            "flex": null,
            "flex_flow": null,
            "grid_area": null,
            "grid_auto_columns": null,
            "grid_auto_flow": null,
            "grid_auto_rows": null,
            "grid_column": null,
            "grid_gap": null,
            "grid_row": null,
            "grid_template_areas": null,
            "grid_template_columns": null,
            "grid_template_rows": null,
            "height": null,
            "justify_content": null,
            "justify_items": null,
            "left": null,
            "margin": null,
            "max_height": null,
            "max_width": null,
            "min_height": null,
            "min_width": null,
            "object_fit": null,
            "object_position": null,
            "order": null,
            "overflow": null,
            "overflow_x": null,
            "overflow_y": null,
            "padding": null,
            "right": null,
            "top": null,
            "visibility": null,
            "width": null
          }
        },
        "7f5a548b6a704d62a8497440a6c27d82": {
          "model_module": "@jupyter-widgets/controls",
          "model_module_version": "1.5.0",
          "model_name": "FloatProgressModel",
          "state": {
            "_dom_classes": [],
            "_model_module": "@jupyter-widgets/controls",
            "_model_module_version": "1.5.0",
            "_model_name": "FloatProgressModel",
            "_view_count": null,
            "_view_module": "@jupyter-widgets/controls",
            "_view_module_version": "1.5.0",
            "_view_name": "ProgressView",
            "bar_style": "success",
            "description": "",
            "description_tooltip": null,
            "layout": "IPY_MODEL_99f9dd1f59c44562bafda47c6c831da3",
            "max": 200,
            "min": 0,
            "orientation": "horizontal",
            "style": "IPY_MODEL_f0c3f8bb8387459c8b79ad070d6e67ab",
            "value": 200
          }
        },
        "830758eccef84671b9fb23ac4c8a4acf": {
          "model_module": "@jupyter-widgets/controls",
          "model_module_version": "1.5.0",
          "model_name": "HTMLModel",
          "state": {
            "_dom_classes": [],
            "_model_module": "@jupyter-widgets/controls",
            "_model_module_version": "1.5.0",
            "_model_name": "HTMLModel",
            "_view_count": null,
            "_view_module": "@jupyter-widgets/controls",
            "_view_module_version": "1.5.0",
            "_view_name": "HTMLView",
            "description": "",
            "description_tooltip": null,
            "layout": "IPY_MODEL_1e4fd94a12624e6f877c8b6f55208efe",
            "placeholder": "​",
            "style": "IPY_MODEL_b0014c9ab1d346af877797a26de8226e",
            "value": " 200/200 [05:51&lt;00:00,  1.74s/it]"
          }
        },
        "84c888e2b52a456fad40bfb4e2f49243": {
          "model_module": "@jupyter-widgets/base",
          "model_module_version": "1.2.0",
          "model_name": "LayoutModel",
          "state": {
            "_model_module": "@jupyter-widgets/base",
            "_model_module_version": "1.2.0",
            "_model_name": "LayoutModel",
            "_view_count": null,
            "_view_module": "@jupyter-widgets/base",
            "_view_module_version": "1.2.0",
            "_view_name": "LayoutView",
            "align_content": null,
            "align_items": null,
            "align_self": null,
            "border": null,
            "bottom": null,
            "display": null,
            "flex": null,
            "flex_flow": null,
            "grid_area": null,
            "grid_auto_columns": null,
            "grid_auto_flow": null,
            "grid_auto_rows": null,
            "grid_column": null,
            "grid_gap": null,
            "grid_row": null,
            "grid_template_areas": null,
            "grid_template_columns": null,
            "grid_template_rows": null,
            "height": null,
            "justify_content": null,
            "justify_items": null,
            "left": null,
            "margin": null,
            "max_height": null,
            "max_width": null,
            "min_height": null,
            "min_width": null,
            "object_fit": null,
            "object_position": null,
            "order": null,
            "overflow": null,
            "overflow_x": null,
            "overflow_y": null,
            "padding": null,
            "right": null,
            "top": null,
            "visibility": null,
            "width": null
          }
        },
        "94d2590ad48147e5854849d30016df0e": {
          "model_module": "@jupyter-widgets/controls",
          "model_module_version": "1.5.0",
          "model_name": "ProgressStyleModel",
          "state": {
            "_model_module": "@jupyter-widgets/controls",
            "_model_module_version": "1.5.0",
            "_model_name": "ProgressStyleModel",
            "_view_count": null,
            "_view_module": "@jupyter-widgets/base",
            "_view_module_version": "1.2.0",
            "_view_name": "StyleView",
            "bar_color": null,
            "description_width": ""
          }
        },
        "99f9dd1f59c44562bafda47c6c831da3": {
          "model_module": "@jupyter-widgets/base",
          "model_module_version": "1.2.0",
          "model_name": "LayoutModel",
          "state": {
            "_model_module": "@jupyter-widgets/base",
            "_model_module_version": "1.2.0",
            "_model_name": "LayoutModel",
            "_view_count": null,
            "_view_module": "@jupyter-widgets/base",
            "_view_module_version": "1.2.0",
            "_view_name": "LayoutView",
            "align_content": null,
            "align_items": null,
            "align_self": null,
            "border": null,
            "bottom": null,
            "display": null,
            "flex": null,
            "flex_flow": null,
            "grid_area": null,
            "grid_auto_columns": null,
            "grid_auto_flow": null,
            "grid_auto_rows": null,
            "grid_column": null,
            "grid_gap": null,
            "grid_row": null,
            "grid_template_areas": null,
            "grid_template_columns": null,
            "grid_template_rows": null,
            "height": null,
            "justify_content": null,
            "justify_items": null,
            "left": null,
            "margin": null,
            "max_height": null,
            "max_width": null,
            "min_height": null,
            "min_width": null,
            "object_fit": null,
            "object_position": null,
            "order": null,
            "overflow": null,
            "overflow_x": null,
            "overflow_y": null,
            "padding": null,
            "right": null,
            "top": null,
            "visibility": null,
            "width": null
          }
        },
        "b0014c9ab1d346af877797a26de8226e": {
          "model_module": "@jupyter-widgets/controls",
          "model_module_version": "1.5.0",
          "model_name": "DescriptionStyleModel",
          "state": {
            "_model_module": "@jupyter-widgets/controls",
            "_model_module_version": "1.5.0",
            "_model_name": "DescriptionStyleModel",
            "_view_count": null,
            "_view_module": "@jupyter-widgets/base",
            "_view_module_version": "1.2.0",
            "_view_name": "StyleView",
            "description_width": ""
          }
        },
        "b032fa669fab4cfdbf8dedad4bf75213": {
          "model_module": "@jupyter-widgets/base",
          "model_module_version": "1.2.0",
          "model_name": "LayoutModel",
          "state": {
            "_model_module": "@jupyter-widgets/base",
            "_model_module_version": "1.2.0",
            "_model_name": "LayoutModel",
            "_view_count": null,
            "_view_module": "@jupyter-widgets/base",
            "_view_module_version": "1.2.0",
            "_view_name": "LayoutView",
            "align_content": null,
            "align_items": null,
            "align_self": null,
            "border": null,
            "bottom": null,
            "display": null,
            "flex": null,
            "flex_flow": null,
            "grid_area": null,
            "grid_auto_columns": null,
            "grid_auto_flow": null,
            "grid_auto_rows": null,
            "grid_column": null,
            "grid_gap": null,
            "grid_row": null,
            "grid_template_areas": null,
            "grid_template_columns": null,
            "grid_template_rows": null,
            "height": null,
            "justify_content": null,
            "justify_items": null,
            "left": null,
            "margin": null,
            "max_height": null,
            "max_width": null,
            "min_height": null,
            "min_width": null,
            "object_fit": null,
            "object_position": null,
            "order": null,
            "overflow": null,
            "overflow_x": null,
            "overflow_y": null,
            "padding": null,
            "right": null,
            "top": null,
            "visibility": null,
            "width": null
          }
        },
        "b4967a718a024b449e2ddb63f68bff0a": {
          "model_module": "@jupyter-widgets/controls",
          "model_module_version": "1.5.0",
          "model_name": "HBoxModel",
          "state": {
            "_dom_classes": [],
            "_model_module": "@jupyter-widgets/controls",
            "_model_module_version": "1.5.0",
            "_model_name": "HBoxModel",
            "_view_count": null,
            "_view_module": "@jupyter-widgets/controls",
            "_view_module_version": "1.5.0",
            "_view_name": "HBoxView",
            "box_style": "",
            "children": [
              "IPY_MODEL_0fd1c0fc568e483cb7c95639f450b503",
              "IPY_MODEL_59a6b146f6e1427da3a98f9604e703b9",
              "IPY_MODEL_becdd33249f846888fb1b34d0a8457b5"
            ],
            "layout": "IPY_MODEL_d57518422ce34565b55b727ff36cba03"
          }
        },
        "becdd33249f846888fb1b34d0a8457b5": {
          "model_module": "@jupyter-widgets/controls",
          "model_module_version": "1.5.0",
          "model_name": "HTMLModel",
          "state": {
            "_dom_classes": [],
            "_model_module": "@jupyter-widgets/controls",
            "_model_module_version": "1.5.0",
            "_model_name": "HTMLModel",
            "_view_count": null,
            "_view_module": "@jupyter-widgets/controls",
            "_view_module_version": "1.5.0",
            "_view_name": "HTMLView",
            "description": "",
            "description_tooltip": null,
            "layout": "IPY_MODEL_79f61029a6044371950287d77e03e9c7",
            "placeholder": "​",
            "style": "IPY_MODEL_e7601da3c8d548059bc3ec1f2c97f5aa",
            "value": " 200/200 [02:54&lt;00:00,  1.17it/s]"
          }
        },
        "c085d8631cf44434b68eb3083f64944d": {
          "model_module": "@jupyter-widgets/controls",
          "model_module_version": "1.5.0",
          "model_name": "HBoxModel",
          "state": {
            "_dom_classes": [],
            "_model_module": "@jupyter-widgets/controls",
            "_model_module_version": "1.5.0",
            "_model_name": "HBoxModel",
            "_view_count": null,
            "_view_module": "@jupyter-widgets/controls",
            "_view_module_version": "1.5.0",
            "_view_name": "HBoxView",
            "box_style": "",
            "children": [
              "IPY_MODEL_1efd522684154192ab4d923c2a60e181",
              "IPY_MODEL_7f5a548b6a704d62a8497440a6c27d82",
              "IPY_MODEL_6fd3e658057d407c9031a352869211be"
            ],
            "layout": "IPY_MODEL_b032fa669fab4cfdbf8dedad4bf75213"
          }
        },
        "c2e391b30f8e4927b18d8f8bb55e48e1": {
          "model_module": "@jupyter-widgets/controls",
          "model_module_version": "1.5.0",
          "model_name": "HTMLModel",
          "state": {
            "_dom_classes": [],
            "_model_module": "@jupyter-widgets/controls",
            "_model_module_version": "1.5.0",
            "_model_name": "HTMLModel",
            "_view_count": null,
            "_view_module": "@jupyter-widgets/controls",
            "_view_module_version": "1.5.0",
            "_view_name": "HTMLView",
            "description": "",
            "description_tooltip": null,
            "layout": "IPY_MODEL_84c888e2b52a456fad40bfb4e2f49243",
            "placeholder": "​",
            "style": "IPY_MODEL_1552e1ac330346e494cb9f4fca31ebab",
            "value": "conditional log-probs: 100%"
          }
        },
        "c62e474961034ec6bd979affb99c2e7d": {
          "model_module": "@jupyter-widgets/controls",
          "model_module_version": "1.5.0",
          "model_name": "DescriptionStyleModel",
          "state": {
            "_model_module": "@jupyter-widgets/controls",
            "_model_module_version": "1.5.0",
            "_model_name": "DescriptionStyleModel",
            "_view_count": null,
            "_view_module": "@jupyter-widgets/base",
            "_view_module_version": "1.2.0",
            "_view_name": "StyleView",
            "description_width": ""
          }
        },
        "cd7eba5a3a244d94b9a00e5494eba3c2": {
          "model_module": "@jupyter-widgets/controls",
          "model_module_version": "1.5.0",
          "model_name": "HBoxModel",
          "state": {
            "_dom_classes": [],
            "_model_module": "@jupyter-widgets/controls",
            "_model_module_version": "1.5.0",
            "_model_name": "HBoxModel",
            "_view_count": null,
            "_view_module": "@jupyter-widgets/controls",
            "_view_module_version": "1.5.0",
            "_view_name": "HBoxView",
            "box_style": "",
            "children": [
              "IPY_MODEL_c2e391b30f8e4927b18d8f8bb55e48e1",
              "IPY_MODEL_0fb3fb8771b34006bb6769c9b782f06e",
              "IPY_MODEL_830758eccef84671b9fb23ac4c8a4acf"
            ],
            "layout": "IPY_MODEL_61bc71cf844b497a9c6ef0ca91603e1d"
          }
        },
        "d57518422ce34565b55b727ff36cba03": {
          "model_module": "@jupyter-widgets/base",
          "model_module_version": "1.2.0",
          "model_name": "LayoutModel",
          "state": {
            "_model_module": "@jupyter-widgets/base",
            "_model_module_version": "1.2.0",
            "_model_name": "LayoutModel",
            "_view_count": null,
            "_view_module": "@jupyter-widgets/base",
            "_view_module_version": "1.2.0",
            "_view_name": "LayoutView",
            "align_content": null,
            "align_items": null,
            "align_self": null,
            "border": null,
            "bottom": null,
            "display": null,
            "flex": null,
            "flex_flow": null,
            "grid_area": null,
            "grid_auto_columns": null,
            "grid_auto_flow": null,
            "grid_auto_rows": null,
            "grid_column": null,
            "grid_gap": null,
            "grid_row": null,
            "grid_template_areas": null,
            "grid_template_columns": null,
            "grid_template_rows": null,
            "height": null,
            "justify_content": null,
            "justify_items": null,
            "left": null,
            "margin": null,
            "max_height": null,
            "max_width": null,
            "min_height": null,
            "min_width": null,
            "object_fit": null,
            "object_position": null,
            "order": null,
            "overflow": null,
            "overflow_x": null,
            "overflow_y": null,
            "padding": null,
            "right": null,
            "top": null,
            "visibility": null,
            "width": null
          }
        },
        "d7f8d891059b4f9984a354d42880942e": {
          "model_module": "@jupyter-widgets/controls",
          "model_module_version": "1.5.0",
          "model_name": "DescriptionStyleModel",
          "state": {
            "_model_module": "@jupyter-widgets/controls",
            "_model_module_version": "1.5.0",
            "_model_name": "DescriptionStyleModel",
            "_view_count": null,
            "_view_module": "@jupyter-widgets/base",
            "_view_module_version": "1.2.0",
            "_view_name": "StyleView",
            "description_width": ""
          }
        },
        "e7601da3c8d548059bc3ec1f2c97f5aa": {
          "model_module": "@jupyter-widgets/controls",
          "model_module_version": "1.5.0",
          "model_name": "DescriptionStyleModel",
          "state": {
            "_model_module": "@jupyter-widgets/controls",
            "_model_module_version": "1.5.0",
            "_model_name": "DescriptionStyleModel",
            "_view_count": null,
            "_view_module": "@jupyter-widgets/base",
            "_view_module_version": "1.2.0",
            "_view_name": "StyleView",
            "description_width": ""
          }
        },
        "e97216c893fd4402be9fe00e4b85d3b5": {
          "model_module": "@jupyter-widgets/controls",
          "model_module_version": "1.5.0",
          "model_name": "DescriptionStyleModel",
          "state": {
            "_model_module": "@jupyter-widgets/controls",
            "_model_module_version": "1.5.0",
            "_model_name": "DescriptionStyleModel",
            "_view_count": null,
            "_view_module": "@jupyter-widgets/base",
            "_view_module_version": "1.2.0",
            "_view_name": "StyleView",
            "description_width": ""
          }
        },
        "f0c3f8bb8387459c8b79ad070d6e67ab": {
          "model_module": "@jupyter-widgets/controls",
          "model_module_version": "1.5.0",
          "model_name": "ProgressStyleModel",
          "state": {
            "_model_module": "@jupyter-widgets/controls",
            "_model_module_version": "1.5.0",
            "_model_name": "ProgressStyleModel",
            "_view_count": null,
            "_view_module": "@jupyter-widgets/base",
            "_view_module_version": "1.2.0",
            "_view_name": "StyleView",
            "bar_color": null,
            "description_width": ""
          }
        },
        "ff002e351431407d8c4f92a65955aa7a": {
          "model_module": "@jupyter-widgets/controls",
          "model_module_version": "1.5.0",
          "model_name": "ProgressStyleModel",
          "state": {
            "_model_module": "@jupyter-widgets/controls",
            "_model_module_version": "1.5.0",
            "_model_name": "ProgressStyleModel",
            "_view_count": null,
            "_view_module": "@jupyter-widgets/base",
            "_view_module_version": "1.2.0",
            "_view_name": "StyleView",
            "bar_color": null,
            "description_width": ""
          }
        }
      }
    }
  },
  "nbformat": 4,
  "nbformat_minor": 0
}
