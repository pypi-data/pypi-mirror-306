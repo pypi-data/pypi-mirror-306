{
  "cells": [
    {
      "cell_type": "markdown",
      "metadata": {
        "id": "-ZpCqBbPKm9x"
      },
      "source": [
        "You must run this notebook on a GPU. A T4 is sufficient. It's free on [Google\n",
        "Colab](https://stackoverflow.com/questions/62596466/how-can-i-run-notebooks-of-a-github-project-in-google-colab/67344477#67344477).\n",
        "\n",
        "**Description**: for a [GPTQd Mistral\n",
        "7B](https://huggingface.co/TheBloke/Mistral-7B-OpenOrca-GPTQ) and the\n",
        "[SciQ](https://allenai.org/data/sciq) classification task, this notebook demonstrates\n",
        "that CAPPr and text generation perform similarly. In general, you should expect similar\n",
        "or identical performance when every completion is 1 token long. Not much to learn from\n",
        "this demo, except that multiple choice questions can be super effective in the right\n",
        "setting.\n",
        "\n",
        "This notebook also demonstrates using the HF\n",
        "[`cache`](https://cappr.readthedocs.io/en/latest/cappr.huggingface.classify_no_batch.html#cappr.huggingface.classify_no_batch.cache)\n",
        "context manager.\n",
        "\n",
        "**Estimated run time**: ~1 min."
      ]
    },
    {
      "cell_type": "code",
      "execution_count": 1,
      "metadata": {
        "id": "jeKqyxxt0CjZ"
      },
      "outputs": [],
      "source": [
        "!pip install torch==2.2.1 torchaudio torchvision transformers"
      ]
    },
    {
      "cell_type": "code",
      "execution_count": null,
      "metadata": {
        "id": "gjwY5gEc0Cjd"
      },
      "outputs": [],
      "source": [
        "!pip install auto-gptq --no-build-isolation \\\n",
        "optimum"
      ]
    },
    {
      "cell_type": "code",
      "execution_count": null,
      "metadata": {},
      "outputs": [],
      "source": [
        "!pip install \"cappr[demos] @ git+https://github.com/kddubey/cappr.git\""
      ]
    },
    {
      "cell_type": "code",
      "execution_count": 3,
      "metadata": {
        "id": "ZisU59vH0Cjd"
      },
      "outputs": [],
      "source": [
        "from __future__ import annotations\n",
        "from string import ascii_uppercase as alphabet\n",
        "from typing import cast, Sequence\n",
        "\n",
        "import datasets\n",
        "import numpy as np\n",
        "import pandas as pd\n",
        "import torch\n",
        "from tqdm.auto import tqdm\n",
        "from transformers import AutoModelForCausalLM, AutoTokenizer, GenerationConfig, pipeline\n",
        "\n",
        "from cappr import Example\n",
        "from cappr import huggingface as hf"
      ]
    },
    {
      "cell_type": "markdown",
      "metadata": {
        "id": "eC28nrIS0Cje"
      },
      "source": [
        "# Load data"
      ]
    },
    {
      "cell_type": "code",
      "execution_count": 4,
      "metadata": {
        "id": "C7QUw2ax0Cjf"
      },
      "outputs": [],
      "source": [
        "df_tr = pd.DataFrame(datasets.load_dataset(\"sciq\", split=\"train\"))"
      ]
    },
    {
      "cell_type": "code",
      "execution_count": 5,
      "metadata": {
        "colab": {
          "base_uri": "https://localhost:8080/",
          "height": 345
        },
        "id": "3gqB8gpU0Cjf",
        "outputId": "a0edd323-a024-4679-be3b-ed0f7557bead"
      },
      "outputs": [
        {
          "data": {
            "text/html": [
              "\n",
              "  <div id=\"df-8e03b9a7-2199-4224-b163-6cb2e5824c94\" class=\"colab-df-container\">\n",
              "    <div>\n",
              "<style scoped>\n",
              "    .dataframe tbody tr th:only-of-type {\n",
              "        vertical-align: middle;\n",
              "    }\n",
              "\n",
              "    .dataframe tbody tr th {\n",
              "        vertical-align: top;\n",
              "    }\n",
              "\n",
              "    .dataframe thead th {\n",
              "        text-align: right;\n",
              "    }\n",
              "</style>\n",
              "<table border=\"1\" class=\"dataframe\">\n",
              "  <thead>\n",
              "    <tr style=\"text-align: right;\">\n",
              "      <th></th>\n",
              "      <th>question</th>\n",
              "      <th>distractor3</th>\n",
              "      <th>distractor1</th>\n",
              "      <th>distractor2</th>\n",
              "      <th>correct_answer</th>\n",
              "      <th>support</th>\n",
              "    </tr>\n",
              "  </thead>\n",
              "  <tbody>\n",
              "    <tr>\n",
              "      <th>0</th>\n",
              "      <td>What type of organism is commonly used in prep...</td>\n",
              "      <td>viruses</td>\n",
              "      <td>protozoa</td>\n",
              "      <td>gymnosperms</td>\n",
              "      <td>mesophilic organisms</td>\n",
              "      <td>Mesophiles grow best in moderate temperature, ...</td>\n",
              "    </tr>\n",
              "    <tr>\n",
              "      <th>1</th>\n",
              "      <td>What phenomenon makes global winds blow northe...</td>\n",
              "      <td>tropical effect</td>\n",
              "      <td>muon effect</td>\n",
              "      <td>centrifugal effect</td>\n",
              "      <td>coriolis effect</td>\n",
              "      <td>Without Coriolis Effect the global winds would...</td>\n",
              "    </tr>\n",
              "    <tr>\n",
              "      <th>2</th>\n",
              "      <td>Changes from a less-ordered state to a more-or...</td>\n",
              "      <td>endothermic</td>\n",
              "      <td>unbalanced</td>\n",
              "      <td>reactive</td>\n",
              "      <td>exothermic</td>\n",
              "      <td>Summary Changes of state are examples of phase...</td>\n",
              "    </tr>\n",
              "    <tr>\n",
              "      <th>3</th>\n",
              "      <td>What is the least dangerous radioactive decay?</td>\n",
              "      <td>zeta decay</td>\n",
              "      <td>beta decay</td>\n",
              "      <td>gamma decay</td>\n",
              "      <td>alpha decay</td>\n",
              "      <td>All radioactive decay is dangerous to living t...</td>\n",
              "    </tr>\n",
              "    <tr>\n",
              "      <th>4</th>\n",
              "      <td>Kilauea in hawaii is the world’s most continuo...</td>\n",
              "      <td>magma</td>\n",
              "      <td>greenhouse gases</td>\n",
              "      <td>carbon and smog</td>\n",
              "      <td>smoke and ash</td>\n",
              "      <td>Example 3.5 Calculating Projectile Motion: Hot...</td>\n",
              "    </tr>\n",
              "  </tbody>\n",
              "</table>\n",
              "</div>\n",
              "    <div class=\"colab-df-buttons\">\n",
              "\n",
              "  <div class=\"colab-df-container\">\n",
              "    <button class=\"colab-df-convert\" onclick=\"convertToInteractive('df-8e03b9a7-2199-4224-b163-6cb2e5824c94')\"\n",
              "            title=\"Convert this dataframe to an interactive table.\"\n",
              "            style=\"display:none;\">\n",
              "\n",
              "  <svg xmlns=\"http://www.w3.org/2000/svg\" height=\"24px\" viewBox=\"0 -960 960 960\">\n",
              "    <path d=\"M120-120v-720h720v720H120Zm60-500h600v-160H180v160Zm220 220h160v-160H400v160Zm0 220h160v-160H400v160ZM180-400h160v-160H180v160Zm440 0h160v-160H620v160ZM180-180h160v-160H180v160Zm440 0h160v-160H620v160Z\"/>\n",
              "  </svg>\n",
              "    </button>\n",
              "\n",
              "  <style>\n",
              "    .colab-df-container {\n",
              "      display:flex;\n",
              "      gap: 12px;\n",
              "    }\n",
              "\n",
              "    .colab-df-convert {\n",
              "      background-color: #E8F0FE;\n",
              "      border: none;\n",
              "      border-radius: 50%;\n",
              "      cursor: pointer;\n",
              "      display: none;\n",
              "      fill: #1967D2;\n",
              "      height: 32px;\n",
              "      padding: 0 0 0 0;\n",
              "      width: 32px;\n",
              "    }\n",
              "\n",
              "    .colab-df-convert:hover {\n",
              "      background-color: #E2EBFA;\n",
              "      box-shadow: 0px 1px 2px rgba(60, 64, 67, 0.3), 0px 1px 3px 1px rgba(60, 64, 67, 0.15);\n",
              "      fill: #174EA6;\n",
              "    }\n",
              "\n",
              "    .colab-df-buttons div {\n",
              "      margin-bottom: 4px;\n",
              "    }\n",
              "\n",
              "    [theme=dark] .colab-df-convert {\n",
              "      background-color: #3B4455;\n",
              "      fill: #D2E3FC;\n",
              "    }\n",
              "\n",
              "    [theme=dark] .colab-df-convert:hover {\n",
              "      background-color: #434B5C;\n",
              "      box-shadow: 0px 1px 3px 1px rgba(0, 0, 0, 0.15);\n",
              "      filter: drop-shadow(0px 1px 2px rgba(0, 0, 0, 0.3));\n",
              "      fill: #FFFFFF;\n",
              "    }\n",
              "  </style>\n",
              "\n",
              "    <script>\n",
              "      const buttonEl =\n",
              "        document.querySelector('#df-8e03b9a7-2199-4224-b163-6cb2e5824c94 button.colab-df-convert');\n",
              "      buttonEl.style.display =\n",
              "        google.colab.kernel.accessAllowed ? 'block' : 'none';\n",
              "\n",
              "      async function convertToInteractive(key) {\n",
              "        const element = document.querySelector('#df-8e03b9a7-2199-4224-b163-6cb2e5824c94');\n",
              "        const dataTable =\n",
              "          await google.colab.kernel.invokeFunction('convertToInteractive',\n",
              "                                                    [key], {});\n",
              "        if (!dataTable) return;\n",
              "\n",
              "        const docLinkHtml = 'Like what you see? Visit the ' +\n",
              "          '<a target=\"_blank\" href=https://colab.research.google.com/notebooks/data_table.ipynb>data table notebook</a>'\n",
              "          + ' to learn more about interactive tables.';\n",
              "        element.innerHTML = '';\n",
              "        dataTable['output_type'] = 'display_data';\n",
              "        await google.colab.output.renderOutput(dataTable, element);\n",
              "        const docLink = document.createElement('div');\n",
              "        docLink.innerHTML = docLinkHtml;\n",
              "        element.appendChild(docLink);\n",
              "      }\n",
              "    </script>\n",
              "  </div>\n",
              "\n",
              "\n",
              "<div id=\"df-9bbf1d34-c1e4-4d88-a720-854e0f5d2d67\">\n",
              "  <button class=\"colab-df-quickchart\" onclick=\"quickchart('df-9bbf1d34-c1e4-4d88-a720-854e0f5d2d67')\"\n",
              "            title=\"Suggest charts\"\n",
              "            style=\"display:none;\">\n",
              "\n",
              "<svg xmlns=\"http://www.w3.org/2000/svg\" height=\"24px\"viewBox=\"0 0 24 24\"\n",
              "     width=\"24px\">\n",
              "    <g>\n",
              "        <path d=\"M19 3H5c-1.1 0-2 .9-2 2v14c0 1.1.9 2 2 2h14c1.1 0 2-.9 2-2V5c0-1.1-.9-2-2-2zM9 17H7v-7h2v7zm4 0h-2V7h2v10zm4 0h-2v-4h2v4z\"/>\n",
              "    </g>\n",
              "</svg>\n",
              "  </button>\n",
              "\n",
              "<style>\n",
              "  .colab-df-quickchart {\n",
              "      --bg-color: #E8F0FE;\n",
              "      --fill-color: #1967D2;\n",
              "      --hover-bg-color: #E2EBFA;\n",
              "      --hover-fill-color: #174EA6;\n",
              "      --disabled-fill-color: #AAA;\n",
              "      --disabled-bg-color: #DDD;\n",
              "  }\n",
              "\n",
              "  [theme=dark] .colab-df-quickchart {\n",
              "      --bg-color: #3B4455;\n",
              "      --fill-color: #D2E3FC;\n",
              "      --hover-bg-color: #434B5C;\n",
              "      --hover-fill-color: #FFFFFF;\n",
              "      --disabled-bg-color: #3B4455;\n",
              "      --disabled-fill-color: #666;\n",
              "  }\n",
              "\n",
              "  .colab-df-quickchart {\n",
              "    background-color: var(--bg-color);\n",
              "    border: none;\n",
              "    border-radius: 50%;\n",
              "    cursor: pointer;\n",
              "    display: none;\n",
              "    fill: var(--fill-color);\n",
              "    height: 32px;\n",
              "    padding: 0;\n",
              "    width: 32px;\n",
              "  }\n",
              "\n",
              "  .colab-df-quickchart:hover {\n",
              "    background-color: var(--hover-bg-color);\n",
              "    box-shadow: 0 1px 2px rgba(60, 64, 67, 0.3), 0 1px 3px 1px rgba(60, 64, 67, 0.15);\n",
              "    fill: var(--button-hover-fill-color);\n",
              "  }\n",
              "\n",
              "  .colab-df-quickchart-complete:disabled,\n",
              "  .colab-df-quickchart-complete:disabled:hover {\n",
              "    background-color: var(--disabled-bg-color);\n",
              "    fill: var(--disabled-fill-color);\n",
              "    box-shadow: none;\n",
              "  }\n",
              "\n",
              "  .colab-df-spinner {\n",
              "    border: 2px solid var(--fill-color);\n",
              "    border-color: transparent;\n",
              "    border-bottom-color: var(--fill-color);\n",
              "    animation:\n",
              "      spin 1s steps(1) infinite;\n",
              "  }\n",
              "\n",
              "  @keyframes spin {\n",
              "    0% {\n",
              "      border-color: transparent;\n",
              "      border-bottom-color: var(--fill-color);\n",
              "      border-left-color: var(--fill-color);\n",
              "    }\n",
              "    20% {\n",
              "      border-color: transparent;\n",
              "      border-left-color: var(--fill-color);\n",
              "      border-top-color: var(--fill-color);\n",
              "    }\n",
              "    30% {\n",
              "      border-color: transparent;\n",
              "      border-left-color: var(--fill-color);\n",
              "      border-top-color: var(--fill-color);\n",
              "      border-right-color: var(--fill-color);\n",
              "    }\n",
              "    40% {\n",
              "      border-color: transparent;\n",
              "      border-right-color: var(--fill-color);\n",
              "      border-top-color: var(--fill-color);\n",
              "    }\n",
              "    60% {\n",
              "      border-color: transparent;\n",
              "      border-right-color: var(--fill-color);\n",
              "    }\n",
              "    80% {\n",
              "      border-color: transparent;\n",
              "      border-right-color: var(--fill-color);\n",
              "      border-bottom-color: var(--fill-color);\n",
              "    }\n",
              "    90% {\n",
              "      border-color: transparent;\n",
              "      border-bottom-color: var(--fill-color);\n",
              "    }\n",
              "  }\n",
              "</style>\n",
              "\n",
              "  <script>\n",
              "    async function quickchart(key) {\n",
              "      const quickchartButtonEl =\n",
              "        document.querySelector('#' + key + ' button');\n",
              "      quickchartButtonEl.disabled = true;  // To prevent multiple clicks.\n",
              "      quickchartButtonEl.classList.add('colab-df-spinner');\n",
              "      try {\n",
              "        const charts = await google.colab.kernel.invokeFunction(\n",
              "            'suggestCharts', [key], {});\n",
              "      } catch (error) {\n",
              "        console.error('Error during call to suggestCharts:', error);\n",
              "      }\n",
              "      quickchartButtonEl.classList.remove('colab-df-spinner');\n",
              "      quickchartButtonEl.classList.add('colab-df-quickchart-complete');\n",
              "    }\n",
              "    (() => {\n",
              "      let quickchartButtonEl =\n",
              "        document.querySelector('#df-9bbf1d34-c1e4-4d88-a720-854e0f5d2d67 button');\n",
              "      quickchartButtonEl.style.display =\n",
              "        google.colab.kernel.accessAllowed ? 'block' : 'none';\n",
              "    })();\n",
              "  </script>\n",
              "</div>\n",
              "    </div>\n",
              "  </div>\n"
            ],
            "text/plain": [
              "                                            question      distractor3  \\\n",
              "0  What type of organism is commonly used in prep...          viruses   \n",
              "1  What phenomenon makes global winds blow northe...  tropical effect   \n",
              "2  Changes from a less-ordered state to a more-or...      endothermic   \n",
              "3     What is the least dangerous radioactive decay?       zeta decay   \n",
              "4  Kilauea in hawaii is the world’s most continuo...            magma   \n",
              "\n",
              "        distractor1         distractor2        correct_answer  \\\n",
              "0          protozoa         gymnosperms  mesophilic organisms   \n",
              "1       muon effect  centrifugal effect       coriolis effect   \n",
              "2        unbalanced            reactive            exothermic   \n",
              "3        beta decay         gamma decay           alpha decay   \n",
              "4  greenhouse gases     carbon and smog         smoke and ash   \n",
              "\n",
              "                                             support  \n",
              "0  Mesophiles grow best in moderate temperature, ...  \n",
              "1  Without Coriolis Effect the global winds would...  \n",
              "2  Summary Changes of state are examples of phase...  \n",
              "3  All radioactive decay is dangerous to living t...  \n",
              "4  Example 3.5 Calculating Projectile Motion: Hot...  "
            ]
          },
          "execution_count": 5,
          "metadata": {},
          "output_type": "execute_result"
        }
      ],
      "source": [
        "df_tr.head()"
      ]
    },
    {
      "cell_type": "code",
      "execution_count": 6,
      "metadata": {
        "id": "0KUiXPON0Cjg"
      },
      "outputs": [],
      "source": [
        "rng = np.random.default_rng(seed=123)"
      ]
    },
    {
      "cell_type": "code",
      "execution_count": 7,
      "metadata": {
        "id": "LNYFk4z30Cjh"
      },
      "outputs": [],
      "source": [
        "df_tr[\"possible_answers\"] = [\n",
        "    rng.choice([d1, d2, d3, correct_answer], size=4, replace=False).tolist()  # shuffle\n",
        "    for d1, d2, d3, correct_answer in zip(\n",
        "        df_tr[\"distractor1\"],\n",
        "        df_tr[\"distractor2\"],\n",
        "        df_tr[\"distractor3\"],\n",
        "        df_tr[\"correct_answer\"],\n",
        "    )\n",
        "]\n",
        "\n",
        "df_tr[\"label\"] = [\n",
        "    cast(list, possible_answers).index(correct_answer)\n",
        "    for possible_answers, correct_answer in zip(\n",
        "        df_tr[\"possible_answers\"], df_tr[\"correct_answer\"]\n",
        "    )\n",
        "]"
      ]
    },
    {
      "cell_type": "code",
      "execution_count": 8,
      "metadata": {
        "colab": {
          "base_uri": "https://localhost:8080/"
        },
        "id": "rtodR1V40Cji",
        "outputId": "1e4ebfac-92d0-4155-d4a9-98cc46aa119b"
      },
      "outputs": [
        {
          "data": {
            "text/plain": [
              "11679"
            ]
          },
          "execution_count": 8,
          "metadata": {},
          "output_type": "execute_result"
        }
      ],
      "source": [
        "len(df_tr)"
      ]
    },
    {
      "cell_type": "markdown",
      "metadata": {
        "id": "N91jH2mY0Cji"
      },
      "source": [
        "We don't need this much data. Sample down"
      ]
    },
    {
      "cell_type": "code",
      "execution_count": 9,
      "metadata": {
        "id": "WRsD1QXr0Cji"
      },
      "outputs": [],
      "source": [
        "df_tr_mini = df_tr.sample(n=500, random_state=123).reset_index(drop=True)"
      ]
    },
    {
      "cell_type": "markdown",
      "metadata": {
        "id": "L3vJMECv0Cjj"
      },
      "source": [
        "# Load model"
      ]
    },
    {
      "cell_type": "code",
      "execution_count": 10,
      "metadata": {
        "colab": {
          "base_uri": "https://localhost:8080/"
        },
        "id": "30FBxZFa0Cjj",
        "outputId": "4bed5609-fb71-42b5-b243-ac7ee110b127"
      },
      "outputs": [
        {
          "name": "stderr",
          "output_type": "stream",
          "text": [
            "Using `disable_exllama` is deprecated and will be removed in version 4.37. Use `use_exllama` instead and specify the version with `exllama_config`.The value of `use_exllama` will be overwritten by `disable_exllama` passed in `GPTQConfig` or stored in your config file.\n",
            "Special tokens have been added in the vocabulary, make sure the associated word embeddings are fine-tuned or trained.\n"
          ]
        }
      ],
      "source": [
        "model_name = \"TheBloke/Mistral-7B-OpenOrca-GPTQ\"\n",
        "model = AutoModelForCausalLM.from_pretrained(\n",
        "    model_name, device_map=\"auto\", trust_remote_code=False, revision=\"main\"\n",
        ")\n",
        "tokenizer = AutoTokenizer.from_pretrained(model_name, use_fast=True)"
      ]
    },
    {
      "cell_type": "code",
      "execution_count": 11,
      "metadata": {
        "id": "fdljz_UM0Cjj"
      },
      "outputs": [],
      "source": [
        "# warm up model\n",
        "_ = model(**tokenizer([\"warm up\"], return_tensors=\"pt\").to(model.device))"
      ]
    },
    {
      "cell_type": "markdown",
      "metadata": {
        "id": "FP1IzAj2Id5m"
      },
      "source": [
        "# Shared prompt utilities"
      ]
    },
    {
      "cell_type": "markdown",
      "metadata": {
        "id": "dp-kf322BOpD"
      },
      "source": [
        "It turns out that we need to use a multiple choice prompt for this task, probably b/c it looks like school exams. Every question\n",
        "has exactly 4 choices."
      ]
    },
    {
      "cell_type": "code",
      "execution_count": 12,
      "metadata": {
        "id": "s4V9WAcPGVmI"
      },
      "outputs": [],
      "source": [
        "system_message = (\n",
        "    \"You are an expert at answering science questions. Choose the best answer \"\n",
        "    \"for the multiple choice question. Respond only with the letter \"\n",
        "    \"corresponding to the correct answer.\"\n",
        ")"
      ]
    },
    {
      "cell_type": "code",
      "execution_count": 13,
      "metadata": {
        "id": "2-uhMRknGVmI"
      },
      "outputs": [],
      "source": [
        "mc_choice_letters = alphabet[:4]"
      ]
    },
    {
      "cell_type": "code",
      "execution_count": 14,
      "metadata": {
        "id": "oQNuCxTHGVmI"
      },
      "outputs": [],
      "source": [
        "def multiple_choice(*choices) -> str:\n",
        "    if len(choices) > len(alphabet):\n",
        "        raise ValueError(\"There are more choices than letters.\")\n",
        "    letters_and_choices = [\n",
        "        f\"{letter}. {choice}\" for letter, choice in zip(alphabet, choices)\n",
        "    ]\n",
        "    return \"\\n\".join(letters_and_choices)"
      ]
    },
    {
      "cell_type": "markdown",
      "metadata": {
        "id": "kF7OSSZy_gIv"
      },
      "source": [
        "# Text generation"
      ]
    },
    {
      "cell_type": "code",
      "execution_count": 15,
      "metadata": {
        "colab": {
          "base_uri": "https://localhost:8080/"
        },
        "id": "G6X6TmwSBVfb",
        "outputId": "c3460628-edb9-4644-a3ca-cb1c9c8d4fd1"
      },
      "outputs": [
        {
          "name": "stdout",
          "output_type": "stream",
          "text": [
            "<|im_start|>system\n",
            "You are an expert at answering science questions. Choose the best answer for the multiple choice question. Respond only with the letter corresponding to the correct answer.<|im_end|>\n",
            "<|im_start|>user\n",
            "Calculations are described showing conversions between molar mass and what for gases?\n",
            "A. volume\n",
            "B. weight\n",
            "C. density\n",
            "D. length<|im_end|>\n",
            "<|im_start|>assistant\n",
            "\n"
          ]
        }
      ],
      "source": [
        "chat_template = \"\"\"\n",
        "<|im_start|>system\n",
        "{system_message}<|im_end|>\n",
        "<|im_start|>user\n",
        "{prompt}<|im_end|>\n",
        "<|im_start|>assistant\n",
        "\"\"\".lstrip(\"\\n\")\n",
        "\n",
        "\n",
        "def prompt_text_gen(question: str, possible_answers: Sequence[str]):\n",
        "    mc = multiple_choice(*possible_answers)\n",
        "    return chat_template.format(\n",
        "        system_message=system_message, prompt=question + \"\\n\" + mc\n",
        "    )\n",
        "\n",
        "\n",
        "df_tr_mini[\"prompt_text_gen\"] = [\n",
        "    prompt_text_gen(record[\"question\"], record[\"possible_answers\"])\n",
        "    for record in df_tr_mini.to_dict(\"records\")\n",
        "]\n",
        "print(df_tr_mini[\"prompt_text_gen\"].iloc[0])"
      ]
    },
    {
      "cell_type": "markdown",
      "metadata": {
        "id": "VjQz9Wiy_gIw"
      },
      "source": [
        "We need to create a PyTorch Dataset to batch the inputs."
      ]
    },
    {
      "cell_type": "code",
      "execution_count": 16,
      "metadata": {
        "id": "1lyjoIEQ_gIw"
      },
      "outputs": [],
      "source": [
        "class TextsDataset(torch.utils.data.Dataset):\n",
        "    def __init__(self, texts: list[str]):\n",
        "        self.texts = texts\n",
        "\n",
        "    def __len__(self):\n",
        "        return len(self.texts)\n",
        "\n",
        "    def __getitem__(self, index: int):\n",
        "        return self.texts[index]"
      ]
    },
    {
      "cell_type": "markdown",
      "metadata": {
        "id": "dGli3upw_gIw"
      },
      "source": [
        "We'll do greedy sampling to better ensure that each completion is one of the class names."
      ]
    },
    {
      "cell_type": "code",
      "execution_count": 17,
      "metadata": {
        "id": "M8Az2BCo_gIw"
      },
      "outputs": [],
      "source": [
        "generator = pipeline(\n",
        "    \"text-generation\",\n",
        "    model=model,\n",
        "    tokenizer=tokenizer,\n",
        "    device_map=\"auto\",\n",
        "    max_new_tokens=2,\n",
        "    return_full_text=False,\n",
        ")\n",
        "# pad to allow batching. these get masked out ofc\n",
        "generator.tokenizer.pad_token_id = generator.model.config.eos_token_id"
      ]
    },
    {
      "cell_type": "code",
      "execution_count": 18,
      "metadata": {
        "id": "kVewKDNG_gIw"
      },
      "outputs": [],
      "source": [
        "text_gen_dataset_tr = TextsDataset(df_tr_mini[\"prompt_text_gen\"].tolist())"
      ]
    },
    {
      "cell_type": "code",
      "execution_count": 19,
      "metadata": {
        "colab": {
          "base_uri": "https://localhost:8080/",
          "height": 104,
          "referenced_widgets": [
            "0cbaf6929c854d1199f8e1a66c41416a",
            "5701ac6472b84010a04918c918bc7f11",
            "9329ebbbdc254339baab53f7af0ae0ce",
            "06741b5900bb453ea4bd09e4a71b5539",
            "b3ff9b195a2f4b378c1f8838859ebcb4",
            "2e8c7a3fcc37414e93e5c1a74a4f21f6",
            "69e78966d0bb4c3cafc110384a37b555",
            "e4ef5d2ac6ee4fd1a6f06ca1e10612ad",
            "b4eb27a46b054cf4a650486c2e65dc14",
            "c9564ea6c8774d3b955c3e43f215b961",
            "7669029f96be40769113e4806c597218"
          ]
        },
        "id": "uV6zQshe_gIw",
        "outputId": "6c336341-e162-4f2f-a266-4a298713f928"
      },
      "outputs": [
        {
          "data": {
            "application/vnd.jupyter.widget-view+json": {
              "model_id": "0cbaf6929c854d1199f8e1a66c41416a",
              "version_major": 2,
              "version_minor": 0
            },
            "text/plain": [
              "Sampling:   0%|          | 0/500 [00:00<?, ?it/s]"
            ]
          },
          "metadata": {},
          "output_type": "display_data"
        },
        {
          "name": "stderr",
          "output_type": "stream",
          "text": [
            "/usr/local/lib/python3.10/dist-packages/transformers/generation/utils.py:1473: UserWarning: You have modified the pretrained model configuration to control generation. This is a deprecated strategy to control generation and will be removed soon, in a future version. Please use and modify the model generation configuration (see https://huggingface.co/docs/transformers/generation_strategies#default-text-generation-configuration )\n",
            "  warnings.warn(\n"
          ]
        }
      ],
      "source": [
        "completions = []\n",
        "for seq in tqdm(\n",
        "    generator(\n",
        "        text_gen_dataset_tr,\n",
        "        # suppress \"Setting pad_token_id...\" stdout\n",
        "        pad_token_id=generator.tokenizer.eos_token_id,\n",
        "        batch_size=16,\n",
        "    ),\n",
        "    total=len(text_gen_dataset_tr),\n",
        "    desc=\"Sampling\",\n",
        "):\n",
        "    completions.append(seq[0]['generated_text'])"
      ]
    },
    {
      "cell_type": "markdown",
      "metadata": {
        "id": "a4ZGMkyu_gIx"
      },
      "source": [
        "Let's see if the model generated answers like we asked."
      ]
    },
    {
      "cell_type": "code",
      "execution_count": 20,
      "metadata": {
        "colab": {
          "base_uri": "https://localhost:8080/"
        },
        "id": "Eq2jQeAc_gIx",
        "outputId": "bfc6a7d2-943d-459c-ec24-5e1f359d3905"
      },
      "outputs": [
        {
          "data": {
            "text/plain": [
              "475     B.\n",
              "145     B.\n",
              "353     B.\n",
              "182     A.\n",
              "121     B.\n",
              "411     C.\n",
              "359     A.\n",
              "287     D.\n",
              "77      D.\n",
              "5       C.\n",
              "dtype: object"
            ]
          },
          "execution_count": 20,
          "metadata": {},
          "output_type": "execute_result"
        }
      ],
      "source": [
        "pd.Series(completions).sample(n=10)"
      ]
    },
    {
      "cell_type": "code",
      "execution_count": 21,
      "metadata": {
        "id": "aAjPN_rw_gIx"
      },
      "outputs": [],
      "source": [
        "def process_completion_mc(\n",
        "    completion: str,\n",
        "    class_chars: Sequence[str],\n",
        "    class_names: Sequence[str],\n",
        "    default=-1,\n",
        ") -> int:\n",
        "    for i, name in enumerate(class_names):\n",
        "        if name in completion.lower():\n",
        "            return i\n",
        "    for i, char in enumerate(class_chars):\n",
        "        if char in completion:\n",
        "            return i\n",
        "    return default"
      ]
    },
    {
      "cell_type": "code",
      "execution_count": 22,
      "metadata": {
        "id": "ygJsYOzE_gIx"
      },
      "outputs": [],
      "source": [
        "preds_text_gen = [\n",
        "    process_completion_mc(\n",
        "        completion, class_chars=mc_choice_letters, class_names=possible_answers\n",
        "    )\n",
        "    for completion, possible_answers in zip(completions, df_tr_mini[\"possible_answers\"])\n",
        "]"
      ]
    },
    {
      "cell_type": "markdown",
      "metadata": {
        "id": "Fw2-uyPq_gIx"
      },
      "source": [
        "How many of the completions could be mapped to a label?"
      ]
    },
    {
      "cell_type": "code",
      "execution_count": 23,
      "metadata": {
        "colab": {
          "base_uri": "https://localhost:8080/"
        },
        "id": "NdpNaRl3_gIx",
        "outputId": "3e8dff9b-6279-4807-a81d-a409844d1ef2"
      },
      "outputs": [
        {
          "data": {
            "text/plain": [
              "1.0"
            ]
          },
          "execution_count": 23,
          "metadata": {},
          "output_type": "execute_result"
        }
      ],
      "source": [
        "(pd.Series(preds_text_gen) != -1).mean()"
      ]
    },
    {
      "cell_type": "markdown",
      "metadata": {
        "id": "LXKHW2_4_gIy"
      },
      "source": [
        "How accurate are the predictions?"
      ]
    },
    {
      "cell_type": "code",
      "execution_count": 24,
      "metadata": {
        "colab": {
          "base_uri": "https://localhost:8080/"
        },
        "id": "iuRgzEAD_gIy",
        "outputId": "5e1475c7-5182-4c92-bf3d-2156da59c13b"
      },
      "outputs": [
        {
          "data": {
            "text/plain": [
              "0.902"
            ]
          },
          "execution_count": 24,
          "metadata": {},
          "output_type": "execute_result"
        }
      ],
      "source": [
        "(df_tr_mini[\"label\"] == preds_text_gen).mean()"
      ]
    },
    {
      "cell_type": "markdown",
      "metadata": {
        "id": "gVKzHvIY0Cjj"
      },
      "source": [
        "# CAPPr"
      ]
    },
    {
      "cell_type": "code",
      "execution_count": 25,
      "metadata": {
        "id": "jkaOnUlTGVmM"
      },
      "outputs": [],
      "source": [
        "chat_template_shared_instructions = \"\"\"\n",
        "<|im_start|>system\n",
        "{system_message}<|im_end|>\n",
        "<|im_start|>user\n",
        "{user_prompt}\n",
        "\"\"\".strip(\"\\n\")\n",
        "\n",
        "chat_template_prompt = \"\"\"\n",
        "{prompt}<|im_end|>\n",
        "<|im_start|>assistant\n",
        "\"\"\".lstrip(\"\\n\")"
      ]
    },
    {
      "cell_type": "code",
      "execution_count": 26,
      "metadata": {
        "id": "pNqRXUokGVmM"
      },
      "outputs": [],
      "source": [
        "prompt_prefix = chat_template_shared_instructions.format(\n",
        "    system_message=system_message,\n",
        "    user_prompt=\"\",\n",
        ")\n",
        "\n",
        "\n",
        "def prompt(question: str, possible_answers: Sequence[str]) -> str:\n",
        "    mc = multiple_choice(*possible_answers)\n",
        "    return chat_template_prompt.format(prompt=question + \"\\n\" + mc)\n",
        "\n",
        "\n",
        "prompts = [\n",
        "    prompt(record[\"question\"], record[\"possible_answers\"])\n",
        "    for record in df_tr_mini.to_dict(\"records\")\n",
        "]"
      ]
    },
    {
      "cell_type": "code",
      "execution_count": 27,
      "metadata": {
        "colab": {
          "base_uri": "https://localhost:8080/"
        },
        "id": "ieIHwdaMGVmM",
        "outputId": "efe7f14b-5257-459b-9991-45dc98d4e830"
      },
      "outputs": [
        {
          "name": "stdout",
          "output_type": "stream",
          "text": [
            "<|im_start|>system\n",
            "You are an expert at answering science questions. Choose the best answer for the multiple choice question. Respond only with the letter corresponding to the correct answer.<|im_end|>\n",
            "<|im_start|>user\n",
            " Calculations are described showing conversions between molar mass and what for gases?\n",
            "A. volume\n",
            "B. weight\n",
            "C. density\n",
            "D. length<|im_end|>\n",
            "<|im_start|>assistant\n",
            "\n"
          ]
        }
      ],
      "source": [
        "# Here's what the model will see\n",
        "print(prompt_prefix + \" \" + prompts[0])"
      ]
    },
    {
      "cell_type": "code",
      "execution_count": 28,
      "metadata": {
        "colab": {
          "base_uri": "https://localhost:8080/",
          "height": 49,
          "referenced_widgets": [
            "0620426e2e7f4252acc3a02355adcfce",
            "dc812f315fbf4f42a5c56c73bdb9647c",
            "58d6ab10d3794a52b285cafa1e15dbc8",
            "43d7c599f7584dfeb25d61ce2d1a242f",
            "385d1c3661ef463bb5e40301c9f49977",
            "056eb71e9f4941d19e0201afe8736255",
            "424000bc8e054177ae3f825eef29629c",
            "2eea2c333f81463eb8bbc591a87e109d",
            "ee24696cbd7e4036941878ff9ef4e6f7",
            "b05ba4d623b74d6aadd03527bad9d5c0",
            "039687c01ddf442fa202ed8e808606d6"
          ]
        },
        "id": "jUnbKTgjGVmQ",
        "outputId": "124fd1c1-747a-4369-872b-a65bed0ec347"
      },
      "outputs": [
        {
          "data": {
            "application/vnd.jupyter.widget-view+json": {
              "model_id": "0620426e2e7f4252acc3a02355adcfce",
              "version_major": 2,
              "version_minor": 0
            },
            "text/plain": [
              "conditional log-probs:   0%|          | 0/500 [00:00<?, ?it/s]"
            ]
          },
          "metadata": {},
          "output_type": "display_data"
        }
      ],
      "source": [
        "with hf.classify.cache((model, tokenizer), prompt_prefix) as cached:\n",
        "    pred_probs = hf.classify.predict_proba(\n",
        "        prompts=prompts,\n",
        "        completions=list(mc_choice_letters),\n",
        "        model_and_tokenizer=cached,\n",
        "        batch_size=16,\n",
        "    )"
      ]
    },
    {
      "cell_type": "code",
      "execution_count": 29,
      "metadata": {
        "colab": {
          "base_uri": "https://localhost:8080/"
        },
        "id": "0aeO7st3GVmR",
        "outputId": "e69eee16-3500-44c1-b8cf-81c0f9a03faf"
      },
      "outputs": [
        {
          "data": {
            "text/plain": [
              "0.908"
            ]
          },
          "execution_count": 29,
          "metadata": {},
          "output_type": "execute_result"
        }
      ],
      "source": [
        "(df_tr_mini[\"label\"] == pred_probs.argmax(axis=1)).mean()"
      ]
    }
  ],
  "metadata": {
    "accelerator": "GPU",
    "colab": {
      "gpuType": "T4",
      "provenance": [],
      "toc_visible": true
    },
    "kernelspec": {
      "display_name": "Python 3",
      "name": "python3"
    },
    "language_info": {
      "codemirror_mode": {
        "name": "ipython",
        "version": 3
      },
      "file_extension": ".py",
      "mimetype": "text/x-python",
      "name": "python",
      "nbconvert_exporter": "python",
      "pygments_lexer": "ipython3",
      "version": "3.11.5"
    },
    "widgets": {
      "application/vnd.jupyter.widget-state+json": {
        "039687c01ddf442fa202ed8e808606d6": {
          "model_module": "@jupyter-widgets/controls",
          "model_module_version": "1.5.0",
          "model_name": "DescriptionStyleModel",
          "state": {
            "_model_module": "@jupyter-widgets/controls",
            "_model_module_version": "1.5.0",
            "_model_name": "DescriptionStyleModel",
            "_view_count": null,
            "_view_module": "@jupyter-widgets/base",
            "_view_module_version": "1.2.0",
            "_view_name": "StyleView",
            "description_width": ""
          }
        },
        "056eb71e9f4941d19e0201afe8736255": {
          "model_module": "@jupyter-widgets/base",
          "model_module_version": "1.2.0",
          "model_name": "LayoutModel",
          "state": {
            "_model_module": "@jupyter-widgets/base",
            "_model_module_version": "1.2.0",
            "_model_name": "LayoutModel",
            "_view_count": null,
            "_view_module": "@jupyter-widgets/base",
            "_view_module_version": "1.2.0",
            "_view_name": "LayoutView",
            "align_content": null,
            "align_items": null,
            "align_self": null,
            "border": null,
            "bottom": null,
            "display": null,
            "flex": null,
            "flex_flow": null,
            "grid_area": null,
            "grid_auto_columns": null,
            "grid_auto_flow": null,
            "grid_auto_rows": null,
            "grid_column": null,
            "grid_gap": null,
            "grid_row": null,
            "grid_template_areas": null,
            "grid_template_columns": null,
            "grid_template_rows": null,
            "height": null,
            "justify_content": null,
            "justify_items": null,
            "left": null,
            "margin": null,
            "max_height": null,
            "max_width": null,
            "min_height": null,
            "min_width": null,
            "object_fit": null,
            "object_position": null,
            "order": null,
            "overflow": null,
            "overflow_x": null,
            "overflow_y": null,
            "padding": null,
            "right": null,
            "top": null,
            "visibility": null,
            "width": null
          }
        },
        "0620426e2e7f4252acc3a02355adcfce": {
          "model_module": "@jupyter-widgets/controls",
          "model_module_version": "1.5.0",
          "model_name": "HBoxModel",
          "state": {
            "_dom_classes": [],
            "_model_module": "@jupyter-widgets/controls",
            "_model_module_version": "1.5.0",
            "_model_name": "HBoxModel",
            "_view_count": null,
            "_view_module": "@jupyter-widgets/controls",
            "_view_module_version": "1.5.0",
            "_view_name": "HBoxView",
            "box_style": "",
            "children": [
              "IPY_MODEL_dc812f315fbf4f42a5c56c73bdb9647c",
              "IPY_MODEL_58d6ab10d3794a52b285cafa1e15dbc8",
              "IPY_MODEL_43d7c599f7584dfeb25d61ce2d1a242f"
            ],
            "layout": "IPY_MODEL_385d1c3661ef463bb5e40301c9f49977"
          }
        },
        "06741b5900bb453ea4bd09e4a71b5539": {
          "model_module": "@jupyter-widgets/controls",
          "model_module_version": "1.5.0",
          "model_name": "HTMLModel",
          "state": {
            "_dom_classes": [],
            "_model_module": "@jupyter-widgets/controls",
            "_model_module_version": "1.5.0",
            "_model_name": "HTMLModel",
            "_view_count": null,
            "_view_module": "@jupyter-widgets/controls",
            "_view_module_version": "1.5.0",
            "_view_name": "HTMLView",
            "description": "",
            "description_tooltip": null,
            "layout": "IPY_MODEL_c9564ea6c8774d3b955c3e43f215b961",
            "placeholder": "​",
            "style": "IPY_MODEL_7669029f96be40769113e4806c597218",
            "value": " 500/500 [00:50&lt;00:00, 11.77it/s]"
          }
        },
        "0cbaf6929c854d1199f8e1a66c41416a": {
          "model_module": "@jupyter-widgets/controls",
          "model_module_version": "1.5.0",
          "model_name": "HBoxModel",
          "state": {
            "_dom_classes": [],
            "_model_module": "@jupyter-widgets/controls",
            "_model_module_version": "1.5.0",
            "_model_name": "HBoxModel",
            "_view_count": null,
            "_view_module": "@jupyter-widgets/controls",
            "_view_module_version": "1.5.0",
            "_view_name": "HBoxView",
            "box_style": "",
            "children": [
              "IPY_MODEL_5701ac6472b84010a04918c918bc7f11",
              "IPY_MODEL_9329ebbbdc254339baab53f7af0ae0ce",
              "IPY_MODEL_06741b5900bb453ea4bd09e4a71b5539"
            ],
            "layout": "IPY_MODEL_b3ff9b195a2f4b378c1f8838859ebcb4"
          }
        },
        "2e8c7a3fcc37414e93e5c1a74a4f21f6": {
          "model_module": "@jupyter-widgets/base",
          "model_module_version": "1.2.0",
          "model_name": "LayoutModel",
          "state": {
            "_model_module": "@jupyter-widgets/base",
            "_model_module_version": "1.2.0",
            "_model_name": "LayoutModel",
            "_view_count": null,
            "_view_module": "@jupyter-widgets/base",
            "_view_module_version": "1.2.0",
            "_view_name": "LayoutView",
            "align_content": null,
            "align_items": null,
            "align_self": null,
            "border": null,
            "bottom": null,
            "display": null,
            "flex": null,
            "flex_flow": null,
            "grid_area": null,
            "grid_auto_columns": null,
            "grid_auto_flow": null,
            "grid_auto_rows": null,
            "grid_column": null,
            "grid_gap": null,
            "grid_row": null,
            "grid_template_areas": null,
            "grid_template_columns": null,
            "grid_template_rows": null,
            "height": null,
            "justify_content": null,
            "justify_items": null,
            "left": null,
            "margin": null,
            "max_height": null,
            "max_width": null,
            "min_height": null,
            "min_width": null,
            "object_fit": null,
            "object_position": null,
            "order": null,
            "overflow": null,
            "overflow_x": null,
            "overflow_y": null,
            "padding": null,
            "right": null,
            "top": null,
            "visibility": null,
            "width": null
          }
        },
        "2eea2c333f81463eb8bbc591a87e109d": {
          "model_module": "@jupyter-widgets/base",
          "model_module_version": "1.2.0",
          "model_name": "LayoutModel",
          "state": {
            "_model_module": "@jupyter-widgets/base",
            "_model_module_version": "1.2.0",
            "_model_name": "LayoutModel",
            "_view_count": null,
            "_view_module": "@jupyter-widgets/base",
            "_view_module_version": "1.2.0",
            "_view_name": "LayoutView",
            "align_content": null,
            "align_items": null,
            "align_self": null,
            "border": null,
            "bottom": null,
            "display": null,
            "flex": null,
            "flex_flow": null,
            "grid_area": null,
            "grid_auto_columns": null,
            "grid_auto_flow": null,
            "grid_auto_rows": null,
            "grid_column": null,
            "grid_gap": null,
            "grid_row": null,
            "grid_template_areas": null,
            "grid_template_columns": null,
            "grid_template_rows": null,
            "height": null,
            "justify_content": null,
            "justify_items": null,
            "left": null,
            "margin": null,
            "max_height": null,
            "max_width": null,
            "min_height": null,
            "min_width": null,
            "object_fit": null,
            "object_position": null,
            "order": null,
            "overflow": null,
            "overflow_x": null,
            "overflow_y": null,
            "padding": null,
            "right": null,
            "top": null,
            "visibility": null,
            "width": null
          }
        },
        "385d1c3661ef463bb5e40301c9f49977": {
          "model_module": "@jupyter-widgets/base",
          "model_module_version": "1.2.0",
          "model_name": "LayoutModel",
          "state": {
            "_model_module": "@jupyter-widgets/base",
            "_model_module_version": "1.2.0",
            "_model_name": "LayoutModel",
            "_view_count": null,
            "_view_module": "@jupyter-widgets/base",
            "_view_module_version": "1.2.0",
            "_view_name": "LayoutView",
            "align_content": null,
            "align_items": null,
            "align_self": null,
            "border": null,
            "bottom": null,
            "display": null,
            "flex": null,
            "flex_flow": null,
            "grid_area": null,
            "grid_auto_columns": null,
            "grid_auto_flow": null,
            "grid_auto_rows": null,
            "grid_column": null,
            "grid_gap": null,
            "grid_row": null,
            "grid_template_areas": null,
            "grid_template_columns": null,
            "grid_template_rows": null,
            "height": null,
            "justify_content": null,
            "justify_items": null,
            "left": null,
            "margin": null,
            "max_height": null,
            "max_width": null,
            "min_height": null,
            "min_width": null,
            "object_fit": null,
            "object_position": null,
            "order": null,
            "overflow": null,
            "overflow_x": null,
            "overflow_y": null,
            "padding": null,
            "right": null,
            "top": null,
            "visibility": null,
            "width": null
          }
        },
        "424000bc8e054177ae3f825eef29629c": {
          "model_module": "@jupyter-widgets/controls",
          "model_module_version": "1.5.0",
          "model_name": "DescriptionStyleModel",
          "state": {
            "_model_module": "@jupyter-widgets/controls",
            "_model_module_version": "1.5.0",
            "_model_name": "DescriptionStyleModel",
            "_view_count": null,
            "_view_module": "@jupyter-widgets/base",
            "_view_module_version": "1.2.0",
            "_view_name": "StyleView",
            "description_width": ""
          }
        },
        "43d7c599f7584dfeb25d61ce2d1a242f": {
          "model_module": "@jupyter-widgets/controls",
          "model_module_version": "1.5.0",
          "model_name": "HTMLModel",
          "state": {
            "_dom_classes": [],
            "_model_module": "@jupyter-widgets/controls",
            "_model_module_version": "1.5.0",
            "_model_name": "HTMLModel",
            "_view_count": null,
            "_view_module": "@jupyter-widgets/controls",
            "_view_module_version": "1.5.0",
            "_view_name": "HTMLView",
            "description": "",
            "description_tooltip": null,
            "layout": "IPY_MODEL_b05ba4d623b74d6aadd03527bad9d5c0",
            "placeholder": "​",
            "style": "IPY_MODEL_039687c01ddf442fa202ed8e808606d6",
            "value": " 500/500 [00:28&lt;00:00, 16.87it/s]"
          }
        },
        "5701ac6472b84010a04918c918bc7f11": {
          "model_module": "@jupyter-widgets/controls",
          "model_module_version": "1.5.0",
          "model_name": "HTMLModel",
          "state": {
            "_dom_classes": [],
            "_model_module": "@jupyter-widgets/controls",
            "_model_module_version": "1.5.0",
            "_model_name": "HTMLModel",
            "_view_count": null,
            "_view_module": "@jupyter-widgets/controls",
            "_view_module_version": "1.5.0",
            "_view_name": "HTMLView",
            "description": "",
            "description_tooltip": null,
            "layout": "IPY_MODEL_2e8c7a3fcc37414e93e5c1a74a4f21f6",
            "placeholder": "​",
            "style": "IPY_MODEL_69e78966d0bb4c3cafc110384a37b555",
            "value": "Sampling: 100%"
          }
        },
        "58d6ab10d3794a52b285cafa1e15dbc8": {
          "model_module": "@jupyter-widgets/controls",
          "model_module_version": "1.5.0",
          "model_name": "FloatProgressModel",
          "state": {
            "_dom_classes": [],
            "_model_module": "@jupyter-widgets/controls",
            "_model_module_version": "1.5.0",
            "_model_name": "FloatProgressModel",
            "_view_count": null,
            "_view_module": "@jupyter-widgets/controls",
            "_view_module_version": "1.5.0",
            "_view_name": "ProgressView",
            "bar_style": "success",
            "description": "",
            "description_tooltip": null,
            "layout": "IPY_MODEL_2eea2c333f81463eb8bbc591a87e109d",
            "max": 500,
            "min": 0,
            "orientation": "horizontal",
            "style": "IPY_MODEL_ee24696cbd7e4036941878ff9ef4e6f7",
            "value": 500
          }
        },
        "69e78966d0bb4c3cafc110384a37b555": {
          "model_module": "@jupyter-widgets/controls",
          "model_module_version": "1.5.0",
          "model_name": "DescriptionStyleModel",
          "state": {
            "_model_module": "@jupyter-widgets/controls",
            "_model_module_version": "1.5.0",
            "_model_name": "DescriptionStyleModel",
            "_view_count": null,
            "_view_module": "@jupyter-widgets/base",
            "_view_module_version": "1.2.0",
            "_view_name": "StyleView",
            "description_width": ""
          }
        },
        "7669029f96be40769113e4806c597218": {
          "model_module": "@jupyter-widgets/controls",
          "model_module_version": "1.5.0",
          "model_name": "DescriptionStyleModel",
          "state": {
            "_model_module": "@jupyter-widgets/controls",
            "_model_module_version": "1.5.0",
            "_model_name": "DescriptionStyleModel",
            "_view_count": null,
            "_view_module": "@jupyter-widgets/base",
            "_view_module_version": "1.2.0",
            "_view_name": "StyleView",
            "description_width": ""
          }
        },
        "9329ebbbdc254339baab53f7af0ae0ce": {
          "model_module": "@jupyter-widgets/controls",
          "model_module_version": "1.5.0",
          "model_name": "FloatProgressModel",
          "state": {
            "_dom_classes": [],
            "_model_module": "@jupyter-widgets/controls",
            "_model_module_version": "1.5.0",
            "_model_name": "FloatProgressModel",
            "_view_count": null,
            "_view_module": "@jupyter-widgets/controls",
            "_view_module_version": "1.5.0",
            "_view_name": "ProgressView",
            "bar_style": "success",
            "description": "",
            "description_tooltip": null,
            "layout": "IPY_MODEL_e4ef5d2ac6ee4fd1a6f06ca1e10612ad",
            "max": 500,
            "min": 0,
            "orientation": "horizontal",
            "style": "IPY_MODEL_b4eb27a46b054cf4a650486c2e65dc14",
            "value": 500
          }
        },
        "b05ba4d623b74d6aadd03527bad9d5c0": {
          "model_module": "@jupyter-widgets/base",
          "model_module_version": "1.2.0",
          "model_name": "LayoutModel",
          "state": {
            "_model_module": "@jupyter-widgets/base",
            "_model_module_version": "1.2.0",
            "_model_name": "LayoutModel",
            "_view_count": null,
            "_view_module": "@jupyter-widgets/base",
            "_view_module_version": "1.2.0",
            "_view_name": "LayoutView",
            "align_content": null,
            "align_items": null,
            "align_self": null,
            "border": null,
            "bottom": null,
            "display": null,
            "flex": null,
            "flex_flow": null,
            "grid_area": null,
            "grid_auto_columns": null,
            "grid_auto_flow": null,
            "grid_auto_rows": null,
            "grid_column": null,
            "grid_gap": null,
            "grid_row": null,
            "grid_template_areas": null,
            "grid_template_columns": null,
            "grid_template_rows": null,
            "height": null,
            "justify_content": null,
            "justify_items": null,
            "left": null,
            "margin": null,
            "max_height": null,
            "max_width": null,
            "min_height": null,
            "min_width": null,
            "object_fit": null,
            "object_position": null,
            "order": null,
            "overflow": null,
            "overflow_x": null,
            "overflow_y": null,
            "padding": null,
            "right": null,
            "top": null,
            "visibility": null,
            "width": null
          }
        },
        "b3ff9b195a2f4b378c1f8838859ebcb4": {
          "model_module": "@jupyter-widgets/base",
          "model_module_version": "1.2.0",
          "model_name": "LayoutModel",
          "state": {
            "_model_module": "@jupyter-widgets/base",
            "_model_module_version": "1.2.0",
            "_model_name": "LayoutModel",
            "_view_count": null,
            "_view_module": "@jupyter-widgets/base",
            "_view_module_version": "1.2.0",
            "_view_name": "LayoutView",
            "align_content": null,
            "align_items": null,
            "align_self": null,
            "border": null,
            "bottom": null,
            "display": null,
            "flex": null,
            "flex_flow": null,
            "grid_area": null,
            "grid_auto_columns": null,
            "grid_auto_flow": null,
            "grid_auto_rows": null,
            "grid_column": null,
            "grid_gap": null,
            "grid_row": null,
            "grid_template_areas": null,
            "grid_template_columns": null,
            "grid_template_rows": null,
            "height": null,
            "justify_content": null,
            "justify_items": null,
            "left": null,
            "margin": null,
            "max_height": null,
            "max_width": null,
            "min_height": null,
            "min_width": null,
            "object_fit": null,
            "object_position": null,
            "order": null,
            "overflow": null,
            "overflow_x": null,
            "overflow_y": null,
            "padding": null,
            "right": null,
            "top": null,
            "visibility": null,
            "width": null
          }
        },
        "b4eb27a46b054cf4a650486c2e65dc14": {
          "model_module": "@jupyter-widgets/controls",
          "model_module_version": "1.5.0",
          "model_name": "ProgressStyleModel",
          "state": {
            "_model_module": "@jupyter-widgets/controls",
            "_model_module_version": "1.5.0",
            "_model_name": "ProgressStyleModel",
            "_view_count": null,
            "_view_module": "@jupyter-widgets/base",
            "_view_module_version": "1.2.0",
            "_view_name": "StyleView",
            "bar_color": null,
            "description_width": ""
          }
        },
        "c9564ea6c8774d3b955c3e43f215b961": {
          "model_module": "@jupyter-widgets/base",
          "model_module_version": "1.2.0",
          "model_name": "LayoutModel",
          "state": {
            "_model_module": "@jupyter-widgets/base",
            "_model_module_version": "1.2.0",
            "_model_name": "LayoutModel",
            "_view_count": null,
            "_view_module": "@jupyter-widgets/base",
            "_view_module_version": "1.2.0",
            "_view_name": "LayoutView",
            "align_content": null,
            "align_items": null,
            "align_self": null,
            "border": null,
            "bottom": null,
            "display": null,
            "flex": null,
            "flex_flow": null,
            "grid_area": null,
            "grid_auto_columns": null,
            "grid_auto_flow": null,
            "grid_auto_rows": null,
            "grid_column": null,
            "grid_gap": null,
            "grid_row": null,
            "grid_template_areas": null,
            "grid_template_columns": null,
            "grid_template_rows": null,
            "height": null,
            "justify_content": null,
            "justify_items": null,
            "left": null,
            "margin": null,
            "max_height": null,
            "max_width": null,
            "min_height": null,
            "min_width": null,
            "object_fit": null,
            "object_position": null,
            "order": null,
            "overflow": null,
            "overflow_x": null,
            "overflow_y": null,
            "padding": null,
            "right": null,
            "top": null,
            "visibility": null,
            "width": null
          }
        },
        "dc812f315fbf4f42a5c56c73bdb9647c": {
          "model_module": "@jupyter-widgets/controls",
          "model_module_version": "1.5.0",
          "model_name": "HTMLModel",
          "state": {
            "_dom_classes": [],
            "_model_module": "@jupyter-widgets/controls",
            "_model_module_version": "1.5.0",
            "_model_name": "HTMLModel",
            "_view_count": null,
            "_view_module": "@jupyter-widgets/controls",
            "_view_module_version": "1.5.0",
            "_view_name": "HTMLView",
            "description": "",
            "description_tooltip": null,
            "layout": "IPY_MODEL_056eb71e9f4941d19e0201afe8736255",
            "placeholder": "​",
            "style": "IPY_MODEL_424000bc8e054177ae3f825eef29629c",
            "value": "conditional log-probs: 100%"
          }
        },
        "e4ef5d2ac6ee4fd1a6f06ca1e10612ad": {
          "model_module": "@jupyter-widgets/base",
          "model_module_version": "1.2.0",
          "model_name": "LayoutModel",
          "state": {
            "_model_module": "@jupyter-widgets/base",
            "_model_module_version": "1.2.0",
            "_model_name": "LayoutModel",
            "_view_count": null,
            "_view_module": "@jupyter-widgets/base",
            "_view_module_version": "1.2.0",
            "_view_name": "LayoutView",
            "align_content": null,
            "align_items": null,
            "align_self": null,
            "border": null,
            "bottom": null,
            "display": null,
            "flex": null,
            "flex_flow": null,
            "grid_area": null,
            "grid_auto_columns": null,
            "grid_auto_flow": null,
            "grid_auto_rows": null,
            "grid_column": null,
            "grid_gap": null,
            "grid_row": null,
            "grid_template_areas": null,
            "grid_template_columns": null,
            "grid_template_rows": null,
            "height": null,
            "justify_content": null,
            "justify_items": null,
            "left": null,
            "margin": null,
            "max_height": null,
            "max_width": null,
            "min_height": null,
            "min_width": null,
            "object_fit": null,
            "object_position": null,
            "order": null,
            "overflow": null,
            "overflow_x": null,
            "overflow_y": null,
            "padding": null,
            "right": null,
            "top": null,
            "visibility": null,
            "width": null
          }
        },
        "ee24696cbd7e4036941878ff9ef4e6f7": {
          "model_module": "@jupyter-widgets/controls",
          "model_module_version": "1.5.0",
          "model_name": "ProgressStyleModel",
          "state": {
            "_model_module": "@jupyter-widgets/controls",
            "_model_module_version": "1.5.0",
            "_model_name": "ProgressStyleModel",
            "_view_count": null,
            "_view_module": "@jupyter-widgets/base",
            "_view_module_version": "1.2.0",
            "_view_name": "StyleView",
            "bar_color": null,
            "description_width": ""
          }
        }
      }
    }
  },
  "nbformat": 4,
  "nbformat_minor": 0
}
