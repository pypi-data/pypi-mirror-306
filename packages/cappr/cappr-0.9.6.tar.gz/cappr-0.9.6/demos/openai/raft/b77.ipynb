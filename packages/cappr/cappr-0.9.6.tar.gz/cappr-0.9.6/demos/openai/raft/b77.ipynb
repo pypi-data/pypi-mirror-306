{
 "cells": [
  {
   "cell_type": "code",
   "execution_count": 1,
   "metadata": {},
   "outputs": [],
   "source": [
    "from __future__ import annotations\n",
    "import logging\n",
    "import os\n",
    "import sys\n",
    "\n",
    "import datasets as nlp_datasets\n",
    "import pandas as pd\n",
    "from sklearn.metrics import f1_score\n",
    "\n",
    "from cappr import openai\n",
    "sys.path.insert(1, os.path.join(sys.path[0], \"..\", \"..\"))\n",
    "from utils import display_df"
   ]
  },
  {
   "cell_type": "code",
   "execution_count": 2,
   "metadata": {},
   "outputs": [],
   "source": [
    "## When hitting the OpenAI endpoints, we'll log any server errors\n",
    "logging.basicConfig(level=logging.INFO,\n",
    "                    handlers=[logging.StreamHandler(stream=sys.stdout)],\n",
    "                    format='%(asctime)s :: %(name)s :: %(levelname)s :: '\n",
    "                           '%(message)s')\n",
    "logger = logging.getLogger(__name__)"
   ]
  },
  {
   "cell_type": "code",
   "execution_count": 3,
   "metadata": {},
   "outputs": [
    {
     "name": "stdout",
     "output_type": "stream",
     "text": [
      "2023-04-04 18:07:32,330 :: datasets.builder :: WARNING :: Found cached dataset raft (C:/Users/kushd/.cache/huggingface/datasets/ought___raft/banking_77/1.1.0/79c4de1312c1e3730043f7db07179c914f48403101f7124e2fe336f6f54d9f84)\n"
     ]
    }
   ],
   "source": [
    "df = pd.DataFrame(nlp_datasets\n",
    "                  .load_dataset('ought/raft', 'banking_77', split='train'))"
   ]
  },
  {
   "cell_type": "code",
   "execution_count": 4,
   "metadata": {},
   "outputs": [
    {
     "data": {
      "text/plain": [
       "50"
      ]
     },
     "execution_count": 4,
     "metadata": {},
     "output_type": "execute_result"
    }
   ],
   "source": [
    "len(df)"
   ]
  },
  {
   "cell_type": "code",
   "execution_count": 5,
   "metadata": {},
   "outputs": [
    {
     "data": {
      "text/html": [
       "<div>\n",
       "<style scoped>\n",
       "    .dataframe tbody tr th:only-of-type {\n",
       "        vertical-align: middle;\n",
       "    }\n",
       "\n",
       "    .dataframe tbody tr th {\n",
       "        vertical-align: top;\n",
       "    }\n",
       "\n",
       "    .dataframe thead th {\n",
       "        text-align: right;\n",
       "    }\n",
       "</style>\n",
       "<table border=\"1\" class=\"dataframe\">\n",
       "  <thead>\n",
       "    <tr style=\"text-align: right;\">\n",
       "      <th></th>\n",
       "      <th>Query</th>\n",
       "      <th>ID</th>\n",
       "      <th>Label</th>\n",
       "    </tr>\n",
       "  </thead>\n",
       "  <tbody>\n",
       "    <tr>\n",
       "      <th>0</th>\n",
       "      <td>Is it possible for me to change my PIN number?</td>\n",
       "      <td>0</td>\n",
       "      <td>23</td>\n",
       "    </tr>\n",
       "    <tr>\n",
       "      <th>1</th>\n",
       "      <td>I'm not sure why my card didn't work</td>\n",
       "      <td>1</td>\n",
       "      <td>27</td>\n",
       "    </tr>\n",
       "    <tr>\n",
       "      <th>2</th>\n",
       "      <td>I don't think my top up worked</td>\n",
       "      <td>2</td>\n",
       "      <td>60</td>\n",
       "    </tr>\n",
       "    <tr>\n",
       "      <th>3</th>\n",
       "      <td>Can you explain why my payment was charged a fee?</td>\n",
       "      <td>3</td>\n",
       "      <td>17</td>\n",
       "    </tr>\n",
       "    <tr>\n",
       "      <th>4</th>\n",
       "      <td>How long does a transfer from a UK account tak...</td>\n",
       "      <td>4</td>\n",
       "      <td>7</td>\n",
       "    </tr>\n",
       "  </tbody>\n",
       "</table>\n",
       "</div>"
      ],
      "text/plain": [
       "                                               Query  ID  Label\n",
       "0     Is it possible for me to change my PIN number?   0     23\n",
       "1               I'm not sure why my card didn't work   1     27\n",
       "2                     I don't think my top up worked   2     60\n",
       "3  Can you explain why my payment was charged a fee?   3     17\n",
       "4  How long does a transfer from a UK account tak...   4      7"
      ]
     },
     "execution_count": 5,
     "metadata": {},
     "output_type": "execute_result"
    }
   ],
   "source": [
    "df.head()"
   ]
  },
  {
   "cell_type": "code",
   "execution_count": 6,
   "metadata": {},
   "outputs": [],
   "source": [
    "def prompt(query: str) -> str:\n",
    "    return (f'This online banking customer service query: \"{query}\"\\n'\n",
    "             'is best summarized as:')"
   ]
  },
  {
   "cell_type": "code",
   "execution_count": 7,
   "metadata": {},
   "outputs": [],
   "source": [
    "df['prompt'] = [prompt(query) for query in df['Query']]"
   ]
  },
  {
   "cell_type": "code",
   "execution_count": 8,
   "metadata": {},
   "outputs": [],
   "source": [
    "original_class_names = [\"Refund_not_showing_up\", \"activate_my_card\", \"age_limit\", \"apple_pay_or_google_pay\", \"atm_support\", \"automatic_top_up\", \"balance_not_updated_after_bank_transfer\", \"balance_not_updated_after_cheque_or_cash_deposit\", \"beneficiary_not_allowed\", \"cancel_transfer\", \"card_about_to_expire\", \"card_acceptance\", \"card_arrival\", \"card_delivery_estimate\", \"card_linking\", \"card_not_working\", \"card_payment_fee_charged\", \"card_payment_not_recognised\", \"card_payment_wrong_exchange_rate\", \"card_swallowed\", \"cash_withdrawal_charge\", \"cash_withdrawal_not_recognised\", \"change_pin\", \"compromised_card\", \"contactless_not_working\", \"country_support\", \"declined_card_payment\", \"declined_cash_withdrawal\", \"declined_transfer\", \"direct_debit_payment_not_recognised\", \"disposable_card_limits\", \"edit_personal_details\", \"exchange_charge\", \"exchange_rate\", \"exchange_via_app\", \"extra_charge_on_statement\", \"failed_transfer\", \"fiat_currency_support\", \"get_disposable_virtual_card\", \"get_physical_card\", \"getting_spare_card\", \"getting_virtual_card\", \"lost_or_stolen_card\", \"lost_or_stolen_phone\", \"order_physical_card\", \"passcode_forgotten\", \"pending_card_payment\", \"pending_cash_withdrawal\", \"pending_top_up\", \"pending_transfer\", \"pin_blocked\", \"receiving_money\", \"request_refund\", \"reverted_card_payment?\", \"supported_cards_and_currencies\", \"terminate_account\", \"top_up_by_bank_transfer_charge\", \"top_up_by_card_charge\", \"top_up_by_cash_or_cheque\", \"top_up_failed\", \"top_up_limits\", \"top_up_reverted\", \"topping_up_by_card\", \"transaction_charged_twice\", \"transfer_fee_charged\", \"transfer_into_account\", \"transfer_not_received_by_recipient\", \"transfer_timing\", \"unable_to_verify_identity\", \"verify_my_identity\", \"verify_source_of_funds\", \"verify_top_up\", \"virtual_card_not_working\", \"visa_or_mastercard\", \"why_verify_identity\", \"wrong_amount_of_cash_received\", \"wrong_exchange_rate_for_cash_withdrawal\"]"
   ]
  },
  {
   "attachments": {},
   "cell_type": "markdown",
   "metadata": {},
   "source": [
    "https://huggingface.co/datasets/ought/raft/blob/main/data/banking_77/task.json"
   ]
  },
  {
   "cell_type": "code",
   "execution_count": 9,
   "metadata": {},
   "outputs": [],
   "source": [
    "class_names = [' '.join(class_name.split('_')).capitalize()\n",
    "               for class_name in original_class_names]"
   ]
  },
  {
   "cell_type": "code",
   "execution_count": 10,
   "metadata": {},
   "outputs": [],
   "source": [
    "df['class_name'] = [class_names[label_idx-1] for label_idx in df['Label']]"
   ]
  },
  {
   "cell_type": "code",
   "execution_count": 11,
   "metadata": {},
   "outputs": [
    {
     "data": {
      "text/html": [
       "<style type=\"text/css\">\n",
       "#T_e7007_row0_col0, #T_e7007_row0_col1, #T_e7007_row1_col0, #T_e7007_row1_col1, #T_e7007_row2_col0, #T_e7007_row2_col1 {\n",
       "  text-align: left;\n",
       "  white-space: pre-wrap;\n",
       "}\n",
       "</style>\n",
       "<table id=\"T_e7007\">\n",
       "  <thead>\n",
       "    <tr>\n",
       "      <th class=\"blank level0\" >&nbsp;</th>\n",
       "      <th id=\"T_e7007_level0_col0\" class=\"col_heading level0 col0\" >prompt</th>\n",
       "      <th id=\"T_e7007_level0_col1\" class=\"col_heading level0 col1\" >class_name</th>\n",
       "    </tr>\n",
       "  </thead>\n",
       "  <tbody>\n",
       "    <tr>\n",
       "      <th id=\"T_e7007_level0_row0\" class=\"row_heading level0 row0\" >0</th>\n",
       "      <td id=\"T_e7007_row0_col0\" class=\"data row0 col0\" >This online banking customer service query: \"Is it possible for me to change my PIN number?\"\n",
       "is best summarized as:</td>\n",
       "      <td id=\"T_e7007_row0_col1\" class=\"data row0 col1\" >Change pin</td>\n",
       "    </tr>\n",
       "    <tr>\n",
       "      <th id=\"T_e7007_level0_row1\" class=\"row_heading level0 row1\" >1</th>\n",
       "      <td id=\"T_e7007_row1_col0\" class=\"data row1 col0\" >This online banking customer service query: \"I'm not sure why my card didn't work\"\n",
       "is best summarized as:</td>\n",
       "      <td id=\"T_e7007_row1_col1\" class=\"data row1 col1\" >Declined card payment</td>\n",
       "    </tr>\n",
       "    <tr>\n",
       "      <th id=\"T_e7007_level0_row2\" class=\"row_heading level0 row2\" >2</th>\n",
       "      <td id=\"T_e7007_row2_col0\" class=\"data row2 col0\" >This online banking customer service query: \"I don't think my top up worked\"\n",
       "is best summarized as:</td>\n",
       "      <td id=\"T_e7007_row2_col1\" class=\"data row2 col1\" >Top up failed</td>\n",
       "    </tr>\n",
       "  </tbody>\n",
       "</table>\n"
      ],
      "text/plain": [
       "<pandas.io.formats.style.Styler at 0x1c1ae434880>"
      ]
     },
     "metadata": {},
     "output_type": "display_data"
    }
   ],
   "source": [
    "display_df(df, columns=['prompt', 'class_name'])"
   ]
  },
  {
   "attachments": {},
   "cell_type": "markdown",
   "metadata": {},
   "source": [
    "There are so many classes that `text-davinci-003` is prohibitively expensive. If we\n",
    "could cache the prompt, it'd be non-prohibitively expensive."
   ]
  },
  {
   "cell_type": "code",
   "execution_count": 12,
   "metadata": {},
   "outputs": [
    {
     "data": {
      "application/vnd.jupyter.widget-view+json": {
       "model_id": "c9d0e3359b744495ba6902316976b78f",
       "version_major": 2,
       "version_minor": 0
      },
      "text/plain": [
       "log-probs:   0%|          | 0/3850 [00:00<?, ?it/s]"
      ]
     },
     "metadata": {},
     "output_type": "display_data"
    }
   ],
   "source": [
    "## $0.23\n",
    "pred_probs = (openai.classify\n",
    "              .predict_proba(df['prompt'].tolist(),\n",
    "                             completions=class_names,\n",
    "                             model='text-curie-001',\n",
    "                             prior=None,\n",
    "                             ask_if_ok=True))"
   ]
  },
  {
   "cell_type": "code",
   "execution_count": 13,
   "metadata": {},
   "outputs": [
    {
     "data": {
      "text/plain": [
       "0.19918699186991867"
      ]
     },
     "execution_count": 13,
     "metadata": {},
     "output_type": "execute_result"
    }
   ],
   "source": [
    "f1_score(df['Label']-1, pred_probs.argmax(axis=1), average='macro')"
   ]
  },
  {
   "cell_type": "code",
   "execution_count": 14,
   "metadata": {},
   "outputs": [
    {
     "data": {
      "text/plain": [
       "0.22"
      ]
     },
     "execution_count": 14,
     "metadata": {},
     "output_type": "execute_result"
    }
   ],
   "source": [
    "(pred_probs.argmax(axis=1) == df['Label']-1).mean()"
   ]
  },
  {
   "attachments": {},
   "cell_type": "markdown",
   "metadata": {},
   "source": [
    "It only got 11/50 right lol. What's the accuracy of randomly guessing?"
   ]
  },
  {
   "cell_type": "code",
   "execution_count": 15,
   "metadata": {},
   "outputs": [
    {
     "data": {
      "text/plain": [
       "0.012987012987012988"
      ]
     },
     "execution_count": 15,
     "metadata": {},
     "output_type": "execute_result"
    }
   ],
   "source": [
    "1/len(class_names)"
   ]
  },
  {
   "cell_type": "code",
   "execution_count": 16,
   "metadata": {},
   "outputs": [],
   "source": [
    "df['class_pred'] = [class_names[pred_class_idx]\n",
    "                    for pred_class_idx in pred_probs.argmax(axis=1)]"
   ]
  },
  {
   "cell_type": "code",
   "execution_count": 17,
   "metadata": {},
   "outputs": [],
   "source": [
    "# display_df(df[df['class_name'] != df['class_pred']],\n",
    "#            columns=['prompt', 'class_name', 'class_pred'],\n",
    "#            num_rows=None)"
   ]
  }
 ],
 "metadata": {
  "kernelspec": {
   "display_name": "cappr",
   "language": "python",
   "name": "python3"
  },
  "language_info": {
   "codemirror_mode": {
    "name": "ipython",
    "version": 3
   },
   "file_extension": ".py",
   "mimetype": "text/x-python",
   "name": "python",
   "nbconvert_exporter": "python",
   "pygments_lexer": "ipython3",
   "version": "3.11.5"
  },
  "orig_nbformat": 4
 },
 "nbformat": 4,
 "nbformat_minor": 2
}
