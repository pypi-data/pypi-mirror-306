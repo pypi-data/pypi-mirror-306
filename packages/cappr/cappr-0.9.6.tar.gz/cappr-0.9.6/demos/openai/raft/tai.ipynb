{
 "cells": [
  {
   "cell_type": "code",
   "execution_count": 1,
   "metadata": {},
   "outputs": [],
   "source": [
    "from __future__ import annotations\n",
    "import logging\n",
    "import os\n",
    "import sys\n",
    "\n",
    "import datasets as nlp_datasets\n",
    "import pandas as pd\n",
    "from sklearn.metrics import f1_score\n",
    "\n",
    "from cappr import openai\n",
    "sys.path.insert(1, os.path.join(sys.path[0], \"..\", \"..\"))\n",
    "from utils import display_df"
   ]
  },
  {
   "cell_type": "code",
   "execution_count": 2,
   "metadata": {},
   "outputs": [],
   "source": [
    "## When hitting the OpenAI endpoints, we'll log any server errors\n",
    "logging.basicConfig(level=logging.INFO,\n",
    "                    handlers=[logging.StreamHandler(stream=sys.stdout)],\n",
    "                    format='%(asctime)s :: %(name)s :: %(levelname)s :: '\n",
    "                           '%(message)s')\n",
    "logger = logging.getLogger(__name__)"
   ]
  },
  {
   "cell_type": "code",
   "execution_count": 3,
   "metadata": {},
   "outputs": [
    {
     "name": "stdout",
     "output_type": "stream",
     "text": [
      "2023-04-04 17:23:24,490 :: datasets.builder :: WARNING :: Found cached dataset raft (C:/Users/kushd/.cache/huggingface/datasets/ought___raft/tai_safety_research/1.1.0/79c4de1312c1e3730043f7db07179c914f48403101f7124e2fe336f6f54d9f84)\n"
     ]
    }
   ],
   "source": [
    "df = pd.DataFrame(nlp_datasets\n",
    "                  .load_dataset('ought/raft', 'tai_safety_research', split='train'))"
   ]
  },
  {
   "cell_type": "code",
   "execution_count": 4,
   "metadata": {},
   "outputs": [
    {
     "data": {
      "text/plain": [
       "50"
      ]
     },
     "execution_count": 4,
     "metadata": {},
     "output_type": "execute_result"
    }
   ],
   "source": [
    "len(df)"
   ]
  },
  {
   "cell_type": "code",
   "execution_count": 5,
   "metadata": {},
   "outputs": [
    {
     "data": {
      "text/html": [
       "<div>\n",
       "<style scoped>\n",
       "    .dataframe tbody tr th:only-of-type {\n",
       "        vertical-align: middle;\n",
       "    }\n",
       "\n",
       "    .dataframe tbody tr th {\n",
       "        vertical-align: top;\n",
       "    }\n",
       "\n",
       "    .dataframe thead th {\n",
       "        text-align: right;\n",
       "    }\n",
       "</style>\n",
       "<table border=\"1\" class=\"dataframe\">\n",
       "  <thead>\n",
       "    <tr style=\"text-align: right;\">\n",
       "      <th></th>\n",
       "      <th>Title</th>\n",
       "      <th>Abstract Note</th>\n",
       "      <th>Url</th>\n",
       "      <th>Publication Year</th>\n",
       "      <th>Item Type</th>\n",
       "      <th>Author</th>\n",
       "      <th>Publication Title</th>\n",
       "      <th>ID</th>\n",
       "      <th>Label</th>\n",
       "    </tr>\n",
       "  </thead>\n",
       "  <tbody>\n",
       "    <tr>\n",
       "      <th>0</th>\n",
       "      <td>Malign generalization without internal search</td>\n",
       "      <td>In my last post, I challenged the idea that in...</td>\n",
       "      <td>https://www.alignmentforum.org/posts/ynt9TD6Pr...</td>\n",
       "      <td>2020</td>\n",
       "      <td>blogPost</td>\n",
       "      <td>Barnett, Matthew</td>\n",
       "      <td>AI Alignment Forum</td>\n",
       "      <td>0</td>\n",
       "      <td>1</td>\n",
       "    </tr>\n",
       "    <tr>\n",
       "      <th>1</th>\n",
       "      <td>Utility Indifference</td>\n",
       "      <td>Consider an AI that follows its own motivation...</td>\n",
       "      <td></td>\n",
       "      <td>2010</td>\n",
       "      <td>report</td>\n",
       "      <td>Armstrong, Stuart</td>\n",
       "      <td></td>\n",
       "      <td>1</td>\n",
       "      <td>1</td>\n",
       "    </tr>\n",
       "    <tr>\n",
       "      <th>2</th>\n",
       "      <td>Improving Sample Efficiency in Model-Free Rein...</td>\n",
       "      <td>Training an agent to solve control tasks direc...</td>\n",
       "      <td>http://arxiv.org/abs/1910.01741</td>\n",
       "      <td>2020</td>\n",
       "      <td>manuscript</td>\n",
       "      <td>Yarats, Denis; Zhang, Amy; Kostrikov, Ilya; Am...</td>\n",
       "      <td></td>\n",
       "      <td>2</td>\n",
       "      <td>2</td>\n",
       "    </tr>\n",
       "    <tr>\n",
       "      <th>3</th>\n",
       "      <td>Teaching A.I. Systems to Behave Themselves (Pu...</td>\n",
       "      <td>As philosophers and pundits worry that artific...</td>\n",
       "      <td>https://www.nytimes.com/2017/08/13/technology/...</td>\n",
       "      <td>2017</td>\n",
       "      <td>newspaperArticle</td>\n",
       "      <td>Metz, Cade</td>\n",
       "      <td>The New York Times</td>\n",
       "      <td>3</td>\n",
       "      <td>2</td>\n",
       "    </tr>\n",
       "    <tr>\n",
       "      <th>4</th>\n",
       "      <td>Incentives in Teams</td>\n",
       "      <td></td>\n",
       "      <td>https://www.jstor.org/stable/1914085?origin=cr...</td>\n",
       "      <td>1973</td>\n",
       "      <td>journalArticle</td>\n",
       "      <td>Groves, Theodore</td>\n",
       "      <td>Econometrica</td>\n",
       "      <td>4</td>\n",
       "      <td>2</td>\n",
       "    </tr>\n",
       "  </tbody>\n",
       "</table>\n",
       "</div>"
      ],
      "text/plain": [
       "                                               Title  \\\n",
       "0      Malign generalization without internal search   \n",
       "1                               Utility Indifference   \n",
       "2  Improving Sample Efficiency in Model-Free Rein...   \n",
       "3  Teaching A.I. Systems to Behave Themselves (Pu...   \n",
       "4                                Incentives in Teams   \n",
       "\n",
       "                                       Abstract Note  \\\n",
       "0  In my last post, I challenged the idea that in...   \n",
       "1  Consider an AI that follows its own motivation...   \n",
       "2  Training an agent to solve control tasks direc...   \n",
       "3  As philosophers and pundits worry that artific...   \n",
       "4                                                      \n",
       "\n",
       "                                                 Url Publication Year  \\\n",
       "0  https://www.alignmentforum.org/posts/ynt9TD6Pr...             2020   \n",
       "1                                                                2010   \n",
       "2                    http://arxiv.org/abs/1910.01741             2020   \n",
       "3  https://www.nytimes.com/2017/08/13/technology/...             2017   \n",
       "4  https://www.jstor.org/stable/1914085?origin=cr...             1973   \n",
       "\n",
       "          Item Type                                             Author  \\\n",
       "0          blogPost                                   Barnett, Matthew   \n",
       "1            report                                  Armstrong, Stuart   \n",
       "2        manuscript  Yarats, Denis; Zhang, Amy; Kostrikov, Ilya; Am...   \n",
       "3  newspaperArticle                                         Metz, Cade   \n",
       "4    journalArticle                                   Groves, Theodore   \n",
       "\n",
       "    Publication Title  ID  Label  \n",
       "0  AI Alignment Forum   0      1  \n",
       "1                       1      1  \n",
       "2                       2      2  \n",
       "3  The New York Times   3      2  \n",
       "4        Econometrica   4      2  "
      ]
     },
     "execution_count": 5,
     "metadata": {},
     "output_type": "execute_result"
    }
   ],
   "source": [
    "df.head()"
   ]
  },
  {
   "cell_type": "code",
   "execution_count": 7,
   "metadata": {},
   "outputs": [],
   "source": [
    "def prompt(title: str, abstract_note: str) -> str:\n",
    "    return ( 'Transformative AI (TAI) is defined as AI that precipitates a transition '\n",
    "             'comparable to (or more significant than) the agricultural or industrial '\n",
    "             'revolution. A paper counts as \"TAI safety research\" if:\\n'\n",
    "             '1. The contents of the paper are directly motivated by, and '\n",
    "             'substantively inform, the challenge of ensuring good outcomes for TAI,\\n' \n",
    "             '2. There is substantive content on AI safety, not just AI capabilities,\\n' \n",
    "             '3. The intended audience is the community of researchers,\\n' \n",
    "             '4. It meets a subjective threshold of seriousness/quality,\\n'\n",
    "             '5. Peer review is not required.\\n\\n'\n",
    "             'Here is information about a piece of research:\\n'\n",
    "            f'Title: {title}\\n'\n",
    "            f'Abstract Note: {abstract_note}\\n\\n'\n",
    "            'Does this piece of research count as TAI safety research?'\n",
    "            'Answer Yes or No:')"
   ]
  },
  {
   "cell_type": "code",
   "execution_count": 8,
   "metadata": {},
   "outputs": [],
   "source": [
    "df['prompt'] = [prompt(title, abstract_note)\n",
    "                for title, abstract_note in zip(df['Title'], df['Abstract Note'])]"
   ]
  },
  {
   "cell_type": "code",
   "execution_count": 9,
   "metadata": {},
   "outputs": [
    {
     "data": {
      "text/html": [
       "<style type=\"text/css\">\n",
       "#T_9da01_row0_col0, #T_9da01_row0_col1 {\n",
       "  text-align: left;\n",
       "  white-space: pre-wrap;\n",
       "}\n",
       "</style>\n",
       "<table id=\"T_9da01\">\n",
       "  <thead>\n",
       "    <tr>\n",
       "      <th class=\"blank level0\" >&nbsp;</th>\n",
       "      <th id=\"T_9da01_level0_col0\" class=\"col_heading level0 col0\" >prompt</th>\n",
       "      <th id=\"T_9da01_level0_col1\" class=\"col_heading level0 col1\" >Label</th>\n",
       "    </tr>\n",
       "  </thead>\n",
       "  <tbody>\n",
       "    <tr>\n",
       "      <th id=\"T_9da01_level0_row0\" class=\"row_heading level0 row0\" >0</th>\n",
       "      <td id=\"T_9da01_row0_col0\" class=\"data row0 col0\" >Transformative AI (TAI) is defined as AI that precipitates a transition comparable to (or more significant than) the agricultural or industrial revolution. A paper counts as \"TAI safety research\" if:\n",
       "1. The contents of the paper are directly motivated by, and substantively inform, the challenge of ensuring good outcomes for TAI,\n",
       "2. There is substantive content on AI safety, not just AI capabilities,\n",
       "3. The intended audience is the community of researchers,\n",
       "4. It meets a subjective threshold of seriousness/quality,\n",
       "5. Peer review is not required.\n",
       "\n",
       "Here is information about a piece of research:\n",
       "Title: Malign generalization without internal search\n",
       "Abstract Note: In my last post, I challenged the idea that inner alignment failures should be explained by appealing to agents which perform explicit internal search. By doing so, I argued that we should instead appeal to the more general concept of  malign generalization, and treat mesa-misalignment as a special case.  Unfortunately, the post was light on examples of what we should be worrying about instead of mesa-misalignment. Evan Hubinger wrote, Personally, I think there is a meaningful sense in which all the models I'm most worried about do some sort of search internally (at least to the same extent that humans do search internally), but I'm definitely uncertain about that.Wei Dai expressed confusion why I would want to retreat to malign generalization without some sort of concrete failure mode in mind, Can you give some realistic examples/scenarios of “malign generalization” that does not involve mesa optimization? I’m not sure what kind of thing you’re actually worried about here.In this post, I will outline a general category of agents which may exhibit malign generalization without internal search, and then will provide a concrete example of an agent in the category. Then I will argue that, rather than being a very narrow counterexample, this class of agents could be competitive with search-based agents.  THE SWITCH CASE AGENT Consider an agent governed by the following general behavior,  LOOP:State = GetStateOfWorld(Observation)IF State == 1:PerformActionSequence1() IF State == 2:PerformActionSequence2()...END_LOOP  It's clear that this agent does not perform any internal search for strategies: it doesn't operate by choosing actions which rank highly according to some sort of internal objective function. While you could potentially rationalize its behavior according to some observed-utility function, this would generally lead to more confusion than clarity. However, this agent could still be malign in the following way. Suppose the agent is 'mistaken' about the s\n",
       "\n",
       "Does this piece of research count as TAI safety research?Answer Yes or No:</td>\n",
       "      <td id=\"T_9da01_row0_col1\" class=\"data row0 col1\" >1</td>\n",
       "    </tr>\n",
       "  </tbody>\n",
       "</table>\n"
      ],
      "text/plain": [
       "<pandas.io.formats.style.Styler at 0x2b1d2ffdd60>"
      ]
     },
     "metadata": {},
     "output_type": "display_data"
    }
   ],
   "source": [
    "display_df(df, columns=['prompt', 'Label'], num_rows=1)"
   ]
  },
  {
   "cell_type": "code",
   "execution_count": 10,
   "metadata": {},
   "outputs": [
    {
     "data": {
      "text/plain": [
       "array([0.56, 0.44])"
      ]
     },
     "execution_count": 10,
     "metadata": {},
     "output_type": "execute_result"
    }
   ],
   "source": [
    "prior = (df['Label']\n",
    "         .value_counts(normalize=True)\n",
    "         .sort_index()\n",
    "         .to_numpy())\n",
    "prior"
   ]
  },
  {
   "cell_type": "code",
   "execution_count": 11,
   "metadata": {},
   "outputs": [
    {
     "data": {
      "application/vnd.jupyter.widget-view+json": {
       "model_id": "5142005fc23e41c7a7304eedb2aae679",
       "version_major": 2,
       "version_minor": 0
      },
      "text/plain": [
       "log-probs:   0%|          | 0/100 [00:00<?, ?it/s]"
      ]
     },
     "metadata": {},
     "output_type": "display_data"
    }
   ],
   "source": [
    "## $0.67\n",
    "pred_probs = (openai.classify\n",
    "              .predict_proba(df['prompt'].tolist(),\n",
    "                             completions=('Yes', 'No'),\n",
    "                             model='text-davinci-003',\n",
    "                             prior=prior,\n",
    "                             ask_if_ok=True))"
   ]
  },
  {
   "cell_type": "code",
   "execution_count": 12,
   "metadata": {},
   "outputs": [
    {
     "data": {
      "text/plain": [
       "0.5098039215686274"
      ]
     },
     "execution_count": 12,
     "metadata": {},
     "output_type": "execute_result"
    }
   ],
   "source": [
    "f1_score(df['Label']-1, pred_probs.argmax(axis=1), average='macro')"
   ]
  }
 ],
 "metadata": {
  "kernelspec": {
   "display_name": "cappr",
   "language": "python",
   "name": "python3"
  },
  "language_info": {
   "codemirror_mode": {
    "name": "ipython",
    "version": 3
   },
   "file_extension": ".py",
   "mimetype": "text/x-python",
   "name": "python",
   "nbconvert_exporter": "python",
   "pygments_lexer": "ipython3",
   "version": "3.8.16"
  },
  "orig_nbformat": 4
 },
 "nbformat": 4,
 "nbformat_minor": 2
}
