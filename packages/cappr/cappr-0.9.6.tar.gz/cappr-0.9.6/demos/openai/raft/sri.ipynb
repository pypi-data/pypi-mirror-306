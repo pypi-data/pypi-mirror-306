{
 "cells": [
  {
   "cell_type": "code",
   "execution_count": 1,
   "metadata": {},
   "outputs": [],
   "source": [
    "from __future__ import annotations\n",
    "import logging\n",
    "import os\n",
    "import sys\n",
    "\n",
    "import datasets as nlp_datasets\n",
    "import pandas as pd\n",
    "from sklearn.metrics import f1_score\n",
    "\n",
    "from cappr import openai\n",
    "sys.path.insert(1, os.path.join(sys.path[0], \"..\", \"..\"))\n",
    "from utils import display_df"
   ]
  },
  {
   "attachments": {},
   "cell_type": "markdown",
   "metadata": {},
   "source": [
    "Another tough one"
   ]
  },
  {
   "cell_type": "code",
   "execution_count": 2,
   "metadata": {},
   "outputs": [],
   "source": [
    "## When hitting the OpenAI endpoints, we'll log any server errors\n",
    "logging.basicConfig(level=logging.INFO,\n",
    "                    handlers=[logging.StreamHandler(stream=sys.stdout)],\n",
    "                    format='%(asctime)s :: %(name)s :: %(levelname)s :: '\n",
    "                           '%(message)s')\n",
    "logger = logging.getLogger(__name__)"
   ]
  },
  {
   "cell_type": "code",
   "execution_count": 3,
   "metadata": {},
   "outputs": [
    {
     "name": "stdout",
     "output_type": "stream",
     "text": [
      "2023-04-04 17:19:27,286 :: datasets.builder :: WARNING :: Found cached dataset raft (C:/Users/kushd/.cache/huggingface/datasets/ought___raft/systematic_review_inclusion/1.1.0/79c4de1312c1e3730043f7db07179c914f48403101f7124e2fe336f6f54d9f84)\n"
     ]
    }
   ],
   "source": [
    "df = pd.DataFrame(nlp_datasets\n",
    "                  .load_dataset('ought/raft', 'systematic_review_inclusion',\n",
    "                                split='train'))"
   ]
  },
  {
   "cell_type": "code",
   "execution_count": 4,
   "metadata": {},
   "outputs": [
    {
     "data": {
      "text/plain": [
       "50"
      ]
     },
     "execution_count": 4,
     "metadata": {},
     "output_type": "execute_result"
    }
   ],
   "source": [
    "len(df)"
   ]
  },
  {
   "cell_type": "code",
   "execution_count": 5,
   "metadata": {},
   "outputs": [
    {
     "data": {
      "text/html": [
       "<div>\n",
       "<style scoped>\n",
       "    .dataframe tbody tr th:only-of-type {\n",
       "        vertical-align: middle;\n",
       "    }\n",
       "\n",
       "    .dataframe tbody tr th {\n",
       "        vertical-align: top;\n",
       "    }\n",
       "\n",
       "    .dataframe thead th {\n",
       "        text-align: right;\n",
       "    }\n",
       "</style>\n",
       "<table border=\"1\" class=\"dataframe\">\n",
       "  <thead>\n",
       "    <tr style=\"text-align: right;\">\n",
       "      <th></th>\n",
       "      <th>Title</th>\n",
       "      <th>Abstract</th>\n",
       "      <th>Authors</th>\n",
       "      <th>Journal</th>\n",
       "      <th>ID</th>\n",
       "      <th>Label</th>\n",
       "    </tr>\n",
       "  </thead>\n",
       "  <tbody>\n",
       "    <tr>\n",
       "      <th>0</th>\n",
       "      <td>Prototyping and transforming facial textures f...</td>\n",
       "      <td>Wavelet based methods for prototyping facial t...</td>\n",
       "      <td>Tiddeman, B.; Burt, M.; Perrett, D.</td>\n",
       "      <td>IEEE Comput Graphics Appl</td>\n",
       "      <td>0</td>\n",
       "      <td>2</td>\n",
       "    </tr>\n",
       "    <tr>\n",
       "      <th>1</th>\n",
       "      <td>School finance reform and voluntary fiscal fed...</td>\n",
       "      <td>California has transferred the financing of it...</td>\n",
       "      <td>Brunner, E.; Sonstelie, J.</td>\n",
       "      <td>J. Public Econ.</td>\n",
       "      <td>1</td>\n",
       "      <td>2</td>\n",
       "    </tr>\n",
       "    <tr>\n",
       "      <th>2</th>\n",
       "      <td>When Should the Ask Be a Nudge? The Effect of ...</td>\n",
       "      <td></td>\n",
       "      <td>Goswami, I.; Urminsky, O.</td>\n",
       "      <td>Journal of Marketing Research</td>\n",
       "      <td>2</td>\n",
       "      <td>2</td>\n",
       "    </tr>\n",
       "    <tr>\n",
       "      <th>3</th>\n",
       "      <td>Intra-organizational volunteerism: Good soldie...</td>\n",
       "      <td>Despite the millions of hours donated to chari...</td>\n",
       "      <td>Peloza, J.; Hassay, D.N.</td>\n",
       "      <td>J. Bus. Ethics</td>\n",
       "      <td>3</td>\n",
       "      <td>2</td>\n",
       "    </tr>\n",
       "    <tr>\n",
       "      <th>4</th>\n",
       "      <td>Implicit vs. Explicit deception in ultimatum g...</td>\n",
       "      <td>We explore bargaining, using ultimatum games, ...</td>\n",
       "      <td>Kriss, P.H.; Nagel, R.; Weber, R.A.</td>\n",
       "      <td>J. Econ. Behav. Organ.</td>\n",
       "      <td>4</td>\n",
       "      <td>2</td>\n",
       "    </tr>\n",
       "  </tbody>\n",
       "</table>\n",
       "</div>"
      ],
      "text/plain": [
       "                                               Title  \\\n",
       "0  Prototyping and transforming facial textures f...   \n",
       "1  School finance reform and voluntary fiscal fed...   \n",
       "2  When Should the Ask Be a Nudge? The Effect of ...   \n",
       "3  Intra-organizational volunteerism: Good soldie...   \n",
       "4  Implicit vs. Explicit deception in ultimatum g...   \n",
       "\n",
       "                                            Abstract  \\\n",
       "0  Wavelet based methods for prototyping facial t...   \n",
       "1  California has transferred the financing of it...   \n",
       "2                                                      \n",
       "3  Despite the millions of hours donated to chari...   \n",
       "4  We explore bargaining, using ultimatum games, ...   \n",
       "\n",
       "                               Authors                        Journal  ID  \\\n",
       "0  Tiddeman, B.; Burt, M.; Perrett, D.      IEEE Comput Graphics Appl   0   \n",
       "1           Brunner, E.; Sonstelie, J.                J. Public Econ.   1   \n",
       "2            Goswami, I.; Urminsky, O.  Journal of Marketing Research   2   \n",
       "3             Peloza, J.; Hassay, D.N.                 J. Bus. Ethics   3   \n",
       "4  Kriss, P.H.; Nagel, R.; Weber, R.A.         J. Econ. Behav. Organ.   4   \n",
       "\n",
       "   Label  \n",
       "0      2  \n",
       "1      2  \n",
       "2      2  \n",
       "3      2  \n",
       "4      2  "
      ]
     },
     "execution_count": 5,
     "metadata": {},
     "output_type": "execute_result"
    }
   ],
   "source": [
    "df.head()"
   ]
  },
  {
   "cell_type": "code",
   "execution_count": 6,
   "metadata": {},
   "outputs": [],
   "source": [
    "def prompt(title: str, abstract: str) -> str:\n",
    "    return ( 'Identify whether this paper should be included in a meta-review which '\n",
    "             'includes the findings of systematic reviews on interventions designed to '\n",
    "             'promote charitable donations. Included reviews should describe monetary '\n",
    "             'charitable donations, assess any population of participants in any '\n",
    "             'context, and be peer reviewed and written in English. They should not '\n",
    "             'report new data, be non-systematic reviews, consider cause-related '\n",
    "             'marketing or other kinds of prosocial behaviour.\\n\\n'\n",
    "             \"Here's information about the paper.\\n\"\n",
    "            f'Title: {title}\\n'\n",
    "            f'Abstract: {abstract}\\n\\n'\n",
    "             'Should this paper be included in the meta-review described above? '\n",
    "             'Answer Yes or No:')"
   ]
  },
  {
   "cell_type": "code",
   "execution_count": 7,
   "metadata": {},
   "outputs": [],
   "source": [
    "df['prompt'] = [prompt(title, abstract)\n",
    "                for title, abstract in zip(df['Title'], df['Abstract'])]"
   ]
  },
  {
   "cell_type": "code",
   "execution_count": 8,
   "metadata": {},
   "outputs": [
    {
     "data": {
      "text/html": [
       "<style type=\"text/css\">\n",
       "#T_d0aa1_row0_col0, #T_d0aa1_row0_col1 {\n",
       "  text-align: left;\n",
       "  white-space: pre-wrap;\n",
       "}\n",
       "</style>\n",
       "<table id=\"T_d0aa1\">\n",
       "  <thead>\n",
       "    <tr>\n",
       "      <th class=\"blank level0\" >&nbsp;</th>\n",
       "      <th id=\"T_d0aa1_level0_col0\" class=\"col_heading level0 col0\" >prompt</th>\n",
       "      <th id=\"T_d0aa1_level0_col1\" class=\"col_heading level0 col1\" >Label</th>\n",
       "    </tr>\n",
       "  </thead>\n",
       "  <tbody>\n",
       "    <tr>\n",
       "      <th id=\"T_d0aa1_level0_row0\" class=\"row_heading level0 row0\" >0</th>\n",
       "      <td id=\"T_d0aa1_row0_col0\" class=\"data row0 col0\" >Identify whether this paper should be included in a meta-review which includes the findings of systematic reviews on interventions designed to promote charitable donations. Included reviews should describe monetary charitable donations, assess any population of participants in any context, and be peer reviewed and written in English. They should not report new data, be non-systematic reviews, consider cause-related marketing or other kinds of prosocial behaviour.\n",
       "\n",
       "Here's information about the paper.\n",
       "Title: Prototyping and transforming facial textures for perception research\n",
       "Abstract: Wavelet based methods for prototyping facial textures for artificially transforming the age of facial images were described. Prototype images were used to define the salient features of a particular face classification. Two experiments were conducted to validate the ability of wavelet processing method to capture age information. The first experiment validated the textured prototyping method while the second experiment investigated the effectiveness of the new age transformation technique. The shape and color transformation used to rejuvenate faces hardly affected the apparent age. The average hair color change during rejuvenation was not sufficient to project the hair color in normal range for the younger age group.\n",
       "\n",
       "Should this paper be included in the meta-review described above? Answer Yes or No:</td>\n",
       "      <td id=\"T_d0aa1_row0_col1\" class=\"data row0 col1\" >2</td>\n",
       "    </tr>\n",
       "  </tbody>\n",
       "</table>\n"
      ],
      "text/plain": [
       "<pandas.io.formats.style.Styler at 0x234f9c41d00>"
      ]
     },
     "metadata": {},
     "output_type": "display_data"
    }
   ],
   "source": [
    "display_df(df, columns=['prompt', 'Label'], num_rows=1)"
   ]
  },
  {
   "cell_type": "code",
   "execution_count": 9,
   "metadata": {},
   "outputs": [
    {
     "data": {
      "text/plain": [
       "array([0.02, 0.98])"
      ]
     },
     "execution_count": 9,
     "metadata": {},
     "output_type": "execute_result"
    }
   ],
   "source": [
    "prior = (df['Label']\n",
    "         .value_counts(normalize=True)\n",
    "         .sort_index()\n",
    "         .to_numpy())\n",
    "prior"
   ]
  },
  {
   "cell_type": "code",
   "execution_count": 10,
   "metadata": {},
   "outputs": [
    {
     "data": {
      "application/vnd.jupyter.widget-view+json": {
       "model_id": "4ebc41a3c777446dbd0e7d9b355116de",
       "version_major": 2,
       "version_minor": 0
      },
      "text/plain": [
       "log-probs:   0%|          | 0/100 [00:00<?, ?it/s]"
      ]
     },
     "metadata": {},
     "output_type": "display_data"
    }
   ],
   "source": [
    "## $0.59\n",
    "pred_probs = (openai.classify\n",
    "              .predict_proba(df['prompt'].tolist(),\n",
    "                             completions=('Yes', 'No'),\n",
    "                             model='text-davinci-003',\n",
    "                             prior=None,\n",
    "                             ask_if_ok=True))"
   ]
  },
  {
   "cell_type": "code",
   "execution_count": 11,
   "metadata": {},
   "outputs": [
    {
     "data": {
      "text/plain": [
       "0.4897959183673469"
      ]
     },
     "execution_count": 11,
     "metadata": {},
     "output_type": "execute_result"
    }
   ],
   "source": [
    "f1_score(df['Label']-1, pred_probs.argmax(axis=1), average='macro')"
   ]
  }
 ],
 "metadata": {
  "kernelspec": {
   "display_name": "cappr",
   "language": "python",
   "name": "python3"
  },
  "language_info": {
   "codemirror_mode": {
    "name": "ipython",
    "version": 3
   },
   "file_extension": ".py",
   "mimetype": "text/x-python",
   "name": "python",
   "nbconvert_exporter": "python",
   "pygments_lexer": "ipython3",
   "version": "3.8.16"
  },
  "orig_nbformat": 4
 },
 "nbformat": 4,
 "nbformat_minor": 2
}
