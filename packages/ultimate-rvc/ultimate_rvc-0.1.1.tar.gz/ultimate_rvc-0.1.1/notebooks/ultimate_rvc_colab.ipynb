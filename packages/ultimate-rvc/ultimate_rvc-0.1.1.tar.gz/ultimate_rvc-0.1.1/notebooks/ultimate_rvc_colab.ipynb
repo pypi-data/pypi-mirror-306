{
  "cells": [
    {
      "cell_type": "markdown",
      "metadata": {
        "id": "kmyCzJVyCymN"
      },
      "source": [
        "Colab for [Ultimate RVC](https://github.com/JackismyShephard/ultimate-rvc)\n",
        "\n",
        "This Colab notebook will **help** you if you don’t have a GPU or if your PC isn’t very powerful.\n",
        "\n",
        "Simply click `Runtime` in the top navigation bar and `Run all`. Wait for the output of the final cell to show the public gradio url and click on it.\n"
      ]
    },
    {
      "cell_type": "code",
      "execution_count": null,
      "metadata": {
        "cellView": "form",
        "id": "TfYDhnzOyig5"
      },
      "outputs": [],
      "source": [
        "# @title 0: Initialize notebook\n",
        "import codecs\n",
        "import threading\n",
        "import time\n",
        "\n",
        "from IPython.display import clear_output\n",
        "\n",
        "ZIP_FILE = \"dependencies.zip\"\n",
        "DEPENDENCIES_PATH = \"./dependencies\"\n",
        "VENV_PATH = f\"{DEPENDENCIES_PATH}/venv\"\n",
        "BIN_PATH = f\"{VENV_PATH}/bin\"\n",
        "\n",
        "\n",
        "def update_timer_and_print() -> None:\n",
        "    \"\"\"Print a timer in the console.\"\"\"\n",
        "    global timer\n",
        "    while True:\n",
        "        hours, remainder = divmod(timer, 3600)\n",
        "        minutes, seconds = divmod(remainder, 60)\n",
        "        timer_str = f\"{hours:02}:{minutes:02}:{seconds:02}\"\n",
        "        print(f\"\\rTimer: {timer_str} \", end=\"\", flush=True)  # noqa: T201\n",
        "        time.sleep(1)\n",
        "        timer += 1\n",
        "\n",
        "\n",
        "timer = 0\n",
        "threading.Thread(target=update_timer_and_print, daemon=True).start()\n",
        "\n",
        "install_to_drive = False\n",
        "if install_to_drive:\n",
        "    from google.colab import drive\n",
        "\n",
        "    drive.mount(\"/content/drive\")\n",
        "    %cd /content/drive/MyDrive\n",
        "else:\n",
        "    %cd /content\n",
        "clear_output()"
      ]
    },
    {
      "cell_type": "code",
      "execution_count": null,
      "metadata": {
        "cellView": "form",
        "id": "aaokDv1VzpAX"
      },
      "outputs": [],
      "source": [
        "# @title 1: Clone repository\n",
        "cloneing = codecs.decode(\n",
        "    \"uggcf://tvguho.pbz/WnpxvfzlFurcuneq/hygvzngr-eip.tvg\", \"rot_13\"\n",
        ")\n",
        "\n",
        "!git clone $cloneing HRVC\n",
        "%cd HRVC\n",
        "clear_output()"
      ]
    },
    {
      "cell_type": "code",
      "execution_count": null,
      "metadata": {
        "cellView": "form",
        "id": "lVGNygIa0F_1"
      },
      "outputs": [],
      "source": [
        "# @title 2: Install dependencies\n",
        "curly = codecs.decode(\n",
        "    (\n",
        "        \"uggcf://uhttvatsnpr.pb/WnpxvfzlFurcuneq/hygvzngr-eip/erfbyir/znva/\"\n",
        "        \"qrcraqrapvrf.mvc\"\n",
        "    ),\n",
        "    \"rot_13\",\n",
        ")\n",
        "item1 = codecs.decode(\"./qrcraqrapvrf/fbk\", \"rot_13\")\n",
        "item2 = codecs.decode(\"./qrcraqrapvrf/sszcrt\", \"rot_13\")\n",
        "item3 = codecs.decode(\"./qrcraqrapvrf/zvavpbaqn3_11.rkr\", \"rot_13\")\n",
        "\n",
        "inits = codecs.decode(\"./fep/vavg.cl\", \"rot_13\")\n",
        "\n",
        "!apt install -y python3.12 python3.12-dev python3.12-venv\n",
        "!apt install -y unzip sox libsox-dev ffmpeg\n",
        "\n",
        "!curl -s -LJO $curly -o $ZIP_FILE\n",
        "!unzip -q $ZIP_FILE\n",
        "!rm $ZIP_FILE\n",
        "!rm -rf $item1 $item2 $item3\n",
        "!python3.12 -m venv $VENV_PATH --upgrade-deps\n",
        "\n",
        "! $BIN_PATH/pip install -r requirements.txt\n",
        "! $BIN_PATH/python $inits\n",
        "clear_output()"
      ]
    },
    {
      "cell_type": "code",
      "execution_count": null,
      "metadata": {
        "cellView": "form",
        "id": "lVGNygIa0F_2"
      },
      "outputs": [],
      "source": [
        "# @title 3: Run Ultimate RVC\n",
        "runpice = codecs.decode(\"./fep/ncc.cl\", \"rot_13\")\n",
        "\n",
        "!$BIN_PATH/python $runpice --share --listen-port 9999"
      ]
    }
  ],
  "metadata": {
    "accelerator": "GPU",
    "colab": {
      "gpuType": "T4",
      "provenance": []
    },
    "kernelspec": {
      "display_name": "Python 3",
      "name": "python3"
    },
    "language_info": {
      "name": "python"
    }
  },
  "nbformat": 4,
  "nbformat_minor": 0
}
