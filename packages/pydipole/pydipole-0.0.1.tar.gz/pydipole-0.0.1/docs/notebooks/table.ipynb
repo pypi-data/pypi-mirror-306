{
 "cells": [
  {
   "cell_type": "markdown",
   "id": "2d18d7a1-61d1-4d6a-b237-b262d6caffe3",
   "metadata": {},
   "source": [
    "# Table of atomic dipole polariability\n",
    "\n",
    "TODO: add docs."
   ]
  },
  {
   "cell_type": "code",
   "execution_count": null,
   "id": "9d699684-64ba-4dc2-872c-015a986237d0",
   "metadata": {},
   "outputs": [],
   "source": [
    "import pandas as pd\n",
    "\n",
    "from pydipole import Element, load_db\n",
    "\n",
    "pd.set_option(\"display.max_rows\", None)  # Show all rows without truncation\n",
    "pd.set_option(\"display.max_colwidth\", None)\n",
    "pd.set_option(\"display.width\", 2000)  # Increase width to avoid wrapping\n",
    "pd.set_option(\n",
    "    \"display.colheader_justify\", \"center\"\n",
    ")  # Optional: align headers in the center"
   ]
  },
  {
   "cell_type": "code",
   "execution_count": null,
   "id": "1e149354c83b349b",
   "metadata": {},
   "outputs": [],
   "source": [
    "# Load the database using function `load_db` in pydipole, and this function return a DataFrame object in pandas.\n",
    "df = load_db()"
   ]
  },
  {
   "cell_type": "code",
   "execution_count": null,
   "id": "3864e984-f7bb-4a29-b48f-53672dee2b92",
   "metadata": {},
   "outputs": [],
   "source": [
    "# Then one can print the first 20 rows in the database.\n",
    "df.head(20)\n",
    "\n",
    "# TODO: redirect to its DOI or the link of the source when click it."
   ]
  },
  {
   "cell_type": "code",
   "execution_count": null,
   "id": "7c9a1b00-a101-4d30-b497-45524f66a87c",
   "metadata": {},
   "outputs": [],
   "source": [
    "# We can also find data for H atom by using filter defined in DataFrame, e.g., all data for H atom.\n",
    "df[df[\"Atom\"] == \"H\"]"
   ]
  },
  {
   "cell_type": "code",
   "execution_count": null,
   "id": "a0f6be72-12e9-4990-b36c-f1621200fd59",
   "metadata": {},
   "outputs": [],
   "source": [
    "# Moreover, we can find data for atom with Z=10 by using `Element` class to convert Z to atomic symbol.\n",
    "df[df[\"Atom\"] == Element(10).symbol]"
   ]
  },
  {
   "cell_type": "markdown",
   "id": "9e31fbf5-a491-47a6-a47c-34815e3bb5b9",
   "metadata": {},
   "source": [
    "Static scalar dipole polarizabilities (in atomic units) for neutral atoms.\n",
    "If not otherwise indicated by the state symmetry, $M_L (M_J)$-averaged polarizabilities are\n",
    "listed; $M_L (M_J)$ respectively denotes that the polarizability for each $M_L (M_J)$ state\n",
    "can be found in the reference given. Abbreviations used (uncertainties given here consistently\n",
    "as $\\pm$ values): exp.: experimentally determined value; NR: nonrelativistic; R: Relativistic,\n",
    "DK: Scalar relativistic Douglas-Kroll; MVD: mass-velocity-Darwin; SO: Spin-orbit coupled;\n",
    "SF: Dyall's spin-free formalism (scalar relativistic); PP: relativistic pseudopotential;\n",
    "LDA: local (spin) density approximation; PW91: Perdew-Wang 91 functional;\n",
    "RPA: Random phase approximation; PolPot: Polarization potential; MBPT: many-body\n",
    "perturbation theory; CI: configuration interaction; CCSD(T): coupled cluster singles\n",
    "doubles (SD) with perturbative triples; FS Fock-space; CEPA: coupled electron pair\n",
    "approximation; MR: multi-reference; CAS: complete active space; VPA: variational perturbation\n",
    "approach. For all other abbreviations see text or references. If the symmetry of the state\n",
    "is not clearly specified as in Doolen's calculations, the calculation was most likely set\n",
    "at a specific configuration (orbital occupancy) as listed in the Desclaux tables\n",
    "\\citenum{Müller1984}, reflecting the ground state symmetry of the specific atom.\n",
    "NB: 1 a.u. $= 0.1481847113 \\, {\\mathring A}^3 = 1.6487773 \\times 10^{-41} \\,\n",
    "\\text{C m}^2/\\text{V}$. \n"
   ]
  },
  {
   "cell_type": "code",
   "execution_count": null,
   "id": "4c9d95ae-9d39-4ed0-b7d5-e87b561d8a16",
   "metadata": {},
   "outputs": [],
   "source": [
    "# Now, try to display the whole table. It may take a while...\n",
    "df"
   ]
  },
  {
   "cell_type": "code",
   "execution_count": null,
   "id": "2cc4aee8-d7ff-4f0d-a949-6d5d37b356e4",
   "metadata": {},
   "outputs": [],
   "source": []
  }
 ],
 "metadata": {
  "kernelspec": {
   "display_name": "Python 3 (ipykernel)",
   "language": "python",
   "name": "python3"
  },
  "language_info": {
   "codemirror_mode": {
    "name": "ipython",
    "version": 3
   },
   "file_extension": ".py",
   "mimetype": "text/x-python",
   "name": "python",
   "nbconvert_exporter": "python",
   "pygments_lexer": "ipython3"
  }
 },
 "nbformat": 4,
 "nbformat_minor": 5
}
