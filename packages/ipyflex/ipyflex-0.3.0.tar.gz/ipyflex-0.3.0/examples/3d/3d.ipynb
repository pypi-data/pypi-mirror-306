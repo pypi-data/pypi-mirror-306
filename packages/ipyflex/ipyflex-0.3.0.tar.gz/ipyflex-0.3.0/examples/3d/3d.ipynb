{
 "cells": [
  {
   "cell_type": "markdown",
   "id": "67e21a0e",
   "metadata": {},
   "source": [
    "## Ipygany example"
   ]
  },
  {
   "cell_type": "code",
   "execution_count": null,
   "id": "c509ca65-973d-4922-91b0-996067d9a20f",
   "metadata": {},
   "outputs": [],
   "source": [
    "# This notebook is taken from https://github.com/QuantStack/ipygany/blob/master/examples/isocolor.ipynb\n",
    "# with adaptation to use with ipyflex\n",
    "\n",
    "import numpy as np\n",
    "from ipywidgets import FloatSlider, FloatRangeSlider, Dropdown, Select, VBox, AppLayout, jslink\n",
    "from ipygany import Scene, IsoColor, PolyMesh, Component, ColorBar, colormaps\n",
    "from ipyflex import FlexLayout\n",
    "\n",
    "# Create triangle indices\n",
    "nx = 100\n",
    "ny = 100\n",
    "\n",
    "triangle_indices = np.empty((ny - 1, nx - 1, 2, 3), dtype=int)\n",
    "\n",
    "r = np.arange(nx * ny).reshape(ny, nx)\n",
    "\n",
    "triangle_indices[:, :, 0, 0] = r[:-1, :-1]\n",
    "triangle_indices[:, :, 1, 0] = r[:-1, 1:]\n",
    "triangle_indices[:, :, 0, 1] = r[:-1, 1:]\n",
    "\n",
    "triangle_indices[:, :, 1, 1] = r[1:, 1:]\n",
    "triangle_indices[:, :, :, 2] = r[1:, :-1, None]\n",
    "\n",
    "triangle_indices.shape = (-1, 3)\n",
    "\n",
    "# Create vertices\n",
    "x = np.arange(-5, 5, 10/nx)\n",
    "y = np.arange(-5, 5, 10/ny)\n",
    "\n",
    "xx, yy = np.meshgrid(x, y, sparse=True)\n",
    "\n",
    "z = np.sin(xx**2 + yy**2) / (xx**2 + yy**2)\n",
    "\n",
    "vertices = np.empty((ny, nx, 3))\n",
    "vertices[:, :, 0] = xx\n",
    "vertices[:, :, 1] = yy\n",
    "vertices[:, :, 2] = z\n",
    "vertices = vertices.reshape(nx * ny, 3)\n",
    "\n",
    "height_component = Component(name='value', array=z)\n",
    "\n",
    "mesh = PolyMesh(\n",
    "    vertices=vertices,\n",
    "    triangle_indices=triangle_indices,\n",
    "    data={'height': [height_component]}\n",
    ")\n",
    "\n",
    "height_min = np.min(z)\n",
    "height_max = np.max(z)\n",
    "\n",
    "# Colorize by height\n",
    "colored_mesh = IsoColor(mesh, input='height', min=height_min, max=height_max)\n",
    "\n",
    "# Create a slider that will dynamically change the boundaries of the colormap\n",
    "colormap_slider_range = FloatRangeSlider(value=[height_min, height_max], min=height_min, max=height_max, step=(height_max - height_min) / 100.)\n",
    "\n",
    "jslink((colored_mesh, 'range'), (colormap_slider_range, 'value'))\n",
    "\n",
    "# Create a colorbar widget\n",
    "colorbar = ColorBar(colored_mesh)\n",
    "\n",
    "# Colormap choice widget\n",
    "colormap = Dropdown(\n",
    "    options=colormaps,\n",
    "    description='colormap:'\n",
    ")\n",
    "\n",
    "jslink((colored_mesh, 'colormap'), (colormap, 'index'))\n",
    "scene = Scene([colored_mesh])\n",
    "color = VBox([colormap, colorbar])"
   ]
  },
  {
   "cell_type": "code",
   "execution_count": null,
   "id": "f6237fb7-25cb-48b9-b7c1-b0ad6c41a974",
   "metadata": {},
   "outputs": [],
   "source": [
    "# Create the dictionary of widgets\n",
    "widgets = {'Viewer': scene,'Slider range': colormap_slider_range, 'Color map': color}"
   ]
  },
  {
   "cell_type": "code",
   "execution_count": null,
   "id": "066bf794-f0ac-4237-b8e5-500352f5862b",
   "metadata": {},
   "outputs": [],
   "source": [
    "w = FlexLayout(widgets, style={'height':'620px'}, template = '3d.json', editable=False)"
   ]
  },
  {
   "cell_type": "code",
   "execution_count": null,
   "id": "b77d48fd-69d3-4a6d-b154-1356cf16653e",
   "metadata": {},
   "outputs": [],
   "source": [
    "w"
   ]
  },
  {
   "cell_type": "code",
   "execution_count": null,
   "id": "6462638c-fdad-4375-9f7e-7a41007ed2c8",
   "metadata": {},
   "outputs": [],
   "source": []
  }
 ],
 "metadata": {
  "kernelspec": {
   "display_name": "Python 3 (ipykernel)",
   "language": "python",
   "name": "python3"
  },
  "language_info": {
   "codemirror_mode": {
    "name": "ipython",
    "version": 3
   },
   "file_extension": ".py",
   "mimetype": "text/x-python",
   "name": "python",
   "nbconvert_exporter": "python",
   "pygments_lexer": "ipython3",
   "version": "3.9.7"
  }
 },
 "nbformat": 4,
 "nbformat_minor": 5
}
