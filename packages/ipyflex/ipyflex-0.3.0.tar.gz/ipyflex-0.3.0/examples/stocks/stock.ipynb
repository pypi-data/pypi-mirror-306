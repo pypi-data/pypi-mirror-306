{
 "cells": [
  {
   "cell_type": "markdown",
   "metadata": {},
   "source": [
    "# Stock indexes example"
   ]
  },
  {
   "cell_type": "code",
   "execution_count": null,
   "metadata": {},
   "outputs": [],
   "source": [
    "import numpy as np\n",
    "import pandas as pd\n",
    "from ipydatagrid import DataGrid, TextRenderer, BarRenderer, Expr\n",
    "import ipydatagrid\n",
    "import time\n",
    "import plotly.graph_objects as go\n",
    "from ipyflex import FlexLayout"
   ]
  },
  {
   "cell_type": "code",
   "execution_count": null,
   "metadata": {},
   "outputs": [],
   "source": [
    "def create_graph(x, y, title, **kwargs):\n",
    "    layout = go.Layout(\n",
    "        autosize=True,\n",
    "        height=300,\n",
    "    )\n",
    "    fig = go.FigureWidget(data=go.Scatter(x=x,y=y,fill='tozeroy'), layout=layout)\n",
    "    return fig\n",
    "\n",
    "def create_OHLC(data, title, **kwargs):\n",
    "    layout = go.Layout(\n",
    "        autosize=True,\n",
    "        height=300,\n",
    "    )\n",
    "    fig = go.FigureWidget(data=go.Candlestick(x=data.index,\n",
    "                        open=data['Open'],\n",
    "                        high=data['High'],\n",
    "                        low=data['Low'],\n",
    "                        close=data['Close']), layout=layout)\n",
    "    fig.update(layout_xaxis_rangeslider_visible=False)\n",
    "    return fig\n",
    "\n",
    "cotton_candy = {\n",
    "    \"header_background_color\": \"rgb(207, 212, 252, 1)\",\n",
    "    \"header_grid_line_color\": \"rgb(0, 247, 181, 0.9)\",\n",
    "    \"vertical_grid_line_color\": \"rgb(0, 247, 181, 0.3)\",\n",
    "    \"horizontal_grid_line_color\": \"rgb(0, 247, 181, 0.3)\",\n",
    "    \"selection_fill_color\": \"rgb(212, 245, 255, 0.3)\",\n",
    "    \"selection_border_color\": \"rgb(78, 174, 212)\",\n",
    "    \"header_selection_fill_color\": \"rgb(212, 255, 239, 0.3)\",\n",
    "    \"header_selection_border_color\": \"rgb(252, 3, 115)\",\n",
    "    \"cursor_fill_color\": \"rgb(186, 32, 186, 0.2)\",\n",
    "    \"cursor_border_color\": \"rgb(191, 191, 78)\",\n",
    "}\n",
    "\n",
    "\n",
    "def create_widget(data):\n",
    "    widgets = {}\n",
    "    for ticker, value in data.items():\n",
    "        index = value.index\n",
    "        _price = create_graph(index, value.Close,f'{ticker}',\n",
    "                 labels=[\"Open\",\"High\", \"Low\", \"Close\"])\n",
    "        _ohlc = create_OHLC(value, f'{ticker} OHLC')\n",
    "        datagrid = DataGrid(value, base_row_size=32, base_column_size=150, layout={\"height\": \"630px\"})\n",
    "        datagrid.grid_style = cotton_candy\n",
    "        widgets[f'{ticker} price'] = _price\n",
    "        widgets[f'{ticker} OHLC'] = _ohlc\n",
    "        widgets[f'{ticker} Data'] = datagrid\n",
    "    return widgets"
   ]
  },
  {
   "cell_type": "code",
   "execution_count": null,
   "metadata": {},
   "outputs": [],
   "source": [
    "import yfinance as yahooFinance\n",
    "tickers  = ['^IXIC', '^DJI', '^GSPC']\n",
    "tickers_name = {'^IXIC':'NASDAQ Composite', '^DJI':'Dow Jones Industrial Average', '^GSPC':'S&P 500'}\n",
    "data = {}\n",
    "for ticker in tickers:\n",
    "    info = yahooFinance.Ticker(ticker)\n",
    "    name = tickers_name[ticker]\n",
    "    data[name] = info.history(period=\"3mo\")"
   ]
  },
  {
   "cell_type": "code",
   "execution_count": null,
   "metadata": {},
   "outputs": [],
   "source": [
    "widgets = create_widget(data)"
   ]
  },
  {
   "cell_type": "code",
   "execution_count": null,
   "metadata": {},
   "outputs": [],
   "source": [
    "a = FlexLayout(widgets, style={'height':'700px'}, template='stock.json', editable=False)"
   ]
  },
  {
   "cell_type": "code",
   "execution_count": null,
   "metadata": {},
   "outputs": [],
   "source": [
    "a"
   ]
  },
  {
   "cell_type": "code",
   "execution_count": null,
   "metadata": {},
   "outputs": [],
   "source": []
  }
 ],
 "metadata": {
  "kernelspec": {
   "display_name": "Python 3 (ipykernel)",
   "language": "python",
   "name": "python3"
  },
  "language_info": {
   "codemirror_mode": {
    "name": "ipython",
    "version": 3
   },
   "file_extension": ".py",
   "mimetype": "text/x-python",
   "name": "python",
   "nbconvert_exporter": "python",
   "pygments_lexer": "ipython3",
   "version": "3.9.7"
  }
 },
 "nbformat": 4,
 "nbformat_minor": 4
}
