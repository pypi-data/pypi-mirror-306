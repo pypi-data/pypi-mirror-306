{
 "cells": [
  {
   "cell_type": "code",
   "execution_count": null,
   "id": "d1e4bfe1-76c5-4148-b145-e89fe942584a",
   "metadata": {
    "extensions": {
     "jupyter_dashboards": {
      "activeView": "grid_default",
      "views": {
       "grid_default": {
        "col": 0,
        "height": 2,
        "hidden": false,
        "locked": true,
        "row": 0,
        "width": 12
       }
      }
     }
    },
    "tags": []
   },
   "outputs": [],
   "source": [
    "from ipylab import JupyterFrontEnd  # type: ignore\n",
    "app = JupyterFrontEnd()\n",
    "import ipywidgets"
   ]
  },
  {
   "cell_type": "code",
   "execution_count": null,
   "id": "044dd3e7-5507-4fe2-9867-6333ce8950ef",
   "metadata": {
    "extensions": {
     "jupyter_dashboards": {
      "activeView": "grid_default",
      "views": {
       "grid_default": {
        "col": 0,
        "height": 4,
        "hidden": false,
        "locked": true,
        "row": 2,
        "width": 12
       }
      }
     }
    },
    "tags": []
   },
   "outputs": [],
   "source": [
    "def open_console(_):\n",
    "    app.commands.execute(\n",
    "    'console:create', \n",
    "    app.sessions.current_session)"
   ]
  },
  {
   "cell_type": "code",
   "execution_count": null,
   "id": "8ba9fcdc-7193-46b0-94f8-d73d26247f19",
   "metadata": {},
   "outputs": [],
   "source": [
    "b = ipywidgets.Button(description='Open console')\n",
    "b.on_click(open_console)"
   ]
  },
  {
   "cell_type": "code",
   "execution_count": null,
   "id": "01ee6611-5f02-4296-98ec-a4cc1c8f5c29",
   "metadata": {},
   "outputs": [],
   "source": [
    "b"
   ]
  },
  {
   "cell_type": "code",
   "execution_count": null,
   "id": "12533fe9-b8d2-4c37-aa13-1dd25940e44d",
   "metadata": {},
   "outputs": [],
   "source": [
    "a = app.sessions.current_session"
   ]
  },
  {
   "cell_type": "code",
   "execution_count": null,
   "id": "057ecd0b-fb11-4b30-89d7-8232270040a9",
   "metadata": {},
   "outputs": [],
   "source": [
    "a"
   ]
  },
  {
   "cell_type": "code",
   "execution_count": null,
   "id": "f361e001-244b-45cd-8a31-8f582d8b3356",
   "metadata": {},
   "outputs": [],
   "source": []
  }
 ],
 "metadata": {
  "extensions": {
   "jupyter_dashboards": {
    "activeView": "grid_default",
    "version": 1,
    "views": {
     "grid_default": {
      "cellMargin": 2,
      "defaultCellHeight": 40,
      "maxColumns": 12,
      "name": "grid",
      "type": "grid"
     }
    }
   }
  },
  "kernelspec": {
   "display_name": "Python 3 (ipykernel)",
   "language": "python",
   "name": "python3"
  },
  "language_info": {
   "codemirror_mode": {
    "name": "ipython",
    "version": 3
   },
   "file_extension": ".py",
   "mimetype": "text/x-python",
   "name": "python",
   "nbconvert_exporter": "python",
   "pygments_lexer": "ipython3",
   "version": "3.10.6"
  }
 },
 "nbformat": 4,
 "nbformat_minor": 5
}
