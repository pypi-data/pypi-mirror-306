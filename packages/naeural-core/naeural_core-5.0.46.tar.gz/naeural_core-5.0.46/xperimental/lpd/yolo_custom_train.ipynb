{
 "cells": [
  {
   "cell_type": "code",
   "execution_count": null,
   "metadata": {
    "ExecuteTime": {
     "end_time": "2023-10-04T21:00:13.421332600Z",
     "start_time": "2023-10-04T21:00:13.375882900Z"
    },
    "collapsed": false
   },
   "outputs": [],
   "source": [
    "class A:\n",
    "    def __init__(self, x):\n",
    "        self.x = x\n",
    "    def f(self):\n",
    "        print(f'{self.x} in A')\n",
    "\n",
    "class B(A):\n",
    "    def __init__(self, x, y):\n",
    "        super(B, self).__init__(x)\n",
    "        self.y = y\n",
    "    def f(self):\n",
    "        print(f'{self.x} in B')\n",
    "        super(B, self).f()"
   ]
  },
  {
   "cell_type": "code",
   "execution_count": null,
   "metadata": {
    "ExecuteTime": {
     "end_time": "2023-10-04T21:00:25.845226Z",
     "start_time": "2023-10-04T21:00:25.792239700Z"
    },
    "collapsed": false
   },
   "outputs": [],
   "source": [
    "b = B(1, 2)\n",
    "b.f()"
   ]
  },
  {
   "cell_type": "code",
   "execution_count": null,
   "metadata": {
    "ExecuteTime": {
     "end_time": "2023-10-04T21:36:14.297520600Z",
     "start_time": "2023-10-04T21:36:14.285385400Z"
    },
    "collapsed": false
   },
   "outputs": [],
   "source": [
    "class C(B):\n",
    "    def f(self):\n",
    "        super(self.__class__.__bases__[0], self).f()\n",
    "        print(f'{self.x} in C')"
   ]
  },
  {
   "cell_type": "code",
   "execution_count": null,
   "metadata": {
    "ExecuteTime": {
     "end_time": "2023-10-04T21:36:14.890990100Z",
     "start_time": "2023-10-04T21:36:14.879996200Z"
    },
    "collapsed": false
   },
   "outputs": [],
   "source": [
    "c = C(1, 2)\n",
    "c.f()\n",
    "# c.__class__.__bases__[0]."
   ]
  },
  {
   "cell_type": "code",
   "execution_count": null,
   "metadata": {
    "is_executing": true
   },
   "outputs": [],
   "source": [
    "from ultralytics import YOLO"
   ]
  },
  {
   "cell_type": "code",
   "execution_count": null,
   "metadata": {
    "ExecuteTime": {
     "end_time": "2023-10-04T13:13:13.940498600Z",
     "start_time": "2023-10-04T13:13:13.928844800Z"
    },
    "collapsed": false
   },
   "outputs": [],
   "source": [
    "TRAIN = False"
   ]
  },
  {
   "cell_type": "code",
   "execution_count": null,
   "metadata": {
    "ExecuteTime": {
     "end_time": "2023-10-04T13:13:13.961135400Z",
     "start_time": "2023-10-04T13:13:13.942499100Z"
    }
   },
   "outputs": [],
   "source": [
    "if TRAIN:\n",
    "    # load model\n",
    "    model = YOLO(\"yolov8n.yaml\").load(\"yolov8n.pt\")"
   ]
  },
  {
   "cell_type": "code",
   "execution_count": null,
   "metadata": {
    "ExecuteTime": {
     "end_time": "2023-10-04T13:13:13.972259800Z",
     "start_time": "2023-10-04T13:13:13.958750400Z"
    },
    "scrolled": false
   },
   "outputs": [],
   "source": [
    "if TRAIN:\n",
    "    # train model\n",
    "    train_result = model.train(data='coco128.yaml', epochs=100, imgsz=640, device='cuda:0')"
   ]
  },
  {
   "cell_type": "code",
   "execution_count": null,
   "metadata": {
    "ExecuteTime": {
     "end_time": "2023-10-04T13:13:13.989495100Z",
     "start_time": "2023-10-04T13:13:13.972362600Z"
    }
   },
   "outputs": [],
   "source": [
    "### TESTING YOLO.load() ###\n",
    "trained_model_paths = [\n",
    "    \"C:/repos/edge-node/core/xperimental/lpd/runs/detect/train15/weights/best.pt\",\n",
    "    \"C:/repos/edge-node/core/xperimental/lpd/runs/detect/train13/weights/best.pt\"\n",
    "]"
   ]
  },
  {
   "cell_type": "code",
   "execution_count": null,
   "metadata": {
    "ExecuteTime": {
     "end_time": "2023-10-04T13:13:15.554523600Z",
     "start_time": "2023-10-04T13:13:15.542146300Z"
    },
    "collapsed": false
   },
   "outputs": [],
   "source": [
    "# IMPORTS\n",
    "from copy import deepcopy\n",
    "import torch as th\n",
    "import os\n",
    "import cv2"
   ]
  },
  {
   "cell_type": "code",
   "execution_count": null,
   "metadata": {
    "ExecuteTime": {
     "end_time": "2023-10-04T13:13:23.710762800Z",
     "start_time": "2023-10-04T13:13:23.701572800Z"
    },
    "collapsed": false
   },
   "outputs": [],
   "source": [
    "# Environment variables\n",
    "os.environ['KMP_DUPLICATE_LIB_OK'] = 'true'"
   ]
  },
  {
   "cell_type": "code",
   "execution_count": null,
   "metadata": {
    "ExecuteTime": {
     "end_time": "2023-10-04T13:13:26.854191100Z",
     "start_time": "2023-10-04T13:13:26.846084800Z"
    },
    "collapsed": false
   },
   "outputs": [],
   "source": [
    "def compare_models(m1, m2):\n",
    "  m1_state, m2_state = m1.state_dict(), m2.state_dict()\n",
    "  n_found, n_diff = 0, 0\n",
    "\n",
    "  for key, value in m1_state.items():\n",
    "    if key in m2_state.keys():\n",
    "      if not (m2_state[key] == value).all():\n",
    "        # print(f'  {key} is different')\n",
    "        n_diff += 1\n",
    "    else:\n",
    "      # print(f'  {key} not found in {model_paths[j]}')\n",
    "      n_found += 1\n",
    "    # endif key in m2_state.keys()\n",
    "  # endfor key, value in m1_state.items()\n",
    "  for key, value in m2_state.items():\n",
    "    if key in m1_state.keys():\n",
    "      if not (m1_state[key] == value).all():\n",
    "        # print(f'  {key} is different')\n",
    "        n_diff += 1\n",
    "    else:\n",
    "      # print(f'  {key} not found in {model_paths[i]}')\n",
    "      n_found += 1\n",
    "    # endif key in m1_state.keys()\n",
    "  # endfor key, value in m2_state.items()\n",
    "  print(f'  {n_found} keys not found, {n_diff} keys are different')\n",
    "  print(f'{\"not \" if n_diff + n_found > 0 else \"\"}matching')\n",
    "  return (n_diff + n_found) == 0"
   ]
  },
  {
   "cell_type": "code",
   "execution_count": null,
   "metadata": {
    "ExecuteTime": {
     "end_time": "2023-10-04T13:13:27.968129200Z",
     "start_time": "2023-10-04T13:13:27.961027500Z"
    },
    "collapsed": false
   },
   "outputs": [],
   "source": [
    "###TESTING METHODS###\n",
    "test_images = {\n",
    "  'train': [\n",
    "    \"_local_cache/_data/Dataset_LPLR_v5.2.2_for_yolo-no_diff/images/1.Train/Cars_with_LP/Complexity_2/9.OTHER/000014_car 0.70_0.jpg\",\n",
    "    \"_local_cache/_data/Dataset_LPLR_v5.2.2_for_yolo-no_diff/images/1.Train/Cars_with_LP/Complexity_2/9.OTHER/000122_car 0.94_2.jpg\"\n",
    "  ],\n",
    "  'dev': [\n",
    "    \"_local_cache/_data/Dataset_LPLR_v5.2.2_for_yolo/images/2.Dev/Cars_with_LP/Complexity_2/4.GTS/dataset_builder_1__DATASET_BUILDER_01__DATASET_BUILDER_603.jpg\",\n",
    "    \"_local_cache/_data/Dataset_LPLR_v5.2.2_for_yolo-no_diff/images/2.Dev/Cars_with_LP/Complexity_3/4.GTS/dataset_builder_2__DATASET_BUILDER_01__DATASET_BUILDER_28.jpg\",\n",
    "    \"_local_cache/_data/Dataset_LPLR_v5.2.2_for_yolo-no_diff/images/2.Dev/Cars_without_LP/Obs_TEST/1.GOC/CV 1 LPR 1 (2021.08.04 13-00-29.853)_truck 0.75_2.jpg\"\n",
    "  ],\n",
    "  'test': [\n",
    "    \"C:/Users/Workstation/Dropbox/DATA/_vapor_data/__tests/LPLR/test_lpr/25mai/bd225a82-54e7-4bfa-8776-636a519cf907_O_0.jpg\",\n",
    "    \"C:/Users/Workstation/Dropbox/DATA/_vapor_data/__tests/LPLR/test_lpr/TEST_masini_grele/dataset_builder_3__DATASET_BUILDER_01__DATASET_BUILDER_5470.jpg\"\n",
    "  ]\n",
    "}\n",
    "\n",
    "\n",
    "def test(model, img_ds, prefix=''):\n",
    "  for ds_name, ds in img_ds.items():\n",
    "    test_ds(model=model, img_paths=ds, prefix=f'{prefix}_{ds_name}')\n",
    "  # endfor\n",
    "  return\n",
    "\n",
    "\n",
    "def test_ds(model, img_paths, prefix=''):\n",
    "  for img_path in img_paths:\n",
    "    print(f'img_path: {img_path}')\n",
    "    with th.no_grad():\n",
    "      results = model(img_path)[0]\n",
    "    np_results = results.boxes.data.cpu().numpy()\n",
    "    img = cv2.imread(img_path)\n",
    "    objects = []\n",
    "    for np_result in np_results:\n",
    "      l, t, r, b = np_result[:4]\n",
    "      conf, cls = np_result[4:]\n",
    "      objects.append((conf, cls))\n",
    "      img = cv2.rectangle(img, (int(l), int(t)), (int(r), int(b)), (0, 255, 0), 2)\n",
    "    # endfor\n",
    "    print(f'Found: {objects} @{prefix}_{os.path.basename(img_path)}')\n",
    "  # endfor\n",
    "  return"
   ]
  },
  {
   "cell_type": "code",
   "execution_count": null,
   "metadata": {
    "ExecuteTime": {
     "end_time": "2023-10-04T13:13:29.115903300Z",
     "start_time": "2023-10-04T13:13:28.854051900Z"
    },
    "collapsed": false
   },
   "outputs": [],
   "source": [
    "m1 = YOLO(\"yolov8n.yaml\")\n",
    "m2 = YOLO(\"yolov8n.yaml\")\n",
    "m3 = deepcopy(m1)\n",
    "m4 = m1.load(trained_model_paths[0])\n"
   ]
  },
  {
   "cell_type": "code",
   "execution_count": null,
   "metadata": {
    "ExecuteTime": {
     "end_time": "2023-10-04T13:13:29.480381200Z",
     "start_time": "2023-10-04T13:13:29.454261600Z"
    },
    "collapsed": false
   },
   "outputs": [],
   "source": [
    "compare_models(m1, m2)"
   ]
  },
  {
   "cell_type": "code",
   "execution_count": null,
   "metadata": {
    "ExecuteTime": {
     "end_time": "2023-10-04T13:13:30.190715700Z",
     "start_time": "2023-10-04T13:13:30.162903900Z"
    },
    "collapsed": false
   },
   "outputs": [],
   "source": [
    "compare_models(m1, m3)"
   ]
  },
  {
   "cell_type": "code",
   "execution_count": null,
   "metadata": {
    "ExecuteTime": {
     "end_time": "2023-10-04T13:13:30.628769700Z",
     "start_time": "2023-10-04T13:13:30.599199300Z"
    },
    "collapsed": false
   },
   "outputs": [],
   "source": [
    "compare_models(m1, m4)"
   ]
  },
  {
   "cell_type": "code",
   "execution_count": null,
   "metadata": {
    "ExecuteTime": {
     "end_time": "2023-10-04T13:13:31.014599200Z",
     "start_time": "2023-10-04T13:13:30.962186100Z"
    },
    "collapsed": false
   },
   "outputs": [],
   "source": [
    "m5 = deepcopy(m3)\n",
    "compare_models(m3, m5)"
   ]
  },
  {
   "cell_type": "code",
   "execution_count": null,
   "metadata": {
    "ExecuteTime": {
     "end_time": "2023-10-04T13:13:31.440575700Z",
     "start_time": "2023-10-04T13:13:31.344801500Z"
    },
    "collapsed": false
   },
   "outputs": [],
   "source": [
    "m6 = m4.load(trained_model_paths[0])\n",
    "compare_models(m4, m6)"
   ]
  },
  {
   "cell_type": "code",
   "execution_count": null,
   "metadata": {
    "ExecuteTime": {
     "end_time": "2023-10-04T13:13:32.092374200Z",
     "start_time": "2023-10-04T13:13:32.064986Z"
    },
    "collapsed": false
   },
   "outputs": [],
   "source": [
    "compare_models(m1, m6)"
   ]
  },
  {
   "cell_type": "code",
   "execution_count": null,
   "metadata": {
    "ExecuteTime": {
     "end_time": "2023-10-04T13:13:32.649000900Z",
     "start_time": "2023-10-04T13:13:32.500896200Z"
    },
    "collapsed": false
   },
   "outputs": [],
   "source": [
    "m7 = YOLO(\"yolov8n.yaml\").load(\"yolov8n.pt\")"
   ]
  },
  {
   "cell_type": "code",
   "execution_count": null,
   "metadata": {
    "ExecuteTime": {
     "end_time": "2023-10-04T13:13:37.524496400Z",
     "start_time": "2023-10-04T13:13:33.172154800Z"
    },
    "collapsed": false
   },
   "outputs": [],
   "source": [
    "models = [m1, m2, m3, m4, m5, m6, m7]\n",
    "sample_images = {\n",
    "    'sample': test_images['test'][:1]\n",
    "}\n",
    "for it in range(len(models)):\n",
    "    test(models[it], sample_images, prefix=str(it + 1))"
   ]
  },
  {
   "cell_type": "code",
   "execution_count": null,
   "metadata": {
    "ExecuteTime": {
     "end_time": "2023-10-04T13:42:14.585016400Z",
     "start_time": "2023-10-04T13:28:55.373081500Z"
    },
    "collapsed": false
   },
   "outputs": [],
   "source": [
    "### DEBUGGING TRAIN ###\n",
    "# init\n",
    "model = YOLO(\"yolov8n.yaml\").load(\"yolov8n.pt\")\n",
    "m8 = deepcopy(model)\n",
    "data_yaml = \"lpd_no_diff\"\n",
    "imgsz = [448, 640]\n",
    "device = 'cuda:0'\n",
    "\n",
    "# test pre\n",
    "# this 2 should be the same\n",
    "test(m8, sample_images, prefix='8')\n",
    "test(model, sample_images, prefix='pre')\n",
    "\n",
    "# train\n",
    "model.train(data=f'{data_yaml}.yaml', epochs=2, imgsz=imgsz, device=device)\n",
    "\n",
    "# load best\n",
    "m9 = m8.load(model.trainer.best).to(device)\n",
    "model = model.load(model.trainer.best).to(device)\n",
    "\n",
    "# test post\n",
    "test(m9, test_images, prefix='9')\n",
    "test(model, test_images, prefix='post')"
   ]
  },
  {
   "cell_type": "code",
   "execution_count": null,
   "metadata": {
    "ExecuteTime": {
     "end_time": "2023-10-04T13:48:48.774964200Z",
     "start_time": "2023-10-04T13:48:48.551161900Z"
    },
    "collapsed": false
   },
   "outputs": [],
   "source": [
    "# test post\n",
    "test(m8, sample_images, prefix='8')\n",
    "test(m9, sample_images, prefix='9')\n",
    "test(model, sample_images, prefix='post')"
   ]
  },
  {
   "cell_type": "code",
   "execution_count": null,
   "metadata": {
    "ExecuteTime": {
     "end_time": "2023-10-04T13:49:33.692194200Z",
     "start_time": "2023-10-04T13:49:32.548228700Z"
    },
    "collapsed": false
   },
   "outputs": [],
   "source": [
    "m10 = YOLO(\"yolov8n.yaml\").load(\"yolov8n.pt\")\n",
    "test(m10, sample_images, prefix='initial')\n",
    "test(model, sample_images, prefix='post_train_best')\n",
    "m11 = YOLO(\"yolov8n.yaml\").load(model.trainer.best).to(device)\n",
    "test(m11, sample_images, prefix='random_from_relative_path')\n",
    "m12 = YOLO(\"yolov8n.yaml\").load('yolov8n.pt').load(model.trainer.best).to(device)\n",
    "test(m12, sample_images, prefix='pretrain_from_relative_path')"
   ]
  },
  {
   "cell_type": "code",
   "execution_count": null,
   "metadata": {
    "ExecuteTime": {
     "end_time": "2023-10-04T13:52:28.904431500Z",
     "start_time": "2023-10-04T13:52:27.908630800Z"
    },
    "collapsed": false
   },
   "outputs": [],
   "source": [
    "best_absolute_path = 'C:/repos/edge-node/core/xperimental/lpd/runs/detect/train18/weights/best.pt'\n",
    "m11 = YOLO(\"yolov8n.yaml\").load(best_absolute_path).to(device)\n",
    "test(m11, sample_images, prefix='random_from_abs_path')\n",
    "m12 = YOLO(\"yolov8n.yaml\").load('yolov8n.pt').load(best_absolute_path).to(device)\n",
    "test(m12, sample_images, prefix='pretrain_from_abs_path')"
   ]
  },
  {
   "cell_type": "code",
   "execution_count": null,
   "metadata": {
    "ExecuteTime": {
     "end_time": "2023-10-04T14:06:33.732062900Z",
     "start_time": "2023-10-04T13:59:39.768147600Z"
    },
    "collapsed": false
   },
   "outputs": [],
   "source": [
    "# loading previous train after a new one\n",
    "m13 = YOLO(\"yolov8n.yaml\").load('yolov8n.pt')\n",
    "m13.train(data=f'{data_yaml}.yaml', epochs=1, imgsz=imgsz, device=device)\n",
    "# test post train\n",
    "test(m13, sample_images, prefix='13')\n",
    "for model_path in trained_model_paths:\n",
    "  curr_model = m13.load(model_path).to(device)\n",
    "  test(curr_model, sample_images, prefix=os.path.basename(os.path.split(os.path.split(model_path)[0])[0]))"
   ]
  },
  {
   "cell_type": "code",
   "execution_count": null,
   "metadata": {
    "ExecuteTime": {
     "end_time": "2023-10-04T14:17:47.295494500Z",
     "start_time": "2023-10-04T14:17:47.287101200Z"
    },
    "collapsed": false
   },
   "outputs": [],
   "source": [
    "curr_model.__dir__()"
   ]
  },
  {
   "cell_type": "code",
   "execution_count": null,
   "metadata": {
    "ExecuteTime": {
     "end_time": "2023-10-04T14:25:34.511711600Z",
     "start_time": "2023-10-04T14:25:32.824654500Z"
    },
    "collapsed": false
   },
   "outputs": [],
   "source": [
    "model_path = 'C:/repos/edge-node/core/xperimental/lpd/runs/detect/train11/weights/best.pt'\n",
    "model11 = curr_model.load(model_path).to(device)\n",
    "model11.export(format=\"torchscript\", imgsz=640, data='lpd')"
   ]
  },
  {
   "cell_type": "code",
   "execution_count": null,
   "metadata": {
    "ExecuteTime": {
     "end_time": "2023-10-04T14:22:44.707713Z",
     "start_time": "2023-10-04T14:22:43.267222Z"
    },
    "collapsed": false
   },
   "outputs": [],
   "source": [
    "curr_model.export(format=\"torchscript\", imgsz=[448, 640], data='lpd_no_diff')"
   ]
  }
 ],
 "metadata": {
  "kernelspec": {
   "display_name": "Python 3 (ipykernel)",
   "language": "python",
   "name": "python3"
  },
  "language_info": {
   "codemirror_mode": {
    "name": "ipython",
    "version": 3
   },
   "file_extension": ".py",
   "mimetype": "text/x-python",
   "name": "python",
   "nbconvert_exporter": "python",
   "pygments_lexer": "ipython3",
   "version": "3.10.11"
  }
 },
 "nbformat": 4,
 "nbformat_minor": 1
}
