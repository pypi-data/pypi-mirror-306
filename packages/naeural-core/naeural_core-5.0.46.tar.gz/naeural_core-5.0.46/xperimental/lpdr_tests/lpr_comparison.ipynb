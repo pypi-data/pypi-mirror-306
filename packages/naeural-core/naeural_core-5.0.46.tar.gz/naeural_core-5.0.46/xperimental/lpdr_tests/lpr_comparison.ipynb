{
 "cells": [
  {
   "cell_type": "code",
   "execution_count": null,
   "id": "initial_id",
   "metadata": {
    "collapsed": true
   },
   "outputs": [],
   "source": []
  },
  {
   "cell_type": "code",
   "outputs": [],
   "source": [
    "import pandas as pd\n",
    "import numpy as np\n"
   ],
   "metadata": {
    "collapsed": false,
    "ExecuteTime": {
     "end_time": "2024-01-23T10:27:32.258203200Z",
     "start_time": "2024-01-23T10:27:31.568665Z"
    }
   },
   "id": "a56ad23147f1a6b6",
   "execution_count": 1
  },
  {
   "cell_type": "code",
   "outputs": [],
   "source": [
    "def add_summary(dct):\n",
    "  description = dct['Descriere']\n",
    "  if '_control' in description:\n",
    "    # handle E2 output\n",
    "    summary_prefix = 'A' if '_ext' in description else '1' if 'control_01' in description else '2'\n",
    "    cam_type = 'in' if 'pr in' in description.lower() else 'out'\n",
    "    rolcar_idx = '1' if '11095' in str(dct['Obiectiv']) else '2'\n",
    "    plate = description.split('plate=')[1].split(':')[0]\n",
    "  else:\n",
    "    # handle HIK output\n",
    "    summary_prefix = 'H'\n",
    "    cam_type = 'in' if 'in' in dct['Echipament'].lower() else 'out'\n",
    "    rolcar_idx = '1' if 'suzuki' in dct['Obiectiv'].lower() else '2'\n",
    "    plate = description.split('LPR: ')[1].split(',')[0]\n",
    "  full_summary = f'R{rolcar_idx}_{summary_prefix}_{cam_type}__{plate}'\n",
    "  dct['summary'] = full_summary\n",
    "  dct['rolcar'] = rolcar_idx\n",
    "  dct['cam'] = cam_type\n",
    "  dct['plugin'] = summary_prefix\n",
    "  dct['plate'] = plate\n",
    "  return dct"
   ],
   "metadata": {
    "collapsed": false,
    "ExecuteTime": {
     "end_time": "2024-01-23T10:52:38.286102400Z",
     "start_time": "2024-01-23T10:52:38.274295600Z"
    }
   },
   "id": "448e663499135f51",
   "execution_count": 16
  },
  {
   "cell_type": "code",
   "outputs": [],
   "source": [
    "csv_path = r'C:\\Users\\bleot\\Downloads\\LPR 12- 19.01.xlsx - Evenimente Unitati.csv'\n",
    "df = pd.read_csv(csv_path)"
   ],
   "metadata": {
    "collapsed": false,
    "ExecuteTime": {
     "end_time": "2024-01-23T10:27:47.325040500Z",
     "start_time": "2024-01-23T10:27:47.302851300Z"
    }
   },
   "id": "11b9b0a5b6aa3049",
   "execution_count": 2
  },
  {
   "cell_type": "code",
   "outputs": [],
   "source": [
    "dct_list = df.to_dict('records')"
   ],
   "metadata": {
    "collapsed": false,
    "ExecuteTime": {
     "end_time": "2024-01-23T10:28:19.575268200Z",
     "start_time": "2024-01-23T10:28:19.547164300Z"
    }
   },
   "id": "c3361bfc19ac5216",
   "execution_count": 3
  },
  {
   "cell_type": "code",
   "outputs": [],
   "source": [
    "for dct in dct_list:\n",
    "    dct = add_summary(dct)\n",
    "# endfor dct"
   ],
   "metadata": {
    "collapsed": false,
    "ExecuteTime": {
     "end_time": "2024-01-23T10:52:43.311038900Z",
     "start_time": "2024-01-23T10:52:43.289190200Z"
    }
   },
   "id": "1f9eb6887df4c99c",
   "execution_count": 17
  },
  {
   "cell_type": "code",
   "outputs": [],
   "source": [
    "proc_df = pd.DataFrame(dct_list)"
   ],
   "metadata": {
    "collapsed": false,
    "ExecuteTime": {
     "end_time": "2024-01-23T10:52:44.063665300Z",
     "start_time": "2024-01-23T10:52:44.045196700Z"
    }
   },
   "id": "41c4c862689631a8",
   "execution_count": 18
  },
  {
   "cell_type": "code",
   "outputs": [
    {
     "data": {
      "text/plain": "         #                 Data Companie Facilitate          Obiectiv  \\\n0        1  12/01/2024 14:43:19  ROL CAR      SEDII      TOYOTA BUZAU   \n1        2  12/01/2024 14:43:47  ROL CAR      SEDII  HYUNDAI & SUZUKI   \n2        3  12/01/2024 14:44:02  ROL CAR      SEDII             11095   \n3        4  12/01/2024 14:44:17  ROL CAR      SEDII  HYUNDAI & SUZUKI   \n4        5  12/01/2024 14:44:21  ROL CAR      SEDII             11095   \n...    ...                  ...      ...        ...               ...   \n4081  4082  18/01/2024 14:38:15  ROL CAR      SEDII      TOYOTA BUZAU   \n4082  4083  18/01/2024 14:38:43  ROL CAR      SEDII  HYUNDAI & SUZUKI   \n4083  4084  18/01/2024 14:38:50  ROL CAR      SEDII  HYUNDAI & SUZUKI   \n4084  4085  18/01/2024 14:39:00  ROL CAR      SEDII             11095   \n4085  4086  18/01/2024 14:39:03  ROL CAR      SEDII             11095   \n\n      Centru Cost Echipament  Identificator Cod  \\\n0          1123.0    LPR Out          10007  LP   \n1             NaN    LPR Out          10004  LP   \n2         11095.0      11095          11095  C2   \n3             NaN    LPR Out          10004  LP   \n4         11095.0      11095          11095  C2   \n...           ...        ...            ...  ..   \n4081       1123.0    LPR Out          10007  LP   \n4082          NaN    LPR Out          10004  LP   \n4083          NaN     LPR In          10008  LP   \n4084      11095.0      11095          11095  C2   \n4085      11095.0      11095          11095  C2   \n\n                                              Descriere            summary  \\\n0                [3] LPR: BZ49AFL, %vpic% - ch A2 - (2)  R2_H_out__BZ49AFL   \n1                 [3] LPR: B41KMB, %vpic% - ch A2 - (2)   R1_H_out__B41KMB   \n2     [13]  Car access control EXT (box stream: ANPR...   R1_A_out__B41KMB   \n3                [3] LPR: B333KOM, %vpic% - ch A2 - (2)  R1_H_out__B333KOM   \n4     [13]  Car access control EXT (box stream: ANPR...  R1_A_out__B333KOM   \n...                                                 ...                ...   \n4081             [3] LPR: B175YRS, %vpic% - ch A2 - (2)  R2_H_out__B175YRS   \n4082             [3] LPR: BZ07SMB, %vpic% - ch A2 - (2)  R1_H_out__BZ07SMB   \n4083             [3] LPR: BZ07SMB, %vpic% - ch A2 - (2)   R1_H_in__BZ07SMB   \n4084  [13]  Car access control EXT (box stream: ANPR...   R1_A_in__BZ07SMB   \n4085  [13]  Car access control EXT (box stream: ANPR...  R1_A_out__BZ07SMB   \n\n     rolcar  cam plugin    plate  \n0         2  out      H  BZ49AFL  \n1         1  out      H   B41KMB  \n2         1  out      A   B41KMB  \n3         1  out      H  B333KOM  \n4         1  out      A  B333KOM  \n...     ...  ...    ...      ...  \n4081      2  out      H  B175YRS  \n4082      1  out      H  BZ07SMB  \n4083      1   in      H  BZ07SMB  \n4084      1   in      A  BZ07SMB  \n4085      1  out      A  BZ07SMB  \n\n[4086 rows x 15 columns]",
      "text/html": "<div>\n<style scoped>\n    .dataframe tbody tr th:only-of-type {\n        vertical-align: middle;\n    }\n\n    .dataframe tbody tr th {\n        vertical-align: top;\n    }\n\n    .dataframe thead th {\n        text-align: right;\n    }\n</style>\n<table border=\"1\" class=\"dataframe\">\n  <thead>\n    <tr style=\"text-align: right;\">\n      <th></th>\n      <th>#</th>\n      <th>Data</th>\n      <th>Companie</th>\n      <th>Facilitate</th>\n      <th>Obiectiv</th>\n      <th>Centru Cost</th>\n      <th>Echipament</th>\n      <th>Identificator</th>\n      <th>Cod</th>\n      <th>Descriere</th>\n      <th>summary</th>\n      <th>rolcar</th>\n      <th>cam</th>\n      <th>plugin</th>\n      <th>plate</th>\n    </tr>\n  </thead>\n  <tbody>\n    <tr>\n      <th>0</th>\n      <td>1</td>\n      <td>12/01/2024 14:43:19</td>\n      <td>ROL CAR</td>\n      <td>SEDII</td>\n      <td>TOYOTA BUZAU</td>\n      <td>1123.0</td>\n      <td>LPR Out</td>\n      <td>10007</td>\n      <td>LP</td>\n      <td>[3] LPR: BZ49AFL, %vpic% - ch A2 - (2)</td>\n      <td>R2_H_out__BZ49AFL</td>\n      <td>2</td>\n      <td>out</td>\n      <td>H</td>\n      <td>BZ49AFL</td>\n    </tr>\n    <tr>\n      <th>1</th>\n      <td>2</td>\n      <td>12/01/2024 14:43:47</td>\n      <td>ROL CAR</td>\n      <td>SEDII</td>\n      <td>HYUNDAI &amp; SUZUKI</td>\n      <td>NaN</td>\n      <td>LPR Out</td>\n      <td>10004</td>\n      <td>LP</td>\n      <td>[3] LPR: B41KMB, %vpic% - ch A2 - (2)</td>\n      <td>R1_H_out__B41KMB</td>\n      <td>1</td>\n      <td>out</td>\n      <td>H</td>\n      <td>B41KMB</td>\n    </tr>\n    <tr>\n      <th>2</th>\n      <td>3</td>\n      <td>12/01/2024 14:44:02</td>\n      <td>ROL CAR</td>\n      <td>SEDII</td>\n      <td>11095</td>\n      <td>11095.0</td>\n      <td>11095</td>\n      <td>11095</td>\n      <td>C2</td>\n      <td>[13]  Car access control EXT (box stream: ANPR...</td>\n      <td>R1_A_out__B41KMB</td>\n      <td>1</td>\n      <td>out</td>\n      <td>A</td>\n      <td>B41KMB</td>\n    </tr>\n    <tr>\n      <th>3</th>\n      <td>4</td>\n      <td>12/01/2024 14:44:17</td>\n      <td>ROL CAR</td>\n      <td>SEDII</td>\n      <td>HYUNDAI &amp; SUZUKI</td>\n      <td>NaN</td>\n      <td>LPR Out</td>\n      <td>10004</td>\n      <td>LP</td>\n      <td>[3] LPR: B333KOM, %vpic% - ch A2 - (2)</td>\n      <td>R1_H_out__B333KOM</td>\n      <td>1</td>\n      <td>out</td>\n      <td>H</td>\n      <td>B333KOM</td>\n    </tr>\n    <tr>\n      <th>4</th>\n      <td>5</td>\n      <td>12/01/2024 14:44:21</td>\n      <td>ROL CAR</td>\n      <td>SEDII</td>\n      <td>11095</td>\n      <td>11095.0</td>\n      <td>11095</td>\n      <td>11095</td>\n      <td>C2</td>\n      <td>[13]  Car access control EXT (box stream: ANPR...</td>\n      <td>R1_A_out__B333KOM</td>\n      <td>1</td>\n      <td>out</td>\n      <td>A</td>\n      <td>B333KOM</td>\n    </tr>\n    <tr>\n      <th>...</th>\n      <td>...</td>\n      <td>...</td>\n      <td>...</td>\n      <td>...</td>\n      <td>...</td>\n      <td>...</td>\n      <td>...</td>\n      <td>...</td>\n      <td>...</td>\n      <td>...</td>\n      <td>...</td>\n      <td>...</td>\n      <td>...</td>\n      <td>...</td>\n      <td>...</td>\n    </tr>\n    <tr>\n      <th>4081</th>\n      <td>4082</td>\n      <td>18/01/2024 14:38:15</td>\n      <td>ROL CAR</td>\n      <td>SEDII</td>\n      <td>TOYOTA BUZAU</td>\n      <td>1123.0</td>\n      <td>LPR Out</td>\n      <td>10007</td>\n      <td>LP</td>\n      <td>[3] LPR: B175YRS, %vpic% - ch A2 - (2)</td>\n      <td>R2_H_out__B175YRS</td>\n      <td>2</td>\n      <td>out</td>\n      <td>H</td>\n      <td>B175YRS</td>\n    </tr>\n    <tr>\n      <th>4082</th>\n      <td>4083</td>\n      <td>18/01/2024 14:38:43</td>\n      <td>ROL CAR</td>\n      <td>SEDII</td>\n      <td>HYUNDAI &amp; SUZUKI</td>\n      <td>NaN</td>\n      <td>LPR Out</td>\n      <td>10004</td>\n      <td>LP</td>\n      <td>[3] LPR: BZ07SMB, %vpic% - ch A2 - (2)</td>\n      <td>R1_H_out__BZ07SMB</td>\n      <td>1</td>\n      <td>out</td>\n      <td>H</td>\n      <td>BZ07SMB</td>\n    </tr>\n    <tr>\n      <th>4083</th>\n      <td>4084</td>\n      <td>18/01/2024 14:38:50</td>\n      <td>ROL CAR</td>\n      <td>SEDII</td>\n      <td>HYUNDAI &amp; SUZUKI</td>\n      <td>NaN</td>\n      <td>LPR In</td>\n      <td>10008</td>\n      <td>LP</td>\n      <td>[3] LPR: BZ07SMB, %vpic% - ch A2 - (2)</td>\n      <td>R1_H_in__BZ07SMB</td>\n      <td>1</td>\n      <td>in</td>\n      <td>H</td>\n      <td>BZ07SMB</td>\n    </tr>\n    <tr>\n      <th>4084</th>\n      <td>4085</td>\n      <td>18/01/2024 14:39:00</td>\n      <td>ROL CAR</td>\n      <td>SEDII</td>\n      <td>11095</td>\n      <td>11095.0</td>\n      <td>11095</td>\n      <td>11095</td>\n      <td>C2</td>\n      <td>[13]  Car access control EXT (box stream: ANPR...</td>\n      <td>R1_A_in__BZ07SMB</td>\n      <td>1</td>\n      <td>in</td>\n      <td>A</td>\n      <td>BZ07SMB</td>\n    </tr>\n    <tr>\n      <th>4085</th>\n      <td>4086</td>\n      <td>18/01/2024 14:39:03</td>\n      <td>ROL CAR</td>\n      <td>SEDII</td>\n      <td>11095</td>\n      <td>11095.0</td>\n      <td>11095</td>\n      <td>11095</td>\n      <td>C2</td>\n      <td>[13]  Car access control EXT (box stream: ANPR...</td>\n      <td>R1_A_out__BZ07SMB</td>\n      <td>1</td>\n      <td>out</td>\n      <td>A</td>\n      <td>BZ07SMB</td>\n    </tr>\n  </tbody>\n</table>\n<p>4086 rows × 15 columns</p>\n</div>"
     },
     "execution_count": 19,
     "metadata": {},
     "output_type": "execute_result"
    }
   ],
   "source": [
    "proc_df"
   ],
   "metadata": {
    "collapsed": false,
    "ExecuteTime": {
     "end_time": "2024-01-23T10:52:45.404340500Z",
     "start_time": "2024-01-23T10:52:45.366103900Z"
    }
   },
   "id": "f92954cc0d8e725a",
   "execution_count": 19
  },
  {
   "cell_type": "code",
   "outputs": [],
   "source": [
    "# proc_df.to_csv('processed.csv', index=False)"
   ],
   "metadata": {
    "collapsed": false,
    "ExecuteTime": {
     "end_time": "2024-01-23T10:53:05.417645900Z",
     "start_time": "2024-01-23T10:53:05.383883400Z"
    }
   },
   "id": "a46fad9759562aa6",
   "execution_count": 20
  },
  {
   "cell_type": "code",
   "outputs": [],
   "source": [],
   "metadata": {
    "collapsed": false
   },
   "id": "ccf890b6814565e5"
  }
 ],
 "metadata": {
  "kernelspec": {
   "display_name": "Python 3",
   "language": "python",
   "name": "python3"
  },
  "language_info": {
   "codemirror_mode": {
    "name": "ipython",
    "version": 2
   },
   "file_extension": ".py",
   "mimetype": "text/x-python",
   "name": "python",
   "nbconvert_exporter": "python",
   "pygments_lexer": "ipython2",
   "version": "2.7.6"
  }
 },
 "nbformat": 4,
 "nbformat_minor": 5
}
