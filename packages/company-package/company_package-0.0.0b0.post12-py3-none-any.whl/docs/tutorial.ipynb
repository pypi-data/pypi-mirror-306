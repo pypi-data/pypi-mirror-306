{
 "cells": [
  {
   "cell_type": "markdown",
   "id": "22e9005f",
   "metadata": {},
   "source": [
    "# Tutorial\n",
    "\n",
    "# [![Open In Colab](https://colab.research.google.com/assets/colab-badge.svg)](https://colab.research.google.com/github/borisbolliet/company_package/blob/main/docs/tutorial.ipynb)\n"
   ]
  },
  {
   "cell_type": "code",
   "execution_count": 1,
   "id": "ea9fbbdf-0d6d-4012-a89a-a776dedd3adb",
   "metadata": {},
   "outputs": [
    {
     "name": "stdout",
     "output_type": "stream",
     "text": [
      "Company package version: 0.0.0b1.dev3+g73e64cc.d20241027\n"
     ]
    }
   ],
   "source": [
    "import company as cp"
   ]
  },
  {
   "cell_type": "code",
   "execution_count": 3,
   "id": "b560c49d-51a0-4b00-86a4-f32e614c09c9",
   "metadata": {},
   "outputs": [
    {
     "name": "stdout",
     "output_type": "stream",
     "text": [
      "Company Name: HealthCare Inc.\n",
      "Ticker Symbol is: HCI\n",
      "Medical Specialty: Oncology\n",
      "Drug Manufacturer: Yes\n"
     ]
    }
   ],
   "source": [
    "med_comp = cp.MedicalCompany(name=\"HealthCare Inc.\",drug_manufacturer=True, specialty=\"Oncology\", ticker=\"HCI\")\n",
    "med_comp.display_info()"
   ]
  },
  {
   "cell_type": "code",
   "execution_count": 4,
   "id": "ff72fa56-6207-4106-a9f4-d5f5fafcd6b6",
   "metadata": {},
   "outputs": [
    {
     "data": {
      "text/plain": [
       "'Available on yfinance'"
      ]
     },
     "execution_count": 4,
     "metadata": {},
     "output_type": "execute_result"
    }
   ],
   "source": [
    "med_comp.get_yfinance_status()"
   ]
  },
  {
   "cell_type": "code",
   "execution_count": 7,
   "id": "eb76fac4-891a-47f6-a2ab-08eb6b5bf129",
   "metadata": {},
   "outputs": [
    {
     "data": {
      "text/html": [
       "<div>\n",
       "<style scoped>\n",
       "    .dataframe tbody tr th:only-of-type {\n",
       "        vertical-align: middle;\n",
       "    }\n",
       "\n",
       "    .dataframe tbody tr th {\n",
       "        vertical-align: top;\n",
       "    }\n",
       "\n",
       "    .dataframe thead th {\n",
       "        text-align: right;\n",
       "    }\n",
       "</style>\n",
       "<table border=\"1\" class=\"dataframe\">\n",
       "  <thead>\n",
       "    <tr style=\"text-align: right;\">\n",
       "      <th></th>\n",
       "      <th>Open</th>\n",
       "      <th>High</th>\n",
       "      <th>Low</th>\n",
       "      <th>Close</th>\n",
       "      <th>Volume</th>\n",
       "      <th>Dividends</th>\n",
       "      <th>Stock Splits</th>\n",
       "    </tr>\n",
       "    <tr>\n",
       "      <th>Date</th>\n",
       "      <th></th>\n",
       "      <th></th>\n",
       "      <th></th>\n",
       "      <th></th>\n",
       "      <th></th>\n",
       "      <th></th>\n",
       "      <th></th>\n",
       "    </tr>\n",
       "  </thead>\n",
       "  <tbody>\n",
       "    <tr>\n",
       "      <th>2023-10-26 00:00:00-04:00</th>\n",
       "      <td>57.058776</td>\n",
       "      <td>57.943254</td>\n",
       "      <td>55.810677</td>\n",
       "      <td>55.810677</td>\n",
       "      <td>44100</td>\n",
       "      <td>0.0</td>\n",
       "      <td>0.0</td>\n",
       "    </tr>\n",
       "    <tr>\n",
       "      <th>2023-10-27 00:00:00-04:00</th>\n",
       "      <td>55.594473</td>\n",
       "      <td>56.557573</td>\n",
       "      <td>54.867236</td>\n",
       "      <td>55.761543</td>\n",
       "      <td>43200</td>\n",
       "      <td>0.0</td>\n",
       "      <td>0.0</td>\n",
       "    </tr>\n",
       "    <tr>\n",
       "      <th>2023-10-30 00:00:00-04:00</th>\n",
       "      <td>56.026878</td>\n",
       "      <td>57.245496</td>\n",
       "      <td>55.840156</td>\n",
       "      <td>56.311878</td>\n",
       "      <td>37800</td>\n",
       "      <td>0.0</td>\n",
       "      <td>0.0</td>\n",
       "    </tr>\n",
       "    <tr>\n",
       "      <th>2023-10-31 00:00:00-04:00</th>\n",
       "      <td>56.901535</td>\n",
       "      <td>58.110324</td>\n",
       "      <td>56.134983</td>\n",
       "      <td>57.953083</td>\n",
       "      <td>55500</td>\n",
       "      <td>0.0</td>\n",
       "      <td>0.0</td>\n",
       "    </tr>\n",
       "    <tr>\n",
       "      <th>2023-11-01 00:00:00-04:00</th>\n",
       "      <td>58.277397</td>\n",
       "      <td>60.714630</td>\n",
       "      <td>58.002227</td>\n",
       "      <td>60.429634</td>\n",
       "      <td>99200</td>\n",
       "      <td>0.0</td>\n",
       "      <td>0.0</td>\n",
       "    </tr>\n",
       "  </tbody>\n",
       "</table>\n",
       "</div>"
      ],
      "text/plain": [
       "                                Open       High        Low      Close  Volume  \\\n",
       "Date                                                                            \n",
       "2023-10-26 00:00:00-04:00  57.058776  57.943254  55.810677  55.810677   44100   \n",
       "2023-10-27 00:00:00-04:00  55.594473  56.557573  54.867236  55.761543   43200   \n",
       "2023-10-30 00:00:00-04:00  56.026878  57.245496  55.840156  56.311878   37800   \n",
       "2023-10-31 00:00:00-04:00  56.901535  58.110324  56.134983  57.953083   55500   \n",
       "2023-11-01 00:00:00-04:00  58.277397  60.714630  58.002227  60.429634   99200   \n",
       "\n",
       "                           Dividends  Stock Splits  \n",
       "Date                                                \n",
       "2023-10-26 00:00:00-04:00        0.0           0.0  \n",
       "2023-10-27 00:00:00-04:00        0.0           0.0  \n",
       "2023-10-30 00:00:00-04:00        0.0           0.0  \n",
       "2023-10-31 00:00:00-04:00        0.0           0.0  \n",
       "2023-11-01 00:00:00-04:00        0.0           0.0  "
      ]
     },
     "execution_count": 7,
     "metadata": {},
     "output_type": "execute_result"
    }
   ],
   "source": [
    "med_comp.get_stock_info().head()"
   ]
  },
  {
   "cell_type": "code",
   "execution_count": 11,
   "id": "4fd366b8-a245-4fed-b6a1-6595f34e3fc3",
   "metadata": {},
   "outputs": [
    {
     "name": "stdout",
     "output_type": "stream",
     "text": [
      "\n",
      "Drug Approval Summary for PharmaCorp:\n",
      " - DrugA: 2 failed attempt(s) before approval\n",
      " - DrugB: 1 failed attempt(s) before approval\n",
      " - DrugE: 0 failed attempt(s) before approval\n",
      " - DrugF: 4 failed attempt(s) before approval\n"
     ]
    }
   ],
   "source": [
    "med_comp = cp.MedicalCompany(name=\"PharmaCorp\", specialty=\"Oncology\", drug_manufacturer=True)\n",
    "med_comp.drug_approval_summary()"
   ]
  },
  {
   "cell_type": "code",
   "execution_count": 12,
   "id": "23fec949-6503-4530-ad33-e2f8c5ef1cfb",
   "metadata": {},
   "outputs": [
    {
     "name": "stdout",
     "output_type": "stream",
     "text": [
      "Company package version: 0.0.0b1.dev3+g73e64cc.d20241027\n",
      "Company Name: N/A\n",
      "Ticker Symbol is: AAPL\n"
     ]
    }
   ],
   "source": [
    "!company display_info --ticker AAPL"
   ]
  },
  {
   "cell_type": "code",
   "execution_count": 13,
   "id": "0d88de78-ac77-4940-8c59-7bcaa600c876",
   "metadata": {},
   "outputs": [
    {
     "name": "stdout",
     "output_type": "stream",
     "text": [
      "Company package version: 0.0.0b1.dev3+g73e64cc.d20241027\n",
      "Stock price difference for NVDA over 5mo ending 2024-09-25: 9.628097534179688\n"
     ]
    }
   ],
   "source": [
    "!company get_stock_price_difference --ticker NVDA --interval 5mo --stop_date 2024-09-25\n"
   ]
  },
  {
   "cell_type": "code",
   "execution_count": null,
   "id": "4510ebaf-a4de-43e4-9c93-91c2d15866c0",
   "metadata": {},
   "outputs": [],
   "source": []
  }
 ],
 "metadata": {
  "kernelspec": {
   "display_name": "Python 3 (ipykernel)",
   "language": "python",
   "name": "python3"
  },
  "language_info": {
   "codemirror_mode": {
    "name": "ipython",
    "version": 3
   },
   "file_extension": ".py",
   "mimetype": "text/x-python",
   "name": "python",
   "nbconvert_exporter": "python",
   "pygments_lexer": "ipython3",
   "version": "3.9.13"
  },
  "widgets": {
   "application/vnd.jupyter.widget-state+json": {
    "state": {},
    "version_major": 2,
    "version_minor": 0
   }
  }
 },
 "nbformat": 4,
 "nbformat_minor": 5
}
