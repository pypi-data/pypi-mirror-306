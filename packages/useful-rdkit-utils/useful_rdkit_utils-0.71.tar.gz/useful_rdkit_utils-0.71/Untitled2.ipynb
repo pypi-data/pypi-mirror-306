{
 "cells": [
  {
   "cell_type": "code",
   "execution_count": 2,
   "id": "3216cbed",
   "metadata": {},
   "outputs": [],
   "source": [
    "from rdkit import Chem\n",
    "import useful_rdkit_utils as uru"
   ]
  },
  {
   "cell_type": "code",
   "execution_count": 3,
   "id": "70772979",
   "metadata": {},
   "outputs": [],
   "source": [
    "mol = Chem.MolFromSmiles(\"c1ccccc1\")"
   ]
  },
  {
   "cell_type": "code",
   "execution_count": 5,
   "id": "282539e2",
   "metadata": {},
   "outputs": [],
   "source": [
    "rdkit_desc = uru.RDKitDescriptors()"
   ]
  },
  {
   "cell_type": "code",
   "execution_count": 7,
   "id": "203f5641",
   "metadata": {},
   "outputs": [
    {
     "data": {
      "application/vnd.jupyter.widget-view+json": {
       "model_id": "218ab67a765945e5819090cc036950b5",
       "version_major": 2,
       "version_minor": 0
      },
      "text/plain": [
       "  0%|          | 0/1 [00:00<?, ?it/s]"
      ]
     },
     "metadata": {},
     "output_type": "display_data"
    },
    {
     "data": {
      "text/html": [
       "<div>\n",
       "<style scoped>\n",
       "    .dataframe tbody tr th:only-of-type {\n",
       "        vertical-align: middle;\n",
       "    }\n",
       "\n",
       "    .dataframe tbody tr th {\n",
       "        vertical-align: top;\n",
       "    }\n",
       "\n",
       "    .dataframe thead th {\n",
       "        text-align: right;\n",
       "    }\n",
       "</style>\n",
       "<table border=\"1\" class=\"dataframe\">\n",
       "  <thead>\n",
       "    <tr style=\"text-align: right;\">\n",
       "      <th></th>\n",
       "      <th>AvgIpc</th>\n",
       "      <th>BCUT2D_CHGHI</th>\n",
       "      <th>BCUT2D_CHGLO</th>\n",
       "      <th>BCUT2D_LOGPHI</th>\n",
       "      <th>BCUT2D_LOGPLOW</th>\n",
       "      <th>BCUT2D_MRHI</th>\n",
       "      <th>BCUT2D_MRLOW</th>\n",
       "      <th>BCUT2D_MWHI</th>\n",
       "      <th>BCUT2D_MWLOW</th>\n",
       "      <th>BalabanJ</th>\n",
       "      <th>...</th>\n",
       "      <th>fr_sulfonamd</th>\n",
       "      <th>fr_sulfone</th>\n",
       "      <th>fr_term_acetylene</th>\n",
       "      <th>fr_tetrazole</th>\n",
       "      <th>fr_thiazole</th>\n",
       "      <th>fr_thiocyan</th>\n",
       "      <th>fr_thiophene</th>\n",
       "      <th>fr_unbrch_alkane</th>\n",
       "      <th>fr_urea</th>\n",
       "      <th>qed</th>\n",
       "    </tr>\n",
       "  </thead>\n",
       "  <tbody>\n",
       "    <tr>\n",
       "      <th>0</th>\n",
       "      <td>1.719973</td>\n",
       "      <td>1.573725</td>\n",
       "      <td>-1.694262</td>\n",
       "      <td>1.794093</td>\n",
       "      <td>-1.473893</td>\n",
       "      <td>4.985993</td>\n",
       "      <td>1.718007</td>\n",
       "      <td>13.646993</td>\n",
       "      <td>10.379007</td>\n",
       "      <td>3.0</td>\n",
       "      <td>...</td>\n",
       "      <td>0.0</td>\n",
       "      <td>0.0</td>\n",
       "      <td>0.0</td>\n",
       "      <td>0.0</td>\n",
       "      <td>0.0</td>\n",
       "      <td>0.0</td>\n",
       "      <td>0.0</td>\n",
       "      <td>0.0</td>\n",
       "      <td>0.0</td>\n",
       "      <td>0.442628</td>\n",
       "    </tr>\n",
       "  </tbody>\n",
       "</table>\n",
       "<p>1 rows × 210 columns</p>\n",
       "</div>"
      ],
      "text/plain": [
       "     AvgIpc  BCUT2D_CHGHI  BCUT2D_CHGLO  BCUT2D_LOGPHI  BCUT2D_LOGPLOW  \\\n",
       "0  1.719973      1.573725     -1.694262       1.794093       -1.473893   \n",
       "\n",
       "   BCUT2D_MRHI  BCUT2D_MRLOW  BCUT2D_MWHI  BCUT2D_MWLOW  BalabanJ  ...  \\\n",
       "0     4.985993      1.718007    13.646993     10.379007       3.0  ...   \n",
       "\n",
       "   fr_sulfonamd  fr_sulfone  fr_term_acetylene  fr_tetrazole  fr_thiazole  \\\n",
       "0           0.0         0.0                0.0           0.0          0.0   \n",
       "\n",
       "   fr_thiocyan  fr_thiophene  fr_unbrch_alkane  fr_urea       qed  \n",
       "0          0.0           0.0               0.0      0.0  0.442628  \n",
       "\n",
       "[1 rows x 210 columns]"
      ]
     },
     "execution_count": 7,
     "metadata": {},
     "output_type": "execute_result"
    }
   ],
   "source": [
    "rdkit_desc.pandas_mols([mol])"
   ]
  },
  {
   "cell_type": "code",
   "execution_count": null,
   "id": "e2e50024",
   "metadata": {},
   "outputs": [],
   "source": []
  }
 ],
 "metadata": {
  "kernelspec": {
   "display_name": "Python 3 (ipykernel)",
   "language": "python",
   "name": "python3"
  },
  "language_info": {
   "codemirror_mode": {
    "name": "ipython",
    "version": 3
   },
   "file_extension": ".py",
   "mimetype": "text/x-python",
   "name": "python",
   "nbconvert_exporter": "python",
   "pygments_lexer": "ipython3",
   "version": "3.11.9"
  }
 },
 "nbformat": 4,
 "nbformat_minor": 5
}
