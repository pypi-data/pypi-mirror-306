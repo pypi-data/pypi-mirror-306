{
 "cells": [
  {
   "cell_type": "markdown",
   "id": "5cfe0513",
   "metadata": {},
   "source": [
    "## Using cross_validate to Compare Methods"
   ]
  },
  {
   "cell_type": "code",
   "execution_count": 1,
   "id": "008ff867",
   "metadata": {},
   "outputs": [
    {
     "name": "stderr",
     "output_type": "stream",
     "text": [
      "/Users/pwalters/miniconda3/envs/rdkit_2023_05/lib/python3.11/site-packages/outdated/utils.py:14: OutdatedPackageWarning: The package pingouin is out of date. Your version is 0.5.3, the latest is 0.5.4.\n",
      "Set the environment variable OUTDATED_IGNORE=1 to disable these warnings.\n",
      "  return warn(\n"
     ]
    }
   ],
   "source": [
    "import pandas as pd\n",
    "import useful_rdkit_utils as uru\n",
    "from rdkit.Chem import rdFingerprintGenerator\n",
    "from lightgbm import LGBMRegressor\n",
    "from sklearn.metrics import r2_score, mean_absolute_error\n",
    "from rdkit import Chem\n",
    "from catboost import CatBoostRegressor\n",
    "from sort_and_slice_ecfp_featuriser import create_sort_and_slice_ecfp_featuriser\n",
    "import pingouin as pg\n",
    "from scipy.stats import ttest_ind\n",
    "import seaborn as sns\n",
    "import matplotlib.pyplot as plt\n",
    "import numpy as np\n",
    "from typing import List"
   ]
  },
  {
   "cell_type": "markdown",
   "id": "e9860a8d",
   "metadata": {},
   "source": [
    "The **cross_validate** function provides a flexible means of running nested cross-validation experiments. It's easy to compare descriptors, machine learing models or combinations of the two.  The function allows easy incorporation of different splitting strategies.  Random, scaffold, and cluster splits are supported out of the box. Other strategies can be trivially incorporated. Finally, any set of metrics that follow the conventions in sklearn.metrics can be incorporated. \n",
    "\n",
    "The function accepts a few arguments.  \n",
    "- **df** - A Pandas dataframe, the dataframe must have a SMILES column \n",
    "- **model_list** - a list of tuples where the first element is a string indicating the model name, the second element is a function that returns a scikit-learn compatible model \n",
    "- **y_col** - the column in **df** with the y value for the model \n",
    "- **descriptor_list** - a list of tuples, where the the first element is the descriptor name and the second element contains a function to calculate descriptors for training and test sets.  The function takes three argments, the descriptor name, a dataframe with the training set, and a dataframe with the test set. \n",
    "- **group_list** - a list of tuples where the first element contains the group name and the second argment is a function to caculate the groups.  This argment can be used to split according to groups (e.g. scaffold or cluster splitting).  To perform a random split, set each row in df to a unique value. \n",
    "- **metric_list** - a list of metrics to calculate (e.g. r2_score, mean_absolute_error).  The functions should use the sklearn.metrics convention where the first argment is a list of true values and the second argument is a list of predicted values. \n",
    "- **n_outer** - the number of rounds of cross validation\n",
    "- **n_inner** - the number of splits to perform at each round \n",
    "\n",
    "The return value is a list of dictionaries that can be easily transformed into a Pandas dataframe.  More on this below. "
   ]
  },
  {
   "cell_type": "markdown",
   "id": "e7e1bbde",
   "metadata": {},
   "source": [
    "Here's the docstring. "
   ]
  },
  {
   "cell_type": "code",
   "execution_count": 2,
   "id": "25460ac7",
   "metadata": {},
   "outputs": [
    {
     "name": "stdout",
     "output_type": "stream",
     "text": [
      "Help on function cross_validate in module useful_rdkit_utils.split_utils:\n",
      "\n",
      "cross_validate(df: pandas.core.frame.DataFrame, model_list: List[Tuple[str, Callable]], y_col: str, descriptor_list: List[Tuple[str, Callable]], group_list: List[Tuple[str, Callable]], metric_list: List[Tuple[str, Callable]], n_outer: int = 5, n_inner: int = 5) -> List[dict]\n",
      "    Perform cross-validation on a given dataset.\n",
      "    \n",
      "    :param df: The input pandas DataFrame.\n",
      "    :param model_list: A list of tuples where each tuple contains a model name and a function to create the model.\n",
      "    :param y_col: The name of the target column in the DataFrame.\n",
      "    :param descriptor_list: A list of tuples where each tuple contains a descriptor name and a function to calculate the descriptor.\n",
      "    :param group_list: A list of tuples where each tuple contains a group name and a function to calculate the group.\n",
      "    :param metric_list: A list of tuples where each tuple contains a metric name and a function to calculate the metric.\n",
      "    :param n_outer: The number of outer folds for cross-validation.\n",
      "    :param n_inner: The number of inner folds for cross-validation.\n",
      "    :return: A list of dictionaries where each dictionary contains the results for one fold of the cross-validation.\n",
      "\n"
     ]
    }
   ],
   "source": [
    "help(uru.cross_validate)"
   ]
  },
  {
   "cell_type": "markdown",
   "id": "b22b6707",
   "metadata": {},
   "source": [
    "The best way to explain **cross_validate** is with an example.  Let's compare the Morgan counts fingerprint from theh RDKit with the recently published [Sort and Slice fingerprint](https://arxiv.org/abs/2403.17954).  We'll examine the input argments one at a time. "
   ]
  },
  {
   "cell_type": "markdown",
   "id": "cd46125f",
   "metadata": {},
   "source": [
    "### df\n",
    "The input dataframe must have two components. \n",
    "- A SMILES column titled **SMILES**\n",
    "- A column with a y-value, this can have any name \n",
    "\n",
    "First we'll read in some data.  We'll use the solubility set from the [Biogen ADME datasets](https://github.com/molecularinformatics/Computational-ADME). "
   ]
  },
  {
   "cell_type": "code",
   "execution_count": 3,
   "id": "90088e03",
   "metadata": {},
   "outputs": [
    {
     "data": {
      "text/html": [
       "<div>\n",
       "<style scoped>\n",
       "    .dataframe tbody tr th:only-of-type {\n",
       "        vertical-align: middle;\n",
       "    }\n",
       "\n",
       "    .dataframe tbody tr th {\n",
       "        vertical-align: top;\n",
       "    }\n",
       "\n",
       "    .dataframe thead th {\n",
       "        text-align: right;\n",
       "    }\n",
       "</style>\n",
       "<table border=\"1\" class=\"dataframe\">\n",
       "  <thead>\n",
       "    <tr style=\"text-align: right;\">\n",
       "      <th></th>\n",
       "      <th>Internal ID</th>\n",
       "      <th>Vendor ID</th>\n",
       "      <th>SMILES</th>\n",
       "      <th>CollectionName</th>\n",
       "      <th>logS</th>\n",
       "    </tr>\n",
       "  </thead>\n",
       "  <tbody>\n",
       "    <tr>\n",
       "      <th>0</th>\n",
       "      <td>Mol1</td>\n",
       "      <td>317714313</td>\n",
       "      <td>CNc1cc(Nc2cccn(-c3ccccn3)c2=O)nn2c(C(=O)N[C@@H...</td>\n",
       "      <td>emolecules</td>\n",
       "      <td>-5.548020</td>\n",
       "    </tr>\n",
       "    <tr>\n",
       "      <th>1</th>\n",
       "      <td>Mol2</td>\n",
       "      <td>324056965</td>\n",
       "      <td>CCOc1cc2nn(CCC(C)(C)O)cc2cc1NC(=O)c1cccc(C(F)F)n1</td>\n",
       "      <td>emolecules</td>\n",
       "      <td>-5.071409</td>\n",
       "    </tr>\n",
       "    <tr>\n",
       "      <th>2</th>\n",
       "      <td>Mol4</td>\n",
       "      <td>194963090</td>\n",
       "      <td>CC(C)(Oc1ccc(-c2cnc(N)c(-c3ccc(Cl)cc3)c2)cc1)C...</td>\n",
       "      <td>emolecules</td>\n",
       "      <td>-3.925969</td>\n",
       "    </tr>\n",
       "    <tr>\n",
       "      <th>3</th>\n",
       "      <td>Mol6</td>\n",
       "      <td>316230505</td>\n",
       "      <td>CC#CC(=O)N[C@H]1CCCN(c2c(F)cc(C(N)=O)c3[nH]c(C...</td>\n",
       "      <td>emolecules</td>\n",
       "      <td>-4.535280</td>\n",
       "    </tr>\n",
       "    <tr>\n",
       "      <th>4</th>\n",
       "      <td>Mol9</td>\n",
       "      <td>EN300-97039</td>\n",
       "      <td>C=CC(=O)N1CCC[C@@H](n2nc(-c3ccc(Oc4ccccc4)cc3)...</td>\n",
       "      <td>enamineBB_pmc</td>\n",
       "      <td>-4.709963</td>\n",
       "    </tr>\n",
       "  </tbody>\n",
       "</table>\n",
       "</div>"
      ],
      "text/plain": [
       "  Internal ID    Vendor ID                                             SMILES  \\\n",
       "0        Mol1    317714313  CNc1cc(Nc2cccn(-c3ccccn3)c2=O)nn2c(C(=O)N[C@@H...   \n",
       "1        Mol2    324056965  CCOc1cc2nn(CCC(C)(C)O)cc2cc1NC(=O)c1cccc(C(F)F)n1   \n",
       "2        Mol4    194963090  CC(C)(Oc1ccc(-c2cnc(N)c(-c3ccc(Cl)cc3)c2)cc1)C...   \n",
       "3        Mol6    316230505  CC#CC(=O)N[C@H]1CCCN(c2c(F)cc(C(N)=O)c3[nH]c(C...   \n",
       "4        Mol9  EN300-97039  C=CC(=O)N1CCC[C@@H](n2nc(-c3ccc(Oc4ccccc4)cc3)...   \n",
       "\n",
       "  CollectionName      logS  \n",
       "0     emolecules -5.548020  \n",
       "1     emolecules -5.071409  \n",
       "2     emolecules -3.925969  \n",
       "3     emolecules -4.535280  \n",
       "4  enamineBB_pmc -4.709963  "
      ]
     },
     "execution_count": 3,
     "metadata": {},
     "output_type": "execute_result"
    }
   ],
   "source": [
    "df = pd.read_csv(\"/Users/pwalters/modsource/python/rdkit/sort_and_slice/biogen_logS.csv\")\n",
    "df.head()"
   ]
  },
  {
   "cell_type": "markdown",
   "id": "dd574d0f",
   "metadata": {},
   "source": [
    "### model_list\n",
    "ML models are defined with a simple function that returns a scikit-learn compatible model.  The model must support the **fit** and **predict** methods. Calling the functions this way enables arguments to be passed to the model. "
   ]
  },
  {
   "cell_type": "code",
   "execution_count": 4,
   "id": "88fc4030",
   "metadata": {},
   "outputs": [],
   "source": [
    "# define functions \n",
    "def gen_LGBMRegressor():\n",
    "    return LGBMRegressor()\n",
    "\n",
    "def gen_CatBoostRegressor():\n",
    "    return CatBoostRegressor(verbose=False)\n",
    "\n",
    "# create a list of names and functions\n",
    "model_list = [[\"LGBM\",gen_LGBMRegressor],[\"CatBoost\",gen_CatBoostRegressor]]"
   ]
  },
  {
   "cell_type": "markdown",
   "id": "c570adf5",
   "metadata": {},
   "source": [
    "### y_col\n",
    "The **y_col** argument specifies the **y** variable.  In this case, it's **logS**. "
   ]
  },
  {
   "cell_type": "code",
   "execution_count": 5,
   "id": "db680308",
   "metadata": {},
   "outputs": [
    {
     "data": {
      "text/html": [
       "<div>\n",
       "<style scoped>\n",
       "    .dataframe tbody tr th:only-of-type {\n",
       "        vertical-align: middle;\n",
       "    }\n",
       "\n",
       "    .dataframe tbody tr th {\n",
       "        vertical-align: top;\n",
       "    }\n",
       "\n",
       "    .dataframe thead th {\n",
       "        text-align: right;\n",
       "    }\n",
       "</style>\n",
       "<table border=\"1\" class=\"dataframe\">\n",
       "  <thead>\n",
       "    <tr style=\"text-align: right;\">\n",
       "      <th></th>\n",
       "      <th>Internal ID</th>\n",
       "      <th>Vendor ID</th>\n",
       "      <th>SMILES</th>\n",
       "      <th>CollectionName</th>\n",
       "      <th>logS</th>\n",
       "    </tr>\n",
       "  </thead>\n",
       "  <tbody>\n",
       "    <tr>\n",
       "      <th>0</th>\n",
       "      <td>Mol1</td>\n",
       "      <td>317714313</td>\n",
       "      <td>CNc1cc(Nc2cccn(-c3ccccn3)c2=O)nn2c(C(=O)N[C@@H...</td>\n",
       "      <td>emolecules</td>\n",
       "      <td>-5.548020</td>\n",
       "    </tr>\n",
       "    <tr>\n",
       "      <th>1</th>\n",
       "      <td>Mol2</td>\n",
       "      <td>324056965</td>\n",
       "      <td>CCOc1cc2nn(CCC(C)(C)O)cc2cc1NC(=O)c1cccc(C(F)F)n1</td>\n",
       "      <td>emolecules</td>\n",
       "      <td>-5.071409</td>\n",
       "    </tr>\n",
       "    <tr>\n",
       "      <th>2</th>\n",
       "      <td>Mol4</td>\n",
       "      <td>194963090</td>\n",
       "      <td>CC(C)(Oc1ccc(-c2cnc(N)c(-c3ccc(Cl)cc3)c2)cc1)C...</td>\n",
       "      <td>emolecules</td>\n",
       "      <td>-3.925969</td>\n",
       "    </tr>\n",
       "    <tr>\n",
       "      <th>3</th>\n",
       "      <td>Mol6</td>\n",
       "      <td>316230505</td>\n",
       "      <td>CC#CC(=O)N[C@H]1CCCN(c2c(F)cc(C(N)=O)c3[nH]c(C...</td>\n",
       "      <td>emolecules</td>\n",
       "      <td>-4.535280</td>\n",
       "    </tr>\n",
       "    <tr>\n",
       "      <th>4</th>\n",
       "      <td>Mol9</td>\n",
       "      <td>EN300-97039</td>\n",
       "      <td>C=CC(=O)N1CCC[C@@H](n2nc(-c3ccc(Oc4ccccc4)cc3)...</td>\n",
       "      <td>enamineBB_pmc</td>\n",
       "      <td>-4.709963</td>\n",
       "    </tr>\n",
       "  </tbody>\n",
       "</table>\n",
       "</div>"
      ],
      "text/plain": [
       "  Internal ID    Vendor ID                                             SMILES  \\\n",
       "0        Mol1    317714313  CNc1cc(Nc2cccn(-c3ccccn3)c2=O)nn2c(C(=O)N[C@@H...   \n",
       "1        Mol2    324056965  CCOc1cc2nn(CCC(C)(C)O)cc2cc1NC(=O)c1cccc(C(F)F)n1   \n",
       "2        Mol4    194963090  CC(C)(Oc1ccc(-c2cnc(N)c(-c3ccc(Cl)cc3)c2)cc1)C...   \n",
       "3        Mol6    316230505  CC#CC(=O)N[C@H]1CCCN(c2c(F)cc(C(N)=O)c3[nH]c(C...   \n",
       "4        Mol9  EN300-97039  C=CC(=O)N1CCC[C@@H](n2nc(-c3ccc(Oc4ccccc4)cc3)...   \n",
       "\n",
       "  CollectionName      logS  \n",
       "0     emolecules -5.548020  \n",
       "1     emolecules -5.071409  \n",
       "2     emolecules -3.925969  \n",
       "3     emolecules -4.535280  \n",
       "4  enamineBB_pmc -4.709963  "
      ]
     },
     "execution_count": 5,
     "metadata": {},
     "output_type": "execute_result"
    }
   ],
   "source": [
    "df.head()"
   ]
  },
  {
   "cell_type": "markdown",
   "id": "33e0347a",
   "metadata": {},
   "source": [
    "### descriptor_list\n",
    "\n",
    "Here are two functions to caculate descriptors.   We can the combine the functions in a list. "
   ]
  },
  {
   "cell_type": "code",
   "execution_count": 6,
   "id": "ab5c4095",
   "metadata": {},
   "outputs": [],
   "source": [
    "# define functions\n",
    "def calc_morgan_count_fps(fp_name, train, test): \n",
    "    train['mol'] = train.SMILES.apply(Chem.MolFromSmiles)\n",
    "    test['mol'] = test.SMILES.apply(Chem.MolFromSmiles)\n",
    "    fg = rdFingerprintGenerator.GetMorganGenerator(radius=2,fpSize=1024)\n",
    "    train[fp_name] = train.mol.apply(fg.GetCountFingerprintAsNumPy)\n",
    "    test[fp_name] = test.mol.apply(fg.GetCountFingerprintAsNumPy)\n",
    "\n",
    "def calc_sort_and_slice_fps(fp_name, train, test):\n",
    "    train['mol'] = train.SMILES.apply(Chem.MolFromSmiles)\n",
    "    test['mol'] = test.SMILES.apply(Chem.MolFromSmiles)\n",
    "    featurizer = create_sort_and_slice_ecfp_featuriser(train.mol,print_train_set_info=False)\n",
    "    train[fp_name] = [featurizer(x) for x in train.mol]\n",
    "    test[fp_name] = [featurizer(x) for x in test.mol]\n",
    "    \n",
    "# create a list of names and functions  \n",
    "descriptor_list = [[\"morgan_counts\", calc_morgan_count_fps],[\"sort_and_slice\",calc_sort_and_slice_fps]]"
   ]
  },
  {
   "cell_type": "markdown",
   "id": "e9be51a6",
   "metadata": {},
   "source": [
    "### group_list\n",
    "Splitting functions take a SMILES list as input and return a list of integers corresponding to groups.  Here are a couple of examples.  The first takes a list of SMILES and returns a unique index for each.  This just produces a random split.   The second takes the same input and returns a list of cluster ids.  The *cross_validation* function will not put molecules from the same cluster into both training and test sets. "
   ]
  },
  {
   "cell_type": "code",
   "execution_count": 7,
   "id": "8058538d",
   "metadata": {},
   "outputs": [],
   "source": [
    "# define functions\n",
    "def simple_random_split(smiles_list):\n",
    "    return list(range(0, len(smiles_list)))\n",
    "\n",
    "def get_butina_clusters(smiles_list):\n",
    "    fp_list = [uru.smi2morgan_fp(x) for x in smiles_list]\n",
    "    return uru.taylor_butina_clustering(fp_list)\n",
    "\n",
    "# create a list of names and functions \n",
    "group_list = [[\"butina\",uru.get_butina_clusters],[\"random\",simple_random_split]]"
   ]
  },
  {
   "cell_type": "markdown",
   "id": "d977f180",
   "metadata": {},
   "source": [
    "Now let's apply **cross_validate**.  We will define \n",
    "\n",
    "One model  \n",
    "- LGBMRegressor (Light Gradient Boosting Machine Regressor)\n",
    "\n",
    "Two sets of descriptors  \n",
    "- morgan_counts (RDKit Morgan fingerprints with counts)\n",
    "- sort_and_slice (Sort and Slice fingerprint) \n",
    "\n",
    "One grouping method\n",
    "- butina (split based on Butina clustering) \n",
    "\n",
    "Two metrics\n",
    "- R2 (coefficient of determination) \n",
    "- MAE (mean absolute error)\n"
   ]
  },
  {
   "cell_type": "code",
   "execution_count": 8,
   "id": "13dc61aa",
   "metadata": {},
   "outputs": [],
   "source": [
    "model_list = [[\"LGBM\",gen_LGBMRegressor]]\n",
    "descriptor_list = [[\"morgan_counts\", calc_morgan_count_fps],[\"sort_and_slice\",calc_sort_and_slice_fps]]\n",
    "group_list = [[\"butina\",uru.get_butina_clusters]]\n",
    "metric_list = [[\"R2\",r2_score],[\"MAE\",mean_absolute_error]]"
   ]
  },
  {
   "cell_type": "markdown",
   "id": "72252af6",
   "metadata": {},
   "source": [
    "Run **cross_validate**"
   ]
  },
  {
   "cell_type": "code",
   "execution_count": 9,
   "id": "29424eac",
   "metadata": {},
   "outputs": [
    {
     "data": {
      "application/vnd.jupyter.widget-view+json": {
       "model_id": "",
       "version_major": 2,
       "version_minor": 0
      },
      "text/plain": [
       "  0%|          | 0/5 [00:00<?, ?it/s]"
      ]
     },
     "metadata": {},
     "output_type": "display_data"
    },
    {
     "data": {
      "application/vnd.jupyter.widget-view+json": {
       "model_id": "",
       "version_major": 2,
       "version_minor": 0
      },
      "text/plain": [
       "  0%|          | 0/5 [00:00<?, ?it/s]"
      ]
     },
     "metadata": {},
     "output_type": "display_data"
    },
    {
     "data": {
      "application/vnd.jupyter.widget-view+json": {
       "model_id": "",
       "version_major": 2,
       "version_minor": 0
      },
      "text/plain": [
       "  0%|          | 0/5 [00:00<?, ?it/s]"
      ]
     },
     "metadata": {},
     "output_type": "display_data"
    },
    {
     "data": {
      "application/vnd.jupyter.widget-view+json": {
       "model_id": "",
       "version_major": 2,
       "version_minor": 0
      },
      "text/plain": [
       "  0%|          | 0/5 [00:00<?, ?it/s]"
      ]
     },
     "metadata": {},
     "output_type": "display_data"
    },
    {
     "data": {
      "application/vnd.jupyter.widget-view+json": {
       "model_id": "",
       "version_major": 2,
       "version_minor": 0
      },
      "text/plain": [
       "  0%|          | 0/5 [00:00<?, ?it/s]"
      ]
     },
     "metadata": {},
     "output_type": "display_data"
    },
    {
     "data": {
      "application/vnd.jupyter.widget-view+json": {
       "model_id": "",
       "version_major": 2,
       "version_minor": 0
      },
      "text/plain": [
       "  0%|          | 0/5 [00:00<?, ?it/s]"
      ]
     },
     "metadata": {},
     "output_type": "display_data"
    }
   ],
   "source": [
    "result_list = uru.cross_validate(df, model_list, \"logS\", descriptor_list, group_list, metric_list, 5, 5)"
   ]
  },
  {
   "cell_type": "markdown",
   "id": "60c897fe",
   "metadata": {},
   "source": [
    "Turn the results into a dataframe. "
   ]
  },
  {
   "cell_type": "code",
   "execution_count": 10,
   "id": "21b9d6ca",
   "metadata": {},
   "outputs": [
    {
     "data": {
      "text/html": [
       "<div>\n",
       "<style scoped>\n",
       "    .dataframe tbody tr th:only-of-type {\n",
       "        vertical-align: middle;\n",
       "    }\n",
       "\n",
       "    .dataframe tbody tr th {\n",
       "        vertical-align: top;\n",
       "    }\n",
       "\n",
       "    .dataframe thead th {\n",
       "        text-align: right;\n",
       "    }\n",
       "</style>\n",
       "<table border=\"1\" class=\"dataframe\">\n",
       "  <thead>\n",
       "    <tr style=\"text-align: right;\">\n",
       "      <th></th>\n",
       "      <th>group</th>\n",
       "      <th>model</th>\n",
       "      <th>desc</th>\n",
       "      <th>fold</th>\n",
       "      <th>R2</th>\n",
       "      <th>MAE</th>\n",
       "    </tr>\n",
       "  </thead>\n",
       "  <tbody>\n",
       "    <tr>\n",
       "      <th>0</th>\n",
       "      <td>butina</td>\n",
       "      <td>LGBM</td>\n",
       "      <td>morgan_counts</td>\n",
       "      <td>0</td>\n",
       "      <td>0.329274</td>\n",
       "      <td>0.409787</td>\n",
       "    </tr>\n",
       "    <tr>\n",
       "      <th>1</th>\n",
       "      <td>butina</td>\n",
       "      <td>LGBM</td>\n",
       "      <td>sort_and_slice</td>\n",
       "      <td>0</td>\n",
       "      <td>0.311711</td>\n",
       "      <td>0.416377</td>\n",
       "    </tr>\n",
       "    <tr>\n",
       "      <th>2</th>\n",
       "      <td>butina</td>\n",
       "      <td>LGBM</td>\n",
       "      <td>morgan_counts</td>\n",
       "      <td>1</td>\n",
       "      <td>0.401879</td>\n",
       "      <td>0.421149</td>\n",
       "    </tr>\n",
       "    <tr>\n",
       "      <th>3</th>\n",
       "      <td>butina</td>\n",
       "      <td>LGBM</td>\n",
       "      <td>sort_and_slice</td>\n",
       "      <td>1</td>\n",
       "      <td>0.399816</td>\n",
       "      <td>0.416558</td>\n",
       "    </tr>\n",
       "    <tr>\n",
       "      <th>4</th>\n",
       "      <td>butina</td>\n",
       "      <td>LGBM</td>\n",
       "      <td>morgan_counts</td>\n",
       "      <td>2</td>\n",
       "      <td>0.305655</td>\n",
       "      <td>0.371785</td>\n",
       "    </tr>\n",
       "  </tbody>\n",
       "</table>\n",
       "</div>"
      ],
      "text/plain": [
       "    group model            desc  fold        R2       MAE\n",
       "0  butina  LGBM   morgan_counts     0  0.329274  0.409787\n",
       "1  butina  LGBM  sort_and_slice     0  0.311711  0.416377\n",
       "2  butina  LGBM   morgan_counts     1  0.401879  0.421149\n",
       "3  butina  LGBM  sort_and_slice     1  0.399816  0.416558\n",
       "4  butina  LGBM   morgan_counts     2  0.305655  0.371785"
      ]
     },
     "execution_count": 10,
     "metadata": {},
     "output_type": "execute_result"
    }
   ],
   "source": [
    "result_df = pd.DataFrame(result_list)\n",
    "result_df.head()"
   ]
  },
  {
   "cell_type": "markdown",
   "id": "2754f225",
   "metadata": {},
   "source": [
    "Plot the $R^2$ and MAE distributions to see if they're roughly normal. "
   ]
  },
  {
   "cell_type": "code",
   "execution_count": null,
   "id": "b0d6da0f",
   "metadata": {},
   "outputs": [],
   "source": [
    "figure, axes = plt.subplots(1,2)\n",
    "figure.set_figwidth(15)\n",
    "ax0 = sns.kdeplot(x=\"R2\",hue=\"desc\",data=result_df,ax=axes[0])\n",
    "sns.move_legend(ax0, \"upper left\", bbox_to_anchor=(1, 1))\n",
    "ax0.set_title(\"$R^2$\")\n",
    "ax1 = sns.kdeplot(x=\"MAE\",hue=\"desc\",data=result_df,ax=axes[1])\n",
    "ax1.set_title(\"MAE\")\n",
    "sns.move_legend(ax1, \"upper left\", bbox_to_anchor=(1, 1))\n",
    "plt.tight_layout()"
   ]
  },
  {
   "cell_type": "markdown",
   "id": "f715dc1d",
   "metadata": {},
   "source": [
    "Calculate p-values"
   ]
  },
  {
   "cell_type": "code",
   "execution_count": null,
   "id": "bd3cac97",
   "metadata": {},
   "outputs": [],
   "source": [
    "morgan = result_df.query(\"desc == 'morgan_counts'\")\n",
    "sort_slice = result_df.query(\"desc == 'sort_and_slice'\")\n",
    "ttest_ind(morgan.R2, sort_slice.R2).pvalue,ttest_ind(morgan.MAE, sort_slice.MAE).pvalue"
   ]
  },
  {
   "cell_type": "markdown",
   "id": "519a3a0b",
   "metadata": {},
   "source": [
    "Calculate Cohen's d"
   ]
  },
  {
   "cell_type": "code",
   "execution_count": null,
   "id": "7f456d4a",
   "metadata": {},
   "outputs": [],
   "source": [
    "def cohen_d(s1,s2):\n",
    "    s1 = s1.values\n",
    "    s2 = s2.values\n",
    "    return np.abs(np.mean(s1-s2)/np.std(s1-s2))"
   ]
  },
  {
   "cell_type": "code",
   "execution_count": null,
   "id": "6e04393d",
   "metadata": {},
   "outputs": [],
   "source": [
    "cohen_d(morgan.R2,sort_slice.R2),cohen_d(morgan.MAE, sort_slice.MAE)"
   ]
  },
  {
   "cell_type": "markdown",
   "id": "10047ed9",
   "metadata": {},
   "source": [
    "Transform the dataframe for plots"
   ]
  },
  {
   "cell_type": "code",
   "execution_count": null,
   "id": "dfed403a",
   "metadata": {},
   "outputs": [],
   "source": [
    "result_df[\"idx\"] = range(0,len(result_df))\n",
    "id_vars = [\"idx\",\"group\",\"fold\",\"model\",\"desc\"]\n",
    "melt_df = result_df.drop(\"MAE\",axis=1).query(\"group == 'butina' and model == 'LGBM'\").melt(id_vars=id_vars)\n",
    "melt_df.head()"
   ]
  },
  {
   "cell_type": "markdown",
   "id": "e8d39fb5",
   "metadata": {},
   "source": [
    "I find the [paired plot](https://pingouin-stats.org/build/html/generated/pingouin.plot_paired.html) from pingouin to be a useful visual for comparing models.  The plot shows boxplots of the metrics from two variants.  In this case, we're comparing two fingerprint types.  We have lines connecting individual values, with an increase between methods in green and a decrease in red.  Each line represents one cross-validation fold. Ideally, we'd like to see the same color for all the lines.  If we see some red lines and some green lines this indicates less of a difference between methods. Here's the paired plot for $R^2$\""
   ]
  },
  {
   "cell_type": "code",
   "execution_count": null,
   "id": "0333a9bf",
   "metadata": {},
   "outputs": [],
   "source": [
    "ax = pg.plot_paired(melt_df, dv=\"value\",subject=\"fold\",within=\"desc\")\n",
    "ax.set_xlabel(\"Method\")\n",
    "ax.set_ylabel(\"$R^2$\");\n",
    "ax.set_title(\"$R^2$\")"
   ]
  },
  {
   "cell_type": "markdown",
   "id": "df93fa23",
   "metadata": {},
   "source": [
    "Make a paired plot for MAE"
   ]
  },
  {
   "cell_type": "code",
   "execution_count": null,
   "id": "dd1f6677",
   "metadata": {},
   "outputs": [],
   "source": [
    "melt_df = result_df.drop(\"R2\",axis=1).query(\"group == 'butina' and model == 'LGBM'\").melt(id_vars=id_vars)\n",
    "ax = pg.plot_paired(melt_df, dv=\"value\",subject=\"fold\",within=\"desc\")\n",
    "ax.set_xlabel(\"Method\")\n",
    "ax.set_ylabel(\"$R^2$\");\n",
    "ax.set_title(\"MAE\")"
   ]
  },
  {
   "cell_type": "code",
   "execution_count": null,
   "id": "8d783a30",
   "metadata": {},
   "outputs": [],
   "source": []
  }
 ],
 "metadata": {
  "kernelspec": {
   "display_name": "Python 3 (ipykernel)",
   "language": "python",
   "name": "python3"
  },
  "language_info": {
   "codemirror_mode": {
    "name": "ipython",
    "version": 3
   },
   "file_extension": ".py",
   "mimetype": "text/x-python",
   "name": "python",
   "nbconvert_exporter": "python",
   "pygments_lexer": "ipython3",
   "version": "3.11.9"
  }
 },
 "nbformat": 4,
 "nbformat_minor": 5
}
