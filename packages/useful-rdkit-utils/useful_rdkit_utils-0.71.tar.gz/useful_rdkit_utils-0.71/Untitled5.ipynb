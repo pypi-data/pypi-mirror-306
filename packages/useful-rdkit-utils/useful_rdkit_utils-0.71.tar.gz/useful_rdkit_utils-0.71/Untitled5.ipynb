{
 "cells": [
  {
   "cell_type": "code",
   "execution_count": 20,
   "id": "883fae9d-6ce4-4ddb-b935-dfea92dad611",
   "metadata": {},
   "outputs": [],
   "source": [
    "from rdkit import Chem\n",
    "from rdkit.Chem import rdFingerprintGenerator\n",
    "import pandas as pd\n",
    "import useful_rdkit_utils as uru\n",
    "import numpy as np"
   ]
  },
  {
   "cell_type": "code",
   "execution_count": 21,
   "id": "8b687400-026e-41d9-af06-5c3fd7992d57",
   "metadata": {},
   "outputs": [],
   "source": [
    "df = pd.read_csv(\"/Users/pwalters/software/benchmark/data/biogen_logS.csv\")"
   ]
  },
  {
   "cell_type": "code",
   "execution_count": 22,
   "id": "bbc0bde8-7fd8-4eda-8108-80a5bf8134de",
   "metadata": {},
   "outputs": [],
   "source": [
    "fpgen = rdFingerprintGenerator.GetMorganGenerator()"
   ]
  },
  {
   "cell_type": "code",
   "execution_count": 23,
   "id": "e79e49e3-8675-48d1-97bc-8ed97c3691f0",
   "metadata": {},
   "outputs": [],
   "source": [
    "df['mol'] = df.SMILES.apply(Chem.MolFromSmiles)"
   ]
  },
  {
   "cell_type": "code",
   "execution_count": 24,
   "id": "7942c056-e6f7-47f5-947a-f536a36532bf",
   "metadata": {},
   "outputs": [],
   "source": [
    "df['fp'] = df.mol.apply(fpgen.GetCountFingerprintAsNumPy)"
   ]
  },
  {
   "cell_type": "code",
   "execution_count": 25,
   "id": "b80f8633-257c-4f17-9f54-1d71eb64989c",
   "metadata": {},
   "outputs": [],
   "source": [
    "df['bemis_murcko'] = uru.get_bemis_murcko_clusters(df.SMILES)"
   ]
  },
  {
   "cell_type": "code",
   "execution_count": 26,
   "id": "9b8b614f-fab5-484f-ba8e-3103c8f10168",
   "metadata": {},
   "outputs": [],
   "source": [
    "group_kfold_shuffle = uru.GroupKFoldShuffle(n_splits=5, shuffle=True)"
   ]
  },
  {
   "cell_type": "code",
   "execution_count": 29,
   "id": "21201a4c-d611-43fe-a46e-85f89bfaf0f7",
   "metadata": {},
   "outputs": [
    {
     "name": "stdout",
     "output_type": "stream",
     "text": [
      "1743 430 0.8021168890934193\n",
      "1718 455 0.7906120570639669\n",
      "1741 432 0.801196502531063\n",
      "1748 425 0.8044178554993097\n",
      "1742 431 0.8016566958122412\n"
     ]
    }
   ],
   "source": [
    "for train, test in group_kfold_shuffle.split(np.stack(df.fp),df.logS,df.bemis_murcko):\n",
    "    print(len(train),len(test),len(train)/len(df))"
   ]
  },
  {
   "cell_type": "code",
   "execution_count": null,
   "id": "7e6e1393-d7ac-48c8-bca5-ff1c1a86258b",
   "metadata": {},
   "outputs": [],
   "source": [
    "# 1. Read some data\n",
    "df = pd.read_csv(\"/Users/pwalters/software/benchmark/data/biogen_logS.csv\")\n",
    "# 2. Add an RDKit molecule to the dataframe\n",
    "df['mol'] = df.SMILES.apply(Chem.MolFromSmiles)\n",
    "# 3. Instantiate a fingerprint generator \n",
    "fpgen = rdFingerprintGenerator.GetMorganGenerator()\n",
    "# 4. Generate fingerprints as descriptors\n",
    "df['fp'] = df.mol.apply(fpgen.GetCountFingerprintAsNumPy)\n",
    "# 5. Generate groups based on Bemis-Murcko scaffolds \n",
    "df['bemis_murcko'] = uru.get_bemis_murcko_clusters(df.SMILES)\n",
    "# 6. Instantiate a GroupKFoldShuffle object with 5 splits\n",
    "group_kfold_shuffle = uru.GroupKFoldShuffle(n_splits=5, shuffle=True)\n",
    "# 7. Perform cross-validation\n",
    "for train, test in group_kfold_shuffle.split(np.stack(df.fp),df.logS,df.bemis_murcko):\n",
    "    print(len(train),len(test))\n",
    "\n"
   ]
  }
 ],
 "metadata": {
  "kernelspec": {
   "display_name": "Python 3 (ipykernel)",
   "language": "python",
   "name": "python3"
  },
  "language_info": {
   "codemirror_mode": {
    "name": "ipython",
    "version": 3
   },
   "file_extension": ".py",
   "mimetype": "text/x-python",
   "name": "python",
   "nbconvert_exporter": "python",
   "pygments_lexer": "ipython3",
   "version": "3.11.9"
  }
 },
 "nbformat": 4,
 "nbformat_minor": 5
}
