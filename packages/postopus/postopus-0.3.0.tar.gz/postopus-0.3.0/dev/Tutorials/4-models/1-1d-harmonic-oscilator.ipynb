{
 "cells": [
  {
   "cell_type": "markdown",
   "id": "0",
   "metadata": {},
   "source": [
    "# 1D Harmonic Oscillator\n",
    "[Link to tutorial](https://octopus-code.org/documentation/13/tutorial/model/1d_harmonic_oscillator/)"
   ]
  },
  {
   "cell_type": "code",
   "execution_count": null,
   "id": "1",
   "metadata": {},
   "outputs": [],
   "source": [
    "import os\n",
    "import pandas as pd\n",
    "import matplotlib.pyplot as plt\n",
    "from postopus import Run"
   ]
  },
  {
   "cell_type": "code",
   "execution_count": null,
   "id": "2",
   "metadata": {},
   "outputs": [],
   "source": [
    "!mkdir -p 1-1d-harmonic-oscilator"
   ]
  },
  {
   "cell_type": "code",
   "execution_count": null,
   "id": "3",
   "metadata": {},
   "outputs": [],
   "source": [
    "cd 1-1d-harmonic-oscilator"
   ]
  },
  {
   "cell_type": "code",
   "execution_count": null,
   "id": "4",
   "metadata": {},
   "outputs": [],
   "source": [
    "%%writefile inp\n",
    "\n",
    "stdout = 'stdout_gs.txt'\n",
    "stderr = 'stderr_gs.txt'\n",
    "\n",
    "FromScratch = yes\n",
    "CalculationMode = gs\n",
    "\n",
    "Dimensions = 1\n",
    "TheoryLevel = independent_particles\n",
    "\n",
    "Radius = 10\n",
    "Spacing = 0.1\n",
    "\n",
    "%Species\n",
    "  \"HO\" | species_user_defined | potential_formula | \"0.5*x^2\" | valence | 2\n",
    "%\n",
    "\n",
    "%Coordinates\n",
    "  \"HO\" | 0\n",
    "%\n"
   ]
  },
  {
   "cell_type": "code",
   "execution_count": null,
   "id": "5",
   "metadata": {},
   "outputs": [],
   "source": [
    "!octopus"
   ]
  },
  {
   "cell_type": "code",
   "execution_count": null,
   "id": "6",
   "metadata": {},
   "outputs": [],
   "source": [
    "run = Run(\".\")\n",
    "info = run.default.scf.info\n",
    "total_energy = [lines for lines in info if \"Total       = \" in lines][-1]\n",
    "total_energy = float(total_energy.split(\"=\")[-1])\n",
    "print(total_energy)"
   ]
  },
  {
   "cell_type": "code",
   "execution_count": null,
   "id": "7",
   "metadata": {},
   "outputs": [],
   "source": [
    "%%writefile inp\n",
    "\n",
    "stdout = 'stdout_unocc.txt'\n",
    "stderr = 'stderr_unocc.txt'\n",
    "\n",
    "FromScratch = yes\n",
    "CalculationMode = unocc\n",
    "\n",
    "Dimensions = 1\n",
    "TheoryLevel = independent_particles\n",
    "\n",
    "Radius = 10\n",
    "Spacing = 0.1\n",
    "\n",
    "%Species\n",
    "  \"HO\" | species_user_defined | potential_formula | \"0.5*x^2\" | valence | 2\n",
    "%\n",
    "\n",
    "%Coordinates\n",
    "  \"HO\" | 0\n",
    "%\n",
    "\n",
    "ExtraStates = 10\n",
    "\n",
    "%Output\n",
    "  wfs\n",
    "%\n",
    "OutputFormat = axis_x\n"
   ]
  },
  {
   "cell_type": "code",
   "execution_count": null,
   "id": "8",
   "metadata": {},
   "outputs": [],
   "source": [
    "!octopus"
   ]
  },
  {
   "cell_type": "code",
   "execution_count": null,
   "id": "9",
   "metadata": {},
   "outputs": [],
   "source": [
    "run = Run(\".\")\n",
    "wfs = run.default.scf.wf().isel(step=-1)\n",
    "for state in [1, 2, 4, 6]:\n",
    "    wf = wfs.sel(st=state).squeeze()\n",
    "    plt.plot(wf.x, wf.real, label=f\"$\\Psi_{state}$\")\n",
    "plt.legend();"
   ]
  },
  {
   "cell_type": "code",
   "execution_count": null,
   "id": "10",
   "metadata": {},
   "outputs": [],
   "source": [
    "run.default.scf.eigenvalues()"
   ]
  },
  {
   "cell_type": "code",
   "execution_count": null,
   "id": "11",
   "metadata": {},
   "outputs": [],
   "source": [
    "run"
   ]
  },
  {
   "cell_type": "markdown",
   "id": "12",
   "metadata": {},
   "source": [
    "[Go to *2-particle-in-a-box.ipynb*](2-particle-in-a-box.ipynb)"
   ]
  }
 ],
 "metadata": {
  "kernelspec": {
   "display_name": "Python 3 (ipykernel)",
   "language": "python",
   "name": "python3"
  },
  "language_info": {
   "codemirror_mode": {
    "name": "ipython",
    "version": 3
   },
   "file_extension": ".py",
   "mimetype": "text/x-python",
   "name": "python",
   "nbconvert_exporter": "python",
   "pygments_lexer": "ipython3",
   "version": "3.11.9"
  }
 },
 "nbformat": 4,
 "nbformat_minor": 5
}
