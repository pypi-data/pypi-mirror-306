{
 "cells": [
  {
   "cell_type": "markdown",
   "metadata": {},
   "source": [
    "# Example Notebook\n",
    "\n",
    "This notebook will load some sample data from wind and create a compressibility scalogram."
   ]
  },
  {
   "cell_type": "code",
   "execution_count": 2,
   "metadata": {},
   "outputs": [],
   "source": [
    "# install some packages\n",
    "# !pip install pyspedas\n",
    "# !pip install pandas\n",
    "# !pip install matplotlib\n",
    "\n",
    "# install the Time-Series-Scalogram package\n",
    "# !pip install Time-Series-Scalogram"
   ]
  },
  {
   "cell_type": "code",
   "execution_count": 19,
   "metadata": {},
   "outputs": [],
   "source": [
    "# load the ts_scalogram module\n",
    "from Time_Series_Scalogram import ts_scalogram\n",
    "\n",
    "# load pyspedas\n",
    "import pyspedas\n",
    "from pytplot import tplot, get_data, time_string\n",
    "\n",
    "# load pandas\n",
    "import pandas as pd\n",
    "\n",
    "# load numpy\n",
    "import numpy as np"
   ]
  },
  {
   "cell_type": "markdown",
   "metadata": {},
   "source": [
    "## Download Data"
   ]
  },
  {
   "cell_type": "code",
   "execution_count": 20,
   "metadata": {},
   "outputs": [
    {
     "name": "stderr",
     "output_type": "stream",
     "text": [
      "03-Nov-24 21:59:22: File is current: wind_data/wind_masters/wi_h4-rtn_mfi_00000000_v01.cdf\n",
      "03-Nov-24 21:59:22: Downloading remote index: https://spdf.gsfc.nasa.gov/pub/data/wind/mfi/mfi_h4-rtn/2018/\n",
      "03-Nov-24 21:59:23: File is current: wind_data/mfi/mfi_h4-rtn/2018/wi_h4-rtn_mfi_20180605_v05.cdf\n",
      "03-Nov-24 21:59:23: File is current: wind_data/mfi/mfi_h4-rtn/2018/wi_h4-rtn_mfi_20180606_v05.cdf\n",
      "03-Nov-24 21:59:24: File is current: wind_data/mfi/mfi_h4-rtn/2018/wi_h4-rtn_mfi_20180607_v05.cdf\n",
      "03-Nov-24 21:59:24: File is current: wind_data/mfi/mfi_h4-rtn/2018/wi_h4-rtn_mfi_20180608_v05.cdf\n"
     ]
    }
   ],
   "source": [
    "# download some wind data\n",
    "# case 375 from https://wind.nasa.gov/ICME_catalog/ICME_catalog_viewer.php\n",
    "\n",
    "t0 = pd.Timestamp('2018-06-06 11:23:00')\n",
    "t1 = pd.Timestamp('2018-06-07 08:29:00')\n",
    "dt = t1 - t0\n",
    "\n",
    "# load data from a larger window\n",
    "t00 = t0 - dt\n",
    "t11 = t1 + dt\n",
    "\n",
    "\n",
    "mfi_vars = pyspedas.wind.mfi(trange=[t00.strftime('%Y-%m-%d %H:%M:%S'), t11.strftime('%Y-%m-%d %H:%M:%S')], datatype='h4-rtn')\n",
    "mag_mfi = get_data('BRTN')\n",
    "index = [pd.Timestamp(x) for x in time_string(mag_mfi.times)]\n",
    "df_mfi = pd.DataFrame(mag_mfi.y, index=index, columns= ['Bx', 'By', 'Bz'])\n",
    "df_mfi['Btot'] = np.sqrt(df_mfi['Bx']**2 + df_mfi['By']**2 + df_mfi['Bz']**2)\n",
    "df_mfi.sort_index(inplace=True)"
   ]
  },
  {
   "cell_type": "markdown",
   "metadata": {},
   "source": [
    "## Process Data"
   ]
  },
  {
   "cell_type": "code",
   "execution_count": 21,
   "metadata": {},
   "outputs": [
    {
     "name": "stderr",
     "output_type": "stream",
     "text": [
      "03-Nov-24 22:05:12: /var/folders/g1/jbj1s_4x7wn1f67ffjt2_thm0000gn/T/ipykernel_75410/2715919445.py:7: FutureWarning: 'H' is deprecated and will be removed in a future version, please use 'h' instead.\n",
      "  upper_bound = ((index[-1] - index[0])/2).ceil('1H') # upper bound is half of the time range\n",
      "\n"
     ]
    }
   ],
   "source": [
    "# smooth |B|\n",
    "Btot = df_mfi['Btot'] # load magnetic magnitude\n",
    "Btot_smooth = Btot.apply(np.log10).rolling('5min').median().apply(lambda x: 10**x) # smooth the data with 5 minute log median\n",
    "Btot_normed = Btot/Btot_smooth # normalize the time series\n",
    "\n",
    "# calculate the windows\n",
    "upper_bound = ((index[-1] - index[0])/2).ceil('1H') # upper bound is half of the time range\n",
    "t_step = np.timedelta64(5, 'm') # a suitable time step\n",
    "yrange = [np.timedelta64(0,'m'), upper_bound] # range of the y axis\n",
    "num_wins = 10000\n",
    "win_step = t_step*2\n",
    "win0 = t_step * 2 # should be nX of t_step, where n is an integer, here I use 2\n",
    "wins = np.array(np.arange(num_wins)*win_step+win0, dtype = np.timedelta64) # list of \"raw\" windows\n",
    "ind = (wins >= yrange[0]) & (wins <= yrange[1]) # select the windows within the yrange\n",
    "wins = wins[ind] # final windows"
   ]
  },
  {
   "cell_type": "markdown",
   "metadata": {},
   "source": [
    "## Calculate the Scalogram"
   ]
  },
  {
   "cell_type": "code",
   "execution_count": 22,
   "metadata": {},
   "outputs": [
    {
     "ename": "ValueError",
     "evalue": "Please specify the absolute path of pixel_func.py",
     "output_type": "error",
     "traceback": [
      "\u001b[0;31m---------------------------------------------------------------------------\u001b[0m",
      "\u001b[0;31mModuleNotFoundError\u001b[0m                       Traceback (most recent call last)",
      "File \u001b[0;32m~/anaconda3/lib/python3.12/site-packages/Time_Series_Scalogram/ts_scalogram.py:59\u001b[0m, in \u001b[0;36mload_user_defined_function\u001b[0;34m(pixel_func_path)\u001b[0m\n\u001b[1;32m     58\u001b[0m \u001b[38;5;28;01mtry\u001b[39;00m:\n\u001b[0;32m---> 59\u001b[0m     \u001b[38;5;28;01mimport\u001b[39;00m \u001b[38;5;21;01mpixel_func\u001b[39;00m\n\u001b[1;32m     60\u001b[0m     func \u001b[38;5;241m=\u001b[39m pixel_func\u001b[38;5;241m.\u001b[39mfunc\n",
      "\u001b[0;31mModuleNotFoundError\u001b[0m: No module named 'pixel_func'",
      "\nDuring handling of the above exception, another exception occurred:\n",
      "\u001b[0;31mValueError\u001b[0m                                Traceback (most recent call last)",
      "Cell \u001b[0;32mIn[22], line 2\u001b[0m\n\u001b[1;32m      1\u001b[0m savpath \u001b[38;5;241m=\u001b[39m \u001b[38;5;124m\"\u001b[39m\u001b[38;5;124m./temp/\u001b[39m\u001b[38;5;124m\"\u001b[39m\n\u001b[0;32m----> 2\u001b[0m scans, settings \u001b[38;5;241m=\u001b[39m ts_scalogram\u001b[38;5;241m.\u001b[39mTimeSeriesScalogram(\n\u001b[1;32m      3\u001b[0m     Btot_normed,\n\u001b[1;32m      4\u001b[0m     wins,\n\u001b[1;32m      5\u001b[0m     t_step,\n\u001b[1;32m      6\u001b[0m     chunksize \u001b[38;5;241m=\u001b[39m \u001b[38;5;241m500\u001b[39m,\n\u001b[1;32m      7\u001b[0m     Ncores \u001b[38;5;241m=\u001b[39m \u001b[38;5;241m16\u001b[39m,\n\u001b[1;32m      8\u001b[0m     savpath \u001b[38;5;241m=\u001b[39m savpath\n\u001b[1;32m      9\u001b[0m )\n",
      "File \u001b[0;32m~/anaconda3/lib/python3.12/site-packages/Time_Series_Scalogram/ts_scalogram.py:111\u001b[0m, in \u001b[0;36mTimeSeriesScalogram\u001b[0;34m(series, wins, t_step, verbose, Ncores, step_win_ratio, savpath, savname, chunksize, pixel_func_path)\u001b[0m\n\u001b[1;32m     86\u001b[0m \u001b[38;5;28;01mdef\u001b[39;00m \u001b[38;5;21mTimeSeriesScalogram\u001b[39m(\n\u001b[1;32m     87\u001b[0m     series,\n\u001b[1;32m     88\u001b[0m     wins,\n\u001b[0;32m   (...)\u001b[0m\n\u001b[1;32m     96\u001b[0m     pixel_func_path \u001b[38;5;241m=\u001b[39m \u001b[38;5;28;01mNone\u001b[39;00m,\n\u001b[1;32m     97\u001b[0m ): \n\u001b[1;32m     99\u001b[0m \u001b[38;5;250m    \u001b[39m\u001b[38;5;124;03m\"\"\"\u001b[39;00m\n\u001b[1;32m    100\u001b[0m \u001b[38;5;124;03m    Time Series Scalogram\u001b[39;00m\n\u001b[1;32m    101\u001b[0m \u001b[38;5;124;03m    This function generate a 2D matrix with the pixel value determined by func. The y-axis is window size, and the x-axis is time.\u001b[39;00m\n\u001b[0;32m   (...)\u001b[0m\n\u001b[1;32m    108\u001b[0m \u001b[38;5;124;03m            \u001b[39;00m\n\u001b[1;32m    109\u001b[0m \u001b[38;5;124;03m    \"\"\"\u001b[39;00m\n\u001b[0;32m--> 111\u001b[0m     func \u001b[38;5;241m=\u001b[39m load_user_defined_function(pixel_func_path)\n\u001b[1;32m    113\u001b[0m     \u001b[38;5;66;03m# Calculate xgrid\u001b[39;00m\n\u001b[1;32m    114\u001b[0m     xinds_infos \u001b[38;5;241m=\u001b[39m calc_xinds(series\u001b[38;5;241m.\u001b[39mindex, t_step, use_pandas\u001b[38;5;241m=\u001b[39m\u001b[38;5;28;01mFalse\u001b[39;00m)\n",
      "File \u001b[0;32m~/anaconda3/lib/python3.12/site-packages/Time_Series_Scalogram/ts_scalogram.py:63\u001b[0m, in \u001b[0;36mload_user_defined_function\u001b[0;34m(pixel_func_path)\u001b[0m\n\u001b[1;32m     61\u001b[0m         \u001b[38;5;28mprint\u001b[39m(\u001b[38;5;124mf\u001b[39m\u001b[38;5;124m\"\u001b[39m\u001b[38;5;124mLoaded function from: \u001b[39m\u001b[38;5;132;01m{\u001b[39;00mpixel_func\u001b[38;5;241m.\u001b[39m\u001b[38;5;18m__file__\u001b[39m\u001b[38;5;132;01m}\u001b[39;00m\u001b[38;5;124m\"\u001b[39m)\n\u001b[1;32m     62\u001b[0m     \u001b[38;5;28;01mexcept\u001b[39;00m \u001b[38;5;167;01mImportError\u001b[39;00m:\n\u001b[0;32m---> 63\u001b[0m         \u001b[38;5;28;01mraise\u001b[39;00m \u001b[38;5;167;01mValueError\u001b[39;00m(\u001b[38;5;124m\"\u001b[39m\u001b[38;5;124mPlease specify the absolute path of pixel_func.py\u001b[39m\u001b[38;5;124m\"\u001b[39m)\n\u001b[1;32m     64\u001b[0m \u001b[38;5;28;01melse\u001b[39;00m:\n\u001b[1;32m     65\u001b[0m     \u001b[38;5;66;03m# Create a unique name for the module to avoid conflicts\u001b[39;00m\n\u001b[1;32m     66\u001b[0m     module_name \u001b[38;5;241m=\u001b[39m \u001b[38;5;124m\"\u001b[39m\u001b[38;5;124muser_pixel_func\u001b[39m\u001b[38;5;124m\"\u001b[39m\n",
      "\u001b[0;31mValueError\u001b[0m: Please specify the absolute path of pixel_func.py"
     ]
    }
   ],
   "source": [
    "savpath = \"./temp/\"\n",
    "scans, settings = ts_scalogram.TimeSeriesScalogram(\n",
    "    Btot_normed,\n",
    "    wins,\n",
    "    t_step,\n",
    "    chunksize = 500,\n",
    "    Ncores = 16,\n",
    "    savpath = savpath\n",
    ")"
   ]
  }
 ],
 "metadata": {
  "kernelspec": {
   "display_name": "base",
   "language": "python",
   "name": "python3"
  },
  "language_info": {
   "codemirror_mode": {
    "name": "ipython",
    "version": 3
   },
   "file_extension": ".py",
   "mimetype": "text/x-python",
   "name": "python",
   "nbconvert_exporter": "python",
   "pygments_lexer": "ipython3",
   "version": "3.12.7"
  }
 },
 "nbformat": 4,
 "nbformat_minor": 2
}
